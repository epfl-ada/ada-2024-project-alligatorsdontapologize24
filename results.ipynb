{
 "cells": [
  {
   "cell_type": "markdown",
   "metadata": {
    "jp-MarkdownHeadingCollapsed": true
   },
   "source": [
    "## Project Milestone 2 findings (scroll down for PM3 findings)"
   ]
  },
  {
   "cell_type": "markdown",
   "metadata": {},
   "source": [
    "### Imports"
   ]
  },
  {
   "cell_type": "code",
   "execution_count": 22,
   "metadata": {},
   "outputs": [],
   "source": [
    "import sys\n",
    "import os\n",
    "\n",
    "\n",
    "import pandas as pd\n",
    "import matplotlib.pyplot as plt\n",
    "import seaborn as sns\n",
    "import numpy as np\n",
    "\n",
    "import math\n",
    "from sklearn.linear_model import LinearRegression, Ridge, LogisticRegression\n",
    "from sklearn.model_selection import train_test_split\n",
    "from sklearn import metrics\n",
    "from sklearn.decomposition import PCA\n",
    "from sklearn.preprocessing import StandardScaler\n",
    "\n",
    "import importlib\n",
    "from empath import Empath\n",
    "import datetime\n",
    "\n",
    "#add path to script\n",
    "sys.path.append(os.path.abspath(\"../src/data/\"))\n",
    "sys.path.append(os.path.abspath(\"src/model/\"))\n",
    "sys.path.append(os.path.abspath(\"../src/plots_helper/\"))\n",
    "sys.path.append(os.path.abspath(\"src/utils/\"))\n",
    "\n",
    "from src.model.ARDL_model import *\n",
    "from src.utils.helper import *\n",
    "#import the DataLoader class\n",
    "from src.data.data_loading import DataLoader\n",
    "\n",
    "\n",
    "%matplotlib inline"
   ]
  },
  {
   "cell_type": "markdown",
   "metadata": {},
   "source": [
    "# Table of Contents  \n",
    "- [0. Data Cleaning](#datacleaning)\n",
    "    - [0.1 Movie Data](#moviedata)\n",
    "        - [0.1.1 CMU Data](#cmu_data)\n",
    "        - [0.1.2 Kaggle](#kaggle_data)\n",
    "        - [0.1.3 Use of Kaggle Data to mitigate issues of CMU Data](#fusionkagglecmu)\n",
    "    - [0.2 Real life Data](#reallifedata)"
   ]
  },
  {
   "cell_type": "markdown",
   "metadata": {},
   "source": [
    "## 0. Data Cleaning <a id=\"datacleaning\"></a>\n",
    "\n",
    "This first part of the notebook shows all the data cleaning steps. It has to be run once to obtain the cleaned data."
   ]
  },
  {
   "cell_type": "markdown",
   "metadata": {},
   "source": [
    "### 0.1 Movie Data <a id=\"moviedata\"></a>\n",
    "\n",
    "For our analysis, we will need 2 movie datasets: CMU Movies Dataset & Kaggle Movies Dataset. \\\n",
    "\\\n",
    "<b>Why 2 datasets ?</b> \\\n",
    "\\\n",
    "For our purpose, we need movie data and corresponding movie plots (CMU movie metadata & CMU plot summaries respectively). We will then restrict the analysis to American movies, leaving us with approximately half of the original dataset — 20,788 movies. \\\n",
    "Since our aim is to assess the correlation of the data with historical events, the release date is really important. We want to have the precise date, not just the year. However, dropping all rows where the date is not precise will cause us to lose a lot of data, as only 13,335 movies have precise dates. This is where the Kaggle dataset comes in. When the date is not precise, we will try to match the movie with the corresponding from this dataset and extract its date. Using this method, we recover a lot of data and end up with 17,077 movies.\n",
    "\n",
    "<b>Data preprocessing steps</b> \\\n",
    "We will apply the following pipeline:\n",
    "\n",
    "<ul>\n",
    "    <li>load CMU, plots and Kaggle datasets </li>\n",
    "    <li>CMU data preprocessing</li><ul>\n",
    "        <li>Remove unnecessary columns</li>\n",
    "        <li>Check for NaN values in plots</li>\n",
    "        <li>Merge CMU metadata and plots on Wikipedia ID — take only movies present in both</li>\n",
    "        <li>Convert plots to lowercase</li>\n",
    "        <li>Put each column of the movie metadata in the wanted format. For example, {\"/m/09c7w0\": \"United States of America\"} should become \"United States of America\"</li>\n",
    "        <li>Keep only American movies</li>\n",
    "    </ul>\n",
    "    <li>Kaggle data preprocessing</li><ul>\n",
    "        <li>Remove unnecessary columns</li>\n",
    "        <li>Put each column of the movie metadata in the correct format. For example, {\"/m/09c7w0\": \"United States of America\"} should become \"United States of America\"</li>\n",
    "        <li>Keep only American movies</li>\n",
    "        <li>Drop NaN values and duplicated rows (if present)</li>\n",
    "    </ul>\n",
    "    <li>For incomplete or missing dates, merge with the Kaggle dataset using the movie title, and ultimately the date</li>\n",
    "    <li>Check for outliers (e.g., incorrect dates)</li>\n",
    "    <li>Save the cleaned dataset</li>\n",
    "</ul>"
   ]
  },
  {
   "cell_type": "code",
   "execution_count": 23,
   "metadata": {},
   "outputs": [],
   "source": [
    "# Paths to the data folder\n",
    "raw = 'data/RAW/'\n",
    "clean = 'data/CLEAN'"
   ]
  },
  {
   "cell_type": "code",
   "execution_count": 24,
   "metadata": {},
   "outputs": [
    {
     "name": "stdout",
     "output_type": "stream",
     "text": [
      "\n",
      "load CMU movie metadata\n",
      "\n",
      "\n",
      "load plot data\n",
      "\n",
      "\n",
      "load GVD data\n",
      "\n",
      "\n",
      "load kaggle movie data\n",
      "\n"
     ]
    }
   ],
   "source": [
    "# Loader (see data_loading.py for the code regarding this function)\n",
    "data_loader = DataLoader(raw,clean)\n",
    "# Load raw data\n",
    "CMU_movie_metadata, CMU_plot_summary, GVD_data, Kaggle_movies_metadata = data_loader.load_all_data()"
   ]
  },
  {
   "cell_type": "markdown",
   "metadata": {
    "jp-MarkdownHeadingCollapsed": true
   },
   "source": [
    "#### 0.1.1 CMU metadata <a id=\"cmu_data\" ></a>"
   ]
  },
  {
   "cell_type": "code",
   "execution_count": 25,
   "metadata": {},
   "outputs": [
    {
     "data": {
      "text/html": [
       "<div>\n",
       "<style scoped>\n",
       "    .dataframe tbody tr th:only-of-type {\n",
       "        vertical-align: middle;\n",
       "    }\n",
       "\n",
       "    .dataframe tbody tr th {\n",
       "        vertical-align: top;\n",
       "    }\n",
       "\n",
       "    .dataframe thead th {\n",
       "        text-align: right;\n",
       "    }\n",
       "</style>\n",
       "<table border=\"1\" class=\"dataframe\">\n",
       "  <thead>\n",
       "    <tr style=\"text-align: right;\">\n",
       "      <th></th>\n",
       "      <th>Freebase movie ID</th>\n",
       "      <th>Movie name</th>\n",
       "      <th>Release date</th>\n",
       "      <th>Box office revenue</th>\n",
       "      <th>Runtime</th>\n",
       "      <th>Languages</th>\n",
       "      <th>Countries</th>\n",
       "      <th>Genres</th>\n",
       "    </tr>\n",
       "    <tr>\n",
       "      <th>Wikipedia movie ID</th>\n",
       "      <th></th>\n",
       "      <th></th>\n",
       "      <th></th>\n",
       "      <th></th>\n",
       "      <th></th>\n",
       "      <th></th>\n",
       "      <th></th>\n",
       "      <th></th>\n",
       "    </tr>\n",
       "  </thead>\n",
       "  <tbody>\n",
       "    <tr>\n",
       "      <th>975900</th>\n",
       "      <td>/m/03vyhn</td>\n",
       "      <td>Ghosts of Mars</td>\n",
       "      <td>2001-08-24</td>\n",
       "      <td>14010832.0</td>\n",
       "      <td>98.0</td>\n",
       "      <td>{\"/m/02h40lc\": \"English Language\"}</td>\n",
       "      <td>{\"/m/09c7w0\": \"United States of America\"}</td>\n",
       "      <td>{\"/m/01jfsb\": \"Thriller\", \"/m/06n90\": \"Science...</td>\n",
       "    </tr>\n",
       "    <tr>\n",
       "      <th>3196793</th>\n",
       "      <td>/m/08yl5d</td>\n",
       "      <td>Getting Away with Murder: The JonBenét Ramsey ...</td>\n",
       "      <td>2000-02-16</td>\n",
       "      <td>NaN</td>\n",
       "      <td>95.0</td>\n",
       "      <td>{\"/m/02h40lc\": \"English Language\"}</td>\n",
       "      <td>{\"/m/09c7w0\": \"United States of America\"}</td>\n",
       "      <td>{\"/m/02n4kr\": \"Mystery\", \"/m/03bxz7\": \"Biograp...</td>\n",
       "    </tr>\n",
       "    <tr>\n",
       "      <th>28463795</th>\n",
       "      <td>/m/0crgdbh</td>\n",
       "      <td>Brun bitter</td>\n",
       "      <td>1988</td>\n",
       "      <td>NaN</td>\n",
       "      <td>83.0</td>\n",
       "      <td>{\"/m/05f_3\": \"Norwegian Language\"}</td>\n",
       "      <td>{\"/m/05b4w\": \"Norway\"}</td>\n",
       "      <td>{\"/m/0lsxr\": \"Crime Fiction\", \"/m/07s9rl0\": \"D...</td>\n",
       "    </tr>\n",
       "  </tbody>\n",
       "</table>\n",
       "</div>"
      ],
      "text/plain": [
       "                   Freebase movie ID  \\\n",
       "Wikipedia movie ID                     \n",
       "975900                     /m/03vyhn   \n",
       "3196793                    /m/08yl5d   \n",
       "28463795                  /m/0crgdbh   \n",
       "\n",
       "                                                           Movie name  \\\n",
       "Wikipedia movie ID                                                      \n",
       "975900                                                 Ghosts of Mars   \n",
       "3196793             Getting Away with Murder: The JonBenét Ramsey ...   \n",
       "28463795                                                  Brun bitter   \n",
       "\n",
       "                   Release date  Box office revenue  Runtime  \\\n",
       "Wikipedia movie ID                                             \n",
       "975900               2001-08-24          14010832.0     98.0   \n",
       "3196793              2000-02-16                 NaN     95.0   \n",
       "28463795                   1988                 NaN     83.0   \n",
       "\n",
       "                                             Languages  \\\n",
       "Wikipedia movie ID                                       \n",
       "975900              {\"/m/02h40lc\": \"English Language\"}   \n",
       "3196793             {\"/m/02h40lc\": \"English Language\"}   \n",
       "28463795            {\"/m/05f_3\": \"Norwegian Language\"}   \n",
       "\n",
       "                                                    Countries  \\\n",
       "Wikipedia movie ID                                              \n",
       "975900              {\"/m/09c7w0\": \"United States of America\"}   \n",
       "3196793             {\"/m/09c7w0\": \"United States of America\"}   \n",
       "28463795                               {\"/m/05b4w\": \"Norway\"}   \n",
       "\n",
       "                                                               Genres  \n",
       "Wikipedia movie ID                                                     \n",
       "975900              {\"/m/01jfsb\": \"Thriller\", \"/m/06n90\": \"Science...  \n",
       "3196793             {\"/m/02n4kr\": \"Mystery\", \"/m/03bxz7\": \"Biograp...  \n",
       "28463795            {\"/m/0lsxr\": \"Crime Fiction\", \"/m/07s9rl0\": \"D...  "
      ]
     },
     "execution_count": 25,
     "metadata": {},
     "output_type": "execute_result"
    }
   ],
   "source": [
    "# Let's have a look at the raw CMU metadata first\n",
    "CMU_movie_metadata.head(3)"
   ]
  },
  {
   "cell_type": "code",
   "execution_count": 26,
   "metadata": {},
   "outputs": [
    {
     "data": {
      "text/html": [
       "<div>\n",
       "<style scoped>\n",
       "    .dataframe tbody tr th:only-of-type {\n",
       "        vertical-align: middle;\n",
       "    }\n",
       "\n",
       "    .dataframe tbody tr th {\n",
       "        vertical-align: top;\n",
       "    }\n",
       "\n",
       "    .dataframe thead th {\n",
       "        text-align: right;\n",
       "    }\n",
       "</style>\n",
       "<table border=\"1\" class=\"dataframe\">\n",
       "  <thead>\n",
       "    <tr style=\"text-align: right;\">\n",
       "      <th></th>\n",
       "      <th>Plot</th>\n",
       "    </tr>\n",
       "    <tr>\n",
       "      <th>Wikipedia movie ID</th>\n",
       "      <th></th>\n",
       "    </tr>\n",
       "  </thead>\n",
       "  <tbody>\n",
       "    <tr>\n",
       "      <th>23890098</th>\n",
       "      <td>Shlykov, a hard-working taxi driver and Lyosha...</td>\n",
       "    </tr>\n",
       "    <tr>\n",
       "      <th>31186339</th>\n",
       "      <td>The nation of Panem consists of a wealthy Capi...</td>\n",
       "    </tr>\n",
       "    <tr>\n",
       "      <th>20663735</th>\n",
       "      <td>Poovalli Induchoodan  is sentenced for six yea...</td>\n",
       "    </tr>\n",
       "  </tbody>\n",
       "</table>\n",
       "</div>"
      ],
      "text/plain": [
       "                                                                 Plot\n",
       "Wikipedia movie ID                                                   \n",
       "23890098            Shlykov, a hard-working taxi driver and Lyosha...\n",
       "31186339            The nation of Panem consists of a wealthy Capi...\n",
       "20663735            Poovalli Induchoodan  is sentenced for six yea..."
      ]
     },
     "execution_count": 26,
     "metadata": {},
     "output_type": "execute_result"
    }
   ],
   "source": [
    "# We will also have a look at the raw CMU plot summaries\n",
    "CMU_plot_summary.head(3)"
   ]
  },
  {
   "cell_type": "code",
   "execution_count": 27,
   "metadata": {},
   "outputs": [],
   "source": [
    "# Drop unnecessary columns in metadata\n",
    "CMU_movie_metadata.drop(['Freebase movie ID', 'Runtime'], axis=1,inplace=True)"
   ]
  },
  {
   "cell_type": "code",
   "execution_count": 28,
   "metadata": {},
   "outputs": [
    {
     "data": {
      "text/html": [
       "<div>\n",
       "<style scoped>\n",
       "    .dataframe tbody tr th:only-of-type {\n",
       "        vertical-align: middle;\n",
       "    }\n",
       "\n",
       "    .dataframe tbody tr th {\n",
       "        vertical-align: top;\n",
       "    }\n",
       "\n",
       "    .dataframe thead th {\n",
       "        text-align: right;\n",
       "    }\n",
       "</style>\n",
       "<table border=\"1\" class=\"dataframe\">\n",
       "  <thead>\n",
       "    <tr style=\"text-align: right;\">\n",
       "      <th></th>\n",
       "      <th>Plot</th>\n",
       "    </tr>\n",
       "    <tr>\n",
       "      <th>Wikipedia movie ID</th>\n",
       "      <th></th>\n",
       "    </tr>\n",
       "  </thead>\n",
       "  <tbody>\n",
       "  </tbody>\n",
       "</table>\n",
       "</div>"
      ],
      "text/plain": [
       "Empty DataFrame\n",
       "Columns: [Plot]\n",
       "Index: []"
      ]
     },
     "execution_count": 28,
     "metadata": {},
     "output_type": "execute_result"
    }
   ],
   "source": [
    "# Check for NAN in the plots\n",
    "CMU_plot_summary[CMU_plot_summary[\"Plot\"].isna()]"
   ]
  },
  {
   "cell_type": "code",
   "execution_count": 29,
   "metadata": {},
   "outputs": [],
   "source": [
    "# Merge the two datasets\n",
    "Movie_Data = CMU_movie_metadata.merge(CMU_plot_summary,left_index=True, right_index=True, how='inner')"
   ]
  },
  {
   "cell_type": "code",
   "execution_count": 30,
   "metadata": {},
   "outputs": [],
   "source": [
    "# Lower case the plot_summaries\n",
    "Movie_Data['Plot'] = Movie_Data['Plot'].str.lower()"
   ]
  },
  {
   "cell_type": "code",
   "execution_count": 31,
   "metadata": {},
   "outputs": [],
   "source": [
    "for name in ['Genres','Countries','Languages'] :\n",
    "    Movie_Data[name] = Movie_Data[name].apply(extract_data)"
   ]
  },
  {
   "cell_type": "code",
   "execution_count": 32,
   "metadata": {},
   "outputs": [
    {
     "data": {
      "text/plain": [
       "Countries\n",
       "United States of America                    17774\n",
       "India                                        4628\n",
       "                                             3312\n",
       "United Kingdom                               2284\n",
       "Japan                                        1157\n",
       "France                                        847\n",
       "Canada                                        663\n",
       "South Korea                                   650\n",
       "United States of America, United Kingdom      614\n",
       "Hong Kong                                     544\n",
       "Name: count, dtype: int64"
      ]
     },
     "execution_count": 32,
     "metadata": {},
     "output_type": "execute_result"
    }
   ],
   "source": [
    "# Look for where our movies come from\n",
    "Movie_Data[\"Countries\"].value_counts().head(10)"
   ]
  },
  {
   "cell_type": "markdown",
   "metadata": {},
   "source": [
    "Regarding the countries: we conclude that the majority of CMU movies comes from the US. Hence, we will restrict our analysis to the real world violence in the US, to then correlate it to the movies produced in this country in a relative period of time. Our plan is to investigate both the influence in movie violence on real world crimes and the influence of major violents events in history on \"on screen\" violence. "
   ]
  },
  {
   "cell_type": "code",
   "execution_count": 33,
   "metadata": {},
   "outputs": [],
   "source": [
    "# Keep only American movies\n",
    "Movie_Data = Movie_Data[Movie_Data['Countries'].str.contains(\"United States of America\", na=False)]"
   ]
  },
  {
   "cell_type": "code",
   "execution_count": 34,
   "metadata": {},
   "outputs": [
    {
     "name": "stdout",
     "output_type": "stream",
     "text": [
      "There are 20788 movies in the CMU dataset prior any preprocessing\n"
     ]
    }
   ],
   "source": [
    "# Look at the shape before any drop for dates\n",
    "Movie_Data.shape\n",
    "print(\"There are {} movies in the CMU dataset prior any preprocessing\".format(Movie_Data.shape[0]))"
   ]
  },
  {
   "cell_type": "code",
   "execution_count": 35,
   "metadata": {},
   "outputs": [],
   "source": [
    "# Find all movies where the date format is incomplete\n",
    "Movie_Data_date_wrong = Movie_Data[~Movie_Data['Release date'].str.match(r'^\\d{4}-\\d{2}-\\d{2}$', na=False)]"
   ]
  },
  {
   "cell_type": "code",
   "execution_count": 36,
   "metadata": {},
   "outputs": [
    {
     "name": "stdout",
     "output_type": "stream",
     "text": [
      "Number of movies with a complete date format: 13335\n"
     ]
    }
   ],
   "source": [
    "# Number of remaining datapoints if we drop all rows where the date format is incomplete\n",
    "Movie_Data.shape[0]-Movie_Data_date_wrong.shape[0]\n",
    "print(\"Number of movies with a complete date format: {}\".format(Movie_Data.shape[0]-Movie_Data_date_wrong.shape[0]))"
   ]
  },
  {
   "cell_type": "markdown",
   "metadata": {},
   "source": [
    "Uhm, not that many movies are left. Thus, let's turn to the Kaggle dataset to solve this issue. "
   ]
  },
  {
   "cell_type": "markdown",
   "metadata": {
    "jp-MarkdownHeadingCollapsed": true
   },
   "source": [
    "#### 0.1.2 Kaggle metadata"
   ]
  },
  {
   "cell_type": "code",
   "execution_count": 37,
   "metadata": {},
   "outputs": [
    {
     "data": {
      "text/html": [
       "<div>\n",
       "<style scoped>\n",
       "    .dataframe tbody tr th:only-of-type {\n",
       "        vertical-align: middle;\n",
       "    }\n",
       "\n",
       "    .dataframe tbody tr th {\n",
       "        vertical-align: top;\n",
       "    }\n",
       "\n",
       "    .dataframe thead th {\n",
       "        text-align: right;\n",
       "    }\n",
       "</style>\n",
       "<table border=\"1\" class=\"dataframe\">\n",
       "  <thead>\n",
       "    <tr style=\"text-align: right;\">\n",
       "      <th></th>\n",
       "      <th>adult</th>\n",
       "      <th>belongs_to_collection</th>\n",
       "      <th>budget</th>\n",
       "      <th>genres</th>\n",
       "      <th>homepage</th>\n",
       "      <th>id</th>\n",
       "      <th>imdb_id</th>\n",
       "      <th>original_language</th>\n",
       "      <th>original_title</th>\n",
       "      <th>overview</th>\n",
       "      <th>...</th>\n",
       "      <th>release_date</th>\n",
       "      <th>revenue</th>\n",
       "      <th>runtime</th>\n",
       "      <th>spoken_languages</th>\n",
       "      <th>status</th>\n",
       "      <th>tagline</th>\n",
       "      <th>title</th>\n",
       "      <th>video</th>\n",
       "      <th>vote_average</th>\n",
       "      <th>vote_count</th>\n",
       "    </tr>\n",
       "  </thead>\n",
       "  <tbody>\n",
       "    <tr>\n",
       "      <th>0</th>\n",
       "      <td>False</td>\n",
       "      <td>{'id': 10194, 'name': 'Toy Story Collection', ...</td>\n",
       "      <td>30000000</td>\n",
       "      <td>[{'id': 16, 'name': 'Animation'}, {'id': 35, '...</td>\n",
       "      <td>http://toystory.disney.com/toy-story</td>\n",
       "      <td>862</td>\n",
       "      <td>tt0114709</td>\n",
       "      <td>en</td>\n",
       "      <td>Toy Story</td>\n",
       "      <td>Led by Woody, Andy's toys live happily in his ...</td>\n",
       "      <td>...</td>\n",
       "      <td>1995-10-30</td>\n",
       "      <td>373554033.0</td>\n",
       "      <td>81.0</td>\n",
       "      <td>[{'iso_639_1': 'en', 'name': 'English'}]</td>\n",
       "      <td>Released</td>\n",
       "      <td>NaN</td>\n",
       "      <td>Toy Story</td>\n",
       "      <td>False</td>\n",
       "      <td>7.7</td>\n",
       "      <td>5415.0</td>\n",
       "    </tr>\n",
       "    <tr>\n",
       "      <th>1</th>\n",
       "      <td>False</td>\n",
       "      <td>NaN</td>\n",
       "      <td>65000000</td>\n",
       "      <td>[{'id': 12, 'name': 'Adventure'}, {'id': 14, '...</td>\n",
       "      <td>NaN</td>\n",
       "      <td>8844</td>\n",
       "      <td>tt0113497</td>\n",
       "      <td>en</td>\n",
       "      <td>Jumanji</td>\n",
       "      <td>When siblings Judy and Peter discover an encha...</td>\n",
       "      <td>...</td>\n",
       "      <td>1995-12-15</td>\n",
       "      <td>262797249.0</td>\n",
       "      <td>104.0</td>\n",
       "      <td>[{'iso_639_1': 'en', 'name': 'English'}, {'iso...</td>\n",
       "      <td>Released</td>\n",
       "      <td>Roll the dice and unleash the excitement!</td>\n",
       "      <td>Jumanji</td>\n",
       "      <td>False</td>\n",
       "      <td>6.9</td>\n",
       "      <td>2413.0</td>\n",
       "    </tr>\n",
       "    <tr>\n",
       "      <th>2</th>\n",
       "      <td>False</td>\n",
       "      <td>{'id': 119050, 'name': 'Grumpy Old Men Collect...</td>\n",
       "      <td>0</td>\n",
       "      <td>[{'id': 10749, 'name': 'Romance'}, {'id': 35, ...</td>\n",
       "      <td>NaN</td>\n",
       "      <td>15602</td>\n",
       "      <td>tt0113228</td>\n",
       "      <td>en</td>\n",
       "      <td>Grumpier Old Men</td>\n",
       "      <td>A family wedding reignites the ancient feud be...</td>\n",
       "      <td>...</td>\n",
       "      <td>1995-12-22</td>\n",
       "      <td>0.0</td>\n",
       "      <td>101.0</td>\n",
       "      <td>[{'iso_639_1': 'en', 'name': 'English'}]</td>\n",
       "      <td>Released</td>\n",
       "      <td>Still Yelling. Still Fighting. Still Ready for...</td>\n",
       "      <td>Grumpier Old Men</td>\n",
       "      <td>False</td>\n",
       "      <td>6.5</td>\n",
       "      <td>92.0</td>\n",
       "    </tr>\n",
       "  </tbody>\n",
       "</table>\n",
       "<p>3 rows × 24 columns</p>\n",
       "</div>"
      ],
      "text/plain": [
       "   adult                              belongs_to_collection    budget  \\\n",
       "0  False  {'id': 10194, 'name': 'Toy Story Collection', ...  30000000   \n",
       "1  False                                                NaN  65000000   \n",
       "2  False  {'id': 119050, 'name': 'Grumpy Old Men Collect...         0   \n",
       "\n",
       "                                              genres  \\\n",
       "0  [{'id': 16, 'name': 'Animation'}, {'id': 35, '...   \n",
       "1  [{'id': 12, 'name': 'Adventure'}, {'id': 14, '...   \n",
       "2  [{'id': 10749, 'name': 'Romance'}, {'id': 35, ...   \n",
       "\n",
       "                               homepage     id    imdb_id original_language  \\\n",
       "0  http://toystory.disney.com/toy-story    862  tt0114709                en   \n",
       "1                                   NaN   8844  tt0113497                en   \n",
       "2                                   NaN  15602  tt0113228                en   \n",
       "\n",
       "     original_title                                           overview  ...  \\\n",
       "0         Toy Story  Led by Woody, Andy's toys live happily in his ...  ...   \n",
       "1           Jumanji  When siblings Judy and Peter discover an encha...  ...   \n",
       "2  Grumpier Old Men  A family wedding reignites the ancient feud be...  ...   \n",
       "\n",
       "  release_date      revenue runtime  \\\n",
       "0   1995-10-30  373554033.0    81.0   \n",
       "1   1995-12-15  262797249.0   104.0   \n",
       "2   1995-12-22          0.0   101.0   \n",
       "\n",
       "                                    spoken_languages    status  \\\n",
       "0           [{'iso_639_1': 'en', 'name': 'English'}]  Released   \n",
       "1  [{'iso_639_1': 'en', 'name': 'English'}, {'iso...  Released   \n",
       "2           [{'iso_639_1': 'en', 'name': 'English'}]  Released   \n",
       "\n",
       "                                             tagline             title  video  \\\n",
       "0                                                NaN         Toy Story  False   \n",
       "1          Roll the dice and unleash the excitement!           Jumanji  False   \n",
       "2  Still Yelling. Still Fighting. Still Ready for...  Grumpier Old Men  False   \n",
       "\n",
       "  vote_average vote_count  \n",
       "0          7.7     5415.0  \n",
       "1          6.9     2413.0  \n",
       "2          6.5       92.0  \n",
       "\n",
       "[3 rows x 24 columns]"
      ]
     },
     "execution_count": 37,
     "metadata": {},
     "output_type": "execute_result"
    }
   ],
   "source": [
    "# Let's have a look at the data\n",
    "Kaggle_movies_metadata.head(3)"
   ]
  },
  {
   "cell_type": "code",
   "execution_count": 38,
   "metadata": {},
   "outputs": [],
   "source": [
    "# Keep only the rows of interest\n",
    "Kaggle_movies_metadata = Kaggle_movies_metadata[[\"production_countries\",\"release_date\",\"title\"]]"
   ]
  },
  {
   "cell_type": "code",
   "execution_count": 39,
   "metadata": {},
   "outputs": [
    {
     "data": {
      "text/plain": [
       "production_countries\n",
       "[{'iso_3166_1': 'US', 'name': 'United States of America'}]    17851\n",
       "[]                                                             6282\n",
       "[{'iso_3166_1': 'GB', 'name': 'United Kingdom'}]               2238\n",
       "[{'iso_3166_1': 'FR', 'name': 'France'}]                       1654\n",
       "[{'iso_3166_1': 'JP', 'name': 'Japan'}]                        1356\n",
       "[{'iso_3166_1': 'IT', 'name': 'Italy'}]                        1030\n",
       "[{'iso_3166_1': 'CA', 'name': 'Canada'}]                        840\n",
       "[{'iso_3166_1': 'DE', 'name': 'Germany'}]                       749\n",
       "[{'iso_3166_1': 'IN', 'name': 'India'}]                         735\n",
       "[{'iso_3166_1': 'RU', 'name': 'Russia'}]                        735\n",
       "Name: count, dtype: int64"
      ]
     },
     "execution_count": 39,
     "metadata": {},
     "output_type": "execute_result"
    }
   ],
   "source": [
    "# Check again the countries of production (spoiler: it's again the US)\n",
    "Kaggle_movies_metadata['production_countries'].value_counts().head(10)"
   ]
  },
  {
   "cell_type": "code",
   "execution_count": 40,
   "metadata": {},
   "outputs": [],
   "source": [
    "\n",
    "# Extract country of production for the Kaggle dataset\n",
    "def extract_country(text):\n",
    "    final_countries = \"\"\n",
    "    countries = ast.literal_eval(Kaggle_movies_metadata.production_countries[0])\n",
    "    for country in countries :\n",
    "        final_countries = final_countries + \" \" + country['name']\n",
    "    return final_countries \n",
    "\n",
    "Kaggle_movies_metadata.loc[:, 'production_countries'] = Kaggle_movies_metadata['production_countries'].apply(extract_country)"
   ]
  },
  {
   "cell_type": "code",
   "execution_count": 41,
   "metadata": {},
   "outputs": [
    {
     "name": "stdout",
     "output_type": "stream",
     "text": [
      "The resulting length of the Kaggle movies, when keeping only american is 45466.\n"
     ]
    }
   ],
   "source": [
    "# Keep only American movies\n",
    "Kaggle_movies_metadata = Kaggle_movies_metadata[Kaggle_movies_metadata['production_countries'].str.contains(\"United States of America\", na=False)]\n",
    "print(\"The resulting length of the Kaggle movies, when keeping only american is {}.\".format(len(Kaggle_movies_metadata)))"
   ]
  },
  {
   "cell_type": "code",
   "execution_count": 42,
   "metadata": {},
   "outputs": [
    {
     "name": "stdout",
     "output_type": "stream",
     "text": [
      "The resulting length of the Kaggle movies, when deleting nan values is 2.\n"
     ]
    }
   ],
   "source": [
    "# Drop NAN values\n",
    "Kaggle_movies_metadata.dropna(inplace=True)\n",
    "print(\"The resulting length of the Kaggle movies, when deleting nan values is {}.\".format(len(Kaggle_movies_metadata.shape)))"
   ]
  },
  {
   "cell_type": "code",
   "execution_count": 43,
   "metadata": {},
   "outputs": [
    {
     "name": "stdout",
     "output_type": "stream",
     "text": [
      "The resulting length of the Kaggle movies, when deleting duplicates is 45376.\n"
     ]
    }
   ],
   "source": [
    "# Drop full duplicates\n",
    "Kaggle_movies_metadata.drop_duplicates()\n",
    "print(\"The resulting length of the Kaggle movies, when deleting duplicates is {}.\".format(len(Kaggle_movies_metadata)))"
   ]
  },
  {
   "cell_type": "markdown",
   "metadata": {
    "jp-MarkdownHeadingCollapsed": true
   },
   "source": [
    "#### 0.1.3 Use of Kaggle Data to mitigate issues of CMU Data <a id=\"fusionkagglecmu\"></a>\n",
    "Now that we have our two datasets, we can handle the date & duplicates problems"
   ]
  },
  {
   "cell_type": "code",
   "execution_count": 44,
   "metadata": {},
   "outputs": [
    {
     "data": {
      "text/html": [
       "<div>\n",
       "<style scoped>\n",
       "    .dataframe tbody tr th:only-of-type {\n",
       "        vertical-align: middle;\n",
       "    }\n",
       "\n",
       "    .dataframe tbody tr th {\n",
       "        vertical-align: top;\n",
       "    }\n",
       "\n",
       "    .dataframe thead th {\n",
       "        text-align: right;\n",
       "    }\n",
       "</style>\n",
       "<table border=\"1\" class=\"dataframe\">\n",
       "  <thead>\n",
       "    <tr style=\"text-align: right;\">\n",
       "      <th></th>\n",
       "      <th>Movie name</th>\n",
       "      <th>Release date</th>\n",
       "      <th>Box office revenue</th>\n",
       "      <th>Languages</th>\n",
       "      <th>Countries</th>\n",
       "      <th>Genres</th>\n",
       "      <th>Plot</th>\n",
       "    </tr>\n",
       "    <tr>\n",
       "      <th>Wikipedia movie ID</th>\n",
       "      <th></th>\n",
       "      <th></th>\n",
       "      <th></th>\n",
       "      <th></th>\n",
       "      <th></th>\n",
       "      <th></th>\n",
       "      <th></th>\n",
       "    </tr>\n",
       "  </thead>\n",
       "  <tbody>\n",
       "    <tr>\n",
       "      <th>7884497</th>\n",
       "      <td>Dr. Jekyll and Mr. Hyde</td>\n",
       "      <td>1913-03-06</td>\n",
       "      <td>NaN</td>\n",
       "      <td>English Language</td>\n",
       "      <td>United States of America</td>\n",
       "      <td>Short Film, Science Fiction, Horror, Black-and...</td>\n",
       "      <td>dr. henry jekyll  sends a note to his fiancée,...</td>\n",
       "    </tr>\n",
       "    <tr>\n",
       "      <th>7883633</th>\n",
       "      <td>Dr. Jekyll and Mr. Hyde</td>\n",
       "      <td>1920-04</td>\n",
       "      <td>NaN</td>\n",
       "      <td>Silent film, English Language</td>\n",
       "      <td>United States of America</td>\n",
       "      <td>Silent film, Horror, Indie, Science Fiction, B...</td>\n",
       "      <td>at the first transformation starts with jekyll...</td>\n",
       "    </tr>\n",
       "    <tr>\n",
       "      <th>144774</th>\n",
       "      <td>Dr. Jekyll and Mr. Hyde</td>\n",
       "      <td>1931-12-31</td>\n",
       "      <td>NaN</td>\n",
       "      <td>English Language</td>\n",
       "      <td>United States of America</td>\n",
       "      <td>Science Fiction, Horror, Black-and-white, Dram...</td>\n",
       "      <td>the film tells the story of dr. henry jekyll ,...</td>\n",
       "    </tr>\n",
       "    <tr>\n",
       "      <th>3672796</th>\n",
       "      <td>Dr. Jekyll and Mr. Hyde</td>\n",
       "      <td>1920-03-18</td>\n",
       "      <td>NaN</td>\n",
       "      <td>Silent film, English Language</td>\n",
       "      <td>United States of America</td>\n",
       "      <td>Crime Fiction, Silent film, Horror, Science Fi...</td>\n",
       "      <td>henry jekyll  is a doctor of medicine, but he ...</td>\n",
       "    </tr>\n",
       "    <tr>\n",
       "      <th>2490751</th>\n",
       "      <td>Dr. Jekyll and Mr. Hyde</td>\n",
       "      <td>1941-08-12</td>\n",
       "      <td>1279000.0</td>\n",
       "      <td>English Language</td>\n",
       "      <td>United States of America</td>\n",
       "      <td>Science Fiction, Horror, Black-and-white</td>\n",
       "      <td>dr. jekyll  believes good and evil exist in ev...</td>\n",
       "    </tr>\n",
       "    <tr>\n",
       "      <th>7870349</th>\n",
       "      <td>Dr. Jekyll and Mr. Hyde</td>\n",
       "      <td>1908-03-07</td>\n",
       "      <td>NaN</td>\n",
       "      <td>Silent film</td>\n",
       "      <td>United States of America</td>\n",
       "      <td>Short Film, Silent film, Horror, Indie, Black-...</td>\n",
       "      <td>dr. jekyll and mr. hyde began with the raising...</td>\n",
       "    </tr>\n",
       "    <tr>\n",
       "      <th>7856323</th>\n",
       "      <td>Dr. Jekyll and Mr. Hyde</td>\n",
       "      <td>1912-01-16</td>\n",
       "      <td>NaN</td>\n",
       "      <td>English Language</td>\n",
       "      <td>United States of America</td>\n",
       "      <td>Short Film, Horror, Black-and-white</td>\n",
       "      <td>james cruze's white-haired dr. jekyll has secr...</td>\n",
       "    </tr>\n",
       "  </tbody>\n",
       "</table>\n",
       "</div>"
      ],
      "text/plain": [
       "                                 Movie name Release date  Box office revenue  \\\n",
       "Wikipedia movie ID                                                             \n",
       "7884497             Dr. Jekyll and Mr. Hyde   1913-03-06                 NaN   \n",
       "7883633             Dr. Jekyll and Mr. Hyde      1920-04                 NaN   \n",
       "144774              Dr. Jekyll and Mr. Hyde   1931-12-31                 NaN   \n",
       "3672796             Dr. Jekyll and Mr. Hyde   1920-03-18                 NaN   \n",
       "2490751             Dr. Jekyll and Mr. Hyde   1941-08-12           1279000.0   \n",
       "7870349             Dr. Jekyll and Mr. Hyde   1908-03-07                 NaN   \n",
       "7856323             Dr. Jekyll and Mr. Hyde   1912-01-16                 NaN   \n",
       "\n",
       "                                        Languages                 Countries  \\\n",
       "Wikipedia movie ID                                                            \n",
       "7884497                          English Language  United States of America   \n",
       "7883633             Silent film, English Language  United States of America   \n",
       "144774                           English Language  United States of America   \n",
       "3672796             Silent film, English Language  United States of America   \n",
       "2490751                          English Language  United States of America   \n",
       "7870349                               Silent film  United States of America   \n",
       "7856323                          English Language  United States of America   \n",
       "\n",
       "                                                               Genres  \\\n",
       "Wikipedia movie ID                                                      \n",
       "7884497             Short Film, Science Fiction, Horror, Black-and...   \n",
       "7883633             Silent film, Horror, Indie, Science Fiction, B...   \n",
       "144774              Science Fiction, Horror, Black-and-white, Dram...   \n",
       "3672796             Crime Fiction, Silent film, Horror, Science Fi...   \n",
       "2490751                      Science Fiction, Horror, Black-and-white   \n",
       "7870349             Short Film, Silent film, Horror, Indie, Black-...   \n",
       "7856323                           Short Film, Horror, Black-and-white   \n",
       "\n",
       "                                                                 Plot  \n",
       "Wikipedia movie ID                                                     \n",
       "7884497             dr. henry jekyll  sends a note to his fiancée,...  \n",
       "7883633             at the first transformation starts with jekyll...  \n",
       "144774              the film tells the story of dr. henry jekyll ,...  \n",
       "3672796             henry jekyll  is a doctor of medicine, but he ...  \n",
       "2490751             dr. jekyll  believes good and evil exist in ev...  \n",
       "7870349             dr. jekyll and mr. hyde began with the raising...  \n",
       "7856323             james cruze's white-haired dr. jekyll has secr...  "
      ]
     },
     "execution_count": 44,
     "metadata": {},
     "output_type": "execute_result"
    }
   ],
   "source": [
    "# An example\n",
    "Movie_Data[Movie_Data[\"Movie name\"] == \"Dr. Jekyll and Mr. Hyde\"]"
   ]
  },
  {
   "cell_type": "code",
   "execution_count": 45,
   "metadata": {},
   "outputs": [
    {
     "data": {
      "text/html": [
       "<div>\n",
       "<style scoped>\n",
       "    .dataframe tbody tr th:only-of-type {\n",
       "        vertical-align: middle;\n",
       "    }\n",
       "\n",
       "    .dataframe tbody tr th {\n",
       "        vertical-align: top;\n",
       "    }\n",
       "\n",
       "    .dataframe thead th {\n",
       "        text-align: right;\n",
       "    }\n",
       "</style>\n",
       "<table border=\"1\" class=\"dataframe\">\n",
       "  <thead>\n",
       "    <tr style=\"text-align: right;\">\n",
       "      <th></th>\n",
       "      <th>production_countries</th>\n",
       "      <th>release_date</th>\n",
       "      <th>title</th>\n",
       "    </tr>\n",
       "  </thead>\n",
       "  <tbody>\n",
       "    <tr>\n",
       "      <th>7055</th>\n",
       "      <td>United States of America</td>\n",
       "      <td>1941-08-12</td>\n",
       "      <td>Dr. Jekyll and Mr. Hyde</td>\n",
       "    </tr>\n",
       "    <tr>\n",
       "      <th>7823</th>\n",
       "      <td>United States of America</td>\n",
       "      <td>1931-12-31</td>\n",
       "      <td>Dr. Jekyll and Mr. Hyde</td>\n",
       "    </tr>\n",
       "    <tr>\n",
       "      <th>8294</th>\n",
       "      <td>United States of America</td>\n",
       "      <td>1920-03-18</td>\n",
       "      <td>Dr. Jekyll and Mr. Hyde</td>\n",
       "    </tr>\n",
       "    <tr>\n",
       "      <th>25134</th>\n",
       "      <td>United States of America</td>\n",
       "      <td>2008-05-17</td>\n",
       "      <td>Dr. Jekyll and Mr. Hyde</td>\n",
       "    </tr>\n",
       "  </tbody>\n",
       "</table>\n",
       "</div>"
      ],
      "text/plain": [
       "            production_countries release_date                    title\n",
       "7055    United States of America   1941-08-12  Dr. Jekyll and Mr. Hyde\n",
       "7823    United States of America   1931-12-31  Dr. Jekyll and Mr. Hyde\n",
       "8294    United States of America   1920-03-18  Dr. Jekyll and Mr. Hyde\n",
       "25134   United States of America   2008-05-17  Dr. Jekyll and Mr. Hyde"
      ]
     },
     "execution_count": 45,
     "metadata": {},
     "output_type": "execute_result"
    }
   ],
   "source": [
    "Kaggle_movies_metadata[Kaggle_movies_metadata[\"title\"] == \"Dr. Jekyll and Mr. Hyde\"]"
   ]
  },
  {
   "cell_type": "markdown",
   "metadata": {},
   "source": [
    "As we can see, some names are similar in both datasets, but there is no duplicate. They are different movies. \\\n",
    "We will take that into account for the date algorithm. "
   ]
  },
  {
   "cell_type": "code",
   "execution_count": 46,
   "metadata": {},
   "outputs": [],
   "source": [
    "# Iter on all rows of the wrong date dataset\n",
    "for index, row in Movie_Data_date_wrong.iterrows() :\n",
    "    # Is it in the Kaggle dataset ?\n",
    "    kaggle_data = Kaggle_movies_metadata[Kaggle_movies_metadata[\"title\"] == row[\"Movie name\"]]\n",
    "    \n",
    "    # If not, drop the row\n",
    "    if kaggle_data.empty :\n",
    "        #print(\"drop\")\n",
    "        Movie_Data.drop([index], inplace=True)\n",
    "\n",
    "    # If yes and only one, extract the date\n",
    "    elif kaggle_data.shape[0] == 1 :\n",
    "        #print(\"change\")\n",
    "        Movie_Data.loc[index,\"Release date\"] = kaggle_data.iloc[0][\"release_date\"]\n",
    "\n",
    "    # If multiple movies have this name in the Kaggle dataset, compare with the incomplete date of the CMU dataset\n",
    "    else :\n",
    "        date = Movie_Data_date_wrong.loc[index, \"Release date\"]\n",
    "\n",
    "        # If not the same year and not the year in the CMU, drop\n",
    "        if pd.isna(date) or len(date) < 4 :\n",
    "            Movie_Data.drop([index],inplace=True)\n",
    "\n",
    "        # Else, compare\n",
    "        else :\n",
    "            kaggle_data = kaggle_data[kaggle_data['release_date'].str[:4] == date[0:4]]\n",
    "\n",
    "            # Found only 1 movie this year ? extract the date !\n",
    "            if kaggle_data.shape[0] == 1 :\n",
    "                #print(\"found!\")\n",
    "                Movie_Data.loc[index,\"Release date\"] = kaggle_data.iloc[0][\"release_date\"]\n",
    "\n",
    "            # Give up\n",
    "            else :\n",
    "                #print(\"sad..\")\n",
    "                Movie_Data.drop([index], inplace=True)"
   ]
  },
  {
   "cell_type": "code",
   "execution_count": 47,
   "metadata": {},
   "outputs": [
    {
     "data": {
      "text/html": [
       "<div>\n",
       "<style scoped>\n",
       "    .dataframe tbody tr th:only-of-type {\n",
       "        vertical-align: middle;\n",
       "    }\n",
       "\n",
       "    .dataframe tbody tr th {\n",
       "        vertical-align: top;\n",
       "    }\n",
       "\n",
       "    .dataframe thead th {\n",
       "        text-align: right;\n",
       "    }\n",
       "</style>\n",
       "<table border=\"1\" class=\"dataframe\">\n",
       "  <thead>\n",
       "    <tr style=\"text-align: right;\">\n",
       "      <th></th>\n",
       "      <th>Movie name</th>\n",
       "      <th>Release date</th>\n",
       "      <th>Box office revenue</th>\n",
       "      <th>Languages</th>\n",
       "      <th>Countries</th>\n",
       "      <th>Genres</th>\n",
       "      <th>Plot</th>\n",
       "    </tr>\n",
       "    <tr>\n",
       "      <th>Wikipedia movie ID</th>\n",
       "      <th></th>\n",
       "      <th></th>\n",
       "      <th></th>\n",
       "      <th></th>\n",
       "      <th></th>\n",
       "      <th></th>\n",
       "      <th></th>\n",
       "    </tr>\n",
       "  </thead>\n",
       "  <tbody>\n",
       "    <tr>\n",
       "      <th>975900</th>\n",
       "      <td>Ghosts of Mars</td>\n",
       "      <td>2001-08-24</td>\n",
       "      <td>14010832.0</td>\n",
       "      <td>English Language</td>\n",
       "      <td>United States of America</td>\n",
       "      <td>Thriller, Science Fiction, Horror, Adventure, ...</td>\n",
       "      <td>set in the second half of the 22nd century, th...</td>\n",
       "    </tr>\n",
       "    <tr>\n",
       "      <th>6631279</th>\n",
       "      <td>Little city</td>\n",
       "      <td>1997-04-04</td>\n",
       "      <td>NaN</td>\n",
       "      <td>English Language</td>\n",
       "      <td>United States of America</td>\n",
       "      <td>Romantic comedy, Ensemble Film, Comedy-drama, ...</td>\n",
       "      <td>adam, a san francisco-based artist who works a...</td>\n",
       "    </tr>\n",
       "    <tr>\n",
       "      <th>77856</th>\n",
       "      <td>Mary Poppins</td>\n",
       "      <td>1964-08-27</td>\n",
       "      <td>102272727.0</td>\n",
       "      <td>English Language</td>\n",
       "      <td>United States of America</td>\n",
       "      <td>Children's/Family, Musical, Fantasy, Comedy, D...</td>\n",
       "      <td>the film opens with mary poppins  perched in a...</td>\n",
       "    </tr>\n",
       "  </tbody>\n",
       "</table>\n",
       "</div>"
      ],
      "text/plain": [
       "                        Movie name Release date  Box office revenue  \\\n",
       "Wikipedia movie ID                                                    \n",
       "975900              Ghosts of Mars   2001-08-24          14010832.0   \n",
       "6631279                Little city   1997-04-04                 NaN   \n",
       "77856                 Mary Poppins   1964-08-27         102272727.0   \n",
       "\n",
       "                           Languages                 Countries  \\\n",
       "Wikipedia movie ID                                               \n",
       "975900              English Language  United States of America   \n",
       "6631279             English Language  United States of America   \n",
       "77856               English Language  United States of America   \n",
       "\n",
       "                                                               Genres  \\\n",
       "Wikipedia movie ID                                                      \n",
       "975900              Thriller, Science Fiction, Horror, Adventure, ...   \n",
       "6631279             Romantic comedy, Ensemble Film, Comedy-drama, ...   \n",
       "77856               Children's/Family, Musical, Fantasy, Comedy, D...   \n",
       "\n",
       "                                                                 Plot  \n",
       "Wikipedia movie ID                                                     \n",
       "975900              set in the second half of the 22nd century, th...  \n",
       "6631279             adam, a san francisco-based artist who works a...  \n",
       "77856               the film opens with mary poppins  perched in a...  "
      ]
     },
     "execution_count": 47,
     "metadata": {},
     "output_type": "execute_result"
    }
   ],
   "source": [
    "Movie_Data.head(3)\n",
    "# Nice we kept 4000 more data !"
   ]
  },
  {
   "cell_type": "code",
   "execution_count": 48,
   "metadata": {},
   "outputs": [
    {
     "name": "stdout",
     "output_type": "stream",
     "text": [
      "We are thus left with: 17077 movies.\n"
     ]
    }
   ],
   "source": [
    "# We are thus left with:\n",
    "print(\"We are thus left with: {} movies.\".format(len(Movie_Data)))"
   ]
  },
  {
   "cell_type": "code",
   "execution_count": 49,
   "metadata": {},
   "outputs": [
    {
     "data": {
      "image/png": "[encoded data removed]",
      "text/plain": [
       "<Figure size 1000x600 with 1 Axes>"
      ]
     },
     "metadata": {},
     "output_type": "display_data"
    }
   ],
   "source": [
    "Date = Movie_Data[\"Release date\"].str[:4].astype(int)\n",
    "plt.figure(figsize=(10, 6))\n",
    "plt.hist(Date, bins=30, edgecolor='black')\n",
    "plt.title('Distribution of Release Years')\n",
    "plt.xlabel('Year')\n",
    "plt.ylabel('Frequency')\n",
    "plt.show()\n",
    "\n",
    "# Looks nice ! no outliers :)"
   ]
  },
  {
   "cell_type": "code",
   "execution_count": 50,
   "metadata": {},
   "outputs": [],
   "source": [
    "# Save the data \n",
    "#Movie_Data.to_csv(clean+\"/Movie_Data_clean.tsv\", sep=\"\\t\")"
   ]
  },
  {
   "cell_type": "markdown",
   "metadata": {},
   "source": [
    "### 0.2 Real World Violence Dataset  <a id=\"reallifedata\"></a>\n",
    "\n",
    "To be able to build analysis on real-violence we need additional data. We chose to keep two datasets that complement each other : GVD and NIBRS. The first provides an overview of violent deaths per year from 2004 to 2021, while the latter gives much more granular information. The aim is to pinpoint interesting set of years to dweleve in with NIBRS dataset, while having an overview thanks to GVD one. \n",
    "\n",
    "    \n",
    "⁠ **NIBRS, National Incident-Based Reporting System :** Offers daily-level crime data \n",
    "   -Source: https://cde.ucr.cjis.gov/LATEST/webapp/#/pages/downloads\n",
    "   -Description : Reported crimes to the FBI per state and per year with detailed information such as victims related ones, crime and so on. \n",
    "   - NIBRS data offers more precise informations about daily crimes as it provides the precise date of an incident. \n",
    "   - Each incident can easily be classified in order to keep only violent crimes.\n",
    "   - To go further, NIBRS can provide victim's injury, incident circumstances and if weapons were used during the incident.\n",
    "  \n",
    "*Data preprocessing step for NIBRS*\n",
    "We have applied the following step in order to have well-formated and useful data:\n",
    "<ul>\n",
    "<li>For each state all the yearly data need to be downloaded and stored with the following protocol: \n",
    "  \n",
    "\n",
    "Name_of_the_state folder\\\n",
    "├── XX-year1\\\n",
    "├── XX-year2\\\n",
    "├── XX-year3\\\n",
    "...\n",
    "</li>\n",
    "\n",
    "<li>⁠Iteration on each XX-year folder in order to modify in lowercase all the name and label of each file.</li>\n",
    "<li>⁠Merging of useful parameters:<ul>\n",
    "<li>incident_id ⁠: unique identifier of each incident</li>\n",
    "<li>incident_date ⁠: precise date of the incident</li>\n",
    "<li>offense_type_id ⁠: type of offense of the incident</li>\n",
    "<li>Help to get ⁠ offense_name ⁠ (e.g., Assault Offenses, Homicide Offenses)</li>\n",
    "<li>Help to get ⁠ crime_against ⁠ (e.g., Society, Person)</li>\n",
    "<li>arrestee_id ⁠: identifier of the arrestee</li>\n",
    "<li>weapon_id ⁠: identifier of the weapon used (if one was used)</li>\n",
    "<li>victim_id ⁠: identifier of the victim</li>\n",
    "<li>injury_id ⁠: identifier of victim injury</li>\n",
    "<li>circumstances_id ⁠: identifier of circumstances related to the incident</li>\n",
    "    </ul></li>\n",
    "<li>Data cleaning:⁠<ul>\n",
    "  <li> Keep only incidents with violent ⁠ offense_name⁠</li>\n",
    "  <li> Keep only incidents with ⁠ crime_against ⁠ = Person</li></ul></li>\n",
    "<li>Save the cleaned dataset</li>\n",
    "<ul>"
   ]
  },
  {
   "cell_type": "markdown",
   "metadata": {
    "jp-MarkdownHeadingCollapsed": true
   },
   "source": [
    "\n",
    "\n",
    "You'll find the entire database [here](https://www.dolthub.com/repositories/Liquidata/fbi-nibrs/data/main) to help to visualize the entire data.\n",
    "\n",
    "The downloaded data comes from the [**FBI Crime Data Explorer**](https://cde.ucr.cjis.gov/LATEST/webapp/#/pages/downloads).\n"
   ]
  },
  {
   "cell_type": "code",
   "execution_count": 51,
   "metadata": {},
   "outputs": [
    {
     "ename": "ModuleNotFoundError",
     "evalue": "No module named 'FBI_cleaning'",
     "output_type": "error",
     "traceback": [
      "\u001b[0;31m---------------------------------------------------------------------------\u001b[0m",
      "\u001b[0;31mModuleNotFoundError\u001b[0m                       Traceback (most recent call last)",
      "Cell \u001b[0;32mIn[51], line 2\u001b[0m\n\u001b[1;32m      1\u001b[0m \u001b[38;5;66;03m#import relative script \u001b[39;00m\n\u001b[0;32m----> 2\u001b[0m \u001b[38;5;28;01mimport\u001b[39;00m \u001b[38;5;21;01mFBI_cleaning\u001b[39;00m\n\u001b[1;32m      3\u001b[0m \u001b[38;5;28;01mimport\u001b[39;00m \u001b[38;5;21;01mFBI_merging\u001b[39;00m\n\u001b[1;32m      4\u001b[0m \u001b[38;5;28;01mimport\u001b[39;00m \u001b[38;5;21;01mFBI_analysis\u001b[39;00m\n",
      "\u001b[0;31mModuleNotFoundError\u001b[0m: No module named 'FBI_cleaning'"
     ]
    }
   ],
   "source": [
    "#import relative script \n",
    "import FBI_cleaning\n",
    "import FBI_merging\n",
    "import FBI_analysis\n",
    "\n",
    "from FBI_preprocess_folder import preprocess_files_in_directory\n",
    "from FBI_merging import process_state_data,merge_offense_types\n",
    "from FBI_analysis import analyze_incidents_and_missing_values,analyze_offenses\n",
    "from FBI_cleaning import filter_violent_offenses"
   ]
  },
  {
   "cell_type": "markdown",
   "metadata": {
    "jp-MarkdownHeadingCollapsed": true
   },
   "source": [
    "##### 0.2.1.1 load and merge the data (Alabama, as a first example)\n",
    "\n",
    "In order to have all reported incidents for a given state, we have the merge multiple datafiles. "
   ]
  },
  {
   "cell_type": "markdown",
   "metadata": {},
   "source": [
    "**Preprocessing**\n",
    "\n",
    "It is needed to do a preprocessing on each state folder in order to have only lowercase in the folder and label name. The function `preprocess_files_in_directory()` directly modify the folder name and labels in each file."
   ]
  },
  {
   "cell_type": "code",
   "execution_count": null,
   "metadata": {},
   "outputs": [],
   "source": [
    "# Define the base directory where Alabama data is stored\n",
    "state_dir = raw +'/Alabama'\n",
    "\n",
    "# Run the function to preprocess all files in the Alabama directory\n",
    "preprocess_files_in_directory(state_dir)"
   ]
  },
  {
   "cell_type": "markdown",
   "metadata": {
    "jp-MarkdownHeadingCollapsed": true
   },
   "source": [
    "**Merging interesting data**"
   ]
  },
  {
   "cell_type": "code",
   "execution_count": null,
   "metadata": {},
   "outputs": [],
   "source": [
    "# Define the output file\n",
    "output_file = os.path.join(state_dir, 'Alabama_merged_data.csv')\n",
    "\n",
    "# Process data for the state and save it\n",
    "final_data = process_state_data(state_dir, output_file)\n"
   ]
  },
  {
   "cell_type": "code",
   "execution_count": null,
   "metadata": {
    "scrolled": true
   },
   "outputs": [],
   "source": [
    "final_data"
   ]
  },
  {
   "cell_type": "markdown",
   "metadata": {},
   "source": [
    "**Let's visualize the data**"
   ]
  },
  {
   "cell_type": "code",
   "execution_count": null,
   "metadata": {},
   "outputs": [],
   "source": [
    "importlib.reload(FBI_analysis)\n",
    "\n",
    "# Analyze and visualize the incidents and missing values per column\n",
    "analyze_incidents_and_missing_values(final_data, 'incident_date', verbose=False)"
   ]
  },
  {
   "cell_type": "markdown",
   "metadata": {
    "jp-MarkdownHeadingCollapsed": true
   },
   "source": [
    "**Analysis Summary**\n",
    "From the bar plots, we observe the following:\n",
    "\n",
    "1. **Data concentration in 1991 and 1992:**\n",
    "   - The majority of the data is concentrated in the years 1991 and 1992, with very limited data for other years. This may limit the temporal analysis but provides a strong starting point for studying patterns in these two years.\n",
    "   - Further investigation across other states might help fill in data gaps for a more comprehensive view.\n",
    "2. **Missing `incident_date` values:**\n",
    "   - A few `incident_date` values are missing, specifically 14280. Despite these missing dates, the remaining data is largely complete.\n",
    "3. **Availability of `offense_type_id`:**\n",
    "    - All offense types are available, which is good for categorizing offenses based on our criteria for violence. This will help us to classify offenses and filter incidents related to violent behavior.\n",
    "4. **Missing Data for Specific Parameters:**\n",
    "    - Four key columns (`arrestee_id`, `weapon_id`, `injury_id`, and `circumstances_id`) show a significant number of missing values, as indicated in the NaN count plot.\n",
    "    - We hope additional data from other states can fill in some of these gaps. However, since offense types are available, we can still proceed with classification based on offenses alone.\n",
    "5. **Insights on Weapons and Injuries:**\n",
    "    - The weapon_id and injury_id columns, though missing some values, provide information on the type and severity of violence. While this missing data presents some limitations, the existing offense data could compensate.\n",
    "\n",
    "So, despite some missing values in specific columns, the precise date of the incident, the available offense data and partial details on weapons and injuries can provide a solid foundation for analyzing violent incidents. We can refine our approach further as more data becomes available from additional states."
   ]
  },
  {
   "cell_type": "code",
   "execution_count": null,
   "metadata": {},
   "outputs": [],
   "source": [
    "# Define the base directory where Alabama data is stored\n",
    "base_dir = '../../data/RAW/Alabama'\n",
    "state_prefix = 'AL'\n",
    "\n",
    "# Analyze and visualize the offenses\n",
    "analyze_offenses(final_data, base_dir, state_prefix, verbose=False)"
   ]
  },
  {
   "cell_type": "markdown",
   "metadata": {},
   "source": [
    "**Analysis of Offense Types**\n",
    "\n",
    "From the bar plots, we can say:\n",
    "\n",
    "1. **Unique offense types in `State_merged_data`:**\n",
    "    - The first plot shows the number of unique offense types present in the `State_merged_data`, in our example Alabama. We observe that a subset of approximately 45 unique offenses is available in the data.\n",
    "    - This means that the majority of incidents fall into well-defined and recurring offense categories. It will help us to categorize incidents reliably based on these established classifications.\n",
    "2. **Top 10 Most Frequent Offense Types:**\n",
    "    - The second plot displays the top 10 most frequently cited offense types in the dataset, along with their occurrence counts. Offenses like *Burglary/Breaking & Entering*, *All Other Larceny*, and *Simple Assault* are the most common.\n",
    "    - These recurring offenses serve as strong indicators for our analysis, particularly for categorizing incidents as violent or non-violent.\n",
    "  \n",
    "In summary, the offenses available in the NIBRS data for Alabama are not only varied but also recurrent, which provides a reliable basis for violent incident classification. The top 10 offenses illustrate the primary incident types and should help us for further analysis focused on identifying patterns of violent behavior."
   ]
  },
  {
   "cell_type": "markdown",
   "metadata": {
    "jp-MarkdownHeadingCollapsed": true
   },
   "source": [
    "##### 0.2.1.2 Clean the data (the case of Washington)\n",
    "\n",
    "After loading and merging the data for one state, we need to clean the data. We will use the case of the state of Washington"
   ]
  },
  {
   "cell_type": "code",
   "execution_count": null,
   "metadata": {},
   "outputs": [],
   "source": [
    "# Load the washington data\n",
    "WA_data_example = pd.read_csv(raw+\"/Washington/Washington_merged_data.csv\", index_col=0)\n",
    "WA_data_example"
   ]
  },
  {
   "cell_type": "markdown",
   "metadata": {},
   "source": [
    "In order to clean the data, we will use data that gives `offense_type`. To do so, we have to iterate through the years to get all offense types. We save the results in `offense_data`"
   ]
  },
  {
   "cell_type": "code",
   "execution_count": null,
   "metadata": {},
   "outputs": [],
   "source": [
    "importlib.reload(FBI_merging)\n",
    "\n",
    "offense_data = merge_offense_types(raw +'/Washington', 'WA')"
   ]
  },
  {
   "cell_type": "markdown",
   "metadata": {},
   "source": [
    "To clean a state data (in our example Washington), we have to keep only violent incidents. As a proof of concept, we will only focus on 2 parameters used in `offense_data`:\n",
    "-  crime against a `Person`\n",
    "-  violent categories found in `offense_category_name`"
   ]
  },
  {
   "cell_type": "code",
   "execution_count": null,
   "metadata": {},
   "outputs": [],
   "source": [
    "# Visualize offense_data\n",
    "offense_data"
   ]
  },
  {
   "cell_type": "code",
   "execution_count": null,
   "metadata": {},
   "outputs": [],
   "source": [
    "# Example of violent categories and targets used in filter_violent_offenses\n",
    "# violent_categories = [\n",
    "#         \"Assault Offenses\", \"Homicide Offenses\", \"Sex Offenses\", \"Kidnapping/Abduction\", \"Animal Cruelty\"]\n",
    "#     violent_targets = [\"Person\"]  # Offenses against a person\n",
    "\n",
    "# Clean the data by filtering out non-violent offenses\n",
    "WA_cleaned_data = filter_violent_offenses(WA_data_example, offense_data)\n",
    "\n",
    "# Save the cleaned data\n",
    "state_clean_dir = clean\n",
    "output_file = os.path.join(state_clean_dir, 'Washington_cleaned_data.csv')\n",
    "\n",
    "WA_cleaned_data.to_csv(output_file, index=False)"
   ]
  },
  {
   "cell_type": "code",
   "execution_count": null,
   "metadata": {},
   "outputs": [],
   "source": [
    "WA_cleaned_data"
   ]
  },
  {
   "cell_type": "markdown",
   "metadata": {},
   "source": [
    "**Comparison before/after cleaning**"
   ]
  },
  {
   "cell_type": "code",
   "execution_count": null,
   "metadata": {},
   "outputs": [],
   "source": [
    "importlib.reload(FBI_analysis)\n",
    "\n",
    "# Analyze and visualize the incidents and missing values per column\n",
    "analyze_incidents_and_missing_values(WA_data_example, 'incident_date', verbose=False)"
   ]
  },
  {
   "cell_type": "code",
   "execution_count": null,
   "metadata": {},
   "outputs": [],
   "source": [
    "# Analyze and visualize the incidents and missing values per column\n",
    "analyze_incidents_and_missing_values(WA_cleaned_data, 'incident_date', verbose=False)"
   ]
  },
  {
   "cell_type": "code",
   "execution_count": null,
   "metadata": {},
   "outputs": [],
   "source": [
    "# Define the base directory where Alabama data is stored\n",
    "base_dir = raw +'/Washington'\n",
    "state_prefix = 'WA'\n",
    "\n",
    "# Analyze and visualize the offenses\n",
    "analyze_offenses(WA_cleaned_data, base_dir, state_prefix, verbose=False)"
   ]
  },
  {
   "cell_type": "markdown",
   "metadata": {},
   "source": [
    "The first plot shows that the majority of incidents fall into well-defined and recurring offense categories. It will help us to categorize incidents reliably based on these established classifications\n",
    "\n",
    "The second plot shows that the top 10 most reccurent violent offense."
   ]
  },
  {
   "cell_type": "markdown",
   "metadata": {
    "jp-MarkdownHeadingCollapsed": true
   },
   "source": [
    "### 0.3 Human labelled data\n",
    "\n",
    "For your project, we needed to assign to each movie a violence level. We therefore performed a human-labelling steps to create a training/validation set. This data also need to be cleaned.\n",
    "\n",
    "<b> First step: labelling the Data </b> \\\n",
    "Since labeled data is required for analysis, we manually labeled a subset of the dataset. We divided part of the data among team members and, to ensure the subjectivity of the labeling process, we had some plots labeled multiple times by external participants. Each movie plot was classified based on a categorical scale:\n",
    "<ul>\n",
    "    <li><b>-1</b> : Peaceful</li>\n",
    "    <li><b>0</b> : Mild</li>\n",
    "    <li><b>1</b> : Violent</li>\n",
    "</ul>\n",
    "\n",
    "<b>Data preprocessing steps</b> \\\n",
    "We will apply the following pipeline:\n",
    "\n",
    "<ul>\n",
    "    <li>load The data</li>\n",
    "    <li>Assess the subjectivity of the data</li>\n",
    "    <li>Make each label unique</li>\n",
    "    <li>Save the data</li>\n",
    "</ul>"
   ]
  },
  {
   "cell_type": "code",
   "execution_count": 53,
   "metadata": {
    "scrolled": true
   },
   "outputs": [
    {
     "data": {
      "text/html": [
       "<div>\n",
       "<style scoped>\n",
       "    .dataframe tbody tr th:only-of-type {\n",
       "        vertical-align: middle;\n",
       "    }\n",
       "\n",
       "    .dataframe tbody tr th {\n",
       "        vertical-align: top;\n",
       "    }\n",
       "\n",
       "    .dataframe thead th {\n",
       "        text-align: right;\n",
       "    }\n",
       "</style>\n",
       "<table border=\"1\" class=\"dataframe\">\n",
       "  <thead>\n",
       "    <tr style=\"text-align: right;\">\n",
       "      <th></th>\n",
       "      <th>Violence level</th>\n",
       "      <th>Label</th>\n",
       "    </tr>\n",
       "  </thead>\n",
       "  <tbody>\n",
       "    <tr>\n",
       "      <th>0</th>\n",
       "      <td>Peaceful</td>\n",
       "      <td>-1</td>\n",
       "    </tr>\n",
       "    <tr>\n",
       "      <th>1</th>\n",
       "      <td>Mild</td>\n",
       "      <td>0</td>\n",
       "    </tr>\n",
       "    <tr>\n",
       "      <th>2</th>\n",
       "      <td>Violent</td>\n",
       "      <td>1</td>\n",
       "    </tr>\n",
       "  </tbody>\n",
       "</table>\n",
       "</div>"
      ],
      "text/plain": [
       "  Violence level  Label\n",
       "0       Peaceful     -1\n",
       "1           Mild      0\n",
       "2        Violent      1"
      ]
     },
     "metadata": {},
     "output_type": "display_data"
    },
    {
     "data": {
      "text/html": [
       "<div>\n",
       "<style scoped>\n",
       "    .dataframe tbody tr th:only-of-type {\n",
       "        vertical-align: middle;\n",
       "    }\n",
       "\n",
       "    .dataframe tbody tr th {\n",
       "        vertical-align: top;\n",
       "    }\n",
       "\n",
       "    .dataframe thead th {\n",
       "        text-align: right;\n",
       "    }\n",
       "</style>\n",
       "<table border=\"1\" class=\"dataframe\">\n",
       "  <thead>\n",
       "    <tr style=\"text-align: right;\">\n",
       "      <th></th>\n",
       "      <th>Answer</th>\n",
       "      <th>Date</th>\n",
       "      <th>LAST</th>\n",
       "    </tr>\n",
       "    <tr>\n",
       "      <th>Wikipedia movie ID</th>\n",
       "      <th></th>\n",
       "      <th></th>\n",
       "      <th></th>\n",
       "    </tr>\n",
       "  </thead>\n",
       "  <tbody>\n",
       "    <tr>\n",
       "      <th>19286405</th>\n",
       "      <td>0</td>\n",
       "      <td>11.11</td>\n",
       "      <td>0</td>\n",
       "    </tr>\n",
       "    <tr>\n",
       "      <th>6714641</th>\n",
       "      <td>1</td>\n",
       "      <td>11.11</td>\n",
       "      <td>0</td>\n",
       "    </tr>\n",
       "    <tr>\n",
       "      <th>27573594</th>\n",
       "      <td>1</td>\n",
       "      <td>11.11</td>\n",
       "      <td>0</td>\n",
       "    </tr>\n",
       "  </tbody>\n",
       "</table>\n",
       "</div>"
      ],
      "text/plain": [
       "                    Answer  Date   LAST\n",
       "Wikipedia movie ID                     \n",
       "19286405                 0  11.11     0\n",
       "6714641                  1  11.11     0\n",
       "27573594                 1  11.11     0"
      ]
     },
     "metadata": {},
     "output_type": "display_data"
    }
   ],
   "source": [
    "#load the labelled data\n",
    "ViolentLabel,ViolentData = data_loader.human_labelled_data(\"Raw\")\n",
    "display(ViolentLabel)\n",
    "display(ViolentData.head(3))\n",
    "# LAST is  boolean to recognize the point we added to help the analysis, more explanation after"
   ]
  },
  {
   "cell_type": "markdown",
   "metadata": {},
   "source": [
    "#### 0.3.1 Assess subjectivity and clean the data\n",
    "\n",
    "Some data have been labelled several times by several people, to assess the subjectivity of the labelling task. \\\n",
    "Let's visualize the data.\n",
    "Here we will plot only datapoint that have been labelled at least 2 times. "
   ]
  },
  {
   "cell_type": "code",
   "execution_count": 54,
   "metadata": {
    "scrolled": true
   },
   "outputs": [
    {
     "data": {
      "image/png": "[encoded data removed]",
      "text/plain": [
       "<Figure size 1200x600 with 1 Axes>"
      ]
     },
     "metadata": {},
     "output_type": "display_data"
    }
   ],
   "source": [
    "DataBefore = ViolentData[ViolentData[\"LAST\"] == 0]\n",
    "duplicated_data = DataBefore[DataBefore.index.duplicated(keep=False)]\n",
    "\n",
    "# Plot all duplicates in one figure with side-by-side boxplots\n",
    "plt.figure(figsize=(12, 6))\n",
    "sns.boxplot(data=duplicated_data, x=\"Wikipedia movie ID\", y=\"Answer\")\n",
    "\n",
    "# Add labels and title\n",
    "plt.title(\"Box Plot of 'Answer' by Duplicated Wikipedia IDs\")\n",
    "plt.xlabel(\"Wikipedia ID\")\n",
    "plt.xticks(rotation=90)\n",
    "plt.ylabel(\"Answer Value\")\n",
    "\n",
    "plt.show()"
   ]
  },
  {
   "cell_type": "code",
   "execution_count": 55,
   "metadata": {},
   "outputs": [
    {
     "name": "stdout",
     "output_type": "stream",
     "text": [
      "We have 146 labelled plots\n",
      "We have 79 duplicated labelling\n",
      "We have 25 datapoint with different labels\n"
     ]
    }
   ],
   "source": [
    "print(\"We have\",len(DataBefore.index.unique()),\"labelled plots\")\n",
    "print(\"We have\",len(duplicated_data.index.unique()),\"duplicated labelling\")\n",
    "print(\"We have\",(duplicated_data.groupby(\"Wikipedia movie ID\")[\"Answer\"].nunique() > 1).sum(),\"datapoint with different labels\")"
   ]
  },
  {
   "cell_type": "code",
   "execution_count": 56,
   "metadata": {
    "scrolled": true
   },
   "outputs": [
    {
     "data": {
      "text/plain": [
       "1    67\n",
       "2    40\n",
       "3    36\n",
       "4     2\n",
       "6     1\n",
       "Name: count, dtype: int64"
      ]
     },
     "execution_count": 56,
     "metadata": {},
     "output_type": "execute_result"
    }
   ],
   "source": [
    "DataBefore.groupby(\"Wikipedia movie ID\").size().value_counts().sort_index()"
   ]
  },
  {
   "cell_type": "markdown",
   "metadata": {},
   "source": [
    "The task is more difficult than expected ! \\\n",
    "A majority of duplicated labelling show the same output. However, we have different value for 24 points.\n",
    "Additionnaly, for 3 points we have the 3 answers ! We will take a closer look to this point and to the point with opposite labels."
   ]
  },
  {
   "cell_type": "code",
   "execution_count": 57,
   "metadata": {
    "scrolled": true
   },
   "outputs": [
    {
     "data": {
      "image/png": "[encoded data removed]",
      "text/plain": [
       "<Figure size 1200x600 with 1 Axes>"
      ]
     },
     "metadata": {},
     "output_type": "display_data"
    }
   ],
   "source": [
    "OppositeLabels = duplicated_data.groupby(\"Wikipedia movie ID\").filter( lambda group: set([-1, 1]).issubset(group[\"Answer\"].unique()))\n",
    "\n",
    "# Plot all duplicates in one figure with side-by-side boxplots\n",
    "plt.figure(figsize=(12, 6))\n",
    "sns.swarmplot(data=OppositeLabels, x=\"Wikipedia movie ID\", y=\"Answer\", size=20)\n",
    "\n",
    "# Add labels and title\n",
    "plt.title(\"Movie with opposite labels\")\n",
    "plt.xlabel(\"Wikipedia ID\")\n",
    "plt.xticks(rotation=90)\n",
    "plt.ylabel(\"Answer Value\")\n",
    "\n",
    "plt.show()"
   ]
  },
  {
   "cell_type": "code",
   "execution_count": 58,
   "metadata": {},
   "outputs": [
    {
     "data": {
      "text/plain": [
       "'after serving time for the attempted murder of his first wife, the main character, a doctor, begins plotting to kill his second.'"
      ]
     },
     "metadata": {},
     "output_type": "display_data"
    },
    {
     "name": "stdout",
     "output_type": "stream",
     "text": [
      "\n",
      "\n",
      "\n"
     ]
    },
    {
     "data": {
      "text/plain": [
       "'a lewd old lady claiming to be mother goose has been put on trial for obscenity, and the evidence being presented is a collection of pornographic animated shorts. little red riding hood, jack of jack and the beanstalk fame, cinderella and snow white are among the most notable participants in what becomes an all out fairy tale orgy.'"
      ]
     },
     "metadata": {},
     "output_type": "display_data"
    },
    {
     "name": "stdout",
     "output_type": "stream",
     "text": [
      "\n",
      "\n",
      "\n"
     ]
    },
    {
     "data": {
      "text/plain": [
       "'the gang tries to escape their babysitting chores by coercing spanky to mind their baby brothers and sisters while they go swimming. unfortunately, the infants would prefer to run  amok, forcing spanky to take desperate measures.<ref namehttp://movies.nytimes.com/movie/225666/forgotten-babies/overview |title2008-09-19|work=ny times}}'"
      ]
     },
     "metadata": {},
     "output_type": "display_data"
    },
    {
     "name": "stdout",
     "output_type": "stream",
     "text": [
      "\n",
      "\n",
      "\n"
     ]
    }
   ],
   "source": [
    "for plot in Movie_Data.loc[OppositeLabels.index.unique()][\"Plot\"] :\n",
    "    display(plot)\n",
    "    print(\"\\n\\n\")"
   ]
  },
  {
   "cell_type": "markdown",
   "metadata": {},
   "source": [
    "We can distinguish 3 types of datapoints :\n",
    "- have been labeled multiple times with always the same label : We keep this label.\n",
    "- have been labeled multiple times with different labels but the mean is closer to 1 label (example 3 labels (0,0,1)) : we could keep the label closest to the mean, we will take a deep look and relabel if necessary.\n",
    "- have been labeled multiple times with different labels and the mean is exactly between 2 labels : We will take a closer look and re-label by another person.\n",
    "\n",
    "After relabelling, here is the result"
   ]
  },
  {
   "cell_type": "code",
   "execution_count": 59,
   "metadata": {
    "scrolled": true
   },
   "outputs": [
    {
     "data": {
      "image/png": "[encoded data removed]",
      "text/plain": [
       "<Figure size 1200x600 with 1 Axes>"
      ]
     },
     "metadata": {},
     "output_type": "display_data"
    }
   ],
   "source": [
    "duplicated_data_clean = ViolentData[ViolentData.index.duplicated(keep=False)]\n",
    "\n",
    "# Plot all duplicates in one figure with side-by-side boxplots\n",
    "plt.figure(figsize=(12, 6))\n",
    "sns.boxplot(data=duplicated_data_clean, x=\"Wikipedia movie ID\", y=\"Answer\")\n",
    "\n",
    "# Add labels and title\n",
    "plt.title(\"Box Plot of 'Answer' by Duplicated Wikipedia IDs\")\n",
    "plt.xlabel(\"Wikipedia ID\")\n",
    "plt.xticks(rotation=90)\n",
    "plt.ylabel(\"Answer Value\")\n",
    "\n",
    "plt.show()"
   ]
  },
  {
   "cell_type": "code",
   "execution_count": 60,
   "metadata": {},
   "outputs": [
    {
     "data": {
      "text/plain": [
       "1    67\n",
       "2    31\n",
       "3    32\n",
       "4    11\n",
       "5     4\n",
       "7     1\n",
       "Name: count, dtype: int64"
      ]
     },
     "execution_count": 60,
     "metadata": {},
     "output_type": "execute_result"
    }
   ],
   "source": [
    "ViolentData.groupby(\"Wikipedia movie ID\").size().value_counts().sort_index()"
   ]
  },
  {
   "cell_type": "code",
   "execution_count": 61,
   "metadata": {},
   "outputs": [
    {
     "data": {
      "text/html": [
       "<div>\n",
       "<style scoped>\n",
       "    .dataframe tbody tr th:only-of-type {\n",
       "        vertical-align: middle;\n",
       "    }\n",
       "\n",
       "    .dataframe tbody tr th {\n",
       "        vertical-align: top;\n",
       "    }\n",
       "\n",
       "    .dataframe thead th {\n",
       "        text-align: right;\n",
       "    }\n",
       "</style>\n",
       "<table border=\"1\" class=\"dataframe\">\n",
       "  <thead>\n",
       "    <tr style=\"text-align: right;\">\n",
       "      <th></th>\n",
       "      <th>Answer</th>\n",
       "    </tr>\n",
       "    <tr>\n",
       "      <th>Wikipedia movie ID</th>\n",
       "      <th></th>\n",
       "    </tr>\n",
       "  </thead>\n",
       "  <tbody>\n",
       "    <tr>\n",
       "      <th>113454</th>\n",
       "      <td>0.0</td>\n",
       "    </tr>\n",
       "    <tr>\n",
       "      <th>909664</th>\n",
       "      <td>1.0</td>\n",
       "    </tr>\n",
       "    <tr>\n",
       "      <th>1028671</th>\n",
       "      <td>0.0</td>\n",
       "    </tr>\n",
       "    <tr>\n",
       "      <th>1336564</th>\n",
       "      <td>0.0</td>\n",
       "    </tr>\n",
       "    <tr>\n",
       "      <th>1472852</th>\n",
       "      <td>-1.0</td>\n",
       "    </tr>\n",
       "  </tbody>\n",
       "</table>\n",
       "</div>"
      ],
      "text/plain": [
       "                    Answer\n",
       "Wikipedia movie ID        \n",
       "113454                 0.0\n",
       "909664                 1.0\n",
       "1028671                0.0\n",
       "1336564                0.0\n",
       "1472852               -1.0"
      ]
     },
     "execution_count": 61,
     "metadata": {},
     "output_type": "execute_result"
    }
   ],
   "source": [
    "FinalData = ViolentData.groupby(\"Wikipedia movie ID\")[\"Answer\"].median().to_frame()\n",
    "FinalData.head()"
   ]
  },
  {
   "cell_type": "code",
   "execution_count": 62,
   "metadata": {},
   "outputs": [
    {
     "data": {
      "text/html": [
       "<div>\n",
       "<style scoped>\n",
       "    .dataframe tbody tr th:only-of-type {\n",
       "        vertical-align: middle;\n",
       "    }\n",
       "\n",
       "    .dataframe tbody tr th {\n",
       "        vertical-align: top;\n",
       "    }\n",
       "\n",
       "    .dataframe thead th {\n",
       "        text-align: right;\n",
       "    }\n",
       "</style>\n",
       "<table border=\"1\" class=\"dataframe\">\n",
       "  <thead>\n",
       "    <tr style=\"text-align: right;\">\n",
       "      <th></th>\n",
       "      <th>Answer</th>\n",
       "    </tr>\n",
       "    <tr>\n",
       "      <th>Wikipedia movie ID</th>\n",
       "      <th></th>\n",
       "    </tr>\n",
       "  </thead>\n",
       "  <tbody>\n",
       "  </tbody>\n",
       "</table>\n",
       "</div>"
      ],
      "text/plain": [
       "Empty DataFrame\n",
       "Columns: [Answer]\n",
       "Index: []"
      ]
     },
     "execution_count": 62,
     "metadata": {},
     "output_type": "execute_result"
    }
   ],
   "source": [
    "FinalData[~FinalData[\"Answer\"].isin([-1, 0, 1])]"
   ]
  },
  {
   "cell_type": "markdown",
   "metadata": {},
   "source": [
    "The labelling step is done ! We save the data."
   ]
  },
  {
   "cell_type": "code",
   "execution_count": 63,
   "metadata": {},
   "outputs": [],
   "source": [
    "#data_loader.save_back_to_excel(ViolentLabel, FinalData)"
   ]
  },
  {
   "cell_type": "markdown",
   "metadata": {},
   "source": [
    "## 1. Movie data analysis\n",
    "\n",
    "Now starts the characterization of our movies. First, we want to look into the plots and count how many violent words appear in the summary. \\\n",
    "Here, two things are worth notice: \n",
    "1. The list of words is souced from the web and agumented by us, for more completeness. Therefore, there is some subjectivity on our violence score: it depends on which terms we added. To know more about it see <span style=\"color:red\"> physical_violence_words_justifications.txt </span> & <span style=\"color:red\">psychological_violence_words_justifications</span> in the data/CLEAN/violent_word_list folder.\n",
    "2. The summaries are not all the same length. Hence, we use the density of violent words in the plots to characterize violence. \n",
    "\n",
    "Here we start with the generic list of violent words. Then we will have a list for words related to psychological violence."
   ]
  },
  {
   "cell_type": "markdown",
   "metadata": {
    "jp-MarkdownHeadingCollapsed": true
   },
   "source": [
    "### 1.1 Generic violent words"
   ]
  },
  {
   "cell_type": "code",
   "execution_count": 64,
   "metadata": {},
   "outputs": [
    {
     "name": "stdout",
     "output_type": "stream",
     "text": [
      "['assassination', 'assault', 'attack', 'behead', 'beheading', 'beat', 'beating', 'bludgeon', 'blood', 'bloody', 'bomb', 'bombing', 'box', 'boxing', 'brutalize', 'bullet', 'butcher', 'choke', 'combat', 'corpse', 'crush', 'decapitate', 'decapitation', 'dismember', 'dismemberment', 'enemy', 'execute', 'execution', 'explode', 'explosion', 'fist fight', 'gore', 'gory', 'gun', 'gun down', 'gunshot', 'hack', 'hang', 'hit', 'homicide', 'impale', 'injure', 'injury', 'kill', 'killing', 'knife', 'knifing', 'maim', 'manslaughter', 'massacre', 'molest', 'murder', 'mutilate', 'mutilation', 'punch', 'rape', 'ravage', 'rip', 'savage', 'sever', 'shoot', 'shooting', 'slash', 'slay', 'slaying', 'slaughter', 'slit', 'smash', 'stab', 'stabbing', 'strangle', 'strangulation', 'suffocate', 'suffocation', 'throttle', 'torture', 'trample', 'wound', 'artillery', 'bombardment', 'shelling', 'ambush', 'grenade', 'mortar', 'bayonet', 'napalm', 'landmine', 'shrapnel']\n"
     ]
    }
   ],
   "source": [
    "# Let's have a look at the selected words for our first list (physical violence)\n",
    "violent_word_list = data_loader.Violent_word_list(\"Physical_violence\")\n",
    "print(violent_word_list)"
   ]
  },
  {
   "cell_type": "code",
   "execution_count": 65,
   "metadata": {},
   "outputs": [],
   "source": [
    "# We put the list to a Pandas Dataframe\n",
    "violence_list = pd.DataFrame(violent_word_list)"
   ]
  },
  {
   "cell_type": "code",
   "execution_count": 66,
   "metadata": {},
   "outputs": [],
   "source": [
    "# We create an excel out of the list, so that if we want to modify it later we don't need to come back inside the code\n",
    "# violence_list.to_excel(clean+\"/violent_word_list/Physical_violence.xlsx\", index=False,header=False)"
   ]
  },
  {
   "cell_type": "markdown",
   "metadata": {
    "jp-MarkdownHeadingCollapsed": true
   },
   "source": [
    "### 1.2 Violent words related to psychology"
   ]
  },
  {
   "cell_type": "code",
   "execution_count": 67,
   "metadata": {},
   "outputs": [
    {
     "name": "stdout",
     "output_type": "stream",
     "text": [
      "['abandoned', 'abandoning', 'abandonment', 'abuse', 'abused', 'abusing', 'abusive', 'agitate', 'agitated', 'agitating', 'agony', 'alienate', 'alienated', 'alienating', 'amnesia', 'anger', 'angry', 'anguish', 'animalistic', 'antagonise', 'antagonize', 'attack', 'attacked', 'attacking', 'anxious', 'avoid', 'avoided', 'avoiding', 'backhanded', 'belittle', 'belittled', 'belittling', 'betray', 'betrayal', 'betrayed', 'betraying', 'blackmail', 'blackmailed', 'blackmailing', 'blame', 'blamed', 'blame-shifting', 'blaming', 'brainwash', 'brainwashed', 'brainwashing', 'break', 'breaking', 'broken', 'bully', 'bullied', 'bullying', 'catastrophise', 'catastrophize', 'catastrophising', 'catastrophizing', 'chaos', 'condescending', 'condescendent', 'condition', 'conditional', 'control', 'controlled', 'controlling', 'criticism', 'criticise', 'criticize', 'criticised', 'criticized', 'criticising', 'criticizing', 'cruel', 'cruelty', 'damaging', 'deceive', 'deceit', 'deceptive', 'defame', 'demean', 'demeaned', 'demeaning', 'delude', 'deluded', 'deluding', 'delusion', 'delusional', 'demoralize', 'deny', 'denial', 'denied', 'denying', 'dependency', 'depressed', 'depression', 'despair', 'destructive', 'discredit', 'discredited', 'discrediting', 'dishonest', 'dismiss', 'dismissal', 'dismissed', 'dismissing', 'dismissive', 'disillusioned', 'disorder', 'disregard', 'distress', 'dominate', 'dominated', 'dominating', 'domination', 'downgrade', 'downgraded', 'downgrading', 'dread', 'embarrass', 'embarrassed', 'embarrassing', 'embarrassment', 'entitle', 'entitled', 'entitlement', 'exclude', 'excluded', 'excluding', 'exclusion', 'exploit', 'exploited', 'exploitation', 'exploitative', 'extortion', 'fabricated', 'fear', 'fearing', 'fearful', 'fear-monger', 'fear-mongered', 'fear-mongering', 'frighten', 'frightened', 'frightening', 'gaslight', 'gaslighted', 'gaslighting', 'gaslit', 'guilt-trip', 'guilt-tripped', 'guilt-tripping', 'guilty', 'hallucinate', 'hallucinated', 'hallucinating', 'hallucination', 'harass', 'harassed', 'harassing', 'harassment', 'helplessness', 'hoover', 'hoovered', 'hoovering', 'hopelessness', 'hostile', 'hostility', 'humiliate', 'humiliated', 'humiliating', 'humiliation', 'hurt', 'hurting', 'hypercriticise', 'hypercriticize', 'hypercriticised', 'hypercriticized', 'hypercriticising', 'hypercriticizing', 'ignore', 'ignored', 'ignoring', 'illicit', 'ill-treated', 'ill-treatment', 'illude', 'illusion', 'implode', 'implosion', 'inferior', 'inferiority', 'insane', 'insanity', 'insult', 'insulted', 'insulting', 'intimidate', 'intimidated', 'intimidating', 'intimidation', 'invalidate', 'invalidated', 'invalidating', 'invalidation', 'isolate', 'isolated', 'isolating', 'isolation', 'jealous', 'jealousy', 'judgmental', 'lie', 'lied', 'lying', 'love-bomb', 'love-bombed', 'love-bombing', 'mad', 'madden', 'maddened', 'maddening', 'madness', 'manipulate', 'manipulated', 'manipulating', 'manipulation', 'manipulative', 'mentally', 'minimise', 'minimize', 'minimised', 'minimized', 'minimising', 'minimizing', 'mock', 'mocked', 'mockery', 'mocking', 'name-call', 'name-called', 'name-calling', 'narcissism', 'narcissist', 'narcissistic', 'neglect', 'neglected', 'neglecting', 'normalise', 'normalize', 'normalised', 'normalized', 'normalising', 'normalizing', 'numb', 'obsess', 'obsession', 'obsessive', 'oppressive', 'oppression', 'overprotect', 'overprotected', 'overprotecting', 'overprotective', 'outburst', 'pain', 'painfull', 'paralised', 'paralyzed', 'paranoia', 'passive-agressive', 'patronise', 'patronize', 'patronised', 'patronized', 'patronising', 'patronizing', 'perverse', 'possess', 'possessed', 'possessing', 'possessive', 'possessiveness', 'power', 'pretend', 'project', 'projected', 'projecting', 'projection', 'psycho', 'psychological', 'psychopath', 'psychology', 'rage', 'reject', 'rejected', 'rejecting', 'rejection', 'repress', 'repressed', 'repressing', 'repression', 'ridicule', 'ridiculed', 'ridiculing', 'sabotage', 'sabotaged', 'sabotaging', 'sad', 'sadden', 'saddened', 'saddening', 'sadness', 'sarcasm', 'scapegoat', 'scapegoated', 'scapegoating', 'scared', 'scaring', 'scorn', 'scorned', 'scorning', 'self-centered', 'shame', 'shamed', 'shaming', 'shatter', 'shout', 'shouted', 'shouting', 'sleep-deprived', 'slander', 'slandered', 'slandering', 'smear', 'smeared', 'smearing', 'smother', 'smothered', 'smothering', 'sneer', 'sneered', 'sneering', 'stonewall', 'stonewalled', 'stonewalling', 'stalk', 'stalked', 'stalking', 'suicide', 'suppress', 'suppressed', 'suppressing', 'tactic', 'threat', 'threaten', 'threatened', 'threatening', 'threats', 'torment', 'tormented', 'tormenting', 'trauma', 'traumatise', 'traumatize', 'traumatised', 'traumatized', 'traumatising', 'traumatizing', 'triangulate', 'triangulated', 'triangulating', 'two-faced', 'ultimatum', 'ultimatums', 'unappreciated', 'undermine', 'undermined', 'undermining', 'undervalued', 'undervaluation', 'unhealthy', 'unpredictable', 'unstable', 'untrustworthiness', 'untrustworthy', 'unworthy', 'vengeful', 'verbal abuse', 'victim-blame', 'victim-blamed', 'victim-blaming', 'vindictive', 'vulnerable', 'weaponise', 'weaponize', 'weaponised', 'weaponized', 'weaponising', 'weaponizing', 'withhold', 'withheld', 'withholding', 'word salad', 'yell', 'yelled', 'yelling']\n"
     ]
    }
   ],
   "source": [
    "# Let's have a look at the selected words for our second list (psychological violence)\n",
    "psycho_violence_list = data_loader.Violent_word_list(\"Psychological_violence\")\n",
    "print(psycho_violence_list)"
   ]
  },
  {
   "cell_type": "code",
   "execution_count": 68,
   "metadata": {},
   "outputs": [],
   "source": [
    "# We put the list to a Pandas Dataframe\n",
    "psycho_list = pd.DataFrame(psycho_violence_list)"
   ]
  },
  {
   "cell_type": "code",
   "execution_count": 69,
   "metadata": {},
   "outputs": [],
   "source": [
    "# We create an excel out of the list, so that if we want to modify it later we don't need to come back inside the code\n",
    "#psycho_list.to_excel(clean+\"/violent_word_list/Psychological_violence.xlsx\", index=False,header=False)"
   ]
  },
  {
   "cell_type": "markdown",
   "metadata": {
    "jp-MarkdownHeadingCollapsed": true
   },
   "source": [
    "### 1.3 Analysis of the outcome of violent words density in summary"
   ]
  },
  {
   "cell_type": "code",
   "execution_count": 70,
   "metadata": {},
   "outputs": [],
   "source": [
    "# We use the WordCounter class to investigate the density of violent words in the summaries\n",
    "\n",
    "# Now you can import the script like a module\n",
    "from Word_counter import WordCounter"
   ]
  },
  {
   "cell_type": "markdown",
   "metadata": {},
   "source": [
    "For Wordcounter see file Word_counter.py. We can either use one list only, with the keywords _Physical_violence_ & _Psychological_violence_, or all lists with keyword _All_. Note that, with this method if non-existing keywords are given as inputs, the "
   ]
  },
  {
   "cell_type": "code",
   "execution_count": 71,
   "metadata": {},
   "outputs": [],
   "source": [
    "Word_Counter = WordCounter(data_loader, Movie_Data)"
   ]
  },
  {
   "cell_type": "code",
   "execution_count": 72,
   "metadata": {},
   "outputs": [
    {
     "name": "stdout",
     "output_type": "stream",
     "text": [
      "word count for the list : Physical_violence\n",
      "word count for the list : Psychological_violence\n",
      "total count\n",
      "calculate density\n",
      "done !\n"
     ]
    }
   ],
   "source": [
    "# Let's look at the count of violent words (both )\n",
    "Count_violent = Word_Counter.violent_word_count(\"All\")"
   ]
  },
  {
   "cell_type": "code",
   "execution_count": 73,
   "metadata": {},
   "outputs": [
    {
     "data": {
      "text/html": [
       "<div>\n",
       "<style scoped>\n",
       "    .dataframe tbody tr th:only-of-type {\n",
       "        vertical-align: middle;\n",
       "    }\n",
       "\n",
       "    .dataframe tbody tr th {\n",
       "        vertical-align: top;\n",
       "    }\n",
       "\n",
       "    .dataframe thead th {\n",
       "        text-align: right;\n",
       "    }\n",
       "</style>\n",
       "<table border=\"1\" class=\"dataframe\">\n",
       "  <thead>\n",
       "    <tr style=\"text-align: right;\">\n",
       "      <th></th>\n",
       "      <th>word_count_Physical_violence</th>\n",
       "      <th>word_count_Psychological_violence</th>\n",
       "      <th>total_count</th>\n",
       "      <th>density word_count_Physical_violence</th>\n",
       "      <th>density word_count_Psychological_violence</th>\n",
       "    </tr>\n",
       "    <tr>\n",
       "      <th>Wikipedia movie ID</th>\n",
       "      <th></th>\n",
       "      <th></th>\n",
       "      <th></th>\n",
       "      <th></th>\n",
       "      <th></th>\n",
       "    </tr>\n",
       "  </thead>\n",
       "  <tbody>\n",
       "    <tr>\n",
       "      <th>3217</th>\n",
       "      <td>3</td>\n",
       "      <td>3</td>\n",
       "      <td>479</td>\n",
       "      <td>0.006263</td>\n",
       "      <td>0.006263</td>\n",
       "    </tr>\n",
       "    <tr>\n",
       "      <th>3333</th>\n",
       "      <td>1</td>\n",
       "      <td>5</td>\n",
       "      <td>858</td>\n",
       "      <td>0.001166</td>\n",
       "      <td>0.005828</td>\n",
       "    </tr>\n",
       "    <tr>\n",
       "      <th>3746</th>\n",
       "      <td>3</td>\n",
       "      <td>3</td>\n",
       "      <td>669</td>\n",
       "      <td>0.004484</td>\n",
       "      <td>0.004484</td>\n",
       "    </tr>\n",
       "    <tr>\n",
       "      <th>3837</th>\n",
       "      <td>7</td>\n",
       "      <td>3</td>\n",
       "      <td>631</td>\n",
       "      <td>0.011094</td>\n",
       "      <td>0.004754</td>\n",
       "    </tr>\n",
       "    <tr>\n",
       "      <th>3947</th>\n",
       "      <td>7</td>\n",
       "      <td>7</td>\n",
       "      <td>930</td>\n",
       "      <td>0.007527</td>\n",
       "      <td>0.007527</td>\n",
       "    </tr>\n",
       "    <tr>\n",
       "      <th>...</th>\n",
       "      <td>...</td>\n",
       "      <td>...</td>\n",
       "      <td>...</td>\n",
       "      <td>...</td>\n",
       "      <td>...</td>\n",
       "    </tr>\n",
       "    <tr>\n",
       "      <th>36956792</th>\n",
       "      <td>6</td>\n",
       "      <td>2</td>\n",
       "      <td>780</td>\n",
       "      <td>0.007692</td>\n",
       "      <td>0.002564</td>\n",
       "    </tr>\n",
       "    <tr>\n",
       "      <th>37067980</th>\n",
       "      <td>0</td>\n",
       "      <td>0</td>\n",
       "      <td>50</td>\n",
       "      <td>0.000000</td>\n",
       "      <td>0.000000</td>\n",
       "    </tr>\n",
       "    <tr>\n",
       "      <th>37210334</th>\n",
       "      <td>1</td>\n",
       "      <td>1</td>\n",
       "      <td>259</td>\n",
       "      <td>0.003861</td>\n",
       "      <td>0.003861</td>\n",
       "    </tr>\n",
       "    <tr>\n",
       "      <th>37257312</th>\n",
       "      <td>0</td>\n",
       "      <td>0</td>\n",
       "      <td>131</td>\n",
       "      <td>0.000000</td>\n",
       "      <td>0.000000</td>\n",
       "    </tr>\n",
       "    <tr>\n",
       "      <th>37373877</th>\n",
       "      <td>0</td>\n",
       "      <td>2</td>\n",
       "      <td>168</td>\n",
       "      <td>0.000000</td>\n",
       "      <td>0.011905</td>\n",
       "    </tr>\n",
       "  </tbody>\n",
       "</table>\n",
       "<p>17077 rows × 5 columns</p>\n",
       "</div>"
      ],
      "text/plain": [
       "                    word_count_Physical_violence  \\\n",
       "Wikipedia movie ID                                 \n",
       "3217                                           3   \n",
       "3333                                           1   \n",
       "3746                                           3   \n",
       "3837                                           7   \n",
       "3947                                           7   \n",
       "...                                          ...   \n",
       "36956792                                       6   \n",
       "37067980                                       0   \n",
       "37210334                                       1   \n",
       "37257312                                       0   \n",
       "37373877                                       0   \n",
       "\n",
       "                    word_count_Psychological_violence  total_count  \\\n",
       "Wikipedia movie ID                                                   \n",
       "3217                                                3          479   \n",
       "3333                                                5          858   \n",
       "3746                                                3          669   \n",
       "3837                                                3          631   \n",
       "3947                                                7          930   \n",
       "...                                               ...          ...   \n",
       "36956792                                            2          780   \n",
       "37067980                                            0           50   \n",
       "37210334                                            1          259   \n",
       "37257312                                            0          131   \n",
       "37373877                                            2          168   \n",
       "\n",
       "                    density word_count_Physical_violence  \\\n",
       "Wikipedia movie ID                                         \n",
       "3217                                            0.006263   \n",
       "3333                                            0.001166   \n",
       "3746                                            0.004484   \n",
       "3837                                            0.011094   \n",
       "3947                                            0.007527   \n",
       "...                                                  ...   \n",
       "36956792                                        0.007692   \n",
       "37067980                                        0.000000   \n",
       "37210334                                        0.003861   \n",
       "37257312                                        0.000000   \n",
       "37373877                                        0.000000   \n",
       "\n",
       "                    density word_count_Psychological_violence  \n",
       "Wikipedia movie ID                                             \n",
       "3217                                                 0.006263  \n",
       "3333                                                 0.005828  \n",
       "3746                                                 0.004484  \n",
       "3837                                                 0.004754  \n",
       "3947                                                 0.007527  \n",
       "...                                                       ...  \n",
       "36956792                                             0.002564  \n",
       "37067980                                             0.000000  \n",
       "37210334                                             0.003861  \n",
       "37257312                                             0.000000  \n",
       "37373877                                             0.011905  \n",
       "\n",
       "[17077 rows x 5 columns]"
      ]
     },
     "execution_count": 73,
     "metadata": {},
     "output_type": "execute_result"
    }
   ],
   "source": [
    "# We look at our results\n",
    "Count_violent"
   ]
  },
  {
   "cell_type": "code",
   "execution_count": 74,
   "metadata": {},
   "outputs": [
    {
     "data": {
      "image/png": "[encoded data removed]",
      "text/plain": [
       "<Figure size 1600x600 with 2 Axes>"
      ]
     },
     "metadata": {},
     "output_type": "display_data"
    }
   ],
   "source": [
    "# Let's plot the 40 most violent (physically) movies \n",
    "\n",
    "# First we sort the values\n",
    "Count_violent_sorted_physical = Count_violent.sort_values(by='density word_count_Physical_violence', ascending=False)\n",
    "\n",
    "# We retreive the movie name from the Movie_Data dataframe\n",
    "indices_physical_violence = Count_violent_sorted_physical.head(40).index\n",
    "movie_names = Movie_Data.loc[indices_physical_violence, 'Movie name']\n",
    "density_physical_violence = Count_violent_sorted_physical.head(40)['density word_count_Physical_violence']\n",
    "\n",
    "# We do the same but for the words\n",
    "Count_violent_sorted_physical_by_words = Count_violent.sort_values(by='word_count_Physical_violence', ascending=False)\n",
    "indices_physical_violence_by_words = Count_violent_sorted_physical_by_words.head(40).index\n",
    "movie_names_by_words = Movie_Data.loc[indices_physical_violence_by_words, 'Movie name']\n",
    "physical_violence_by_words = Count_violent_sorted_physical_by_words.head(40)['word_count_Physical_violence']\n",
    "\n",
    "fig, (ax1, ax2) = plt.subplots(1, 2, figsize=(16, 6))\n",
    "sns.barplot(x=movie_names, y=density_physical_violence, ax=ax1)\n",
    "ax1.set_xlabel(\"Movie Name\")\n",
    "ax1.set_ylabel(\"Violent words density\")\n",
    "ax1.tick_params(axis='x', rotation=90)\n",
    "\n",
    "sns.barplot(x=movie_names_by_words, y=physical_violence_by_words,  ax=ax2)\n",
    "ax2.set_xlabel(\"Movie Name\")\n",
    "ax2.set_ylabel(\"Violent words count\")\n",
    "ax2.tick_params(axis='x', rotation=90)\n",
    "fig.suptitle(\"Physical violence ranking of movies (top 40)\", fontsize=16)\n",
    "plt.show()\n"
   ]
  },
  {
   "cell_type": "code",
   "execution_count": 75,
   "metadata": {},
   "outputs": [
    {
     "data": {
      "image/png": "[encoded data removed]",
      "text/plain": [
       "<Figure size 1600x600 with 2 Axes>"
      ]
     },
     "metadata": {},
     "output_type": "display_data"
    }
   ],
   "source": [
    "# Let's plot the 40 most violent (psychologically) movies \n",
    "\n",
    "# First we sort the values\n",
    "Count_violent_sorted_psycho = Count_violent.sort_values(by='density word_count_Psychological_violence', ascending=False)\n",
    "\n",
    "# We retreive the movie name from the Movie_Data dataframe\n",
    "indices_psycho_violence = Count_violent_sorted_psycho.head(40).index\n",
    "movie_names = Movie_Data.loc[indices_psycho_violence, 'Movie name']\n",
    "density_psycho_violence = Count_violent_sorted_psycho.head(40)['density word_count_Psychological_violence']\n",
    "\n",
    "# We do the same but for the words\n",
    "Count_violent_sorted_psycho_by_words = Count_violent.sort_values(by='word_count_Psychological_violence', ascending=False)\n",
    "indices_psycho_violence_by_words = Count_violent_sorted_psycho_by_words.head(40).index\n",
    "movie_names_by_words = Movie_Data.loc[indices_psycho_violence_by_words, 'Movie name']\n",
    "psycho_violence_by_words = Count_violent_sorted_psycho_by_words.head(40)['word_count_Psychological_violence']\n",
    "\n",
    "fig, (ax1, ax2) = plt.subplots(1, 2, figsize=(16, 6))\n",
    "sns.barplot(x=movie_names, y=density_psycho_violence, ax=ax1)\n",
    "ax1.set_xlabel(\"Movie Name\")\n",
    "ax1.set_ylabel(\"Violent words density\")\n",
    "ax1.tick_params(axis='x', rotation=90)\n",
    "\n",
    "sns.barplot(x=movie_names_by_words, y=psycho_violence_by_words,  ax=ax2)\n",
    "ax2.set_xlabel(\"Movie Name\")\n",
    "ax2.set_ylabel(\"Violent words count\")\n",
    "ax2.tick_params(axis='x', rotation=90)\n",
    "fig.suptitle(\"Psychological violence ranking of movies (top 40)\", fontsize=16)\n",
    "plt.show()\n"
   ]
  },
  {
   "cell_type": "code",
   "execution_count": 76,
   "metadata": {},
   "outputs": [
    {
     "data": {
      "image/png": "[encoded data removed]",
      "text/plain": [
       "<Figure size 1600x600 with 2 Axes>"
      ]
     },
     "metadata": {},
     "output_type": "display_data"
    }
   ],
   "source": [
    "# We retreive the genre for most physically & psychologically violent movies\n",
    "\n",
    "# Count genres appearances\n",
    "movie_genres_physical = Movie_Data.loc[indices_physical_violence, 'Genres'].value_counts()\n",
    "movie_genres_psycho = Movie_Data.loc[indices_psycho_violence, 'Genres'].value_counts()\n",
    "\n",
    "# Group by the counts\n",
    "genres_physical_more_once = movie_genres_physical[movie_genres_physical > 1]\n",
    "genres_physical_once = movie_genres_physical[movie_genres_physical == 1]\n",
    "\n",
    "genres_psycho_more_once = movie_genres_psycho[movie_genres_psycho > 1]\n",
    "genres_psycho_once = movie_genres_psycho[movie_genres_psycho == 1]\n",
    "\n",
    "# Prepare for plotting\n",
    "labels_physical = list(genres_physical_more_once.index) + [\"Others\"]\n",
    "heights_physical = list(genres_physical_more_once.values) + [1]\n",
    "\n",
    "labels_psycho = list(genres_psycho_more_once.index) + [\"Others\"]\n",
    "heights_psycho = list(genres_psycho_more_once.values) + [1]\n",
    "\n",
    "fig, (ax1, ax2) = plt.subplots(1, 2, figsize=(16, 6))\n",
    "ax1.bar(labels_physical, heights_physical, edgecolor='black')\n",
    "ax1.set_ylabel('Counts')\n",
    "ax1.set_title('Frequency Physical Violence Terms')\n",
    "\n",
    "ax2.bar(labels_psycho, heights_psycho, edgecolor='black')\n",
    "ax2.set_ylabel('Counts')\n",
    "ax2.set_title('Frequency Psychological Violence Terms')\n",
    "plt.show()"
   ]
  },
  {
   "cell_type": "markdown",
   "metadata": {
    "jp-MarkdownHeadingCollapsed": true
   },
   "source": [
    "### 1.4 Sentiment Analysis\n",
    "\n",
    "In this section, we will apply the DistillBERT sentiment analysis model to the clean dataset and save the result."
   ]
  },
  {
   "cell_type": "code",
   "execution_count": 78,
   "metadata": {},
   "outputs": [
    {
     "name": "stderr",
     "output_type": "stream",
     "text": [
      "/home/jen/.local/share/mamba/envs/ADA_project/lib/python3.12/site-packages/tqdm/auto.py:21: TqdmWarning: IProgress not found. Please update jupyter and ipywidgets. See https://ipywidgets.readthedocs.io/en/stable/user_install.html\n",
      "  from .autonotebook import tqdm as notebook_tqdm\n",
      "None of PyTorch, TensorFlow >= 2.0, or Flax have been found. Models won't be available and only tokenizers, configuration and file/data utilities can be used.\n",
      "None of PyTorch, TensorFlow >= 2.0, or Flax have been found. Models won't be available and only tokenizers, configuration and file/data utilities can be used.\n"
     ]
    },
    {
     "ename": "ModuleNotFoundError",
     "evalue": "No module named 'torch'",
     "output_type": "error",
     "traceback": [
      "\u001b[0;31m---------------------------------------------------------------------------\u001b[0m",
      "\u001b[0;31mModuleNotFoundError\u001b[0m                       Traceback (most recent call last)",
      "Cell \u001b[0;32mIn[78], line 2\u001b[0m\n\u001b[1;32m      1\u001b[0m \u001b[38;5;66;03m## Import the script like a module\u001b[39;00m\n\u001b[0;32m----> 2\u001b[0m \u001b[38;5;28;01mimport\u001b[39;00m \u001b[38;5;21;01mDistillBERT_emotion\u001b[39;00m\n",
      "File \u001b[0;32m~/Documents/EPFL/ADA/ada-2024-project-alligatorsdontapologize24/src/model/DistillBERT_emotion.py:18\u001b[0m\n\u001b[1;32m     16\u001b[0m \u001b[38;5;66;03m# Use a pipeline as a high-level helper\u001b[39;00m\n\u001b[1;32m     17\u001b[0m \u001b[38;5;28;01mfrom\u001b[39;00m \u001b[38;5;21;01mtransformers\u001b[39;00m \u001b[38;5;28;01mimport\u001b[39;00m pipeline\n\u001b[0;32m---> 18\u001b[0m \u001b[38;5;28;01mimport\u001b[39;00m \u001b[38;5;21;01mtorch\u001b[39;00m\n\u001b[1;32m     19\u001b[0m \u001b[38;5;28;01mfrom\u001b[39;00m \u001b[38;5;21;01mtransformers\u001b[39;00m \u001b[38;5;28;01mimport\u001b[39;00m DistilBertTokenizer, DistilBertForSequenceClassification\n\u001b[1;32m     20\u001b[0m \u001b[38;5;28;01mfrom\u001b[39;00m \u001b[38;5;21;01mtorch\u001b[39;00m\u001b[38;5;21;01m.\u001b[39;00m\u001b[38;5;21;01mnn\u001b[39;00m\u001b[38;5;21;01m.\u001b[39;00m\u001b[38;5;21;01mfunctional\u001b[39;00m \u001b[38;5;28;01mimport\u001b[39;00m softmax\n",
      "\u001b[0;31mModuleNotFoundError\u001b[0m: No module named 'torch'"
     ]
    }
   ],
   "source": [
    "## Import the script like a module\n",
    "import DistillBERT_emotion"
   ]
  },
  {
   "cell_type": "code",
   "execution_count": null,
   "metadata": {},
   "outputs": [],
   "source": [
    "# Load raw data\n",
    "data_loader = DataLoader(raw,clean)\n",
    "\n",
    "# Are we working on the test set\n",
    "Test_set_data = True\n",
    "# Run everything again ? \n",
    "Run = False\n",
    "\n",
    "if Test_set_data :\n",
    "    MovieData = data_loader.plot_data()\n",
    "    MovieName = data_loader.movie_data()[\"Movie name\"]\n",
    "    ViolentLabel, ViolentData = data_loader.human_labelled_data()\n",
    "    MovieData = MovieData.loc[ViolentData.index.unique()]\n",
    "    MovieData = pd.merge(MovieData,MovieName, left_index=True, right_index=True,how=\"inner\")\n",
    "else :\n",
    "    MovieData = data_loader.clean_movie_data()"
   ]
  },
  {
   "cell_type": "code",
   "execution_count": 45,
   "metadata": {},
   "outputs": [],
   "source": [
    "if Run :\n",
    "    # Lists to accumulate rows for efficiency\n",
    "    sentiment_data = []\n",
    "    \n",
    "    detector = DistillBERT_emotion.ViolenceDetector()\n",
    "    i = 0\n",
    "    for index,row in MovieData.iterrows():\n",
    "        if i%1000 ==0:\n",
    "            print(i)\n",
    "        result = detector.analyze_violence(row[\"Plot\"])\n",
    "    \n",
    "        sentiment_data.append({\n",
    "                \"Wikipedia movie ID\": index,\n",
    "                \"name\" : row[\"Movie name\"],\n",
    "                \"sadness\": result[0],\n",
    "                \"joy\": result[1],\n",
    "                \"love\": result[2],\n",
    "                \"anger\": result[3],\n",
    "                \"fear\": result[4],\n",
    "                \"surprise\": result[5]\n",
    "            })\n",
    "        i += 1\n",
    "    \n",
    "    Sentiment = pd.DataFrame(sentiment_data)"
   ]
  },
  {
   "cell_type": "code",
   "execution_count": 46,
   "metadata": {},
   "outputs": [],
   "source": [
    "if Run : \n",
    "    # Save the result\n",
    "    if Test_set_data : \n",
    "        Sentiment.to_csv(clean + \"/sentiment_test.csv\") \n",
    "    else : \n",
    "        Sentiment.to_csv(clean + \"/sentiment.csv\") \n",
    "else :\n",
    "    SentimentData, SentimentDataTest = data_loader.load_sentiment()\n",
    "    if Test_set_data :\n",
    "        Sentiment = SentimentDataTest\n",
    "    else :\n",
    "        Sentiment = SentimentData"
   ]
  },
  {
   "cell_type": "code",
   "execution_count": null,
   "metadata": {},
   "outputs": [],
   "source": [
    "Sentiment = Sentiment.set_index(\"Wikipedia movie ID\")\n",
    "Sentiment.head()"
   ]
  },
  {
   "cell_type": "code",
   "execution_count": null,
   "metadata": {
    "scrolled": true
   },
   "outputs": [],
   "source": [
    "# Sentiment analysis using DistillBERT_emotion\n",
    "\n",
    "X = 30\n",
    "emotions = [\"sadness\",\n",
    "            \"joy\",\n",
    "            \"love\",\n",
    "            \"anger\",\n",
    "            \"fear\",\n",
    "            \"surprise\"]\n",
    "\n",
    "# Create a figure with subplots (1x3 grid)\n",
    "fig, axes = plt.subplots(2, 3, figsize=(16,12))\n",
    "\n",
    "# Set a title for the entire figure\n",
    "fig.suptitle('Top Emotion Scores for Movies', fontsize=16)\n",
    "\n",
    "for i in range(0,len(emotions)):\n",
    "    \n",
    "    # Plot for Sadness with vertical x labels\n",
    "    sns.barplot(x='name', y=emotions[i], data=Sentiment.sort_values(emotions[i],ascending=False).iloc[0:min(X,Sentiment.shape[0])],ax=axes[i//3, i%3])\n",
    "    axes[i//3, i%3].set_title(f'Top {emotions[i].capitalize()} Scores')\n",
    "    axes[i//3, i%3].set_xlabel('Movie ID')\n",
    "    axes[i//3, i%3].set_ylabel(f'{emotions[i].capitalize()} Score')\n",
    "\n",
    "    axes[i//3, i%3].set_xticks(range(min(X,Sentiment.shape[0])))  # Ensure ticks are set\n",
    "    axes[i//3, i%3].set_xticklabels(axes[i//3, i%3].get_xticklabels(), rotation=90)\n",
    "\n",
    "\n",
    "# Adjust layout to prevent overlap\n",
    "plt.tight_layout(rect=[0, 0, 1, 0.96])  # Adjust layout to fit suptitle\n",
    "plt.show()"
   ]
  },
  {
   "cell_type": "markdown",
   "metadata": {},
   "source": [
    "## 2. How to classify movies into violent or non-violent? \n",
    "\n",
    "Now that we have a better idea of what our movies look like from the analysis of their plot, we would like to classify them into non-violent, mild and violent. \\\n",
    "To do that, we will use surely the results previously obtained from the plots. However we ask ourselves: how do we combine the results from the psychological violence and the physical violence terms? \\\n",
    "To answer this question we decided to include a sentiment analysis of our plots, and to use the latter together with the results obtained from the plots to create a regression model. By doing this we can infer the weights of each feature for our model. Hence, we humanly-labelled 100 summaries and used those as training set. "
   ]
  },
  {
   "cell_type": "markdown",
   "metadata": {
    "jp-MarkdownHeadingCollapsed": true
   },
   "source": [
    "### 2.1 Violent movies finder: the regression model\n",
    "\n",
    "<b> The Model </b> \\\n",
    "For simplicity, we chose to perform a logistic regression using several selected features.\n",
    "\n",
    "\n",
    "<b> The features </b> \\\n",
    "The selected feature set includes:\n",
    "<ul>\n",
    "    <li><b>Word Count Features</b>\n",
    "        <ul> \n",
    "            <li>Count of physically violent words</li> \n",
    "            <li>Count of psychologically violent words</li> \n",
    "            <li>Density of physically violent words</li> \n",
    "            <li>Density of psychologically violent words</li>\n",
    "        </ul>\n",
    "    </li>\n",
    "    <li><b>Sentimental Analysis Features</b>\n",
    "       <ul>\n",
    "           <li>Sadness</li>\n",
    "           <li>Joy</li>\n",
    "           <li>Love</li>\n",
    "           <li>Anger</li>\n",
    "           <li>Surprise</li>\n",
    "       </ul>\n",
    "    </li>\n",
    "</ul>\n",
    "\n",
    "\n",
    "\n",
    "<b> The Dataset </b> \n",
    "<ul>\n",
    "    <li><b>Training and Testing Data</b> <br/> Given the limited number of labeled plots available, we will use most of the labeled items for the training set. We will keep 20% plots as the testing set to evaluate the model (alternatively, we may use the entire dataset and assess labeling quality across the final labeled set) </li>\n",
    "    <li><b>Final Dataset</b>  <br/> We will apply the model to label the entire dataset and review the quality of the labels.</li>\n",
    "</ul>"
   ]
  },
  {
   "cell_type": "code",
   "execution_count": null,
   "metadata": {
    "scrolled": true
   },
   "outputs": [],
   "source": [
    "# Load the data\n",
    "data_loader = DataLoader(raw,clean)\n",
    "MovieData,DataTest = data_loader.data_for_violent_model()\n",
    "MovieData.head()"
   ]
  },
  {
   "cell_type": "code",
   "execution_count": null,
   "metadata": {},
   "outputs": [],
   "source": [
    "# Load the labelled data\n",
    "ViolentLabel,ViolentData = data_loader.human_labelled_data()\n",
    "display(ViolentLabel)\n",
    "display(ViolentData.head())"
   ]
  },
  {
   "cell_type": "code",
   "execution_count": 59,
   "metadata": {},
   "outputs": [],
   "source": [
    "FinalSet = MovieData.loc[MovieData.index.difference(ViolentData.index)]"
   ]
  },
  {
   "cell_type": "code",
   "execution_count": null,
   "metadata": {},
   "outputs": [],
   "source": [
    "TestSet = pd.merge(DataTest,ViolentData[\"Answer\"],left_index=True,right_index=True,how = \"inner\")\n",
    "TestSet = TestSet.drop([\"Unnamed: 0\"],axis = 1)\n",
    "TestSet.head()"
   ]
  },
  {
   "cell_type": "code",
   "execution_count": null,
   "metadata": {},
   "outputs": [],
   "source": [
    "fraction = 0.2\n",
    "\n",
    "# Split the data between train and validation\n",
    "TrainingSet,ValidationSet = train_test_split(TestSet, test_size=fraction, random_state=21)\n",
    "\n",
    "print(TrainingSet.shape[0])\n",
    "print(ValidationSet.shape[0])"
   ]
  },
  {
   "cell_type": "markdown",
   "metadata": {},
   "source": [
    "#### Model"
   ]
  },
  {
   "cell_type": "code",
   "execution_count": null,
   "metadata": {},
   "outputs": [],
   "source": [
    "#model = Ridge(alpha=6)\n",
    "#model.fit(TestSet.drop([\"Answer\",\"name\"], axis=1), TestSet[\"Answer\"])\n",
    "\n",
    "#model = LinearRegression()  # create the model\n",
    "#model.fit(TestSet.drop([\"Answer\",\"name\"], axis=1), TestSet[\"Answer\"])  \n",
    "\n",
    "model = LogisticRegression(solver='lbfgs', max_iter=1000)\n",
    "model.fit(TrainingSet.drop([\"Answer\",\"name\"], axis=1), TrainingSet[\"Answer\"])"
   ]
  },
  {
   "cell_type": "code",
   "execution_count": null,
   "metadata": {},
   "outputs": [],
   "source": [
    "print(\"coefficient\",model.coef_)\n",
    "print(\"intercept\",model.intercept_)\n",
    "model.score(TrainingSet.drop([\"Answer\",\"name\"], axis=1), TrainingSet[\"Answer\"])"
   ]
  },
  {
   "cell_type": "code",
   "execution_count": 64,
   "metadata": {},
   "outputs": [],
   "source": [
    "Compare = pd.DataFrame(model.predict(ValidationSet.drop([\"Answer\",\"name\"], axis=1)),index=ValidationSet.index,columns=[\"Prediction\"])\n",
    "Compare[\"Label\"] = ValidationSet[\"Answer\"]"
   ]
  },
  {
   "cell_type": "code",
   "execution_count": null,
   "metadata": {},
   "outputs": [],
   "source": [
    "accuracy = metrics.accuracy_score(Compare[\"Label\"],Compare[\"Prediction\"])\n",
    "print(\"accuracy\",accuracy*100)\n",
    "\n",
    "m1 = abs(Compare[\"Label\"]-Compare[\"Prediction\"]).mean()\n",
    "print(\"abs distance\",m1)\n",
    "\n",
    "#penalize more if opposite result \n",
    "m2 = np.power(Compare[\"Label\"]-Compare[\"Prediction\"], 2).mean()\n",
    "print(\"pow distance\",m2)\n",
    "\n",
    "print(\"Correct label\",(Compare[\"Label\"]==Compare[\"Prediction\"]).sum())\n",
    "print(\"incorrect but close\",(abs(Compare[\"Label\"]-Compare[\"Prediction\"])==1).sum())\n",
    "print(\"opposite\",(abs(Compare[\"Label\"]-Compare[\"Prediction\"])==2).sum())"
   ]
  },
  {
   "cell_type": "markdown",
   "metadata": {},
   "source": [
    "Our model is not satisfying yet: the accuracy is only 33% and we have too many incorrect but close labels. This is why we decide to turn to LLM models, to see if we obtain better classification for movies’ violence."
   ]
  },
  {
   "cell_type": "markdown",
   "metadata": {
    "jp-MarkdownHeadingCollapsed": true
   },
   "source": [
    "### 2.2 Classification with LLM\n",
    "\n",
    "We will try to label the data using a LLM, namely GPT4mini from OpenAI . \\\n",
    "We will use the training set from above as the testing set, and keep 20% as a validation set. \n",
    "\n",
    "<b> The Model </b>\n",
    "\n",
    "We will use the GPT-4o-mini model \\\n",
    "https://platform.openai.com/docs/overview \\\n",
    "https://platform.openai.com/docs/models#gpt-4o-mini\n",
    "\n",
    "<b> References </b>\n",
    "\n",
    "https://platform.openai.com/docs/guides/prompt-engineering \\\n",
    "https://medium.com/discovery-at-nesta/how-to-use-gpt-4-and-openais-functions-for-text-classification-ad0957be9b25 \\\n"
   ]
  },
  {
   "cell_type": "markdown",
   "metadata": {
    "jp-MarkdownHeadingCollapsed": true
   },
   "source": [
    "#### 2.2.1 Load and prepare the data"
   ]
  },
  {
   "cell_type": "code",
   "execution_count": null,
   "metadata": {
    "scrolled": true
   },
   "outputs": [],
   "source": [
    "#load the data\n",
    "CleanData = data_loader.clean_movie_data()\n",
    "PlotData = data_loader.plot_data()"
   ]
  },
  {
   "cell_type": "code",
   "execution_count": null,
   "metadata": {},
   "outputs": [],
   "source": [
    "#load the labelled data\n",
    "ViolentLabel,ViolentData = data_loader.human_labelled_data()\n",
    "display(ViolentLabel.drop([\"Unnamed: 0\"],axis = 1))\n",
    "display(ViolentData.head())"
   ]
  },
  {
   "cell_type": "code",
   "execution_count": null,
   "metadata": {},
   "outputs": [],
   "source": [
    "TestSet = pd.merge(ViolentData,PlotData, left_index=True,right_index=True, how = \"inner\")\n",
    "print(\"Number of test point :\",TestSet.shape[0])\n",
    "TestSet.head()"
   ]
  },
  {
   "cell_type": "code",
   "execution_count": null,
   "metadata": {},
   "outputs": [],
   "source": [
    "TestSet.iloc[0][\"Plot\"]"
   ]
  },
  {
   "cell_type": "code",
   "execution_count": null,
   "metadata": {},
   "outputs": [],
   "source": [
    "fraction = 0.2\n",
    "\n",
    "# Split the data between train and validation\n",
    "TrainingSet,ValidationSet = train_test_split(TestSet, test_size=fraction, random_state=21)\n",
    "\n",
    "print(TrainingSet.shape[0])\n",
    "print(ValidationSet.shape[0])"
   ]
  },
  {
   "cell_type": "code",
   "execution_count": null,
   "metadata": {},
   "outputs": [],
   "source": [
    "TrainingSet.head()"
   ]
  },
  {
   "cell_type": "markdown",
   "metadata": {},
   "source": [
    "#### 2.2.2 LLM - GPT-4-mini"
   ]
  },
  {
   "cell_type": "code",
   "execution_count": 74,
   "metadata": {},
   "outputs": [],
   "source": [
    "# Now import the Classifier class\n",
    "from OpenIA_utility import GPT4mini_ViolenceClassifier"
   ]
  },
  {
   "cell_type": "markdown",
   "metadata": {
    "jp-MarkdownHeadingCollapsed": true
   },
   "source": [
    "####  2.2.3 Prompt engineering\n",
    "\n",
    "We developed a prompt for the classification task. \\\n",
    "The prompt contains a clear violence scale, where each label (Peaceful,Mild,Violent) in explained, and a clear instruction.\n",
    "\n",
    "To help the model to perform, we add examples."
   ]
  },
  {
   "cell_type": "code",
   "execution_count": 75,
   "metadata": {},
   "outputs": [],
   "source": [
    "#init our classifier\n",
    "Classifier = GPT4mini_ViolenceClassifier()"
   ]
  },
  {
   "cell_type": "code",
   "execution_count": null,
   "metadata": {
    "scrolled": true
   },
   "outputs": [],
   "source": [
    "print(Classifier.Content)"
   ]
  },
  {
   "cell_type": "code",
   "execution_count": null,
   "metadata": {},
   "outputs": [],
   "source": [
    "print(Classifier.Example)"
   ]
  },
  {
   "cell_type": "markdown",
   "metadata": {},
   "source": [
    "To ensure the model return the result in the good format, we developed a function.\n",
    "\n",
    "The final function is :\n",
    "\n",
    "```ruby\n",
    "        self.function = {\n",
    "           \"name\": \"Assign_violence_level\",\n",
    "           \"description\": \"Predict the level of violence of a list of movie plots\",\n",
    "           \"parameters\": {\n",
    "               \"type\": \"object\",\n",
    "               \"properties\": {\n",
    "                   \"prediction\": {\n",
    "                       \"type\": \"array\",\n",
    "                       \"items\": {\n",
    "                           \"type\": \"string\",\n",
    "                           \"enum\": [\n",
    "                               \"Peaceful\",\n",
    "                               \"Mild\",\n",
    "                               \"Violent\"\n",
    "                           ]\n",
    "                       },\n",
    "                       \"description\": \"The list of violence levels for each movie plot, in the same order as the plots were provided.\"\n",
    "                   }\n",
    "               },\n",
    "               \"required\": [\n",
    "                   \"prediction\"\n",
    "               ]\n",
    "           }\n",
    "        }\n",
    "\n",
    "```\n",
    "\n",
    "The model have to return a array of prediction, one for each plot."
   ]
  },
  {
   "cell_type": "markdown",
   "metadata": {
    "jp-MarkdownHeadingCollapsed": true
   },
   "source": [
    "####  2.2.4 Verify the number of tokens\n",
    "\n",
    "The model have a maximum number of input tokens ! For our model, the limit is 128000 tokens. For cod efficiency (and money), we would like to avoid having to loop on each plot and recalling the prompt every time. We will look at the number of token to see how many plots we can put at the time. \n",
    "\n",
    "We implemented a function that tokenize a text in the same way as the model and return the number of token and the pricing."
   ]
  },
  {
   "cell_type": "code",
   "execution_count": null,
   "metadata": {
    "scrolled": true
   },
   "outputs": [],
   "source": [
    "# Count for the prompt (and example)\n",
    "TotalPromt = Classifier.Prompt_size\n",
    "print(\"For the prompt we have\",TotalPromt,\"tokens, pricing :\",TotalPromt*Classifier.pricing)\n",
    "\n",
    "# Count for the test set\n",
    "TotalTest = TestSet[\"Plot\"].apply(Classifier.count_tokens).sum()\n",
    "print(\"For the test dataset we have\",TotalTest+TotalPromt,\"tokens, pricing :\",TotalTest*Classifier.pricing,\"batch\",int(TotalTest/(Classifier.max_input-TotalPromt)+1))\n",
    "\n",
    "# Count for the whole dataset\n",
    "TotalData = CleanData[\"Plot\"].apply(Classifier.count_tokens).sum()\n",
    "batch = int(TotalData/(Classifier.max_input-TotalPromt))+1\n",
    "print(\"For the whole dataset we have\",TotalData,\"tokens, pricing :\",(TotalData+batch*TotalPromt)*Classifier.pricing,\"batch\",batch)"
   ]
  },
  {
   "cell_type": "markdown",
   "metadata": {},
   "source": [
    "Will need to split the data into batchs."
   ]
  },
  {
   "cell_type": "markdown",
   "metadata": {
    "jp-MarkdownHeadingCollapsed": true
   },
   "source": [
    "####  2.2.5 Create Batch"
   ]
  },
  {
   "cell_type": "markdown",
   "metadata": {},
   "source": [
    "As we send multiple plot at the time, we need to format them together in a way the model can understand. Here an example :"
   ]
  },
  {
   "cell_type": "code",
   "execution_count": null,
   "metadata": {},
   "outputs": [],
   "source": [
    "TrainingSet.iloc[0][\"Plot\"]"
   ]
  },
  {
   "cell_type": "code",
   "execution_count": null,
   "metadata": {},
   "outputs": [],
   "source": [
    "#first parameter is the number of the plot, second is the text\n",
    "Classifier.format_plot(0,TrainingSet.iloc[0][\"Plot\"])"
   ]
  },
  {
   "cell_type": "markdown",
   "metadata": {},
   "source": [
    "Batch yes but how to create them ? We need each batch size to be smaller than the model's limit. We implemented a function that combine the prompt and the formatted plot, and add them until it reach the limit. The function return the ID of the first plot of each batch."
   ]
  },
  {
   "cell_type": "code",
   "execution_count": null,
   "metadata": {},
   "outputs": [],
   "source": [
    "#for the test set (no batch needed)\n",
    "Classifier.batch_plots(TestSet)\n",
    "\n",
    "#for the dataset !\n",
    "#clean_batch = Classifier.batch_plots(CleanData)"
   ]
  },
  {
   "cell_type": "markdown",
   "metadata": {
    "jp-MarkdownHeadingCollapsed": true
   },
   "source": [
    "####  2.2.6 Assess the model on the training set\n",
    "Here we go ! Now we will call the model on the test set and compare the result with the human labelled data. Note that we don't have to train the data, but we still split the test data between train and validation. This is because we went to have a set of labelled data to compare the result with during the prompt fine-tuning and all the test of the model. We still want to have a dataset the model have never seen to test at the end with the final model. If the result is good enough, we will label all the dataset."
   ]
  },
  {
   "cell_type": "code",
   "execution_count": 82,
   "metadata": {},
   "outputs": [],
   "source": [
    "#just a firewall boolean to avoid running the model by accident\n",
    "Run_test = False"
   ]
  },
  {
   "cell_type": "markdown",
   "metadata": {},
   "source": [
    "Here is the format of the final call of the model\n",
    "\n",
    "```ruby\n",
    "    completion = self.client.chat.completions.create(\n",
    "        model=\"gpt-4o-mini\",\n",
    "        messages=[\n",
    "            {\"role\": \"system\", \"content\": self.Content},\n",
    "            {\"role\": \"user\",\"content\": Text},\n",
    "            {\"role\": \"assistant\", \"content\": self.Example}\n",
    "        ],\n",
    "        functions=[self.function],\n",
    "        function_call={\"name\": \"Assign_violence_level\"},\n",
    "    )\n",
    "```"
   ]
  },
  {
   "cell_type": "markdown",
   "metadata": {},
   "source": [
    "We format the batch"
   ]
  },
  {
   "cell_type": "code",
   "execution_count": null,
   "metadata": {},
   "outputs": [],
   "source": [
    "Classifier.format_batch(TrainingSet[0:3])"
   ]
  },
  {
   "cell_type": "markdown",
   "metadata": {},
   "source": [
    "We will also make smaller batch to improve the predictions."
   ]
  },
  {
   "cell_type": "code",
   "execution_count": null,
   "metadata": {},
   "outputs": [],
   "source": [
    "prediction = []\n",
    "BatchSize = 10\n",
    "\n",
    "if Run_test :\n",
    "    for i in range(0,int(TrainingSet.shape[0]/BatchSize)+1) :\n",
    "        thisBatch = Classifier.format_batch(TrainingSet[i*BatchSize:min((i+1)*BatchSize,TrainingSet.shape[0])])\n",
    "        pred = Classifier.Call_API(thisBatch)\n",
    "        #print(\"pred\",len(pred))\n",
    "        prediction = prediction + pred\n",
    "print(\"finish!\")"
   ]
  },
  {
   "cell_type": "code",
   "execution_count": null,
   "metadata": {},
   "outputs": [],
   "source": [
    "print(prediction)"
   ]
  },
  {
   "cell_type": "code",
   "execution_count": null,
   "metadata": {},
   "outputs": [],
   "source": [
    "Compare = pd.DataFrame(prediction,index=TrainingSet.index, columns=[\"Result\"])\n",
    "\n",
    "def to_level(data) :\n",
    "    match data:\n",
    "        case 'Peaceful':\n",
    "            return -1.0\n",
    "        case 'Mild':\n",
    "            return 0.0\n",
    "        case 'Violent':\n",
    "            return 1.0\n",
    "        case _:\n",
    "            raise Exception(\"wait is that ?\",data)\n",
    "\n",
    "Compare[\"Prediction\"] = Compare[\"Result\"].apply(to_level)\n",
    "\n",
    "Compare[\"Label\"] = TrainingSet[\"Answer\"]\n",
    "Compare.head()"
   ]
  },
  {
   "cell_type": "code",
   "execution_count": 22,
   "metadata": {},
   "outputs": [],
   "source": [
    "name = \"model_1\"\n",
    "Compare.to_csv(clean+\"/classification_result/\"+name+\".csv\")"
   ]
  },
  {
   "cell_type": "code",
   "execution_count": null,
   "metadata": {},
   "outputs": [],
   "source": [
    "accuracy = metrics.accuracy_score(Compare[\"Label\"],Compare[\"Prediction\"])\n",
    "print(\"accuracy\",accuracy*100)\n",
    "\n",
    "m1 = abs(Compare[\"Label\"]-Compare[\"Prediction\"]).mean()\n",
    "print(\"abs distance\",m1)\n",
    "\n",
    "#penalize more if opposite result \n",
    "m2 = np.power(Compare[\"Label\"]-Compare[\"Prediction\"], 2).mean()\n",
    "print(\"pow distance\",m2)\n",
    "\n",
    "print(\"Correct label\",(Compare[\"Label\"]==Compare[\"Prediction\"]).sum())\n",
    "print(\"incorrect but close\",(abs(Compare[\"Label\"]-Compare[\"Prediction\"])==1).sum())\n",
    "print(\"opposite\",(abs(Compare[\"Label\"]-Compare[\"Prediction\"])==2).sum())"
   ]
  },
  {
   "cell_type": "code",
   "execution_count": null,
   "metadata": {},
   "outputs": [],
   "source": [
    "Compare[(abs(Compare[\"Label\"]-Compare[\"Prediction\"])==1)].head()"
   ]
  },
  {
   "cell_type": "code",
   "execution_count": null,
   "metadata": {},
   "outputs": [],
   "source": [
    "Compare[(abs(Compare[\"Label\"]-Compare[\"Prediction\"])==2)]"
   ]
  },
  {
   "cell_type": "markdown",
   "metadata": {},
   "source": [
    "<b>Testing history :</b>\n",
    "- <ins>first model</ins> 0.5% accuracy. It is not totally wrong but is usually close but not perfect. This could also be due to error during labelling. As we discussed, the notion of violence is complex. We should take this into account while labelling. We will try to improve the model accuracy by giving him typical *example*. Another problem is that with too much movie, the model forget some labels. we will return a *dictionary* instead of a list to associate the plot number to the returning class and ultimately reduce the *batch size*.\n",
    "- <ins>Add example to the prompt</ins> the result get a little better. however still a lot of incorrect but close response. Tend to consider more violent than expected. Adapt the class label.\n",
    "- <ins>Clearer definitions and smaller batch</ins> accuracy arroud 65%, likely to overestimate violence."
   ]
  },
  {
   "cell_type": "markdown",
   "metadata": {},
   "source": [
    "####  2.2.7 Apply to the whole dataset"
   ]
  },
  {
   "cell_type": "markdown",
   "metadata": {},
   "source": [
    "to be continued...."
   ]
  },
  {
   "cell_type": "markdown",
   "metadata": {},
   "source": [
    "## Following steps"
   ]
  },
  {
   "cell_type": "markdown",
   "metadata": {},
   "source": [
    "So far, we :\n",
    "- Have chosen and cleaned our datasets.\n",
    "- Did preliminary analysis of the data, both on the movie and historical side.\n",
    "- Tested ways to classify movies into violent versus non-violent.\n",
    "\n",
    "in the future, we will\n",
    "- fine-tune our classifier and apply it to the whole dataset.\n",
    "- use regression analysis to assess the effect of each of the feature on the prediction.\n",
    "- look for correlation between our historical data and the violence in movies."
   ]
  },
  {
   "cell_type": "markdown",
   "metadata": {},
   "source": [
    "## Project Milestone 3 findings"
   ]
  },
  {
   "cell_type": "markdown",
   "metadata": {},
   "source": [
    "## 0. On the fiction side "
   ]
  },
  {
   "cell_type": "markdown",
   "metadata": {},
   "source": [
    "### 0.1 Fine-tuned classifier: binary LLM"
   ]
  },
  {
   "cell_type": "markdown",
   "metadata": {},
   "source": [
    "### 0.2 Validation using Empath "
   ]
  },
  {
   "cell_type": "markdown",
   "metadata": {},
   "source": [
    "Now that we have our classification from the LLM, we decide to cross-validate it, using the Empath module. The rationale behind this is that while we expect the LLM to do a good job, we cannot be sure without further investigation. Since Empath gives us the categories most present in a text, we decide to analyse the summaries of violent and non-violent movies separately, to make sure that the categories that make up the summaries are indeed not the same and especially, that cathegories appearing in each group reflect the presence (or absence) of violence in the texts."
   ]
  },
  {
   "cell_type": "markdown",
   "metadata": {},
   "source": [
    "#### 0.2.0 Preliminary considerations and statistics across all movies"
   ]
  },
  {
   "cell_type": "markdown",
   "metadata": {},
   "source": [
    "First, we fetch our clean movie dataframe and use it to construct two results matrices that will help us to study which are the categories appearing most across all movies."
   ]
  },
  {
   "cell_type": "code",
   "execution_count": null,
   "metadata": {},
   "outputs": [],
   "source": [
    "\"\"\"\n",
    "    We fetch our Movie_Data CLEAN version from PM2 and create a two dataframes where:\n",
    "    - each row is a Movie \n",
    "    - each column is an empath category \n",
    "    \n",
    "    We save two versions of this analysis: one with normalization and one without. \n",
    "\"\"\"\n",
    "\n",
    "from src.data.empath_dataframes import analyze_empath_features\n",
    "\n",
    "Movie_Data = pd.read_csv('data/CLEAN/Movie_Data_clean.tsv', sep=\"\\t\")\n",
    "\n",
    "empath_df_norm, empath_df_non_norm = analyze_empath_features(Movie_Data, \"Plot\", \"Wikipedia movie ID\", \"Movie name\", \"data/CLEAN\")\n",
    "empath_df_non_norm"
   ]
  },
  {
   "cell_type": "code",
   "execution_count": null,
   "metadata": {},
   "outputs": [],
   "source": [
    "# Let's have a quick glimpse at all categories appearing in the dataset\n",
    "sorted_categories = empath_df_non_norm.drop(columns=[\"Movie name\"]).sum(axis=0).sort_values(ascending=False)\n",
    "\n",
    "plt.figure(figsize=(24, 16))\n",
    "plt.bar(sorted_categories.index, sorted_categories.values, color=\"skyblue\", edgecolor=\"black\")\n",
    "plt.title(\"Empath Categories Summed Over All Movies\", fontsize=20)\n",
    "plt.xlabel(\"Categories\", fontsize=14)\n",
    "plt.ylabel(\"Total Score\", fontsize=14)\n",
    "plt.xticks(rotation=90, ha=\"right\", fontsize=12)\n",
    "plt.tight_layout()\n"
   ]
  },
  {
   "cell_type": "code",
   "execution_count": null,
   "metadata": {},
   "outputs": [],
   "source": [
    "# What are the top categories (the ones appearing most across all movies)?\n",
    "top_categories_list = list(sorted_categories.head(10).index)\n",
    "cats = \"The categories appearing most, in order, are: \" + \", \".join(top_categories_list) + \".\"\n",
    "print(cats)"
   ]
  },
  {
   "cell_type": "code",
   "execution_count": null,
   "metadata": {},
   "outputs": [],
   "source": [
    "# Get the top categories and their scores to plot\n",
    "plt.figure(figsize=(10, 6))\n",
    "sorted_categories.head(10).plot(kind=\"bar\", color=\"skyblue\", edgecolor=\"black\")\n",
    "plt.title(\"Top 10 Empath Categories by Aggregate Score\", fontsize=16)\n",
    "plt.ylabel(\"Aggregate Score\", fontsize=12)\n",
    "plt.xlabel(\"Category\", fontsize=12)\n",
    "plt.xticks(rotation=45, ha=\"right\", fontsize=10)\n",
    "plt.tight_layout()"
   ]
  },
  {
   "cell_type": "code",
   "execution_count": null,
   "metadata": {},
   "outputs": [],
   "source": [
    "# Which movies have the highest score when it comes to death (category)?\n",
    "\n",
    "# Get the top deadly movies and their \"death\" scores\n",
    "top_deadly_movies = empath_df_non_norm[\"death\"].sort_values(ascending=False).head(10)\n",
    "\n",
    "# Get corresponding movie names for the x-axis\n",
    "movie_names = empath_df_non_norm.loc[top_deadly_movies.index, \"Movie name\"]\n",
    "\n",
    "plt.figure(figsize=(12, 6))\n",
    "plt.bar(movie_names, top_deadly_movies, color=\"red\", edgecolor=\"black\")\n",
    "plt.title(\"Top 10 Most Deadly Movies by 'Death' Score\", fontsize=16)\n",
    "plt.ylabel(\"'Death' Score\", fontsize=12)\n",
    "plt.xlabel(\"Movie Name\", fontsize=12)\n",
    "plt.xticks(rotation=45, ha=\"right\", fontsize=10)\n",
    "plt.tight_layout()\n",
    "plt.show()"
   ]
  },
  {
   "cell_type": "markdown",
   "metadata": {},
   "source": [
    "As last preliminary analysis, we try PCA, to see if we can already see some clusterings of violent VS non-violent movies. Then, we will delve into the LLM classified movies. "
   ]
  },
  {
   "cell_type": "code",
   "execution_count": null,
   "metadata": {},
   "outputs": [],
   "source": [
    "scaler = StandardScaler()\n",
    "scaled_data = scaler.fit_transform(empath_df_non_norm.drop(columns=[\"Movie name\"]))\n",
    "\n",
    "pca = PCA(n_components=10)\n",
    "principal_components = pca.fit_transform(empath_df_non_norm.drop(columns=[\"Movie name\"]))\n",
    "\n",
    "pca_df = pd.DataFrame(data=principal_components, columns=[\"PCA1\", \"PCA2\", \"PCA3\", \"PCA4\", \"PCA5\", \"PCA6\", \"PCA7\", \"PCA8\", \"PCA9\", \"PCA10\"])\n",
    "\n",
    "pca_df.index = Movie_Data[\"Wikipedia movie ID\"] \n",
    "pca_df[\"Dominant_category\"] = empath_df_non_norm[sorted_categories.head(10).index].idxmax(axis=1)\n",
    "#display(pca_df)\n",
    "\n",
    "explained_variance = pca.explained_variance_ratio_\n",
    "print(\"Explained Variance by Component:\", explained_variance)\n",
    "\n",
    "sns.scatterplot(pca_df, x=\"PCA1\", y=\"PCA2\", hue=\"Dominant_category\")\n",
    "\n",
    "# We export to try to do this in flourish too\n",
    "#pca_df.to_csv(\"data/CLEAN/PCA_flourish.tsv\", sep=\"\\t\")"
   ]
  },
  {
   "cell_type": "markdown",
   "metadata": {},
   "source": [
    "We see some clustering! Movies dominated by the categories kill, negative_emotion and crime are concentrated at the top of the plot. At the bottom, we find movies that are rather dominated by categories such as: family, children and party. \\\n",
    "Also, the variance explained by the first two columns is good: 0.34 and 0.1 respectively."
   ]
  },
  {
   "cell_type": "code",
   "execution_count": null,
   "metadata": {},
   "outputs": [],
   "source": [
    "# A close up: let's see if with less movies we still se the same clusterings\n",
    "sns.scatterplot(pca_df[:500], x=\"PCA1\", y=\"PCA2\", hue=\"Dominant_category\")"
   ]
  },
  {
   "cell_type": "markdown",
   "metadata": {},
   "source": [
    "#### 0.2.1 First LLM validation: peaceful, mild, violent classification"
   ]
  },
  {
   "cell_type": "code",
   "execution_count": null,
   "metadata": {},
   "outputs": [],
   "source": [
    "# Load the dataframe\n",
    "LLM_results_df = pd.read_csv('data/CLEAN/classification_result/LLM_result.csv')\n",
    "LLM_results_df.index = LLM_results_df[\"Wikipedia movie ID\"]\n",
    "LLM_results_df.drop(columns=[\"Wikipedia movie ID\"], inplace=True)\n",
    "LLM_results_df"
   ]
  },
  {
   "cell_type": "code",
   "execution_count": null,
   "metadata": {},
   "outputs": [],
   "source": [
    "# So, which are the violent movies?\n",
    "LLM_results_df_violent = LLM_results_df[LLM_results_df[\"Prediction\"] == 1.0]\n",
    "LLM_results_df_violent"
   ]
  },
  {
   "cell_type": "markdown",
   "metadata": {},
   "source": [
    "Let's investigate: do the categories appearing most for each movie group make sense with the groups themselves?"
   ]
  },
  {
   "cell_type": "code",
   "execution_count": null,
   "metadata": {},
   "outputs": [],
   "source": [
    "# First: we merge the categories and the LLM predictions\n",
    "merged_cat_pred = empath_df_non_norm.merge(LLM_results_df, how='left', on='Wikipedia movie ID')\n",
    "merged_cat_pred"
   ]
  },
  {
   "cell_type": "code",
   "execution_count": null,
   "metadata": {},
   "outputs": [],
   "source": [
    "# Filter: we only keep violent movies\n",
    "violent = merged_cat_pred[merged_cat_pred['Prediction'] == 1.0]\n",
    "\n",
    "# Identify: the top 10 categories\n",
    "category_columns = [col for col in merged_cat_pred.columns if col not in ['Wikipedia movie ID', 'Result', 'Prediction', 'Movie name']]\n",
    "category_sums_violent = violent[category_columns].sum(axis=0)\n",
    "top_categories_violent = category_sums_violent.sort_values(ascending=False).head(10).index\n",
    "\n",
    "# Let's read them out\n",
    "top_categories_violent_list = list(top_categories_violent)\n",
    "cats = \"The categories appearing most in violent movies are, in order: \" + \", \".join(top_categories_violent_list) + \".\"\n",
    "print(cats)"
   ]
  },
  {
   "cell_type": "code",
   "execution_count": null,
   "metadata": {},
   "outputs": [],
   "source": [
    "# Filter: we only keep non-violent movies\n",
    "non_violent = merged_cat_pred[merged_cat_pred['Prediction'] == -1.0]\n",
    "\n",
    "# Identify: the top 10 categories\n",
    "category_sums_nv = non_violent[category_columns].sum(axis=0)\n",
    "top_categories_nv = category_sums_nv.sort_values(ascending=False).head(10).index\n",
    "\n",
    "# Let's read them out\n",
    "top_categories_nv_list = list(top_categories_nv)\n",
    "cats_nv = \"The categories appearing most in non-violent movies are, in order: \" + \", \".join(top_categories_nv_list) + \".\"\n",
    "print(cats_nv)"
   ]
  },
  {
   "cell_type": "code",
   "execution_count": null,
   "metadata": {},
   "outputs": [],
   "source": [
    "# Choose the same 10 random movies\n",
    "random_rows_movies = violent.sample(10, random_state=50)\n",
    "\n",
    "# Normalize the scores for violent movies\n",
    "all_categories_normalized_violent = random_rows_movies[category_columns].div(random_rows_movies[category_columns].sum(axis=1), axis=0)\n",
    "top_categories_normalized_violent = all_categories_normalized_violent[top_categories_violent]\n",
    "top_categories_normalized_violent.index = random_rows_movies['Movie name']\n",
    "\n",
    "# Normalize the scores for top_categories_nv for the same movies\n",
    "all_categories_normalized_nv = random_rows_movies[category_columns].div(random_rows_movies[category_columns].sum(axis=1), axis=0)\n",
    "top_categories_normalized_nv = all_categories_normalized_nv[top_categories_nv]\n",
    "top_categories_normalized_nv.index = random_rows_movies['Movie name']\n",
    "\n",
    "# Visualize\n",
    "fig, axes = plt.subplots(1, 2, figsize=(20, 8), sharey=True)\n",
    "\n",
    "# Plot the top categories for violent movies\n",
    "top_categories_normalized_violent.plot(kind=\"bar\", stacked=True, colormap=\"gist_heat\", ax=axes[0], legend=True)\n",
    "axes[0].set_title(\"Category Contributions for Violent Movies\", fontsize=16)\n",
    "axes[0].set_xlabel(\"Movie Name\", fontsize=14)\n",
    "axes[0].set_ylabel(\"Categories\", fontsize=14)\n",
    "axes[0].tick_params(axis=\"x\", rotation=90)\n",
    "\n",
    "# Plot the top categories for nv movies\n",
    "top_categories_normalized_nv.plot(kind=\"bar\", stacked=True, colormap=\"viridis\", ax=axes[1], legend=True)\n",
    "axes[1].set_title(\"Category Contributions for NV Movies\", fontsize=16)\n",
    "axes[1].set_xlabel(\"Movie Name\", fontsize=14)\n",
    "axes[1].set_ylabel(\"Categories\", fontsize=14)\n",
    "axes[1].tick_params(axis=\"x\", rotation=90)\n",
    "\n",
    "fig.tight_layout()\n",
    "plt.show()"
   ]
  },
  {
   "cell_type": "code",
   "execution_count": null,
   "metadata": {},
   "outputs": [],
   "source": [
    "# Choose the same 10 random movies\n",
    "random_rows_nv = non_violent.sample(10, random_state=50)\n",
    "\n",
    "# Normalize the scores for top_categories_violent\n",
    "all_categories_normalized_v = random_rows_nv[category_columns].div(random_rows_nv[category_columns].sum(axis=1), axis=0)\n",
    "top_categories_normalized_v = all_categories_normalized_v[top_categories_violent]\n",
    "top_categories_normalized_v.index = random_rows_nv['Movie name']\n",
    "\n",
    "# Normalize the scores for top_categories_nv for the same movies\n",
    "all_categories_normalized_nv = random_rows_nv[category_columns].div(random_rows_nv[category_columns].sum(axis=1), axis=0)\n",
    "top_categories_normalized_nv = all_categories_normalized_nv[top_categories_nv]\n",
    "top_categories_normalized_nv.index = random_rows_nv['Movie name']\n",
    "\n",
    "# Visualize\n",
    "fig, axes = plt.subplots(1, 2, figsize=(20, 8), sharey=True)\n",
    "\n",
    "# Plot the top categories for violent movies\n",
    "top_categories_normalized_v.plot(kind=\"bar\", stacked=True, colormap=\"gist_heat\", ax=axes[0], legend=True)\n",
    "axes[0].set_title(\"Category Contributions for Violent Movies\", fontsize=16)\n",
    "axes[0].set_xlabel(\"Movie Name\", fontsize=14)\n",
    "axes[0].set_ylabel(\"Categories\", fontsize=14)\n",
    "axes[0].tick_params(axis=\"x\", rotation=90)\n",
    "\n",
    "# Plot the top categories for nv movies\n",
    "top_categories_normalized_nv.plot(kind=\"bar\", stacked=True, colormap=\"viridis\", ax=axes[1], legend=True)\n",
    "axes[1].set_title(\"Category Contributions for NV Movies\", fontsize=16)\n",
    "axes[1].set_xlabel(\"Movie Name\", fontsize=14)\n",
    "axes[1].set_ylabel(\"Categories\", fontsize=14)\n",
    "axes[1].tick_params(axis=\"x\", rotation=90)\n",
    "\n",
    "fig.tight_layout()\n",
    "plt.show()"
   ]
  },
  {
   "cell_type": "markdown",
   "metadata": {},
   "source": [
    "#### 0.2.2 Second LLM validation: violent VS non-violent classification"
   ]
  },
  {
   "cell_type": "markdown",
   "metadata": {},
   "source": [
    "Why did we decide to change the LLM classification? \\\n",
    "We figured out that for the ARDL model, it would be much better to have a binary classification. Hence, we want to check here that this classification is as good as the previous one and that we can use it safely in the next parts of our analysis. "
   ]
  },
  {
   "cell_type": "code",
   "execution_count": null,
   "metadata": {},
   "outputs": [],
   "source": [
    "LLM_binary_df = pd.read_csv('data/CLEAN/classification_result/LLM_result_binary.csv')\n",
    "LLM_binary_df.index = LLM_binary_df[\"Wikipedia movie ID\"]\n",
    "LLM_binary_df.drop(columns=[\"Wikipedia movie ID\"], inplace=True)\n",
    "LLM_binary_df"
   ]
  },
  {
   "cell_type": "code",
   "execution_count": null,
   "metadata": {},
   "outputs": [],
   "source": [
    "# Again, merge the categories and the predictions\n",
    "merged_cat_pred_2= empath_df_non_norm.merge(LLM_binary_df, how='left', on='Wikipedia movie ID')\n",
    "merged_cat_pred_2"
   ]
  },
  {
   "cell_type": "code",
   "execution_count": null,
   "metadata": {},
   "outputs": [],
   "source": [
    "# Filter: we only keep violent movies\n",
    "violent = merged_cat_pred_2[merged_cat_pred_2['Prediction'] == 1.0]\n",
    "\n",
    "# Identify: the top 10 categories\n",
    "category_columns = [col for col in merged_cat_pred.columns if col not in ['Wikipedia movie ID', 'Result', 'Prediction', 'Movie name']]\n",
    "category_sums_violent = violent[category_columns].sum(axis=0)\n",
    "top_categories_violent = category_sums_violent.sort_values(ascending=False).head(10).index\n",
    "\n",
    "# Let's read them out\n",
    "top_categories_violent_list = list(top_categories_violent)\n",
    "cats = \"The categories appearing most in violent movies are, in order: \" + \", \".join(top_categories_violent_list) + \".\"\n",
    "print(cats)"
   ]
  },
  {
   "cell_type": "code",
   "execution_count": null,
   "metadata": {},
   "outputs": [],
   "source": [
    "# Filter: we only keep non-violent movies\n",
    "non_violent = merged_cat_pred_2[merged_cat_pred_2['Prediction'] == -1.0]\n",
    "\n",
    "# Identify: the top 10 categories\n",
    "category_sums_nv = non_violent[category_columns].sum(axis=0)\n",
    "top_categories_nv = category_sums_nv.sort_values(ascending=False).head(10).index\n",
    "\n",
    "# Let's read them out\n",
    "top_categories_nv_list = list(top_categories_nv)\n",
    "cats_nv = \"The categories appearing most in non-violent movies are, in order: \" + \", \".join(top_categories_nv_list) + \".\"\n",
    "print(cats_nv)"
   ]
  },
  {
   "cell_type": "code",
   "execution_count": null,
   "metadata": {},
   "outputs": [],
   "source": [
    "# Choose the same 10 random movies\n",
    "random_rows_movies = violent.sample(10, random_state=50)\n",
    "\n",
    "# Normalize the scores for violent movies\n",
    "all_categories_normalized_violent = random_rows_movies[category_columns].div(random_rows_movies[category_columns].sum(axis=1), axis=0)\n",
    "top_categories_normalized_violent = all_categories_normalized_violent[top_categories_violent]\n",
    "top_categories_normalized_violent.index = random_rows_movies['Movie name']\n",
    "\n",
    "# Normalize the scores for top_categories_nv for the same movies\n",
    "all_categories_normalized_nv = random_rows_movies[category_columns].div(random_rows_movies[category_columns].sum(axis=1), axis=0)\n",
    "top_categories_normalized_nv = all_categories_normalized_nv[top_categories_nv]\n",
    "top_categories_normalized_nv.index = random_rows_movies['Movie name']\n",
    "\n",
    "# Visualize\n",
    "fig, axes = plt.subplots(1, 2, figsize=(20, 8), sharey=True)\n",
    "\n",
    "# Plot the top categories for violent movies\n",
    "top_categories_normalized_violent.plot(kind=\"bar\", stacked=True, colormap=\"gist_heat\", ax=axes[0], legend=True)\n",
    "axes[0].set_title(\"Category Contributions for Violent Movies\", fontsize=16)\n",
    "axes[0].set_xlabel(\"Movie Name\", fontsize=14)\n",
    "axes[0].set_ylabel(\"Categories\", fontsize=14)\n",
    "axes[0].tick_params(axis=\"x\", rotation=90)\n",
    "\n",
    "# Plot the top categories for nv movies\n",
    "top_categories_normalized_nv.plot(kind=\"bar\", stacked=True, colormap=\"viridis\", ax=axes[1], legend=True)\n",
    "axes[1].set_title(\"Category Contributions for NV Movies\", fontsize=16)\n",
    "axes[1].set_xlabel(\"Movie Name\", fontsize=14)\n",
    "axes[1].set_ylabel(\"Categories\", fontsize=14)\n",
    "axes[1].tick_params(axis=\"x\", rotation=90)\n",
    "\n",
    "fig.tight_layout()\n",
    "plt.show()"
   ]
  },
  {
   "cell_type": "markdown",
   "metadata": {},
   "source": [
    "We can see above, the movies are dominated by the violent categories, rather than by the non-violent ones. "
   ]
  },
  {
   "cell_type": "code",
   "execution_count": null,
   "metadata": {},
   "outputs": [],
   "source": [
    "# Choose the same 10 random movies\n",
    "random_rows_nv = non_violent.sample(10, random_state=50)\n",
    "\n",
    "# Normalize the scores for top_categories_violent\n",
    "all_categories_normalized_v = random_rows_nv[category_columns].div(random_rows_nv[category_columns].sum(axis=1), axis=0)\n",
    "top_categories_normalized_v = all_categories_normalized_v[top_categories_violent]\n",
    "top_categories_normalized_v.index = random_rows_nv['Movie name']\n",
    "\n",
    "# Normalize the scores for top_categories_nv for the same movies\n",
    "all_categories_normalized_nv = random_rows_nv[category_columns].div(random_rows_nv[category_columns].sum(axis=1), axis=0)\n",
    "top_categories_normalized_nv = all_categories_normalized_nv[top_categories_nv]\n",
    "top_categories_normalized_nv.index = random_rows_nv['Movie name']\n",
    "\n",
    "# Visualize\n",
    "fig, axes = plt.subplots(1, 2, figsize=(20, 8), sharey=True)\n",
    "\n",
    "# Plot the top categories for violent movies\n",
    "top_categories_normalized_v.plot(kind=\"bar\", stacked=True, colormap=\"gist_heat\", ax=axes[0], legend=True)\n",
    "axes[0].set_title(\"Category Contributions for Violent Movies\", fontsize=16)\n",
    "axes[0].set_xlabel(\"Movie Name\", fontsize=14)\n",
    "axes[0].set_ylabel(\"Categories\", fontsize=14)\n",
    "axes[0].tick_params(axis=\"x\", rotation=90)\n",
    "\n",
    "# Plot the top categories for nv movies\n",
    "top_categories_normalized_nv.plot(kind=\"bar\", stacked=True, colormap=\"viridis\", ax=axes[1], legend=True)\n",
    "axes[1].set_title(\"Category Contributions for NV Movies\", fontsize=16)\n",
    "axes[1].set_xlabel(\"Movie Name\", fontsize=14)\n",
    "axes[1].set_ylabel(\"Categories\", fontsize=14)\n",
    "axes[1].tick_params(axis=\"x\", rotation=90)\n",
    "\n",
    "fig.tight_layout()\n",
    "plt.show()"
   ]
  },
  {
   "cell_type": "markdown",
   "metadata": {},
   "source": [
    "And here it is the opposite! The movies are dominated by the non-violent categories, rather than by the violent ones. \n",
    "##### Our conclusion at this point: we are satistied with the LLM classification, let's use it further!"
   ]
  },
  {
   "cell_type": "markdown",
   "metadata": {},
   "source": [
    "### 0.3 Further studies on time trends, genre, box office, etc."
   ]
  },
  {
   "cell_type": "markdown",
   "metadata": {},
   "source": [
    "We will now perform some studies on the yearly trends, box office revenues through times, etc. \\\n",
    "To do so, we first reshape our dataframe to include only the columns we will further need."
   ]
  },
  {
   "cell_type": "code",
   "execution_count": null,
   "metadata": {},
   "outputs": [],
   "source": [
    "# Remove unecessary columns\n",
    "Movie_Data_reduced = Movie_Data.copy()\n",
    "Movie_Data_reduced.drop(columns=[\"Languages\", \"Countries\", \"Genres\", \"Plot\"], inplace=True)\n",
    "\n",
    "\n",
    "# Let's take care of the dates to have the (Week - Year) format\n",
    "Movie_Data_reduced[\"Year\"] = pd.to_datetime(Movie_Data[\"Release date\"]).dt.year\n",
    "Movie_Data_reduced[\"Week\"] = pd.to_datetime(Movie_Data[\"Release date\"]).dt.isocalendar().week\n",
    "\n",
    "# We add the result from LLM classification \n",
    "All_Movie_Data = Movie_Data_reduced.merge(LLM_binary_df, how='left', on='Wikipedia movie ID')\n",
    "All_Movie_Data"
   ]
  },
  {
   "cell_type": "code",
   "execution_count": 91,
   "metadata": {},
   "outputs": [],
   "source": [
    "# We remove the NaN from the Box-Office for further plots\n",
    "Non_zero_All_Movies = All_Movie_Data[All_Movie_Data[\"Box office revenue\"].notnull()]\n",
    "Non_zero_All_Movies\n",
    "\n",
    "# We export to try to do this in flourish too\n",
    "Non_zero_All_Movies.to_csv(\"data/CLEAN/Non_zero_All_Movies.tsv\", sep=\"\\t\")"
   ]
  },
  {
   "cell_type": "code",
   "execution_count": null,
   "metadata": {},
   "outputs": [],
   "source": [
    "# We define two dataframes, violent movies and non-violent \n",
    "All_Movie_Data_Violent = All_Movie_Data[All_Movie_Data['Prediction'] == 1.0].copy()\n",
    "All_Movie_Data_NonViolent = All_Movie_Data[All_Movie_Data['Prediction'] == -1.0].copy()\n",
    "\n",
    "All_Movie_Data_Violent.index = All_Movie_Data_Violent[\"Wikipedia movie ID\"]\n",
    "All_Movie_Data_Violent.drop(columns=[\"Wikipedia movie ID\"], inplace=True)\n",
    "All_Movie_Data_Violent"
   ]
  },
  {
   "cell_type": "code",
   "execution_count": null,
   "metadata": {},
   "outputs": [],
   "source": [
    "# Save the dataframes for further usage\n",
    "#All_Movie_Data_Violent.to_csv(\"data/CLEAN/All_Movie_Data_Violent\", sep=\"\\t\")\n",
    "#All_Movie_Data_NonViolent.to_csv(\"data/CLEAN/All_Movie_Data_NonViolent\", sep=\"\\t\")"
   ]
  },
  {
   "cell_type": "code",
   "execution_count": null,
   "metadata": {},
   "outputs": [],
   "source": [
    "# Let's group by year and plot\n",
    "All_Movies_by_Year = All_Movie_Data.groupby(['Year']).size().reset_index(name='Count')\n",
    "All_Movies_by_Year.sort_values(by=['Year'])\n",
    "\n",
    "plt.figure(figsize=(10, 8))\n",
    "plt.bar(All_Movies_by_Year['Year'], All_Movies_by_Year['Count'], color='skyblue')\n",
    "plt.xlabel('Time')\n",
    "plt.ylabel('Count')\n",
    "plt.title('Violent Movies Per Year')\n",
    "plt.xticks(rotation=90)  # Rotate x-axis labels for better readability\n",
    "plt.tight_layout()\n",
    "plt.show()"
   ]
  },
  {
   "cell_type": "code",
   "execution_count": null,
   "metadata": {},
   "outputs": [],
   "source": [
    "# Let's visualize the ratio of violent and non-violent movies per year\n",
    "grouped = All_Movie_Data.groupby(['Year', 'Result']).size().unstack(fill_value=0)\n",
    "grouped[\"Total\"] = grouped[\"Non-violent\"] + grouped[\"Violent\"]\n",
    "grouped[\"Violent_ratio\"] = grouped[\"Violent\"]/grouped[\"Total\"]\n",
    "grouped"
   ]
  },
  {
   "cell_type": "code",
   "execution_count": null,
   "metadata": {},
   "outputs": [],
   "source": [
    "fig, ax = plt.subplots(figsize=(10, 8))\n",
    "grouped[[\"Non-violent\", \"Violent\"]].plot(kind='bar', stacked=True, color=['blue', 'pink'], ax=ax)\n",
    "plt.xlabel('Year')\n",
    "plt.ylabel('Count')\n",
    "plt.title('Count of Results by Year (Binary Results)')\n",
    "plt.xticks(rotation=90)\n",
    "plt.legend(title='Result', labels=['1 Violent', '-1 Non-Violent'])\n",
    "plt.tight_layout()\n",
    "plt.show()"
   ]
  },
  {
   "cell_type": "code",
   "execution_count": null,
   "metadata": {},
   "outputs": [],
   "source": [
    "# Let's look at the ratios & let's try to evidence a trend \n",
    "\n",
    "regressor = LinearRegression()\n",
    "regressor.fit(grouped.index.to_numpy().reshape(-1, 1), grouped.Violent_ratio.values)\n",
    "\n",
    "b = regressor.intercept_\n",
    "m = regressor.coef_[0]\n",
    "\n",
    "plt.figure(figsize=(10, 8))\n",
    "\n",
    "plt.bar(grouped.index, grouped.Violent_ratio, color='skyblue')\n",
    "plt.plot(grouped.index, grouped.index*m+b, label = \"slope : \"+str(round(m*100,2))+\"% per year\")\n",
    "plt.xlabel('Time')\n",
    "plt.ylabel('ration Violent')\n",
    "plt.title('Ratio Violent Movies Per Year ')\n",
    "plt.xticks(rotation=90)  # Rotate x-axis labels for better readability\n",
    "plt.tight_layout()\n",
    "plt.legend()\n",
    "plt.show()"
   ]
  },
  {
   "cell_type": "markdown",
   "metadata": {},
   "source": [
    "We see a small increase in the ratio of violent movies to non-violent. \\\n",
    "It might be due to the increase in movie production in total, but we still find this finding interesting. "
   ]
  },
  {
   "cell_type": "code",
   "execution_count": null,
   "metadata": {},
   "outputs": [],
   "source": [
    "# Now we wonder, can we evidence any weekly trend? \n",
    "\n",
    "grouped_week = All_Movie_Data.groupby(['Week', 'Result']).size().unstack(fill_value=0)\n",
    "grouped_week[\"Total\"] = grouped_week[\"Non-violent\"] + grouped_week[\"Violent\"]\n",
    "grouped_week[\"Violent_ratio\"] = grouped_week[\"Violent\"]/grouped_week[\"Total\"]\n"
   ]
  },
  {
   "cell_type": "code",
   "execution_count": null,
   "metadata": {},
   "outputs": [],
   "source": [
    "fig, ax = plt.subplots(figsize=(10, 8))\n",
    "grouped_week[[\"Non-violent\", \"Violent\"]].plot(kind='bar', stacked=True, color=['blue', 'pink'], ax=ax)\n",
    "plt.xlabel('Week')\n",
    "plt.ylabel('Count')\n",
    "plt.title('Count of Results by Week (over all years)')\n",
    "plt.xticks(rotation=90)\n",
    "plt.legend(title='Result', labels=['1 Violent', '-1 Non-Violent'])\n",
    "plt.tight_layout()\n",
    "plt.show()"
   ]
  },
  {
   "cell_type": "markdown",
   "metadata": {},
   "source": [
    "The plot above shows that we cannot evidence a different trend for the release of violent movies versus non-violent: they follow the same tendencies. Less movies are released during the summer, but overall we cannot select any specific week in which it would make more sense to investigate for the corrleation between violent and non-violent movies. "
   ]
  },
  {
   "cell_type": "markdown",
   "metadata": {},
   "source": [
    "## 1. On the real world side"
   ]
  },
  {
   "cell_type": "markdown",
   "metadata": {},
   "source": [
    "### 1.1 Lucie's work"
   ]
  },
  {
   "cell_type": "markdown",
   "metadata": {},
   "source": [
    "### 1.2 Preliminary analysis"
   ]
  },
  {
   "cell_type": "code",
   "execution_count": null,
   "metadata": {},
   "outputs": [],
   "source": [
    "DATA_PATH = \"data/CLEAN/FBI_91_12/\"\n",
    "\n",
    "# Let's take an example with the state of Alabama\n",
    "state = \"Alabama\"\n",
    "single_state_data = pd.read_csv(DATA_PATH+ state+\"_violence.csv\", sep=\",\")\n",
    "display(single_state_data)"
   ]
  },
  {
   "cell_type": "code",
   "execution_count": null,
   "metadata": {},
   "outputs": [],
   "source": [
    "single_state_data.sort_values(by=['year', 'week'], inplace=True)\n",
    "print(\"The unique years in {} data spam from {} to {}\".format(state,single_state_data.year.min(), single_state_data.year.max()))\n",
    "print(\"The unique weeks in {} data spam from {} to {}\".format(state, single_state_data.week.min(), single_state_data.week.max()))\n",
    "#We cut to 2012 because we don't have the box offices of the movies after this year\n",
    "single_state_data_data_matched = single_state_data[single_state_data.year < 2013]"
   ]
  },
  {
   "cell_type": "code",
   "execution_count": 56,
   "metadata": {},
   "outputs": [],
   "source": [
    "# Obtain all the states names\n",
    "all_states_names = os.listdir(DATA_PATH)\n",
    "\n",
    "# Collect all the states files in a dictionary for easy access \n",
    "states_data = {}\n",
    "\n",
    "for state_ in all_states_names:\n",
    "    states_data[state_[:-13]] = pd.read_csv(DATA_PATH+state_, sep=\",\")"
   ]
  },
  {
   "cell_type": "markdown",
   "metadata": {},
   "source": [
    "Let's have a look at the distribution of offenses committed in one state: Alabama. \\\n",
    "We only plot one representative year since this is only a preliminary analysis. "
   ]
  },
  {
   "cell_type": "code",
   "execution_count": null,
   "metadata": {},
   "outputs": [],
   "source": [
    "# Perform the groupby operation and calculate size\n",
    "year = 2012\n",
    "\n",
    "# Obtain the number of each class per year per week \n",
    "group_sizes = single_state_data.groupby([\"year\", \"week\", \"offense_category_name\"]).size()\n",
    "\n",
    "# Reset the index and name the size column\n",
    "result_df = group_sizes.reset_index(name='count_of_offenses')\n",
    "sns.scatterplot(result_df[result_df.year==year], x='week', y='count_of_offenses',hue='offense_category_name')\n",
    "plt.xlabel(\"Week\")\n",
    "plt.ylabel(\"Count of each offense\")\n",
    "plt.title(\"Offense count per week in {} for {}\".format(state,year))\n",
    "plt.legend(bbox_to_anchor=(1.05, 1.0), loc='upper left')\n",
    "plt.show()"
   ]
  },
  {
   "cell_type": "markdown",
   "metadata": {},
   "source": [
    "We see immediately that larceny and assault offenses are much more common than all other offenses represented. We want to investigate further, hence we use a heatmap representation."
   ]
  },
  {
   "cell_type": "code",
   "execution_count": null,
   "metadata": {},
   "outputs": [],
   "source": [
    "heatmap_data = result_df[result_df.year == year].pivot(index=\"week\", columns=\"offense_category_name\", values=\"count_of_offenses\")\n",
    "heatmap_data.fillna(0, inplace=True)  # Fill NaN values with 0\n",
    "\n",
    "plt.figure(figsize=(12, 8))\n",
    "sns.heatmap(heatmap_data, annot=True, cmap='coolwarm', linewidths=.5,cbar_kws={'label': 'Count of Offenses'} ) \n",
    "plt.title('Categorical weekly offenses in {} for the state of {}'.format(year,state))\n",
    "plt.ylabel('Week')\n",
    "plt.xlabel('Offense Category')\n",
    "plt.show()"
   ]
  },
  {
   "cell_type": "markdown",
   "metadata": {},
   "source": [
    "The disparities are even clearer now. Larceny shadows all other offenses, at least for the year 2012. \\\n",
    "We now want to know whether there is a trend across the years. Hence, we look into the period our dataset spans."
   ]
  },
  {
   "cell_type": "code",
   "execution_count": 59,
   "metadata": {},
   "outputs": [],
   "source": [
    "# Store all years for each state in a dictionary\n",
    "states_years = {}\n",
    "for state_ in all_states_names:\n",
    "    states_years[state_[:-13]] = sorted(states_data[state_[:-13]].year.unique())"
   ]
  },
  {
   "cell_type": "code",
   "execution_count": null,
   "metadata": {},
   "outputs": [],
   "source": [
    "# Create a presence DataFrame for all the states\n",
    "presence_df = pd.DataFrame(index= states_data.keys(),columns=np.arange(1991,2013))# Again restrict to 1991-2013 due to box-office constrainsts\n",
    "\n",
    "# Populate the DataFrame\n",
    "for state_, years in states_years.items():\n",
    "    presence_df.loc[state_, years] = 1 # If the state has data for that year, set to 1\n",
    "\n",
    "presence_df.fillna(0, inplace=True) # If the state does not have data for that year, set to 0"
   ]
  },
  {
   "cell_type": "code",
   "execution_count": null,
   "metadata": {},
   "outputs": [],
   "source": [
    "# Visualise the years spam for each state\n",
    "plt.figure(figsize=(10, 6))\n",
    "sns.heatmap(presence_df, annot=True, cmap=\"coolwarm\", cbar=True, linewidths=.5)\n",
    "plt.title('Data Availability per State and Year')\n",
    "plt.ylabel('State')\n",
    "plt.xlabel('Year')\n",
    "plt.show()"
   ]
  },
  {
   "cell_type": "code",
   "execution_count": null,
   "metadata": {},
   "outputs": [],
   "source": [
    "# Data for Florish heatmap \n",
    "#heatmap_data.to_csv('../../data/CLEAN/heatmap_data.tsv', sep=\"\\t\", index=False)"
   ]
  },
  {
   "cell_type": "code",
   "execution_count": null,
   "metadata": {},
   "outputs": [],
   "source": [
    "years_str = \", \".join(map(str, states_years[state]))\n",
    "plt.figure(figsize=(20,10))\n",
    "states_data[state].groupby(\"offense_category_name\").size().plot(kind=\"bar\",logy=True)\n",
    "plt.title(state +\" violence on the aggregated data of : {}\".format(years_str))\n",
    "plt.show()"
   ]
  },
  {
   "cell_type": "markdown",
   "metadata": {},
   "source": [
    "The plot above shows that even when considering all the years combined, larceny and assaults still stand out as most committed offenses. "
   ]
  },
  {
   "cell_type": "code",
   "execution_count": null,
   "metadata": {},
   "outputs": [],
   "source": [
    "# Let's see if the conclusions above hold for all 36 states for which we have the data\n",
    "year = 2012\n",
    "fig, axes = plt.subplots(nrows=6, ncols=6, figsize=(30, 30))\n",
    "axes = axes.flatten()\n",
    "\n",
    "for i, state in enumerate(all_states_names):\n",
    "    ax = axes[i]\n",
    "    states_data[state[:-13]][states_data[state[:-13]].year==year].groupby(\"offense_category_name\").size().plot(kind=\"bar\", logy=True, ax=ax)\n",
    "    ax.set_title(state[:-13] + \" violence\")\n",
    "    ax.set_ylim(0.001, 10**8)\n",
    "\n",
    "plt.tight_layout()\n",
    "plt.show()"
   ]
  },
  {
   "cell_type": "code",
   "execution_count": 69,
   "metadata": {},
   "outputs": [],
   "source": [
    "states_years_consecutive = pd.DataFrame(index= states_data.keys(),columns=[\"minimum_year\", \"maximum year\"])\n",
    "for state_ in all_states_names:\n",
    "    sequence = longest_consecutive_sequence(states_years[state_[:-13]])\n",
    "    states_years_consecutive.loc[state[:-13], \"minimum_year\"] = np.min(sequence)\n",
    "    states_years_consecutive.loc[state[:-13], \"maximum year\"] = np.max(sequence)"
   ]
  },
  {
   "cell_type": "code",
   "execution_count": null,
   "metadata": {},
   "outputs": [],
   "source": [
    "#save the data \n",
    "#states_years_consecutive.to_csv(DATA_PATH +\"/Consecutive_years_states.tsv\", sep=\"\\t\")"
   ]
  },
  {
   "cell_type": "code",
   "execution_count": null,
   "metadata": {},
   "outputs": [],
   "source": [
    "state = \"Alabama\"\n",
    "plt.figure(figsize=(20,10))\n",
    "states_data[state].groupby(\"offense_category_name\").size().plot(kind=\"bar\",logy=True)\n",
    "plt.title(state +\" violence on the full years available\")\n",
    "plt.show()"
   ]
  },
  {
   "cell_type": "code",
   "execution_count": null,
   "metadata": {},
   "outputs": [],
   "source": [
    "states_years = {}\n",
    "for state in all_states_names:\n",
    "    states_years[state[:-13]] = sorted(states_data[state[:-13]].year.unique())\n",
    "\n",
    "presence_df = pd.DataFrame(index= states_data.keys(),columns=np.arange(1991,2013))\n",
    "\n",
    "# Populate the DataFrame\n",
    "for state, years in states_years.items():\n",
    "    presence_df.loc[state, years] = 1\n",
    "\n",
    "presence_df.fillna(0, inplace=True)"
   ]
  },
  {
   "cell_type": "code",
   "execution_count": null,
   "metadata": {},
   "outputs": [],
   "source": [
    "plt.figure(figsize=(10, 6))\n",
    "sns.heatmap(presence_df, annot=True, cmap=\"coolwarm\", cbar=True, linewidths=.5)\n",
    "plt.title('Data Availability per State and Year')\n",
    "plt.ylabel('State')\n",
    "plt.xlabel('Year')\n",
    "plt.show()"
   ]
  },
  {
   "cell_type": "markdown",
   "metadata": {},
   "source": [
    "### 1.3 Defining a violence score"
   ]
  },
  {
   "cell_type": "markdown",
   "metadata": {},
   "source": [
    "#### 1.3.0 Pre-processing"
   ]
  },
  {
   "cell_type": "code",
   "execution_count": 15,
   "metadata": {},
   "outputs": [],
   "source": [
    "states_years_consecutive = pd.DataFrame(index= states_data.keys(),columns=[\"minimum_year\", \"maximum year\"])\n",
    "for state in all_states_names:\n",
    "    sequence = longest_consecutive_sequence(states_years[state[:-13]])\n",
    "    states_years_consecutive.loc[state[:-13], \"minimum_year\"] = np.min(sequence)\n",
    "    states_years_consecutive.loc[state[:-13], \"maximum year\"] = np.max(sequence)"
   ]
  },
  {
   "cell_type": "code",
   "execution_count": 16,
   "metadata": {},
   "outputs": [],
   "source": [
    "#save the data \n",
    "#states_years_consecutive.to_csv(DATA_PATH +\"/Consecutive_years_states.tsv\", sep=\"\\t\")"
   ]
  },
  {
   "cell_type": "markdown",
   "metadata": {},
   "source": [
    "#### 1.3.1 Score by count and count ratio"
   ]
  },
  {
   "cell_type": "code",
   "execution_count": null,
   "metadata": {},
   "outputs": [],
   "source": [
    "# Specify the data (state for now, has to apply to each and then merge results)\n",
    "# Specify the year (right now can't take multiple years, have to solve this)\n",
    "# Specify the start and stop weeks\n",
    "# Specify if you want the ratio or the count\n",
    "real_life_violence_score_count(Alabama_data,2008,10,14,True)"
   ]
  },
  {
   "cell_type": "markdown",
   "metadata": {},
   "source": [
    "#### 1.3.2 Score taking into account the different categories of offenses"
   ]
  },
  {
   "cell_type": "code",
   "execution_count": null,
   "metadata": {},
   "outputs": [],
   "source": [
    "# Specify the data (state for now, has to apply to each and then merge results)\n",
    "# Specify the year (right now can't take multiple years, have to solve this)\n",
    "# Specify the start and stop weeks\n",
    "# Specify the window size for the rolling mean and standard deviation, corresponding to either 3 and 6 \n",
    "violence_score_z_score_aggregated(Alabama_data,2008,10,14,window_size=2)"
   ]
  },
  {
   "cell_type": "markdown",
   "metadata": {},
   "source": [
    "#### 1.3.3 Potential cofounding factors"
   ]
  },
  {
   "cell_type": "markdown",
   "metadata": {},
   "source": [
    "New Year's Day (January 1, Week 1) \\\n",
    "Birthday of Martin Luther King, Jr. (Third Monday in January) (Week 3) \\\n",
    "Inauguration Day (January 20, every 4 years following a presidential election) (Week 3) \\\n",
    "Washington's Birthday/Presidents Day (Third Monday in February) (Week 8) \\\n",
    "Memorial Day (Last Monday in May) (Week 21 or week 22) \\\n",
    "Juneteenth National Independence Day (June 19) (Week 25) \\\n",
    "Independence Day (July 4) (Week 27 or Week 28) \\\n",
    "Labor Day (First Monday in September) (Week 36) \\\n",
    "Veterans Day (November 11) (Week 45 or Week 46) \\\n",
    "Thanksgiving Day (Fourth Thursday in November) (Week 47 or Week 48) \\\n",
    "Christmas Day (December 25) (Week 51,52) \\\n",
    "\n",
    "Source : https://www.usa.gov/holidays \\\n",
    "\n",
    "Saint-Valentine Day (February 14) (Week 7) \\\n",
    "Halloween (31st October) (Week 44) \\\n",
    "Pride month (June) (Weeks 22 through 26) \\\n",
    "\n",
    "Source : ChatGPT prompt "
   ]
  },
  {
   "cell_type": "markdown",
   "metadata": {},
   "source": [
    "#### 1.3.4 Plots for z-score violent scores"
   ]
  },
  {
   "cell_type": "code",
   "execution_count": null,
   "metadata": {},
   "outputs": [],
   "source": [
    "from src.model.ARDL_model import z_score_all_states_merged\n",
    "z_scores_merged = z_score_all_states_merged(DATA_PATH, start_year = 2008, end_year = 2012, start_week = 1, stop_week = 52)"
   ]
  },
  {
   "cell_type": "code",
   "execution_count": null,
   "metadata": {},
   "outputs": [],
   "source": [
    "\n",
    "years = [2008, 2009, 2010, 2011, 2012]\n",
    "year_colors = {\n",
    "    2008: 'red',\n",
    "    2009: 'blue',\n",
    "    2010: 'green',\n",
    "    2011: 'orange',\n",
    "    2012: 'purple'\n",
    "}\n",
    "\n",
    "\n",
    "# Specific weeks\n",
    "highlighted_weeks = {\n",
    "    'Birthday of Martin Luther King, Jr.':3,\n",
    "    \"Washington's Birthday/Presidents Day\" :8,\n",
    "    \"Memorial Day\":21,\n",
    "    \"Independence Day\":27,\n",
    "    \"Labor day\":36,\n",
    "    \"Veterans Day\":45,\n",
    "    \"Thanksgiving Day\":47,\n",
    "    'Inauguration Day':3,\n",
    "    'Halloween': 44,  # Halloween falls on week 44\n",
    "    'Valentine\\'s Day': 7,  # Valentine's Day falls on week 7\n",
    "    'Pride Month Start': 22  # Pride Month starts in week 22\n",
    "}\n",
    "\n",
    "# Use a colormap (e.g., tab20)\n",
    "cmap = plt.colormaps.get_cmap(\"Set1\")  # Get a palette with 20 distinct colors\n",
    "distinct_colors = [cmap(i / len(highlighted_weeks)) for i in range(len(highlighted_weeks))]\n",
    "\n",
    "\n",
    "combined_df = z_scores_merged[z_scores_merged.Year.isin(years)]\n",
    "plt.figure(figsize=(20, 10))\n",
    "sns.lineplot(data=combined_df, x='Week', y='Violence_score', hue='Year', marker='o',palette=year_colors)\n",
    "plt.title(\"Violence score for the years 2008-2012\")\n",
    "plt.xticks(rotation=90)\n",
    "for (event, week), color in zip(highlighted_weeks.items(), distinct_colors  ):\n",
    "    plt.axvline(x=week, linestyle='--', alpha=0.7,label=event,color=color)\n",
    "plt.legend(bbox_to_anchor=(1.05, 1.0), loc='upper left')\n",
    "plt.show()"
   ]
  },
  {
   "cell_type": "code",
   "execution_count": 29,
   "metadata": {},
   "outputs": [],
   "source": [
    "result_df = z_scores_merged.groupby('Year')[\"Violence_score\"].sum()\n",
    "result_df = result_df.reset_index(name='Aggregated violent scores')"
   ]
  },
  {
   "cell_type": "code",
   "execution_count": null,
   "metadata": {},
   "outputs": [],
   "source": [
    "plt.figure(figsize=(10, 6))\n",
    "sns.barplot(data=result_df, x='Year', y='Aggregated violent scores')\n",
    "plt.title('Aggregated Violent Scores by Year')\n",
    "plt.xlabel('Year')\n",
    "plt.ylabel('Aggregated Violent Scores')\n",
    "plt.show()"
   ]
  },
  {
   "cell_type": "markdown",
   "metadata": {},
   "source": [
    "#### 1.3.5 Plots for count violent scores"
   ]
  },
  {
   "cell_type": "code",
   "execution_count": 31,
   "metadata": {},
   "outputs": [],
   "source": [
    "import warnings\n",
    "def violence_score_all_states_count(directory_path: str, start_year: int, end_year: int, start_week: int, stop_week: int, \n",
    "                                   ratio: bool = False, offenses: list = ['Assault Offenses', 'Robbery', 'Sex Offenses', 'Kidnapping/Abduction', 'Arson', 'Homicide Offenses']) -> dict:\n",
    "   \n",
    "\n",
    "    violence_scores_per_state = {}\n",
    "\n",
    "    # Iterate through directory\n",
    "    for filename in os.listdir(directory_path):\n",
    "\n",
    "        state_scores_years = []\n",
    "\n",
    "        # Check for .csv extension\n",
    "        if filename.endswith(\".csv\"):\n",
    "            file_path = os.path.join(directory_path, filename)\n",
    "\n",
    "            # Extract state name (everything before first \"_\")\n",
    "            state_name = filename.split(\"_\")[0]\n",
    "            dict_key = f\"ARDL_{state_name}\"\n",
    "\n",
    "            # Load into dataframe\n",
    "            real_violence_per_state = pd.read_csv(file_path, sep=\",\")\n",
    "\n",
    "            with warnings.catch_warnings():\n",
    "\n",
    "                warnings.filterwarnings(\"ignore\")\n",
    "\n",
    "                for year in range(start_year, end_year + 1):\n",
    "\n",
    "                    # Compute real-life violence score for this state and year\n",
    "                    weekly_score = real_life_violence_score_count(real_violence_per_state, year, start_week, stop_week, ratio)\n",
    "\n",
    "                    # Convert to DataFrame\n",
    "                    weekly_score_df = weekly_score.reset_index(name='violence_score')\n",
    "                    weekly_score_df['year'] = year\n",
    "                    state_scores_years.append(weekly_score_df)\n",
    "\n",
    "                # Store in dict\n",
    "                violence_scores_per_state[dict_key] = pd.concat(state_scores_years, axis=0, ignore_index=True)\n",
    "\n",
    "    # Concatenate all dataframes for all states\n",
    "    violence_scores_concat = pd.concat(violence_scores_per_state.values(), ignore_index=True)\n",
    "\n",
    "    # Group by \"Year\" and \"Week\", sum up the violence scores\n",
    "    violence_scores_merged = violence_scores_concat.groupby([\"year\", \"week\"], as_index=False).agg({\"violence_score\": \"sum\"})\n",
    "\n",
    "    # Renaming the columns for consistency\n",
    "    violence_scores_merged.columns.values[0] = \"Year\"\n",
    "    violence_scores_merged.columns.values[1] = \"Week\"\n",
    "    violence_scores_merged.columns.values[2] = \"Violence_score\"\n",
    "\n",
    "    return violence_scores_merged"
   ]
  },
  {
   "cell_type": "code",
   "execution_count": 32,
   "metadata": {},
   "outputs": [],
   "source": [
    "violent_score_ratio_merged = violence_score_all_states_count(DATA_PATH, 2008, 2012, 1, 52, ratio=True)\n",
    "violent_score_merged = violence_score_all_states_count(DATA_PATH, 2008, 2012, 1, 52, ratio=False)"
   ]
  },
  {
   "cell_type": "code",
   "execution_count": null,
   "metadata": {},
   "outputs": [],
   "source": [
    "years = [2008, 2009, 2010, 2011, 2012]\n",
    "year_colors = {\n",
    "    2008: 'red',\n",
    "    2009: 'blue',\n",
    "    2010: 'green',\n",
    "    2011: 'orange',\n",
    "    2012: 'purple'\n",
    "}\n",
    "combined_df_ratio = violent_score_ratio_merged[violent_score_ratio_merged.Year.isin(years)]\n",
    "\n",
    "plt.figure(figsize=(20, 10))\n",
    "sns.lineplot(data=combined_df_ratio, x='Week', y='Violence_score', hue='Year', marker='o',palette=year_colors)\n",
    "plt.title(\"Violence score for the years 2008-2012\")\n",
    "plt.xticks(rotation=90)\n",
    "for (event, week), color in zip(highlighted_weeks.items(), distinct_colors  ):\n",
    "    plt.axvline(x=week, linestyle='--', alpha=0.7,label=event,color=color)\n",
    "plt.legend(bbox_to_anchor=(1.05, 1.0), loc='upper left')\n",
    "plt.show()"
   ]
  },
  {
   "cell_type": "code",
   "execution_count": 34,
   "metadata": {},
   "outputs": [],
   "source": [
    "result_df_ratio = violent_score_ratio_merged.groupby('Year')[\"Violence_score\"].sum()\n",
    "result_df_ratio = result_df_ratio.reset_index(name='Aggregated violent scores')"
   ]
  },
  {
   "cell_type": "code",
   "execution_count": null,
   "metadata": {},
   "outputs": [],
   "source": [
    "plt.figure(figsize=(10, 6))\n",
    "sns.barplot(data=result_df_ratio, x='Year', y='Aggregated violent scores')\n",
    "plt.title('Aggregated Violent Scores by Year')\n",
    "plt.xlabel('Year')\n",
    "plt.ylabel('Aggregated Violent Scores')\n",
    "plt.show()"
   ]
  },
  {
   "cell_type": "code",
   "execution_count": null,
   "metadata": {},
   "outputs": [],
   "source": [
    "years = [2008, 2009, 2010, 2011, 2012]\n",
    "year_colors = {\n",
    "    2008: 'red',\n",
    "    2009: 'blue',\n",
    "    2010: 'green',\n",
    "    2011: 'orange',\n",
    "    2012: 'purple'\n",
    "}\n",
    "combined_df = violent_score_merged[violent_score_merged.Year.isin(years)]\n",
    "plt.figure(figsize=(20, 10))\n",
    "sns.lineplot(data=combined_df, x='Week', y='Violence_score', hue='Year', marker='o',palette=year_colors)\n",
    "plt.title(\"Violence score for the years 2008-2012\")\n",
    "plt.xticks(rotation=90)\n",
    "for (event, week), color in zip(highlighted_weeks.items(), distinct_colors  ):\n",
    "    plt.axvline(x=week, linestyle='--', alpha=0.7,label=event,color=color)\n",
    "plt.legend(bbox_to_anchor=(1.05, 1.0), loc='upper left')\n",
    "plt.show()"
   ]
  },
  {
   "cell_type": "code",
   "execution_count": 37,
   "metadata": {},
   "outputs": [],
   "source": [
    "result_df = violent_score_merged.groupby('Year')[\"Violence_score\"].sum()\n",
    "result_df = result_df.reset_index(name='Aggregated violent scores')"
   ]
  },
  {
   "cell_type": "code",
   "execution_count": null,
   "metadata": {},
   "outputs": [],
   "source": [
    "plt.figure(figsize=(10, 6))\n",
    "sns.barplot(data=result_df, x='Year', y='Aggregated violent scores')\n",
    "plt.title('Aggregated Violent Scores by Year')\n",
    "plt.xlabel('Year')\n",
    "plt.ylabel('Aggregated Violent Scores')\n",
    "plt.show()"
   ]
  },
  {
   "cell_type": "markdown",
   "metadata": {},
   "source": [
    "## 2. Autoregressive Distributed Lag Model\n",
    "### Is there a correlation between fiction and real life violence?"
   ]
  }
 ],
 "metadata": {
  "kernelspec": {
   "display_name": "Python 3",
   "language": "python",
   "name": "python3"
  },
  "language_info": {
   "codemirror_mode": {
    "name": "ipython",
    "version": 3
   },
   "file_extension": ".py",
   "mimetype": "text/x-python",
   "name": "python",
   "nbconvert_exporter": "python",
   "pygments_lexer": "ipython3",
   "version": "3.12.7"
  }
 },
 "nbformat": 4,
 "nbformat_minor": 4
}
