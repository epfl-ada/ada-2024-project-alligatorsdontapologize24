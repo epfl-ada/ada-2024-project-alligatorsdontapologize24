{
 "cells": [
  {
   "cell_type": "code",
   "execution_count": 3,
   "metadata": {},
   "outputs": [],
   "source": [
    "# imports \n",
    "from empath import Empath\n",
    "lexicon = Empath()\n",
    "import pandas as  pd\n",
    "import matplotlib.pyplot as plt"
   ]
  },
  {
   "cell_type": "markdown",
   "metadata": {},
   "source": [
    "## Steps for feature analysis aka violence metric\n",
    "\n",
    "\n",
    "1. Take advantage of Empath package to obtain categories representatives of violence\n",
    "    - a. Produce clean data locally thanks to results \n",
    "    - b. Preprocess as did in the paper to train Empath to ensure alignment with features found \n",
    "    - c. Perform Empath.lexicon.analyse with word counts, sorted_list (gives out cosine similarity between the vector of the category and the vector of the text given (need to reread that in paper))\n",
    "\n",
    "2. Identify the most represented categories in the plot per genre, per year\n",
    "3. Identify the most represented categories per movies classified as violent per ChatGPT \n",
    "4. Balance the frequencies of the words per their weight //TFID-matrix \n",
    "5. Our own logistic regression model : stantardise/normalise the train, test data \n",
    "6. Transform our plots in bags of words \n",
    "7. Side quest: Perform clustering on bags of words (idea: does it appear by itself group of violent movies)\n",
    "8. Visualisation of number of words per movies, per genres \n",
    "9. If skewed, try logarithm and see if it becomes gaussian -> fit with logarithm \n",
    "10. Our own model : have p-value\n",
    "Idea : try to replicate chatgpt predictions and explain them "
   ]
  },
  {
   "cell_type": "code",
   "execution_count": 4,
   "metadata": {},
   "outputs": [
    {
     "name": "stdout",
     "output_type": "stream",
     "text": [
      "Category =monster ['cursed', 'mutate', 'undead', 'werewolf', 'hunt', 'vicious', 'mythological', 'superpower', 'supernatural', 'devil', 'bloodthirsty', 'sighting', 'danger', 'underworld', 'vampire', 'immortal', 'hybrid', 'creature', 'beast', 'ferocious', 'foe', 'deadly', 'legendary', 'monstrous', 'evil', 'ravenous', 'mutant', 'inhuman', 'extinct', 'terrorize', 'mystical', 'myth', 'reincarnation', 'abomination', 'demonic', 'enemy', 'mutation', 'feral', 'monster', 'hunter', 'rogue', 'fearsome', 'alien', 'demon', 'witch', 'savage', 'feared', 'rabid', 'transformation', 'ruthless', 'wolf', 'fable', 'folklore', 'dragon', 'superhuman', 'parasite', 'unstoppable', 'predator', 'legend', 'mutated', 'extraterrestrial', 'mythical', 'villain', 'lore']\n",
      "Category =weapon ['equip', 'gunfire', 'kill', 'rifle', 'artillery', 'marksman', 'machete', 'arrow', 'mechanism', 'deadly', 'loaded', 'slice', 'butcher', 'enemy', 'samurai', 'baton', 'pellet', 'atomic', 'arsenal', 'trigger', 'pistol', 'shrapnel', 'soldiers', 'firearm', 'cannon', 'torpedo', 'slasher', 'ammo', 'sheath', 'melee', 'grenade', 'cartridge', 'trooper', 'bulletproof', 'charge', 'magnum', 'gunpowder', 'skewer', 'turret', 'sniper', '.45', 'armory', 'projectile', 'slicing', 'attacker', 'scope', 'throwing', 'strike', 'gun', 'spearhead', 'stab', 'puncture', 'bomb', 'armor', 'razor', 'to-hand', 'unarmed', 'firing', 'fire', 'detonator', 'shoot', 'firepower', 'ammunition', 'sword', 'warhead', 'spear', 'ax', 'extinguisher', 'armored', 'dagger', 'shield', 'attack', 'gauntlet', 'stabbing', 'hunting', 'blade', 'precision', 'soldier', 'gunman', 'barricade', 'gutting', 'assailant', 'slash', 'axe', 'gunshot', 'missile', 'bullet', 'scalpel', 'assassin', 'dodge', 'executioner', 'scissors', 'caliber', 'armed', 'weaponry', 'fighting', 'weapon', 'lethal', 'handgun', 'shot', 'sharpen', 'tactical', 'barrel', 'hatchet', 'wield', 'casing', 'disarm', 'knife', 'shooting', 'stake', 'laser', 'archery', '9mm', 'shotgun', 'sledgehammer', 'shooter', 'gunpoint', 'aiming', 'revolver', 'explosive']\n",
      "Category =negative_emotion ['kill', 'afraid', 'die', 'blame', 'dieing', 'crushed', 'loose', 'lie', 'alone', 'either', 'last_straw', 'bad', 'beaten', 'pissed', 'horrible', 'cry', 'raped', 'angered', 'fucking', 'reason', 'hard', 'dying', 'worst_part', 'confused', 'react', 'furious', 'poor_girl', 'hell', 'wanted', 'scared', 'threatened', 'lose', 'killing', 'insane', 'fight', 'crying', 'tortured', 'worried', 'drunk', 'hurt', 'fault', 'surprised', 'scary', 'heartbroken', 'hated', 'punch', 'sad', 'stop', 'sick', 'hurts', 'wrong', 'worse', 'depressed', 'mean', 'badly', 'accident', 'crazy', 'seeing', 'upset', 'monster', 'poor_guy', 'trouble', 'so_much_pain', 'weak', 'freaked', 'losing', 'dead', 'swear', 'hit', 'frightened', 'hurting', 'terrible', 'hate', 'ashamed', 'terrified', 'fighting', 'thinking', 'death', 'mad', 'care', 'guilty', 'angry', 'worst', 'lost', 'scare', 'unthinkable', 'beat', 'disappointed', 'killed', 'break', 'pain', 'violent', 'stupid', 'shocked']\n",
      "Category =pain ['tore', 'shriek', 'kill', 'despair', 'afraid', 'moaning', 'pinching', 'panicking', 'sore', 'tear', 'inflict', 'scream', 'terror', 'uncontrollably', 'painful', 'torture', 'bloody', 'bad', 'endure', 'painfully', 'sobs', 'cry', 'beating', 'scar', 'suffer', 'stung', 'injured', 'grief', 'feeling', 'bleed', 'scared', 'kick', 'harshly', 'groan', 'stinging', 'loss', 'aching', 'harshness', 'unbearable', 'agony', 'pressure', 'tortured', 'stab', 'heartache', 'excruciating', 'hurt', 'puncture', 'shaking', 'bruised', 'spasm', 'migraine', 'soreness', 'wound', 'headache', 'thrash', 'suffering', 'sick', 'crippling', 'prick', 'wrenching', 'badly', 'fall', 'muffled', 'hurtful', 'feel', 'kicking', 'flinch', 'whimper', 'slapped', 'stabbing', 'pounding', 'sting', 'torment', 'wail', 'hit', 'ache', 'bruise', 'hurting', 'screaming', 'pained', 'wince', 'struggle', 'burning', 'angry', 'injure', 'misery', 'bleeding', 'agonizing', 'anguished', 'anguish', 'paralyzed', 'pain', 'screamed']\n",
      "Category =terrorism ['espionage', 'revolutionary', 'annihilate', 'missile', 'atrocity', 'sabotage', 'extermination', 'threat', 'mercenary', 'abduction', 'syndicate', 'evacuate', 'casualty', 'invasion', 'firepower', '9/11', 'vigilante', 'global', 'assassination', 'hijack', 'coalition', 'quarantine', 'conspiracy', 'warhead', 'genocide', 'ambush', 'assassinate', 'rebellion', 'nation', 'enemy', 'warfare', 'hostage', 'eradicate', 'abduct', 'extremist', 'infiltration', 'aggressor', 'mastermind', 'orchestrate', 'unrest', 'destruction', 'riot', 'anarchist', 'criminal', 'loyalist', 'infiltrate', 'terrorism', 'evacuation', 'overthrow', 'homeland', 'fugitive', 'nuke', 'bomber', 'anarchy', 'terrorist', 'soldier', 'annihilation', 'nuclear', 'rebel', 'grenade', 'uprising', 'bomb', 'explosion', 'propaganda', 'catastrophe', 'bombing', 'explosive', 'kidnapping']\n",
      "Category =breaking ['tore', 'splitting', 'damaging', 'bone', 'crushed', 'smashing', 'smashed', 'inflict', 'spinal', 'damage', 'busted', 'brittle', 'crashing', 'bloody', 'bash', 'skull', 'metal', 'affect', 'fracture', 'injury', 'damaged', 'beating', 'cut', 'breaker', 'scar', 'rip', 'obliterate', 'split', 'rupture', 'collide', 'crumble', 'wrecked', 'fight', 'smash', 'demolish', 'crush', 'irreversible', 'hammer', 'hurt', 'tearing', 'bruised', 'broken', 'shatter', 'worse', 'wreck', 'fall', 'punching', 'fractured', 'crash', 'apart', 'irreparable', 'crack', 'crushing', 'earthquake', 'explode', 'splintered', 'barrier', 'reconstruct', 'shattering', 'weaken', 'hurting', 'breaking', 'broke', 'cracking', 'faulty', 'accidentally', 'shattered', 'bruising', 'devastating', 'kneecap', 'injure', 'pane', 'shatters', 'destroyed', 'break', 'organ', 'sever', 'fragment', 'collapse']\n",
      "Category =disappointment ['despair', 'disbelief', 'humiliation', 'reproach', 'twinge', 'denial', 'revulsion', 'prospect', 'spite', 'terror', 'trepidation', 'displeased', 'distrust', 'weary', 'weariness', 'irritation', 'longing', 'disapproval', 'dissatisfaction', 'sorrow', 'sorrowful', 'rejection', 'helplessness', 'agitation', 'devastation', 'disdain', 'disgruntled', 'consternation', 'displeasure', 'chagrin', 'wariness', 'disapprove', 'hostility', 'disgust', 'discontent', 'dismayed', 'frustration', 'loathing', 'scowl', 'jealously', 'expression', 'betrayal', 'clearly', 'aggravation', 'suppress', 'response', 'disinterest', 'downcast', 'annoyance', 'disappoint', 'hopelessness', 'loneliness', 'dejected', 'dismay', 'unease', 'derisive', 'defiance', 'sadness', 'frown', 'skepticism', 'discomfort', 'reluctance', 'unsatisfied', 'unhappiness', 'derision', 'jealousy', 'dissatisfied', 'resentment', 'pained', 'uneasiness', 'disappointment', 'exasperation', 'misery', 'shame', 'distaste', 'disquiet', 'censure']\n",
      "Category =anger ['disbelief', 'indescribable', 'impatience', 'twinge', 'fear', 'contorted', 'outright', 'spat', 'anger', 'revulsion', 'spite', 'distrust', 'unrelenting', 'irritation', 'hateful', 'angered', 'palpable', 'envy', 'infuriated', 'sneering', 'furious', 'menace', 'agitation', 'underlying', 'madness', 'disdain', 'wrath', 'displeasure', 'aggressiveness', 'infuriate', 'scorn', 'outrage', 'irritability', 'hostility', 'harshness', 'disgust', 'agony', 'sneer', 'enmity', 'overwhelm', 'frustration', 'loathing', 'unfairness', 'aggression', 'scowl', 'hatred', 'betrayal', 'aggravation', 'suppress', 'bitterness', 'ferocity', 'animosity', 'seething', 'disinterest', 'cruelty', 'annoyance', 'indignant', 'suffering', 'dismay', 'contempt', 'flaring', 'murderous', 'yearning', 'ruthlessness', 'seriousness', 'emotion', 'unbridled', 'defiance', 'sadness', 'unhappiness', 'mistrust', 'fury', 'condemnation', 'jealousy', 'defiant', 'mockery', 'loathe', 'meanness', 'resentment', 'pained', 'malice', 'intensity', 'frustrate', 'disappointment', 'exasperation', 'stubbornness', 'uncontrollable', 'cynicism', 'anguish', 'shame', 'unspeakable', 'pain', 'indignation', 'rage', 'distaste', 'turmoil']\n",
      "Category =torment ['captive', 'depravity', 'despair', 'humiliation', 'ruthlessly', 'abuse', 'sadistic', 'tormented', 'inflict', 'terrorize', 'terror', 'punish', 'torture', 'relentless', 'endure', 'inescapable', 'taunt', 'helpless', 'beating', 'sorrow', 'suffer', 'helplessness', 'torturous', 'grief', 'loath', 'nightmarish', 'wrath', 'scorn', 'grueling', 'unbearable', 'agony', 'bloodshed', 'cruelly', 'onslaught', 'ridicule', 'miserable', 'tortured', 'harass', 'excruciating', 'sufferer', 'torturing', 'wretched', 'brutality', 'hardship', 'humiliate', 'cruelty', 'brutal', 'sinful', 'suffering', 'cruel', 'hopelessness', 'grieve', 'nightmare', 'bullying', 'countless', 'soul', 'taunting', 'torment', 'insanity', 'unforgivable', 'dreadful', 'penance', 'bully', 'starvation', 'horrific', 'condemnation', 'afflict', 'intolerable', 'revenge', 'punishment', 'mercilessly', 'vicious', 'hellish', 'captivity', 'ceaseless', 'resent', 'vengeful', 'imprison', 'misery', 'mourn', 'depraved', 'victim', 'agonizing', 'despairing', 'anguish', 'mourning', 'merciless', 'pain', 'senseless', 'humiliating', 'cripple', 'turmoil', 'horrifying', 'abused']\n",
      "Category =shame ['foolish', 'regret', 'humiliation', 'terror', 'tragedy', 'distrust', 'bad', 'irritation', 'realization', 'momentary', 'embarrassment', 'worry', 'sorrowful', 'sorrow', 'suffer', 'helplessness', 'disgrace', 'heartbreaking', 'devastation', 'feeling', 'scorn', 'cockiness', 'wariness', 'harshness', 'disgust', 'agony', 'discontent', 'overwhelm', 'dread', 'miserable', 'loathing', 'hurt', 'betrayal', 'animosity', 'foolishness', 'ugliness', 'heartbroken', 'shameful', 'betrayed', 'cruelty', 'disappoint', 'sad', 'cowardice', 'hopelessness', 'remorseful', 'pitiful', 'dejected', 'crippling', 'confess', 'contempt', 'conscience', 'failure', 'hurtful', 'betray', 'emotion', 'feel', 'stupidity', 'carelessness', 'unease', 'mistrust', 'pained', 'ashamed', 'judgment', 'saddened', 'guilt', 'uneasiness', 'disappointment', 'deception', 'negativity', 'stricken', 'deserve', 'guilty', 'misery', 'burden', 'consequence', 'deceit', 'intention', 'anguish', 'shame', 'undeniable', 'remorse', 'pain', 'indignation', 'rage', 'arrogance', 'judgement']\n",
      "Category =emotional ['tendency', 'joking', 'kind', 'depressing', 'assertive', 'frustrated', 'troubled', 'bad', 'hateful', 'demeaning', 'whining', 'impulsive', 'angered', 'pleading', 'cranky', 'condescending', 'whiny', 'sympathy', 'desperate', 'rant', 'affectionate', 'stern', 'heartbreaking', 'humorous', 'patronizing', 'pleads', 'infuriate', 'pathetic', 'vindictive', 'miserable', 'annoyed', 'plea', 'snappy', 'hurt', 'forgiving', 'upsetting', 'insulted', 'irritated', 'cynical', 'needy', 'melodramatic', 'heartbroken', 'persuasive', 'outspoken', 'sad', 'optimistic', 'dramatic', 'remorseful', 'annoy', 'emotional', 'pessimistic', 'aggressive', 'depressed', 'bullying', 'upset', 'hurtful', 'disgusted', 'seriousness', 'insensitive', 'mood', 'taunting', 'temperamental', 'suicidal', 'torment', 'tone', 'demanding', 'cheerful', 'depressive', 'hating', 'outgoing', 'superficial', 'argument', 'pained', 'frustrate', 'resentful', 'unkind', 'worrying', 'negativity', 'insecure', 'unhappy', 'overreact', 'irritable', 'mad', 'bitchy', 'persistent', 'angry', 'attitude', 'threatening', 'passive', 'headstrong', 'distraught', 'irritating', 'irritate', 'uptight', 'depress', 'disappointed', 'pity', 'frustrating', 'stressed', 'tearful', 'childish', 'sympathetic']\n",
      "Category =sadness ['weakness', 'despair', 'indescribable', 'regret', 'humiliation', 'resignation', 'reproach', 'impatience', 'twinge', 'fear', 'bittersweet', 'denial', 'lethargy', 'depressing', 'anger', 'spite', 'tormented', 'suffocation', 'drown', 'terror', 'tragedy', 'numbness', 'distrust', 'nostalgia', 'dismal', 'troubled', 'endure', 'weariness', 'irritation', 'longing', 'unending', 'turbulent', 'inexplicable', 'melancholy', 'darkness', 'solitude', 'sympathy', 'sorrowful', 'sorrow', 'rejection', 'suffer', 'helplessness', 'apathy', 'overwhelming', 'dissipate', 'sympathize', 'agitation', 'apprehension', 'emptiness', 'heartbreaking', 'despondent', 'grief', 'devastation', 'madness', 'feeling', 'scorn', 'loss', 'wariness', 'strife', 'harshness', 'unbearable', 'agony', 'discontent', 'abandonment', 'boredom', 'overwhelm', 'miserable', 'tortured', 'frustration', 'loathing', 'heartache', 'unfairness', 'sufferer', 'hatred', 'exhaustion', 'jealously', 'betrayal', 'vulnerability', 'wallow', 'bitterness', 'hardship', 'desperation', 'happiness', 'heartbreak', 'evident', 'shameful', 'cruelty', 'unrequited', 'innocence', 'disappoint', 'sad', 'suffering', 'forlorn', 'hopelessness', 'pitiful', 'grieve', 'dejected', 'dismay', 'emotional', 'crippling', 'contempt', 'depressed', 'yearning', 'failure', 'conflicting', 'sullen', 'insecurity', 'depression', 'betray', 'emotion', 'unease', 'gloom', 'sadness', 'torment', 'depth', 'discomfort', 'somber', 'unhappiness', 'diminish', 'mistrust', 'depressive', 'condemnation', 'jealousy', 'profound', 'mockery', 'selfishness', 'distress', 'resentment', 'pained', 'empathy', 'saddened', 'repressed', 'guilt', 'malice', 'mournful', 'uneasiness', 'void', 'disappointment', 'negativity', 'stricken', 'unhappy', 'cope', 'resent', 'pessimism', 'misery', 'burden', 'uncertainty', 'cynicism', 'mourn', 'distraught', 'anxiety', 'deceit', 'greed', 'despairing', 'anguish', 'shame', 'mourning', 'depress', 'pity', 'remorse', 'pain', 'remembrance', 'overcome', 'isolation', 'cripple', 'concern', 'turmoil', 'loneliness', 'insomnia']\n",
      "Category =rage ['reproach', 'twinge', 'temper', 'spat', 'anger', 'revulsion', 'spite', 'bitter', 'terror', 'fearsome', 'fiery', 'lunacy', 'savage', 'unrelenting', 'irritation', 'hateful', 'snarl', 'uncontrolled', 'angered', 'roar', 'angrily', 'furious', 'menace', 'rampage', 'dissipate', 'agitation', 'devastation', 'madness', 'disdain', 'wrath', 'displeasure', 'aggressiveness', 'infuriate', 'hysteria', 'outrage', 'hostility', 'disgust', 'sneer', 'discontent', 'enmity', 'onslaught', 'hiss', 'livid', 'frustration', 'loathing', 'fiercely', 'aggression', 'torrent', 'hatred', 'fuming', 'betrayal', 'unleash', 'implacable', 'bitterness', 'brutality', 'intimidation', 'ferocity', 'desperation', 'animosity', 'seething', 'venomous', 'cruelty', 'annoyance', 'vengeance', 'menacing', 'contempt', 'pent', 'murderous', 'ruthlessness', 'visceral', 'boil', 'flare', 'emotion', 'accusation', 'vehement', 'ablaze', 'unbridled', 'venom', 'snarling', 'enraged', 'mistrust', 'fury', 'mockery', 'boiling', 'vicious', 'unrestrained', 'resentment', 'savagery', 'repressed', 'malice', 'intensity', 'ferocious', 'bravado', 'threaten', 'irate', 'viciously', 'vengeful', 'darken', 'uncontrollable', 'angry', 'growl', 'fierce', 'anguish', 'indignation', 'rage', 'potent']\n",
      "Category =injury ['surgery', 'artery', 'multiple', 'damaging', 'bone', 'scratch', 'infection', 'limping', 'inflict', 'oozing', 'damage', 'busted', 'painful', 'bandaged', 'examine', 'reopen', 'bloody', 'blister', 'heal', 'inflame', 'affect', 'fracture', 'injury', 'damaged', 'beating', 'cut', 'scar', 'suffer', 'stung', 'injured', 'swelling', 'swollen', 'rupture', 'inflamed', 'bleed', 'trauma', 'kick', 'dislocated', 'stinging', 'stitch', 'unbearable', 'itching', 'recover', 'severely', 'scab', 'worsen', 'stab', 'hurt', 'excruciating', 'tendon', 'puncture', 'wounded', 'bruised', 'impact', 'soreness', 'broken', 'scarring', 'wound', 'limp', 'shatter', 'gash', 'accident', 'searing', 'fall', 'hemorrhage', 'concussion', 'fractured', 'apart', 'irreparable', 'flesh', 'stabbing', 'sting', 'ache', 'infected', 'injures', 'bruise', 'weaken', 'hurting', 'severe', 'breaking', 'slash', 'burn', 'repair', 'broke', 'mend', 'sprain', 'wince', 'numb', 'blood', 'cause', 'infect', 'shattered', 'bruising', 'burning', 'injure', 'fatal', 'fatally', 'scrape', 'ooze', 'clot', 'bleeding', 'swell', 'bandage', 'break', 'ligament', 'pain', 'sever', 'cripple']\n",
      "Category =fire ['engulf', 'burner', 'blistering', 'flicker', 'charred', 'firecracker', 'fiery', 'coal', 'ash', 'ashtray', 'inflame', 'heat', 'furnace', 'spark', 'explosion', 'blazing', 'sizzle', 'explosive', 'flammable', 'brighter', 'overheated', 'inflamed', 'gunpowder', 'fireplace', 'molten', 'warmth', 'cigar', 'oil', 'hotter', 'firewood', 'broil', 'heater', 'flame', 'torch', 'burnt', 'emanate', 'fireman', 'temperature', 'hydrant', 'bomb', 'melt', 'emit', 'blaze', 'fire', 'fireball', 'heating', 'combustion', 'flaring', 'lava', 'extinguish', 'afire', 'searing', 'extinguisher', 'flare', 'scorching', 'ablaze', 'steam', 'crackling', 'eruption', 'sizzling', 'candle', 'warm', 'boiling', 'lighter', 'burn', 'douse', 'explodes', 'engulfed', 'reignite', 'flickering', 'campfire', 'smoke', 'melting', 'burning', 'ignite', 'wildfire', 'overheat', 'scorched', 'hot', 'flaming', 'light', 'crackle', 'bonfire', 'inferno']\n",
      "Category =disgust ['disbelief', 'aversion', 'humiliation', 'reproach', 'twinge', 'fear', 'abject', 'anger', 'revulsion', 'spite', 'distrust', 'weariness', 'irritation', 'hateful', 'palpable', 'confusion', 'disapproval', 'inexplicable', 'sneering', 'sorrow', 'dissatisfaction', 'apathy', 'menace', 'rudeness', 'agitation', 'devastation', 'loath', 'madness', 'disdain', 'displeasure', 'scorn', 'outrage', 'chagrin', 'hostility', 'repulsive', 'disgust', 'contemptuous', 'sneer', 'discontent', 'enmity', 'loathsome', 'loathing', 'scowl', 'hatred', 'betrayal', 'aggravation', 'condescension', 'bitterness', 'animosity', 'deplorable', 'seething', 'evident', 'ugliness', 'shameful', 'annoyance', 'indignant', 'repugnant', 'malicious', 'dismay', 'contempt', 'disgusted', 'emotion', 'feigned', 'accusation', 'unease', 'vehement', 'unbridled', 'defiance', 'discomfort', 'unhappiness', 'detest', 'mistrust', 'condemnation', 'mockery', 'selfishness', 'loathe', 'meanness', 'resentment', 'vile', 'repressed', 'malice', 'uneasiness', 'disappointment', 'appalled', 'misery', 'grimace', 'greed', 'shame', 'utmost', 'pity', 'indignation', 'rage', 'belittle', 'distaste', 'unpleasant']\n",
      "Category =war ['leader', 'kill', 'revolutionary', 'destroy', 'fleet', 'destroyer', 'warlord', 'foe', 'flee', 'terrorize', 'fighter', 'legion', 'enemy', 'samurai', 'warfare', 'subordinate', 'slaughter', 'perish', 'destruction', 'refugee', 'evacuation', 'marine', 'horde', 'soldiers', 'nuke', 'warrior', 'melee', 'grenade', 'trooper', 'mobilize', 'revolution', 'obliterate', 'annihilate', 'militia', 'vanguard', 'frontier', 'counterattack', 'blockade', 'sniper', 'battlefield', 'adversary', 'assassination', 'armada', 'attacker', 'peril', 'ambush', 'rebellion', 'heroic', 'fight', 'readied', 'bloodshed', 'tactic', 'civil', 'reconnaissance', 'infiltration', 'spartan', 'civilian', 'battle', 'commander', 'defend', 'overrun', 'battalion', 'allies', 'javelin', 'cavalry', 'opponent', 'opposition', 'outbreak', 'battleground', 'conquest', 'fatality', 'regroup', 'capture', 'deploy', 'brutal', 'strategist', 'allied', 'bloodthirsty', 'chaos', 'mercenary', 'evacuate', 'invader', 'firefight', 'battleship', 'firepower', 'warship', 'encampment', 'citizen', 'genocide', 'regiment', 'raider', 'armored', 'general', 'stronghold', 'conquer', 'carnage', 'famine', 'attack', 'brute', 'execute', 'combatant', 'loyalist', 'terrorism', 'overthrow', 'federation', 'terrorist', 'soldier', 'annihilation', 'garrison', 'comrade', 'resistance', 'conqueror', 'barricade', 'defender', 'extinction', 'missile', 'army', 'extermination', 'threat', 'assassin', 'invasion', 'empire', 'strategy', 'armed', 'weaponry', 'fighting', 'weapon', 'defeat', 'survivor', 'veteran', 'anarchist', 'convoy', 'alliance', 'brigade', 'nuclear', 'troop', 'rebel', 'commando', 'surviving', 'war', 'reinforcement', 'bombing', 'squadron', 'crusade']\n",
      "Category =dominant_personality ['outspoken', 'insulting', 'heartless', 'smirk', 'hardworking', 'manipulative', 'pompous', 'patronizing', 'stubborn', 'ambitious', 'aggressive', 'domineering', 'pushy', 'brag', 'cockiness', 'assertive', 'cocky', 'opinionated', 'attitude', 'boast', 'vindictive', 'talkative', 'charismatic', 'pretentious', 'egotistical', 'smug', 'haughty', 'narcissistic', 'headstrong', 'funny', 'intimidating', 'rebellious', 'overconfident', 'bragging', 'competitive', 'arrogant', 'jerk', 'overbearing', 'popular', 'confident', 'brash', 'controlling', 'personality', 'ego', 'charmer', 'condescending', 'snooty', 'arrogance', 'defiant', 'jock']\n",
      "Category =fight ['kill', 'revolutionary', 'blame', 'destroy', 'intervene', 'valiantly', 'protect', 'casualty', 'participate', 'clash', 'foe', 'warlord', 'rematch', 'quest', 'brawl', 'squabble', 'terrorize', 'fighter', 'enemy', 'warfare', 'rivalry', 'perish', 'on-one', 'argue', 'destruction', 'compete', 'domination', 'outnumbered', 'soldiers', 'warrior', 'taunt', 'unbeatable', 'engage', 'charge', 'conflict', 'skirmish', 'annihilate', 'militia', 'supremacy', 'rampage', 'vanguard', 'battlefield', 'bickering', 'ambush', 'heroic', 'fistfight', 'fight', 'quarrel', 'onslaught', 'battle', 'defend', 'allies', 'battling', 'cavalry', 'brutality', 'arguing', 'opponent', 'grudge', 'opposition', 'battleground', 'conquest', 'chase', 'dispute', 'disagreement', 'challenge', 'bloodthirsty', 'chaos', 'mutiny', 'firefight', 'forfeit', 'retaliate', 'fought', 'win', 'provoke', 'dominance', 'conquer', 'spar', 'attack', 'loses', 'loyalist', 'combatant', 'confront', 'prove', 'overthrow', 'instigate', 'resistance', 'attacking', 'versus', 'rival', 'survival', 'train', 'argument', 'threat', 'heroically', 'invasion', 'strategy', 'fighting', 'weapon', 'defeat', 'training', 'ensue', 'veteran', 'wrestle', 'confrontation', 'rebel', 'troop', 'war', 'resolve', 'oppose', 'wrestling', 'force']\n",
      "Category =deception ['unfaithful', 'cruelty', 'deny', 'illusion', 'pretense', 'deceitful', 'traitor', 'liar', 'dishonest', 'blame', 'corruption', 'deceive', 'cruel', 'indiscretion', 'withhold', 'false', 'deceptive', 'sordid', 'delusion', 'cunning', 'manipulative', 'believe', 'treachery', 'deception', 'conniving', 'conspire', 'taint', 'scapegoat', 'ruse', 'lie', 'insincere', 'perpetuate', 'motive', 'betray', 'cheating', 'omission', 'distrust', 'lying', 'folly', 'accusation', 'conviction', 'trick', 'dishonesty', 'unclear', 'trickery', 'deceit', 'doubt', 'prove', 'greed', 'intention', 'disloyal', 'ruthless', 'corrupt', 'infidelity', 'betrayal', 'sham', 'deceiving', 'manipulate', 'fool', 'cowardly', 'unjust', 'mistrust', 'mislead', 'untrustworthy', 'shameful', 'fraud']\n",
      "Category =neglect ['injustice', 'negligence', 'cruelty', 'despair', 'cowardice', 'suffering', 'resentment', 'humiliation', 'suffer', 'emptiness', 'hopelessness', 'unfulfilled', 'deprive', 'fear', 'devastation', 'guilt', 'inability', 'neglect', 'denial', 'disappointment', 'depressed', 'negativity', 'illness', 'failure', 'separation', 'withdrawal', 'insecurity', 'depression', 'abandonment', 'misery', 'indifference', 'lunacy', 'emotion', 'deprivation', 'unsatisfactory', 'worsen', 'carelessness', 'apathy', 'loathing', 'weariness', 'sufferer', 'detachment', 'anguish', 'torment', 'betrayal', 'pity', 'refusal', 'vulnerability', 'debilitating', 'discomfort', 'bitterness', 'rejection', 'unhappiness', 'hardship', 'mistrust', 'solitude', 'misfortune', 'cripple', 'sorrow', 'absence', 'loneliness', 'intolerable', 'helplessness', 'dejection']\n",
      "Category =dominant_heirarchical ['corporate', 'cult', 'leader', 'esteemed', 'inherit', 'organization', 'army', 'royal', 'elite', 'dictatorship', 'aristocratic', 'tribe', 'government', 'mercenary', 'empire', 'warlord', 'privilege', 'ambassador', 'delegate', 'banker', 'lineage', 'hierarchy', 'elect', 'predecessor', 'executive', 'diplomatic', 'regiment', 'elder', 'politics', 'nobility', 'tycoon', 'advisor', 'ruling', 'chancellor', 'admiral', 'leadership', 'society', 'aristocracy', 'treasurer', 'superior', 'monarch', 'commander', 'scion', 'senate', 'royalty', 'educated', 'authority', 'monarchy', 'tyrant', 'govern', 'ruler', 'overthrow', 'influential', 'descendant', 'council', 'mafia', 'governor', 'prestigious', 'representative', 'corporation', 'aristocrat', 'noble', 'ranking', 'appoint', 'heir', 'lieutenant', 'empress', 'privileged', 'prestige', 'powerful', 'rank', 'politician', 'squadron', 'senator', 'honorable']\n",
      "Category =violence ['abusing', 'punch', 'kill', 'afraid', 'suffering', 'aggravate', 'wince', 'scratch', 'abuse', 'bleed', 'scared', 'kick', 'trauma', 'struggle', 'harshly', 'violence', 'dislocated', 'rape', 'mean', 'death', 'inflict', 'bruising', 'threaten', 'wreck', 'harm', 'damage', 'mad', 'painful', 'agony', 'fight', 'angry', 'injure', 'punish', 'tough', 'punching', 'feel', 'fatal', 'toughen', 'bloody', 'bash', 'bad', 'slap', 'stab', 'bleeding', 'hurt', 'stabbing', 'sting', 'strangle', 'beat', 'dead', 'minor', 'torment', 'shatters', 'wounded', 'impact', 'resuscitate', 'injury', 'hit', 'bully', 'senseless', 'damaged', 'injures', 'scarring', 'violent', 'bruise', 'beating', 'cut', 'hurting', 'severe', 'wound']\n"
     ]
    }
   ],
   "source": [
    "# Manual selection of hypothesised relevant categories \n",
    "categories = [\n",
    "    \"monster\", \"weapon\", \"negative_emotion\", \"pain\", \"terrorism\", \"breaking\", \n",
    "    \"disappointment\", \"anger\", \"torment\", \"shame\", \"emotional\", \"sadness\", \n",
    "    \"rage\", \"injury\", \"fire\", \"disgust\", \"war\", \"dominant_personality\", \n",
    "    \"fight\", \"deception\", \"neglect\", \"dominant_heirarchical\", \"violence\"\n",
    "]\n",
    "\n",
    "for category in categories: \n",
    "    # Manual inspection of the words associated with all pre-build categories \n",
    "    print(\"Category =\" + category, lexicon.cats.get(category))"
   ]
  },
  {
   "cell_type": "code",
   "execution_count": 5,
   "metadata": {},
   "outputs": [],
   "source": [
    "clean_data =pd.read_csv(\"../data/CLEAN/Movie_Data_clean.tsv\",sep=\"\\t\")"
   ]
  },
  {
   "cell_type": "markdown",
   "metadata": {},
   "source": [
    "# Genres extraction "
   ]
  },
  {
   "cell_type": "markdown",
   "metadata": {},
   "source": [
    "Analysis of error occuring when applying the genres extraction"
   ]
  },
  {
   "cell_type": "code",
   "execution_count": 8,
   "metadata": {},
   "outputs": [],
   "source": [
    "df = clean_data.astype({'Genres':'string'}) # Ensure string type to perform string pre-processing\n",
    "data_no_nan = clean_data[clean_data.Genres.isna()] # Movies that have no genres associated"
   ]
  },
  {
   "cell_type": "code",
   "execution_count": 9,
   "metadata": {},
   "outputs": [
    {
     "name": "stdout",
     "output_type": "stream",
     "text": [
      "There are 13 movies that don't have a genre associated\n"
     ]
    }
   ],
   "source": [
    "print(\"There are {} movies that don't have a genre associated\".format(len(data_no_nan)))"
   ]
  },
  {
   "cell_type": "code",
   "execution_count": 116,
   "metadata": {},
   "outputs": [],
   "source": [
    "def genres_extraction (y):\n",
    " test =[element for element in y.split(\",\")]\n",
    " return test\n"
   ]
  },
  {
   "cell_type": "code",
   "execution_count": 123,
   "metadata": {},
   "outputs": [
    {
     "data": {
      "text/plain": [
       "333"
      ]
     },
     "execution_count": 123,
     "metadata": {},
     "output_type": "execute_result"
    }
   ],
   "source": [
    "filtered_data =clean_data.Genres.dropna() # Keep only movies that have a genre \n",
    "genres = filtered_data.apply(genres_extraction)\n",
    "from itertools import chain\n",
    "merged_list = list(chain.from_iterable(genres.values))\n",
    "unique_values =set(merged_list)\n",
    "unique_genres = set([element.strip() for element in unique_values])\n",
    "len(unique_genres)\n"
   ]
  }
 ],
 "metadata": {
  "kernelspec": {
   "display_name": "Python 3",
   "language": "python",
   "name": "python3"
  },
  "language_info": {
   "codemirror_mode": {
    "name": "ipython",
    "version": 3
   },
   "file_extension": ".py",
   "mimetype": "text/x-python",
   "name": "python",
   "nbconvert_exporter": "python",
   "pygments_lexer": "ipython3",
   "version": "3.12.7"
  }
 },
 "nbformat": 4,
 "nbformat_minor": 2
}
