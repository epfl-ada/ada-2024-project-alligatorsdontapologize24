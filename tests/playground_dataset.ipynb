{
 "cells": [
  {
   "cell_type": "markdown",
   "id": "97bef726-12e8-4986-ae5d-a2355f06184c",
   "metadata": {},
   "source": [
    "# Data formating for Playground website"
   ]
  },
  {
   "cell_type": "code",
   "execution_count": 2,
   "id": "82bfb8ec-6497-4953-8110-58b72e4f1fc8",
   "metadata": {},
   "outputs": [],
   "source": [
    "import sys\n",
    "import os\n",
    "\n",
    "import pandas as pd\n",
    "# Add the project root directory (not src) to sys.path\n",
    "sys.path.append(os.path.abspath(\"../src/data/\"))\n",
    "\n",
    "# Now import the DataLoader class\n",
    "from data_loading import DataLoader\n",
    "\n",
    "raw = '../data/RAW/'\n",
    "clean = '../data/CLEAN'"
   ]
  },
  {
   "cell_type": "code",
   "execution_count": 3,
   "id": "0931e4d2-d985-4359-8acf-d4c5c466b9b9",
   "metadata": {},
   "outputs": [
    {
     "name": "stdout",
     "output_type": "stream",
     "text": [
      "raw data \n",
      "\n",
      "CMU_Movies_Dataset\n",
      "GVD_Dataset\n",
      "Human_labelling_violentMovie.xlsx\n",
      "Kaggle_Movies_Dataset\n",
      "\n",
      "clean data \n",
      "\n",
      "word_count.csv\n",
      "empath_features_matrix.tsv\n",
      "violent_word_list\n",
      "human_label_flourish.xlsx\n",
      "violent_movie_study\n",
      "GVD_clean.csv\n",
      "sentiment.csv\n",
      "movie_violence_metric.csv\n",
      "sentiment_test.csv\n",
      "empath_features_matrix_norm.tsv\n",
      "Human_labelling_violentMovie.xlsx\n",
      "classification_result\n",
      "Movie_Data_clean.tsv\n",
      "word_count_test.csv\n"
     ]
    }
   ],
   "source": [
    "data_loader = DataLoader(raw,clean)\n",
    "data_loader.show_data_folder()"
   ]
  },
  {
   "cell_type": "code",
   "execution_count": 4,
   "id": "19c8c5f1-d9b4-486a-9307-71b04656edd2",
   "metadata": {},
   "outputs": [
    {
     "name": "stdout",
     "output_type": "stream",
     "text": [
      "\n",
      "load plot data\n",
      "\n",
      "\n",
      "load CMU movie metadata\n",
      "\n"
     ]
    }
   ],
   "source": [
    "plot = data_loader.plot_data()\n",
    "cmu = data_loader.movie_data()"
   ]
  },
  {
   "cell_type": "code",
   "execution_count": 10,
   "id": "d5b608ae-f06e-4ce4-a4e3-ba1b6ee9a9b2",
   "metadata": {},
   "outputs": [
    {
     "data": {
      "text/html": [
       "<div>\n",
       "<style scoped>\n",
       "    .dataframe tbody tr th:only-of-type {\n",
       "        vertical-align: middle;\n",
       "    }\n",
       "\n",
       "    .dataframe tbody tr th {\n",
       "        vertical-align: top;\n",
       "    }\n",
       "\n",
       "    .dataframe thead th {\n",
       "        text-align: right;\n",
       "    }\n",
       "</style>\n",
       "<table border=\"1\" class=\"dataframe\">\n",
       "  <thead>\n",
       "    <tr style=\"text-align: right;\">\n",
       "      <th></th>\n",
       "      <th>Result</th>\n",
       "      <th>Prediction</th>\n",
       "    </tr>\n",
       "    <tr>\n",
       "      <th>Wikipedia movie ID</th>\n",
       "      <th></th>\n",
       "      <th></th>\n",
       "    </tr>\n",
       "  </thead>\n",
       "  <tbody>\n",
       "    <tr>\n",
       "      <th>975900</th>\n",
       "      <td>Violent</td>\n",
       "      <td>1.0</td>\n",
       "    </tr>\n",
       "    <tr>\n",
       "      <th>6631279</th>\n",
       "      <td>Non-violent</td>\n",
       "      <td>-1.0</td>\n",
       "    </tr>\n",
       "    <tr>\n",
       "      <th>77856</th>\n",
       "      <td>Non-violent</td>\n",
       "      <td>-1.0</td>\n",
       "    </tr>\n",
       "    <tr>\n",
       "      <th>21926710</th>\n",
       "      <td>Non-violent</td>\n",
       "      <td>-1.0</td>\n",
       "    </tr>\n",
       "    <tr>\n",
       "      <th>156558</th>\n",
       "      <td>Violent</td>\n",
       "      <td>1.0</td>\n",
       "    </tr>\n",
       "  </tbody>\n",
       "</table>\n",
       "</div>"
      ],
      "text/plain": [
       "                         Result  Prediction\n",
       "Wikipedia movie ID                         \n",
       "975900                  Violent         1.0\n",
       "6631279             Non-violent        -1.0\n",
       "77856               Non-violent        -1.0\n",
       "21926710            Non-violent        -1.0\n",
       "156558                  Violent         1.0"
      ]
     },
     "execution_count": 10,
     "metadata": {},
     "output_type": "execute_result"
    }
   ],
   "source": [
    "labels = pd.read_csv(clean+\"/classification_result/LLM_result_binary.csv\")\n",
    "labels.set_index(\"Wikipedia movie ID\",inplace=True)\n",
    "labels.head()"
   ]
  },
  {
   "cell_type": "code",
   "execution_count": 11,
   "id": "c7990485-52a2-4222-96dd-aa6cda862170",
   "metadata": {},
   "outputs": [],
   "source": [
    "playground = labels.merge(plot,right_index=True,left_index=True).merge(cmu[\"Movie name\"],right_index=True,left_index=True)"
   ]
  },
  {
   "cell_type": "code",
   "execution_count": 12,
   "id": "46d25b89-a14d-400e-bbf2-0187bfc87602",
   "metadata": {},
   "outputs": [
    {
     "data": {
      "text/html": [
       "<div>\n",
       "<style scoped>\n",
       "    .dataframe tbody tr th:only-of-type {\n",
       "        vertical-align: middle;\n",
       "    }\n",
       "\n",
       "    .dataframe tbody tr th {\n",
       "        vertical-align: top;\n",
       "    }\n",
       "\n",
       "    .dataframe thead th {\n",
       "        text-align: right;\n",
       "    }\n",
       "</style>\n",
       "<table border=\"1\" class=\"dataframe\">\n",
       "  <thead>\n",
       "    <tr style=\"text-align: right;\">\n",
       "      <th></th>\n",
       "      <th>Result</th>\n",
       "      <th>Prediction</th>\n",
       "      <th>Plot</th>\n",
       "      <th>Movie name</th>\n",
       "    </tr>\n",
       "    <tr>\n",
       "      <th>Wikipedia movie ID</th>\n",
       "      <th></th>\n",
       "      <th></th>\n",
       "      <th></th>\n",
       "      <th></th>\n",
       "    </tr>\n",
       "  </thead>\n",
       "  <tbody>\n",
       "    <tr>\n",
       "      <th>975900</th>\n",
       "      <td>Violent</td>\n",
       "      <td>1.0</td>\n",
       "      <td>Set in the second half of the 22nd century, th...</td>\n",
       "      <td>Ghosts of Mars</td>\n",
       "    </tr>\n",
       "    <tr>\n",
       "      <th>6631279</th>\n",
       "      <td>Non-violent</td>\n",
       "      <td>-1.0</td>\n",
       "      <td>Adam, a San Francisco-based artist who works a...</td>\n",
       "      <td>Little city</td>\n",
       "    </tr>\n",
       "    <tr>\n",
       "      <th>77856</th>\n",
       "      <td>Non-violent</td>\n",
       "      <td>-1.0</td>\n",
       "      <td>The film opens with Mary Poppins  perched in a...</td>\n",
       "      <td>Mary Poppins</td>\n",
       "    </tr>\n",
       "    <tr>\n",
       "      <th>21926710</th>\n",
       "      <td>Non-violent</td>\n",
       "      <td>-1.0</td>\n",
       "      <td>Jimmy ([[Hiroshi Watanabe  loves dinosaurs and...</td>\n",
       "      <td>White on Rice</td>\n",
       "    </tr>\n",
       "    <tr>\n",
       "      <th>156558</th>\n",
       "      <td>Violent</td>\n",
       "      <td>1.0</td>\n",
       "      <td>A young 20-year-old named Jody  lives with his...</td>\n",
       "      <td>Baby Boy</td>\n",
       "    </tr>\n",
       "  </tbody>\n",
       "</table>\n",
       "</div>"
      ],
      "text/plain": [
       "                         Result  Prediction  \\\n",
       "Wikipedia movie ID                            \n",
       "975900                  Violent         1.0   \n",
       "6631279             Non-violent        -1.0   \n",
       "77856               Non-violent        -1.0   \n",
       "21926710            Non-violent        -1.0   \n",
       "156558                  Violent         1.0   \n",
       "\n",
       "                                                                 Plot  \\\n",
       "Wikipedia movie ID                                                      \n",
       "975900              Set in the second half of the 22nd century, th...   \n",
       "6631279             Adam, a San Francisco-based artist who works a...   \n",
       "77856               The film opens with Mary Poppins  perched in a...   \n",
       "21926710            Jimmy ([[Hiroshi Watanabe  loves dinosaurs and...   \n",
       "156558              A young 20-year-old named Jody  lives with his...   \n",
       "\n",
       "                        Movie name  \n",
       "Wikipedia movie ID                  \n",
       "975900              Ghosts of Mars  \n",
       "6631279                Little city  \n",
       "77856                 Mary Poppins  \n",
       "21926710             White on Rice  \n",
       "156558                    Baby Boy  "
      ]
     },
     "execution_count": 12,
     "metadata": {},
     "output_type": "execute_result"
    }
   ],
   "source": [
    "playground.head()"
   ]
  },
  {
   "cell_type": "code",
   "execution_count": 13,
   "id": "4a22f9d4-a31a-4084-b2bf-750bee7cd1ee",
   "metadata": {},
   "outputs": [],
   "source": [
    "playground.to_csv(clean+\"/classification_result/LLM_for_play.csv\")"
   ]
  },
  {
   "cell_type": "code",
   "execution_count": null,
   "id": "a6f44a14-29e5-46ea-8e75-1c26e145509a",
   "metadata": {},
   "outputs": [],
   "source": []
  }
 ],
 "metadata": {
  "kernelspec": {
   "display_name": "Python 3 (ipykernel)",
   "language": "python",
   "name": "python3"
  },
  "language_info": {
   "codemirror_mode": {
    "name": "ipython",
    "version": 3
   },
   "file_extension": ".py",
   "mimetype": "text/x-python",
   "name": "python",
   "nbconvert_exporter": "python",
   "pygments_lexer": "ipython3",
   "version": "3.11.0"
  }
 },
 "nbformat": 4,
 "nbformat_minor": 5
}
