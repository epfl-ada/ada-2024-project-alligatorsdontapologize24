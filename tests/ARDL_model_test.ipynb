{
 "cells": [
  {
   "cell_type": "code",
   "execution_count": 1,
   "metadata": {},
   "outputs": [],
   "source": [
    "import pandas as pd\n",
    "from statsmodels.tsa.ardl import ardl_select_order\n",
    "from statsmodels.tsa.ardl import ARDL\n",
    "\n",
    "import numpy as np\n",
    "\n",
    "import sys\n",
    "sys.path.append(\"../src/model\")\n",
    "\n",
    "from pprint import pprint\n",
    "\n",
    "from ARDL_model import ARDL_model_func, ARDL_states_separate\n",
    "\n",
    "DATA_PATH = \"../data/CLEAN\""
   ]
  },
  {
   "cell_type": "code",
   "execution_count": 2,
   "metadata": {},
   "outputs": [],
   "source": [
    "DIRECTORY_PATH = DATA_PATH + \"/FBI_91_12/01_States_Separately\""
   ]
  },
  {
   "cell_type": "code",
   "execution_count": 3,
   "metadata": {},
   "outputs": [],
   "source": [
    "df_box_offices = pd.read_csv(DATA_PATH+\"/Violent_Movies_final.tsv\", sep=\"\\t\")"
   ]
  },
  {
   "cell_type": "code",
   "execution_count": 4,
   "metadata": {},
   "outputs": [],
   "source": [
    "consecutive_years_per_state = pd.read_csv(DATA_PATH+\"/FBI_91_12/02_Consecutive_Years_States/Consecutive_years_states.tsv\", sep=\"\\t\")"
   ]
  },
  {
   "cell_type": "code",
   "execution_count": 5,
   "metadata": {},
   "outputs": [],
   "source": [
    "fitted_ARDL_models = ARDL_states_separate(DIRECTORY_PATH, df_box_offices, consecutive_years_per_state, ARDL_model_func, time_fixed_effects=False)"
   ]
  },
  {
   "cell_type": "code",
   "execution_count": 6,
   "metadata": {},
   "outputs": [
    {
     "name": "stdout",
     "output_type": "stream",
     "text": [
      "{'ARDL_Alabama': <statsmodels.tsa.ardl.model.ARDLResultsWrapper object at 0x15b735820>,\n",
      " 'ARDL_Arizona': <statsmodels.tsa.ardl.model.ARDLResultsWrapper object at 0x15b6996d0>,\n",
      " 'ARDL_Arkansas': <statsmodels.tsa.ardl.model.ARDLResultsWrapper object at 0x15b849fa0>,\n",
      " 'ARDL_Colorado': <statsmodels.tsa.ardl.model.ARDLResultsWrapper object at 0x15b753050>,\n",
      " 'ARDL_Connecticut': <statsmodels.tsa.ardl.model.ARDLResultsWrapper object at 0x15b743c20>,\n",
      " 'ARDL_Delaware': <statsmodels.tsa.ardl.model.ARDLResultsWrapper object at 0x15b8112e0>,\n",
      " 'ARDL_DistrictColumbia': <statsmodels.tsa.ardl.model.ARDLResultsWrapper object at 0x15b742f60>,\n",
      " 'ARDL_Idaho': <statsmodels.tsa.ardl.model.ARDLResultsWrapper object at 0x15b811be0>,\n",
      " 'ARDL_Illinois': <statsmodels.tsa.ardl.model.ARDLResultsWrapper object at 0x15b848f20>,\n",
      " 'ARDL_Iowa': <statsmodels.tsa.ardl.model.ARDLResultsWrapper object at 0x15b742a50>,\n",
      " 'ARDL_Kansas': <statsmodels.tsa.ardl.model.ARDLResultsWrapper object at 0x15b8446e0>,\n",
      " 'ARDL_Kentuchy': <statsmodels.tsa.ardl.model.ARDLResultsWrapper object at 0x15b734680>,\n",
      " 'ARDL_Louisiana': <statsmodels.tsa.ardl.model.ARDLResultsWrapper object at 0x15b7370b0>,\n",
      " 'ARDL_Maine': <statsmodels.tsa.ardl.model.ARDLResultsWrapper object at 0x15b743710>,\n",
      " 'ARDL_Massachusetts': <statsmodels.tsa.ardl.model.ARDLResultsWrapper object at 0x15b7512e0>,\n",
      " 'ARDL_Michigan': <statsmodels.tsa.ardl.model.ARDLResultsWrapper object at 0x15b7409b0>,\n",
      " 'ARDL_Missouri': <statsmodels.tsa.ardl.model.ARDLResultsWrapper object at 0x15b8480b0>,\n",
      " 'ARDL_Montana': <statsmodels.tsa.ardl.model.ARDLResultsWrapper object at 0x15b737950>,\n",
      " 'ARDL_Nebraska': <statsmodels.tsa.ardl.model.ARDLResultsWrapper object at 0x15b69b530>,\n",
      " 'ARDL_NewHampshire': <statsmodels.tsa.ardl.model.ARDLResultsWrapper object at 0x15b736e10>,\n",
      " 'ARDL_NorthDakota': <statsmodels.tsa.ardl.model.ARDLResultsWrapper object at 0x15b750b60>,\n",
      " 'ARDL_Ohio': <statsmodels.tsa.ardl.model.ARDLResultsWrapper object at 0x15b811e80>,\n",
      " 'ARDL_Oklahoma': <statsmodels.tsa.ardl.model.ARDLResultsWrapper object at 0x15b810b00>,\n",
      " 'ARDL_Oregon': <statsmodels.tsa.ardl.model.ARDLResultsWrapper object at 0x15b742f90>,\n",
      " 'ARDL_RhodeIsland': <statsmodels.tsa.ardl.model.ARDLResultsWrapper object at 0x15b735580>,\n",
      " 'ARDL_SouthCarolina': <statsmodels.tsa.ardl.model.ARDLResultsWrapper object at 0x15b751ca0>,\n",
      " 'ARDL_SouthDakota': <statsmodels.tsa.ardl.model.ARDLResultsWrapper object at 0x15b743410>,\n",
      " 'ARDL_Tennessee': <statsmodels.tsa.ardl.model.ARDLResultsWrapper object at 0x15b750980>,\n",
      " 'ARDL_Texas': <statsmodels.tsa.ardl.model.ARDLResultsWrapper object at 0x15b69ab40>,\n",
      " 'ARDL_Utah': <statsmodels.tsa.ardl.model.ARDLResultsWrapper object at 0x15b751700>,\n",
      " 'ARDL_Vermont': <statsmodels.tsa.ardl.model.ARDLResultsWrapper object at 0x15ad092e0>,\n",
      " 'ARDL_Virginia': <statsmodels.tsa.ardl.model.ARDLResultsWrapper object at 0x15b7535c0>,\n",
      " 'ARDL_Washington': <statsmodels.tsa.ardl.model.ARDLResultsWrapper object at 0x15b699af0>,\n",
      " 'ARDL_WestVirginia': <statsmodels.tsa.ardl.model.ARDLResultsWrapper object at 0x15b7401a0>,\n",
      " 'ARDL_Wisconsin': <statsmodels.tsa.ardl.model.ARDLResultsWrapper object at 0x15b736420>}\n"
     ]
    }
   ],
   "source": [
    "pprint(fitted_ARDL_models)"
   ]
  },
  {
   "cell_type": "code",
   "execution_count": 15,
   "metadata": {},
   "outputs": [],
   "source": [
    "test = fitted_ARDL_models[\"ARDL_Connecticut\"]"
   ]
  },
  {
   "cell_type": "code",
   "execution_count": 16,
   "metadata": {},
   "outputs": [
    {
     "data": {
      "text/html": [
       "<table class=\"simpletable\">\n",
       "<caption>ARDL Model Results</caption>\n",
       "<tr>\n",
       "  <th>Dep. Variable:</th>  <td>Violence_score</td>  <th>  No. Observations:  </th>    <td>776</td>   \n",
       "</tr>\n",
       "<tr>\n",
       "  <th>Model:</th>            <td>ARDL(4, 4)</td>    <th>  Log Likelihood     </th> <td>-4473.741</td>\n",
       "</tr>\n",
       "<tr>\n",
       "  <th>Method:</th>         <td>Conditional MLE</td> <th>  S.D. of innovations</th>  <td>79.524</td>  \n",
       "</tr>\n",
       "<tr>\n",
       "  <th>Date:</th>          <td>Sat, 14 Dec 2024</td> <th>  AIC                </th> <td>8969.482</td> \n",
       "</tr>\n",
       "<tr>\n",
       "  <th>Time:</th>              <td>17:24:01</td>     <th>  BIC                </th> <td>9020.621</td> \n",
       "</tr>\n",
       "<tr>\n",
       "  <th>Sample:</th>                <td>4</td>        <th>  HQIC               </th> <td>8989.160</td> \n",
       "</tr>\n",
       "<tr>\n",
       "  <th></th>                      <td>776</td>       <th>                     </th>     <td> </td>    \n",
       "</tr>\n",
       "</table>\n",
       "<table class=\"simpletable\">\n",
       "<tr>\n",
       "            <td></td>               <th>coef</th>     <th>std err</th>      <th>z</th>      <th>P>|z|</th>  <th>[0.025</th>    <th>0.975]</th>  \n",
       "</tr>\n",
       "<tr>\n",
       "  <th>const</th>                 <td>   19.5826</td> <td>    7.545</td> <td>    2.596</td> <td> 0.010</td> <td>    4.772</td> <td>   34.394</td>\n",
       "</tr>\n",
       "<tr>\n",
       "  <th>Violence_score.L1</th>     <td>    0.5525</td> <td>    0.036</td> <td>   15.540</td> <td> 0.000</td> <td>    0.483</td> <td>    0.622</td>\n",
       "</tr>\n",
       "<tr>\n",
       "  <th>Violence_score.L2</th>     <td>    0.1811</td> <td>    0.041</td> <td>    4.467</td> <td> 0.000</td> <td>    0.101</td> <td>    0.261</td>\n",
       "</tr>\n",
       "<tr>\n",
       "  <th>Violence_score.L3</th>     <td>    0.0714</td> <td>    0.041</td> <td>    1.760</td> <td> 0.079</td> <td>   -0.008</td> <td>    0.151</td>\n",
       "</tr>\n",
       "<tr>\n",
       "  <th>Violence_score.L4</th>     <td>    0.1795</td> <td>    0.035</td> <td>    5.074</td> <td> 0.000</td> <td>    0.110</td> <td>    0.249</td>\n",
       "</tr>\n",
       "<tr>\n",
       "  <th>Box office revenue.L0</th> <td> 1.419e-08</td> <td> 1.08e-08</td> <td>    1.320</td> <td> 0.187</td> <td>-6.91e-09</td> <td> 3.53e-08</td>\n",
       "</tr>\n",
       "<tr>\n",
       "  <th>Box office revenue.L1</th> <td>-6.134e-09</td> <td> 1.08e-08</td> <td>   -0.569</td> <td> 0.570</td> <td>-2.73e-08</td> <td>  1.5e-08</td>\n",
       "</tr>\n",
       "<tr>\n",
       "  <th>Box office revenue.L2</th> <td>-2.384e-08</td> <td> 1.08e-08</td> <td>   -2.210</td> <td> 0.027</td> <td> -4.5e-08</td> <td>-2.66e-09</td>\n",
       "</tr>\n",
       "<tr>\n",
       "  <th>Box office revenue.L3</th> <td>-2.408e-08</td> <td> 1.08e-08</td> <td>   -2.223</td> <td> 0.027</td> <td>-4.53e-08</td> <td>-2.81e-09</td>\n",
       "</tr>\n",
       "<tr>\n",
       "  <th>Box office revenue.L4</th> <td>  2.05e-08</td> <td> 1.08e-08</td> <td>    1.890</td> <td> 0.059</td> <td>-7.95e-10</td> <td> 4.18e-08</td>\n",
       "</tr>\n",
       "</table>"
      ],
      "text/latex": [
       "\\begin{center}\n",
       "\\begin{tabular}{lclc}\n",
       "\\toprule\n",
       "\\textbf{Dep. Variable:}        & Violence\\_score  & \\textbf{  No. Observations:  } &    776      \\\\\n",
       "\\textbf{Model:}                &    ARDL(4, 4)    & \\textbf{  Log Likelihood     } & -4473.741   \\\\\n",
       "\\textbf{Method:}               & Conditional MLE  & \\textbf{  S.D. of innovations} &   79.524    \\\\\n",
       "\\textbf{Date:}                 & Sat, 14 Dec 2024 & \\textbf{  AIC                } &  8969.482   \\\\\n",
       "\\textbf{Time:}                 &     17:24:01     & \\textbf{  BIC                } &  9020.621   \\\\\n",
       "\\textbf{Sample:}               &        4         & \\textbf{  HQIC               } &  8989.160   \\\\\n",
       "\\textbf{}                      &       776        & \\textbf{                     } &             \\\\\n",
       "\\bottomrule\n",
       "\\end{tabular}\n",
       "\\begin{tabular}{lcccccc}\n",
       "                               & \\textbf{coef} & \\textbf{std err} & \\textbf{z} & \\textbf{P$> |$z$|$} & \\textbf{[0.025} & \\textbf{0.975]}  \\\\\n",
       "\\midrule\n",
       "\\textbf{const}                 &      19.5826  &        7.545     &     2.596  &         0.010        &        4.772    &       34.394     \\\\\n",
       "\\textbf{Violence\\_score.L1}    &       0.5525  &        0.036     &    15.540  &         0.000        &        0.483    &        0.622     \\\\\n",
       "\\textbf{Violence\\_score.L2}    &       0.1811  &        0.041     &     4.467  &         0.000        &        0.101    &        0.261     \\\\\n",
       "\\textbf{Violence\\_score.L3}    &       0.0714  &        0.041     &     1.760  &         0.079        &       -0.008    &        0.151     \\\\\n",
       "\\textbf{Violence\\_score.L4}    &       0.1795  &        0.035     &     5.074  &         0.000        &        0.110    &        0.249     \\\\\n",
       "\\textbf{Box office revenue.L0} &    1.419e-08  &     1.08e-08     &     1.320  &         0.187        &    -6.91e-09    &     3.53e-08     \\\\\n",
       "\\textbf{Box office revenue.L1} &   -6.134e-09  &     1.08e-08     &    -0.569  &         0.570        &    -2.73e-08    &      1.5e-08     \\\\\n",
       "\\textbf{Box office revenue.L2} &   -2.384e-08  &     1.08e-08     &    -2.210  &         0.027        &     -4.5e-08    &    -2.66e-09     \\\\\n",
       "\\textbf{Box office revenue.L3} &   -2.408e-08  &     1.08e-08     &    -2.223  &         0.027        &    -4.53e-08    &    -2.81e-09     \\\\\n",
       "\\textbf{Box office revenue.L4} &     2.05e-08  &     1.08e-08     &     1.890  &         0.059        &    -7.95e-10    &     4.18e-08     \\\\\n",
       "\\bottomrule\n",
       "\\end{tabular}\n",
       "%\\caption{ARDL Model Results}\n",
       "\\end{center}"
      ],
      "text/plain": [
       "<class 'statsmodels.iolib.summary.Summary'>\n",
       "\"\"\"\n",
       "                              ARDL Model Results                              \n",
       "==============================================================================\n",
       "Dep. Variable:         Violence_score   No. Observations:                  776\n",
       "Model:                     ARDL(4, 4)   Log Likelihood               -4473.741\n",
       "Method:               Conditional MLE   S.D. of innovations             79.524\n",
       "Date:                Sat, 14 Dec 2024   AIC                           8969.482\n",
       "Time:                        17:24:01   BIC                           9020.621\n",
       "Sample:                             4   HQIC                          8989.160\n",
       "                                  776                                         \n",
       "=========================================================================================\n",
       "                            coef    std err          z      P>|z|      [0.025      0.975]\n",
       "-----------------------------------------------------------------------------------------\n",
       "const                    19.5826      7.545      2.596      0.010       4.772      34.394\n",
       "Violence_score.L1         0.5525      0.036     15.540      0.000       0.483       0.622\n",
       "Violence_score.L2         0.1811      0.041      4.467      0.000       0.101       0.261\n",
       "Violence_score.L3         0.0714      0.041      1.760      0.079      -0.008       0.151\n",
       "Violence_score.L4         0.1795      0.035      5.074      0.000       0.110       0.249\n",
       "Box office revenue.L0  1.419e-08   1.08e-08      1.320      0.187   -6.91e-09    3.53e-08\n",
       "Box office revenue.L1 -6.134e-09   1.08e-08     -0.569      0.570   -2.73e-08     1.5e-08\n",
       "Box office revenue.L2 -2.384e-08   1.08e-08     -2.210      0.027    -4.5e-08   -2.66e-09\n",
       "Box office revenue.L3 -2.408e-08   1.08e-08     -2.223      0.027   -4.53e-08   -2.81e-09\n",
       "Box office revenue.L4   2.05e-08   1.08e-08      1.890      0.059   -7.95e-10    4.18e-08\n",
       "=========================================================================================\n",
       "\"\"\""
      ]
     },
     "execution_count": 16,
     "metadata": {},
     "output_type": "execute_result"
    }
   ],
   "source": [
    "test.summary()"
   ]
  },
  {
   "cell_type": "markdown",
   "metadata": {},
   "source": [
    "# Debugging the ARDL function"
   ]
  },
  {
   "cell_type": "code",
   "execution_count": null,
   "metadata": {},
   "outputs": [],
   "source": [
    "df_box_offices = pd.read_csv(DATA_PATH+\"/Violent_Movies_final.tsv\", sep=\"\\t\")\n",
    "#df_real_violence = pd.read_csv(DATA_PATH+\"/FBI_91_12/00_All_States_Merged/violence_scores_merged.csv\", sep=\",\")\n",
    "df_real_violence = pd.read_csv(DATA_PATH+\"/FBI_91_12/NorthDakota_violence.csv\", sep=\",\")\n"
   ]
  },
  {
   "cell_type": "code",
   "execution_count": 6,
   "metadata": {},
   "outputs": [
    {
     "name": "stdout",
     "output_type": "stream",
     "text": [
      "Included lags of the auto-regressive part [1, 2, 3, 4]\n",
      "Included lags of the distributed lag part {'no. films released': [0, 1, 2, 3, 4, 5, 6]}\n"
     ]
    },
    {
     "name": "stderr",
     "output_type": "stream",
     "text": [
      "/Users/raphael_hellmann/anaconda3/envs/alligators/lib/python3.12/site-packages/statsmodels/tsa/ardl/model.py:455: SpecificationWarning: exog contains variables that are missing from the order dictionary.  Missing keys: Box office revenue.\n",
      "  return _format_order(self.data.orig_exog, order, self._causal)\n"
     ]
    }
   ],
   "source": [
    "test_model = ARDL_model_func(df_box_offices, df_real_violence, time_fixed_effects=False)"
   ]
  },
  {
   "cell_type": "code",
   "execution_count": 7,
   "metadata": {},
   "outputs": [
    {
     "data": {
      "text/html": [
       "<table class=\"simpletable\">\n",
       "<caption>ARDL Model Results</caption>\n",
       "<tr>\n",
       "  <th>Dep. Variable:</th>  <td>Violence_score</td>  <th>  No. Observations:  </th>   <td>1142</td>   \n",
       "</tr>\n",
       "<tr>\n",
       "  <th>Model:</th>            <td>ARDL(4, 6)</td>    <th>  Log Likelihood     </th> <td>-5542.235</td>\n",
       "</tr>\n",
       "<tr>\n",
       "  <th>Method:</th>         <td>Conditional MLE</td> <th>  S.D. of innovations</th>  <td>31.539</td>  \n",
       "</tr>\n",
       "<tr>\n",
       "  <th>Date:</th>          <td>Sat, 14 Dec 2024</td> <th>  AIC                </th> <td>11110.470</td>\n",
       "</tr>\n",
       "<tr>\n",
       "  <th>Time:</th>              <td>15:30:42</td>     <th>  BIC                </th> <td>11175.952</td>\n",
       "</tr>\n",
       "<tr>\n",
       "  <th>Sample:</th>                <td>6</td>        <th>  HQIC               </th> <td>11135.201</td>\n",
       "</tr>\n",
       "<tr>\n",
       "  <th></th>                     <td>1142</td>       <th>                     </th>     <td> </td>    \n",
       "</tr>\n",
       "</table>\n",
       "<table class=\"simpletable\">\n",
       "<tr>\n",
       "            <td></td>               <th>coef</th>     <th>std err</th>      <th>z</th>      <th>P>|z|</th>  <th>[0.025</th>    <th>0.975]</th>  \n",
       "</tr>\n",
       "<tr>\n",
       "  <th>const</th>                 <td>   29.3426</td> <td>    5.004</td> <td>    5.864</td> <td> 0.000</td> <td>   19.525</td> <td>   39.160</td>\n",
       "</tr>\n",
       "<tr>\n",
       "  <th>Violence_score.L1</th>     <td>    0.4737</td> <td>    0.029</td> <td>   16.059</td> <td> 0.000</td> <td>    0.416</td> <td>    0.532</td>\n",
       "</tr>\n",
       "<tr>\n",
       "  <th>Violence_score.L2</th>     <td>    0.2334</td> <td>    0.033</td> <td>    7.160</td> <td> 0.000</td> <td>    0.169</td> <td>    0.297</td>\n",
       "</tr>\n",
       "<tr>\n",
       "  <th>Violence_score.L3</th>     <td>    0.0646</td> <td>    0.033</td> <td>    1.981</td> <td> 0.048</td> <td>    0.001</td> <td>    0.129</td>\n",
       "</tr>\n",
       "<tr>\n",
       "  <th>Violence_score.L4</th>     <td>    0.1466</td> <td>    0.030</td> <td>    4.959</td> <td> 0.000</td> <td>    0.089</td> <td>    0.205</td>\n",
       "</tr>\n",
       "<tr>\n",
       "  <th>no. films released.L0</th> <td>   -0.4213</td> <td>    0.690</td> <td>   -0.611</td> <td> 0.541</td> <td>   -1.775</td> <td>    0.932</td>\n",
       "</tr>\n",
       "<tr>\n",
       "  <th>no. films released.L1</th> <td>   -1.0851</td> <td>    0.694</td> <td>   -1.564</td> <td> 0.118</td> <td>   -2.446</td> <td>    0.276</td>\n",
       "</tr>\n",
       "<tr>\n",
       "  <th>no. films released.L2</th> <td>   -0.5816</td> <td>    0.694</td> <td>   -0.838</td> <td> 0.402</td> <td>   -1.943</td> <td>    0.780</td>\n",
       "</tr>\n",
       "<tr>\n",
       "  <th>no. films released.L3</th> <td>   -0.9855</td> <td>    0.695</td> <td>   -1.417</td> <td> 0.157</td> <td>   -2.350</td> <td>    0.379</td>\n",
       "</tr>\n",
       "<tr>\n",
       "  <th>no. films released.L4</th> <td>   -1.5215</td> <td>    0.692</td> <td>   -2.199</td> <td> 0.028</td> <td>   -2.879</td> <td>   -0.164</td>\n",
       "</tr>\n",
       "<tr>\n",
       "  <th>no. films released.L5</th> <td>   -0.9667</td> <td>    0.692</td> <td>   -1.397</td> <td> 0.163</td> <td>   -2.325</td> <td>    0.391</td>\n",
       "</tr>\n",
       "<tr>\n",
       "  <th>no. films released.L6</th> <td>    1.1820</td> <td>    0.687</td> <td>    1.720</td> <td> 0.086</td> <td>   -0.167</td> <td>    2.531</td>\n",
       "</tr>\n",
       "</table>"
      ],
      "text/latex": [
       "\\begin{center}\n",
       "\\begin{tabular}{lclc}\n",
       "\\toprule\n",
       "\\textbf{Dep. Variable:}        & Violence\\_score  & \\textbf{  No. Observations:  } &    1142     \\\\\n",
       "\\textbf{Model:}                &    ARDL(4, 6)    & \\textbf{  Log Likelihood     } & -5542.235   \\\\\n",
       "\\textbf{Method:}               & Conditional MLE  & \\textbf{  S.D. of innovations} &   31.539    \\\\\n",
       "\\textbf{Date:}                 & Sat, 14 Dec 2024 & \\textbf{  AIC                } & 11110.470   \\\\\n",
       "\\textbf{Time:}                 &     15:30:42     & \\textbf{  BIC                } & 11175.952   \\\\\n",
       "\\textbf{Sample:}               &        6         & \\textbf{  HQIC               } & 11135.201   \\\\\n",
       "\\textbf{}                      &       1142       & \\textbf{                     } &             \\\\\n",
       "\\bottomrule\n",
       "\\end{tabular}\n",
       "\\begin{tabular}{lcccccc}\n",
       "                               & \\textbf{coef} & \\textbf{std err} & \\textbf{z} & \\textbf{P$> |$z$|$} & \\textbf{[0.025} & \\textbf{0.975]}  \\\\\n",
       "\\midrule\n",
       "\\textbf{const}                 &      29.3426  &        5.004     &     5.864  &         0.000        &       19.525    &       39.160     \\\\\n",
       "\\textbf{Violence\\_score.L1}    &       0.4737  &        0.029     &    16.059  &         0.000        &        0.416    &        0.532     \\\\\n",
       "\\textbf{Violence\\_score.L2}    &       0.2334  &        0.033     &     7.160  &         0.000        &        0.169    &        0.297     \\\\\n",
       "\\textbf{Violence\\_score.L3}    &       0.0646  &        0.033     &     1.981  &         0.048        &        0.001    &        0.129     \\\\\n",
       "\\textbf{Violence\\_score.L4}    &       0.1466  &        0.030     &     4.959  &         0.000        &        0.089    &        0.205     \\\\\n",
       "\\textbf{no. films released.L0} &      -0.4213  &        0.690     &    -0.611  &         0.541        &       -1.775    &        0.932     \\\\\n",
       "\\textbf{no. films released.L1} &      -1.0851  &        0.694     &    -1.564  &         0.118        &       -2.446    &        0.276     \\\\\n",
       "\\textbf{no. films released.L2} &      -0.5816  &        0.694     &    -0.838  &         0.402        &       -1.943    &        0.780     \\\\\n",
       "\\textbf{no. films released.L3} &      -0.9855  &        0.695     &    -1.417  &         0.157        &       -2.350    &        0.379     \\\\\n",
       "\\textbf{no. films released.L4} &      -1.5215  &        0.692     &    -2.199  &         0.028        &       -2.879    &       -0.164     \\\\\n",
       "\\textbf{no. films released.L5} &      -0.9667  &        0.692     &    -1.397  &         0.163        &       -2.325    &        0.391     \\\\\n",
       "\\textbf{no. films released.L6} &       1.1820  &        0.687     &     1.720  &         0.086        &       -0.167    &        2.531     \\\\\n",
       "\\bottomrule\n",
       "\\end{tabular}\n",
       "%\\caption{ARDL Model Results}\n",
       "\\end{center}"
      ],
      "text/plain": [
       "<class 'statsmodels.iolib.summary.Summary'>\n",
       "\"\"\"\n",
       "                              ARDL Model Results                              \n",
       "==============================================================================\n",
       "Dep. Variable:         Violence_score   No. Observations:                 1142\n",
       "Model:                     ARDL(4, 6)   Log Likelihood               -5542.235\n",
       "Method:               Conditional MLE   S.D. of innovations             31.539\n",
       "Date:                Sat, 14 Dec 2024   AIC                          11110.470\n",
       "Time:                        15:30:42   BIC                          11175.952\n",
       "Sample:                             6   HQIC                         11135.201\n",
       "                                 1142                                         \n",
       "=========================================================================================\n",
       "                            coef    std err          z      P>|z|      [0.025      0.975]\n",
       "-----------------------------------------------------------------------------------------\n",
       "const                    29.3426      5.004      5.864      0.000      19.525      39.160\n",
       "Violence_score.L1         0.4737      0.029     16.059      0.000       0.416       0.532\n",
       "Violence_score.L2         0.2334      0.033      7.160      0.000       0.169       0.297\n",
       "Violence_score.L3         0.0646      0.033      1.981      0.048       0.001       0.129\n",
       "Violence_score.L4         0.1466      0.030      4.959      0.000       0.089       0.205\n",
       "no. films released.L0    -0.4213      0.690     -0.611      0.541      -1.775       0.932\n",
       "no. films released.L1    -1.0851      0.694     -1.564      0.118      -2.446       0.276\n",
       "no. films released.L2    -0.5816      0.694     -0.838      0.402      -1.943       0.780\n",
       "no. films released.L3    -0.9855      0.695     -1.417      0.157      -2.350       0.379\n",
       "no. films released.L4    -1.5215      0.692     -2.199      0.028      -2.879      -0.164\n",
       "no. films released.L5    -0.9667      0.692     -1.397      0.163      -2.325       0.391\n",
       "no. films released.L6     1.1820      0.687      1.720      0.086      -0.167       2.531\n",
       "=========================================================================================\n",
       "\"\"\""
      ]
     },
     "execution_count": 7,
     "metadata": {},
     "output_type": "execute_result"
    }
   ],
   "source": [
    "test_model.summary()"
   ]
  },
  {
   "cell_type": "code",
   "execution_count": 8,
   "metadata": {},
   "outputs": [],
   "source": [
    "timespan_years = pd.read_csv(DATA_PATH+\"/FBI_91_12/02_Consecutive_Years_States/Consecutive_years_states.tsv\", sep=\"\\t\")"
   ]
  },
  {
   "cell_type": "code",
   "execution_count": 9,
   "metadata": {},
   "outputs": [
    {
     "data": {
      "text/html": [
       "<div>\n",
       "<style scoped>\n",
       "    .dataframe tbody tr th:only-of-type {\n",
       "        vertical-align: middle;\n",
       "    }\n",
       "\n",
       "    .dataframe tbody tr th {\n",
       "        vertical-align: top;\n",
       "    }\n",
       "\n",
       "    .dataframe thead th {\n",
       "        text-align: right;\n",
       "    }\n",
       "</style>\n",
       "<table border=\"1\" class=\"dataframe\">\n",
       "  <thead>\n",
       "    <tr style=\"text-align: right;\">\n",
       "      <th></th>\n",
       "      <th>state</th>\n",
       "      <th>minimum_year</th>\n",
       "      <th>maximum_year</th>\n",
       "    </tr>\n",
       "  </thead>\n",
       "  <tbody>\n",
       "    <tr>\n",
       "      <th>0</th>\n",
       "      <td>Alabama</td>\n",
       "      <td>2007</td>\n",
       "      <td>2012</td>\n",
       "    </tr>\n",
       "    <tr>\n",
       "      <th>1</th>\n",
       "      <td>Arizona</td>\n",
       "      <td>2004</td>\n",
       "      <td>2012</td>\n",
       "    </tr>\n",
       "    <tr>\n",
       "      <th>2</th>\n",
       "      <td>Arkansas</td>\n",
       "      <td>1999</td>\n",
       "      <td>2012</td>\n",
       "    </tr>\n",
       "    <tr>\n",
       "      <th>3</th>\n",
       "      <td>Colorado</td>\n",
       "      <td>1997</td>\n",
       "      <td>2012</td>\n",
       "    </tr>\n",
       "    <tr>\n",
       "      <th>4</th>\n",
       "      <td>Connecticut</td>\n",
       "      <td>1998</td>\n",
       "      <td>2012</td>\n",
       "    </tr>\n",
       "  </tbody>\n",
       "</table>\n",
       "</div>"
      ],
      "text/plain": [
       "         state  minimum_year  maximum_year\n",
       "0      Alabama          2007          2012\n",
       "1      Arizona          2004          2012\n",
       "2     Arkansas          1999          2012\n",
       "3     Colorado          1997          2012\n",
       "4  Connecticut          1998          2012"
      ]
     },
     "execution_count": 9,
     "metadata": {},
     "output_type": "execute_result"
    }
   ],
   "source": [
    "timespan_years.head()"
   ]
  },
  {
   "cell_type": "code",
   "execution_count": null,
   "metadata": {},
   "outputs": [],
   "source": []
  }
 ],
 "metadata": {
  "kernelspec": {
   "display_name": "alligators",
   "language": "python",
   "name": "python3"
  },
  "language_info": {
   "codemirror_mode": {
    "name": "ipython",
    "version": 3
   },
   "file_extension": ".py",
   "mimetype": "text/x-python",
   "name": "python",
   "nbconvert_exporter": "python",
   "pygments_lexer": "ipython3",
   "version": "3.12.2"
  }
 },
 "nbformat": 4,
 "nbformat_minor": 2
}
