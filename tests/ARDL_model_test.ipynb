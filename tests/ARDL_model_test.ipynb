{
 "cells": [
  {
   "cell_type": "code",
   "execution_count": 118,
   "metadata": {},
   "outputs": [
    {
     "name": "stdout",
     "output_type": "stream",
     "text": [
      "['ARDL_model', 'RegressionResultsWrapper', '__builtins__', '__cached__', '__doc__', '__file__', '__loader__', '__name__', '__package__', '__spec__', 'diagnostic', 'np', 'pd', 'sm', 'smf', 'stats']\n"
     ]
    }
   ],
   "source": [
    "import pandas as pd\n",
    "\n",
    "import sys\n",
    "sys.path.append(\"../src/model\")\n",
    "\n",
    "#from ARDL_model import ARDL_model_func\n",
    "\n",
    "import ARDL_model\n",
    "print(dir(ARDL_model))"
   ]
  },
  {
   "cell_type": "code",
   "execution_count": 111,
   "metadata": {},
   "outputs": [],
   "source": [
    "DATA_PATH = \"../data/CLEAN\"\n",
    "\n",
    "df_box_offices = pd.read_csv(DATA_PATH+\"/Violent_Movies_final.tsv\", sep=\"\\t\")"
   ]
  },
  {
   "cell_type": "code",
   "execution_count": 112,
   "metadata": {},
   "outputs": [],
   "source": [
    "# Testing out the ARDL model: \n",
    "TEST = ARDL_model(df_box_offices)"
   ]
  },
  {
   "cell_type": "code",
   "execution_count": 113,
   "metadata": {},
   "outputs": [
    {
     "data": {
      "text/html": [
       "<div>\n",
       "<style scoped>\n",
       "    .dataframe tbody tr th:only-of-type {\n",
       "        vertical-align: middle;\n",
       "    }\n",
       "\n",
       "    .dataframe tbody tr th {\n",
       "        vertical-align: top;\n",
       "    }\n",
       "\n",
       "    .dataframe thead th {\n",
       "        text-align: right;\n",
       "    }\n",
       "</style>\n",
       "<table border=\"1\" class=\"dataframe\">\n",
       "  <thead>\n",
       "    <tr style=\"text-align: right;\">\n",
       "      <th></th>\n",
       "      <th>Year</th>\n",
       "      <th>Week</th>\n",
       "      <th>no. films released</th>\n",
       "      <th>Box office revenue</th>\n",
       "    </tr>\n",
       "  </thead>\n",
       "  <tbody>\n",
       "    <tr>\n",
       "      <th>0</th>\n",
       "      <td>1913</td>\n",
       "      <td>33</td>\n",
       "      <td>1</td>\n",
       "      <td>980000.0</td>\n",
       "    </tr>\n",
       "    <tr>\n",
       "      <th>1</th>\n",
       "      <td>1914</td>\n",
       "      <td>46</td>\n",
       "      <td>1</td>\n",
       "      <td>87028.0</td>\n",
       "    </tr>\n",
       "    <tr>\n",
       "      <th>2</th>\n",
       "      <td>1915</td>\n",
       "      <td>6</td>\n",
       "      <td>1</td>\n",
       "      <td>50000000.0</td>\n",
       "    </tr>\n",
       "    <tr>\n",
       "      <th>3</th>\n",
       "      <td>1923</td>\n",
       "      <td>47</td>\n",
       "      <td>1</td>\n",
       "      <td>4168790.0</td>\n",
       "    </tr>\n",
       "    <tr>\n",
       "      <th>4</th>\n",
       "      <td>1924</td>\n",
       "      <td>49</td>\n",
       "      <td>1</td>\n",
       "      <td>274827.0</td>\n",
       "    </tr>\n",
       "  </tbody>\n",
       "</table>\n",
       "</div>"
      ],
      "text/plain": [
       "   Year  Week  no. films released  Box office revenue\n",
       "0  1913    33                   1            980000.0\n",
       "1  1914    46                   1             87028.0\n",
       "2  1915     6                   1          50000000.0\n",
       "3  1923    47                   1           4168790.0\n",
       "4  1924    49                   1            274827.0"
      ]
     },
     "execution_count": 113,
     "metadata": {},
     "output_type": "execute_result"
    }
   ],
   "source": [
    "TEST.head()"
   ]
  },
  {
   "cell_type": "code",
   "execution_count": 16,
   "metadata": {},
   "outputs": [],
   "source": [
    "box_revenues_clean = df_box_offices.dropna()"
   ]
  },
  {
   "cell_type": "code",
   "execution_count": 78,
   "metadata": {},
   "outputs": [],
   "source": [
    "weekly_revenues = box_revenues_clean.groupby([\"Year\", \"Week\"])[\"Box office revenue\"].sum().reset_index()\n",
    "weekly_no_films = box_revenues_clean.groupby([\"Year\", \"Week\"]).size().reset_index(name=\"no. films released\")\n",
    "\n",
    "weekly_films_revenues = pd.merge(weekly_no_films, weekly_revenues, on=[\"Year\", \"Week\"], how=\"left\") \n",
    "weekly_films_revenues_sorted = weekly_films_revenues.sort_values([\"Year\", \"Week\"], ascending=True)"
   ]
  },
  {
   "cell_type": "code",
   "execution_count": 79,
   "metadata": {},
   "outputs": [
    {
     "data": {
      "text/html": [
       "<div>\n",
       "<style scoped>\n",
       "    .dataframe tbody tr th:only-of-type {\n",
       "        vertical-align: middle;\n",
       "    }\n",
       "\n",
       "    .dataframe tbody tr th {\n",
       "        vertical-align: top;\n",
       "    }\n",
       "\n",
       "    .dataframe thead th {\n",
       "        text-align: right;\n",
       "    }\n",
       "</style>\n",
       "<table border=\"1\" class=\"dataframe\">\n",
       "  <thead>\n",
       "    <tr style=\"text-align: right;\">\n",
       "      <th></th>\n",
       "      <th>Year</th>\n",
       "      <th>Week</th>\n",
       "      <th>no. films released</th>\n",
       "      <th>Box office revenue</th>\n",
       "    </tr>\n",
       "  </thead>\n",
       "  <tbody>\n",
       "    <tr>\n",
       "      <th>0</th>\n",
       "      <td>1913</td>\n",
       "      <td>33</td>\n",
       "      <td>1</td>\n",
       "      <td>980000.0</td>\n",
       "    </tr>\n",
       "    <tr>\n",
       "      <th>1</th>\n",
       "      <td>1914</td>\n",
       "      <td>46</td>\n",
       "      <td>1</td>\n",
       "      <td>87028.0</td>\n",
       "    </tr>\n",
       "    <tr>\n",
       "      <th>2</th>\n",
       "      <td>1915</td>\n",
       "      <td>6</td>\n",
       "      <td>1</td>\n",
       "      <td>50000000.0</td>\n",
       "    </tr>\n",
       "    <tr>\n",
       "      <th>3</th>\n",
       "      <td>1923</td>\n",
       "      <td>47</td>\n",
       "      <td>1</td>\n",
       "      <td>4168790.0</td>\n",
       "    </tr>\n",
       "    <tr>\n",
       "      <th>4</th>\n",
       "      <td>1924</td>\n",
       "      <td>49</td>\n",
       "      <td>1</td>\n",
       "      <td>274827.0</td>\n",
       "    </tr>\n",
       "  </tbody>\n",
       "</table>\n",
       "</div>"
      ],
      "text/plain": [
       "   Year  Week  no. films released  Box office revenue\n",
       "0  1913    33                   1            980000.0\n",
       "1  1914    46                   1             87028.0\n",
       "2  1915     6                   1          50000000.0\n",
       "3  1923    47                   1           4168790.0\n",
       "4  1924    49                   1            274827.0"
      ]
     },
     "execution_count": 79,
     "metadata": {},
     "output_type": "execute_result"
    }
   ],
   "source": [
    "weekly_films_revenues_sorted.head()"
   ]
  }
 ],
 "metadata": {
  "kernelspec": {
   "display_name": "alligators",
   "language": "python",
   "name": "python3"
  },
  "language_info": {
   "codemirror_mode": {
    "name": "ipython",
    "version": 3
   },
   "file_extension": ".py",
   "mimetype": "text/x-python",
   "name": "python",
   "nbconvert_exporter": "python",
   "pygments_lexer": "ipython3",
   "version": "3.12.2"
  }
 },
 "nbformat": 4,
 "nbformat_minor": 2
}
