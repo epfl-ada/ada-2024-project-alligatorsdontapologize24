{
 "cells": [
  {
   "cell_type": "code",
   "execution_count": 1,
   "metadata": {},
   "outputs": [],
   "source": [
    "import pandas as pd\n",
    "from statsmodels.tsa.ardl import ardl_select_order\n",
    "from statsmodels.tsa.ardl import ARDL\n",
    "\n",
    "import numpy as np\n",
    "\n",
    "import sys\n",
    "sys.path.append(\"../src/model\")\n",
    "\n",
    "from pprint import pprint\n",
    "\n",
    "from ARDL_model import ARDL_model_func, ARDL_states_separate, ARDL_model_func_jade\n",
    "\n",
    "DATA_PATH = \"../data/CLEAN\""
   ]
  },
  {
   "cell_type": "markdown",
   "metadata": {},
   "source": [
    "# ARDL function - fitted ARDL models for all states (except Pennsylvania) separately (according to their corresponding consecutive years)\n",
    "# Violence counts per state - \"normal\" box office revenue\n",
    "\n",
    "### returns a dictionary of fitted ARDL models"
   ]
  },
  {
   "cell_type": "code",
   "execution_count": 2,
   "metadata": {},
   "outputs": [],
   "source": [
    "DIRECTORY_PATH = DATA_PATH + \"/FBI_91_12/01_States_Separately\""
   ]
  },
  {
   "cell_type": "code",
   "execution_count": 2,
   "metadata": {},
   "outputs": [],
   "source": [
    "df_box_offices = pd.read_csv(DATA_PATH+\"/Violent_Movies_final.tsv\", sep=\"\\t\")"
   ]
  },
  {
   "cell_type": "code",
   "execution_count": 4,
   "metadata": {},
   "outputs": [],
   "source": [
    "consecutive_years_per_state = pd.read_csv(DATA_PATH+\"/FBI_91_12/02_Consecutive_Years_States/Consecutive_years_states.tsv\", sep=\"\\t\")"
   ]
  },
  {
   "cell_type": "code",
   "execution_count": 5,
   "metadata": {},
   "outputs": [],
   "source": [
    "fitted_ARDL_models = ARDL_states_separate(DIRECTORY_PATH, df_box_offices, consecutive_years_per_state, ARDL_model_func, time_fixed_effects=False)"
   ]
  },
  {
   "cell_type": "code",
   "execution_count": 15,
   "metadata": {},
   "outputs": [],
   "source": [
    "test = fitted_ARDL_models[\"ARDL_Connecticut\"]"
   ]
  },
  {
   "cell_type": "code",
   "execution_count": 16,
   "metadata": {},
   "outputs": [
    {
     "data": {
      "text/html": [
       "<table class=\"simpletable\">\n",
       "<caption>ARDL Model Results</caption>\n",
       "<tr>\n",
       "  <th>Dep. Variable:</th>  <td>Violence_score</td>  <th>  No. Observations:  </th>    <td>776</td>   \n",
       "</tr>\n",
       "<tr>\n",
       "  <th>Model:</th>            <td>ARDL(4, 4)</td>    <th>  Log Likelihood     </th> <td>-4473.741</td>\n",
       "</tr>\n",
       "<tr>\n",
       "  <th>Method:</th>         <td>Conditional MLE</td> <th>  S.D. of innovations</th>  <td>79.524</td>  \n",
       "</tr>\n",
       "<tr>\n",
       "  <th>Date:</th>          <td>Sat, 14 Dec 2024</td> <th>  AIC                </th> <td>8969.482</td> \n",
       "</tr>\n",
       "<tr>\n",
       "  <th>Time:</th>              <td>17:24:01</td>     <th>  BIC                </th> <td>9020.621</td> \n",
       "</tr>\n",
       "<tr>\n",
       "  <th>Sample:</th>                <td>4</td>        <th>  HQIC               </th> <td>8989.160</td> \n",
       "</tr>\n",
       "<tr>\n",
       "  <th></th>                      <td>776</td>       <th>                     </th>     <td> </td>    \n",
       "</tr>\n",
       "</table>\n",
       "<table class=\"simpletable\">\n",
       "<tr>\n",
       "            <td></td>               <th>coef</th>     <th>std err</th>      <th>z</th>      <th>P>|z|</th>  <th>[0.025</th>    <th>0.975]</th>  \n",
       "</tr>\n",
       "<tr>\n",
       "  <th>const</th>                 <td>   19.5826</td> <td>    7.545</td> <td>    2.596</td> <td> 0.010</td> <td>    4.772</td> <td>   34.394</td>\n",
       "</tr>\n",
       "<tr>\n",
       "  <th>Violence_score.L1</th>     <td>    0.5525</td> <td>    0.036</td> <td>   15.540</td> <td> 0.000</td> <td>    0.483</td> <td>    0.622</td>\n",
       "</tr>\n",
       "<tr>\n",
       "  <th>Violence_score.L2</th>     <td>    0.1811</td> <td>    0.041</td> <td>    4.467</td> <td> 0.000</td> <td>    0.101</td> <td>    0.261</td>\n",
       "</tr>\n",
       "<tr>\n",
       "  <th>Violence_score.L3</th>     <td>    0.0714</td> <td>    0.041</td> <td>    1.760</td> <td> 0.079</td> <td>   -0.008</td> <td>    0.151</td>\n",
       "</tr>\n",
       "<tr>\n",
       "  <th>Violence_score.L4</th>     <td>    0.1795</td> <td>    0.035</td> <td>    5.074</td> <td> 0.000</td> <td>    0.110</td> <td>    0.249</td>\n",
       "</tr>\n",
       "<tr>\n",
       "  <th>Box office revenue.L0</th> <td> 1.419e-08</td> <td> 1.08e-08</td> <td>    1.320</td> <td> 0.187</td> <td>-6.91e-09</td> <td> 3.53e-08</td>\n",
       "</tr>\n",
       "<tr>\n",
       "  <th>Box office revenue.L1</th> <td>-6.134e-09</td> <td> 1.08e-08</td> <td>   -0.569</td> <td> 0.570</td> <td>-2.73e-08</td> <td>  1.5e-08</td>\n",
       "</tr>\n",
       "<tr>\n",
       "  <th>Box office revenue.L2</th> <td>-2.384e-08</td> <td> 1.08e-08</td> <td>   -2.210</td> <td> 0.027</td> <td> -4.5e-08</td> <td>-2.66e-09</td>\n",
       "</tr>\n",
       "<tr>\n",
       "  <th>Box office revenue.L3</th> <td>-2.408e-08</td> <td> 1.08e-08</td> <td>   -2.223</td> <td> 0.027</td> <td>-4.53e-08</td> <td>-2.81e-09</td>\n",
       "</tr>\n",
       "<tr>\n",
       "  <th>Box office revenue.L4</th> <td>  2.05e-08</td> <td> 1.08e-08</td> <td>    1.890</td> <td> 0.059</td> <td>-7.95e-10</td> <td> 4.18e-08</td>\n",
       "</tr>\n",
       "</table>"
      ],
      "text/latex": [
       "\\begin{center}\n",
       "\\begin{tabular}{lclc}\n",
       "\\toprule\n",
       "\\textbf{Dep. Variable:}        & Violence\\_score  & \\textbf{  No. Observations:  } &    776      \\\\\n",
       "\\textbf{Model:}                &    ARDL(4, 4)    & \\textbf{  Log Likelihood     } & -4473.741   \\\\\n",
       "\\textbf{Method:}               & Conditional MLE  & \\textbf{  S.D. of innovations} &   79.524    \\\\\n",
       "\\textbf{Date:}                 & Sat, 14 Dec 2024 & \\textbf{  AIC                } &  8969.482   \\\\\n",
       "\\textbf{Time:}                 &     17:24:01     & \\textbf{  BIC                } &  9020.621   \\\\\n",
       "\\textbf{Sample:}               &        4         & \\textbf{  HQIC               } &  8989.160   \\\\\n",
       "\\textbf{}                      &       776        & \\textbf{                     } &             \\\\\n",
       "\\bottomrule\n",
       "\\end{tabular}\n",
       "\\begin{tabular}{lcccccc}\n",
       "                               & \\textbf{coef} & \\textbf{std err} & \\textbf{z} & \\textbf{P$> |$z$|$} & \\textbf{[0.025} & \\textbf{0.975]}  \\\\\n",
       "\\midrule\n",
       "\\textbf{const}                 &      19.5826  &        7.545     &     2.596  &         0.010        &        4.772    &       34.394     \\\\\n",
       "\\textbf{Violence\\_score.L1}    &       0.5525  &        0.036     &    15.540  &         0.000        &        0.483    &        0.622     \\\\\n",
       "\\textbf{Violence\\_score.L2}    &       0.1811  &        0.041     &     4.467  &         0.000        &        0.101    &        0.261     \\\\\n",
       "\\textbf{Violence\\_score.L3}    &       0.0714  &        0.041     &     1.760  &         0.079        &       -0.008    &        0.151     \\\\\n",
       "\\textbf{Violence\\_score.L4}    &       0.1795  &        0.035     &     5.074  &         0.000        &        0.110    &        0.249     \\\\\n",
       "\\textbf{Box office revenue.L0} &    1.419e-08  &     1.08e-08     &     1.320  &         0.187        &    -6.91e-09    &     3.53e-08     \\\\\n",
       "\\textbf{Box office revenue.L1} &   -6.134e-09  &     1.08e-08     &    -0.569  &         0.570        &    -2.73e-08    &      1.5e-08     \\\\\n",
       "\\textbf{Box office revenue.L2} &   -2.384e-08  &     1.08e-08     &    -2.210  &         0.027        &     -4.5e-08    &    -2.66e-09     \\\\\n",
       "\\textbf{Box office revenue.L3} &   -2.408e-08  &     1.08e-08     &    -2.223  &         0.027        &    -4.53e-08    &    -2.81e-09     \\\\\n",
       "\\textbf{Box office revenue.L4} &     2.05e-08  &     1.08e-08     &     1.890  &         0.059        &    -7.95e-10    &     4.18e-08     \\\\\n",
       "\\bottomrule\n",
       "\\end{tabular}\n",
       "%\\caption{ARDL Model Results}\n",
       "\\end{center}"
      ],
      "text/plain": [
       "<class 'statsmodels.iolib.summary.Summary'>\n",
       "\"\"\"\n",
       "                              ARDL Model Results                              \n",
       "==============================================================================\n",
       "Dep. Variable:         Violence_score   No. Observations:                  776\n",
       "Model:                     ARDL(4, 4)   Log Likelihood               -4473.741\n",
       "Method:               Conditional MLE   S.D. of innovations             79.524\n",
       "Date:                Sat, 14 Dec 2024   AIC                           8969.482\n",
       "Time:                        17:24:01   BIC                           9020.621\n",
       "Sample:                             4   HQIC                          8989.160\n",
       "                                  776                                         \n",
       "=========================================================================================\n",
       "                            coef    std err          z      P>|z|      [0.025      0.975]\n",
       "-----------------------------------------------------------------------------------------\n",
       "const                    19.5826      7.545      2.596      0.010       4.772      34.394\n",
       "Violence_score.L1         0.5525      0.036     15.540      0.000       0.483       0.622\n",
       "Violence_score.L2         0.1811      0.041      4.467      0.000       0.101       0.261\n",
       "Violence_score.L3         0.0714      0.041      1.760      0.079      -0.008       0.151\n",
       "Violence_score.L4         0.1795      0.035      5.074      0.000       0.110       0.249\n",
       "Box office revenue.L0  1.419e-08   1.08e-08      1.320      0.187   -6.91e-09    3.53e-08\n",
       "Box office revenue.L1 -6.134e-09   1.08e-08     -0.569      0.570   -2.73e-08     1.5e-08\n",
       "Box office revenue.L2 -2.384e-08   1.08e-08     -2.210      0.027    -4.5e-08   -2.66e-09\n",
       "Box office revenue.L3 -2.408e-08   1.08e-08     -2.223      0.027   -4.53e-08   -2.81e-09\n",
       "Box office revenue.L4   2.05e-08   1.08e-08      1.890      0.059   -7.95e-10    4.18e-08\n",
       "=========================================================================================\n",
       "\"\"\""
      ]
     },
     "execution_count": 16,
     "metadata": {},
     "output_type": "execute_result"
    }
   ],
   "source": [
    "test.summary()"
   ]
  },
  {
   "cell_type": "markdown",
   "metadata": {},
   "source": [
    "# ARDL function - violence offense counts per week for all states together - \"normal\" box office revenue\n",
    "\n",
    "### We just count all number of crimes in all states and add them up per week\n",
    "### Just counting for timespan 2008 - 2012, since for this we have roughly consecutive data for all states (except Pennsylvania)"
   ]
  },
  {
   "cell_type": "code",
   "execution_count": null,
   "metadata": {},
   "outputs": [],
   "source": [
    "df_box_offices = pd.read_csv(DATA_PATH+\"/Violent_Movies_final.tsv\", sep=\"\\t\")\n",
    "df_real_violence = pd.read_csv(DATA_PATH+\"/FBI_91_12/00_All_States_Merged/violence_scores_merged.csv\", sep=\",\")"
   ]
  },
  {
   "cell_type": "code",
   "execution_count": 13,
   "metadata": {},
   "outputs": [],
   "source": [
    "df_real_violence_cut = df_real_violence[df_real_violence['Year'] >= 2008]"
   ]
  },
  {
   "cell_type": "code",
   "execution_count": 18,
   "metadata": {},
   "outputs": [],
   "source": [
    "test_model = ARDL_model_func(df_box_offices, df_real_violence_cut, time_fixed_effects=False)"
   ]
  },
  {
   "cell_type": "code",
   "execution_count": 19,
   "metadata": {},
   "outputs": [
    {
     "data": {
      "text/html": [
       "<table class=\"simpletable\">\n",
       "<caption>ARDL Model Results</caption>\n",
       "<tr>\n",
       "  <th>Dep. Variable:</th>  <td>Violence_score</td>  <th>  No. Observations:  </th>    <td>252</td>   \n",
       "</tr>\n",
       "<tr>\n",
       "  <th>Model:</th>            <td>ARDL(4, 4)</td>    <th>  Log Likelihood     </th> <td>-2360.512</td>\n",
       "</tr>\n",
       "<tr>\n",
       "  <th>Method:</th>         <td>Conditional MLE</td> <th>  S.D. of innovations</th> <td>3292.018</td> \n",
       "</tr>\n",
       "<tr>\n",
       "  <th>Date:</th>          <td>Mon, 16 Dec 2024</td> <th>  AIC                </th> <td>4743.024</td> \n",
       "</tr>\n",
       "<tr>\n",
       "  <th>Time:</th>              <td>15:27:30</td>     <th>  BIC                </th> <td>4781.672</td> \n",
       "</tr>\n",
       "<tr>\n",
       "  <th>Sample:</th>                <td>4</td>        <th>  HQIC               </th> <td>4758.583</td> \n",
       "</tr>\n",
       "<tr>\n",
       "  <th></th>                      <td>252</td>       <th>                     </th>     <td> </td>    \n",
       "</tr>\n",
       "</table>\n",
       "<table class=\"simpletable\">\n",
       "<tr>\n",
       "            <td></td>               <th>coef</th>     <th>std err</th>      <th>z</th>      <th>P>|z|</th>  <th>[0.025</th>    <th>0.975]</th>  \n",
       "</tr>\n",
       "<tr>\n",
       "  <th>const</th>                 <td> 5655.7914</td> <td> 2055.854</td> <td>    2.751</td> <td> 0.006</td> <td> 1605.796</td> <td> 9705.786</td>\n",
       "</tr>\n",
       "<tr>\n",
       "  <th>Violence_score.L1</th>     <td>    0.6511</td> <td>    0.064</td> <td>   10.182</td> <td> 0.000</td> <td>    0.525</td> <td>    0.777</td>\n",
       "</tr>\n",
       "<tr>\n",
       "  <th>Violence_score.L2</th>     <td>    0.0879</td> <td>    0.075</td> <td>    1.178</td> <td> 0.240</td> <td>   -0.059</td> <td>    0.235</td>\n",
       "</tr>\n",
       "<tr>\n",
       "  <th>Violence_score.L3</th>     <td>    0.0398</td> <td>    0.074</td> <td>    0.541</td> <td> 0.589</td> <td>   -0.105</td> <td>    0.185</td>\n",
       "</tr>\n",
       "<tr>\n",
       "  <th>Violence_score.L4</th>     <td>    0.1253</td> <td>    0.061</td> <td>    2.068</td> <td> 0.040</td> <td>    0.006</td> <td>    0.245</td>\n",
       "</tr>\n",
       "<tr>\n",
       "  <th>Box office revenue.L0</th> <td> -1.09e-07</td> <td> 6.25e-07</td> <td>   -0.174</td> <td> 0.862</td> <td>-1.34e-06</td> <td> 1.12e-06</td>\n",
       "</tr>\n",
       "<tr>\n",
       "  <th>Box office revenue.L1</th> <td>-4.678e-09</td> <td> 6.25e-07</td> <td>   -0.007</td> <td> 0.994</td> <td>-1.24e-06</td> <td> 1.23e-06</td>\n",
       "</tr>\n",
       "<tr>\n",
       "  <th>Box office revenue.L2</th> <td> 2.466e-07</td> <td> 6.26e-07</td> <td>    0.394</td> <td> 0.694</td> <td>-9.87e-07</td> <td> 1.48e-06</td>\n",
       "</tr>\n",
       "<tr>\n",
       "  <th>Box office revenue.L3</th> <td>-1.942e-06</td> <td> 6.26e-07</td> <td>   -3.100</td> <td> 0.002</td> <td>-3.18e-06</td> <td>-7.08e-07</td>\n",
       "</tr>\n",
       "<tr>\n",
       "  <th>Box office revenue.L4</th> <td> 1.085e-06</td> <td> 6.38e-07</td> <td>    1.699</td> <td> 0.091</td> <td>-1.73e-07</td> <td> 2.34e-06</td>\n",
       "</tr>\n",
       "</table>"
      ],
      "text/latex": [
       "\\begin{center}\n",
       "\\begin{tabular}{lclc}\n",
       "\\toprule\n",
       "\\textbf{Dep. Variable:}        & Violence\\_score  & \\textbf{  No. Observations:  } &    252      \\\\\n",
       "\\textbf{Model:}                &    ARDL(4, 4)    & \\textbf{  Log Likelihood     } & -2360.512   \\\\\n",
       "\\textbf{Method:}               & Conditional MLE  & \\textbf{  S.D. of innovations} &  3292.018   \\\\\n",
       "\\textbf{Date:}                 & Mon, 16 Dec 2024 & \\textbf{  AIC                } &  4743.024   \\\\\n",
       "\\textbf{Time:}                 &     15:27:30     & \\textbf{  BIC                } &  4781.672   \\\\\n",
       "\\textbf{Sample:}               &        4         & \\textbf{  HQIC               } &  4758.583   \\\\\n",
       "\\textbf{}                      &       252        & \\textbf{                     } &             \\\\\n",
       "\\bottomrule\n",
       "\\end{tabular}\n",
       "\\begin{tabular}{lcccccc}\n",
       "                               & \\textbf{coef} & \\textbf{std err} & \\textbf{z} & \\textbf{P$> |$z$|$} & \\textbf{[0.025} & \\textbf{0.975]}  \\\\\n",
       "\\midrule\n",
       "\\textbf{const}                 &    5655.7914  &     2055.854     &     2.751  &         0.006        &     1605.796    &     9705.786     \\\\\n",
       "\\textbf{Violence\\_score.L1}    &       0.6511  &        0.064     &    10.182  &         0.000        &        0.525    &        0.777     \\\\\n",
       "\\textbf{Violence\\_score.L2}    &       0.0879  &        0.075     &     1.178  &         0.240        &       -0.059    &        0.235     \\\\\n",
       "\\textbf{Violence\\_score.L3}    &       0.0398  &        0.074     &     0.541  &         0.589        &       -0.105    &        0.185     \\\\\n",
       "\\textbf{Violence\\_score.L4}    &       0.1253  &        0.061     &     2.068  &         0.040        &        0.006    &        0.245     \\\\\n",
       "\\textbf{Box office revenue.L0} &    -1.09e-07  &     6.25e-07     &    -0.174  &         0.862        &    -1.34e-06    &     1.12e-06     \\\\\n",
       "\\textbf{Box office revenue.L1} &   -4.678e-09  &     6.25e-07     &    -0.007  &         0.994        &    -1.24e-06    &     1.23e-06     \\\\\n",
       "\\textbf{Box office revenue.L2} &    2.466e-07  &     6.26e-07     &     0.394  &         0.694        &    -9.87e-07    &     1.48e-06     \\\\\n",
       "\\textbf{Box office revenue.L3} &   -1.942e-06  &     6.26e-07     &    -3.100  &         0.002        &    -3.18e-06    &    -7.08e-07     \\\\\n",
       "\\textbf{Box office revenue.L4} &    1.085e-06  &     6.38e-07     &     1.699  &         0.091        &    -1.73e-07    &     2.34e-06     \\\\\n",
       "\\bottomrule\n",
       "\\end{tabular}\n",
       "%\\caption{ARDL Model Results}\n",
       "\\end{center}"
      ],
      "text/plain": [
       "<class 'statsmodels.iolib.summary.Summary'>\n",
       "\"\"\"\n",
       "                              ARDL Model Results                              \n",
       "==============================================================================\n",
       "Dep. Variable:         Violence_score   No. Observations:                  252\n",
       "Model:                     ARDL(4, 4)   Log Likelihood               -2360.512\n",
       "Method:               Conditional MLE   S.D. of innovations           3292.018\n",
       "Date:                Mon, 16 Dec 2024   AIC                           4743.024\n",
       "Time:                        15:27:30   BIC                           4781.672\n",
       "Sample:                             4   HQIC                          4758.583\n",
       "                                  252                                         \n",
       "=========================================================================================\n",
       "                            coef    std err          z      P>|z|      [0.025      0.975]\n",
       "-----------------------------------------------------------------------------------------\n",
       "const                  5655.7914   2055.854      2.751      0.006    1605.796    9705.786\n",
       "Violence_score.L1         0.6511      0.064     10.182      0.000       0.525       0.777\n",
       "Violence_score.L2         0.0879      0.075      1.178      0.240      -0.059       0.235\n",
       "Violence_score.L3         0.0398      0.074      0.541      0.589      -0.105       0.185\n",
       "Violence_score.L4         0.1253      0.061      2.068      0.040       0.006       0.245\n",
       "Box office revenue.L0  -1.09e-07   6.25e-07     -0.174      0.862   -1.34e-06    1.12e-06\n",
       "Box office revenue.L1 -4.678e-09   6.25e-07     -0.007      0.994   -1.24e-06    1.23e-06\n",
       "Box office revenue.L2  2.466e-07   6.26e-07      0.394      0.694   -9.87e-07    1.48e-06\n",
       "Box office revenue.L3 -1.942e-06   6.26e-07     -3.100      0.002   -3.18e-06   -7.08e-07\n",
       "Box office revenue.L4  1.085e-06   6.38e-07      1.699      0.091   -1.73e-07    2.34e-06\n",
       "=========================================================================================\n",
       "\"\"\""
      ]
     },
     "execution_count": 19,
     "metadata": {},
     "output_type": "execute_result"
    }
   ],
   "source": [
    "test_model.summary()"
   ]
  },
  {
   "cell_type": "markdown",
   "metadata": {},
   "source": [
    "# ARDL function - violence offense ratios per state - \"normal\" box office revenue\n",
    "\n",
    "### We add up the violent crimes per state per week and divide by the total number of crimes in this state in this year\n",
    "### Applied for Alabama state in the time span 2008 - 2012 (since we have consecutive data here)"
   ]
  },
  {
   "cell_type": "code",
   "execution_count": 20,
   "metadata": {},
   "outputs": [],
   "source": [
    "df_real_violence_ratio = pd.read_csv(DATA_PATH+\"/FBI_91_12/03_Violence_Ratio_Alabama/Violence_ratio_alabama_2008_2012.csv\", sep=\",\")"
   ]
  },
  {
   "cell_type": "code",
   "execution_count": 21,
   "metadata": {},
   "outputs": [],
   "source": [
    "test_model_2 = ARDL_model_func(df_box_offices, df_real_violence_ratio, time_fixed_effects=False)"
   ]
  },
  {
   "cell_type": "code",
   "execution_count": 23,
   "metadata": {},
   "outputs": [
    {
     "data": {
      "text/html": [
       "<table class=\"simpletable\">\n",
       "<caption>ARDL Model Results</caption>\n",
       "<tr>\n",
       "  <th>Dep. Variable:</th>  <td>Violence_score</td>  <th>  No. Observations:  </th>    <td>250</td>   \n",
       "</tr>\n",
       "<tr>\n",
       "  <th>Model:</th>           <td>ARDL(4, 0, 2)</td>  <th>  Log Likelihood     </th> <td>1066.999</td> \n",
       "</tr>\n",
       "<tr>\n",
       "  <th>Method:</th>         <td>Conditional MLE</td> <th>  S.D. of innovations</th>   <td>0.003</td>  \n",
       "</tr>\n",
       "<tr>\n",
       "  <th>Date:</th>          <td>Mon, 16 Dec 2024</td> <th>  AIC                </th> <td>-2113.998</td>\n",
       "</tr>\n",
       "<tr>\n",
       "  <th>Time:</th>              <td>15:33:25</td>     <th>  BIC                </th> <td>-2078.945</td>\n",
       "</tr>\n",
       "<tr>\n",
       "  <th>Sample:</th>                <td>4</td>        <th>  HQIC               </th> <td>-2099.884</td>\n",
       "</tr>\n",
       "<tr>\n",
       "  <th></th>                      <td>250</td>       <th>                     </th>     <td> </td>    \n",
       "</tr>\n",
       "</table>\n",
       "<table class=\"simpletable\">\n",
       "<tr>\n",
       "            <td></td>               <th>coef</th>     <th>std err</th>      <th>z</th>      <th>P>|z|</th>  <th>[0.025</th>    <th>0.975]</th>  \n",
       "</tr>\n",
       "<tr>\n",
       "  <th>const</th>                 <td>    0.0122</td> <td>    0.002</td> <td>    6.360</td> <td> 0.000</td> <td>    0.008</td> <td>    0.016</td>\n",
       "</tr>\n",
       "<tr>\n",
       "  <th>Violence_score.L1</th>     <td>    0.1339</td> <td>    0.062</td> <td>    2.162</td> <td> 0.032</td> <td>    0.012</td> <td>    0.256</td>\n",
       "</tr>\n",
       "<tr>\n",
       "  <th>Violence_score.L2</th>     <td>    0.0821</td> <td>    0.063</td> <td>    1.313</td> <td> 0.190</td> <td>   -0.041</td> <td>    0.205</td>\n",
       "</tr>\n",
       "<tr>\n",
       "  <th>Violence_score.L3</th>     <td>   -0.0144</td> <td>    0.063</td> <td>   -0.229</td> <td> 0.819</td> <td>   -0.138</td> <td>    0.109</td>\n",
       "</tr>\n",
       "<tr>\n",
       "  <th>Violence_score.L4</th>     <td>    0.1654</td> <td>    0.062</td> <td>    2.653</td> <td> 0.009</td> <td>    0.043</td> <td>    0.288</td>\n",
       "</tr>\n",
       "<tr>\n",
       "  <th>no. films released.L0</th> <td>   -0.0004</td> <td>    0.000</td> <td>   -3.337</td> <td> 0.001</td> <td>   -0.001</td> <td>   -0.000</td>\n",
       "</tr>\n",
       "<tr>\n",
       "  <th>Box office revenue.L0</th> <td> 1.077e-12</td> <td> 6.16e-13</td> <td>    1.748</td> <td> 0.082</td> <td>-1.37e-13</td> <td> 2.29e-12</td>\n",
       "</tr>\n",
       "<tr>\n",
       "  <th>Box office revenue.L1</th> <td> 8.254e-13</td> <td> 6.08e-13</td> <td>    1.357</td> <td> 0.176</td> <td>-3.73e-13</td> <td> 2.02e-12</td>\n",
       "</tr>\n",
       "<tr>\n",
       "  <th>Box office revenue.L2</th> <td> 1.186e-12</td> <td>  6.1e-13</td> <td>    1.945</td> <td> 0.053</td> <td>-1.55e-14</td> <td> 2.39e-12</td>\n",
       "</tr>\n",
       "</table>"
      ],
      "text/latex": [
       "\\begin{center}\n",
       "\\begin{tabular}{lclc}\n",
       "\\toprule\n",
       "\\textbf{Dep. Variable:}        & Violence\\_score  & \\textbf{  No. Observations:  } &    250      \\\\\n",
       "\\textbf{Model:}                &  ARDL(4, 0, 2)   & \\textbf{  Log Likelihood     } &  1066.999   \\\\\n",
       "\\textbf{Method:}               & Conditional MLE  & \\textbf{  S.D. of innovations} &   0.003     \\\\\n",
       "\\textbf{Date:}                 & Mon, 16 Dec 2024 & \\textbf{  AIC                } & -2113.998   \\\\\n",
       "\\textbf{Time:}                 &     15:33:25     & \\textbf{  BIC                } & -2078.945   \\\\\n",
       "\\textbf{Sample:}               &        4         & \\textbf{  HQIC               } & -2099.884   \\\\\n",
       "\\textbf{}                      &       250        & \\textbf{                     } &             \\\\\n",
       "\\bottomrule\n",
       "\\end{tabular}\n",
       "\\begin{tabular}{lcccccc}\n",
       "                               & \\textbf{coef} & \\textbf{std err} & \\textbf{z} & \\textbf{P$> |$z$|$} & \\textbf{[0.025} & \\textbf{0.975]}  \\\\\n",
       "\\midrule\n",
       "\\textbf{const}                 &       0.0122  &        0.002     &     6.360  &         0.000        &        0.008    &        0.016     \\\\\n",
       "\\textbf{Violence\\_score.L1}    &       0.1339  &        0.062     &     2.162  &         0.032        &        0.012    &        0.256     \\\\\n",
       "\\textbf{Violence\\_score.L2}    &       0.0821  &        0.063     &     1.313  &         0.190        &       -0.041    &        0.205     \\\\\n",
       "\\textbf{Violence\\_score.L3}    &      -0.0144  &        0.063     &    -0.229  &         0.819        &       -0.138    &        0.109     \\\\\n",
       "\\textbf{Violence\\_score.L4}    &       0.1654  &        0.062     &     2.653  &         0.009        &        0.043    &        0.288     \\\\\n",
       "\\textbf{no. films released.L0} &      -0.0004  &        0.000     &    -3.337  &         0.001        &       -0.001    &       -0.000     \\\\\n",
       "\\textbf{Box office revenue.L0} &    1.077e-12  &     6.16e-13     &     1.748  &         0.082        &    -1.37e-13    &     2.29e-12     \\\\\n",
       "\\textbf{Box office revenue.L1} &    8.254e-13  &     6.08e-13     &     1.357  &         0.176        &    -3.73e-13    &     2.02e-12     \\\\\n",
       "\\textbf{Box office revenue.L2} &    1.186e-12  &      6.1e-13     &     1.945  &         0.053        &    -1.55e-14    &     2.39e-12     \\\\\n",
       "\\bottomrule\n",
       "\\end{tabular}\n",
       "%\\caption{ARDL Model Results}\n",
       "\\end{center}"
      ],
      "text/plain": [
       "<class 'statsmodels.iolib.summary.Summary'>\n",
       "\"\"\"\n",
       "                              ARDL Model Results                              \n",
       "==============================================================================\n",
       "Dep. Variable:         Violence_score   No. Observations:                  250\n",
       "Model:                  ARDL(4, 0, 2)   Log Likelihood                1066.999\n",
       "Method:               Conditional MLE   S.D. of innovations              0.003\n",
       "Date:                Mon, 16 Dec 2024   AIC                          -2113.998\n",
       "Time:                        15:33:25   BIC                          -2078.945\n",
       "Sample:                             4   HQIC                         -2099.884\n",
       "                                  250                                         \n",
       "=========================================================================================\n",
       "                            coef    std err          z      P>|z|      [0.025      0.975]\n",
       "-----------------------------------------------------------------------------------------\n",
       "const                     0.0122      0.002      6.360      0.000       0.008       0.016\n",
       "Violence_score.L1         0.1339      0.062      2.162      0.032       0.012       0.256\n",
       "Violence_score.L2         0.0821      0.063      1.313      0.190      -0.041       0.205\n",
       "Violence_score.L3        -0.0144      0.063     -0.229      0.819      -0.138       0.109\n",
       "Violence_score.L4         0.1654      0.062      2.653      0.009       0.043       0.288\n",
       "no. films released.L0    -0.0004      0.000     -3.337      0.001      -0.001      -0.000\n",
       "Box office revenue.L0  1.077e-12   6.16e-13      1.748      0.082   -1.37e-13    2.29e-12\n",
       "Box office revenue.L1  8.254e-13   6.08e-13      1.357      0.176   -3.73e-13    2.02e-12\n",
       "Box office revenue.L2  1.186e-12    6.1e-13      1.945      0.053   -1.55e-14    2.39e-12\n",
       "=========================================================================================\n",
       "\"\"\""
      ]
     },
     "execution_count": 23,
     "metadata": {},
     "output_type": "execute_result"
    }
   ],
   "source": [
    "test_model_2.summary()"
   ]
  },
  {
   "cell_type": "markdown",
   "metadata": {},
   "source": [
    "# ARDL function - violence counts per state - normalized box office revenue from Jade\n",
    "\n",
    "### We count all violent crimes in one state, add them up weekly\n",
    "### Normalizing box office revenue as proposed by Jade\n",
    "### Applied for Alabama state in the time span 2008 - 2012 (since we have consecutive data here)"
   ]
  },
  {
   "cell_type": "code",
   "execution_count": 3,
   "metadata": {},
   "outputs": [],
   "source": [
    "score_jade = pd.read_csv(DATA_PATH+\"/movie_violence_metric.csv\", sep=\",\")"
   ]
  },
  {
   "cell_type": "code",
   "execution_count": 4,
   "metadata": {},
   "outputs": [
    {
     "data": {
      "text/html": [
       "<div>\n",
       "<style scoped>\n",
       "    .dataframe tbody tr th:only-of-type {\n",
       "        vertical-align: middle;\n",
       "    }\n",
       "\n",
       "    .dataframe tbody tr th {\n",
       "        vertical-align: top;\n",
       "    }\n",
       "\n",
       "    .dataframe thead th {\n",
       "        text-align: right;\n",
       "    }\n",
       "</style>\n",
       "<table border=\"1\" class=\"dataframe\">\n",
       "  <thead>\n",
       "    <tr style=\"text-align: right;\">\n",
       "      <th></th>\n",
       "      <th>Year</th>\n",
       "      <th>Week</th>\n",
       "      <th>Metric</th>\n",
       "    </tr>\n",
       "  </thead>\n",
       "  <tbody>\n",
       "    <tr>\n",
       "      <th>0</th>\n",
       "      <td>1901</td>\n",
       "      <td>8</td>\n",
       "      <td>1.0</td>\n",
       "    </tr>\n",
       "    <tr>\n",
       "      <th>1</th>\n",
       "      <td>1903</td>\n",
       "      <td>49</td>\n",
       "      <td>1.0</td>\n",
       "    </tr>\n",
       "    <tr>\n",
       "      <th>2</th>\n",
       "      <td>1908</td>\n",
       "      <td>10</td>\n",
       "      <td>1.0</td>\n",
       "    </tr>\n",
       "    <tr>\n",
       "      <th>3</th>\n",
       "      <td>1908</td>\n",
       "      <td>29</td>\n",
       "      <td>1.0</td>\n",
       "    </tr>\n",
       "    <tr>\n",
       "      <th>4</th>\n",
       "      <td>1908</td>\n",
       "      <td>30</td>\n",
       "      <td>1.0</td>\n",
       "    </tr>\n",
       "  </tbody>\n",
       "</table>\n",
       "</div>"
      ],
      "text/plain": [
       "   Year  Week  Metric\n",
       "0  1901     8     1.0\n",
       "1  1903    49     1.0\n",
       "2  1908    10     1.0\n",
       "3  1908    29     1.0\n",
       "4  1908    30     1.0"
      ]
     },
     "execution_count": 4,
     "metadata": {},
     "output_type": "execute_result"
    }
   ],
   "source": [
    "score_jade.head()"
   ]
  },
  {
   "cell_type": "code",
   "execution_count": 5,
   "metadata": {},
   "outputs": [],
   "source": [
    "df_real_violence = pd.read_csv(DATA_PATH+\"/FBI_91_12/00_All_States_Merged/violence_scores_merged.csv\", sep=\",\")"
   ]
  },
  {
   "cell_type": "code",
   "execution_count": 6,
   "metadata": {},
   "outputs": [],
   "source": [
    "test_model = ARDL_model_func_jade(score_jade, df_real_violence, time_fixed_effects=False)"
   ]
  },
  {
   "cell_type": "code",
   "execution_count": 7,
   "metadata": {},
   "outputs": [
    {
     "data": {
      "text/html": [
       "<table class=\"simpletable\">\n",
       "<caption>ARDL Model Results</caption>\n",
       "<tr>\n",
       "  <th>Dep. Variable:</th>  <td>Violence_score</td>  <th>  No. Observations:  </th>    <td>1152</td>   \n",
       "</tr>\n",
       "<tr>\n",
       "  <th>Model:</th>            <td>ARDL(9, 1)</td>    <th>  Log Likelihood     </th> <td>-10602.728</td>\n",
       "</tr>\n",
       "<tr>\n",
       "  <th>Method:</th>         <td>Conditional MLE</td> <th>  S.D. of innovations</th>  <td>2584.505</td> \n",
       "</tr>\n",
       "<tr>\n",
       "  <th>Date:</th>          <td>Mon, 16 Dec 2024</td> <th>  AIC                </th>  <td>21231.457</td>\n",
       "</tr>\n",
       "<tr>\n",
       "  <th>Time:</th>              <td>15:45:02</td>     <th>  BIC                </th>  <td>21296.995</td>\n",
       "</tr>\n",
       "<tr>\n",
       "  <th>Sample:</th>                <td>9</td>        <th>  HQIC               </th>  <td>21256.204</td>\n",
       "</tr>\n",
       "<tr>\n",
       "  <th></th>                     <td>1152</td>       <th>                     </th>      <td> </td>    \n",
       "</tr>\n",
       "</table>\n",
       "<table class=\"simpletable\">\n",
       "<tr>\n",
       "          <td></td>             <th>coef</th>     <th>std err</th>      <th>z</th>      <th>P>|z|</th>  <th>[0.025</th>    <th>0.975]</th>  \n",
       "</tr>\n",
       "<tr>\n",
       "  <th>const</th>             <td>  275.9903</td> <td>  163.282</td> <td>    1.690</td> <td> 0.091</td> <td>  -44.380</td> <td>  596.361</td>\n",
       "</tr>\n",
       "<tr>\n",
       "  <th>Violence_score.L1</th> <td>    0.5738</td> <td>    0.030</td> <td>   19.352</td> <td> 0.000</td> <td>    0.516</td> <td>    0.632</td>\n",
       "</tr>\n",
       "<tr>\n",
       "  <th>Violence_score.L2</th> <td>    0.1293</td> <td>    0.034</td> <td>    3.775</td> <td> 0.000</td> <td>    0.062</td> <td>    0.196</td>\n",
       "</tr>\n",
       "<tr>\n",
       "  <th>Violence_score.L3</th> <td>    0.1041</td> <td>    0.034</td> <td>    3.023</td> <td> 0.003</td> <td>    0.037</td> <td>    0.172</td>\n",
       "</tr>\n",
       "<tr>\n",
       "  <th>Violence_score.L4</th> <td>    0.1648</td> <td>    0.035</td> <td>    4.773</td> <td> 0.000</td> <td>    0.097</td> <td>    0.233</td>\n",
       "</tr>\n",
       "<tr>\n",
       "  <th>Violence_score.L5</th> <td>    0.0381</td> <td>    0.035</td> <td>    1.091</td> <td> 0.276</td> <td>   -0.030</td> <td>    0.107</td>\n",
       "</tr>\n",
       "<tr>\n",
       "  <th>Violence_score.L6</th> <td>    0.0588</td> <td>    0.035</td> <td>    1.696</td> <td> 0.090</td> <td>   -0.009</td> <td>    0.127</td>\n",
       "</tr>\n",
       "<tr>\n",
       "  <th>Violence_score.L7</th> <td>   -0.0021</td> <td>    0.035</td> <td>   -0.061</td> <td> 0.951</td> <td>   -0.070</td> <td>    0.066</td>\n",
       "</tr>\n",
       "<tr>\n",
       "  <th>Violence_score.L8</th> <td>    0.0110</td> <td>    0.034</td> <td>    0.320</td> <td> 0.749</td> <td>   -0.056</td> <td>    0.078</td>\n",
       "</tr>\n",
       "<tr>\n",
       "  <th>Violence_score.L9</th> <td>   -0.0845</td> <td>    0.030</td> <td>   -2.834</td> <td> 0.005</td> <td>   -0.143</td> <td>   -0.026</td>\n",
       "</tr>\n",
       "<tr>\n",
       "  <th>Metric.L0</th>         <td>    2.8666</td> <td>    6.123</td> <td>    0.468</td> <td> 0.640</td> <td>   -9.147</td> <td>   14.880</td>\n",
       "</tr>\n",
       "<tr>\n",
       "  <th>Metric.L1</th>         <td>    0.0820</td> <td>    6.117</td> <td>    0.013</td> <td> 0.989</td> <td>  -11.920</td> <td>   12.084</td>\n",
       "</tr>\n",
       "</table>"
      ],
      "text/latex": [
       "\\begin{center}\n",
       "\\begin{tabular}{lclc}\n",
       "\\toprule\n",
       "\\textbf{Dep. Variable:}     & Violence\\_score  & \\textbf{  No. Observations:  } &    1152     \\\\\n",
       "\\textbf{Model:}             &    ARDL(9, 1)    & \\textbf{  Log Likelihood     } & -10602.728  \\\\\n",
       "\\textbf{Method:}            & Conditional MLE  & \\textbf{  S.D. of innovations} &  2584.505   \\\\\n",
       "\\textbf{Date:}              & Mon, 16 Dec 2024 & \\textbf{  AIC                } & 21231.457   \\\\\n",
       "\\textbf{Time:}              &     15:45:02     & \\textbf{  BIC                } & 21296.995   \\\\\n",
       "\\textbf{Sample:}            &        9         & \\textbf{  HQIC               } & 21256.204   \\\\\n",
       "\\textbf{}                   &       1152       & \\textbf{                     } &             \\\\\n",
       "\\bottomrule\n",
       "\\end{tabular}\n",
       "\\begin{tabular}{lcccccc}\n",
       "                            & \\textbf{coef} & \\textbf{std err} & \\textbf{z} & \\textbf{P$> |$z$|$} & \\textbf{[0.025} & \\textbf{0.975]}  \\\\\n",
       "\\midrule\n",
       "\\textbf{const}              &     275.9903  &      163.282     &     1.690  &         0.091        &      -44.380    &      596.361     \\\\\n",
       "\\textbf{Violence\\_score.L1} &       0.5738  &        0.030     &    19.352  &         0.000        &        0.516    &        0.632     \\\\\n",
       "\\textbf{Violence\\_score.L2} &       0.1293  &        0.034     &     3.775  &         0.000        &        0.062    &        0.196     \\\\\n",
       "\\textbf{Violence\\_score.L3} &       0.1041  &        0.034     &     3.023  &         0.003        &        0.037    &        0.172     \\\\\n",
       "\\textbf{Violence\\_score.L4} &       0.1648  &        0.035     &     4.773  &         0.000        &        0.097    &        0.233     \\\\\n",
       "\\textbf{Violence\\_score.L5} &       0.0381  &        0.035     &     1.091  &         0.276        &       -0.030    &        0.107     \\\\\n",
       "\\textbf{Violence\\_score.L6} &       0.0588  &        0.035     &     1.696  &         0.090        &       -0.009    &        0.127     \\\\\n",
       "\\textbf{Violence\\_score.L7} &      -0.0021  &        0.035     &    -0.061  &         0.951        &       -0.070    &        0.066     \\\\\n",
       "\\textbf{Violence\\_score.L8} &       0.0110  &        0.034     &     0.320  &         0.749        &       -0.056    &        0.078     \\\\\n",
       "\\textbf{Violence\\_score.L9} &      -0.0845  &        0.030     &    -2.834  &         0.005        &       -0.143    &       -0.026     \\\\\n",
       "\\textbf{Metric.L0}          &       2.8666  &        6.123     &     0.468  &         0.640        &       -9.147    &       14.880     \\\\\n",
       "\\textbf{Metric.L1}          &       0.0820  &        6.117     &     0.013  &         0.989        &      -11.920    &       12.084     \\\\\n",
       "\\bottomrule\n",
       "\\end{tabular}\n",
       "%\\caption{ARDL Model Results}\n",
       "\\end{center}"
      ],
      "text/plain": [
       "<class 'statsmodels.iolib.summary.Summary'>\n",
       "\"\"\"\n",
       "                              ARDL Model Results                              \n",
       "==============================================================================\n",
       "Dep. Variable:         Violence_score   No. Observations:                 1152\n",
       "Model:                     ARDL(9, 1)   Log Likelihood              -10602.728\n",
       "Method:               Conditional MLE   S.D. of innovations           2584.505\n",
       "Date:                Mon, 16 Dec 2024   AIC                          21231.457\n",
       "Time:                        15:45:02   BIC                          21296.995\n",
       "Sample:                             9   HQIC                         21256.204\n",
       "                                 1152                                         \n",
       "=====================================================================================\n",
       "                        coef    std err          z      P>|z|      [0.025      0.975]\n",
       "-------------------------------------------------------------------------------------\n",
       "const               275.9903    163.282      1.690      0.091     -44.380     596.361\n",
       "Violence_score.L1     0.5738      0.030     19.352      0.000       0.516       0.632\n",
       "Violence_score.L2     0.1293      0.034      3.775      0.000       0.062       0.196\n",
       "Violence_score.L3     0.1041      0.034      3.023      0.003       0.037       0.172\n",
       "Violence_score.L4     0.1648      0.035      4.773      0.000       0.097       0.233\n",
       "Violence_score.L5     0.0381      0.035      1.091      0.276      -0.030       0.107\n",
       "Violence_score.L6     0.0588      0.035      1.696      0.090      -0.009       0.127\n",
       "Violence_score.L7    -0.0021      0.035     -0.061      0.951      -0.070       0.066\n",
       "Violence_score.L8     0.0110      0.034      0.320      0.749      -0.056       0.078\n",
       "Violence_score.L9    -0.0845      0.030     -2.834      0.005      -0.143      -0.026\n",
       "Metric.L0             2.8666      6.123      0.468      0.640      -9.147      14.880\n",
       "Metric.L1             0.0820      6.117      0.013      0.989     -11.920      12.084\n",
       "=====================================================================================\n",
       "\"\"\""
      ]
     },
     "execution_count": 7,
     "metadata": {},
     "output_type": "execute_result"
    }
   ],
   "source": [
    "test_model.summary()"
   ]
  },
  {
   "cell_type": "markdown",
   "metadata": {},
   "source": [
    "# ARDL function - violence offense z score - \"normal\" box office revenue\n",
    "\n",
    "### We calculate the z score (by Jen) for one state, end up with one z-score per week\n",
    "### Applied for Alabama state in the time span 2008 - 2012 (since we have consecutive data here)"
   ]
  },
  {
   "cell_type": "code",
   "execution_count": 8,
   "metadata": {},
   "outputs": [],
   "source": [
    "df_real_violence_z = pd.read_csv(DATA_PATH+\"/FBI_91_12/04_Violence_z_Alabama/Violence_z_alabama_2008_2012.csv\", sep=\",\")"
   ]
  },
  {
   "cell_type": "code",
   "execution_count": 9,
   "metadata": {},
   "outputs": [],
   "source": [
    "test_model_3 = ARDL_model_func(df_box_offices, df_real_violence_z, time_fixed_effects=False)"
   ]
  },
  {
   "cell_type": "code",
   "execution_count": 10,
   "metadata": {},
   "outputs": [
    {
     "data": {
      "text/html": [
       "<table class=\"simpletable\">\n",
       "<caption>ARDL Model Results</caption>\n",
       "<tr>\n",
       "  <th>Dep. Variable:</th>  <td>Violence_score</td>  <th>  No. Observations:  </th>    <td>250</td>  \n",
       "</tr>\n",
       "<tr>\n",
       "  <th>Model:</th>            <td>ARDL(2, 0)</td>    <th>  Log Likelihood     </th> <td>-296.644</td>\n",
       "</tr>\n",
       "<tr>\n",
       "  <th>Method:</th>         <td>Conditional MLE</td> <th>  S.D. of innovations</th>   <td>0.800</td> \n",
       "</tr>\n",
       "<tr>\n",
       "  <th>Date:</th>          <td>Mon, 16 Dec 2024</td> <th>  AIC                </th>  <td>603.288</td>\n",
       "</tr>\n",
       "<tr>\n",
       "  <th>Time:</th>              <td>16:27:38</td>     <th>  BIC                </th>  <td>620.855</td>\n",
       "</tr>\n",
       "<tr>\n",
       "  <th>Sample:</th>                <td>2</td>        <th>  HQIC               </th>  <td>610.360</td>\n",
       "</tr>\n",
       "<tr>\n",
       "  <th></th>                      <td>250</td>       <th>                     </th>     <td> </td>   \n",
       "</tr>\n",
       "</table>\n",
       "<table class=\"simpletable\">\n",
       "<tr>\n",
       "            <td></td>               <th>coef</th>     <th>std err</th>      <th>z</th>      <th>P>|z|</th>  <th>[0.025</th>    <th>0.975]</th>  \n",
       "</tr>\n",
       "<tr>\n",
       "  <th>const</th>                 <td>    0.1121</td> <td>    0.080</td> <td>    1.406</td> <td> 0.161</td> <td>   -0.045</td> <td>    0.269</td>\n",
       "</tr>\n",
       "<tr>\n",
       "  <th>Violence_score.L1</th>     <td>   -0.3409</td> <td>    0.063</td> <td>   -5.450</td> <td> 0.000</td> <td>   -0.464</td> <td>   -0.218</td>\n",
       "</tr>\n",
       "<tr>\n",
       "  <th>Violence_score.L2</th>     <td>   -0.1819</td> <td>    0.062</td> <td>   -2.916</td> <td> 0.004</td> <td>   -0.305</td> <td>   -0.059</td>\n",
       "</tr>\n",
       "<tr>\n",
       "  <th>no. films released.L0</th> <td>   -0.0670</td> <td>    0.030</td> <td>   -2.201</td> <td> 0.029</td> <td>   -0.127</td> <td>   -0.007</td>\n",
       "</tr>\n",
       "</table>"
      ],
      "text/latex": [
       "\\begin{center}\n",
       "\\begin{tabular}{lclc}\n",
       "\\toprule\n",
       "\\textbf{Dep. Variable:}        & Violence\\_score  & \\textbf{  No. Observations:  } &    250      \\\\\n",
       "\\textbf{Model:}                &    ARDL(2, 0)    & \\textbf{  Log Likelihood     } &  -296.644   \\\\\n",
       "\\textbf{Method:}               & Conditional MLE  & \\textbf{  S.D. of innovations} &   0.800     \\\\\n",
       "\\textbf{Date:}                 & Mon, 16 Dec 2024 & \\textbf{  AIC                } &  603.288    \\\\\n",
       "\\textbf{Time:}                 &     16:27:38     & \\textbf{  BIC                } &  620.855    \\\\\n",
       "\\textbf{Sample:}               &        2         & \\textbf{  HQIC               } &  610.360    \\\\\n",
       "\\textbf{}                      &       250        & \\textbf{                     } &             \\\\\n",
       "\\bottomrule\n",
       "\\end{tabular}\n",
       "\\begin{tabular}{lcccccc}\n",
       "                               & \\textbf{coef} & \\textbf{std err} & \\textbf{z} & \\textbf{P$> |$z$|$} & \\textbf{[0.025} & \\textbf{0.975]}  \\\\\n",
       "\\midrule\n",
       "\\textbf{const}                 &       0.1121  &        0.080     &     1.406  &         0.161        &       -0.045    &        0.269     \\\\\n",
       "\\textbf{Violence\\_score.L1}    &      -0.3409  &        0.063     &    -5.450  &         0.000        &       -0.464    &       -0.218     \\\\\n",
       "\\textbf{Violence\\_score.L2}    &      -0.1819  &        0.062     &    -2.916  &         0.004        &       -0.305    &       -0.059     \\\\\n",
       "\\textbf{no. films released.L0} &      -0.0670  &        0.030     &    -2.201  &         0.029        &       -0.127    &       -0.007     \\\\\n",
       "\\bottomrule\n",
       "\\end{tabular}\n",
       "%\\caption{ARDL Model Results}\n",
       "\\end{center}"
      ],
      "text/plain": [
       "<class 'statsmodels.iolib.summary.Summary'>\n",
       "\"\"\"\n",
       "                              ARDL Model Results                              \n",
       "==============================================================================\n",
       "Dep. Variable:         Violence_score   No. Observations:                  250\n",
       "Model:                     ARDL(2, 0)   Log Likelihood                -296.644\n",
       "Method:               Conditional MLE   S.D. of innovations              0.800\n",
       "Date:                Mon, 16 Dec 2024   AIC                            603.288\n",
       "Time:                        16:27:38   BIC                            620.855\n",
       "Sample:                             2   HQIC                           610.360\n",
       "                                  250                                         \n",
       "=========================================================================================\n",
       "                            coef    std err          z      P>|z|      [0.025      0.975]\n",
       "-----------------------------------------------------------------------------------------\n",
       "const                     0.1121      0.080      1.406      0.161      -0.045       0.269\n",
       "Violence_score.L1        -0.3409      0.063     -5.450      0.000      -0.464      -0.218\n",
       "Violence_score.L2        -0.1819      0.062     -2.916      0.004      -0.305      -0.059\n",
       "no. films released.L0    -0.0670      0.030     -2.201      0.029      -0.127      -0.007\n",
       "=========================================================================================\n",
       "\"\"\""
      ]
     },
     "execution_count": 10,
     "metadata": {},
     "output_type": "execute_result"
    }
   ],
   "source": [
    "test_model_3.summary()"
   ]
  },
  {
   "cell_type": "markdown",
   "metadata": {},
   "source": [
    "# ARDL function - violence z-score (by Jen) - normalized box office revenue from Jade\n",
    "\n",
    "### We compute z-score for all states separately, add them up by week and year\n",
    "### Normalizing box office revenue as proposed by Jade\n",
    "### Applied for all states (except Pennsylvania) in the time frame 2008 - 2012"
   ]
  },
  {
   "cell_type": "code",
   "execution_count": null,
   "metadata": {},
   "outputs": [],
   "source": [
    "DIRECTORY_PATH_2 = \"../data/RAW/FBI_91_12\""
   ]
  },
  {
   "cell_type": "code",
   "execution_count": null,
   "metadata": {},
   "outputs": [],
   "source": [
    "z_scores_merged = z_score_all_states_merged(DIRECTORY_PATH_2, df_box_offices, consecutive_years_per_state, ARDL_model_func, time_fixed_effects=False)"
   ]
  }
 ],
 "metadata": {
  "kernelspec": {
   "display_name": "alligators",
   "language": "python",
   "name": "python3"
  },
  "language_info": {
   "codemirror_mode": {
    "name": "ipython",
    "version": 3
   },
   "file_extension": ".py",
   "mimetype": "text/x-python",
   "name": "python",
   "nbconvert_exporter": "python",
   "pygments_lexer": "ipython3",
   "version": "3.12.2"
  }
 },
 "nbformat": 4,
 "nbformat_minor": 2
}
