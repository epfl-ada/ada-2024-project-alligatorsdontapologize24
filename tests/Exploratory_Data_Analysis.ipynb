{
 "cells": [
  {
   "cell_type": "markdown",
   "id": "97bef726-12e8-4986-ae5d-a2355f06184c",
   "metadata": {},
   "source": [
    "# Data loading and exploration - TEST"
   ]
  },
  {
   "cell_type": "markdown",
   "id": "3d66dea5-7f43-434a-b6bd-a8f3c4b27e97",
   "metadata": {},
   "source": [
    "Here we will test loading data functions"
   ]
  },
  {
   "cell_type": "code",
   "execution_count": 6,
   "id": "82bfb8ec-6497-4953-8110-58b72e4f1fc8",
   "metadata": {},
   "outputs": [],
   "source": [
    "import sys\n",
    "import os\n",
    "\n",
    "# Add the project root directory (not src) to sys.path\n",
    "sys.path.append(os.path.abspath(\"../src/data/\"))\n",
    "\n",
    "# Now import the DataLoader class\n",
    "from data_loading import DataLoader\n",
    "\n",
    "raw = '../data/RAW/'\n",
    "clean = '../data/CLEAN'"
   ]
  },
  {
   "cell_type": "code",
   "execution_count": 7,
   "id": "8de4243b-5c66-46fb-a14e-814e2c4303a9",
   "metadata": {
    "scrolled": true
   },
   "outputs": [
    {
     "name": "stdout",
     "output_type": "stream",
     "text": [
      "raw data \n",
      "\n",
      "CMU_Movies_Dataset\n",
      "GVD_Dataset\n",
      "Kaggle_Movies_Dataset\n",
      "\n",
      "clean data \n",
      "\n",
      "Sentiment_analysis\n"
     ]
    }
   ],
   "source": [
    "data_loader = DataLoader(raw,clean)\n",
    "data_loader.show_data_folder()"
   ]
  },
  {
   "cell_type": "code",
   "execution_count": 9,
   "id": "380b7779-e83e-411f-8f71-321c1a3306f1",
   "metadata": {},
   "outputs": [
    {
     "name": "stdout",
     "output_type": "stream",
     "text": [
      "\n",
      "load CMU movie metadata\n",
      "\n",
      "\n",
      "load plot data\n",
      "\n",
      "\n",
      "load GVD data\n",
      "\n",
      "\n",
      "load kaggle movie data\n",
      "\n"
     ]
    }
   ],
   "source": [
    "#load raw data\n",
    "CMU_movie_metadata,CMU_plot_summary,GVD_data,Kaggle_movies_metadata = data_loader.load_all_data()"
   ]
  },
  {
   "cell_type": "code",
   "execution_count": null,
   "id": "93e787fe-7ac6-4724-94e6-b74d07c11be8",
   "metadata": {},
   "outputs": [],
   "source": []
  }
 ],
 "metadata": {
  "kernelspec": {
   "display_name": "Python 3 (ipykernel)",
   "language": "python",
   "name": "python3"
  },
  "language_info": {
   "codemirror_mode": {
    "name": "ipython",
    "version": 3
   },
   "file_extension": ".py",
   "mimetype": "text/x-python",
   "name": "python",
   "nbconvert_exporter": "python",
   "pygments_lexer": "ipython3",
   "version": "3.11.9"
  }
 },
 "nbformat": 4,
 "nbformat_minor": 5
}
