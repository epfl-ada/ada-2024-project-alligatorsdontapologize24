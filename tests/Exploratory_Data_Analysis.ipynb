{
 "cells": [
  {
   "cell_type": "markdown",
   "id": "97bef726-12e8-4986-ae5d-a2355f06184c",
   "metadata": {},
   "source": [
    "# Data loading and exploration - TEST"
   ]
  },
  {
   "cell_type": "markdown",
   "id": "3d66dea5-7f43-434a-b6bd-a8f3c4b27e97",
   "metadata": {},
   "source": [
    "Here we will test loading data functions"
   ]
  },
  {
   "cell_type": "code",
   "execution_count": 1,
   "id": "82bfb8ec-6497-4953-8110-58b72e4f1fc8",
   "metadata": {},
   "outputs": [],
   "source": [
    "import sys\n",
    "import os\n",
    "\n",
    "# Add the project root directory (not src) to sys.path\n",
    "sys.path.append(os.path.abspath(\"../src/data/\"))\n",
    "\n",
    "# Now import the DataLoader class\n",
    "from data_loading import DataLoader\n",
    "\n",
    "raw = '../data/RAW/'\n",
    "clean = '../data/CLEAN'"
   ]
  },
  {
   "cell_type": "code",
   "execution_count": 2,
   "id": "8de4243b-5c66-46fb-a14e-814e2c4303a9",
   "metadata": {
    "scrolled": true
   },
   "outputs": [
    {
     "name": "stdout",
     "output_type": "stream",
     "text": [
      "raw data \n",
      "\n",
      "CMU_Movies_Dataset\n",
      "GVD_Dataset\n",
      "Human_labelling_violentMovie.xlsx\n",
      "Kaggle_Movies_Dataset\n",
      "~$Human_labelling_violentMovie.xlsx\n",
      "\n",
      "clean data \n",
      "\n",
      "word_count.csv\n",
      "violent_word_list\n",
      "sentiment.csv\n",
      "sentiment_test.csv\n",
      "Human_labelling_violentMovie.xlsx\n",
      "classification_result\n",
      "Movie_Data_clean.tsv\n",
      "word_count_test.csv\n"
     ]
    }
   ],
   "source": [
    "data_loader = DataLoader(raw,clean)\n",
    "data_loader.show_data_folder()"
   ]
  },
  {
   "cell_type": "code",
   "execution_count": 3,
   "id": "380b7779-e83e-411f-8f71-321c1a3306f1",
   "metadata": {},
   "outputs": [
    {
     "name": "stdout",
     "output_type": "stream",
     "text": [
      "\n",
      "load CMU movie metadata\n",
      "\n",
      "\n",
      "load plot data\n",
      "\n",
      "\n",
      "load GVD data\n",
      "\n",
      "\n",
      "load kaggle movie data\n",
      "\n"
     ]
    }
   ],
   "source": [
    "#load raw data\n",
    "CMU_movie_metadata,CMU_plot_summary,GVD_data,Kaggle_movies_metadata = data_loader.load_all_data()"
   ]
  },
  {
   "cell_type": "code",
   "execution_count": 4,
   "id": "93e787fe-7ac6-4724-94e6-b74d07c11be8",
   "metadata": {},
   "outputs": [],
   "source": [
    "#load clean data\n",
    "MovieData = data_loader.clean_movie_data()"
   ]
  },
  {
   "cell_type": "code",
   "execution_count": 5,
   "id": "5d66cde0-e948-48a8-a4ba-0a0b252a2627",
   "metadata": {},
   "outputs": [
    {
     "data": {
      "text/plain": [
       "'newlywed carl  goes to war where he endures major suffering. back home, wife pauli  starves, becomes a prostitute to survive, and their baby dies.'"
      ]
     },
     "execution_count": 5,
     "metadata": {},
     "output_type": "execute_result"
    }
   ],
   "source": [
    "MovieData.loc[14881706][\"Plot\"]"
   ]
  },
  {
   "cell_type": "code",
   "execution_count": 6,
   "id": "6f77a41e-bca3-4905-8abd-415e89d8d492",
   "metadata": {},
   "outputs": [],
   "source": [
    "#load human labelled movie data\n",
    "ViolentLabel,ViolentData = data_loader.human_labelled_data()"
   ]
  },
  {
   "cell_type": "code",
   "execution_count": 7,
   "id": "ad23b275-4ad0-4640-83d8-d3454f7ed535",
   "metadata": {},
   "outputs": [
    {
     "data": {
      "text/html": [
       "<div>\n",
       "<style scoped>\n",
       "    .dataframe tbody tr th:only-of-type {\n",
       "        vertical-align: middle;\n",
       "    }\n",
       "\n",
       "    .dataframe tbody tr th {\n",
       "        vertical-align: top;\n",
       "    }\n",
       "\n",
       "    .dataframe thead th {\n",
       "        text-align: right;\n",
       "    }\n",
       "</style>\n",
       "<table border=\"1\" class=\"dataframe\">\n",
       "  <thead>\n",
       "    <tr style=\"text-align: right;\">\n",
       "      <th></th>\n",
       "      <th>Unnamed: 0</th>\n",
       "      <th>Violence level</th>\n",
       "      <th>Label</th>\n",
       "    </tr>\n",
       "  </thead>\n",
       "  <tbody>\n",
       "    <tr>\n",
       "      <th>0</th>\n",
       "      <td>0</td>\n",
       "      <td>Peaceful</td>\n",
       "      <td>-1</td>\n",
       "    </tr>\n",
       "    <tr>\n",
       "      <th>1</th>\n",
       "      <td>1</td>\n",
       "      <td>Mild</td>\n",
       "      <td>0</td>\n",
       "    </tr>\n",
       "    <tr>\n",
       "      <th>2</th>\n",
       "      <td>2</td>\n",
       "      <td>Violent</td>\n",
       "      <td>1</td>\n",
       "    </tr>\n",
       "  </tbody>\n",
       "</table>\n",
       "</div>"
      ],
      "text/plain": [
       "   Unnamed: 0 Violence level  Label\n",
       "0           0       Peaceful     -1\n",
       "1           1           Mild      0\n",
       "2           2        Violent      1"
      ]
     },
     "execution_count": 7,
     "metadata": {},
     "output_type": "execute_result"
    }
   ],
   "source": [
    "ViolentLabel"
   ]
  },
  {
   "cell_type": "code",
   "execution_count": 8,
   "id": "d45ac4b8-1edc-4259-b3f1-938c959694ba",
   "metadata": {},
   "outputs": [
    {
     "data": {
      "text/html": [
       "<div>\n",
       "<style scoped>\n",
       "    .dataframe tbody tr th:only-of-type {\n",
       "        vertical-align: middle;\n",
       "    }\n",
       "\n",
       "    .dataframe tbody tr th {\n",
       "        vertical-align: top;\n",
       "    }\n",
       "\n",
       "    .dataframe thead th {\n",
       "        text-align: right;\n",
       "    }\n",
       "</style>\n",
       "<table border=\"1\" class=\"dataframe\">\n",
       "  <thead>\n",
       "    <tr style=\"text-align: right;\">\n",
       "      <th></th>\n",
       "      <th>Answer</th>\n",
       "    </tr>\n",
       "    <tr>\n",
       "      <th>Wikipedia movie ID</th>\n",
       "      <th></th>\n",
       "    </tr>\n",
       "  </thead>\n",
       "  <tbody>\n",
       "    <tr>\n",
       "      <th>113454</th>\n",
       "      <td>0</td>\n",
       "    </tr>\n",
       "    <tr>\n",
       "      <th>909664</th>\n",
       "      <td>1</td>\n",
       "    </tr>\n",
       "    <tr>\n",
       "      <th>1028671</th>\n",
       "      <td>0</td>\n",
       "    </tr>\n",
       "    <tr>\n",
       "      <th>1336564</th>\n",
       "      <td>0</td>\n",
       "    </tr>\n",
       "    <tr>\n",
       "      <th>1472852</th>\n",
       "      <td>-1</td>\n",
       "    </tr>\n",
       "    <tr>\n",
       "      <th>...</th>\n",
       "      <td>...</td>\n",
       "    </tr>\n",
       "    <tr>\n",
       "      <th>35004480</th>\n",
       "      <td>-1</td>\n",
       "    </tr>\n",
       "    <tr>\n",
       "      <th>35784403</th>\n",
       "      <td>1</td>\n",
       "    </tr>\n",
       "    <tr>\n",
       "      <th>36039685</th>\n",
       "      <td>1</td>\n",
       "    </tr>\n",
       "    <tr>\n",
       "      <th>36353797</th>\n",
       "      <td>1</td>\n",
       "    </tr>\n",
       "    <tr>\n",
       "      <th>37067980</th>\n",
       "      <td>1</td>\n",
       "    </tr>\n",
       "  </tbody>\n",
       "</table>\n",
       "<p>146 rows × 1 columns</p>\n",
       "</div>"
      ],
      "text/plain": [
       "                    Answer\n",
       "Wikipedia movie ID        \n",
       "113454                   0\n",
       "909664                   1\n",
       "1028671                  0\n",
       "1336564                  0\n",
       "1472852                 -1\n",
       "...                    ...\n",
       "35004480                -1\n",
       "35784403                 1\n",
       "36039685                 1\n",
       "36353797                 1\n",
       "37067980                 1\n",
       "\n",
       "[146 rows x 1 columns]"
      ]
     },
     "execution_count": 8,
     "metadata": {},
     "output_type": "execute_result"
    }
   ],
   "source": [
    "ViolentData"
   ]
  },
  {
   "cell_type": "code",
   "execution_count": 14,
   "id": "e0090440-8f24-416d-bca7-39004a08a8e6",
   "metadata": {},
   "outputs": [
    {
     "data": {
      "text/plain": [
       "'martha & ethel tells the stories of two women in their 80s: a german-catholic woman named martha and an african-american woman named ethel, the former nannies of director/producer jyll johnstone and co-producer barbara ettinger. it examines each woman’s background and hiring into affluent new york families. the johnstone and ettinger children, now grown, reflect on how martha and ethel played formative—and often confusing—roles in their lives.'"
      ]
     },
     "execution_count": 14,
     "metadata": {},
     "output_type": "execute_result"
    }
   ],
   "source": [
    "MovieData.loc[24214688][\"Plot\"]"
   ]
  },
  {
   "cell_type": "code",
   "execution_count": null,
   "id": "0931e4d2-d985-4359-8acf-d4c5c466b9b9",
   "metadata": {},
   "outputs": [],
   "source": []
  }
 ],
 "metadata": {
  "kernelspec": {
   "display_name": "Python 3 (ipykernel)",
   "language": "python",
   "name": "python3"
  },
  "language_info": {
   "codemirror_mode": {
    "name": "ipython",
    "version": 3
   },
   "file_extension": ".py",
   "mimetype": "text/x-python",
   "name": "python",
   "nbconvert_exporter": "python",
   "pygments_lexer": "ipython3",
   "version": "3.11.9"
  }
 },
 "nbformat": 4,
 "nbformat_minor": 5
}
