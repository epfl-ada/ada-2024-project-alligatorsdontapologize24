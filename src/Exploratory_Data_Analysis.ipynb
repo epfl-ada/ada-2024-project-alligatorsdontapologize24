{
 "cells": [
  {
   "cell_type": "code",
   "execution_count": 78,
   "metadata": {},
   "outputs": [],
   "source": [
    "import pandas as pd\n",
    "import matplotlib.pyplot as plt\n",
    "import regex as re"
   ]
  },
  {
   "cell_type": "code",
   "execution_count": 4,
   "metadata": {},
   "outputs": [],
   "source": [
    "# Path to the data folders\n",
    "RAW_DATA_FOLDER = '../data/RAW/'\n",
    "CLEAN_DATA_FOLDER = '../data/CLEAN/'"
   ]
  },
  {
   "cell_type": "markdown",
   "metadata": {},
   "source": [
    "## First Dataset: CMU Movies"
   ]
  },
  {
   "cell_type": "code",
   "execution_count": 5,
   "metadata": {},
   "outputs": [],
   "source": [
    "# Load the movie metadata\n",
    "CMU_movie_metadata = pd.read_csv(RAW_DATA_FOLDER+'CMU_Movies_Dataset/movie.metadata.tsv', delimiter='\\t', header=None)\n",
    "CMU_movie_metadata.columns = ['wikipedia_movie_ID', 'freebase_movie_ID', 'movie_name', 'movie_release_date', 'movie_box_office_revenue', 'movie_runtime', 'movie_languages', 'movie_countries', 'movie_genres']\n",
    "CMU_movie_metadata.head(10)\n",
    "\n",
    "# Load the character metadata\n",
    "CMU_char_metadata = pd.read_csv(RAW_DATA_FOLDER+'CMU_Movies_Dataset/character.metadata.tsv', sep='\\t', header=None)\n",
    "CMU_char_metadata.columns = ['wikipedia_movie_ID', 'freebase_movie_ID', 'movie_release_date', 'character_name', 'actor_DOB', 'actor_gender', 'actor_height_meters', 'actor_ethnicity', 'actor_name', 'actor_age_at_movie_release', 'freebase_character_actor_map_ID', 'freebase_character_ID', 'freebase_actor_ID']\n",
    "\n",
    "# Load the plot summaries\n",
    "CMU_plot_summary = pd.read_csv(RAW_DATA_FOLDER+'CMU_Movies_Dataset/plot_summaries.txt', sep='\\t', header=None)\n",
    "CMU_plot_summary.columns = ['wikipedia_movie_ID', 'plot_summary']\n",
    "\n",
    "#######\n",
    "\n",
    "# Include the other parts of the dataset if needed\n",
    "\n",
    "######"
   ]
  },
  {
   "cell_type": "markdown",
   "metadata": {},
   "source": [
    "## Initial analysis "
   ]
  },
  {
   "cell_type": "markdown",
   "metadata": {},
   "source": [
    "The intersection of countries for which we have the summaries and metadata has to be taken into account, instead of only the ones that we have the summary and/or metadata. "
   ]
  },
  {
   "cell_type": "code",
   "execution_count": 15,
   "metadata": {},
   "outputs": [
    {
     "name": "stdout",
     "output_type": "stream",
     "text": [
      "Number of movies that we have the summary 42303\n",
      "Number of movies that we have the characters infos 450669\n",
      "Number of movies that we have the metadata 81741\n"
     ]
    }
   ],
   "source": [
    "print(\"Number of movies that we have the summary {}\".format(CMU_plot_summary.shape[0]))\n",
    "print(\"Number of movies that we have the characters infos {}\".format(CMU_char_metadata.shape[0]))\n",
    "print(\"Number of movies that we have the metadata {}\".format(CMU_movie_metadata.shape[0]))"
   ]
  },
  {
   "cell_type": "markdown",
   "metadata": {},
   "source": [
    "# Summary analysis "
   ]
  },
  {
   "cell_type": "markdown",
   "metadata": {},
   "source": [
    "We want to use movies summaries to characterise if a movie is violent or not. This require the use of NLP that lead to a restricted count of words that can be used. \n",
    "\n",
    "The number of words isn't equal to the number of characters ! "
   ]
  },
  {
   "cell_type": "markdown",
   "metadata": {},
   "source": [
    "### Number of words"
   ]
  },
  {
   "cell_type": "code",
   "execution_count": 90,
   "metadata": {},
   "outputs": [
    {
     "data": {
      "text/plain": [
       "25"
      ]
     },
     "execution_count": 90,
     "metadata": {},
     "output_type": "execute_result"
    }
   ],
   "source": [
    "len(CMU_plot_summary.plot_summary[0].split())"
   ]
  },
  {
   "cell_type": "markdown",
   "metadata": {},
   "source": [
    "### Number of characters "
   ]
  },
  {
   "cell_type": "code",
   "execution_count": null,
   "metadata": {},
   "outputs": [
    {
     "name": "stderr",
     "output_type": "stream",
     "text": [
      "/tmp/ipykernel_16699/3050376215.py:1: FutureWarning: using <built-in function len> in Series.agg cannot aggregate and has been deprecated. Use Series.transform to keep behavior unchanged.\n",
      "  CMU_plot_summary[\"Word counts of summary\"] =CMU_plot_summary.plot_summary.agg(len,axis=\"index\")\n"
     ]
    }
   ],
   "source": [
    "CMU_plot_summary[\"Character counts of summary\"] =CMU_plot_summary.plot_summary.agg(len,axis=\"index\")"
   ]
  },
  {
   "cell_type": "code",
   "execution_count": 87,
   "metadata": {},
   "outputs": [
    {
     "data": {
      "text/plain": [
       "np.float64(1079.0)"
      ]
     },
     "execution_count": 87,
     "metadata": {},
     "output_type": "execute_result"
    }
   ],
   "source": [
    "CMU_plot_summary[\"Character counts of summary\"].median()"
   ]
  },
  {
   "cell_type": "code",
   "execution_count": null,
   "metadata": {},
   "outputs": [
    {
     "data": {
      "image/png": "[encoded data removed]",
      "text/plain": [
       "<Figure size 640x480 with 1 Axes>"
      ]
     },
     "metadata": {},
     "output_type": "display_data"
    }
   ],
   "source": [
    "plt.hist(CMU_plot_summary[\"Character counts of summary\"], log=True,bins=100)\n",
    "plt.title(\"Character count summary\")\n",
    "plt.ylabel(\"Frequency in logscale\")\n",
    "plt.xlabel(\"Number of characters\")\n",
    "plt.show()\n"
   ]
  },
  {
   "cell_type": "markdown",
   "metadata": {},
   "source": [
    "We observe that the characters counts of the plots is skewed to the right. "
   ]
  },
  {
   "cell_type": "code",
   "execution_count": null,
   "metadata": {},
   "outputs": [
    {
     "data": {
      "text/html": [
       "<div>\n",
       "<style scoped>\n",
       "    .dataframe tbody tr th:only-of-type {\n",
       "        vertical-align: middle;\n",
       "    }\n",
       "\n",
       "    .dataframe tbody tr th {\n",
       "        vertical-align: top;\n",
       "    }\n",
       "\n",
       "    .dataframe thead th {\n",
       "        text-align: right;\n",
       "    }\n",
       "</style>\n",
       "<table border=\"1\" class=\"dataframe\">\n",
       "  <thead>\n",
       "    <tr style=\"text-align: right;\">\n",
       "      <th></th>\n",
       "      <th>wikipedia_movie_ID</th>\n",
       "      <th>plot_summary</th>\n",
       "      <th>Word counts of summary</th>\n",
       "    </tr>\n",
       "  </thead>\n",
       "  <tbody>\n",
       "    <tr>\n",
       "      <th>8888</th>\n",
       "      <td>22175264</td>\n",
       "      <td>The Big Beginning starts with Timmy wishing h...</td>\n",
       "      <td>28159</td>\n",
       "    </tr>\n",
       "  </tbody>\n",
       "</table>\n",
       "</div>"
      ],
      "text/plain": [
       "      wikipedia_movie_ID                                       plot_summary  \\\n",
       "8888            22175264   The Big Beginning starts with Timmy wishing h...   \n",
       "\n",
       "      Word counts of summary  \n",
       "8888                   28159  "
      ]
     },
     "execution_count": 46,
     "metadata": {},
     "output_type": "execute_result"
    }
   ],
   "source": [
    "CMU_plot_summary[CMU_plot_summary[\"Character counts of summary\"] ==CMU_plot_summary[\"Character counts of summary\"].max()]"
   ]
  },
  {
   "cell_type": "code",
   "execution_count": 63,
   "metadata": {},
   "outputs": [
    {
     "data": {
      "text/plain": [
       "' The Big Beginning starts with Timmy wishing he was in his own movie trilogy . In the first movie, he is chased by Crocker while they both have special powers. Then, he wishes he had a second movie, where he simply throws a ring into a volcano. In the third movie, he becomes \"Timmy Totter\" playing \"Poofer Scoop\" as he chases Poof around, until Vicky appears as \"Moldy Wart\" and chases him, which is then interrupted by Jorgen. He zaps away Timmy\\'s fairies, before cryptically warning him to stick to the shadows and not to speak his name. Timmy then falls from the sky and lands in front of his house. Timmy claims was just like any one of his other normal mornings and walks inside his house. However, his parents don\\'t seem to know who he is, thinking him a street urchin. When Timmy goes to school, everyone thinks that he\\'s a new kid. Growing more and more confused, Timmy shouts his name through a megaphone. At that instant, an Eliminator  bursts into the class. Timmy manages to outrun the robot on AJ\\'s hover bike, before being grabbed into an alleyway by Jorgen, who calls him by name. At first Timmy is relieved that someone actually knows him, but takes it back when Jorgen brings up a bazooka, which he fires at the Eliminator. The Eliminator then gets up and reveals itself to have a vortex mouth, attempting to suck Timmy into it. Jorgen is able to grab him and they escape to Fairy World on Jorgen\\'s motorcycle, while the Eliminator crashes into a mall. To maintain inconspicuousness, the Eliminator disguises itself with sunglasses and a black coat, before summoning two more to assist in hunting down Timmy. Jorgen tells Timmy that all the fairies are safe. In reality, he\\'s turned all the fairies into gumballs and stuck them in a gumball machine in a truck stop bar. A fat kid begins to buy the gumballs and chomps up Binky, then almost chomps up Wanda, but then Cosmo rescues her and Poof by being blown into a bubble. All the other fairies follow suit and hop into the gross kid\\'s mouth. Meanwhile, Jorgen takes Timmy in a hard journey across Fairy World before ending up right back they started. When Timmy asks what they are looking for, Jorgen says that it\\'s the \"Cave of Destiny\"  where all his questions can be answered. As it so happens, they are right next to it. Entering the Cave of Destiny, Timmy is shown the Cave Prophecy, depicting about the ancient fairies that fought the Darkness and its agents of destruction, the Eliminators. The fairies were able to drive away the Darkness with its natural enemy: light. But fearing that it may come back, the strongest fairy warriors were sent into the void of space to illuminate it, but just recently, the Big Dipper Brigade vanished last night. Jorgen had to wipe out any memory of its existence so people wouldn\\'t freak out. He also had to wipe away any memory of Timmy so no one would say his name and give away his location. However, Timmy is still confused about how this connects with him. Jorgen explains that the ancient fairies hide a powerful White Wand to drive back the Darkness and it was assigned to a Chosen One for use. It also explains that someone with a pink hat, buck teeth and the initials TT is the Chosen One who must find \"The White Wand in the Rock sealed with a Kiss\", which leads Jorgen to believe that it must be Timmy. And more importantly, he points to a pair of Eliminator footprints in the ground, meaning that they know he is the Chosen One and worse, that Jorgen accidentally said his name out loud , drawing in attention of the Eliminators. After a chase across Fairy World, Jorgen tricks the Eliminators into thinking that Timmy has been eliminated by posing as him and being sucked into the Darkness. As soon as the Eliminators are gone, Timmy hopes the other fairy warriors will be able to assist him, only to see all the stars go out. On Earth, M.E.R.F.  claims to the public that they turned off the stars to conserve energy, which everyone believes. With the Darkness closing in on Fairy World, Timmy uses the Tooth Fairy\\'s coin delivery system to return to Earth. But a series of mishaps have him labelled a quarter thief/statue smasher. He manages to get back to his Timmy Cave to find Cosmo, Wanda, and Poof, but his poor motorcycle skills cause him to become captured by M.E.R.F. . They believe that he is an alien due to the fact that he has no records on Earth, is nonexistent and that photographs have been taken of him being chased by the Eliminators on AJ\\'s hoverbike. When they begin bragging about their concrete melters and spy cars, Timmy steals the gadgets. Using the spy car, he links its computer to the Timmy Cave\\'s to resume his search for the fairies. As it so happens, the Eliminators, sitting at the roadside diner where the fairies were located, hear about Timmy\\'s survival on the Convenient News Network and chase him to Vegas. Timmy manages to find his fairy godfamily, but is dismayed to find that Jorgen turned them into gumballs. When he tells them about the Darkness and him being the Chosen One, they freak out at the former, but laugh at the latter. Cosmo then says Timmy\\'s name out loud, which causes the Eliminators to appear. Luckily, Timmy is able to trap them in a gel-like substance with the spy car\\'s gadgets. Unfortunately, both the Darkness and M.E.R.F. have found him. Because the latter is too concerned with MARF , which happens to give away the location of the White Wand, Timmy evades their freeze rays, which in turn freezes them. Timmy then steals an airplane and ends up in a Kiss concert in Las Vegas where he finds out that Kiss is a group of fairy guardians and that the white wand is one of their guitars that they have been guarding for centuries. They don\\'t believe him when he tells them he is the Chosen One, telling him to say the Chosen One\\'s creed, some ancient code, or something that shows that he is the Chosen One. A frustrated Timmy says his name out loud, causing the Eliminators to appear. Seeing that the Eliminators want to destroy him, Kiss believes he is the Chosen One. They quickly blast away two Eliminators, only for the leading Eliminator to produce a weapon that vaporizes their weapon. Luckily, it is shaped like a teething ring, which an excited Poof gnaws on and breaks off, allowing Gene Simmons to melt down the Eliminator with his fiery breath. However, the melted puddle quickly reforms into an army of Eliminators, but the fairies appear as blown-up gumballs and use their gum forms to trap the Eliminators. Unfortunately, the Darkness arrives and tries to swallow everyone in the concert hall before Timmy plays the White Wand  and starts forcing the Darkness back with magical bursts from the guitar . The Darkness then retreats after taking all the Eliminators with it, releasing all the planets it consumed, including Fairy World. Jorgen then falls from the sky, exclaiming that Timmy succeeded, before mentioning how dark it was inside the Darkness. After Kiss suggests that they party, Timmy gives his parents, Crocker and MERF a chance to enjoy the concert again as it is moved to Fairy World. Jorgen allows it because he owes Timmy but says that he will erase all memory of Fairy World when the show is over. Shortly after, a muscular looking man arrives who looks shockingly similar to the prophecy\\'s depiction of Timmy, announcing himself as Turbo Thunder, takes Timmy\\'s guitar before he acclaims that he is the one to defeat the Darkness. As he discovers that he is too late, everyone just goes on to enjoy the concert . Just as Timmy looks confidently at the Big Dipper constellation in the sky, he feels like it is finally over only for all of the stars in the sky to vanish again the minute he and his godfamily turn around and walk off .  As this segment begins, Timmy is basking in the glory of being the Chosen One. Because he defeated the Darkness, he gained a video game, a movie, hordes of fans and a statue of himself holding the White Wand, all in his honor. He proclaims to all of Fairy World that the Darkness is never coming back, even though Turbo Thunder keeps insists that the Darkness will return and they will all regret rejecting him as the true Chosen One, but is ignored. Meanwhile, on Yugopotamia, life there is going on as usual. However, their usual admiration of filth is interrupted when meteors crash on the planet, carrying with them Eliminators. King Gripullon and Queen Jipjorrulac try getting into their royal escape pods, only to accidentally launch them trying to prove to each other that they can handle flying them. Only Mark\\'s pod remain and they presume that their son is on Earth \"hating his home planet, and chilling with the universe\\'s great space warrior... Timmy Turner.\" But as it turns out, Mark has returned home for a new Fake-i-fier, because his old one is malfunctioning and turning him into ladies\\' footwear. But before he could strap a new one on, the Darkness tears off the palace roof. Grippulon places his son in his escape pod and tries making a grandstanding speech to him, only for the pod to be launched by Jipjorrulac before he could finish. Eliminators then crash in and suck them in their black holes. The head Eliminator, declaring that the Chosen One will not escape them this time, releases the Fake-i-fiers into the Darkness, as it consumes Yugopotamia. Back in Fairy World, Timmy and his fairy godfamily are seeing a commercial for his biographical film. However, he had tweaked the scripts to portray himself as a ninja and kissing Trixie Tang. Wanda becomes concerned that the violence in the movie could negatively influence Poof, but Cosmo dismisses her concerns. After he says that, Poof displays many martial arts moves. Wanda tries convincing Timmy to go home because his parents are worried sick about him. She quickly poofs him back home after pretending to hear a wiener-stuffed Cosmo advocating that action. But it turns out, Timmy\\'s parents have forgotten to bring him on vacation and leave without even thinking. Timmy wants to go back to Fairy World and demands that Wanda poof up all the wieners and gifts they left behind. They then hear Mark\\'s scream. They go outside to find the Yugopotamian pleading for help against the Darkness, because Timmy is the Chosen One. Timmy tries correcting that he isn\\'t truly the Chosen One, but remembers that he hasn\\'t told Mark that and asks why he\\'s holding him tightly. But Mark is revealed to be an Eliminator in disguise, who tries sucking him in. Timmy tries wishing the Eliminator away, but it snatches his fairies\\' wands before they could. Luckily, the real Mark\\'s pod crashes on the impostor. They are able to confirm that it\\'s him because of the lack of a vortex mouth and eats dirty diapers. Mark then makes the same plea his impostor did. After Mark slaps in the new Fake-i-fier the Eliminator was wearing, Wanda asks why would the Darkness destroy Yugopotamia but not the rest of the universe. Cosmo guesses that perhaps the Darkness is only after Timmy, because since he was the one to defeat it, the Darkness wants to take him out before going after the rest of the universe. Realizing that the Darkness is back, Timmy says that they must go and find Turbo Thunder so that he could defeat the Darkness. But they arrive in Fairy World too late, as Jorgen had banished Turbo Thunder for claiming that the Darkness will be coming back. Jorgen simply laughed at his claims, only to stop when Timmy says that the Darkness is coming back. Thinking they missed an important part of the Cave Prophecy, they go back to the Cave of Destiny. Jorgen insists that there isn\\'t a part of the prophecy he could\\'ve missed, having \"the eyes of eagle, the speed of a puma, and the wisdom of a great horned owl.\" Timmy corrects him by clapping his hands, revealing a second part of the prophecy, revealing that there\\'s a second wand; Jorgen corrects his statement to, \"Make that the eyes of a mole and the wisdom of a clothes hamper, but I still have the strength of a lion.\" Cosmo also notices that one of the drawings depicts the Eliminators taking over Fairy World. Outside, Cupid notices that the streets are crowded with fairies. But most of those fairies are in fact Eliminators, who begin snatching up wands. Jorgen senses the disturbance in the Fairy Force and says that they must decipher Part 2 of the prophecy to find the next wand. Mark, finding that the cave drawings are amazingly written in Yugopotamian, deciphers that the second wand is located on the blue moon. But the Eliminators, disguised as stalagmites, capture the fairies. But before they could eliminate Timmy, he and Mark escape through a convenient escape portal back to Earth. Timmy then attempts to enlist Mark to help him defeat the Darkness but his friend has no interest in being a sidekick, until he has to repeatedly save Timmy from the Eliminators, who have disguised themselves as Timmy\\'s closest friends and family. A chase around town sends back to Timmy,s house, where the roof is ripped off. The Eliminator then gather in a circular motion, forming a large vortex. Timmy manages to stop the Darkness and destroy the Eliminators by throwing various gifts, received from his fame, into the Darkness, including a boom box, some roller skates, and some cocktail weenies . He and Mark then rush off to find the latter\\'s spaceship. The Eliminators survive, however, and absorb the items Timmy threw into the Darkness, gaining roller skates and singing \"Get Timmy Turner\" to funk music coming from boom boxes in their torsos . Meanwhile, the Eliminators have locked up all the fairies in Fairy World\\'s greatest prison Abracatraz . Also, they have Timmy\\'s friends and loved ones locked up there too. They think that they are suffering from overeating cocktails wienies and thinking that it would be crazy to see fairies. But when they do, they faint. As Wanda cries for a way out, Jorgen is optimistic that Timmy is hurling through space \"with the speed of a space cheetah\" to find the second wand and save them all. Back on Earth, Timmy and Mark find that that latter\\'s spaceship is not in the Dimmsdale dump. Because the Eliminators have all his friends and love ones, Timmy figures that his enemies could help. They go to Crocker, who has built a huge telescope designed to find Fairy World. Crocker agrees to help if Timmy confesses to having fairies, which he anti-climatically answers. Holding up to his end of the bargain, Crocker shows them the blue moon in the Veegon system. He also unveils the Crocker Rocket to help them get there. Mark asks how he could afford this on a teacher\\'s salary; Crocker answers that he stole the funds for the new school science wing. He tries proving that it can get them to Veegon in time, but accidentally launches it. Luckily, Timmy knows where they can get a spaceship—by posting an embarrassing movie of Dark Laser, calling him \"Fart Blazer\", on Too Yube . Word quickly spreads and Dark Laser, angered that Timmy would disclose his secret \"irritable bomb\" after he confided in the boy, comes down to Earth to confront him. Timmy quickly ushers him up the ramp, stating that they\\'ll discuss the subject later. When Mark asks whether he thinks his enemies can take on the Darkness, Timmy says they are missing one person: Vicky, whom he lures with fake cash. To secure their help, he promises that Crocker could see his fairies, Vicky twenty dollars and Dark Laser can destroy him when this whole crisis is over. Back in Abracatraz, Timmy\\'s friends and family learn the truth about his fairies. Angered that Timmy wasn\\'t considerate of them, they get angry, though Wanda reasons that Timmy has risked his life for them. Considering that, Mr. Turner asks if Timmy could\\'ve wished away his \"man-flab\", Jorgen snaps that he could\\'ve and tries reminding them that they must break out. Unfortunately, an Eliminator hears him and marches up to their cell; Jorgen tries correcting his statement to say he\\'s hungry. The Eliminator offers chicken fingers, which Mr. Turner declines. In the midst of this, Poof busts out and defeats the Eliminators with his martial arts skills, before setting everyone free. Jorgen then declares that they must now join forces with Timmy, only to reminded that they don\\'t have wands. Therefore, they all disguise themselves as Eliminators to retrieve the wands. But Jorgen is reminded once again that they don\\'t know where Timmy is. Because there is no food on their ship, Dark Laser suggests they go to a cafetina on Frigiderium. Crocker panics, knowing that it\\'s the most coldest planet in the galaxy. To keep the others warm, Dark Laser gives them a thermal refuge barrel, some blankets, his ex-wife\\'s fur coat, and a set of earmuffs to put on and warm them which cause them to look similar to Star Wars characters: Timmy as Luke Skywalker, Mark as R2-D2, Crocker as Chewbacca , Vicky as Princess Leia Organa, and Dark Laser as Darth Vader, who he already looked like. Arriving in the cafetina,  they attempt to sit down for snacks. Unfortunately, every other patron in the cafetina is an Eliminator. They capture Vicky, Crocker and Dark Laser with ease and add their weapons to their arsenal. With the Eliminators bearing down on him, Timmy tries reasoning with them that they want Turbo Thunder. He then shakes the head Eliminator\\'s hand, causing them all to malfunction and shut down. Mark perceives that he defeated them with his \"Chosen One Death Grip\", though Timmy says that he simply was trying to be nice, to which Mark says works too. Timmy then runs outside, proclaiming that he is the Chosen One. It is then that the Darkness arrives. Mark shouts to skies, asking what does that thing want, to which the Darkness moans Timmy\\'s name. Luckily, they are saved by Turbo Thunder, bringing them to Thunder World, his amusement park he plans to open once he defeats the Darkness. But when said black hole follows them, Turbo Thunder insists that Timmy tells him where the second wand is. Timmy agrees, but only if Turbo takes him and Mark with him. But Turbo Thunder had in fact lied, leaving Timmy and Mark to the mercy of the Darkness. To save their lives, Mark swallows Timmy whole and stows away on his ship before take off, though unknown and unseen by Turbo Thunder. They reach the Blue Moon and Mark regurgitates Timmy. Timmy is just about to get the second wand and is revealed that he IS the true Chosen One because he refused to fight the guardian of the second wand, a giant rock monster, while Turbo Thunder did, only to be flicked away, thus Timmy passed the test. Unfortunately, the Darkness arrives and sucks in the rock giant, while the head Eliminator snatches the wand. Meanwhile, Timmy\\'s enemies are being carted off, still frozen in ice. They are freed by Jorgen and once informed of Timmy\\'s whereabouts, he quickly poofs them to the blue moon of Veegon, where Timmy is taunted by the head Eliminator that no magic wand can stop them and promises that they will keep coming back in greater numbers than before. Luckily, Timmy\\'s friends and family arrive and successfully drives the Eliminators back with a combined magical attack. Timmy is more than grateful that they saved him. After giving Trixie a unicorn, Chester reminds Timmy that the Darkness is still bearing down on them. But an even bigger concern is when Timmy tries to use the second wand to force the Darkness away, nothing happened. The Darkness then tries inhaling everyone. Only Jorgen is the anchor to the ground, keeping everyone from being sucked in. He asks Timmy to just say the word and he\\'ll poof them all away. But Timmy knows that no matter where he goes, the Darkness will follow him. Mr. Turner cries out what does it even wants. The Darkness answers by creepily moaning Timmy\\'s name. Realizing that the Darkness wants only him, Timmy climbs the rope his friends and family made, where Trixie kisses Timmy before he willingly releases his grip on her and gets pulled into the Darkness. The Darkness leaves with Timmy while everyone is heartbroken at the loss . Jorgen and the others firmly decide that since Timmy sacrificed himself to save them, it was now THEIR turn to save him, before he foolishly created a rocket ship using magic and then accidentally launched it away without anyone on board it first. The scene then pans out from the blue moon into a view of the galaxy, as the Darkness comes towards the screen. This is the first Fairly Odd Parents episode or movie with a cliffhanger.  The third part opens with Cosmo using a text crawl explaining Timmy\\'s sacrifice but runs out of things to say. The scene then cuts to Timmy\\'s bedroom, where he wakes up, thinking that the whole affair with the Darkness was a dream. However, his fairies claim that he used his Chosen One powers to make it explode, after which Jorgen erased everyone else\\'s memories. Timmy awakens inside of his own room again and begins a new day at school with everyone\\'s memories of what happened at the Blue Moon of Vegan erased. It turns out to be a terrible day, so he wishes to start the day over as the best day ever. But before he could kiss Trixie, a trio of Eliminators burst through the wall. Timmy attempts to leap into battle only to find out that the Eliminators are Jorgen, Wanda and Cosmo in disguise and vice versa. In fact, Timmy is still inside the Darkness, using an illusion to keep him distracted from fulfilling his Chosen One destiny. He tries denying it, until Trixie turns into the head Eliminator. With his fairies, Timmy is able to escape the Darkness. The Darkness now wants Timmy safely back, but the Eliminator that first chased him  is still set on annihilating Timmy when the Darkness does not want him destroyed. Refusing any disobedience, the Darkness orders the head Eliminator to return to him. The latter refuses and attempts to rebel, only to be destroyed. Nonetheless, after he is destroyed and sent plummeting into the ocean on Earth, he reassembles himself and takes off to face Timmy. Back on the real Dimmsdale, Timmy reunites with his family and friends in the Timmy Cave beneath his house and they relay what has happened so far before the Eliminator returns. He not only absorbs Jorgen\\'s wand and sends Timmy\\'s friends and family into the Darkness, but pursues Timmy all the way to the Dimmsdale Mall. Cosmo, enraged that he openly attacked them, transforms into a giant Godzilla like creature named Coszilla, and, even though he had the advantage now, he stupidly made their magic wands vanish. But before he can finish Timmy, the Eliminator was targeted by a large assault from MERF, only he managed to absorb a high number of bombs and missiles  fired at him, taking a massive change in appearance. With a massive power boost, the Eliminator uses its new found magical powers to completely solidify the Earth in a giant steel casing and change all the humans  into his robotic henchmen as Timmy and his fairies escape in a MERF escape probe. The Eliminator then decides to call himself the Destructinator. Jorgen, who was granted rocket gluts from the Destructinator, escapes becoming a robot, but realizes that he has no magic on a metal Earth. Timmy and his fairies return to the Blue Moon to retrieve the second wand and run into a weakened Turbo Thunder. He then reveals the true reason why the second wand did nothing when Timmy used it. It\\'s true purpose was to \"light the way\", as the entire moon turned to face the sun and powered up the wand. It was then revealed that beneath the moon\\'s surface was a hidden society lined to the brim with magic and it revealed the final part of the cave prophecy, where Timmy would have to find a third and final wand, hidden within the Earth\\'s ice. Turbo Thunder reveals he was the original Chosen One, picked by the fairy council , but as stated before he was late and Timmy had to fill in, he apologizes and admits that Timmy is the new chosen one. He also tells them he tried out to become the chosen one to take revenge on the Darkness because it destroyed his home world of Wonder World and took his family from him. Turbo Thunder tries to train Timmy but Timmy\\'s unable to keep up with his super powered teacher. Thus, Turbo Thunder transfers his powers to Timmy, who dubs himself \"Turbo Timmy\", knowing he was the only hope of stopping the Destructinator and the Darkness. The group returns to Fairy World and frees the fairies by giving them wands from the hidden ruins below the moon and fight back the remaining Eliminators. Timmy then returns to Earth to face the Destructinator as the Darkness catches word that Timmy has returned. On Earth, Jorgen, poorly disguised as robot, walks up to the robotic MERF agents to ask what\\'s happening. The Destructinator then comes down and grabs him, stating that he\\'s in fact filling Earth with enough explosives that will destroy the Darkness at its one weak spot: its heart. He then proceeds to play around with his magic, giving Jorgen giants ears, before having him strapped to a chair to witness the explosive-stuffed Earth destroy both the Darkness and Timmy. As the MERF agents gives the Destructinator the detonator , Jorgen points out that he cannot blow up the Chosen One or the Darkness when they\\'re not here. He is soon prove wrong when both of them arrive on Earth. The Destructinator quickly captures Timmy, before beckoning the Darkness to come and get his buddy the Chosen One. It is then that Jorgen hears with his big ears a thousand fairies raising their wands. At that moment, all the fairies restore the Earth to normal with their magic, as well as freeing Timmy and Jorgen. But the Destructinator jumps in to remind them that he\\'s still standing. Timmy walks up to mock his attempts at eliminating him and leads the Destructinator on a chase through space, as the fairies search the Earth for the ice wand. But he soon makes the mistake of giving his foe his Thunder Pits powers. The Destructinator then sends Timmy crashing onto the North Pole, before he gloats that because of him, he now has magic and all the power in the universe. Timmy adds that he technically doesn\\'t, tricking the Destructinator into sucking all the weapons stuffed in the Earth, causing him to grow larger, before he reveals to him that he snatched the detonator from him in space. He then detonates the bombs, destroying the Destructinator once and for all. The massive explosion also melts the ice and reveals the third and final wand . Now, with Jorgen, his fairies, Turbo Thunder, Juandissimo and Cupid standing at his side, Timmy must now fulfill the prophecy and defeat the Darkness. But just then, he realizes something. When the Darkness appeared before Turbo Thunder\\'s world and Fairy World, it was first attacked by the inhabitants of the world before it attacked them, the Darkness was merely defending itself. And it\\'s obsession with Timmy wasn\\'t about conquering the universe, but because Timmy was the only one to never send anything harmful into it. All the Darkness ever wanted was a friend. With the powers of the Fire Wand , the Wind Wand  and the Ice Wand , he uses his fairies magic to poof up more ice wands on every other planet, creating a giant smiling face of light when he activated the wand\\'s powers and unleashed a powerful beam of light into the Darkness. After that, the Darkness has now become the Kindness  and returns all of Timmy\\'s captured friends and family, along with Mark and Turbo Thunder\\'s parents. They celebrate with another KISS concert in Fairy World when KISS and the ancient fairy counselors surprisingly appear after Timmy defeated the Darkness. During the concert, Timmy and Trixie attempt to kiss, but Jorgen interrupts them and tells Timmy that he\\'s erasing everyone\\'s memories after the concert. Timmy figured that would happen, but was relieved he wouldn\\'t have to find anymore wands. But in the Cave of Destiny, as the prophecy showed Timmy with all three wands, a red fourth wand appeared. But, it\\'s revealed that Cosmo drew it with a red crayon before saying \"Just kidding!\" and ending up crushed by a rock after getting brain freeze from an ice cream sandwich, ending the Wishology trilogy story.'"
      ]
     },
     "metadata": {},
     "output_type": "display_data"
    }
   ],
   "source": [
    "display(CMU_plot_summary[\"plot_summary\"][8888])"
   ]
  },
  {
   "cell_type": "code",
   "execution_count": null,
   "metadata": {},
   "outputs": [
    {
     "data": {
      "text/html": [
       "<div>\n",
       "<style scoped>\n",
       "    .dataframe tbody tr th:only-of-type {\n",
       "        vertical-align: middle;\n",
       "    }\n",
       "\n",
       "    .dataframe tbody tr th {\n",
       "        vertical-align: top;\n",
       "    }\n",
       "\n",
       "    .dataframe thead th {\n",
       "        text-align: right;\n",
       "    }\n",
       "</style>\n",
       "<table border=\"1\" class=\"dataframe\">\n",
       "  <thead>\n",
       "    <tr style=\"text-align: right;\">\n",
       "      <th></th>\n",
       "      <th>wikipedia_movie_ID</th>\n",
       "      <th>plot_summary</th>\n",
       "      <th>Word counts of summary</th>\n",
       "    </tr>\n",
       "  </thead>\n",
       "  <tbody>\n",
       "    <tr>\n",
       "      <th>42168</th>\n",
       "      <td>25105934</td>\n",
       "      <td>At Christmastime, a divorcée  returns to her h...</td>\n",
       "      <td>99</td>\n",
       "    </tr>\n",
       "  </tbody>\n",
       "</table>\n",
       "</div>"
      ],
      "text/plain": [
       "       wikipedia_movie_ID                                       plot_summary  \\\n",
       "42168            25105934  At Christmastime, a divorcée  returns to her h...   \n",
       "\n",
       "       Word counts of summary  \n",
       "42168                      99  "
      ]
     },
     "execution_count": 66,
     "metadata": {},
     "output_type": "execute_result"
    }
   ],
   "source": [
    "CMU_plot_summary[CMU_plot_summary[\"Character counts of summary\"] ==CMU_plot_summary[\"Character counts of summary\"].min()]"
   ]
  },
  {
   "cell_type": "markdown",
   "metadata": {},
   "source": [
    "# Investigation of countries representation "
   ]
  },
  {
   "cell_type": "markdown",
   "metadata": {},
   "source": [
    "Upon inspection the countries listed in movie_countries are not in a decent format and need preprocessing for further analysis. The weird characters present the same structure \"/m/09c7w0\" and can the pattern can thus be used to extract only the countries, rather than its length of 12 strings. This latter is due to the fact that multiple countries can be listed in movies countries and not only one. \n",
    "\n",
    "The meaning of movie countries isn't clear from the dataset description and need further investigation. "
   ]
  },
  {
   "cell_type": "code",
   "execution_count": 71,
   "metadata": {},
   "outputs": [
    {
     "data": {
      "text/plain": [
       "0                {\"/m/09c7w0\": \"United States of America\"}\n",
       "1                {\"/m/09c7w0\": \"United States of America\"}\n",
       "2                                   {\"/m/05b4w\": \"Norway\"}\n",
       "3                           {\"/m/07ssc\": \"United Kingdom\"}\n",
       "4                                  {\"/m/0345h\": \"Germany\"}\n",
       "                               ...                        \n",
       "81736            {\"/m/09c7w0\": \"United States of America\"}\n",
       "81737    {\"/m/03rt9\": \"Ireland\", \"/m/07ssc\": \"United Ki...\n",
       "81738            {\"/m/09c7w0\": \"United States of America\"}\n",
       "81739                                {\"/m/03_3d\": \"Japan\"}\n",
       "81740                              {\"/m/0d060g\": \"Canada\"}\n",
       "Name: movie_countries, Length: 81741, dtype: object"
      ]
     },
     "execution_count": 71,
     "metadata": {},
     "output_type": "execute_result"
    }
   ],
   "source": [
    "CMU_movie_metadata[\"movie_countries\"]"
   ]
  },
  {
   "cell_type": "code",
   "execution_count": null,
   "metadata": {},
   "outputs": [
    {
     "name": "stdout",
     "output_type": "stream",
     "text": [
      ": \"United States of America\"}\n"
     ]
    }
   ],
   "source": [
    "test = CMU_movie_metadata[\"movie_countries\"][0]\n"
   ]
  },
  {
   "cell_type": "markdown",
   "metadata": {},
   "source": [
    "Special care has to be taken to the preprocessing of any text used and ideally the same preprocessing steps should be applied. "
   ]
  },
  {
   "cell_type": "markdown",
   "metadata": {},
   "source": [
    "### Ideas of preprocessing "
   ]
  },
  {
   "cell_type": "code",
   "execution_count": null,
   "metadata": {},
   "outputs": [],
   "source": [
    "# Convert to lowercase\n",
    "text = test.lower()\n",
    "\n",
    "# Remove HTML tags\n",
    "text = re.sub(r'<.*?>', '', text)\n",
    "\n",
    "# Remove special characters and punctuation\n",
    "text = re.sub(r'[^\\w\\s]', '', text)\n",
    "\n",
    "# Remove numbers\n",
    "text = re.sub(r'\\d+', '', text)\n",
    "\n",
    "# Remove extra whitespace\n",
    "text = re.sub(r'\\s+', ' ', text).strip()"
   ]
  }
 ],
 "metadata": {
  "kernelspec": {
   "display_name": "Python 3",
   "language": "python",
   "name": "python3"
  },
  "language_info": {
   "codemirror_mode": {
    "name": "ipython",
    "version": 3
   },
   "file_extension": ".py",
   "mimetype": "text/x-python",
   "name": "python",
   "nbconvert_exporter": "python",
   "pygments_lexer": "ipython3",
   "version": "3.13.0"
  }
 },
 "nbformat": 4,
 "nbformat_minor": 2
}
