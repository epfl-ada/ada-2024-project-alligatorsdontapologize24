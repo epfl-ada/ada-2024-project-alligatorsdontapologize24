{
 "cells": [
  {
   "cell_type": "markdown",
   "metadata": {},
   "source": [
    "# FBI analysis\n",
    "\n",
    "In this notebook, we conduct an analysis of **violent offenses** **data** across the United States, focusing on the year **2012**. This year was selected because it provides the **most consistent** dataset across states.\n",
    "\n",
    "Our goal is to explore trends in violent offenses, normalize the data relative to population sizes, and identify patterns across states. This includes metrics like **total offenses per state** and **offenses per 100,000 inhabitants** to ensure fair comparisons between regions with different population sizes."
   ]
  },
  {
   "cell_type": "code",
   "execution_count": 1,
   "metadata": {},
   "outputs": [
    {
     "name": "stdout",
     "output_type": "stream",
     "text": [
      "Counts per state and offense:\n",
      "    state_prefix                              offense_type  count\n",
      "0             AL                                     Arson      1\n",
      "1             AL                          Assault Offenses    825\n",
      "2             AL              Burglary/Breaking & Entering    391\n",
      "3             AL                    Counterfeiting/Forgery     55\n",
      "4             AL  Destruction/Damage/Vandalism of Property    280\n",
      "..           ...                                       ...    ...\n",
      "650           WV                     Prostitution Offenses    125\n",
      "651           WV                                   Robbery    780\n",
      "652           WV                              Sex Offenses   1246\n",
      "653           WV                  Stolen Property Offenses    855\n",
      "654           WV                     Weapon Law Violations    975\n",
      "\n",
      "[655 rows x 3 columns]\n",
      "\n",
      "Counts per offense:\n",
      "                                offense_type    count\n",
      "0                     Larceny/Theft Offenses  1582037\n",
      "1                           Assault Offenses   976849\n",
      "2   Destruction/Damage/Vandalism of Property   724915\n",
      "3               Burglary/Breaking & Entering   539127\n",
      "4                     Drug/Narcotic Offenses   537641\n",
      "5                             Fraud Offenses   238585\n",
      "6                        Motor Vehicle Theft   156229\n",
      "7                               Sex Offenses    70720\n",
      "8                     Counterfeiting/Forgery    69286\n",
      "9                                    Robbery    65980\n",
      "10                     Weapon Law Violations    60252\n",
      "11                  Stolen Property Offenses    34199\n",
      "12                              Embezzlement    15204\n",
      "13                                     Arson    14310\n",
      "14                      Kidnapping/Abduction    12400\n",
      "15                     Prostitution Offenses     8224\n",
      "16              Pornography/Obscene Material     5569\n",
      "17                         Homicide Offenses     3311\n",
      "18                       Extortion/Blackmail     1089\n",
      "19                         Gambling Offenses      899\n",
      "20                                   Bribery      304\n",
      "Results saved in 'offense_analysis.xlsx'\n"
     ]
    }
   ],
   "source": [
    "import pandas as pd\n",
    "\n",
    "data = pd.read_csv(\"../../data/CLEAN/2012.csv\")\n",
    "\n",
    "# Ensure state prefixes are consistent\n",
    "data['state_prefix'] = data['state_prefix'].str.strip().str[:2].str.upper()\n",
    "\n",
    "# Count per state for the same offense\n",
    "state_offense_count = data.groupby(['state_prefix', 'offense_type']).size().reset_index(name='count')\n",
    "\n",
    "# Count per offense\n",
    "offense_count = data['offense_type'].value_counts().reset_index()\n",
    "offense_count.columns = ['offense_type', 'count']\n",
    "\n",
    "# Save results\n",
    "state_offense_count.to_csv(\"state_offense_count.csv\", index=False)\n",
    "offense_count.to_csv(\"offense_count.csv\", index=False)\n",
    "\n",
    "# Display the results\n",
    "print(\"Counts per state and offense:\")\n",
    "print(state_offense_count)\n",
    "\n",
    "print(\"\\nCounts per offense:\")\n",
    "print(offense_count)\n",
    "\n",
    "with pd.ExcelWriter(\"offense_analysis.xlsx\") as writer:\n",
    "    state_offense_count.to_excel(writer, sheet_name=\"State_Offense_Count\", index=False)\n",
    "    offense_count.to_excel(writer, sheet_name=\"Offense_Count\", index=False)\n",
    "\n",
    "print(\"Results saved in 'offense_analysis.xlsx'\")\n"
   ]
  },
  {
   "cell_type": "code",
   "execution_count": 2,
   "metadata": {},
   "outputs": [],
   "source": [
    "# Save in an xlsx\n",
    "state_offense_count.to_excel('../../data/CLEAN/statecount.xlsx')\n",
    "offense_count.to_excel('../../data/CLEAN/offensecount.xlsx')"
   ]
  },
  {
   "cell_type": "code",
   "execution_count": 3,
   "metadata": {},
   "outputs": [],
   "source": [
    "# Dictionary mapping state prefixes to full state names\n",
    "state_prefix_to_name = {\n",
    "    \"AL\": \"Alabama\",\n",
    "    \"AK\": \"Alaska\",\n",
    "    \"AZ\": \"Arizona\",\n",
    "    \"AR\": \"Arkansas\",\n",
    "    \"CA\": \"California\",\n",
    "    \"CO\": \"Colorado\",\n",
    "    \"CT\": \"Connecticut\",\n",
    "    \"DE\": \"Delaware\",\n",
    "    \"DC\": \"District of Columbia\",\n",
    "    \"FL\": \"Florida\",\n",
    "    \"GA\": \"Georgia\",\n",
    "    \"HI\": \"Hawaii\",\n",
    "    \"ID\": \"Idaho\",\n",
    "    \"IL\": \"Illinois\",\n",
    "    \"IN\": \"Indiana\",\n",
    "    \"IA\": \"Iowa\",\n",
    "    \"KS\": \"Kansas\",\n",
    "    \"KY\": \"Kentucky\",\n",
    "    \"LA\": \"Louisiana\",\n",
    "    \"ME\": \"Maine\",\n",
    "    \"MD\": \"Maryland\",\n",
    "    \"MA\": \"Massachusetts\",\n",
    "    \"MI\": \"Michigan\",\n",
    "    \"MN\": \"Minnesota\",\n",
    "    \"MS\": \"Mississippi\",\n",
    "    \"MO\": \"Missouri\",\n",
    "    \"MT\": \"Montana\",\n",
    "    \"NE\": \"Nebraska\",\n",
    "    \"NV\": \"Nevada\",\n",
    "    \"NH\": \"New Hampshire\",\n",
    "    \"NJ\": \"New Jersey\",\n",
    "    \"NM\": \"New Mexico\",\n",
    "    \"NY\": \"New York\",\n",
    "    \"NC\": \"North Carolina\",\n",
    "    \"ND\": \"North Dakota\",\n",
    "    \"OH\": \"Ohio\",\n",
    "    \"OK\": \"Oklahoma\",\n",
    "    \"OR\": \"Oregon\",\n",
    "    \"PA\": \"Pennsylvania\",\n",
    "    \"RI\": \"Rhode Island\",\n",
    "    \"SC\": \"South Carolina\",\n",
    "    \"SD\": \"South Dakota\",\n",
    "    \"TN\": \"Tennessee\",\n",
    "    \"TX\": \"Texas\",\n",
    "    \"UT\": \"Utah\",\n",
    "    \"VT\": \"Vermont\",\n",
    "    \"VA\": \"Virginia\",\n",
    "    \"WA\": \"Washington\",\n",
    "    \"WV\": \"West Virginia\",\n",
    "    \"WI\": \"Wisconsin\",\n",
    "    \"WY\": \"Wyoming\"\n",
    "}\n",
    "data = pd.read_excel(\"../../data/CLEAN/statecount.xlsx\")\n",
    "\n",
    "# Map the state prefixes to full names\n",
    "data['state_name'] = data['state_prefix'].map(state_prefix_to_name)\n",
    "\n",
    "# Save the updated df\n",
    "data.to_excel(\"../../data/CLEAN/updatedstatecount.xlsx\", index=False)\n"
   ]
  },
  {
   "cell_type": "markdown",
   "metadata": {},
   "source": [
    "### Selected violent offenses from previous analysis"
   ]
  },
  {
   "cell_type": "code",
   "execution_count": 4,
   "metadata": {},
   "outputs": [],
   "source": [
    "violent_offenses = [\"Larceny/Theft Offenses\", \"Assault Offenses\", \"Destruction/Damage/Vandalism of Property\",\n",
    "                    \"Burglary/Breaking & Entering\", \"Sex Offenses\", \"Robbery\", \"Arson\", \"Kidnapping/Abduction\", \"Homicide Offenses\"]"
   ]
  },
  {
   "cell_type": "markdown",
   "metadata": {},
   "source": [
    "#### Filter offense types"
   ]
  },
  {
   "cell_type": "code",
   "execution_count": 5,
   "metadata": {},
   "outputs": [
    {
     "data": {
      "text/html": [
       "<div>\n",
       "<style scoped>\n",
       "    .dataframe tbody tr th:only-of-type {\n",
       "        vertical-align: middle;\n",
       "    }\n",
       "\n",
       "    .dataframe tbody tr th {\n",
       "        vertical-align: top;\n",
       "    }\n",
       "\n",
       "    .dataframe thead th {\n",
       "        text-align: right;\n",
       "    }\n",
       "</style>\n",
       "<table border=\"1\" class=\"dataframe\">\n",
       "  <thead>\n",
       "    <tr style=\"text-align: right;\">\n",
       "      <th></th>\n",
       "      <th>Unnamed: 0</th>\n",
       "      <th>state_prefix</th>\n",
       "      <th>offense_type</th>\n",
       "      <th>count</th>\n",
       "      <th>state_name</th>\n",
       "    </tr>\n",
       "  </thead>\n",
       "  <tbody>\n",
       "    <tr>\n",
       "      <th>0</th>\n",
       "      <td>0</td>\n",
       "      <td>AL</td>\n",
       "      <td>Arson</td>\n",
       "      <td>1</td>\n",
       "      <td>Alabama</td>\n",
       "    </tr>\n",
       "    <tr>\n",
       "      <th>1</th>\n",
       "      <td>1</td>\n",
       "      <td>AL</td>\n",
       "      <td>Assault Offenses</td>\n",
       "      <td>825</td>\n",
       "      <td>Alabama</td>\n",
       "    </tr>\n",
       "    <tr>\n",
       "      <th>2</th>\n",
       "      <td>2</td>\n",
       "      <td>AL</td>\n",
       "      <td>Burglary/Breaking &amp; Entering</td>\n",
       "      <td>391</td>\n",
       "      <td>Alabama</td>\n",
       "    </tr>\n",
       "    <tr>\n",
       "      <th>4</th>\n",
       "      <td>4</td>\n",
       "      <td>AL</td>\n",
       "      <td>Destruction/Damage/Vandalism of Property</td>\n",
       "      <td>280</td>\n",
       "      <td>Alabama</td>\n",
       "    </tr>\n",
       "    <tr>\n",
       "      <th>8</th>\n",
       "      <td>8</td>\n",
       "      <td>AL</td>\n",
       "      <td>Homicide Offenses</td>\n",
       "      <td>2</td>\n",
       "      <td>Alabama</td>\n",
       "    </tr>\n",
       "    <tr>\n",
       "      <th>...</th>\n",
       "      <td>...</td>\n",
       "      <td>...</td>\n",
       "      <td>...</td>\n",
       "      <td>...</td>\n",
       "      <td>...</td>\n",
       "    </tr>\n",
       "    <tr>\n",
       "      <th>645</th>\n",
       "      <td>645</td>\n",
       "      <td>WV</td>\n",
       "      <td>Homicide Offenses</td>\n",
       "      <td>63</td>\n",
       "      <td>West Virginia</td>\n",
       "    </tr>\n",
       "    <tr>\n",
       "      <th>646</th>\n",
       "      <td>646</td>\n",
       "      <td>WV</td>\n",
       "      <td>Kidnapping/Abduction</td>\n",
       "      <td>117</td>\n",
       "      <td>West Virginia</td>\n",
       "    </tr>\n",
       "    <tr>\n",
       "      <th>647</th>\n",
       "      <td>647</td>\n",
       "      <td>WV</td>\n",
       "      <td>Larceny/Theft Offenses</td>\n",
       "      <td>28676</td>\n",
       "      <td>West Virginia</td>\n",
       "    </tr>\n",
       "    <tr>\n",
       "      <th>651</th>\n",
       "      <td>651</td>\n",
       "      <td>WV</td>\n",
       "      <td>Robbery</td>\n",
       "      <td>780</td>\n",
       "      <td>West Virginia</td>\n",
       "    </tr>\n",
       "    <tr>\n",
       "      <th>652</th>\n",
       "      <td>652</td>\n",
       "      <td>WV</td>\n",
       "      <td>Sex Offenses</td>\n",
       "      <td>1246</td>\n",
       "      <td>West Virginia</td>\n",
       "    </tr>\n",
       "  </tbody>\n",
       "</table>\n",
       "<p>287 rows × 5 columns</p>\n",
       "</div>"
      ],
      "text/plain": [
       "     Unnamed: 0 state_prefix                              offense_type  count  \\\n",
       "0             0           AL                                     Arson      1   \n",
       "1             1           AL                          Assault Offenses    825   \n",
       "2             2           AL              Burglary/Breaking & Entering    391   \n",
       "4             4           AL  Destruction/Damage/Vandalism of Property    280   \n",
       "8             8           AL                         Homicide Offenses      2   \n",
       "..          ...          ...                                       ...    ...   \n",
       "645         645           WV                         Homicide Offenses     63   \n",
       "646         646           WV                      Kidnapping/Abduction    117   \n",
       "647         647           WV                    Larceny/Theft Offenses  28676   \n",
       "651         651           WV                                   Robbery    780   \n",
       "652         652           WV                              Sex Offenses   1246   \n",
       "\n",
       "        state_name  \n",
       "0          Alabama  \n",
       "1          Alabama  \n",
       "2          Alabama  \n",
       "4          Alabama  \n",
       "8          Alabama  \n",
       "..             ...  \n",
       "645  West Virginia  \n",
       "646  West Virginia  \n",
       "647  West Virginia  \n",
       "651  West Virginia  \n",
       "652  West Virginia  \n",
       "\n",
       "[287 rows x 5 columns]"
      ]
     },
     "execution_count": 5,
     "metadata": {},
     "output_type": "execute_result"
    }
   ],
   "source": [
    "filtered_data = data[data['offense_type'].isin(violent_offenses)]\n",
    "filtered_data.to_excel(\"../../data/CLEAN/violentstatecount.xlsx\", index=False)\n",
    "filtered_data"
   ]
  },
  {
   "cell_type": "markdown",
   "metadata": {},
   "source": [
    "# Normalization per capita\n",
    "\n",
    "In order to better visualize the violent offenses, the count of each offenses was normalized using data from [Fact Monster](https://www.factmonster.com/us/fifty-states/state-population-rank-2012).\n",
    "\n",
    "Normalization was performed to provide better insights through the metric **offenses per 100k capita**."
   ]
  },
  {
   "cell_type": "code",
   "execution_count": 6,
   "metadata": {},
   "outputs": [
    {
     "data": {
      "text/html": [
       "<div>\n",
       "<style scoped>\n",
       "    .dataframe tbody tr th:only-of-type {\n",
       "        vertical-align: middle;\n",
       "    }\n",
       "\n",
       "    .dataframe tbody tr th {\n",
       "        vertical-align: top;\n",
       "    }\n",
       "\n",
       "    .dataframe thead th {\n",
       "        text-align: right;\n",
       "    }\n",
       "</style>\n",
       "<table border=\"1\" class=\"dataframe\">\n",
       "  <thead>\n",
       "    <tr style=\"text-align: right;\">\n",
       "      <th></th>\n",
       "      <th>State</th>\n",
       "      <th>Population</th>\n",
       "    </tr>\n",
       "  </thead>\n",
       "  <tbody>\n",
       "    <tr>\n",
       "      <th>40</th>\n",
       "      <td>Maine</td>\n",
       "      <td>1329192</td>\n",
       "    </tr>\n",
       "    <tr>\n",
       "      <th>10</th>\n",
       "      <td>New Jersey</td>\n",
       "      <td>8864590</td>\n",
       "    </tr>\n",
       "    <tr>\n",
       "      <th>17</th>\n",
       "      <td>Missouri</td>\n",
       "      <td>6021988</td>\n",
       "    </tr>\n",
       "    <tr>\n",
       "      <th>7</th>\n",
       "      <td>Georgia</td>\n",
       "      <td>9919945</td>\n",
       "    </tr>\n",
       "    <tr>\n",
       "      <th>15</th>\n",
       "      <td>Indiana</td>\n",
       "      <td>6537334</td>\n",
       "    </tr>\n",
       "    <tr>\n",
       "      <th>19</th>\n",
       "      <td>Wisconsin</td>\n",
       "      <td>5726398</td>\n",
       "    </tr>\n",
       "    <tr>\n",
       "      <th>18</th>\n",
       "      <td>Maryland</td>\n",
       "      <td>5884563</td>\n",
       "    </tr>\n",
       "    <tr>\n",
       "      <th>12</th>\n",
       "      <td>Washington</td>\n",
       "      <td>6897012</td>\n",
       "    </tr>\n",
       "    <tr>\n",
       "      <th>43</th>\n",
       "      <td>Montana</td>\n",
       "      <td>1005141</td>\n",
       "    </tr>\n",
       "    <tr>\n",
       "      <th>41</th>\n",
       "      <td>New Hampshire</td>\n",
       "      <td>1320718</td>\n",
       "    </tr>\n",
       "  </tbody>\n",
       "</table>\n",
       "</div>"
      ],
      "text/plain": [
       "            State  Population\n",
       "40          Maine     1329192\n",
       "10     New Jersey     8864590\n",
       "17       Missouri     6021988\n",
       "7         Georgia     9919945\n",
       "15        Indiana     6537334\n",
       "19      Wisconsin     5726398\n",
       "18       Maryland     5884563\n",
       "12     Washington     6897012\n",
       "43        Montana     1005141\n",
       "41  New Hampshire     1320718"
      ]
     },
     "execution_count": 6,
     "metadata": {},
     "output_type": "execute_result"
    }
   ],
   "source": [
    "# Data about population from Fact Monster\n",
    "population = pd.read_csv('../../data/CLEAN/state_population_data.csv')\n",
    "population.sample(10)"
   ]
  },
  {
   "cell_type": "markdown",
   "metadata": {},
   "source": [
    "#### Normalization based on population"
   ]
  },
  {
   "cell_type": "code",
   "execution_count": 7,
   "metadata": {},
   "outputs": [],
   "source": [
    "# Merge violent offense data with population data based on state name\n",
    "merged_data = pd.merge(\n",
    "    filtered_data,\n",
    "    population,\n",
    "    left_on=\"state_name\",  # Column in violent offense data\n",
    "    right_on=\"State\",      # Column in population data\n",
    "    how=\"left\"             # Keep all violent offense data\n",
    ")\n",
    "\n",
    "# Calculate normalized offenses per 100,000 people\n",
    "merged_data[\"offenses_per_100k\"] = (merged_data[\"count\"] / merged_data[\"Population\"]) * 100000\n",
    "\n",
    "# Drop unnecessary columns\n",
    "merged_data_cleaned = merged_data.drop(columns=[\"Unnamed: 0\", \"State\", merged_data.columns[0]], errors=\"ignore\")\n",
    "\n",
    "# Save the cleaned and normalized data to a new CSV\n",
    "output_file_path = \"../../data/CLEAN/normalized_violent_offenses.csv\"\n",
    "merged_data_cleaned.to_csv(output_file_path, index=False)\n",
    "merged_data_cleaned.to_excel(\"../../data/CLEAN/normalized_violent_offenses.xlsx\" )\n"
   ]
  },
  {
   "cell_type": "code",
   "execution_count": 8,
   "metadata": {},
   "outputs": [],
   "source": [
    "# Merge violent offense data with population data based on state name\n",
    "merged_data = pd.merge(\n",
    "    data,\n",
    "    population,\n",
    "    left_on=\"state_name\",  # Column in violent offense data\n",
    "    right_on=\"State\",      # Column in population data\n",
    "    how=\"left\"             # Keep all violent offense data\n",
    ")\n",
    "\n",
    "# Calculate normalized offenses per 100,000 people\n",
    "merged_data[\"offenses_per_100k\"] = (merged_data[\"count\"] / merged_data[\"Population\"]) * 100000\n",
    "\n",
    "# Drop unnecessary columns\n",
    "merged_data_cleaned = merged_data.drop(columns=[\"Unnamed: 0\", \"State\", merged_data.columns[0]], errors=\"ignore\")\n",
    "\n",
    "# Save the cleaned and normalized data to a new CSV\n",
    "output_file_path = \"../../data/CLEAN/normalized_offenses.csv\"\n",
    "merged_data_cleaned.to_csv(output_file_path, index=False)\n",
    "merged_data_cleaned.to_excel(\"../../data/CLEAN/normalized_offenses.xlsx\")"
   ]
  },
  {
   "cell_type": "markdown",
   "metadata": {},
   "source": [
    "## Visualization of produced data"
   ]
  },
  {
   "cell_type": "code",
   "execution_count": 11,
   "metadata": {},
   "outputs": [
    {
     "data": {
      "application/vnd.plotly.v1+json": {
       "config": {
        "plotlyServerURL": "https://plot.ly"
       },
       "data": [
        {
         "branchvalues": "total",
         "customdata": [
          [
           88.40687819199535
          ],
          [
           242.32232684368302
          ],
          [
           8141.618666651295
          ],
          [
           5631.910975093984
          ],
          [
           3080.2036683362358
          ],
          [
           9740.789364643895
          ],
          [
           0.00001
          ],
          [
           4951.282424072273
          ],
          [
           159.7172250180676
          ],
          [
           4920.359405709349
          ],
          [
           6271.897377079287
          ],
          [
           4092.146520363938
          ],
          [
           900.8032129386754
          ],
          [
           1440.0477884308664
          ],
          [
           4086.173877665004
          ],
          [
           5967.646630295771
          ],
          [
           1155.7146908960963
          ],
          [
           1839.0482478004878
          ],
          [
           5422.732180526047
          ],
          [
           5348.556661540132
          ],
          [
           5001.747627060284
          ],
          [
           1456.0844286231065
          ],
          [
           2159.56339423489
          ],
          [
           0.11752229162827607
          ],
          [
           5577.0204857315875
          ],
          [
           8823.591053074026
          ],
          [
           4958.6370258017605
          ],
          [
           8468.795242062606
          ],
          [
           835.6855733461994
          ],
          [
           6000.34252248548
          ],
          [
           4815.570333428645
          ],
          [
           4702.993122239021
          ],
          [
           4918.8509512437395
          ]
         ],
         "domain": {
          "x": [
           0,
           1
          ],
          "y": [
           0,
           1
          ]
         },
         "hovertemplate": "labels=%{label}<br>offenses_per_100k_sum=%{value}<br>parent=%{parent}<br>id=%{id}<br>offenses_per_100k=%{color}<extra></extra>",
         "ids": [
          "Alabama",
          "Arizona",
          "Arkansas",
          "Colorado",
          "Connecticut",
          "Delaware",
          "District of Columbia",
          "Idaho",
          "Illinois",
          "Iowa",
          "Kansas",
          "Kentucky",
          "Louisiana",
          "Maine",
          "Massachusetts",
          "Michigan",
          "Missouri",
          "Nebraska",
          "New Hampshire",
          "North Dakota",
          "Ohio",
          "Oklahoma",
          "Oregon",
          "Pennsylvania",
          "Rhode Island",
          "South Carolina",
          "South Dakota",
          "Tennessee",
          "Texas",
          "Utah",
          "Vermont",
          "Washington",
          "West Virginia"
         ],
         "labels": [
          "Alabama",
          "Arizona",
          "Arkansas",
          "Colorado",
          "Connecticut",
          "Delaware",
          "District of Columbia",
          "Idaho",
          "Illinois",
          "Iowa",
          "Kansas",
          "Kentucky",
          "Louisiana",
          "Maine",
          "Massachusetts",
          "Michigan",
          "Missouri",
          "Nebraska",
          "New Hampshire",
          "North Dakota",
          "Ohio",
          "Oklahoma",
          "Oregon",
          "Pennsylvania",
          "Rhode Island",
          "South Carolina",
          "South Dakota",
          "Tennessee",
          "Texas",
          "Utah",
          "Vermont",
          "Washington",
          "West Virginia"
         ],
         "marker": {
          "coloraxis": "coloraxis",
          "colors": [
           88.40687819199535,
           242.32232684368302,
           8141.618666651295,
           5631.910975093984,
           3080.2036683362358,
           9740.789364643895,
           0.00001,
           4951.282424072273,
           159.7172250180676,
           4920.359405709349,
           6271.897377079287,
           4092.146520363938,
           900.8032129386754,
           1440.0477884308664,
           4086.173877665004,
           5967.646630295771,
           1155.7146908960963,
           1839.0482478004878,
           5422.732180526047,
           5348.556661540132,
           5001.747627060284,
           1456.0844286231065,
           2159.56339423489,
           0.11752229162827607,
           5577.0204857315875,
           8823.591053074026,
           4958.6370258017605,
           8468.795242062606,
           835.6855733461994,
           6000.34252248548,
           4815.570333428645,
           4702.993122239021,
           4918.8509512437395
          ]
         },
         "name": "",
         "parents": [
          "",
          "",
          "",
          "",
          "",
          "",
          "",
          "",
          "",
          "",
          "",
          "",
          "",
          "",
          "",
          "",
          "",
          "",
          "",
          "",
          "",
          "",
          "",
          "",
          "",
          "",
          "",
          "",
          "",
          "",
          "",
          "",
          ""
         ],
         "type": "treemap",
         "values": [
          88.40687819199535,
          242.32232684368302,
          8141.618666651295,
          5631.910975093984,
          3080.2036683362358,
          9740.789364643895,
          0.00001,
          4951.282424072273,
          159.7172250180676,
          4920.359405709349,
          6271.897377079287,
          4092.146520363938,
          900.8032129386754,
          1440.0477884308664,
          4086.173877665004,
          5967.646630295771,
          1155.7146908960963,
          1839.0482478004878,
          5422.732180526047,
          5348.556661540132,
          5001.747627060284,
          1456.0844286231068,
          2159.56339423489,
          0.11752229162827607,
          5577.0204857315875,
          8823.591053074026,
          4958.6370258017605,
          8468.795242062606,
          835.6855733461994,
          6000.34252248548,
          4815.570333428645,
          4702.993122239021,
          4918.8509512437395
         ]
        }
       ],
       "layout": {
        "coloraxis": {
         "colorbar": {
          "title": {
           "text": "offenses_per_100k"
          }
         },
         "colorscale": [
          [
           0,
           "rgb(0,0,255)"
          ],
          [
           1,
           "rgb(255,0,0)"
          ]
         ]
        },
        "legend": {
         "tracegroupgap": 0
        },
        "margin": {
         "b": 25,
         "l": 25,
         "r": 25,
         "t": 50
        },
        "template": {
         "data": {
          "bar": [
           {
            "error_x": {
             "color": "#2a3f5f"
            },
            "error_y": {
             "color": "#2a3f5f"
            },
            "marker": {
             "line": {
              "color": "#E5ECF6",
              "width": 0.5
             },
             "pattern": {
              "fillmode": "overlay",
              "size": 10,
              "solidity": 0.2
             }
            },
            "type": "bar"
           }
          ],
          "barpolar": [
           {
            "marker": {
             "line": {
              "color": "#E5ECF6",
              "width": 0.5
             },
             "pattern": {
              "fillmode": "overlay",
              "size": 10,
              "solidity": 0.2
             }
            },
            "type": "barpolar"
           }
          ],
          "carpet": [
           {
            "aaxis": {
             "endlinecolor": "#2a3f5f",
             "gridcolor": "white",
             "linecolor": "white",
             "minorgridcolor": "white",
             "startlinecolor": "#2a3f5f"
            },
            "baxis": {
             "endlinecolor": "#2a3f5f",
             "gridcolor": "white",
             "linecolor": "white",
             "minorgridcolor": "white",
             "startlinecolor": "#2a3f5f"
            },
            "type": "carpet"
           }
          ],
          "choropleth": [
           {
            "colorbar": {
             "outlinewidth": 0,
             "ticks": ""
            },
            "type": "choropleth"
           }
          ],
          "contour": [
           {
            "colorbar": {
             "outlinewidth": 0,
             "ticks": ""
            },
            "colorscale": [
             [
              0,
              "#0d0887"
             ],
             [
              0.1111111111111111,
              "#46039f"
             ],
             [
              0.2222222222222222,
              "#7201a8"
             ],
             [
              0.3333333333333333,
              "#9c179e"
             ],
             [
              0.4444444444444444,
              "#bd3786"
             ],
             [
              0.5555555555555556,
              "#d8576b"
             ],
             [
              0.6666666666666666,
              "#ed7953"
             ],
             [
              0.7777777777777778,
              "#fb9f3a"
             ],
             [
              0.8888888888888888,
              "#fdca26"
             ],
             [
              1,
              "#f0f921"
             ]
            ],
            "type": "contour"
           }
          ],
          "contourcarpet": [
           {
            "colorbar": {
             "outlinewidth": 0,
             "ticks": ""
            },
            "type": "contourcarpet"
           }
          ],
          "heatmap": [
           {
            "colorbar": {
             "outlinewidth": 0,
             "ticks": ""
            },
            "colorscale": [
             [
              0,
              "#0d0887"
             ],
             [
              0.1111111111111111,
              "#46039f"
             ],
             [
              0.2222222222222222,
              "#7201a8"
             ],
             [
              0.3333333333333333,
              "#9c179e"
             ],
             [
              0.4444444444444444,
              "#bd3786"
             ],
             [
              0.5555555555555556,
              "#d8576b"
             ],
             [
              0.6666666666666666,
              "#ed7953"
             ],
             [
              0.7777777777777778,
              "#fb9f3a"
             ],
             [
              0.8888888888888888,
              "#fdca26"
             ],
             [
              1,
              "#f0f921"
             ]
            ],
            "type": "heatmap"
           }
          ],
          "heatmapgl": [
           {
            "colorbar": {
             "outlinewidth": 0,
             "ticks": ""
            },
            "colorscale": [
             [
              0,
              "#0d0887"
             ],
             [
              0.1111111111111111,
              "#46039f"
             ],
             [
              0.2222222222222222,
              "#7201a8"
             ],
             [
              0.3333333333333333,
              "#9c179e"
             ],
             [
              0.4444444444444444,
              "#bd3786"
             ],
             [
              0.5555555555555556,
              "#d8576b"
             ],
             [
              0.6666666666666666,
              "#ed7953"
             ],
             [
              0.7777777777777778,
              "#fb9f3a"
             ],
             [
              0.8888888888888888,
              "#fdca26"
             ],
             [
              1,
              "#f0f921"
             ]
            ],
            "type": "heatmapgl"
           }
          ],
          "histogram": [
           {
            "marker": {
             "pattern": {
              "fillmode": "overlay",
              "size": 10,
              "solidity": 0.2
             }
            },
            "type": "histogram"
           }
          ],
          "histogram2d": [
           {
            "colorbar": {
             "outlinewidth": 0,
             "ticks": ""
            },
            "colorscale": [
             [
              0,
              "#0d0887"
             ],
             [
              0.1111111111111111,
              "#46039f"
             ],
             [
              0.2222222222222222,
              "#7201a8"
             ],
             [
              0.3333333333333333,
              "#9c179e"
             ],
             [
              0.4444444444444444,
              "#bd3786"
             ],
             [
              0.5555555555555556,
              "#d8576b"
             ],
             [
              0.6666666666666666,
              "#ed7953"
             ],
             [
              0.7777777777777778,
              "#fb9f3a"
             ],
             [
              0.8888888888888888,
              "#fdca26"
             ],
             [
              1,
              "#f0f921"
             ]
            ],
            "type": "histogram2d"
           }
          ],
          "histogram2dcontour": [
           {
            "colorbar": {
             "outlinewidth": 0,
             "ticks": ""
            },
            "colorscale": [
             [
              0,
              "#0d0887"
             ],
             [
              0.1111111111111111,
              "#46039f"
             ],
             [
              0.2222222222222222,
              "#7201a8"
             ],
             [
              0.3333333333333333,
              "#9c179e"
             ],
             [
              0.4444444444444444,
              "#bd3786"
             ],
             [
              0.5555555555555556,
              "#d8576b"
             ],
             [
              0.6666666666666666,
              "#ed7953"
             ],
             [
              0.7777777777777778,
              "#fb9f3a"
             ],
             [
              0.8888888888888888,
              "#fdca26"
             ],
             [
              1,
              "#f0f921"
             ]
            ],
            "type": "histogram2dcontour"
           }
          ],
          "mesh3d": [
           {
            "colorbar": {
             "outlinewidth": 0,
             "ticks": ""
            },
            "type": "mesh3d"
           }
          ],
          "parcoords": [
           {
            "line": {
             "colorbar": {
              "outlinewidth": 0,
              "ticks": ""
             }
            },
            "type": "parcoords"
           }
          ],
          "pie": [
           {
            "automargin": true,
            "type": "pie"
           }
          ],
          "scatter": [
           {
            "fillpattern": {
             "fillmode": "overlay",
             "size": 10,
             "solidity": 0.2
            },
            "type": "scatter"
           }
          ],
          "scatter3d": [
           {
            "line": {
             "colorbar": {
              "outlinewidth": 0,
              "ticks": ""
             }
            },
            "marker": {
             "colorbar": {
              "outlinewidth": 0,
              "ticks": ""
             }
            },
            "type": "scatter3d"
           }
          ],
          "scattercarpet": [
           {
            "marker": {
             "colorbar": {
              "outlinewidth": 0,
              "ticks": ""
             }
            },
            "type": "scattercarpet"
           }
          ],
          "scattergeo": [
           {
            "marker": {
             "colorbar": {
              "outlinewidth": 0,
              "ticks": ""
             }
            },
            "type": "scattergeo"
           }
          ],
          "scattergl": [
           {
            "marker": {
             "colorbar": {
              "outlinewidth": 0,
              "ticks": ""
             }
            },
            "type": "scattergl"
           }
          ],
          "scattermapbox": [
           {
            "marker": {
             "colorbar": {
              "outlinewidth": 0,
              "ticks": ""
             }
            },
            "type": "scattermapbox"
           }
          ],
          "scatterpolar": [
           {
            "marker": {
             "colorbar": {
              "outlinewidth": 0,
              "ticks": ""
             }
            },
            "type": "scatterpolar"
           }
          ],
          "scatterpolargl": [
           {
            "marker": {
             "colorbar": {
              "outlinewidth": 0,
              "ticks": ""
             }
            },
            "type": "scatterpolargl"
           }
          ],
          "scatterternary": [
           {
            "marker": {
             "colorbar": {
              "outlinewidth": 0,
              "ticks": ""
             }
            },
            "type": "scatterternary"
           }
          ],
          "surface": [
           {
            "colorbar": {
             "outlinewidth": 0,
             "ticks": ""
            },
            "colorscale": [
             [
              0,
              "#0d0887"
             ],
             [
              0.1111111111111111,
              "#46039f"
             ],
             [
              0.2222222222222222,
              "#7201a8"
             ],
             [
              0.3333333333333333,
              "#9c179e"
             ],
             [
              0.4444444444444444,
              "#bd3786"
             ],
             [
              0.5555555555555556,
              "#d8576b"
             ],
             [
              0.6666666666666666,
              "#ed7953"
             ],
             [
              0.7777777777777778,
              "#fb9f3a"
             ],
             [
              0.8888888888888888,
              "#fdca26"
             ],
             [
              1,
              "#f0f921"
             ]
            ],
            "type": "surface"
           }
          ],
          "table": [
           {
            "cells": {
             "fill": {
              "color": "#EBF0F8"
             },
             "line": {
              "color": "white"
             }
            },
            "header": {
             "fill": {
              "color": "#C8D4E3"
             },
             "line": {
              "color": "white"
             }
            },
            "type": "table"
           }
          ]
         },
         "layout": {
          "annotationdefaults": {
           "arrowcolor": "#2a3f5f",
           "arrowhead": 0,
           "arrowwidth": 1
          },
          "autotypenumbers": "strict",
          "coloraxis": {
           "colorbar": {
            "outlinewidth": 0,
            "ticks": ""
           }
          },
          "colorscale": {
           "diverging": [
            [
             0,
             "#8e0152"
            ],
            [
             0.1,
             "#c51b7d"
            ],
            [
             0.2,
             "#de77ae"
            ],
            [
             0.3,
             "#f1b6da"
            ],
            [
             0.4,
             "#fde0ef"
            ],
            [
             0.5,
             "#f7f7f7"
            ],
            [
             0.6,
             "#e6f5d0"
            ],
            [
             0.7,
             "#b8e186"
            ],
            [
             0.8,
             "#7fbc41"
            ],
            [
             0.9,
             "#4d9221"
            ],
            [
             1,
             "#276419"
            ]
           ],
           "sequential": [
            [
             0,
             "#0d0887"
            ],
            [
             0.1111111111111111,
             "#46039f"
            ],
            [
             0.2222222222222222,
             "#7201a8"
            ],
            [
             0.3333333333333333,
             "#9c179e"
            ],
            [
             0.4444444444444444,
             "#bd3786"
            ],
            [
             0.5555555555555556,
             "#d8576b"
            ],
            [
             0.6666666666666666,
             "#ed7953"
            ],
            [
             0.7777777777777778,
             "#fb9f3a"
            ],
            [
             0.8888888888888888,
             "#fdca26"
            ],
            [
             1,
             "#f0f921"
            ]
           ],
           "sequentialminus": [
            [
             0,
             "#0d0887"
            ],
            [
             0.1111111111111111,
             "#46039f"
            ],
            [
             0.2222222222222222,
             "#7201a8"
            ],
            [
             0.3333333333333333,
             "#9c179e"
            ],
            [
             0.4444444444444444,
             "#bd3786"
            ],
            [
             0.5555555555555556,
             "#d8576b"
            ],
            [
             0.6666666666666666,
             "#ed7953"
            ],
            [
             0.7777777777777778,
             "#fb9f3a"
            ],
            [
             0.8888888888888888,
             "#fdca26"
            ],
            [
             1,
             "#f0f921"
            ]
           ]
          },
          "colorway": [
           "#636efa",
           "#EF553B",
           "#00cc96",
           "#ab63fa",
           "#FFA15A",
           "#19d3f3",
           "#FF6692",
           "#B6E880",
           "#FF97FF",
           "#FECB52"
          ],
          "font": {
           "color": "#2a3f5f"
          },
          "geo": {
           "bgcolor": "white",
           "lakecolor": "white",
           "landcolor": "#E5ECF6",
           "showlakes": true,
           "showland": true,
           "subunitcolor": "white"
          },
          "hoverlabel": {
           "align": "left"
          },
          "hovermode": "closest",
          "mapbox": {
           "style": "light"
          },
          "paper_bgcolor": "white",
          "plot_bgcolor": "#E5ECF6",
          "polar": {
           "angularaxis": {
            "gridcolor": "white",
            "linecolor": "white",
            "ticks": ""
           },
           "bgcolor": "#E5ECF6",
           "radialaxis": {
            "gridcolor": "white",
            "linecolor": "white",
            "ticks": ""
           }
          },
          "scene": {
           "xaxis": {
            "backgroundcolor": "#E5ECF6",
            "gridcolor": "white",
            "gridwidth": 2,
            "linecolor": "white",
            "showbackground": true,
            "ticks": "",
            "zerolinecolor": "white"
           },
           "yaxis": {
            "backgroundcolor": "#E5ECF6",
            "gridcolor": "white",
            "gridwidth": 2,
            "linecolor": "white",
            "showbackground": true,
            "ticks": "",
            "zerolinecolor": "white"
           },
           "zaxis": {
            "backgroundcolor": "#E5ECF6",
            "gridcolor": "white",
            "gridwidth": 2,
            "linecolor": "white",
            "showbackground": true,
            "ticks": "",
            "zerolinecolor": "white"
           }
          },
          "shapedefaults": {
           "line": {
            "color": "#2a3f5f"
           }
          },
          "ternary": {
           "aaxis": {
            "gridcolor": "white",
            "linecolor": "white",
            "ticks": ""
           },
           "baxis": {
            "gridcolor": "white",
            "linecolor": "white",
            "ticks": ""
           },
           "bgcolor": "#E5ECF6",
           "caxis": {
            "gridcolor": "white",
            "linecolor": "white",
            "ticks": ""
           }
          },
          "title": {
           "x": 0.05
          },
          "xaxis": {
           "automargin": true,
           "gridcolor": "white",
           "linecolor": "white",
           "ticks": "",
           "title": {
            "standoff": 15
           },
           "zerolinecolor": "white",
           "zerolinewidth": 2
          },
          "yaxis": {
           "automargin": true,
           "gridcolor": "white",
           "linecolor": "white",
           "ticks": "",
           "title": {
            "standoff": 15
           },
           "zerolinecolor": "white",
           "zerolinewidth": 2
          }
         }
        },
        "title": {
         "text": "Offenses Per 100k Capita by State"
        }
       }
      }
     },
     "metadata": {},
     "output_type": "display_data"
    }
   ],
   "source": [
    "import plotly.express as px\n",
    "\n",
    "per_capita = merged_data_cleaned.groupby(['state_name'], as_index=False).agg({'offenses_per_100k':'sum'})\n",
    "\n",
    "\n",
    "# Sort data for clarity\n",
    "df_sorted = per_capita.sort_values('offenses_per_100k', ascending=False)\n",
    "df_sorted['offenses_per_100k'] = df_sorted['offenses_per_100k'].clip(lower=1e-5)\n",
    "\n",
    "fig = px.treemap(\n",
    "    df_sorted, \n",
    "    path=['state_name'], \n",
    "    values='offenses_per_100k', \n",
    "    color='offenses_per_100k', \n",
    "    color_continuous_scale='Bluered', \n",
    "    title='Offenses Per 100k Capita by State'\n",
    ")\n",
    "\n",
    "fig.update_layout(margin=dict(t=50, l=25, r=25, b=25))\n",
    "fig.show()\n",
    "\n"
   ]
  },
  {
   "cell_type": "markdown",
   "metadata": {},
   "source": [
    "- **Highest Offense Rates:** Delaware and Arkansas have the highest offenses per 100k capita.\n",
    "- **Moderate Rates:** States like Michigan, Kansas, Rhode Island and South Carolina show mid-range offense rates.\n",
    "- **Lowest Rates:** Alabama, Arizona, Illinois, Texas and Louisiana report the lowest offenses per 100k capita.\n",
    "- **Observation:** There are variations across the U.S.\n"
   ]
  },
  {
   "cell_type": "markdown",
   "metadata": {},
   "source": []
  }
 ],
 "metadata": {
  "kernelspec": {
   "display_name": "ADA",
   "language": "python",
   "name": "python3"
  },
  "language_info": {
   "codemirror_mode": {
    "name": "ipython",
    "version": 3
   },
   "file_extension": ".py",
   "mimetype": "text/x-python",
   "name": "python",
   "nbconvert_exporter": "python",
   "pygments_lexer": "ipython3",
   "version": "3.12.2"
  }
 },
 "nbformat": 4,
 "nbformat_minor": 2
}
