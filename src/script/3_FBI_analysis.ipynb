{
 "cells": [
  {
   "cell_type": "markdown",
   "metadata": {},
   "source": [
    "# FBI analysis\n",
    "\n",
    "In this notebook, we conduct an analysis of **violent offenses** **data** across the United States, focusing on the year **2012**. This year was selected because it provides the **most consistent** dataset across states.\n",
    "\n",
    "Our goal is to explore trends in violent offenses, normalize the data relative to population sizes, and identify patterns across states. This includes metrics like **total offenses per state** and **offenses per 100,000 inhabitants** to ensure fair comparisons between regions with different population sizes."
   ]
  },
  {
   "cell_type": "markdown",
   "metadata": {},
   "source": [
    "### Understanding the NIBRS and Crime Data Explorer (CDE)\n",
    "The **National Incident-Based Reporting System** (NIBRS) is a U.S. system for collecting and analyzing crime data. The data found on the **Crime Data Explorer** (CDE) is sourced from the **FBI’s Uniform Crime Reporting** (UCR) Program, which collects information from over **18,000 federal, state, local, tribal and territorial law enforcement agencies** across the U.S. (Source: [CDE](https://cde.ucr.cjis.gov/LATEST/webapp/#/pages/explorer/crime/crime-trend)).\n",
    "\n",
    "#### Key points about this data:\n",
    "* The report is **voluntary for non-federal agencies** and depends on **state participation** or **direct submissions** to the FBI.\n",
    "* It reflects **reported crimes** and may not include all crime occurrences.\n",
    "* Various **confounders factors** (socio-economic and legal factors such as population size, economic conditions, etc.) influence crime reporting and activity.\n",
    "#### Why NIBRS Data is useful for our analysis\n",
    "* **Insights**: It provides specific details about incidents (including their exact dates, types, victim injuries and locations).\n",
    "* **Types of offenses**: Knowing the nature of offenses helps us classify crimes by their violent range.\n",
    "* **Definition**: of violent crime  The FBI categorizes violent crimes into **four offenses**: *homicide, rape, robbery, and aggravated assault, all involving force or threats* (Source: [CDE](https://cde.ucr.cjis.gov/LATEST/webapp/#/pages/explorer/crime/crime-trend)).\n",
    "  \n",
    "For our analysis, we **adjusted these categories** to include offenses that are clearly violent but were not classified as such by the FBI (e.g., Animal Cruelty)\n",
    "\n",
    "The following analysis focuses on the year **2012**, which was the year when most states reported crimes."
   ]
  },
  {
   "cell_type": "code",
   "execution_count": 1,
   "metadata": {},
   "outputs": [
    {
     "name": "stdout",
     "output_type": "stream",
     "text": [
      "Counts per state and offense:\n",
      "    state_prefix                              offense_type  count\n",
      "0             AL                                     Arson      1\n",
      "1             AL                          Assault Offenses    825\n",
      "2             AL              Burglary/Breaking & Entering    391\n",
      "3             AL                    Counterfeiting/Forgery     55\n",
      "4             AL  Destruction/Damage/Vandalism of Property    280\n",
      "..           ...                                       ...    ...\n",
      "650           WV                     Prostitution Offenses    125\n",
      "651           WV                                   Robbery    780\n",
      "652           WV                              Sex Offenses   1246\n",
      "653           WV                  Stolen Property Offenses    855\n",
      "654           WV                     Weapon Law Violations    975\n",
      "\n",
      "[655 rows x 3 columns]\n",
      "\n",
      "Counts per offense:\n",
      "                                offense_type    count\n",
      "0                     Larceny/Theft Offenses  1582037\n",
      "1                           Assault Offenses   976849\n",
      "2   Destruction/Damage/Vandalism of Property   724915\n",
      "3               Burglary/Breaking & Entering   539127\n",
      "4                     Drug/Narcotic Offenses   537641\n",
      "5                             Fraud Offenses   238585\n",
      "6                        Motor Vehicle Theft   156229\n",
      "7                               Sex Offenses    70720\n",
      "8                     Counterfeiting/Forgery    69286\n",
      "9                                    Robbery    65980\n",
      "10                     Weapon Law Violations    60252\n",
      "11                  Stolen Property Offenses    34199\n",
      "12                              Embezzlement    15204\n",
      "13                                     Arson    14310\n",
      "14                      Kidnapping/Abduction    12400\n",
      "15                     Prostitution Offenses     8224\n",
      "16              Pornography/Obscene Material     5569\n",
      "17                         Homicide Offenses     3311\n",
      "18                       Extortion/Blackmail     1089\n",
      "19                         Gambling Offenses      899\n",
      "20                                   Bribery      304\n",
      "Results saved in 'offense_analysis.xlsx'\n"
     ]
    }
   ],
   "source": [
    "#----------------------------------------------------------------------------\n",
    "# Generate 2 datasets: offenses group by state and type of offenses in 2012, \n",
    "#                      offenses group by type of offenses in 2012\n",
    "#----------------------------------------------------------------------------\n",
    "import pandas as pd\n",
    "\n",
    "data = pd.read_csv(\"../../data/CLEAN/2012.csv\")\n",
    "\n",
    "# To ensure state prefixes are consistent\n",
    "data['state_prefix'] = data['state_prefix'].str.strip().str[:2].str.upper()\n",
    "\n",
    "# Count per state for the same offense\n",
    "state_offense_count = data.groupby(['state_prefix', 'offense_type']).size().reset_index(name='count')\n",
    "\n",
    "# Count per offense\n",
    "offense_count = data['offense_type'].value_counts().reset_index()\n",
    "offense_count.columns = ['offense_type', 'count']\n",
    "\n",
    "# Save results\n",
    "state_offense_count.to_csv(\"state_offense_count.csv\", index=False)\n",
    "offense_count.to_csv(\"offense_count.csv\", index=False)\n",
    "\n",
    "# Display the results\n",
    "print(\"Counts per state and offense:\")\n",
    "print(state_offense_count)\n",
    "\n",
    "print(\"\\nCounts per offense:\")\n",
    "print(offense_count)\n",
    "\n",
    "with pd.ExcelWriter(\"offense_analysis.xlsx\") as writer:\n",
    "    state_offense_count.to_excel(writer, sheet_name=\"State_Offense_Count\", index=False)\n",
    "    offense_count.to_excel(writer, sheet_name=\"Offense_Count\", index=False)\n",
    "\n",
    "print(\"Results saved in 'offense_analysis.xlsx'\")\n"
   ]
  },
  {
   "cell_type": "code",
   "execution_count": 2,
   "metadata": {},
   "outputs": [],
   "source": [
    "# Save in an xlsx for Flourish use\n",
    "state_offense_count.to_excel('../../data/CLEAN/statecount.xlsx')\n",
    "offense_count.to_excel('../../data/CLEAN/offensecount.xlsx')"
   ]
  },
  {
   "cell_type": "code",
   "execution_count": 3,
   "metadata": {},
   "outputs": [],
   "source": [
    "#-----------------------------------------------------------------------\n",
    "# For better visualization, we will use state's name instead of prefixes\n",
    "#-----------------------------------------------------------------------\n",
    "# Dictionary mapping state prefixes to full state names\n",
    "state_prefix_to_name = {\n",
    "    \"AL\": \"Alabama\",\n",
    "    \"AK\": \"Alaska\",\n",
    "    \"AZ\": \"Arizona\",\n",
    "    \"AR\": \"Arkansas\",\n",
    "    \"CA\": \"California\",\n",
    "    \"CO\": \"Colorado\",\n",
    "    \"CT\": \"Connecticut\",\n",
    "    \"DE\": \"Delaware\",\n",
    "    \"DC\": \"District of Columbia\",\n",
    "    \"FL\": \"Florida\",\n",
    "    \"GA\": \"Georgia\",\n",
    "    \"HI\": \"Hawaii\",\n",
    "    \"ID\": \"Idaho\",\n",
    "    \"IL\": \"Illinois\",\n",
    "    \"IN\": \"Indiana\",\n",
    "    \"IA\": \"Iowa\",\n",
    "    \"KS\": \"Kansas\",\n",
    "    \"KY\": \"Kentucky\",\n",
    "    \"LA\": \"Louisiana\",\n",
    "    \"ME\": \"Maine\",\n",
    "    \"MD\": \"Maryland\",\n",
    "    \"MA\": \"Massachusetts\",\n",
    "    \"MI\": \"Michigan\",\n",
    "    \"MN\": \"Minnesota\",\n",
    "    \"MS\": \"Mississippi\",\n",
    "    \"MO\": \"Missouri\",\n",
    "    \"MT\": \"Montana\",\n",
    "    \"NE\": \"Nebraska\",\n",
    "    \"NV\": \"Nevada\",\n",
    "    \"NH\": \"New Hampshire\",\n",
    "    \"NJ\": \"New Jersey\",\n",
    "    \"NM\": \"New Mexico\",\n",
    "    \"NY\": \"New York\",\n",
    "    \"NC\": \"North Carolina\",\n",
    "    \"ND\": \"North Dakota\",\n",
    "    \"OH\": \"Ohio\",\n",
    "    \"OK\": \"Oklahoma\",\n",
    "    \"OR\": \"Oregon\",\n",
    "    \"PA\": \"Pennsylvania\",\n",
    "    \"RI\": \"Rhode Island\",\n",
    "    \"SC\": \"South Carolina\",\n",
    "    \"SD\": \"South Dakota\",\n",
    "    \"TN\": \"Tennessee\",\n",
    "    \"TX\": \"Texas\",\n",
    "    \"UT\": \"Utah\",\n",
    "    \"VT\": \"Vermont\",\n",
    "    \"VA\": \"Virginia\",\n",
    "    \"WA\": \"Washington\",\n",
    "    \"WV\": \"West Virginia\",\n",
    "    \"WI\": \"Wisconsin\",\n",
    "    \"WY\": \"Wyoming\"\n",
    "} # generated by ChatGPT\n",
    "\n",
    "data = pd.read_excel(\"../../data/CLEAN/statecount.xlsx\")\n",
    "\n",
    "# Map the state prefixes to full names\n",
    "data['state_name'] = data['state_prefix'].map(state_prefix_to_name)\n",
    "\n",
    "# Save the updated df\n",
    "data.to_excel(\"../../data/CLEAN/updatedstatecount.xlsx\", index=False)\n"
   ]
  },
  {
   "cell_type": "markdown",
   "metadata": {},
   "source": [
    "### Adjustments for Our Analysis\n",
    "As mentioned previously, we included additional offenses directly targeting individuals, such as:\n",
    "- Larceny/Theft Offenses\n",
    "- Assault Offenses\n",
    "- Destruction/Damage/Vandalism of Property\n",
    "- Burglary/Breaking & Entering\n",
    "- Sex Offenses\n",
    "- Robbery\n",
    "- Arson\n",
    "- Kidnapping/Abduction\n",
    "- Animal Cruelty\n",
    "- Homicide Offenses\n",
    "- Etc.\n",
    "#### Selected violent offenses from previous analysis"
   ]
  },
  {
   "cell_type": "code",
   "execution_count": 4,
   "metadata": {},
   "outputs": [],
   "source": [
    "violent_offenses = [\"Larceny/Theft Offenses\", \"Assault Offenses\", \"Destruction/Damage/Vandalism of Property\",\n",
    "                    \"Burglary/Breaking & Entering\", \"Sex Offenses\", \"Robbery\", \"Arson\", \"Kidnapping/Abduction\", \"Homicide Offenses\"]"
   ]
  },
  {
   "cell_type": "markdown",
   "metadata": {},
   "source": [
    "#### Filter offense types"
   ]
  },
  {
   "cell_type": "code",
   "execution_count": 5,
   "metadata": {},
   "outputs": [
    {
     "data": {
      "text/html": [
       "<div>\n",
       "<style scoped>\n",
       "    .dataframe tbody tr th:only-of-type {\n",
       "        vertical-align: middle;\n",
       "    }\n",
       "\n",
       "    .dataframe tbody tr th {\n",
       "        vertical-align: top;\n",
       "    }\n",
       "\n",
       "    .dataframe thead th {\n",
       "        text-align: right;\n",
       "    }\n",
       "</style>\n",
       "<table border=\"1\" class=\"dataframe\">\n",
       "  <thead>\n",
       "    <tr style=\"text-align: right;\">\n",
       "      <th></th>\n",
       "      <th>state_prefix</th>\n",
       "      <th>offense_type</th>\n",
       "      <th>count</th>\n",
       "      <th>state_name</th>\n",
       "    </tr>\n",
       "  </thead>\n",
       "  <tbody>\n",
       "    <tr>\n",
       "      <th>0</th>\n",
       "      <td>AL</td>\n",
       "      <td>Arson</td>\n",
       "      <td>1</td>\n",
       "      <td>Alabama</td>\n",
       "    </tr>\n",
       "    <tr>\n",
       "      <th>1</th>\n",
       "      <td>AL</td>\n",
       "      <td>Assault Offenses</td>\n",
       "      <td>825</td>\n",
       "      <td>Alabama</td>\n",
       "    </tr>\n",
       "    <tr>\n",
       "      <th>2</th>\n",
       "      <td>AL</td>\n",
       "      <td>Burglary/Breaking &amp; Entering</td>\n",
       "      <td>391</td>\n",
       "      <td>Alabama</td>\n",
       "    </tr>\n",
       "    <tr>\n",
       "      <th>4</th>\n",
       "      <td>AL</td>\n",
       "      <td>Destruction/Damage/Vandalism of Property</td>\n",
       "      <td>280</td>\n",
       "      <td>Alabama</td>\n",
       "    </tr>\n",
       "    <tr>\n",
       "      <th>8</th>\n",
       "      <td>AL</td>\n",
       "      <td>Homicide Offenses</td>\n",
       "      <td>2</td>\n",
       "      <td>Alabama</td>\n",
       "    </tr>\n",
       "    <tr>\n",
       "      <th>...</th>\n",
       "      <td>...</td>\n",
       "      <td>...</td>\n",
       "      <td>...</td>\n",
       "      <td>...</td>\n",
       "    </tr>\n",
       "    <tr>\n",
       "      <th>645</th>\n",
       "      <td>WV</td>\n",
       "      <td>Homicide Offenses</td>\n",
       "      <td>63</td>\n",
       "      <td>West Virginia</td>\n",
       "    </tr>\n",
       "    <tr>\n",
       "      <th>646</th>\n",
       "      <td>WV</td>\n",
       "      <td>Kidnapping/Abduction</td>\n",
       "      <td>117</td>\n",
       "      <td>West Virginia</td>\n",
       "    </tr>\n",
       "    <tr>\n",
       "      <th>647</th>\n",
       "      <td>WV</td>\n",
       "      <td>Larceny/Theft Offenses</td>\n",
       "      <td>28676</td>\n",
       "      <td>West Virginia</td>\n",
       "    </tr>\n",
       "    <tr>\n",
       "      <th>651</th>\n",
       "      <td>WV</td>\n",
       "      <td>Robbery</td>\n",
       "      <td>780</td>\n",
       "      <td>West Virginia</td>\n",
       "    </tr>\n",
       "    <tr>\n",
       "      <th>652</th>\n",
       "      <td>WV</td>\n",
       "      <td>Sex Offenses</td>\n",
       "      <td>1246</td>\n",
       "      <td>West Virginia</td>\n",
       "    </tr>\n",
       "  </tbody>\n",
       "</table>\n",
       "<p>287 rows × 4 columns</p>\n",
       "</div>"
      ],
      "text/plain": [
       "    state_prefix                              offense_type  count  \\\n",
       "0             AL                                     Arson      1   \n",
       "1             AL                          Assault Offenses    825   \n",
       "2             AL              Burglary/Breaking & Entering    391   \n",
       "4             AL  Destruction/Damage/Vandalism of Property    280   \n",
       "8             AL                         Homicide Offenses      2   \n",
       "..           ...                                       ...    ...   \n",
       "645           WV                         Homicide Offenses     63   \n",
       "646           WV                      Kidnapping/Abduction    117   \n",
       "647           WV                    Larceny/Theft Offenses  28676   \n",
       "651           WV                                   Robbery    780   \n",
       "652           WV                              Sex Offenses   1246   \n",
       "\n",
       "        state_name  \n",
       "0          Alabama  \n",
       "1          Alabama  \n",
       "2          Alabama  \n",
       "4          Alabama  \n",
       "8          Alabama  \n",
       "..             ...  \n",
       "645  West Virginia  \n",
       "646  West Virginia  \n",
       "647  West Virginia  \n",
       "651  West Virginia  \n",
       "652  West Virginia  \n",
       "\n",
       "[287 rows x 4 columns]"
      ]
     },
     "execution_count": 5,
     "metadata": {},
     "output_type": "execute_result"
    }
   ],
   "source": [
    "filtered_data = data[data['offense_type'].isin(violent_offenses)]\n",
    "filtered_data.to_excel(\"../../data/CLEAN/violentstatecount.xlsx\", index=False)\n",
    "filtered_data = filtered_data.drop(columns=[\"Unnamed: 0\"])\n",
    "filtered_data"
   ]
  },
  {
   "cell_type": "markdown",
   "metadata": {},
   "source": [
    "We also wanted to normalize the data to **offenses per 100k capita** for a more accurate comparison across states. This method will reveal that some states with a high count of crimes had lower rates when adjusted for population..."
   ]
  },
  {
   "cell_type": "markdown",
   "metadata": {},
   "source": [
    "# Normalization per capita\n",
    "\n",
    "In order to better visualize the violent offenses, the count of each offenses was normalized using data from [Fact Monster](https://www.factmonster.com/us/fifty-states/state-population-rank-2012).\n",
    "\n",
    "Normalization was performed to provide better insights through the metric **offenses per 100k capita**."
   ]
  },
  {
   "cell_type": "code",
   "execution_count": 6,
   "metadata": {},
   "outputs": [
    {
     "data": {
      "text/html": [
       "<div>\n",
       "<style scoped>\n",
       "    .dataframe tbody tr th:only-of-type {\n",
       "        vertical-align: middle;\n",
       "    }\n",
       "\n",
       "    .dataframe tbody tr th {\n",
       "        vertical-align: top;\n",
       "    }\n",
       "\n",
       "    .dataframe thead th {\n",
       "        text-align: right;\n",
       "    }\n",
       "</style>\n",
       "<table border=\"1\" class=\"dataframe\">\n",
       "  <thead>\n",
       "    <tr style=\"text-align: right;\">\n",
       "      <th></th>\n",
       "      <th>State</th>\n",
       "      <th>Population</th>\n",
       "    </tr>\n",
       "  </thead>\n",
       "  <tbody>\n",
       "    <tr>\n",
       "      <th>27</th>\n",
       "      <td>Oklahoma</td>\n",
       "      <td>3814820</td>\n",
       "    </tr>\n",
       "    <tr>\n",
       "      <th>13</th>\n",
       "      <td>Massachusetts</td>\n",
       "      <td>6646144</td>\n",
       "    </tr>\n",
       "    <tr>\n",
       "      <th>24</th>\n",
       "      <td>Louisiana</td>\n",
       "      <td>4601893</td>\n",
       "    </tr>\n",
       "    <tr>\n",
       "      <th>43</th>\n",
       "      <td>Montana</td>\n",
       "      <td>1005141</td>\n",
       "    </tr>\n",
       "    <tr>\n",
       "      <th>48</th>\n",
       "      <td>DC</td>\n",
       "      <td>632323</td>\n",
       "    </tr>\n",
       "    <tr>\n",
       "      <th>26</th>\n",
       "      <td>Oregon</td>\n",
       "      <td>3899353</td>\n",
       "    </tr>\n",
       "    <tr>\n",
       "      <th>38</th>\n",
       "      <td>Idaho</td>\n",
       "      <td>1595728</td>\n",
       "    </tr>\n",
       "    <tr>\n",
       "      <th>15</th>\n",
       "      <td>Indiana</td>\n",
       "      <td>6537334</td>\n",
       "    </tr>\n",
       "    <tr>\n",
       "      <th>28</th>\n",
       "      <td>Connecticut</td>\n",
       "      <td>3590347</td>\n",
       "    </tr>\n",
       "    <tr>\n",
       "      <th>32</th>\n",
       "      <td>Kansas</td>\n",
       "      <td>2885905</td>\n",
       "    </tr>\n",
       "  </tbody>\n",
       "</table>\n",
       "</div>"
      ],
      "text/plain": [
       "            State  Population\n",
       "27       Oklahoma     3814820\n",
       "13  Massachusetts     6646144\n",
       "24      Louisiana     4601893\n",
       "43        Montana     1005141\n",
       "48             DC      632323\n",
       "26         Oregon     3899353\n",
       "38          Idaho     1595728\n",
       "15        Indiana     6537334\n",
       "28    Connecticut     3590347\n",
       "32         Kansas     2885905"
      ]
     },
     "execution_count": 6,
     "metadata": {},
     "output_type": "execute_result"
    }
   ],
   "source": [
    "# Data about population from Fact Monster\n",
    "population = pd.read_csv('../../data/CLEAN/state_population_data.csv')\n",
    "population.sample(10)"
   ]
  },
  {
   "cell_type": "markdown",
   "metadata": {},
   "source": [
    "#### Normalization based on population"
   ]
  },
  {
   "cell_type": "code",
   "execution_count": 7,
   "metadata": {},
   "outputs": [],
   "source": [
    "# Merge violent offense data with population data based on state name\n",
    "merged_data = pd.merge(\n",
    "    filtered_data,\n",
    "    population,\n",
    "    left_on=\"state_name\",  # Column in violent offense data\n",
    "    right_on=\"State\",      # Column in population data\n",
    "    how=\"left\"             # Keep all violent offense data\n",
    ")\n",
    "\n",
    "# Calculate normalized offenses per 100,000 people\n",
    "merged_data[\"offenses_per_100k\"] = (merged_data[\"count\"] / merged_data[\"Population\"]) * 100000\n",
    "\n",
    "# Drop unnecessary columns\n",
    "merged_data_cleaned = merged_data.drop(columns=[\"State\", merged_data.columns[0]], errors=\"ignore\")\n",
    "\n",
    "# Save the cleaned and normalized data to a new CSV\n",
    "output_file_path = \"../../data/CLEAN/normalized_violent_offenses.csv\"\n",
    "merged_data_cleaned.to_csv(output_file_path, index=False)\n",
    "merged_data_cleaned.to_excel(\"../../data/CLEAN/normalized_violent_offenses.xlsx\" )\n"
   ]
  },
  {
   "cell_type": "code",
   "execution_count": 8,
   "metadata": {},
   "outputs": [],
   "source": [
    "# Merge violent offense data with population data based on state name\n",
    "merged_data = pd.merge(\n",
    "    data,\n",
    "    population,\n",
    "    left_on=\"state_name\",  # Column in violent offense data\n",
    "    right_on=\"State\",      # Column in population data\n",
    "    how=\"left\"             # Keep all violent offense data\n",
    ")\n",
    "\n",
    "# Calculate normalized offenses per 100,000 people\n",
    "merged_data[\"offenses_per_100k\"] = (merged_data[\"count\"] / merged_data[\"Population\"]) * 100000\n",
    "\n",
    "# Drop unnecessary columns\n",
    "merged_data_cleaned = merged_data.drop(columns=[\"Unnamed: 0\", \"State\", merged_data.columns[0]], errors=\"ignore\")\n",
    "\n",
    "# Save the cleaned and normalized data to a new CSV\n",
    "output_file_path = \"../../data/CLEAN/normalized_offenses.csv\"\n",
    "merged_data_cleaned.to_csv(output_file_path, index=False)\n",
    "merged_data_cleaned.to_excel(\"../../data/CLEAN/normalized_offenses.xlsx\")"
   ]
  },
  {
   "cell_type": "markdown",
   "metadata": {},
   "source": [
    "## Observing Trends Over Time"
   ]
  },
  {
   "cell_type": "code",
   "execution_count": 9,
   "metadata": {},
   "outputs": [
    {
     "data": {
      "application/vnd.plotly.v1+json": {
       "config": {
        "plotlyServerURL": "https://plot.ly"
       },
       "data": [
        {
         "branchvalues": "total",
         "customdata": [
          [
           4263
          ],
          [
           15880
          ],
          [
           240107
          ],
          [
           292160
          ],
          [
           110590
          ],
          [
           89332
          ],
          [
           3451
          ],
          [
           79009
          ],
          [
           20564
          ],
          [
           151261
          ],
          [
           181001
          ],
          [
           179253
          ],
          [
           41454
          ],
          [
           19141
          ],
          [
           271573
          ],
          [
           589804
          ],
          [
           69597
          ],
          [
           34124
          ],
          [
           71619
          ],
          [
           37420
          ],
          [
           577413
          ],
          [
           55547
          ],
          [
           84209
          ],
          [
           15
          ],
          [
           58575
          ],
          [
           416802
          ],
          [
           41323
          ],
          [
           546766
          ],
          [
           217773
          ],
          [
           171327
          ],
          [
           30146
          ],
          [
           324366
          ],
          [
           91265
          ]
         ],
         "domain": {
          "x": [
           0,
           1
          ],
          "y": [
           0,
           1
          ]
         },
         "hovertemplate": "labels=%{label}<br>count_sum=%{value}<br>parent=%{parent}<br>id=%{id}<br>count=%{color}<extra></extra>",
         "ids": [
          "Alabama",
          "Arizona",
          "Arkansas",
          "Colorado",
          "Connecticut",
          "Delaware",
          "District of Columbia",
          "Idaho",
          "Illinois",
          "Iowa",
          "Kansas",
          "Kentucky",
          "Louisiana",
          "Maine",
          "Massachusetts",
          "Michigan",
          "Missouri",
          "Nebraska",
          "New Hampshire",
          "North Dakota",
          "Ohio",
          "Oklahoma",
          "Oregon",
          "Pennsylvania",
          "Rhode Island",
          "South Carolina",
          "South Dakota",
          "Tennessee",
          "Texas",
          "Utah",
          "Vermont",
          "Washington",
          "West Virginia"
         ],
         "labels": [
          "Alabama",
          "Arizona",
          "Arkansas",
          "Colorado",
          "Connecticut",
          "Delaware",
          "District of Columbia",
          "Idaho",
          "Illinois",
          "Iowa",
          "Kansas",
          "Kentucky",
          "Louisiana",
          "Maine",
          "Massachusetts",
          "Michigan",
          "Missouri",
          "Nebraska",
          "New Hampshire",
          "North Dakota",
          "Ohio",
          "Oklahoma",
          "Oregon",
          "Pennsylvania",
          "Rhode Island",
          "South Carolina",
          "South Dakota",
          "Tennessee",
          "Texas",
          "Utah",
          "Vermont",
          "Washington",
          "West Virginia"
         ],
         "marker": {
          "coloraxis": "coloraxis",
          "colors": [
           4263,
           15880,
           240107,
           292160,
           110590,
           89332,
           3451,
           79009,
           20564,
           151261,
           181001,
           179253,
           41454,
           19141,
           271573,
           589804,
           69597,
           34124,
           71619,
           37420,
           577413,
           55547,
           84209,
           15,
           58575,
           416802,
           41323,
           546766,
           217773,
           171327,
           30146,
           324366,
           91265
          ]
         },
         "name": "",
         "parents": [
          "",
          "",
          "",
          "",
          "",
          "",
          "",
          "",
          "",
          "",
          "",
          "",
          "",
          "",
          "",
          "",
          "",
          "",
          "",
          "",
          "",
          "",
          "",
          "",
          "",
          "",
          "",
          "",
          "",
          "",
          "",
          "",
          ""
         ],
         "type": "treemap",
         "values": [
          4263,
          15880,
          240107,
          292160,
          110590,
          89332,
          3451,
          79009,
          20564,
          151261,
          181001,
          179253,
          41454,
          19141,
          271573,
          589804,
          69597,
          34124,
          71619,
          37420,
          577413,
          55547,
          84209,
          15,
          58575,
          416802,
          41323,
          546766,
          217773,
          171327,
          30146,
          324366,
          91265
         ]
        }
       ],
       "layout": {
        "coloraxis": {
         "colorbar": {
          "title": {
           "text": "count"
          }
         },
         "colorscale": [
          [
           0,
           "rgb(0,0,255)"
          ],
          [
           1,
           "rgb(255,0,0)"
          ]
         ]
        },
        "legend": {
         "tracegroupgap": 0
        },
        "margin": {
         "b": 25,
         "l": 25,
         "r": 25,
         "t": 50
        },
        "template": {
         "data": {
          "bar": [
           {
            "error_x": {
             "color": "#2a3f5f"
            },
            "error_y": {
             "color": "#2a3f5f"
            },
            "marker": {
             "line": {
              "color": "#E5ECF6",
              "width": 0.5
             },
             "pattern": {
              "fillmode": "overlay",
              "size": 10,
              "solidity": 0.2
             }
            },
            "type": "bar"
           }
          ],
          "barpolar": [
           {
            "marker": {
             "line": {
              "color": "#E5ECF6",
              "width": 0.5
             },
             "pattern": {
              "fillmode": "overlay",
              "size": 10,
              "solidity": 0.2
             }
            },
            "type": "barpolar"
           }
          ],
          "carpet": [
           {
            "aaxis": {
             "endlinecolor": "#2a3f5f",
             "gridcolor": "white",
             "linecolor": "white",
             "minorgridcolor": "white",
             "startlinecolor": "#2a3f5f"
            },
            "baxis": {
             "endlinecolor": "#2a3f5f",
             "gridcolor": "white",
             "linecolor": "white",
             "minorgridcolor": "white",
             "startlinecolor": "#2a3f5f"
            },
            "type": "carpet"
           }
          ],
          "choropleth": [
           {
            "colorbar": {
             "outlinewidth": 0,
             "ticks": ""
            },
            "type": "choropleth"
           }
          ],
          "contour": [
           {
            "colorbar": {
             "outlinewidth": 0,
             "ticks": ""
            },
            "colorscale": [
             [
              0,
              "#0d0887"
             ],
             [
              0.1111111111111111,
              "#46039f"
             ],
             [
              0.2222222222222222,
              "#7201a8"
             ],
             [
              0.3333333333333333,
              "#9c179e"
             ],
             [
              0.4444444444444444,
              "#bd3786"
             ],
             [
              0.5555555555555556,
              "#d8576b"
             ],
             [
              0.6666666666666666,
              "#ed7953"
             ],
             [
              0.7777777777777778,
              "#fb9f3a"
             ],
             [
              0.8888888888888888,
              "#fdca26"
             ],
             [
              1,
              "#f0f921"
             ]
            ],
            "type": "contour"
           }
          ],
          "contourcarpet": [
           {
            "colorbar": {
             "outlinewidth": 0,
             "ticks": ""
            },
            "type": "contourcarpet"
           }
          ],
          "heatmap": [
           {
            "colorbar": {
             "outlinewidth": 0,
             "ticks": ""
            },
            "colorscale": [
             [
              0,
              "#0d0887"
             ],
             [
              0.1111111111111111,
              "#46039f"
             ],
             [
              0.2222222222222222,
              "#7201a8"
             ],
             [
              0.3333333333333333,
              "#9c179e"
             ],
             [
              0.4444444444444444,
              "#bd3786"
             ],
             [
              0.5555555555555556,
              "#d8576b"
             ],
             [
              0.6666666666666666,
              "#ed7953"
             ],
             [
              0.7777777777777778,
              "#fb9f3a"
             ],
             [
              0.8888888888888888,
              "#fdca26"
             ],
             [
              1,
              "#f0f921"
             ]
            ],
            "type": "heatmap"
           }
          ],
          "heatmapgl": [
           {
            "colorbar": {
             "outlinewidth": 0,
             "ticks": ""
            },
            "colorscale": [
             [
              0,
              "#0d0887"
             ],
             [
              0.1111111111111111,
              "#46039f"
             ],
             [
              0.2222222222222222,
              "#7201a8"
             ],
             [
              0.3333333333333333,
              "#9c179e"
             ],
             [
              0.4444444444444444,
              "#bd3786"
             ],
             [
              0.5555555555555556,
              "#d8576b"
             ],
             [
              0.6666666666666666,
              "#ed7953"
             ],
             [
              0.7777777777777778,
              "#fb9f3a"
             ],
             [
              0.8888888888888888,
              "#fdca26"
             ],
             [
              1,
              "#f0f921"
             ]
            ],
            "type": "heatmapgl"
           }
          ],
          "histogram": [
           {
            "marker": {
             "pattern": {
              "fillmode": "overlay",
              "size": 10,
              "solidity": 0.2
             }
            },
            "type": "histogram"
           }
          ],
          "histogram2d": [
           {
            "colorbar": {
             "outlinewidth": 0,
             "ticks": ""
            },
            "colorscale": [
             [
              0,
              "#0d0887"
             ],
             [
              0.1111111111111111,
              "#46039f"
             ],
             [
              0.2222222222222222,
              "#7201a8"
             ],
             [
              0.3333333333333333,
              "#9c179e"
             ],
             [
              0.4444444444444444,
              "#bd3786"
             ],
             [
              0.5555555555555556,
              "#d8576b"
             ],
             [
              0.6666666666666666,
              "#ed7953"
             ],
             [
              0.7777777777777778,
              "#fb9f3a"
             ],
             [
              0.8888888888888888,
              "#fdca26"
             ],
             [
              1,
              "#f0f921"
             ]
            ],
            "type": "histogram2d"
           }
          ],
          "histogram2dcontour": [
           {
            "colorbar": {
             "outlinewidth": 0,
             "ticks": ""
            },
            "colorscale": [
             [
              0,
              "#0d0887"
             ],
             [
              0.1111111111111111,
              "#46039f"
             ],
             [
              0.2222222222222222,
              "#7201a8"
             ],
             [
              0.3333333333333333,
              "#9c179e"
             ],
             [
              0.4444444444444444,
              "#bd3786"
             ],
             [
              0.5555555555555556,
              "#d8576b"
             ],
             [
              0.6666666666666666,
              "#ed7953"
             ],
             [
              0.7777777777777778,
              "#fb9f3a"
             ],
             [
              0.8888888888888888,
              "#fdca26"
             ],
             [
              1,
              "#f0f921"
             ]
            ],
            "type": "histogram2dcontour"
           }
          ],
          "mesh3d": [
           {
            "colorbar": {
             "outlinewidth": 0,
             "ticks": ""
            },
            "type": "mesh3d"
           }
          ],
          "parcoords": [
           {
            "line": {
             "colorbar": {
              "outlinewidth": 0,
              "ticks": ""
             }
            },
            "type": "parcoords"
           }
          ],
          "pie": [
           {
            "automargin": true,
            "type": "pie"
           }
          ],
          "scatter": [
           {
            "fillpattern": {
             "fillmode": "overlay",
             "size": 10,
             "solidity": 0.2
            },
            "type": "scatter"
           }
          ],
          "scatter3d": [
           {
            "line": {
             "colorbar": {
              "outlinewidth": 0,
              "ticks": ""
             }
            },
            "marker": {
             "colorbar": {
              "outlinewidth": 0,
              "ticks": ""
             }
            },
            "type": "scatter3d"
           }
          ],
          "scattercarpet": [
           {
            "marker": {
             "colorbar": {
              "outlinewidth": 0,
              "ticks": ""
             }
            },
            "type": "scattercarpet"
           }
          ],
          "scattergeo": [
           {
            "marker": {
             "colorbar": {
              "outlinewidth": 0,
              "ticks": ""
             }
            },
            "type": "scattergeo"
           }
          ],
          "scattergl": [
           {
            "marker": {
             "colorbar": {
              "outlinewidth": 0,
              "ticks": ""
             }
            },
            "type": "scattergl"
           }
          ],
          "scattermapbox": [
           {
            "marker": {
             "colorbar": {
              "outlinewidth": 0,
              "ticks": ""
             }
            },
            "type": "scattermapbox"
           }
          ],
          "scatterpolar": [
           {
            "marker": {
             "colorbar": {
              "outlinewidth": 0,
              "ticks": ""
             }
            },
            "type": "scatterpolar"
           }
          ],
          "scatterpolargl": [
           {
            "marker": {
             "colorbar": {
              "outlinewidth": 0,
              "ticks": ""
             }
            },
            "type": "scatterpolargl"
           }
          ],
          "scatterternary": [
           {
            "marker": {
             "colorbar": {
              "outlinewidth": 0,
              "ticks": ""
             }
            },
            "type": "scatterternary"
           }
          ],
          "surface": [
           {
            "colorbar": {
             "outlinewidth": 0,
             "ticks": ""
            },
            "colorscale": [
             [
              0,
              "#0d0887"
             ],
             [
              0.1111111111111111,
              "#46039f"
             ],
             [
              0.2222222222222222,
              "#7201a8"
             ],
             [
              0.3333333333333333,
              "#9c179e"
             ],
             [
              0.4444444444444444,
              "#bd3786"
             ],
             [
              0.5555555555555556,
              "#d8576b"
             ],
             [
              0.6666666666666666,
              "#ed7953"
             ],
             [
              0.7777777777777778,
              "#fb9f3a"
             ],
             [
              0.8888888888888888,
              "#fdca26"
             ],
             [
              1,
              "#f0f921"
             ]
            ],
            "type": "surface"
           }
          ],
          "table": [
           {
            "cells": {
             "fill": {
              "color": "#EBF0F8"
             },
             "line": {
              "color": "white"
             }
            },
            "header": {
             "fill": {
              "color": "#C8D4E3"
             },
             "line": {
              "color": "white"
             }
            },
            "type": "table"
           }
          ]
         },
         "layout": {
          "annotationdefaults": {
           "arrowcolor": "#2a3f5f",
           "arrowhead": 0,
           "arrowwidth": 1
          },
          "autotypenumbers": "strict",
          "coloraxis": {
           "colorbar": {
            "outlinewidth": 0,
            "ticks": ""
           }
          },
          "colorscale": {
           "diverging": [
            [
             0,
             "#8e0152"
            ],
            [
             0.1,
             "#c51b7d"
            ],
            [
             0.2,
             "#de77ae"
            ],
            [
             0.3,
             "#f1b6da"
            ],
            [
             0.4,
             "#fde0ef"
            ],
            [
             0.5,
             "#f7f7f7"
            ],
            [
             0.6,
             "#e6f5d0"
            ],
            [
             0.7,
             "#b8e186"
            ],
            [
             0.8,
             "#7fbc41"
            ],
            [
             0.9,
             "#4d9221"
            ],
            [
             1,
             "#276419"
            ]
           ],
           "sequential": [
            [
             0,
             "#0d0887"
            ],
            [
             0.1111111111111111,
             "#46039f"
            ],
            [
             0.2222222222222222,
             "#7201a8"
            ],
            [
             0.3333333333333333,
             "#9c179e"
            ],
            [
             0.4444444444444444,
             "#bd3786"
            ],
            [
             0.5555555555555556,
             "#d8576b"
            ],
            [
             0.6666666666666666,
             "#ed7953"
            ],
            [
             0.7777777777777778,
             "#fb9f3a"
            ],
            [
             0.8888888888888888,
             "#fdca26"
            ],
            [
             1,
             "#f0f921"
            ]
           ],
           "sequentialminus": [
            [
             0,
             "#0d0887"
            ],
            [
             0.1111111111111111,
             "#46039f"
            ],
            [
             0.2222222222222222,
             "#7201a8"
            ],
            [
             0.3333333333333333,
             "#9c179e"
            ],
            [
             0.4444444444444444,
             "#bd3786"
            ],
            [
             0.5555555555555556,
             "#d8576b"
            ],
            [
             0.6666666666666666,
             "#ed7953"
            ],
            [
             0.7777777777777778,
             "#fb9f3a"
            ],
            [
             0.8888888888888888,
             "#fdca26"
            ],
            [
             1,
             "#f0f921"
            ]
           ]
          },
          "colorway": [
           "#636efa",
           "#EF553B",
           "#00cc96",
           "#ab63fa",
           "#FFA15A",
           "#19d3f3",
           "#FF6692",
           "#B6E880",
           "#FF97FF",
           "#FECB52"
          ],
          "font": {
           "color": "#2a3f5f"
          },
          "geo": {
           "bgcolor": "white",
           "lakecolor": "white",
           "landcolor": "#E5ECF6",
           "showlakes": true,
           "showland": true,
           "subunitcolor": "white"
          },
          "hoverlabel": {
           "align": "left"
          },
          "hovermode": "closest",
          "mapbox": {
           "style": "light"
          },
          "paper_bgcolor": "white",
          "plot_bgcolor": "#E5ECF6",
          "polar": {
           "angularaxis": {
            "gridcolor": "white",
            "linecolor": "white",
            "ticks": ""
           },
           "bgcolor": "#E5ECF6",
           "radialaxis": {
            "gridcolor": "white",
            "linecolor": "white",
            "ticks": ""
           }
          },
          "scene": {
           "xaxis": {
            "backgroundcolor": "#E5ECF6",
            "gridcolor": "white",
            "gridwidth": 2,
            "linecolor": "white",
            "showbackground": true,
            "ticks": "",
            "zerolinecolor": "white"
           },
           "yaxis": {
            "backgroundcolor": "#E5ECF6",
            "gridcolor": "white",
            "gridwidth": 2,
            "linecolor": "white",
            "showbackground": true,
            "ticks": "",
            "zerolinecolor": "white"
           },
           "zaxis": {
            "backgroundcolor": "#E5ECF6",
            "gridcolor": "white",
            "gridwidth": 2,
            "linecolor": "white",
            "showbackground": true,
            "ticks": "",
            "zerolinecolor": "white"
           }
          },
          "shapedefaults": {
           "line": {
            "color": "#2a3f5f"
           }
          },
          "ternary": {
           "aaxis": {
            "gridcolor": "white",
            "linecolor": "white",
            "ticks": ""
           },
           "baxis": {
            "gridcolor": "white",
            "linecolor": "white",
            "ticks": ""
           },
           "bgcolor": "#E5ECF6",
           "caxis": {
            "gridcolor": "white",
            "linecolor": "white",
            "ticks": ""
           }
          },
          "title": {
           "x": 0.05
          },
          "xaxis": {
           "automargin": true,
           "gridcolor": "white",
           "linecolor": "white",
           "ticks": "",
           "title": {
            "standoff": 15
           },
           "zerolinecolor": "white",
           "zerolinewidth": 2
          },
          "yaxis": {
           "automargin": true,
           "gridcolor": "white",
           "linecolor": "white",
           "ticks": "",
           "title": {
            "standoff": 15
           },
           "zerolinecolor": "white",
           "zerolinewidth": 2
          }
         }
        },
        "title": {
         "text": "Violent Offenses by State in 2012 in the U.S."
        }
       }
      }
     },
     "metadata": {},
     "output_type": "display_data"
    }
   ],
   "source": [
    "import plotly.express as px\n",
    "\n",
    "just_counts = merged_data.groupby(['state_name'], as_index=False).agg({'count':'sum'})\n",
    "\n",
    "# Sort data for clarity\n",
    "df_sorted = just_counts.sort_values('count', ascending=False)\n",
    "df_sorted['count'] = df_sorted['count'].clip(lower=1e-5)\n",
    "\n",
    "fig = px.treemap(\n",
    "    df_sorted, \n",
    "    path=['state_name'], \n",
    "    values='count', \n",
    "    color='count', \n",
    "    color_continuous_scale='Bluered', \n",
    "    title='Violent Offenses by State in 2012 in the U.S.'\n",
    ")\n",
    "\n",
    "fig.update_layout(margin=dict(t=50, l=25, r=25, b=25))\n",
    "fig.show()\n",
    "\n"
   ]
  },
  {
   "cell_type": "markdown",
   "metadata": {},
   "source": [
    "- **Highest Offense Counts:** Michigan, Tennessee and Ohio report the highest violent offense counts.\n",
    "- **Moderate Counts:** South Carolina, Washington and Arkansas fall in the mid-range with noticeable counts.\n",
    "- **Lowest Counts:** Maine, Vermon, and Illinois report the lowest counts, based on their small size and blue color.\n",
    "#### Observations\n",
    "Without normalization, populous states like Michigan and Ohio dominate the visualization due to their larger populations."
   ]
  },
  {
   "cell_type": "code",
   "execution_count": 10,
   "metadata": {},
   "outputs": [
    {
     "data": {
      "application/vnd.plotly.v1+json": {
       "config": {
        "plotlyServerURL": "https://plot.ly"
       },
       "data": [
        {
         "branchvalues": "total",
         "customdata": [
          [
           88.40687819199535
          ],
          [
           242.32232684368302
          ],
          [
           8141.618666651295
          ],
          [
           5631.910975093984
          ],
          [
           3080.2036683362358
          ],
          [
           9740.789364643895
          ],
          [
           0.00001
          ],
          [
           4951.282424072273
          ],
          [
           159.7172250180676
          ],
          [
           4920.359405709349
          ],
          [
           6271.897377079287
          ],
          [
           4092.146520363938
          ],
          [
           900.8032129386754
          ],
          [
           1440.0477884308664
          ],
          [
           4086.173877665004
          ],
          [
           5967.646630295771
          ],
          [
           1155.7146908960963
          ],
          [
           1839.0482478004878
          ],
          [
           5422.732180526047
          ],
          [
           5348.556661540132
          ],
          [
           5001.747627060284
          ],
          [
           1456.0844286231065
          ],
          [
           2159.56339423489
          ],
          [
           0.11752229162827607
          ],
          [
           5577.0204857315875
          ],
          [
           8823.591053074026
          ],
          [
           4958.6370258017605
          ],
          [
           8468.795242062606
          ],
          [
           835.6855733461994
          ],
          [
           6000.34252248548
          ],
          [
           4815.570333428645
          ],
          [
           4702.993122239021
          ],
          [
           4918.8509512437395
          ]
         ],
         "domain": {
          "x": [
           0,
           1
          ],
          "y": [
           0,
           1
          ]
         },
         "hovertemplate": "labels=%{label}<br>offenses_per_100k_sum=%{value}<br>parent=%{parent}<br>id=%{id}<br>offenses_per_100k=%{color}<extra></extra>",
         "ids": [
          "Alabama",
          "Arizona",
          "Arkansas",
          "Colorado",
          "Connecticut",
          "Delaware",
          "District of Columbia",
          "Idaho",
          "Illinois",
          "Iowa",
          "Kansas",
          "Kentucky",
          "Louisiana",
          "Maine",
          "Massachusetts",
          "Michigan",
          "Missouri",
          "Nebraska",
          "New Hampshire",
          "North Dakota",
          "Ohio",
          "Oklahoma",
          "Oregon",
          "Pennsylvania",
          "Rhode Island",
          "South Carolina",
          "South Dakota",
          "Tennessee",
          "Texas",
          "Utah",
          "Vermont",
          "Washington",
          "West Virginia"
         ],
         "labels": [
          "Alabama",
          "Arizona",
          "Arkansas",
          "Colorado",
          "Connecticut",
          "Delaware",
          "District of Columbia",
          "Idaho",
          "Illinois",
          "Iowa",
          "Kansas",
          "Kentucky",
          "Louisiana",
          "Maine",
          "Massachusetts",
          "Michigan",
          "Missouri",
          "Nebraska",
          "New Hampshire",
          "North Dakota",
          "Ohio",
          "Oklahoma",
          "Oregon",
          "Pennsylvania",
          "Rhode Island",
          "South Carolina",
          "South Dakota",
          "Tennessee",
          "Texas",
          "Utah",
          "Vermont",
          "Washington",
          "West Virginia"
         ],
         "marker": {
          "coloraxis": "coloraxis",
          "colors": [
           88.40687819199535,
           242.32232684368302,
           8141.618666651295,
           5631.910975093984,
           3080.2036683362358,
           9740.789364643895,
           0.00001,
           4951.282424072273,
           159.7172250180676,
           4920.359405709349,
           6271.897377079287,
           4092.146520363938,
           900.8032129386754,
           1440.0477884308664,
           4086.173877665004,
           5967.646630295771,
           1155.7146908960963,
           1839.0482478004878,
           5422.732180526047,
           5348.556661540132,
           5001.747627060284,
           1456.0844286231065,
           2159.56339423489,
           0.11752229162827607,
           5577.0204857315875,
           8823.591053074026,
           4958.6370258017605,
           8468.795242062606,
           835.6855733461994,
           6000.34252248548,
           4815.570333428645,
           4702.993122239021,
           4918.8509512437395
          ]
         },
         "name": "",
         "parents": [
          "",
          "",
          "",
          "",
          "",
          "",
          "",
          "",
          "",
          "",
          "",
          "",
          "",
          "",
          "",
          "",
          "",
          "",
          "",
          "",
          "",
          "",
          "",
          "",
          "",
          "",
          "",
          "",
          "",
          "",
          "",
          "",
          ""
         ],
         "type": "treemap",
         "values": [
          88.40687819199535,
          242.32232684368302,
          8141.618666651295,
          5631.910975093984,
          3080.2036683362358,
          9740.789364643895,
          0.00001,
          4951.282424072273,
          159.7172250180676,
          4920.359405709349,
          6271.897377079287,
          4092.146520363938,
          900.8032129386754,
          1440.0477884308664,
          4086.173877665004,
          5967.646630295771,
          1155.7146908960963,
          1839.0482478004878,
          5422.732180526047,
          5348.556661540132,
          5001.747627060284,
          1456.0844286231068,
          2159.56339423489,
          0.11752229162827607,
          5577.0204857315875,
          8823.591053074026,
          4958.6370258017605,
          8468.795242062606,
          835.6855733461994,
          6000.34252248548,
          4815.570333428645,
          4702.993122239021,
          4918.8509512437395
         ]
        }
       ],
       "layout": {
        "coloraxis": {
         "colorbar": {
          "title": {
           "text": "offenses_per_100k"
          }
         },
         "colorscale": [
          [
           0,
           "rgb(0,0,255)"
          ],
          [
           1,
           "rgb(255,0,0)"
          ]
         ]
        },
        "legend": {
         "tracegroupgap": 0
        },
        "margin": {
         "b": 25,
         "l": 25,
         "r": 25,
         "t": 50
        },
        "template": {
         "data": {
          "bar": [
           {
            "error_x": {
             "color": "#2a3f5f"
            },
            "error_y": {
             "color": "#2a3f5f"
            },
            "marker": {
             "line": {
              "color": "#E5ECF6",
              "width": 0.5
             },
             "pattern": {
              "fillmode": "overlay",
              "size": 10,
              "solidity": 0.2
             }
            },
            "type": "bar"
           }
          ],
          "barpolar": [
           {
            "marker": {
             "line": {
              "color": "#E5ECF6",
              "width": 0.5
             },
             "pattern": {
              "fillmode": "overlay",
              "size": 10,
              "solidity": 0.2
             }
            },
            "type": "barpolar"
           }
          ],
          "carpet": [
           {
            "aaxis": {
             "endlinecolor": "#2a3f5f",
             "gridcolor": "white",
             "linecolor": "white",
             "minorgridcolor": "white",
             "startlinecolor": "#2a3f5f"
            },
            "baxis": {
             "endlinecolor": "#2a3f5f",
             "gridcolor": "white",
             "linecolor": "white",
             "minorgridcolor": "white",
             "startlinecolor": "#2a3f5f"
            },
            "type": "carpet"
           }
          ],
          "choropleth": [
           {
            "colorbar": {
             "outlinewidth": 0,
             "ticks": ""
            },
            "type": "choropleth"
           }
          ],
          "contour": [
           {
            "colorbar": {
             "outlinewidth": 0,
             "ticks": ""
            },
            "colorscale": [
             [
              0,
              "#0d0887"
             ],
             [
              0.1111111111111111,
              "#46039f"
             ],
             [
              0.2222222222222222,
              "#7201a8"
             ],
             [
              0.3333333333333333,
              "#9c179e"
             ],
             [
              0.4444444444444444,
              "#bd3786"
             ],
             [
              0.5555555555555556,
              "#d8576b"
             ],
             [
              0.6666666666666666,
              "#ed7953"
             ],
             [
              0.7777777777777778,
              "#fb9f3a"
             ],
             [
              0.8888888888888888,
              "#fdca26"
             ],
             [
              1,
              "#f0f921"
             ]
            ],
            "type": "contour"
           }
          ],
          "contourcarpet": [
           {
            "colorbar": {
             "outlinewidth": 0,
             "ticks": ""
            },
            "type": "contourcarpet"
           }
          ],
          "heatmap": [
           {
            "colorbar": {
             "outlinewidth": 0,
             "ticks": ""
            },
            "colorscale": [
             [
              0,
              "#0d0887"
             ],
             [
              0.1111111111111111,
              "#46039f"
             ],
             [
              0.2222222222222222,
              "#7201a8"
             ],
             [
              0.3333333333333333,
              "#9c179e"
             ],
             [
              0.4444444444444444,
              "#bd3786"
             ],
             [
              0.5555555555555556,
              "#d8576b"
             ],
             [
              0.6666666666666666,
              "#ed7953"
             ],
             [
              0.7777777777777778,
              "#fb9f3a"
             ],
             [
              0.8888888888888888,
              "#fdca26"
             ],
             [
              1,
              "#f0f921"
             ]
            ],
            "type": "heatmap"
           }
          ],
          "heatmapgl": [
           {
            "colorbar": {
             "outlinewidth": 0,
             "ticks": ""
            },
            "colorscale": [
             [
              0,
              "#0d0887"
             ],
             [
              0.1111111111111111,
              "#46039f"
             ],
             [
              0.2222222222222222,
              "#7201a8"
             ],
             [
              0.3333333333333333,
              "#9c179e"
             ],
             [
              0.4444444444444444,
              "#bd3786"
             ],
             [
              0.5555555555555556,
              "#d8576b"
             ],
             [
              0.6666666666666666,
              "#ed7953"
             ],
             [
              0.7777777777777778,
              "#fb9f3a"
             ],
             [
              0.8888888888888888,
              "#fdca26"
             ],
             [
              1,
              "#f0f921"
             ]
            ],
            "type": "heatmapgl"
           }
          ],
          "histogram": [
           {
            "marker": {
             "pattern": {
              "fillmode": "overlay",
              "size": 10,
              "solidity": 0.2
             }
            },
            "type": "histogram"
           }
          ],
          "histogram2d": [
           {
            "colorbar": {
             "outlinewidth": 0,
             "ticks": ""
            },
            "colorscale": [
             [
              0,
              "#0d0887"
             ],
             [
              0.1111111111111111,
              "#46039f"
             ],
             [
              0.2222222222222222,
              "#7201a8"
             ],
             [
              0.3333333333333333,
              "#9c179e"
             ],
             [
              0.4444444444444444,
              "#bd3786"
             ],
             [
              0.5555555555555556,
              "#d8576b"
             ],
             [
              0.6666666666666666,
              "#ed7953"
             ],
             [
              0.7777777777777778,
              "#fb9f3a"
             ],
             [
              0.8888888888888888,
              "#fdca26"
             ],
             [
              1,
              "#f0f921"
             ]
            ],
            "type": "histogram2d"
           }
          ],
          "histogram2dcontour": [
           {
            "colorbar": {
             "outlinewidth": 0,
             "ticks": ""
            },
            "colorscale": [
             [
              0,
              "#0d0887"
             ],
             [
              0.1111111111111111,
              "#46039f"
             ],
             [
              0.2222222222222222,
              "#7201a8"
             ],
             [
              0.3333333333333333,
              "#9c179e"
             ],
             [
              0.4444444444444444,
              "#bd3786"
             ],
             [
              0.5555555555555556,
              "#d8576b"
             ],
             [
              0.6666666666666666,
              "#ed7953"
             ],
             [
              0.7777777777777778,
              "#fb9f3a"
             ],
             [
              0.8888888888888888,
              "#fdca26"
             ],
             [
              1,
              "#f0f921"
             ]
            ],
            "type": "histogram2dcontour"
           }
          ],
          "mesh3d": [
           {
            "colorbar": {
             "outlinewidth": 0,
             "ticks": ""
            },
            "type": "mesh3d"
           }
          ],
          "parcoords": [
           {
            "line": {
             "colorbar": {
              "outlinewidth": 0,
              "ticks": ""
             }
            },
            "type": "parcoords"
           }
          ],
          "pie": [
           {
            "automargin": true,
            "type": "pie"
           }
          ],
          "scatter": [
           {
            "fillpattern": {
             "fillmode": "overlay",
             "size": 10,
             "solidity": 0.2
            },
            "type": "scatter"
           }
          ],
          "scatter3d": [
           {
            "line": {
             "colorbar": {
              "outlinewidth": 0,
              "ticks": ""
             }
            },
            "marker": {
             "colorbar": {
              "outlinewidth": 0,
              "ticks": ""
             }
            },
            "type": "scatter3d"
           }
          ],
          "scattercarpet": [
           {
            "marker": {
             "colorbar": {
              "outlinewidth": 0,
              "ticks": ""
             }
            },
            "type": "scattercarpet"
           }
          ],
          "scattergeo": [
           {
            "marker": {
             "colorbar": {
              "outlinewidth": 0,
              "ticks": ""
             }
            },
            "type": "scattergeo"
           }
          ],
          "scattergl": [
           {
            "marker": {
             "colorbar": {
              "outlinewidth": 0,
              "ticks": ""
             }
            },
            "type": "scattergl"
           }
          ],
          "scattermapbox": [
           {
            "marker": {
             "colorbar": {
              "outlinewidth": 0,
              "ticks": ""
             }
            },
            "type": "scattermapbox"
           }
          ],
          "scatterpolar": [
           {
            "marker": {
             "colorbar": {
              "outlinewidth": 0,
              "ticks": ""
             }
            },
            "type": "scatterpolar"
           }
          ],
          "scatterpolargl": [
           {
            "marker": {
             "colorbar": {
              "outlinewidth": 0,
              "ticks": ""
             }
            },
            "type": "scatterpolargl"
           }
          ],
          "scatterternary": [
           {
            "marker": {
             "colorbar": {
              "outlinewidth": 0,
              "ticks": ""
             }
            },
            "type": "scatterternary"
           }
          ],
          "surface": [
           {
            "colorbar": {
             "outlinewidth": 0,
             "ticks": ""
            },
            "colorscale": [
             [
              0,
              "#0d0887"
             ],
             [
              0.1111111111111111,
              "#46039f"
             ],
             [
              0.2222222222222222,
              "#7201a8"
             ],
             [
              0.3333333333333333,
              "#9c179e"
             ],
             [
              0.4444444444444444,
              "#bd3786"
             ],
             [
              0.5555555555555556,
              "#d8576b"
             ],
             [
              0.6666666666666666,
              "#ed7953"
             ],
             [
              0.7777777777777778,
              "#fb9f3a"
             ],
             [
              0.8888888888888888,
              "#fdca26"
             ],
             [
              1,
              "#f0f921"
             ]
            ],
            "type": "surface"
           }
          ],
          "table": [
           {
            "cells": {
             "fill": {
              "color": "#EBF0F8"
             },
             "line": {
              "color": "white"
             }
            },
            "header": {
             "fill": {
              "color": "#C8D4E3"
             },
             "line": {
              "color": "white"
             }
            },
            "type": "table"
           }
          ]
         },
         "layout": {
          "annotationdefaults": {
           "arrowcolor": "#2a3f5f",
           "arrowhead": 0,
           "arrowwidth": 1
          },
          "autotypenumbers": "strict",
          "coloraxis": {
           "colorbar": {
            "outlinewidth": 0,
            "ticks": ""
           }
          },
          "colorscale": {
           "diverging": [
            [
             0,
             "#8e0152"
            ],
            [
             0.1,
             "#c51b7d"
            ],
            [
             0.2,
             "#de77ae"
            ],
            [
             0.3,
             "#f1b6da"
            ],
            [
             0.4,
             "#fde0ef"
            ],
            [
             0.5,
             "#f7f7f7"
            ],
            [
             0.6,
             "#e6f5d0"
            ],
            [
             0.7,
             "#b8e186"
            ],
            [
             0.8,
             "#7fbc41"
            ],
            [
             0.9,
             "#4d9221"
            ],
            [
             1,
             "#276419"
            ]
           ],
           "sequential": [
            [
             0,
             "#0d0887"
            ],
            [
             0.1111111111111111,
             "#46039f"
            ],
            [
             0.2222222222222222,
             "#7201a8"
            ],
            [
             0.3333333333333333,
             "#9c179e"
            ],
            [
             0.4444444444444444,
             "#bd3786"
            ],
            [
             0.5555555555555556,
             "#d8576b"
            ],
            [
             0.6666666666666666,
             "#ed7953"
            ],
            [
             0.7777777777777778,
             "#fb9f3a"
            ],
            [
             0.8888888888888888,
             "#fdca26"
            ],
            [
             1,
             "#f0f921"
            ]
           ],
           "sequentialminus": [
            [
             0,
             "#0d0887"
            ],
            [
             0.1111111111111111,
             "#46039f"
            ],
            [
             0.2222222222222222,
             "#7201a8"
            ],
            [
             0.3333333333333333,
             "#9c179e"
            ],
            [
             0.4444444444444444,
             "#bd3786"
            ],
            [
             0.5555555555555556,
             "#d8576b"
            ],
            [
             0.6666666666666666,
             "#ed7953"
            ],
            [
             0.7777777777777778,
             "#fb9f3a"
            ],
            [
             0.8888888888888888,
             "#fdca26"
            ],
            [
             1,
             "#f0f921"
            ]
           ]
          },
          "colorway": [
           "#636efa",
           "#EF553B",
           "#00cc96",
           "#ab63fa",
           "#FFA15A",
           "#19d3f3",
           "#FF6692",
           "#B6E880",
           "#FF97FF",
           "#FECB52"
          ],
          "font": {
           "color": "#2a3f5f"
          },
          "geo": {
           "bgcolor": "white",
           "lakecolor": "white",
           "landcolor": "#E5ECF6",
           "showlakes": true,
           "showland": true,
           "subunitcolor": "white"
          },
          "hoverlabel": {
           "align": "left"
          },
          "hovermode": "closest",
          "mapbox": {
           "style": "light"
          },
          "paper_bgcolor": "white",
          "plot_bgcolor": "#E5ECF6",
          "polar": {
           "angularaxis": {
            "gridcolor": "white",
            "linecolor": "white",
            "ticks": ""
           },
           "bgcolor": "#E5ECF6",
           "radialaxis": {
            "gridcolor": "white",
            "linecolor": "white",
            "ticks": ""
           }
          },
          "scene": {
           "xaxis": {
            "backgroundcolor": "#E5ECF6",
            "gridcolor": "white",
            "gridwidth": 2,
            "linecolor": "white",
            "showbackground": true,
            "ticks": "",
            "zerolinecolor": "white"
           },
           "yaxis": {
            "backgroundcolor": "#E5ECF6",
            "gridcolor": "white",
            "gridwidth": 2,
            "linecolor": "white",
            "showbackground": true,
            "ticks": "",
            "zerolinecolor": "white"
           },
           "zaxis": {
            "backgroundcolor": "#E5ECF6",
            "gridcolor": "white",
            "gridwidth": 2,
            "linecolor": "white",
            "showbackground": true,
            "ticks": "",
            "zerolinecolor": "white"
           }
          },
          "shapedefaults": {
           "line": {
            "color": "#2a3f5f"
           }
          },
          "ternary": {
           "aaxis": {
            "gridcolor": "white",
            "linecolor": "white",
            "ticks": ""
           },
           "baxis": {
            "gridcolor": "white",
            "linecolor": "white",
            "ticks": ""
           },
           "bgcolor": "#E5ECF6",
           "caxis": {
            "gridcolor": "white",
            "linecolor": "white",
            "ticks": ""
           }
          },
          "title": {
           "x": 0.05
          },
          "xaxis": {
           "automargin": true,
           "gridcolor": "white",
           "linecolor": "white",
           "ticks": "",
           "title": {
            "standoff": 15
           },
           "zerolinecolor": "white",
           "zerolinewidth": 2
          },
          "yaxis": {
           "automargin": true,
           "gridcolor": "white",
           "linecolor": "white",
           "ticks": "",
           "title": {
            "standoff": 15
           },
           "zerolinecolor": "white",
           "zerolinewidth": 2
          }
         }
        },
        "title": {
         "text": "Violent Offenses Per 100k Capita by State in 2012 in the U.S."
        }
       }
      }
     },
     "metadata": {},
     "output_type": "display_data"
    }
   ],
   "source": [
    "per_capita = merged_data_cleaned.groupby(['state_name'], as_index=False).agg({'offenses_per_100k':'sum'})\n",
    "\n",
    "\n",
    "# Sort data for clarity\n",
    "df_sorted = per_capita.sort_values('offenses_per_100k', ascending=False)\n",
    "df_sorted['offenses_per_100k'] = df_sorted['offenses_per_100k'].clip(lower=1e-5)\n",
    "\n",
    "fig = px.treemap(\n",
    "    df_sorted, \n",
    "    path=['state_name'], \n",
    "    values='offenses_per_100k', \n",
    "    color='offenses_per_100k', \n",
    "    color_continuous_scale='Bluered', \n",
    "    title='Violent Offenses Per 100k Capita by State in 2012 in the U.S.'\n",
    ")\n",
    "\n",
    "fig.update_layout(margin=dict(t=50, l=25, r=25, b=25))\n",
    "fig.show()\n",
    "\n"
   ]
  },
  {
   "cell_type": "markdown",
   "metadata": {},
   "source": [
    "- **Highest Offense Rates:** Delaware and Arkansas have the highest offenses per 100k capita.\n",
    "- **Moderate Rates:** States like Michigan, Kansas, Rhode Island and South Carolina show mid-range offense rates.\n",
    "- **Lowest Rates:** Alabama, Arizona, Illinois, Texas and Louisiana report the lowest offenses per 100k capita.\n",
    "#### Observations\n",
    "Normalization shows significant differences in crime rates independent of state population and highlights states like Delaware and Arkansas that might otherwise go unnoticed from the previous plot.\n"
   ]
  },
  {
   "cell_type": "markdown",
   "metadata": {},
   "source": [
    "## Deep Dive: 2012 Crime Analysis"
   ]
  },
  {
   "cell_type": "code",
   "execution_count": null,
   "metadata": {},
   "outputs": [
    {
     "name": "stdout",
     "output_type": "stream",
     "text": [
      "Not enough data for z-score calculation in state: Pennsylvania\n",
      "Z-Score data processed successfully!\n",
      "Normalized data processed successfully!\n"
     ]
    }
   ],
   "source": [
    "import pandas as pd\n",
    "import os\n",
    "from scipy.stats import zscore\n",
    "\n",
    "# Path to the folder containing the files\n",
    "folder_path = \"../../data/CLEAN/FBI_91_12\" # regroup all violent offenses from each state\n",
    "\n",
    "state_name_mapping = {\n",
    "    \"Vermont\": \"Vermont\",\n",
    "    \"SouthCarolina\": \"South Carolina\",\n",
    "    \"Texas\": \"Texas\",\n",
    "    \"WestVirginia\": \"West Virginia\",\n",
    "    \"Michigan\": \"Michigan\",\n",
    "    \"Kentuchy\": \"Kentucky\",  # Correct spelling error\n",
    "    \"Wisconsin\": \"Wisconsin\",\n",
    "    \"Montana\": \"Montana\",\n",
    "    \"Louisiana\": \"Louisiana\",\n",
    "    \"Connecticut\": \"Connecticut\",\n",
    "    \"Washington\": \"Washington\",\n",
    "    \"Tennessee\": \"Tennessee\",\n",
    "    \"RhodeIsland\": \"Rhode Island\",\n",
    "    \"Massachusetts\": \"Massachusetts\",\n",
    "    \"Arizona\": \"Arizona\",\n",
    "    \"Alabama\": \"Alabama\",\n",
    "    \"Pennsylvania\": \"Pennsylvania\",\n",
    "    \"SouthDakota\": \"South Dakota\",\n",
    "    \"Utah\": \"Utah\",\n",
    "    \"NewHampshire\": \"New Hampshire\",\n",
    "    \"Maine\": \"Maine\",\n",
    "    \"DistrictColumbia\": \"DC\",  # Change to \"DC\"\n",
    "    \"Nebraska\": \"Nebraska\",\n",
    "    \"NorthDakota\": \"North Dakota\",\n",
    "    \"Delaware\": \"Delaware\",\n",
    "    \"Iowa\": \"Iowa\",\n",
    "    \"Oklahoma\": \"Oklahoma\",\n",
    "    \"Ohio\": \"Ohio\",\n",
    "    \"Virginia\": \"Virginia\",\n",
    "    \"Colorado\": \"Colorado\",\n",
    "    \"Oregon\": \"Oregon\",\n",
    "    \"Arkansas\": \"Arkansas\",\n",
    "    \"Missouri\": \"Missouri\",\n",
    "    \"Illinois\": \"Illinois\",\n",
    "    \"Kansas\": \"Kansas\",\n",
    "    \"Idaho\": \"Idaho\",\n",
    "} # Generate by ChatGPT to correct name of states\n",
    "\n",
    "z_score_all_states_data = []\n",
    "normalized_states_data = []\n",
    "\n",
    "# Iterate through files and process each state's data\n",
    "for file in os.listdir(folder_path):\n",
    "    if file.endswith(\"_violence.csv\"):\n",
    "\n",
    "        state_data = pd.read_csv(os.path.join(folder_path, file))\n",
    "        state_abbreviation = file.split('_')[0]  # Extract state name from filename\n",
    "        if state_abbreviation in state_name_mapping:\n",
    "            state_name = state_name_mapping[state_abbreviation]\n",
    "        else:\n",
    "            print(f\"Skipping file: {file} (no matching state abbreviation)\")\n",
    "            continue\n",
    "        \n",
    "        state_data['state'] = state_name  # Replace state name with the proper format\n",
    "        \n",
    "        # Filter for the year 2012\n",
    "        state_data = state_data[state_data['year'] == 2012]\n",
    "        if state_data.empty:\n",
    "            # debug\n",
    "            print(f\"No data for 2012 in state: {state_name}\")\n",
    "            continue  # Skip if no data for 2012\n",
    "        \n",
    "        # Group by week to calculate weekly offense counts\n",
    "        weekly_data = state_data.groupby('week')['incident_id'].count().reset_index()\n",
    "        weekly_data['state'] = state_name\n",
    "        \n",
    "        # Calculate z-score for weekly offenses\n",
    "        if len(weekly_data) > 1:  # Ensure enough data points for z-score\n",
    "            weekly_data['z_score'] = zscore(weekly_data['incident_id'])\n",
    "            z_score_all_states_data.append(weekly_data)\n",
    "        else:\n",
    "            print(f\"Not enough data for z-score calculation in state: {state_name}\")\n",
    "\n",
    "        # Normalize offense counts by population\n",
    "        state_population = population[population['State'] == state_name]['Population'].values\n",
    "        if len(state_population) > 0:\n",
    "            total_population = state_population[0]\n",
    "            weekly_data['normalized_offenses'] = weekly_data['incident_id'] / total_population * 100000  # Per 100k capita as before\n",
    "            normalized_states_data.append(weekly_data)\n",
    "        else:\n",
    "            print(f\"No population data found for {state_name}, skipping normalization\")\n",
    "\n",
    "\n",
    "# Combine all states' data\n",
    "if z_score_all_states_data:\n",
    "    z_scores_offenses_by_week = pd.concat(z_score_all_states_data)\n",
    "    print(\"Z-Score data processed successfully!\")\n",
    "else:\n",
    "    print(\"No z-score data to combine.\")\n",
    "if normalized_states_data:\n",
    "    normalized_offenses_by_week = pd.concat(normalized_states_data)\n",
    "    print(\"Normalized data processed successfully!\")\n",
    "else:\n",
    "    print(\"No normalized data to combine.\")"
   ]
  },
  {
   "cell_type": "code",
   "execution_count": 12,
   "metadata": {},
   "outputs": [],
   "source": [
    "# For flourish\n",
    "z_scores_offenses_by_week.to_excel(\"../../data/CLEAN/z_scores_offenses_by_week.xlsx\" )\n",
    "normalized_offenses_by_week.to_excel(\"../../data/CLEAN/normalized_offenses_by_week.xlsx\" )"
   ]
  },
  {
   "cell_type": "markdown",
   "metadata": {},
   "source": [
    "### Evolution across the year of 2012 in all states\n",
    "#### Z-score"
   ]
  },
  {
   "cell_type": "code",
   "execution_count": 54,
   "metadata": {},
   "outputs": [
    {
     "data": {
      "application/vnd.plotly.v1+json": {
       "config": {
        "plotlyServerURL": "https://plot.ly"
       },
       "data": [
        {
         "hovertemplate": "<b>Week:</b> %{x}<br><b>Z-Score:</b> %{y:.2f}",
         "legendgroup": "Vermont",
         "line": {
          "color": "#636efa",
          "dash": "solid"
         },
         "marker": {
          "symbol": "circle"
         },
         "mode": "lines",
         "name": "Vermont",
         "showlegend": true,
         "type": "scattergl",
         "x": [
          1,
          2,
          3,
          4,
          5,
          6,
          7,
          8,
          9,
          10,
          11,
          12,
          13,
          14,
          15,
          16,
          17,
          18,
          19,
          20,
          21,
          22,
          23,
          24,
          25,
          26,
          27,
          28,
          29,
          30,
          31,
          32,
          33,
          34,
          35,
          36,
          37,
          38,
          39,
          40,
          41,
          42,
          43,
          44,
          45,
          46,
          47,
          48,
          49,
          50,
          51,
          52
         ],
         "xaxis": "x",
         "y": [
          -0.9733629763367122,
          -0.44280873346974103,
          -1.106001537053455,
          -0.8937798399066665,
          -1.0529461127667579,
          -2.0609991742140035,
          -0.8937798399066665,
          -1.477389507060335,
          -1.106001537053455,
          -1.1590569613401522,
          0.6182997522642014,
          0.7774660251242927,
          -0.0448930513195126,
          -0.7876689913332723,
          0.32649491868736724,
          0.4326057672607615,
          0.14080093368392732,
          -0.28364246060964965,
          -0.681558142759878,
          0.32649491868736724,
          0.9366322979843842,
          0.37955034297406437,
          1.1488539951311727,
          0.11427322154057877,
          0.8039937372676413,
          1.3610756922779612,
          0.9896877222710813,
          0.6182997522642014,
          0.19385635797062445,
          1.493714252994704,
          1.9977407837183265,
          0.9631600101277328,
          0.9896877222710813,
          1.8916299351449324,
          1.7855190865715382,
          0.8305214494109899,
          1.0162154344144299,
          0.008162372967184521,
          0.5387166158341558,
          -1.1855846734835007,
          -0.7611412791899238,
          0.220384070113973,
          0.5652443279775043,
          0.2734394944006701,
          -0.0448930513195126,
          -0.12447618774955829,
          -0.8937798399066665,
          -1.291695522056895,
          0.11427322154057877,
          -1.1590569613401522,
          -1.8487774770672147,
          -1.5835003556337293
         ],
         "yaxis": "y"
        },
        {
         "hovertemplate": "<b>Week:</b> %{x}<br><b>Z-Score:</b> %{y:.2f}",
         "legendgroup": "South Carolina",
         "line": {
          "color": "#EF553B",
          "dash": "solid"
         },
         "marker": {
          "symbol": "circle"
         },
         "mode": "lines",
         "name": "South Carolina",
         "showlegend": true,
         "type": "scattergl",
         "x": [
          1,
          2,
          3,
          4,
          5,
          6,
          7,
          8,
          9,
          10,
          11,
          12,
          13,
          14,
          15,
          16,
          17,
          18,
          19,
          20,
          21,
          22,
          23,
          24,
          25,
          26,
          27,
          28,
          29,
          30,
          31,
          32,
          33,
          34,
          35,
          36,
          37,
          38,
          39,
          40,
          41,
          42,
          43,
          44,
          45,
          46,
          47,
          48,
          49,
          50,
          51,
          52
         ],
         "xaxis": "x",
         "y": [
          0.16505610293750364,
          -0.5458460126776477,
          -1.40689555788393,
          -0.8798474376864902,
          -0.7480854076371303,
          -2.467120264792733,
          -1.4620517565092435,
          -1.881851712713018,
          -0.2578080865232329,
          -1.057572966590278,
          -0.027990592251093474,
          -0.018797892480207898,
          0.5664706595995072,
          -0.38650588331563096,
          -0.009605192709322322,
          0.1374780036248469,
          0.14360647013877062,
          2.2058354520741017,
          0.2263407680767408,
          1.2130238768184594,
          1.4397771378336368,
          1.976017957801962,
          0.30601083275774915,
          0.7748385210729135,
          1.2589873756728873,
          1.7829712626133651,
          1.001591782088091,
          0.7258107889615238,
          0.5725991261134309,
          0.5450210268007741,
          1.0935187797969468,
          -0.009605192709322322,
          0.18650573573623663,
          0.017972906603334407,
          1.0873903132830232,
          -0.11378912344602551,
          0.05167947242991486,
          0.7135538559336764,
          -0.16281685555741526,
          1.372364006180476,
          -0.3803774168017072,
          -0.2731292528080422,
          -0.03411905876501719,
          0.20795536853496965,
          -0.7235715415814354,
          -1.1556284308130575,
          -1.7439612161497344,
          -0.33441391794727937,
          -0.8277554723181386,
          -1.3027116271472268,
          -1.5539787542180992,
          -0.006540959452360462
         ],
         "yaxis": "y"
        },
        {
         "hovertemplate": "<b>Week:</b> %{x}<br><b>Z-Score:</b> %{y:.2f}",
         "legendgroup": "Texas",
         "line": {
          "color": "#00cc96",
          "dash": "solid"
         },
         "marker": {
          "symbol": "circle"
         },
         "mode": "lines",
         "name": "Texas",
         "showlegend": true,
         "type": "scattergl",
         "x": [
          1,
          2,
          3,
          4,
          5,
          6,
          7,
          8,
          9,
          10,
          11,
          12,
          13,
          14,
          15,
          16,
          17,
          18,
          19,
          20,
          21,
          22,
          23,
          24,
          25,
          26,
          27,
          28,
          29,
          30,
          31,
          32,
          33,
          34,
          35,
          36,
          37,
          38,
          39,
          40,
          41,
          42,
          43,
          44,
          45,
          46,
          47,
          48,
          49,
          50,
          51,
          52
         ],
         "xaxis": "x",
         "y": [
          0.40840112536358536,
          -1.2229423317980919,
          -0.5909804519967214,
          -0.9584001495556578,
          -0.4366641790219682,
          -2.8542857889597695,
          -2.053310848281288,
          -2.3325498184260796,
          -1.7226331204782455,
          -1.6124072112105645,
          -0.3043930879007511,
          -0.15007681492599784,
          0.7023368834107344,
          0.37165915560769175,
          0.5333238225336238,
          -0.17947039073071275,
          0.9889242475067048,
          1.3196019753097474,
          0.39370433746122796,
          0.6729433076060195,
          0.768472428971343,
          1.7017184607710414,
          -0.09863805726774676,
          0.11446536731643632,
          0.29082682214472577,
          1.3930859148215349,
          0.7096852773619132,
          0.01893624595111287,
          0.2173428826329385,
          0.5186270346312662,
          1.0844533688720281,
          0.01893624595111287,
          0.23203967053529595,
          0.43779470116830027,
          0.4598398830218365,
          -0.37052863346135967,
          -0.48810293668021926,
          0.29082682214472577,
          0.5039302467289088,
          1.1138469446767432,
          0.445143095119479,
          0.7243820652642706,
          0.6949884894595557,
          1.224072853944424,
          0.7537756410689855,
          -1.2008971499445558,
          -1.6932395446735304,
          0.8272595805807728,
          0.797866004776058,
          -1.1788519680910197,
          -0.4734061487778618,
          -0.8114322705320832
         ],
         "yaxis": "y"
        },
        {
         "hovertemplate": "<b>Week:</b> %{x}<br><b>Z-Score:</b> %{y:.2f}",
         "legendgroup": "West Virginia",
         "line": {
          "color": "#ab63fa",
          "dash": "solid"
         },
         "marker": {
          "symbol": "circle"
         },
         "mode": "lines",
         "name": "West Virginia",
         "showlegend": true,
         "type": "scattergl",
         "x": [
          1,
          2,
          3,
          4,
          5,
          6,
          7,
          8,
          9,
          10,
          11,
          12,
          13,
          14,
          15,
          16,
          17,
          18,
          19,
          20,
          21,
          22,
          23,
          24,
          25,
          26,
          27,
          28,
          29,
          30,
          31,
          32,
          33,
          34,
          35,
          36,
          37,
          38,
          39,
          40,
          41,
          42,
          43,
          44,
          45,
          46,
          47,
          48,
          49,
          50,
          51,
          52
         ],
         "xaxis": "x",
         "y": [
          -0.3922649077970971,
          -1.5774929848133128,
          -1.4826747386520154,
          -1.6486066694342856,
          -0.7833901732124482,
          -2.063436496389961,
          -1.2456291232487724,
          -1.3878564924907182,
          -0.07225332700271889,
          -1.0559926309261778,
          0.5203607115053889,
          0.49665614996506463,
          0.8877814153804158,
          -0.08410560777288104,
          0.3188719384126323,
          0.3188719384126323,
          0.11738316531987561,
          2.3100551077998746,
          1.1840884346344696,
          1.3026112423360912,
          1.6107705423603074,
          1.7292933500619287,
          0.4729515884247403,
          1.0892701884731724,
          0.5085084307352268,
          0.5440652730457133,
          1.6818842269812802,
          0.49665614996506463,
          1.0418610653925238,
          0.7929631692191185,
          0.8166677307594428,
          1.0418610653925238,
          0.04626948069890268,
          0.7218494845981456,
          0.9707473807715509,
          0.010712638388416209,
          -0.8070947347527726,
          -0.2263329770148269,
          -0.688571927051151,
          -0.21448069624466476,
          -0.2855943808656377,
          -0.15521929239385399,
          -0.08410560777288104,
          -0.8663561386035833,
          0.15294000763036208,
          -0.9019129809140698,
          -1.4115610540310426,
          -0.688571927051151,
          -0.0011396423817459467,
          -0.7241287693616375,
          -1.8026863194463936,
          -0.534492277039043
         ],
         "yaxis": "y"
        },
        {
         "hovertemplate": "<b>Week:</b> %{x}<br><b>Z-Score:</b> %{y:.2f}",
         "legendgroup": "Michigan",
         "line": {
          "color": "#FFA15A",
          "dash": "solid"
         },
         "marker": {
          "symbol": "circle"
         },
         "mode": "lines",
         "name": "Michigan",
         "showlegend": true,
         "type": "scattergl",
         "x": [
          1,
          2,
          3,
          4,
          5,
          6,
          7,
          8,
          9,
          10,
          11,
          12,
          13,
          14,
          15,
          16,
          17,
          18,
          19,
          20,
          21,
          22,
          23,
          24,
          25,
          26,
          27,
          28,
          29,
          30,
          31,
          32,
          33,
          34,
          35,
          36,
          37,
          38,
          39,
          40,
          41,
          42,
          43,
          44,
          45,
          46,
          47,
          48,
          49,
          50,
          51,
          52
         ],
         "xaxis": "x",
         "y": [
          -0.004848575142349968,
          -1.0291100739638506,
          -1.5774839225636692,
          -1.3568737535867308,
          -1.2134771437517207,
          -1.7902151569342886,
          -1.2355381606494145,
          -1.5491197579809202,
          -1.1725066837988607,
          -0.9960185486173098,
          0.12751752624381318,
          0.2583078407087125,
          -0.0899410688905977,
          -0.540616128372058,
          0.07551655784210623,
          -0.006424362063613815,
          0.32133931755926637,
          0.9106836261119452,
          0.48206958352817875,
          0.8697131661590851,
          1.0729896790021214,
          1.0525044490256914,
          1.3093577171916984,
          1.035170792891789,
          0.9894729721751375,
          1.5362710338536925,
          1.49845214774336,
          1.35505553790835,
          1.53942260769622,
          1.3266913733256007,
          1.6071814453105655,
          0.29770251374030865,
          0.7546807209068243,
          0.9989276937027206,
          1.3014787825853793,
          0.5971020287804396,
          0.7121344740327005,
          -0.10254736426070848,
          0.28036885760640634,
          -0.03478852664636306,
          -0.7486200019788858,
          -0.3783100754818817,
          -0.06630426507164,
          -0.5232824722381556,
          -0.4444931261749633,
          -0.767529445034052,
          -1.2969938505787044,
          -0.5374645545295302,
          -0.9503207279006581,
          -0.9912911878535182,
          -1.456148329626353,
          -1.4498451819412976
         ],
         "yaxis": "y"
        },
        {
         "hovertemplate": "<b>Week:</b> %{x}<br><b>Z-Score:</b> %{y:.2f}",
         "legendgroup": "Kentucky",
         "line": {
          "color": "#19d3f3",
          "dash": "solid"
         },
         "marker": {
          "symbol": "circle"
         },
         "mode": "lines",
         "name": "Kentucky",
         "showlegend": true,
         "type": "scattergl",
         "x": [
          1,
          2,
          3,
          4,
          5,
          6,
          7,
          8,
          9,
          10,
          11,
          12,
          13,
          14,
          15,
          16,
          17,
          18,
          19,
          20,
          21,
          22,
          23,
          24,
          25,
          26,
          27,
          28,
          29,
          30,
          31,
          32,
          33,
          34,
          35,
          36,
          37,
          38,
          39,
          40,
          41,
          42,
          43,
          44,
          45,
          46,
          47,
          48,
          49,
          50,
          51,
          52
         ],
         "xaxis": "x",
         "y": [
          0.18404047645075292,
          -1.4082826998680962,
          -0.6323282586162712,
          -1.3032055359485781,
          -0.30093104933163767,
          -2.2327342936981602,
          -1.6103541689440923,
          -1.311288394711618,
          -0.8101511514031478,
          -1.2789569596594588,
          -0.4949196596445939,
          0.18404047645075292,
          1.210563539356813,
          -0.4949196596445939,
          0.3052833578963506,
          -0.05844528644044237,
          0.4184433805789084,
          2.180506590921594,
          -0.6889082699575502,
          0.798337742441781,
          0.37802908676370917,
          1.6470379125609644,
          -0.009948133862203308,
          0.798337742441781,
          1.8410265228739207,
          1.5662093249305662,
          0.6205148496549044,
          1.3964692909067293,
          0.7740891661526614,
          0.491189109446267,
          1.6470379125609644,
          0.022383301189956066,
          0.232537629028992,
          0.8791663300721795,
          1.4288007259588889,
          -0.16352245035996033,
          -0.0018652750991634648,
          0.2972004991333107,
          -0.6404111173793111,
          0.18404047645075292,
          -0.8101511514031478,
          0.35378051047458964,
          -0.38984249572507595,
          -0.3413453431468369,
          -0.5999968235641119,
          -1.8205084967831282,
          -1.5941884514180125,
          -0.05844528644044237,
          -0.8424825864553072,
          -0.5030025184076338,
          -0.438339648303315,
          1.0004092115177772
         ],
         "yaxis": "y"
        },
        {
         "hovertemplate": "<b>Week:</b> %{x}<br><b>Z-Score:</b> %{y:.2f}",
         "legendgroup": "Wisconsin",
         "line": {
          "color": "#FF6692",
          "dash": "solid"
         },
         "marker": {
          "symbol": "circle"
         },
         "mode": "lines",
         "name": "Wisconsin",
         "showlegend": true,
         "type": "scattergl",
         "x": [
          1,
          2,
          3,
          4,
          5,
          6,
          7,
          8,
          9,
          10,
          11,
          12,
          13,
          14,
          15,
          16,
          17,
          18,
          19,
          20,
          21,
          22,
          23,
          24,
          25,
          26,
          27,
          28,
          29,
          30,
          31,
          32,
          33,
          34,
          35,
          36,
          37,
          38,
          39,
          40,
          41,
          42,
          43,
          44,
          45,
          46,
          47,
          48,
          49,
          50,
          51,
          52
         ],
         "xaxis": "x",
         "y": [
          0.053603881802752135,
          -1.3366040602896798,
          -2.272723981095639,
          -1.5461831470372827,
          -1.4344076341052279,
          -1.8256219293674196,
          -1.1130530344255702,
          -1.4902953905712553,
          -1.6300147817363237,
          -0.8475861912119399,
          0.19332327296782068,
          0.18633730340956725,
          0.08853372959401927,
          -0.11405938759533012,
          0.41687429883193033,
          0.4657760857397043,
          0.7312429289533345,
          1.4927136108029582,
          0.5076919030892248,
          1.2062888589145675,
          0.8290465027688825,
          0.7591868071863482,
          1.2831345240553553,
          0.47276205529795773,
          1.4158679456621703,
          1.0036957417252181,
          0.9757518634922044,
          1.3040924327301155,
          0.9827378330504579,
          0.9967097721669648,
          0.8779482896766565,
          0.27016893810860837,
          0.542621750880492,
          0.9268500765844305,
          1.3949100369874101,
          0.3749584814824098,
          0.4029023597154235,
          -0.16994714406135752,
          0.9827378330504579,
          -0.6170491957895768,
          -0.6869088913721111,
          -0.002283874663275281,
          0.5565936899969989,
          -0.3445963830176932,
          -0.25377877876039867,
          -0.12104535715358354,
          -0.7008808304886179,
          -0.33062444390118634,
          -0.6100632262313235,
          -1.0362073692847824,
          -2.2797099506538925,
          -0.9314178259109811
         ],
         "yaxis": "y"
        },
        {
         "hovertemplate": "<b>Week:</b> %{x}<br><b>Z-Score:</b> %{y:.2f}",
         "legendgroup": "Montana",
         "line": {
          "color": "#B6E880",
          "dash": "solid"
         },
         "marker": {
          "symbol": "circle"
         },
         "mode": "lines",
         "name": "Montana",
         "showlegend": true,
         "type": "scattergl",
         "x": [
          1,
          2,
          3,
          4,
          5,
          6,
          7,
          8,
          9,
          10,
          11,
          12,
          13,
          14,
          15,
          16,
          17,
          18,
          19,
          20,
          21,
          22,
          23,
          24,
          25,
          26,
          27,
          28,
          29,
          30,
          31,
          32,
          33,
          34,
          35,
          36,
          37,
          38,
          39,
          40,
          41,
          42,
          43,
          44,
          45,
          46,
          47,
          48,
          49,
          50,
          51,
          52
         ],
         "xaxis": "x",
         "y": [
          -0.39183905612951037,
          -1.2924194282282737,
          -1.7266278219187488,
          -1.0994379199213957,
          -0.6330659415131077,
          -2.192999800327037,
          -1.6944642372009358,
          -2.1125908385325043,
          -0.9868653734090503,
          -1.002947165767957,
          -0.6973931109487336,
          -0.6973931109487336,
          0.6052320701226918,
          -0.906456411614518,
          0.3318416000212815,
          -0.11844858602810011,
          0.7821317860706631,
          0.7660499937117566,
          0.26751443058565555,
          0.7338864089939436,
          0.910786124941915,
          1.6827121581694264,
          0.01020575284315177,
          1.039440463813167,
          0.9751132943775409,
          1.039440463813167,
          0.7982135784295696,
          1.2806673491967642,
          0.7499682013528501,
          1.3771581033502032,
          0.7178046166350371,
          1.2163401797611382,
          1.3610763109912967,
          0.7982135784295696,
          1.3449945186323902,
          -0.07020320895138066,
          1.0876858408898864,
          0.12277829935549718,
          0.8303771631473825,
          -0.42400264084732336,
          -0.08628500131028714,
          -0.4883298102829493,
          0.026287545202058258,
          1.2163401797611382,
          -0.6652295262309207,
          -0.9707835810501438,
          -0.9547017886912375,
          0.4444141465336269,
          -1.1798468817159282,
          -0.6973931109487336,
          -1.1476832969981152,
          -0.279266509617165
         ],
         "yaxis": "y"
        },
        {
         "hovertemplate": "<b>Week:</b> %{x}<br><b>Z-Score:</b> %{y:.2f}",
         "legendgroup": "Louisiana",
         "line": {
          "color": "#FF97FF",
          "dash": "solid"
         },
         "marker": {
          "symbol": "circle"
         },
         "mode": "lines",
         "name": "Louisiana",
         "showlegend": true,
         "type": "scattergl",
         "x": [
          1,
          2,
          3,
          4,
          5,
          6,
          7,
          8,
          9,
          10,
          11,
          12,
          13,
          14,
          15,
          16,
          17,
          18,
          19,
          20,
          21,
          22,
          23,
          24,
          25,
          26,
          27,
          28,
          29,
          30,
          31,
          32,
          33,
          34,
          35,
          36,
          37,
          38,
          39,
          40,
          41,
          42,
          43,
          44,
          45,
          46,
          47,
          48,
          49,
          50,
          51,
          52
         ],
         "xaxis": "x",
         "y": [
          0.7263783349577793,
          0.620327777865207,
          0.7970787063528274,
          0.019374621007297248,
          0.4612519422263485,
          -0.6699540000944227,
          -0.8643800214308053,
          -0.5285532573043263,
          -0.2104015860266094,
          -0.12202612178279915,
          1.4864073274545473,
          1.0268549133867342,
          0.7087032421090171,
          -0.12202612178279915,
          1.7515337201859782,
          0.3198511994362521,
          0.620327777865207,
          1.345006584664451,
          0.5849775921676829,
          1.3980318632107371,
          1.9282846486735987,
          0.9208043562941618,
          1.1505805633280684,
          0.1784504566461557,
          0.7617285206553034,
          1.0622050990842582,
          1.345006584664451,
          0.1784504566461557,
          1.4510571417570233,
          1.345006584664451,
          0.3552013851337762,
          -0.6169287215481365,
          -1.3769577140449047,
          -1.0588060427671877,
          -1.2709071569523325,
          -1.1118313213134738,
          0.2138006423436798,
          -0.6169287215481365,
          -0.776004557186995,
          -0.422502700211754,
          -0.6699540000944227,
          -0.6522789072456606,
          -0.8997302071283293,
          -1.0057807642209016,
          -1.0234558570696637,
          -1.6420841067763354,
          -1.7304595710201456,
          -0.22807667887537145,
          -1.129506414162236,
          -1.6420841067763354,
          -1.3239324354986186,
          -1.0411309499184258
         ],
         "yaxis": "y"
        },
        {
         "hovertemplate": "<b>Week:</b> %{x}<br><b>Z-Score:</b> %{y:.2f}",
         "legendgroup": "Connecticut",
         "line": {
          "color": "#FECB52",
          "dash": "solid"
         },
         "marker": {
          "symbol": "circle"
         },
         "mode": "lines",
         "name": "Connecticut",
         "showlegend": true,
         "type": "scattergl",
         "x": [
          1,
          2,
          3,
          4,
          5,
          6,
          7,
          8,
          9,
          10,
          11,
          12,
          13,
          14,
          15,
          16,
          17,
          18,
          19,
          20,
          21,
          22,
          23,
          24,
          25,
          26,
          27,
          28,
          29,
          30,
          31,
          32,
          33,
          34,
          35,
          36,
          37,
          38,
          39,
          40,
          41,
          42,
          43,
          44,
          45,
          46,
          47,
          48,
          49,
          50,
          51,
          52
         ],
         "xaxis": "x",
         "y": [
          0.05817478900153605,
          -0.10504943913227119,
          -2.1181482527825604,
          -0.36620820414636274,
          -1.1605661143975579,
          -1.9875688702755145,
          -1.5305410315008543,
          -1.7264101052614231,
          -1.3999616489938085,
          -0.9864602710548303,
          0.23228063234426377,
          0.4607945517315939,
          -0.13769428475903264,
          -0.5838405083247724,
          0.1452277106728999,
          -0.52943243228017,
          -0.8558808885477844,
          0.8851775448794927,
          0.5804923190297192,
          1.0375201578043793,
          0.5478474734029577,
          0.3084519388067071,
          0.37374163006023003,
          0.7219533167456854,
          0.7001900863278445,
          0.3410967844334686,
          0.1452277106728999,
          1.1898627707292662,
          0.4607945517315939,
          0.9395856209240951,
          0.667545240701083,
          0.6784268559100035,
          1.6795354551306878,
          1.636008994295006,
          1.5271928422058012,
          1.0375201578043793,
          1.2660340771917096,
          0.8851775448794927,
          0.9178223905062541,
          0.6784268559100035,
          -0.43149789539988564,
          0.6566636254921626,
          0.6784268559100035,
          -1.0843948079351147,
          -2.1181482527825604,
          -0.507669201862329,
          -1.8025814117238663,
          -0.6056037387426134,
          0.1561093258818204,
          -0.017996517460907333,
          -0.3009185128928399,
          -1.2367374208600013
         ],
         "yaxis": "y"
        },
        {
         "hovertemplate": "<b>Week:</b> %{x}<br><b>Z-Score:</b> %{y:.2f}",
         "legendgroup": "Washington",
         "line": {
          "color": "#636efa",
          "dash": "solid"
         },
         "marker": {
          "symbol": "circle"
         },
         "mode": "lines",
         "name": "Washington",
         "showlegend": true,
         "type": "scattergl",
         "x": [
          1,
          2,
          3,
          4,
          5,
          6,
          7,
          8,
          9,
          10,
          11,
          12,
          13,
          14,
          15,
          16,
          17,
          18,
          19,
          20,
          21,
          22,
          23,
          24,
          25,
          26,
          27,
          28,
          29,
          30,
          31,
          32,
          33,
          34,
          35,
          36,
          37,
          38,
          39,
          40,
          41,
          42,
          43,
          44,
          45,
          46,
          47,
          48,
          49,
          50,
          51,
          52
         ],
         "xaxis": "x",
         "y": [
          -0.34146333887823704,
          -1.7466482909141425,
          -3.530718190750305,
          -1.183838611172013,
          -1.2500515146710869,
          -1.4891536661955211,
          -1.4744396876401713,
          -1.422940762696447,
          -1.349370869919698,
          -0.9520934489252536,
          -1.3309783967255109,
          -0.889559040065017,
          -0.775525706261056,
          -1.257408503948762,
          -0.41871172629382347,
          0.2176678462250552,
          0.5413753744427507,
          0.2470958033357548,
          -0.24582247826846337,
          0.5781603208311252,
          0.4199850513611149,
          1.0637216131576686,
          -0.5143525869035971,
          0.6774796760797364,
          0.6480517189690367,
          1.4609990341521129,
          0.2103108569473803,
          0.8282979562720717,
          0.9460097847148701,
          1.339608711070477,
          1.0048656989362692,
          0.5082689226932137,
          0.9754377418255696,
          1.026936666769294,
          1.1115420434625554,
          0.33537967466785357,
          0.4420560191941396,
          0.7289786010234606,
          0.8503689241050965,
          0.8761183865769586,
          0.004315157172483164,
          0.4273420406387898,
          0.08524203922690704,
          1.32121623787629,
          0.11834849097644408,
          0.46044849238832686,
          -0.5695300064861589,
          0.9018678490488207,
          -0.0030418321051917338,
          0.22502483550273011,
          -0.32674936032288726,
          0.4898764494990264
         ],
         "yaxis": "y"
        },
        {
         "hovertemplate": "<b>Week:</b> %{x}<br><b>Z-Score:</b> %{y:.2f}",
         "legendgroup": "Tennessee",
         "line": {
          "color": "#EF553B",
          "dash": "solid"
         },
         "marker": {
          "symbol": "circle"
         },
         "mode": "lines",
         "name": "Tennessee",
         "showlegend": true,
         "type": "scattergl",
         "x": [
          1,
          2,
          3,
          4,
          5,
          6,
          7,
          8,
          9,
          10,
          11,
          12,
          13,
          14,
          15,
          16,
          17,
          18,
          19,
          20,
          21,
          22,
          23,
          24,
          25,
          26,
          27,
          28,
          29,
          30,
          31,
          32,
          33,
          34,
          35,
          36,
          37,
          38,
          39,
          40,
          41,
          42,
          43,
          44,
          45,
          46,
          47,
          48,
          49,
          50,
          51,
          52
         ],
         "xaxis": "x",
         "y": [
          0.39886705323432536,
          -0.9845226888619961,
          -1.27242390503019,
          -1.1089545704262154,
          -0.6966214726938021,
          -2.323995296288593,
          -1.638400027277894,
          -1.3090215172549604,
          -0.07934174650267466,
          -1.335859766219792,
          0.4549833919789733,
          0.576975432728208,
          1.6261069831716264,
          0.672129224512611,
          0.7453244489621519,
          0.43058498382912636,
          0.9087937835661264,
          2.5703253785707028,
          -0.006146522053133835,
          1.3967619465630652,
          1.213773885439213,
          1.6114679382817183,
          0.43546466545909573,
          0.8038806285217845,
          1.4284798771578662,
          1.135698979359703,
          0.5403778205034376,
          0.2109993104805039,
          0.664809702067657,
          0.7087268367373815,
          0.5330582980584835,
          -0.32088598718615935,
          0.4525435511639886,
          0.23539771863035086,
          0.9136734651960957,
          0.15488297173585597,
          0.03289093098662127,
          -0.16473617502713894,
          0.08900726973126923,
          -0.3111266239262206,
          -0.8747298521876848,
          -0.5209529340149043,
          -0.31356646474120525,
          -0.12325888117239914,
          -0.745418288993496,
          -1.5578852803833991,
          -1.687196843577588,
          -0.6575840196540471,
          -0.2257321954017563,
          -1.0845561622763684,
          -1.5456860763084757,
          -0.0573831791678124
         ],
         "yaxis": "y"
        },
        {
         "hovertemplate": "<b>Week:</b> %{x}<br><b>Z-Score:</b> %{y:.2f}",
         "legendgroup": "Rhode Island",
         "line": {
          "color": "#00cc96",
          "dash": "solid"
         },
         "marker": {
          "symbol": "circle"
         },
         "mode": "lines",
         "name": "Rhode Island",
         "showlegend": true,
         "type": "scattergl",
         "x": [
          1,
          2,
          3,
          4,
          5,
          6,
          7,
          8,
          9,
          10,
          11,
          12,
          13,
          14,
          15,
          16,
          17,
          18,
          19,
          20,
          21,
          22,
          23,
          24,
          25,
          26,
          27,
          28,
          29,
          30,
          31,
          32,
          33,
          34,
          35,
          36,
          37,
          38,
          39,
          40,
          41,
          42,
          43,
          44,
          45,
          46,
          47,
          48,
          49,
          50,
          51,
          52
         ],
         "xaxis": "x",
         "y": [
          -1.0517425848813189,
          -1.4846498229855032,
          -1.7892882497995588,
          -1.083809787703851,
          -0.8433057665348599,
          -1.6129186342756319,
          -0.8433057665348599,
          -2.238229089315009,
          -1.2281122004052458,
          -0.8272721651235938,
          0.5516175562452895,
          -0.009558493149023451,
          -0.666936151010933,
          -0.3141969199630791,
          0.3271471364875643,
          0.9684911929382077,
          0.7279871717692165,
          0.3431807378988304,
          0.9684911929382077,
          0.9203903887044095,
          1.208995214107199,
          1.0165919971720059,
          -0.7952049623010616,
          0.4393823463664269,
          0.6798863675354182,
          0.6959199689466843,
          1.6579360536226493,
          0.27904633225376607,
          1.0807264028170702,
          0.9845247943494738,
          0.31111353507629824,
          1.417432032453658,
          1.3212304239860615,
          1.6900032564451815,
          1.5457008437437867,
          0.18284472378616956,
          1.2891632211635293,
          0.7440207731804825,
          0.42334874495516084,
          -0.13782730443915212,
          -0.9395073750024564,
          0.3271471364875643,
          0.4393823463664269,
          -0.009558493149023451,
          -1.0517425848813189,
          -1.1479441933489154,
          -1.1319105919376493,
          -0.49056653548700596,
          0.006475108262242633,
          -1.0998433891151171,
          -1.1158769905263832,
          -0.6348689481884008
         ],
         "yaxis": "y"
        },
        {
         "hovertemplate": "<b>Week:</b> %{x}<br><b>Z-Score:</b> %{y:.2f}",
         "legendgroup": "Massachusetts",
         "line": {
          "color": "#ab63fa",
          "dash": "solid"
         },
         "marker": {
          "symbol": "circle"
         },
         "mode": "lines",
         "name": "Massachusetts",
         "showlegend": true,
         "type": "scattergl",
         "x": [
          1,
          2,
          3,
          4,
          5,
          6,
          7,
          8,
          9,
          10,
          11,
          12,
          13,
          14,
          15,
          16,
          17,
          18,
          19,
          20,
          21,
          22,
          23,
          24,
          25,
          26,
          27,
          28,
          29,
          30,
          31,
          32,
          33,
          34,
          35,
          36,
          37,
          38,
          39,
          40,
          41,
          42,
          43,
          44,
          45,
          46,
          47,
          48,
          49,
          50,
          51,
          52
         ],
         "xaxis": "x",
         "y": [
          0.7368239408458112,
          -0.7039313378158942,
          -1.5129115744976005,
          -0.5074647089074799,
          -0.6692607562438211,
          -1.7209350639300391,
          -1.0853077351086986,
          -1.971333708617234,
          -1.9019925454730877,
          -1.2779220771757716,
          0.047264596245690106,
          0.08193517781776323,
          -0.676965329926504,
          -1.1353874640461377,
          -0.5883627325756505,
          0.15898091464459238,
          -0.18002032739345594,
          -0.19928176160016323,
          -0.1453497458213828,
          0.8138696776726403,
          1.206802935489469,
          0.6713350645430063,
          0.23602665147142154,
          0.7599376618938599,
          0.9409951434369084,
          1.064268322359835,
          1.4995767354314198,
          1.9271805748203217,
          1.4995767354314198,
          1.3223715407297127,
          0.9718134381676401,
          0.9178814223888596,
          1.2260643696961764,
          1.3223715407297127,
          0.7252670803217868,
          0.5133913040480066,
          0.7637899487352013,
          0.7214147934804452,
          0.7368239408458112,
          0.5827324671921528,
          -0.7771247878013819,
          0.32077696198093364,
          0.6867442119083722,
          -0.9658868430271134,
          -1.289478937699796,
          -0.3456686615711386,
          -1.2509560692863813,
          -0.5190215694315042,
          -0.3764869563018703,
          -0.38033924314321177,
          -0.4766464141767482,
          -1.7979808007568683
         ],
         "yaxis": "y"
        },
        {
         "hovertemplate": "<b>Week:</b> %{x}<br><b>Z-Score:</b> %{y:.2f}",
         "legendgroup": "Arizona",
         "line": {
          "color": "#FFA15A",
          "dash": "solid"
         },
         "marker": {
          "symbol": "circle"
         },
         "mode": "lines",
         "name": "Arizona",
         "showlegend": true,
         "type": "scattergl",
         "x": [
          1,
          2,
          3,
          4,
          5,
          6,
          7,
          8,
          9,
          10,
          11,
          12,
          13,
          14,
          15,
          16,
          17,
          18,
          19,
          20,
          21,
          22,
          23,
          24,
          25,
          26,
          27,
          28,
          29,
          30,
          31,
          32,
          33,
          34,
          35,
          36,
          37,
          38,
          39,
          40,
          41,
          42,
          43,
          44,
          45,
          46,
          47,
          48,
          49,
          50,
          51,
          52
         ],
         "xaxis": "x",
         "y": [
          0.344362180521895,
          1.0243685116790548,
          -0.9400942227749625,
          0.49547469855681936,
          0.042137144452046145,
          0.49547469855681936,
          -0.7889817047400381,
          1.1754810297139793,
          -0.4867566686701893,
          1.1754810297139793,
          -0.9400942227749625,
          -0.4112004096527271,
          0.6465872165917438,
          -0.4867566686701893,
          -0.33564415063526487,
          -0.6378691867051137,
          -0.33564415063526487,
          2.3088249149759124,
          -0.26008789161780266,
          0.7976997346266682,
          2.082156137923526,
          -0.03341911456541606,
          -1.2423192588448113,
          0.49547469855681936,
          -1.1667629998273492,
          -0.9400942227749625,
          -0.4112004096527271,
          -1.3934317768797357,
          -0.9400942227749625,
          0.49547469855681936,
          -1.0156504817924248,
          0.2688059215044328,
          1.2510372887314414,
          1.0243685116790548,
          3.291056282202921,
          0.49547469855681936,
          -1.2423192588448113,
          -0.7889817047400381,
          -1.1667629998273492,
          -1.0156504817924248,
          -0.03341911456541606,
          1.2510372887314414,
          -0.26008789161780266,
          0.19324966248697056,
          0.5710309575742816,
          -1.7712130719670467,
          -0.03341911456541606,
          -0.5623129276876515,
          0.2688059215044328,
          -0.6378691867051137,
          -0.4867566686701893,
          0.5710309575742816
         ],
         "yaxis": "y"
        },
        {
         "hovertemplate": "<b>Week:</b> %{x}<br><b>Z-Score:</b> %{y:.2f}",
         "legendgroup": "Alabama",
         "line": {
          "color": "#19d3f3",
          "dash": "solid"
         },
         "marker": {
          "symbol": "circle"
         },
         "mode": "lines",
         "name": "Alabama",
         "showlegend": true,
         "type": "scattergl",
         "x": [
          1,
          2,
          3,
          4,
          5,
          6,
          7,
          8,
          9,
          10,
          11,
          12,
          13,
          14,
          15,
          16,
          17,
          18,
          19,
          20,
          21,
          22,
          23,
          24,
          25,
          26,
          27,
          28,
          29,
          30,
          31,
          32,
          33,
          34,
          35,
          36,
          37,
          38,
          39,
          40,
          41,
          42,
          43,
          44,
          45,
          46,
          47,
          48,
          49,
          50,
          51,
          52
         ],
         "xaxis": "x",
         "y": [
          -0.47674963714390206,
          -0.15055251699281133,
          0.06691222977458247,
          -1.1291438774460836,
          -2.2164676112830524,
          0.3931093499256732,
          0.06691222977458247,
          -0.04182014360911443,
          -0.9116791306786897,
          -2.1077352378993557,
          -2.3251999846667495,
          -0.04182014360911443,
          -0.8029467572949928,
          -0.25928489037650826,
          -1.0204115040623867,
          1.806630203913733,
          1.2629683369952485,
          -0.47674963714390206,
          0.719306470076764,
          0.06691222977458247,
          -1.0204115040623867,
          -0.04182014360911443,
          1.2629683369952485,
          -0.6942143839112959,
          -0.15055251699281133,
          -0.15055251699281133,
          1.0455035902278547,
          0.8280388434604609,
          1.9153625772974299,
          1.1542359636115516,
          -0.25928489037650826,
          0.719306470076764,
          1.3717007103789454,
          0.06691222977458247,
          -0.15055251699281133,
          -0.8029467572949928,
          -1.3466086242134774,
          -1.2378762508297805,
          1.3717007103789454,
          0.3931093499256732,
          0.9367712168441578,
          -0.04182014360911443,
          0.17564460315827937,
          -1.5640733709808712,
          1.0455035902278547,
          -0.25928489037650826,
          0.719306470076764,
          0.2843769765419763,
          -0.04182014360911443,
          0.2843769765419763,
          1.9153625772974299,
          -0.15055251699281133
         ],
         "yaxis": "y"
        },
        {
         "hovertemplate": "<b>Week:</b> %{x}<br><b>Z-Score:</b> %{y:.2f}",
         "legendgroup": "South Dakota",
         "line": {
          "color": "#FF6692",
          "dash": "solid"
         },
         "marker": {
          "symbol": "circle"
         },
         "mode": "lines",
         "name": "South Dakota",
         "showlegend": true,
         "type": "scattergl",
         "x": [
          1,
          2,
          3,
          4,
          5,
          6,
          7,
          8,
          9,
          10,
          11,
          12,
          13,
          14,
          15,
          16,
          17,
          18,
          19,
          20,
          21,
          22,
          23,
          24,
          25,
          26,
          27,
          28,
          29,
          30,
          31,
          32,
          33,
          34,
          35,
          36,
          37,
          38,
          39,
          40,
          41,
          42,
          43,
          44,
          45,
          46,
          47,
          48,
          49,
          50,
          51,
          52
         ],
         "xaxis": "x",
         "y": [
          -0.550263967018787,
          -1.1303983782903928,
          -1.3549665374923048,
          -1.5046786436269126,
          -0.34440982108370105,
          -1.8041028558961285,
          -1.2239684446245227,
          -0.7374040996870469,
          -0.8496881792880029,
          -0.8496881792880029,
          -0.11984166188178913,
          -0.36312383435052703,
          0.6287188687912506,
          -0.044985608814485156,
          -0.681262059886569,
          -0.2508397547495711,
          0.4977207759234687,
          0.8158590014595106,
          0.1234405105869488,
          0.5725768289907727,
          0.16086853712060079,
          1.0217131473945964,
          1.3585653861974645,
          0.6474328820580766,
          0.8345730147263366,
          1.9199857842022443,
          1.4334214392647684,
          1.8077017046012882,
          1.1339972269955525,
          1.0029991341277704,
          2.0696978903368524,
          1.5644195321325503,
          0.7410029483922066,
          0.1047264973201228,
          0.9655711075941186,
          0.25443860345473074,
          -0.17598370168226712,
          -0.38183784761735307,
          0.9281430810604665,
          0.19829656365425277,
          -0.7561181129538729,
          -0.10112764861496314,
          -0.681262059886569,
          0.5912908422575986,
          -1.1491123915572188,
          -0.8122601527543509,
          -0.7186900864202209,
          0.01115643098599283,
          -1.3736805507591308,
          -1.6731047630283467,
          -1.9538149620307366,
          0.19829656365425277
         ],
         "yaxis": "y"
        },
        {
         "hovertemplate": "<b>Week:</b> %{x}<br><b>Z-Score:</b> %{y:.2f}",
         "legendgroup": "Utah",
         "line": {
          "color": "#B6E880",
          "dash": "solid"
         },
         "marker": {
          "symbol": "circle"
         },
         "mode": "lines",
         "name": "Utah",
         "showlegend": true,
         "type": "scattergl",
         "x": [
          1,
          2,
          3,
          4,
          5,
          6,
          7,
          8,
          9,
          10,
          11,
          12,
          13,
          14,
          15,
          16,
          17,
          18,
          19,
          20,
          21,
          22,
          23,
          24,
          25,
          26,
          27,
          28,
          29,
          30,
          31,
          32,
          33,
          34,
          35,
          36,
          37,
          38,
          39,
          40,
          41,
          42,
          43,
          44,
          45,
          46,
          47,
          48,
          49,
          50,
          51,
          52
         ],
         "xaxis": "x",
         "y": [
          -0.3698325104714255,
          -1.431363278759881,
          -1.6202245810934097,
          -1.1513275546101656,
          -0.929903958770856,
          -0.6824305281269216,
          -1.476950489667974,
          -1.8611855530361878,
          -1.4053134439552561,
          -1.1904023068171026,
          -1.2750642699321328,
          -0.7670924912419518,
          -0.3372702169656447,
          -0.9494413348743245,
          -0.22004596034483367,
          0.2618759835407227,
          0.47678712067887624,
          1.0042962754725258,
          -0.08979678632171031,
          1.1996700365072108,
          0.580986459897375,
          1.3494565866338026,
          -0.1744587494367405,
          -0.04420957541361715,
          -0.115846621126335,
          1.088958238587556,
          1.245257247415304,
          0.35305040535690907,
          1.284331999622241,
          1.831378530519359,
          2.443549648428039,
          1.4992431367603947,
          1.3624815040361151,
          0.9521966058632765,
          0.8740471014494025,
          0.8089225144378408,
          0.15116418562106787,
          0.7633353035297477,
          0.053477305103725364,
          0.659135964311249,
          0.09906451601181854,
          0.10557697471297471,
          -0.3177328408621762,
          0.2293136900349419,
          -0.7280177390350148,
          -0.22004596034483367,
          -1.047128215391667,
          1.010808734173682,
          -0.7931423260465764,
          -0.5196190605980173,
          -1.3336763982425384,
          -0.6368433172188284
         ],
         "yaxis": "y"
        },
        {
         "hovertemplate": "<b>Week:</b> %{x}<br><b>Z-Score:</b> %{y:.2f}",
         "legendgroup": "New Hampshire",
         "line": {
          "color": "#FF97FF",
          "dash": "solid"
         },
         "marker": {
          "symbol": "circle"
         },
         "mode": "lines",
         "name": "New Hampshire",
         "showlegend": true,
         "type": "scattergl",
         "x": [
          1,
          2,
          3,
          4,
          5,
          6,
          7,
          8,
          9,
          10,
          11,
          12,
          13,
          14,
          15,
          16,
          17,
          18,
          19,
          20,
          21,
          22,
          23,
          24,
          25,
          26,
          27,
          28,
          29,
          30,
          31,
          32,
          33,
          34,
          35,
          36,
          37,
          38,
          39,
          40,
          41,
          42,
          43,
          44,
          45,
          46,
          47,
          48,
          49,
          50,
          51,
          52
         ],
         "xaxis": "x",
         "y": [
          0.049004521785220787,
          -1.0246173869711874,
          -1.6584423692490669,
          -1.2833214613703219,
          -0.2873107749336541,
          -0.2096995526139137,
          -0.8047189237319231,
          -1.2962566650902787,
          -1.9300816473681581,
          -1.2962566650902787,
          0.7086999115030138,
          0.8897927635824079,
          -0.08034751541434647,
          -0.1579587377340868,
          0.43706063338392254,
          0.33357900362426873,
          0.24303257758457167,
          -0.2873107749336541,
          0.29477339246439854,
          1.6659049867798115,
          1.7952570239793786,
          0.6310886891832734,
          0.07487492922513424,
          0.5146718557036629,
          0.010198910625350608,
          0.9027279673023646,
          1.872868246299119,
          1.303719282621023,
          1.0450152082218886,
          1.549488153300201,
          1.6659049867798115,
          0.8509871524225378,
          0.695764707783057,
          0.28183818874444183,
          0.44999583710387925,
          0.28183818874444183,
          0.9544687821821916,
          0.2689029850244851,
          0.6310886891832734,
          -0.5848204604926588,
          -0.6236260716525289,
          0.2559677813045284,
          0.320643799904312,
          -0.8047189237319231,
          -1.2833214613703219,
          -0.5848204604926588,
          -1.9688872585280284,
          -0.85645973861175,
          0.11368054038500441,
          -0.947006164651447,
          -0.85645973861175,
          -2.266396944087033
         ],
         "yaxis": "y"
        },
        {
         "hovertemplate": "<b>Week:</b> %{x}<br><b>Z-Score:</b> %{y:.2f}",
         "legendgroup": "Maine",
         "line": {
          "color": "#FECB52",
          "dash": "solid"
         },
         "marker": {
          "symbol": "circle"
         },
         "mode": "lines",
         "name": "Maine",
         "showlegend": true,
         "type": "scattergl",
         "x": [
          1,
          2,
          3,
          4,
          5,
          6,
          7,
          8,
          9,
          10,
          11,
          12,
          13,
          14,
          15,
          16,
          17,
          18,
          19,
          20,
          21,
          22,
          23,
          24,
          25,
          26,
          27,
          28,
          29,
          30,
          31,
          32,
          33,
          34,
          35,
          36,
          37,
          38,
          39,
          40,
          41,
          42,
          43,
          44,
          45,
          46,
          47,
          48,
          49,
          50,
          51,
          52
         ],
         "xaxis": "x",
         "y": [
          1.273322097124166,
          -1.7182177696133314,
          -2.117089751844998,
          -1.2861064555290262,
          -1.2528671236763873,
          -0.6213198184762491,
          -0.2224478362445827,
          -1.8844144288765257,
          -2.1835684155502757,
          -1.119909796265832,
          0.40909946895555566,
          0.57529612821875,
          0.04346681857652818,
          0.30938147339763905,
          0.40909946895555566,
          1.1071254378609716,
          0.07670615042916704,
          0.40909946895555566,
          -0.9537131370026376,
          0.7082534556293054,
          0.40909946895555566,
          0.34262080525027794,
          -0.18920850439194384,
          1.0074074423030552,
          0.4423388008081945,
          0.1764241459870836,
          1.771912074913749,
          0.9076894467451385,
          1.4395187563873604,
          0.9741681104504163,
          1.2068434334188882,
          0.7414927874819442,
          0.14318481413444475,
          1.539236751945277,
          0.9076894467451385,
          0.4423388008081945,
          -0.18920850439194384,
          -0.2556871680972216,
          -1.119909796265832,
          -0.35540516365513813,
          0.07670615042916704,
          0.07670615042916704,
          1.7054334112084713,
          1.1071254378609716,
          -1.0201918007079154,
          0.1764241459870836,
          -0.9869524688552765,
          0.30938147339763905,
          -0.5548411547709713,
          -0.42188382736041585,
          -1.1863884599711096,
          -1.585260442202776
         ],
         "yaxis": "y"
        },
        {
         "hovertemplate": "<b>Week:</b> %{x}<br><b>Z-Score:</b> %{y:.2f}",
         "legendgroup": "DC",
         "line": {
          "color": "#636efa",
          "dash": "solid"
         },
         "marker": {
          "symbol": "circle"
         },
         "mode": "lines",
         "name": "DC",
         "showlegend": true,
         "type": "scattergl",
         "x": [
          1,
          2,
          3,
          4,
          5,
          6,
          7,
          8,
          9,
          10,
          11,
          12,
          13,
          14,
          15,
          16,
          17,
          18,
          19,
          20,
          21,
          22,
          23,
          24,
          25,
          26,
          27,
          28,
          29,
          30,
          31,
          32,
          33,
          34,
          35,
          36,
          37,
          38,
          39,
          40,
          41,
          42,
          43,
          44,
          45,
          46,
          47,
          48,
          49,
          50,
          51,
          52
         ],
         "xaxis": "x",
         "y": [
          -0.9201944382127045,
          -0.7354449757144008,
          1.4815485742652428,
          1.7586727680126983,
          0.7425507242720283,
          -0.18119658821948995,
          1.1120496492686356,
          0.18830233677711733,
          -0.9201944382127045,
          0.2806770680262691,
          -0.18119658821948995,
          -0.4583207819669454,
          -0.08882185697033813,
          0.2806770680262691,
          -0.18119658821948995,
          0.373051799275421,
          -0.8278197069635527,
          -0.8278197069635527,
          0.373051799275421,
          -0.4583207819669454,
          -0.08882185697033813,
          -0.08882185697033813,
          1.6662980367635465,
          1.5739233055143946,
          0.83492545552118,
          -0.08882185697033813,
          -1.2896933632093117,
          1.2044243805177872,
          1.2044243805177872,
          0.9273001867703319,
          0.83492545552118,
          -0.08882185697033813,
          -0.36594605071779357,
          -0.27357131946864177,
          -0.5506955132160972,
          0.0959276055279655,
          2.0357969617601537,
          1.85104749926185,
          1.1120496492686356,
          -0.5506955132160972,
          -0.6430702444652491,
          -0.4583207819669454,
          -1.6591922882059191,
          0.2806770680262691,
          0.0959276055279655,
          0.0035528742788136828,
          -1.4744428257076154,
          -0.8278197069635527,
          -0.5506955132160972,
          -0.8278197069635527,
          -2.675314331946589,
          -2.0286912132025265
         ],
         "yaxis": "y"
        },
        {
         "hovertemplate": "<b>Week:</b> %{x}<br><b>Z-Score:</b> %{y:.2f}",
         "legendgroup": "Nebraska",
         "line": {
          "color": "#EF553B",
          "dash": "solid"
         },
         "marker": {
          "symbol": "circle"
         },
         "mode": "lines",
         "name": "Nebraska",
         "showlegend": true,
         "type": "scattergl",
         "x": [
          1,
          2,
          3,
          4,
          5,
          6,
          7,
          8,
          9,
          10,
          11,
          12,
          13,
          14,
          15,
          16,
          17,
          18,
          19,
          20,
          21,
          22,
          23,
          24,
          25,
          26,
          27,
          28,
          29,
          30,
          31,
          32,
          33,
          34,
          35,
          36,
          37,
          38,
          39,
          40,
          41,
          42,
          43,
          44,
          45,
          46,
          47,
          48,
          49,
          50,
          51,
          52
         ],
         "xaxis": "x",
         "y": [
          -0.813589839352001,
          -1.4666458446305206,
          -2.034520631829233,
          -1.040739754231486,
          -1.6370082807901343,
          -1.1543147116712287,
          -1.3814646265507136,
          -0.586439924472516,
          -0.13214009471354596,
          -1.6937957595100055,
          -0.47286496703277353,
          -0.5012587063927091,
          0.4641284318451023,
          0.23697851696561723,
          -1.0123460148715504,
          -0.0753526159936747,
          0.23697851696561723,
          1.3159406126431712,
          -0.38768374895296664,
          0.6628846073646516,
          0.26537225632555284,
          -0.38768374895296664,
          -0.018565137273803444,
          0.407340953125231,
          1.3443343520031068,
          1.1171844371236217,
          0.7480658254444585,
          1.5714842668825917,
          1.940602878561755,
          1.2591531339232997,
          1.8270279211220124,
          0.5493096499249092,
          0.06661608080600344,
          0.407340953125231,
          1.4863030488027849,
          0.038222341446067815,
          0.3789472137652954,
          0.7764595648043942,
          1.173971915843493,
          0.9184282616040723,
          0.634490868004716,
          0.6912783467245873,
          -0.7851960999920654,
          0.5777033892848448,
          -0.44447122767283787,
          0.06661608080600344,
          -0.9839522755116148,
          0.26537225632555284,
          -0.5012587063927091,
          -0.38768374895296664,
          -2.034520631829233,
          -1.4950395839904562
         ],
         "yaxis": "y"
        },
        {
         "hovertemplate": "<b>Week:</b> %{x}<br><b>Z-Score:</b> %{y:.2f}",
         "legendgroup": "North Dakota",
         "line": {
          "color": "#00cc96",
          "dash": "solid"
         },
         "marker": {
          "symbol": "circle"
         },
         "mode": "lines",
         "name": "North Dakota",
         "showlegend": true,
         "type": "scattergl",
         "x": [
          1,
          2,
          3,
          4,
          5,
          6,
          7,
          8,
          9,
          10,
          11,
          12,
          13,
          14,
          15,
          16,
          17,
          18,
          19,
          20,
          21,
          22,
          23,
          24,
          25,
          26,
          27,
          28,
          29,
          30,
          31,
          32,
          33,
          34,
          35,
          36,
          37,
          38,
          39,
          40,
          41,
          42,
          43,
          44,
          45,
          46,
          47,
          48,
          49,
          50,
          51,
          52
         ],
         "xaxis": "x",
         "y": [
          0.2576778766903936,
          -0.8292818981392895,
          -1.7976642429875527,
          -1.2443029030742594,
          -0.4933125131919329,
          -0.730467373154773,
          -0.6711786581640629,
          -1.3826432380525828,
          -0.9873851381145162,
          -1.0664367581021295,
          -0.256157653229093,
          -0.5723641331795463,
          0.2576778766903936,
          -0.43402379820122294,
          -0.8885706131299995,
          -0.41426089320431964,
          0.11933754171207028,
          0.6331730716315569,
          0.2576778766903936,
          0.5541214516439436,
          0.5738843566408469,
          0.5936472616377502,
          0.9296166465851068,
          0.6529359766284601,
          1.2062973165417534,
          1.60155541647982,
          0.5738843566408469,
          0.8110392166036868,
          1.2853489365293667,
          0.8110392166036868,
          1.9770506114209834,
          0.7715134066098802,
          1.1667715065479467,
          1.5620296064860133,
          2.43159742634976,
          1.1470086015510434,
          0.8703279315943968,
          0.3367294966780069,
          -0.11781731825076967,
          -0.15734312824457633,
          -0.315446368219803,
          0.2576778766903936,
          -0.9280964231238062,
          0.1983891616996836,
          -1.3826432380525828,
          -1.2838287130680661,
          -1.6790868130061327,
          -0.6316528481702562,
          -0.9873851381145162,
          -1.698849718003036,
          -1.145488378089743,
          0.2576778766903936
         ],
         "yaxis": "y"
        },
        {
         "hovertemplate": "<b>Week:</b> %{x}<br><b>Z-Score:</b> %{y:.2f}",
         "legendgroup": "Delaware",
         "line": {
          "color": "#ab63fa",
          "dash": "solid"
         },
         "marker": {
          "symbol": "circle"
         },
         "mode": "lines",
         "name": "Delaware",
         "showlegend": true,
         "type": "scattergl",
         "x": [
          1,
          2,
          3,
          4,
          5,
          6,
          7,
          8,
          9,
          10,
          11,
          12,
          13,
          14,
          15,
          16,
          17,
          18,
          19,
          20,
          21,
          22,
          23,
          24,
          25,
          26,
          27,
          28,
          29,
          30,
          31,
          32,
          33,
          34,
          35,
          36,
          37,
          38,
          39,
          40,
          41,
          42,
          43,
          44,
          45,
          46,
          47,
          48,
          49,
          50,
          51,
          52
         ],
         "xaxis": "x",
         "y": [
          0.2522477585746746,
          -1.429061818415422,
          -1.0154062875686523,
          -0.6017507567218824,
          -0.8419378391490391,
          -2.336435240918014,
          -1.1354998287822304,
          -1.9628108904757702,
          -1.2422496431943002,
          -1.4824367256214568,
          0.052091856552044055,
          0.9728090058561446,
          -0.37490740109623444,
          -1.1888747359882652,
          0.07877931015506147,
          0.33231011938372684,
          0.3723412997882529,
          1.2530272686878272,
          0.9461215522531271,
          0.6659032894214444,
          2.25380677880098,
          0.6258721090169183,
          0.8927466450470923,
          0.9594652790546359,
          0.866059191444075,
          0.3723412997882529,
          0.45240366059730514,
          0.5324660214063573,
          0.8927466450470923,
          0.8527154646425662,
          1.5332455315195102,
          1.626651619130071,
          0.7859968306350227,
          -0.16140777227209518,
          0.3856850265897616,
          0.15884167096411367,
          1.0261839130621793,
          0.3189663925822181,
          1.22633981508481,
          0.5591534750093747,
          -0.6150944835233911,
          0.7192781966274792,
          0.14549794416260498,
          -1.4424055452169307,
          -0.5483758495158476,
          -1.3089682772018436,
          -1.0020625607671434,
          -0.5617195763173563,
          -1.0954686483777043,
          -0.13472031866907777,
          -0.6951568443324433,
          -0.9353439267596
         ],
         "yaxis": "y"
        },
        {
         "hovertemplate": "<b>Week:</b> %{x}<br><b>Z-Score:</b> %{y:.2f}",
         "legendgroup": "Iowa",
         "line": {
          "color": "#FFA15A",
          "dash": "solid"
         },
         "marker": {
          "symbol": "circle"
         },
         "mode": "lines",
         "name": "Iowa",
         "showlegend": true,
         "type": "scattergl",
         "x": [
          1,
          2,
          3,
          4,
          5,
          6,
          7,
          8,
          9,
          10,
          11,
          12,
          13,
          14,
          15,
          16,
          17,
          18,
          19,
          20,
          21,
          22,
          23,
          24,
          25,
          26,
          27,
          28,
          29,
          30,
          31,
          32,
          33,
          34,
          35,
          36,
          37,
          38,
          39,
          40,
          41,
          42,
          43,
          44,
          45,
          46,
          47,
          48,
          49,
          50,
          51,
          52
         ],
         "xaxis": "x",
         "y": [
          0.051153247127091205,
          -1.7615148207812379,
          -2.04626344447565,
          -0.9906100102914888,
          -0.4975087351133609,
          -1.553162169297522,
          -1.9698674722649538,
          -1.8101304394607716,
          -0.6225203260035905,
          -1.0392256289710224,
          0.31506660567313144,
          0.20394519154848292,
          0.27339607537638827,
          -0.32388152554359756,
          -0.09469360891150999,
          0.752607173788935,
          0.8637285879135835,
          1.5374021610442652,
          0.7248268202577729,
          0.4956389036256853,
          0.7456620854061445,
          0.7248268202577729,
          1.2665437141154345,
          0.5442545223052191,
          0.842893322765212,
          1.808260607973096,
          1.07902632778009,
          1.1762575651391576,
          0.8290031459996309,
          1.169312476756367,
          1.4540611004507789,
          0.3428469592042936,
          0.5928701409847528,
          -0.09469360891150999,
          0.9123442065931173,
          0.0719885122754628,
          0.5442545223052191,
          -0.12247396244267213,
          -0.3655520558403408,
          0.8151129692340499,
          -0.6503006795347527,
          -0.5044538234961514,
          0.8498384111480025,
          -0.011352548318023594,
          -0.3586069674575502,
          -0.5461243537928946,
          -0.7266966517454485,
          -0.1641444927394153,
          -0.6155752376207999,
          -0.8100377123389348,
          -2.8102231665826083,
          -0.4975087351133609
         ],
         "yaxis": "y"
        },
        {
         "hovertemplate": "<b>Week:</b> %{x}<br><b>Z-Score:</b> %{y:.2f}",
         "legendgroup": "Oklahoma",
         "line": {
          "color": "#19d3f3",
          "dash": "solid"
         },
         "marker": {
          "symbol": "circle"
         },
         "mode": "lines",
         "name": "Oklahoma",
         "showlegend": true,
         "type": "scattergl",
         "x": [
          1,
          2,
          3,
          4,
          5,
          6,
          7,
          8,
          9,
          10,
          11,
          12,
          13,
          14,
          15,
          16,
          17,
          18,
          19,
          20,
          21,
          22,
          23,
          24,
          25,
          26,
          27,
          28,
          29,
          30,
          31,
          32,
          33,
          34,
          35,
          36,
          37,
          38,
          39,
          40,
          41,
          42,
          43,
          44,
          45,
          46,
          47,
          48,
          49,
          50,
          51,
          52
         ],
         "xaxis": "x",
         "y": [
          -0.2999931685974025,
          -1.747055017530029,
          -1.6198407890524353,
          -2.1605012600822078,
          -1.588037231933037,
          -1.6834479032912322,
          -2.0650905887240127,
          -1.9537781388061184,
          0.09755129539507731,
          -0.7770465253883783,
          -0.013761154522817025,
          -0.7134394111495814,
          0.8926402233800369,
          -0.15687716156010975,
          -0.2999931685974025,
          -0.04556471164221541,
          0.3519797523502644,
          1.5446131443277038,
          -0.20458249723920732,
          0.6382117664248498,
          0.4632922022681587,
          1.2265775731337198,
          0.36788153090996356,
          0.654113544984549,
          0.4632922022681587,
          1.894452272641086,
          0.9244437804994353,
          1.0834615660964273,
          1.6559255942455982,
          0.4950957593875571,
          1.0198544518576305,
          0.3519797523502644,
          -0.3636002828361992,
          0.36788153090996356,
          0.8608366662606385,
          0.06574773827567894,
          0.2565690809920692,
          0.36788153090996356,
          0.6700153235442482,
          1.9262558297604844,
          0.14525663107417489,
          -0.18868071867950814,
          0.3519797523502644,
          0.6700153235442482,
          -0.7293411897092806,
          -0.6975376325898822,
          -1.2700016607390532,
          0.733622437783045,
          -0.5226180684331911,
          -0.7293411897092806,
          -0.9201625324256709,
          0.20886374531297167
         ],
         "yaxis": "y"
        },
        {
         "hovertemplate": "<b>Week:</b> %{x}<br><b>Z-Score:</b> %{y:.2f}",
         "legendgroup": "Ohio",
         "line": {
          "color": "#FF6692",
          "dash": "solid"
         },
         "marker": {
          "symbol": "circle"
         },
         "mode": "lines",
         "name": "Ohio",
         "showlegend": true,
         "type": "scattergl",
         "x": [
          1,
          2,
          3,
          4,
          5,
          6,
          7,
          8,
          9,
          10,
          11,
          12,
          13,
          14,
          15,
          16,
          17,
          18,
          19,
          20,
          21,
          22,
          23,
          24,
          25,
          26,
          27,
          28,
          29,
          30,
          31,
          32,
          33,
          34,
          35,
          36,
          37,
          38,
          39,
          40,
          41,
          42,
          43,
          44,
          45,
          46,
          47,
          48,
          49,
          50,
          51,
          52
         ],
         "xaxis": "x",
         "y": [
          -0.17622603336996512,
          -1.361986039205418,
          -1.6993431112881807,
          -1.1164836154620215,
          -0.7190035008298555,
          -2.3039137058127355,
          -1.7210542099865762,
          -1.3252441798696715,
          -0.8442598394744456,
          -1.296852743110231,
          0.07929689746499866,
          0.2713566167200368,
          -0.03426884957276303,
          -0.6805915569788479,
          -0.2530499210719804,
          -0.15451493467156951,
          -0.032598765057501825,
          1.1080689588658985,
          -0.02424834248119582,
          0.7289597739016059,
          1.0228946485875774,
          1.3352004529414219,
          0.4049633779409329,
          1.1464809027169063,
          1.6441660882647442,
          1.410354256128176,
          1.0763373530759357,
          1.078007437591197,
          1.3402107064872055,
          1.3953234954908251,
          1.418704678704482,
          0.6938879990811206,
          0.7657016332373523,
          1.094708282743809,
          1.6658771869631397,
          0.5201992094939558,
          0.46174625145981374,
          0.19954298256380515,
          0.36488134957466406,
          0.24797543350638,
          -0.12111324436634549,
          0.08764732004130465,
          0.05758579876660304,
          -0.7340342614672063,
          -0.7941573040166096,
          -0.9611657555427296,
          -1.0997827703094094,
          -0.39333702035392126,
          -0.9594956710274685,
          -0.9812067697258641,
          -1.535674828792583,
          -0.29647211846877164
         ],
         "yaxis": "y"
        },
        {
         "hovertemplate": "<b>Week:</b> %{x}<br><b>Z-Score:</b> %{y:.2f}",
         "legendgroup": "Virginia",
         "line": {
          "color": "#B6E880",
          "dash": "solid"
         },
         "marker": {
          "symbol": "circle"
         },
         "mode": "lines",
         "name": "Virginia",
         "showlegend": true,
         "type": "scattergl",
         "x": [
          1,
          2,
          3,
          4,
          5,
          6,
          7,
          8,
          9,
          10,
          11,
          12,
          13,
          14,
          15,
          16,
          17,
          18,
          19,
          20,
          21,
          22,
          23,
          24,
          25,
          26,
          27,
          28,
          29,
          30,
          31,
          32,
          33,
          34,
          35,
          36,
          37,
          38,
          39,
          40,
          41,
          42,
          43,
          44,
          45,
          46,
          47,
          48,
          49,
          50,
          51,
          52
         ],
         "xaxis": "x",
         "y": [
          -0.21668768982543357,
          -1.6113729933650678,
          -1.3713573829884795,
          -0.7388838151042268,
          -1.4978520965653301,
          -2.3606109122433363,
          -1.6340771727250154,
          -1.5465039094795034,
          -0.93349106676092,
          -1.5692080888394508,
          -0.06424534269435726,
          -0.3950776705107356,
          0.4774115077501053,
          -0.2718264111281633,
          -0.4112949414821267,
          -0.21344423563115533,
          -0.4599467543963,
          1.2039452472684264,
          0.6039062213269559,
          1.2363797892112087,
          1.3563875943995027,
          1.5282906666962484,
          0.5390371374413915,
          0.6558014884354074,
          1.0320421749716808,
          1.0547463543316284,
          0.6849925761839114,
          0.4417335116130449,
          0.48714187033294,
          0.8958170988119956,
          1.5931597505818127,
          0.6039062213269559,
          0.44497696580732315,
          0.8633825568692134,
          1.7099241015758286,
          0.29253461867624686,
          0.6039062213269559,
          0.27956080189913396,
          0.8860867362291609,
          1.1001547130515235,
          -0.7680749028527308,
          0.48714187033294,
          -0.14208824335703452,
          -0.800509444795513,
          -0.9853863338693715,
          -1.2383757610230726,
          -1.540017001090947,
          0.7012098471553024,
          -0.028567346557296848,
          -0.3399389492080059,
          -1.1021506848633873,
          0.4774115077501053
         ],
         "yaxis": "y"
        },
        {
         "hovertemplate": "<b>Week:</b> %{x}<br><b>Z-Score:</b> %{y:.2f}",
         "legendgroup": "Colorado",
         "line": {
          "color": "#FF97FF",
          "dash": "solid"
         },
         "marker": {
          "symbol": "circle"
         },
         "mode": "lines",
         "name": "Colorado",
         "showlegend": true,
         "type": "scattergl",
         "x": [
          1,
          2,
          3,
          4,
          5,
          6,
          7,
          8,
          9,
          10,
          11,
          12,
          13,
          14,
          15,
          16,
          17,
          18,
          19,
          20,
          21,
          22,
          23,
          24,
          25,
          26,
          27,
          28,
          29,
          30,
          31,
          32,
          33,
          34,
          35,
          36,
          37,
          38,
          39,
          40,
          41,
          42,
          43,
          44,
          45,
          46,
          47,
          48,
          49,
          50,
          51,
          52
         ],
         "xaxis": "x",
         "y": [
          1.2413830836950004,
          -0.7566129034746657,
          -0.8121127920071564,
          -0.479113460812212,
          -1.6390611311412682,
          -2.5659092696338632,
          -1.9665104734829635,
          -1.5891112314620266,
          -1.9720604623362126,
          -1.317161777652822,
          -0.4513635165459667,
          -0.8787126582461452,
          -0.04621433025878438,
          -0.8343127474201527,
          0.7585340534623312,
          0.7696340311688292,
          0.8639838416740635,
          0.47548462194662844,
          -0.3015138175082417,
          -0.0018144194327918012,
          -0.35146371718748337,
          0.04258549139320078,
          -0.17386407388351305,
          -0.0018144194327918012,
          0.5809344101583608,
          0.9250337190598032,
          0.45328466653363214,
          1.2247331171352531,
          0.5753844213051117,
          0.9749836187390449,
          1.357932849613231,
          0.6419842875441006,
          1.3412828830534838,
          2.0017315565901233,
          1.5466324706236994,
          0.8362338974078182,
          1.1081833512170227,
          0.7363340980493348,
          0.6586342541038478,
          0.0980853799256915,
          -0.29596382865499266,
          0.21463514584392202,
          -0.03511435255228624,
          1.2524830614014986,
          -0.4902134385187102,
          -0.5290633604914536,
          -1.0674122792566136,
          0.37558482258814513,
          -0.4125135945732232,
          0.09253539107244244,
          -1.239461933707335,
          -0.939762535631885
         ],
         "yaxis": "y"
        },
        {
         "hovertemplate": "<b>Week:</b> %{x}<br><b>Z-Score:</b> %{y:.2f}",
         "legendgroup": "Oregon",
         "line": {
          "color": "#FECB52",
          "dash": "solid"
         },
         "marker": {
          "symbol": "circle"
         },
         "mode": "lines",
         "name": "Oregon",
         "showlegend": true,
         "type": "scattergl",
         "x": [
          1,
          2,
          3,
          4,
          5,
          6,
          7,
          8,
          9,
          10,
          11,
          12,
          13,
          14,
          15,
          16,
          17,
          18,
          19,
          20,
          21,
          22,
          23,
          24,
          25,
          26,
          27,
          28,
          29,
          30,
          31,
          32,
          33,
          34,
          35,
          36,
          37,
          38,
          39,
          40,
          41,
          42,
          43,
          44,
          45,
          46,
          47,
          48,
          49,
          50,
          51,
          52
         ],
         "xaxis": "x",
         "y": [
          -0.2682091138415092,
          -0.8979688392931588,
          -1.1590887254560378,
          -0.23748912723411164,
          -0.39108906027109935,
          -1.6045285312633022,
          -1.558448551352206,
          -1.2512486852782305,
          -0.3603690736637018,
          -1.2512486852782305,
          -1.9270883906409764,
          -1.2973286651893268,
          -1.2666086785819293,
          -2.5261281294852287,
          -0.6061289665228822,
          -0.3142890937526055,
          0.2693906517879478,
          -0.08388919419712393,
          -0.7290089129524723,
          0.6073105044693208,
          0.10043072544726134,
          1.4981901160838496,
          -1.1283687388486403,
          0.054350745536165014,
          0.49979055134342937,
          1.390670162957958,
          0.6380304910767183,
          0.25403065848424905,
          1.2985102031357656,
          1.0834702968839827,
          2.266189781268788,
          0.4844305580397306,
          0.8069904174174048,
          0.3769106049138392,
          0.7148304575952121,
          0.008270765625068703,
          0.023630758928767474,
          0.36155061161014046,
          1.3599501763505606,
          1.2217102366172716,
          0.08507073214356256,
          -0.12996917410822023,
          0.49979055134342937,
          1.1449102700987779,
          -0.6214889598265809,
          -0.5446889933080871,
          -0.5446889933080871,
          0.9759503437580913,
          0.6994704642915134,
          0.3308306250027429,
          -0.12996917410822023,
          1.7746699955504275
         ],
         "yaxis": "y"
        },
        {
         "hovertemplate": "<b>Week:</b> %{x}<br><b>Z-Score:</b> %{y:.2f}",
         "legendgroup": "Arkansas",
         "line": {
          "color": "#636efa",
          "dash": "solid"
         },
         "marker": {
          "symbol": "circle"
         },
         "mode": "lines",
         "name": "Arkansas",
         "showlegend": true,
         "type": "scattergl",
         "x": [
          1,
          2,
          3,
          4,
          5,
          6,
          7,
          8,
          9,
          10,
          11,
          12,
          13,
          14,
          15,
          16,
          17,
          18,
          19,
          20,
          21,
          22,
          23,
          24,
          25,
          26,
          27,
          28,
          29,
          30,
          31,
          32,
          33,
          34,
          35,
          36,
          37,
          38,
          39,
          40,
          41,
          42,
          43,
          44,
          45,
          46,
          47,
          48,
          49,
          50,
          51,
          52
         ],
         "xaxis": "x",
         "y": [
          0.6752566367867155,
          -1.452335220798669,
          -1.3338364337939135,
          -1.1776334872876448,
          -0.859841285774891,
          -2.707345101349035,
          -2.3895528998362816,
          -1.5008119973006144,
          -0.5743669352634344,
          -0.9352496047779174,
          0.31976027577244875,
          -1.1129977852850508,
          0.853004817293849,
          0.6160072432843378,
          0.5783030837828246,
          0.4490316797776367,
          0.7775964982908227,
          2.33962596335351,
          0.47057691377850136,
          1.0361393063011985,
          1.2677505718104936,
          1.1277065508048734,
          0.6267798602847701,
          0.8422322002934166,
          0.9068679022960107,
          0.9876625297992531,
          0.4867358392791499,
          0.29282873327136794,
          1.09000239130336,
          0.28205611627093563,
          0.9230268277966591,
          0.9337994447970914,
          -0.0249634682413857,
          0.21742041426834166,
          0.9768899127988208,
          0.5836893922830408,
          0.06660377626228908,
          0.15817102076596387,
          0.10430793576380223,
          0.38439597777504275,
          -0.0249634682413857,
          0.36823705227439424,
          0.0504448507616406,
          -0.06805393624311501,
          -0.40739137175673334,
          -0.3212104357532747,
          -1.1507019447865638,
          -0.3804598292556525,
          -0.21348426574895144,
          -1.253041806290671,
          -1.0429757747822406,
          -1.8616946668150975
         ],
         "yaxis": "y"
        },
        {
         "hovertemplate": "<b>Week:</b> %{x}<br><b>Z-Score:</b> %{y:.2f}",
         "legendgroup": "Missouri",
         "line": {
          "color": "#EF553B",
          "dash": "solid"
         },
         "marker": {
          "symbol": "circle"
         },
         "mode": "lines",
         "name": "Missouri",
         "showlegend": true,
         "type": "scattergl",
         "x": [
          1,
          2,
          3,
          4,
          5,
          6,
          7,
          8,
          9,
          10,
          11,
          12,
          13,
          14,
          15,
          16,
          17,
          18,
          19,
          20,
          21,
          22,
          23,
          24,
          25,
          26,
          27,
          28,
          29,
          30,
          31,
          32,
          33,
          34,
          35,
          36,
          37,
          38,
          39,
          40,
          41,
          42,
          43,
          44,
          45,
          46,
          47,
          48,
          49,
          50,
          51,
          52
         ],
         "xaxis": "x",
         "y": [
          -0.371618049840441,
          -1.8820104914907871,
          -0.875082197057223,
          -1.334123037166642,
          -1.9264337985981503,
          -3.1258630904969547,
          -1.3933541133097929,
          -1.6598939559539716,
          0.41319370905630753,
          -0.29757920466150245,
          0.47242478519945835,
          -0.10507820719626225,
          0.339154863877369,
          -1.1120065016298264,
          0.798195703986788,
          -0.07546266912468684,
          -0.6973889686277706,
          1.8939706126350784,
          0.9758889324162404,
          -0.11988597623204997,
          0.738964627843637,
          0.5760791684499723,
          0.7833879349510002,
          1.449737541561447,
          0.842619011094151,
          1.0203122395236035,
          0.8574267801299388,
          0.4280014780920952,
          0.35396263291315666,
          0.5464636303783968,
          1.3756986963825084,
          0.9610811633804527,
          0.20588494255527962,
          1.760700691312989,
          1.049927777595179,
          0.5020403232710338,
          1.049927777595179,
          -0.045847131053111424,
          0.6501180136289109,
          -0.41604135694780414,
          -0.35681028080465327,
          0.25030824966264276,
          -0.3420025117688656,
          -0.09027043816047454,
          -0.44565689501937955,
          -0.4012335879120164,
          -0.6381578924846197,
          0.14665386641212877,
          -0.17911705237520079,
          -1.171237577772977,
          -1.3637385752382174,
          -0.01623159298153601
         ],
         "yaxis": "y"
        },
        {
         "hovertemplate": "<b>Week:</b> %{x}<br><b>Z-Score:</b> %{y:.2f}",
         "legendgroup": "Illinois",
         "line": {
          "color": "#00cc96",
          "dash": "solid"
         },
         "marker": {
          "symbol": "circle"
         },
         "mode": "lines",
         "name": "Illinois",
         "showlegend": true,
         "type": "scattergl",
         "x": [
          1,
          2,
          3,
          4,
          5,
          6,
          7,
          8,
          9,
          10,
          11,
          12,
          13,
          14,
          15,
          16,
          17,
          18,
          19,
          20,
          21,
          22,
          23,
          24,
          25,
          26,
          27,
          28,
          29,
          30,
          31,
          32,
          33,
          34,
          35,
          36,
          37,
          38,
          39,
          40,
          41,
          42,
          43,
          44,
          45,
          46,
          47,
          48,
          49,
          50,
          51,
          52
         ],
         "xaxis": "x",
         "y": [
          -0.02953592340566042,
          -2.1504965184406695,
          -2.077359946198083,
          0.15330550720080588,
          -0.9071747903166987,
          -1.5654039404999773,
          -1.93108680171291,
          -1.090016220923165,
          -1.090016220923165,
          -0.9803113625592852,
          0.18987379332209914,
          1.0675126602331373,
          1.3234906630821903,
          -0.17580906789083348,
          0.4092835100498587,
          0.7749663712627913,
          -0.17580906789083348,
          0.592124940656325,
          0.7018297990202048,
          -0.10267249564824694,
          1.5429003798099499,
          0.26301036556468566,
          -0.1392407817695402,
          0.37271522392856543,
          0.6652615128989116,
          2.6765172495700407,
          1.286922376960897,
          0.9578078018692576,
          0.44585179617115195,
          0.592124940656325,
          0.9212395157479644,
          -0.06610420952695369,
          0.5189883684137385,
          -0.2855139262547132,
          0.9578078018692576,
          -0.24894564013342,
          1.0675126602331373,
          -0.35865049849729974,
          0.8481029435053778,
          0.4092835100498587,
          0.37271522392856543,
          0.18987379332209914,
          -0.6877650735889391,
          0.08016893495821936,
          -0.17580906789083348,
          -0.3220822123760065,
          -1.7482453711064436,
          0.6652615128989116,
          -0.7974699319528189,
          -0.2855139262547132,
          -2.2967696629258425,
          -0.35865049849729974
         ],
         "yaxis": "y"
        },
        {
         "hovertemplate": "<b>Week:</b> %{x}<br><b>Z-Score:</b> %{y:.2f}",
         "legendgroup": "Kansas",
         "line": {
          "color": "#ab63fa",
          "dash": "solid"
         },
         "marker": {
          "symbol": "circle"
         },
         "mode": "lines",
         "name": "Kansas",
         "showlegend": true,
         "type": "scattergl",
         "x": [
          1,
          2,
          3,
          4,
          5,
          6,
          7,
          8,
          9,
          10,
          11,
          12,
          13,
          14,
          15,
          16,
          17,
          18,
          19,
          20,
          21,
          22,
          23,
          24,
          25,
          26,
          27,
          28,
          29,
          30,
          31,
          32,
          33,
          34,
          35,
          36,
          37,
          38,
          39,
          40,
          41,
          42,
          43,
          44,
          45,
          46,
          47,
          48,
          49,
          50,
          51,
          52
         ],
         "xaxis": "x",
         "y": [
          0.5235521147949463,
          -0.8722427271133956,
          -1.241323093964159,
          -0.9997432174800229,
          -0.32197745289953,
          -2.3686958508901275,
          -0.9997432174800229,
          -1.4963240746974138,
          -0.261582483778496,
          -1.2547441982132777,
          0.06723457032491145,
          -1.2346125418395997,
          1.677767080219152,
          -0.7179000282485308,
          0.04710291395123345,
          0.36249886380552226,
          0.8926324816457097,
          2.1810584895611025,
          0.06052401820035212,
          0.718158126407167,
          1.3422394739911854,
          1.0671068368842525,
          0.45644659354935296,
          0.6242103966633363,
          1.436187203735016,
          1.3086867133683886,
          0.8657902731474725,
          1.0067118677632185,
          0.7248686785317264,
          0.8926324816457097,
          1.3019761612438292,
          -0.3957935262696827,
          0.24841947768801353,
          0.34236720743184423,
          1.1006595975070492,
          0.020260705452996106,
          0.2618405819371322,
          -0.11395033703819062,
          0.06723457032491145,
          -0.10723978491363127,
          -0.22802972315569933,
          -0.16092420191010598,
          -0.38237242202056404,
          0.7651319912790824,
          -0.6038206421310222,
          -1.3151391673343118,
          -1.3956657928290237,
          0.5302626669195056,
          -1.2748758545869556,
          -1.1473753642203284,
          -2.2143531520252626,
          0.21486671706521684
         ],
         "yaxis": "y"
        },
        {
         "hovertemplate": "<b>Week:</b> %{x}<br><b>Z-Score:</b> %{y:.2f}",
         "legendgroup": "Idaho",
         "line": {
          "color": "#FFA15A",
          "dash": "solid"
         },
         "marker": {
          "symbol": "circle"
         },
         "mode": "lines",
         "name": "Idaho",
         "showlegend": true,
         "type": "scattergl",
         "x": [
          1,
          2,
          3,
          4,
          5,
          6,
          7,
          8,
          9,
          10,
          11,
          12,
          13,
          14,
          15,
          16,
          17,
          18,
          19,
          20,
          21,
          22,
          23,
          24,
          25,
          26,
          27,
          28,
          29,
          30,
          31,
          32,
          33,
          34,
          35,
          36,
          37,
          38,
          39,
          40,
          41,
          42,
          43,
          44,
          45,
          46,
          47,
          48,
          49,
          50,
          51,
          52
         ],
         "xaxis": "x",
         "y": [
          0.5963576519268019,
          -1.5655712425360826,
          -0.7806671216164366,
          -0.7393563784101395,
          -0.22985721219914118,
          -1.1662340582085433,
          -1.2075448014148404,
          -1.4554092606526234,
          -0.5328026623786537,
          -1.014761333118787,
          -0.9872208376479223,
          -0.6705051397329775,
          0.10062873345123606,
          -1.6619629766841093,
          0.169479972128398,
          1.3950320205818802,
          0.6652088906039638,
          0.8993031021063144,
          0.5825874041913696,
          0.6652088906039638,
          -0.4226406804951946,
          1.2986402864338535,
          -0.2987084508763031,
          0.47242542230791046,
          0.9956948362543411,
          1.284870038698421,
          1.5051940024653394,
          1.2986402864338535,
          1.064546074931503,
          0.8993031021063144,
          1.284870038698421,
          1.3399510296401507,
          1.4088022683173127,
          0.9406138453126115,
          1.5465047456716365,
          -0.3400191940826003,
          0.5688171564559371,
          0.52750641324964,
          1.1747080568149622,
          0.1557097243929656,
          -0.9596803421770576,
          -1.1386935627376786,
          -0.43641092823062694,
          0.27964195401185704,
          -1.4554092606526234,
          -1.3727877742400292,
          -1.2075448014148404,
          -0.16100597352197926,
          -0.7118158829392747,
          -0.7668968738810042,
          -1.7032737198904064,
          -0.1334654780511145
         ],
         "yaxis": "y"
        }
       ],
       "layout": {
        "annotations": [
         {
          "arrowhead": 2,
          "ax": 0,
          "ay": -40,
          "bgcolor": "yellow",
          "bordercolor": "black",
          "font": {
           "color": "black",
           "size": 10
          },
          "showarrow": true,
          "text": "Birthday of Martin Luther King, Jr.",
          "x": 3,
          "y": 3.6201619104232132
         },
         {
          "arrowhead": 2,
          "ax": 0,
          "ay": -60,
          "bgcolor": "yellow",
          "bordercolor": "black",
          "font": {
           "color": "black",
           "size": 10
          },
          "showarrow": true,
          "text": "Washington's Birthday/Presidents Day",
          "x": 8,
          "y": 3.6201619104232132
         },
         {
          "arrowhead": 2,
          "ax": 0,
          "ay": -80,
          "bgcolor": "yellow",
          "bordercolor": "black",
          "font": {
           "color": "black",
           "size": 10
          },
          "showarrow": true,
          "text": "Memorial Day",
          "x": 21,
          "y": 3.6201619104232132
         },
         {
          "arrowhead": 2,
          "ax": 0,
          "ay": -100,
          "bgcolor": "yellow",
          "bordercolor": "black",
          "font": {
           "color": "black",
           "size": 10
          },
          "showarrow": true,
          "text": "Independence Day",
          "x": 27,
          "y": 3.6201619104232132
         },
         {
          "arrowhead": 2,
          "ax": 0,
          "ay": -120,
          "bgcolor": "yellow",
          "bordercolor": "black",
          "font": {
           "color": "black",
           "size": 10
          },
          "showarrow": true,
          "text": "Labor Day",
          "x": 36,
          "y": 3.6201619104232132
         },
         {
          "arrowhead": 2,
          "ax": 0,
          "ay": -40,
          "bgcolor": "yellow",
          "bordercolor": "black",
          "font": {
           "color": "black",
           "size": 10
          },
          "showarrow": true,
          "text": "Veterans Day",
          "x": 45,
          "y": 3.6201619104232132
         },
         {
          "arrowhead": 2,
          "ax": 0,
          "ay": -60,
          "bgcolor": "yellow",
          "bordercolor": "black",
          "font": {
           "color": "black",
           "size": 10
          },
          "showarrow": true,
          "text": "Thanksgiving Day",
          "x": 47,
          "y": 3.6201619104232132
         },
         {
          "arrowhead": 2,
          "ax": 0,
          "ay": -80,
          "bgcolor": "yellow",
          "bordercolor": "black",
          "font": {
           "color": "black",
           "size": 10
          },
          "showarrow": true,
          "text": "Inauguration Day",
          "x": 3,
          "y": 3.6201619104232132
         },
         {
          "arrowhead": 2,
          "ax": 0,
          "ay": -100,
          "bgcolor": "yellow",
          "bordercolor": "black",
          "font": {
           "color": "black",
           "size": 10
          },
          "showarrow": true,
          "text": "Halloween",
          "x": 44,
          "y": 3.6201619104232132
         },
         {
          "arrowhead": 2,
          "ax": 0,
          "ay": -120,
          "bgcolor": "yellow",
          "bordercolor": "black",
          "font": {
           "color": "black",
           "size": 10
          },
          "showarrow": true,
          "text": "Valentine's Day",
          "x": 7,
          "y": 3.6201619104232132
         },
         {
          "arrowhead": 2,
          "ax": 0,
          "ay": -40,
          "bgcolor": "yellow",
          "bordercolor": "black",
          "font": {
           "color": "black",
           "size": 10
          },
          "showarrow": true,
          "text": "Pride Month Start",
          "x": 22,
          "y": 3.6201619104232132
         },
         {
          "arrowhead": 2,
          "ax": 0,
          "ay": -60,
          "bgcolor": "yellow",
          "bordercolor": "black",
          "font": {
           "color": "black",
           "size": 10
          },
          "showarrow": true,
          "text": "Obama Supports Same-Sex Marriage",
          "x": 18,
          "y": 3.6201619104232132
         },
         {
          "arrowhead": 2,
          "ax": 0,
          "ay": -80,
          "bgcolor": "yellow",
          "bordercolor": "black",
          "font": {
           "color": "black",
           "size": 10
          },
          "showarrow": true,
          "text": "2012 Presidential Election",
          "x": 45,
          "y": 3.6201619104232132
         }
        ],
        "height": 800,
        "hovermode": "closest",
        "legend": {
         "title": {
          "text": "State"
         },
         "tracegroupgap": 0
        },
        "template": {
         "data": {
          "bar": [
           {
            "error_x": {
             "color": "#2a3f5f"
            },
            "error_y": {
             "color": "#2a3f5f"
            },
            "marker": {
             "line": {
              "color": "#E5ECF6",
              "width": 0.5
             },
             "pattern": {
              "fillmode": "overlay",
              "size": 10,
              "solidity": 0.2
             }
            },
            "type": "bar"
           }
          ],
          "barpolar": [
           {
            "marker": {
             "line": {
              "color": "#E5ECF6",
              "width": 0.5
             },
             "pattern": {
              "fillmode": "overlay",
              "size": 10,
              "solidity": 0.2
             }
            },
            "type": "barpolar"
           }
          ],
          "carpet": [
           {
            "aaxis": {
             "endlinecolor": "#2a3f5f",
             "gridcolor": "white",
             "linecolor": "white",
             "minorgridcolor": "white",
             "startlinecolor": "#2a3f5f"
            },
            "baxis": {
             "endlinecolor": "#2a3f5f",
             "gridcolor": "white",
             "linecolor": "white",
             "minorgridcolor": "white",
             "startlinecolor": "#2a3f5f"
            },
            "type": "carpet"
           }
          ],
          "choropleth": [
           {
            "colorbar": {
             "outlinewidth": 0,
             "ticks": ""
            },
            "type": "choropleth"
           }
          ],
          "contour": [
           {
            "colorbar": {
             "outlinewidth": 0,
             "ticks": ""
            },
            "colorscale": [
             [
              0,
              "#0d0887"
             ],
             [
              0.1111111111111111,
              "#46039f"
             ],
             [
              0.2222222222222222,
              "#7201a8"
             ],
             [
              0.3333333333333333,
              "#9c179e"
             ],
             [
              0.4444444444444444,
              "#bd3786"
             ],
             [
              0.5555555555555556,
              "#d8576b"
             ],
             [
              0.6666666666666666,
              "#ed7953"
             ],
             [
              0.7777777777777778,
              "#fb9f3a"
             ],
             [
              0.8888888888888888,
              "#fdca26"
             ],
             [
              1,
              "#f0f921"
             ]
            ],
            "type": "contour"
           }
          ],
          "contourcarpet": [
           {
            "colorbar": {
             "outlinewidth": 0,
             "ticks": ""
            },
            "type": "contourcarpet"
           }
          ],
          "heatmap": [
           {
            "colorbar": {
             "outlinewidth": 0,
             "ticks": ""
            },
            "colorscale": [
             [
              0,
              "#0d0887"
             ],
             [
              0.1111111111111111,
              "#46039f"
             ],
             [
              0.2222222222222222,
              "#7201a8"
             ],
             [
              0.3333333333333333,
              "#9c179e"
             ],
             [
              0.4444444444444444,
              "#bd3786"
             ],
             [
              0.5555555555555556,
              "#d8576b"
             ],
             [
              0.6666666666666666,
              "#ed7953"
             ],
             [
              0.7777777777777778,
              "#fb9f3a"
             ],
             [
              0.8888888888888888,
              "#fdca26"
             ],
             [
              1,
              "#f0f921"
             ]
            ],
            "type": "heatmap"
           }
          ],
          "heatmapgl": [
           {
            "colorbar": {
             "outlinewidth": 0,
             "ticks": ""
            },
            "colorscale": [
             [
              0,
              "#0d0887"
             ],
             [
              0.1111111111111111,
              "#46039f"
             ],
             [
              0.2222222222222222,
              "#7201a8"
             ],
             [
              0.3333333333333333,
              "#9c179e"
             ],
             [
              0.4444444444444444,
              "#bd3786"
             ],
             [
              0.5555555555555556,
              "#d8576b"
             ],
             [
              0.6666666666666666,
              "#ed7953"
             ],
             [
              0.7777777777777778,
              "#fb9f3a"
             ],
             [
              0.8888888888888888,
              "#fdca26"
             ],
             [
              1,
              "#f0f921"
             ]
            ],
            "type": "heatmapgl"
           }
          ],
          "histogram": [
           {
            "marker": {
             "pattern": {
              "fillmode": "overlay",
              "size": 10,
              "solidity": 0.2
             }
            },
            "type": "histogram"
           }
          ],
          "histogram2d": [
           {
            "colorbar": {
             "outlinewidth": 0,
             "ticks": ""
            },
            "colorscale": [
             [
              0,
              "#0d0887"
             ],
             [
              0.1111111111111111,
              "#46039f"
             ],
             [
              0.2222222222222222,
              "#7201a8"
             ],
             [
              0.3333333333333333,
              "#9c179e"
             ],
             [
              0.4444444444444444,
              "#bd3786"
             ],
             [
              0.5555555555555556,
              "#d8576b"
             ],
             [
              0.6666666666666666,
              "#ed7953"
             ],
             [
              0.7777777777777778,
              "#fb9f3a"
             ],
             [
              0.8888888888888888,
              "#fdca26"
             ],
             [
              1,
              "#f0f921"
             ]
            ],
            "type": "histogram2d"
           }
          ],
          "histogram2dcontour": [
           {
            "colorbar": {
             "outlinewidth": 0,
             "ticks": ""
            },
            "colorscale": [
             [
              0,
              "#0d0887"
             ],
             [
              0.1111111111111111,
              "#46039f"
             ],
             [
              0.2222222222222222,
              "#7201a8"
             ],
             [
              0.3333333333333333,
              "#9c179e"
             ],
             [
              0.4444444444444444,
              "#bd3786"
             ],
             [
              0.5555555555555556,
              "#d8576b"
             ],
             [
              0.6666666666666666,
              "#ed7953"
             ],
             [
              0.7777777777777778,
              "#fb9f3a"
             ],
             [
              0.8888888888888888,
              "#fdca26"
             ],
             [
              1,
              "#f0f921"
             ]
            ],
            "type": "histogram2dcontour"
           }
          ],
          "mesh3d": [
           {
            "colorbar": {
             "outlinewidth": 0,
             "ticks": ""
            },
            "type": "mesh3d"
           }
          ],
          "parcoords": [
           {
            "line": {
             "colorbar": {
              "outlinewidth": 0,
              "ticks": ""
             }
            },
            "type": "parcoords"
           }
          ],
          "pie": [
           {
            "automargin": true,
            "type": "pie"
           }
          ],
          "scatter": [
           {
            "fillpattern": {
             "fillmode": "overlay",
             "size": 10,
             "solidity": 0.2
            },
            "type": "scatter"
           }
          ],
          "scatter3d": [
           {
            "line": {
             "colorbar": {
              "outlinewidth": 0,
              "ticks": ""
             }
            },
            "marker": {
             "colorbar": {
              "outlinewidth": 0,
              "ticks": ""
             }
            },
            "type": "scatter3d"
           }
          ],
          "scattercarpet": [
           {
            "marker": {
             "colorbar": {
              "outlinewidth": 0,
              "ticks": ""
             }
            },
            "type": "scattercarpet"
           }
          ],
          "scattergeo": [
           {
            "marker": {
             "colorbar": {
              "outlinewidth": 0,
              "ticks": ""
             }
            },
            "type": "scattergeo"
           }
          ],
          "scattergl": [
           {
            "marker": {
             "colorbar": {
              "outlinewidth": 0,
              "ticks": ""
             }
            },
            "type": "scattergl"
           }
          ],
          "scattermapbox": [
           {
            "marker": {
             "colorbar": {
              "outlinewidth": 0,
              "ticks": ""
             }
            },
            "type": "scattermapbox"
           }
          ],
          "scatterpolar": [
           {
            "marker": {
             "colorbar": {
              "outlinewidth": 0,
              "ticks": ""
             }
            },
            "type": "scatterpolar"
           }
          ],
          "scatterpolargl": [
           {
            "marker": {
             "colorbar": {
              "outlinewidth": 0,
              "ticks": ""
             }
            },
            "type": "scatterpolargl"
           }
          ],
          "scatterternary": [
           {
            "marker": {
             "colorbar": {
              "outlinewidth": 0,
              "ticks": ""
             }
            },
            "type": "scatterternary"
           }
          ],
          "surface": [
           {
            "colorbar": {
             "outlinewidth": 0,
             "ticks": ""
            },
            "colorscale": [
             [
              0,
              "#0d0887"
             ],
             [
              0.1111111111111111,
              "#46039f"
             ],
             [
              0.2222222222222222,
              "#7201a8"
             ],
             [
              0.3333333333333333,
              "#9c179e"
             ],
             [
              0.4444444444444444,
              "#bd3786"
             ],
             [
              0.5555555555555556,
              "#d8576b"
             ],
             [
              0.6666666666666666,
              "#ed7953"
             ],
             [
              0.7777777777777778,
              "#fb9f3a"
             ],
             [
              0.8888888888888888,
              "#fdca26"
             ],
             [
              1,
              "#f0f921"
             ]
            ],
            "type": "surface"
           }
          ],
          "table": [
           {
            "cells": {
             "fill": {
              "color": "#EBF0F8"
             },
             "line": {
              "color": "white"
             }
            },
            "header": {
             "fill": {
              "color": "#C8D4E3"
             },
             "line": {
              "color": "white"
             }
            },
            "type": "table"
           }
          ]
         },
         "layout": {
          "annotationdefaults": {
           "arrowcolor": "#2a3f5f",
           "arrowhead": 0,
           "arrowwidth": 1
          },
          "autotypenumbers": "strict",
          "coloraxis": {
           "colorbar": {
            "outlinewidth": 0,
            "ticks": ""
           }
          },
          "colorscale": {
           "diverging": [
            [
             0,
             "#8e0152"
            ],
            [
             0.1,
             "#c51b7d"
            ],
            [
             0.2,
             "#de77ae"
            ],
            [
             0.3,
             "#f1b6da"
            ],
            [
             0.4,
             "#fde0ef"
            ],
            [
             0.5,
             "#f7f7f7"
            ],
            [
             0.6,
             "#e6f5d0"
            ],
            [
             0.7,
             "#b8e186"
            ],
            [
             0.8,
             "#7fbc41"
            ],
            [
             0.9,
             "#4d9221"
            ],
            [
             1,
             "#276419"
            ]
           ],
           "sequential": [
            [
             0,
             "#0d0887"
            ],
            [
             0.1111111111111111,
             "#46039f"
            ],
            [
             0.2222222222222222,
             "#7201a8"
            ],
            [
             0.3333333333333333,
             "#9c179e"
            ],
            [
             0.4444444444444444,
             "#bd3786"
            ],
            [
             0.5555555555555556,
             "#d8576b"
            ],
            [
             0.6666666666666666,
             "#ed7953"
            ],
            [
             0.7777777777777778,
             "#fb9f3a"
            ],
            [
             0.8888888888888888,
             "#fdca26"
            ],
            [
             1,
             "#f0f921"
            ]
           ],
           "sequentialminus": [
            [
             0,
             "#0d0887"
            ],
            [
             0.1111111111111111,
             "#46039f"
            ],
            [
             0.2222222222222222,
             "#7201a8"
            ],
            [
             0.3333333333333333,
             "#9c179e"
            ],
            [
             0.4444444444444444,
             "#bd3786"
            ],
            [
             0.5555555555555556,
             "#d8576b"
            ],
            [
             0.6666666666666666,
             "#ed7953"
            ],
            [
             0.7777777777777778,
             "#fb9f3a"
            ],
            [
             0.8888888888888888,
             "#fdca26"
            ],
            [
             1,
             "#f0f921"
            ]
           ]
          },
          "colorway": [
           "#636efa",
           "#EF553B",
           "#00cc96",
           "#ab63fa",
           "#FFA15A",
           "#19d3f3",
           "#FF6692",
           "#B6E880",
           "#FF97FF",
           "#FECB52"
          ],
          "font": {
           "color": "#2a3f5f"
          },
          "geo": {
           "bgcolor": "white",
           "lakecolor": "white",
           "landcolor": "#E5ECF6",
           "showlakes": true,
           "showland": true,
           "subunitcolor": "white"
          },
          "hoverlabel": {
           "align": "left"
          },
          "hovermode": "closest",
          "mapbox": {
           "style": "light"
          },
          "paper_bgcolor": "white",
          "plot_bgcolor": "#E5ECF6",
          "polar": {
           "angularaxis": {
            "gridcolor": "white",
            "linecolor": "white",
            "ticks": ""
           },
           "bgcolor": "#E5ECF6",
           "radialaxis": {
            "gridcolor": "white",
            "linecolor": "white",
            "ticks": ""
           }
          },
          "scene": {
           "xaxis": {
            "backgroundcolor": "#E5ECF6",
            "gridcolor": "white",
            "gridwidth": 2,
            "linecolor": "white",
            "showbackground": true,
            "ticks": "",
            "zerolinecolor": "white"
           },
           "yaxis": {
            "backgroundcolor": "#E5ECF6",
            "gridcolor": "white",
            "gridwidth": 2,
            "linecolor": "white",
            "showbackground": true,
            "ticks": "",
            "zerolinecolor": "white"
           },
           "zaxis": {
            "backgroundcolor": "#E5ECF6",
            "gridcolor": "white",
            "gridwidth": 2,
            "linecolor": "white",
            "showbackground": true,
            "ticks": "",
            "zerolinecolor": "white"
           }
          },
          "shapedefaults": {
           "line": {
            "color": "#2a3f5f"
           }
          },
          "ternary": {
           "aaxis": {
            "gridcolor": "white",
            "linecolor": "white",
            "ticks": ""
           },
           "baxis": {
            "gridcolor": "white",
            "linecolor": "white",
            "ticks": ""
           },
           "bgcolor": "#E5ECF6",
           "caxis": {
            "gridcolor": "white",
            "linecolor": "white",
            "ticks": ""
           }
          },
          "title": {
           "x": 0.05
          },
          "xaxis": {
           "automargin": true,
           "gridcolor": "white",
           "linecolor": "white",
           "ticks": "",
           "title": {
            "standoff": 15
           },
           "zerolinecolor": "white",
           "zerolinewidth": 2
          },
          "yaxis": {
           "automargin": true,
           "gridcolor": "white",
           "linecolor": "white",
           "ticks": "",
           "title": {
            "standoff": 15
           },
           "zerolinecolor": "white",
           "zerolinewidth": 2
          }
         }
        },
        "title": {
         "font": {
          "size": 16
         },
         "text": "Z-Score Evolution of Violent Offenses Across Weeks in 2012 (By State)"
        },
        "xaxis": {
         "anchor": "y",
         "domain": [
          0,
          1
         ],
         "title": {
          "text": "Week of the Year"
         }
        },
        "yaxis": {
         "anchor": "x",
         "domain": [
          0,
          1
         ],
         "title": {
          "text": "Z-Score of Weekly Offenses"
         }
        }
       }
      }
     },
     "metadata": {},
     "output_type": "display_data"
    }
   ],
   "source": [
    "# Highlighted weeks with events\n",
    "highlighted_weeks = {\n",
    "    'Birthday of Martin Luther King, Jr.': 3,\n",
    "    \"Washington's Birthday/Presidents Day\": 8,\n",
    "    \"Memorial Day\": 21,\n",
    "    \"Independence Day\": 27,\n",
    "    \"Labor Day\": 36,\n",
    "    \"Veterans Day\": 45,\n",
    "    \"Thanksgiving Day\": 47,\n",
    "    'Inauguration Day': 3,\n",
    "    'Halloween': 44,\n",
    "    'Valentine\\'s Day': 7,\n",
    "    'Pride Month Start': 22,\n",
    "    # Major events of 2012\n",
    "    'Obama Supports Same-Sex Marriage': 18,\n",
    "    '2012 Presidential Election': 45,  # Week of November 6\n",
    "}\n",
    "\n",
    "\n",
    "# Avoid overlap\n",
    "staggered_positions = [-40, -60, -80, -100, -120]  # Different vertical offsets\n",
    "annotation_index = 0  # Counter to cycle through staggered positions\n",
    "\n",
    "# Create the list of annotations\n",
    "annotations = []\n",
    "for event, week in highlighted_weeks.items():\n",
    "    annotations.append(\n",
    "        dict(\n",
    "            x=week,\n",
    "            y=max(z_scores_offenses_by_week['z_score']) * 1.1,  # Slightly above the max value\n",
    "            text=event,\n",
    "            showarrow=True,\n",
    "            arrowhead=2,\n",
    "            ax=0,  # No horizontal offset\n",
    "            ay=staggered_positions[annotation_index % len(staggered_positions)],  # Cycle through vertical offsets\n",
    "            font=dict(size=10, color=\"black\"),\n",
    "            bgcolor=\"yellow\",\n",
    "            bordercolor=\"black\"\n",
    "        )\n",
    "    )\n",
    "    annotation_index += 1  # Increment to use the next staggered position\n",
    "\n",
    "# Create the line plot\n",
    "fig = px.line(\n",
    "    z_scores_offenses_by_week,\n",
    "    x=\"week\",\n",
    "    y=\"z_score\",\n",
    "    color=\"state\",  # One color for each state\n",
    "    labels={\n",
    "        \"week\": \"Week of the Year\",\n",
    "        \"z_score\": \"Z-Score of Weekly Offenses\",\n",
    "        \"state\": \"State\"\n",
    "    },\n",
    "    title=\"Z-Score Evolution of Violent Offenses Across Weeks in 2012 (By State)\",\n",
    ")\n",
    "\n",
    "# Add hover to display week and z-score\n",
    "fig.update_traces(hovertemplate=\"<b>Week:</b> %{x}<br><b>Z-Score:</b> %{y:.2f}\")\n",
    "\n",
    "# Add annotations and adjust layout\n",
    "fig.update_layout(\n",
    "    height=800,  # Increase height\n",
    "    title=dict(font=dict(size=16)),  \n",
    "    xaxis_title=\"Week of the Year\", \n",
    "    yaxis_title=\"Z-Score of Weekly Offenses\",  \n",
    "    legend_title=\"State\",  \n",
    "    hovermode=\"closest\",\n",
    "    annotations=annotations  # Add the staggered annotations\n",
    ")\n",
    "\n",
    "# Display the figure\n",
    "fig.show()\n"
   ]
  },
  {
   "cell_type": "markdown",
   "metadata": {},
   "source": [
    "#### Normalized data"
   ]
  },
  {
   "cell_type": "code",
   "execution_count": 49,
   "metadata": {},
   "outputs": [
    {
     "data": {
      "application/vnd.plotly.v1+json": {
       "config": {
        "plotlyServerURL": "https://plot.ly"
       },
       "data": [
        {
         "hovertemplate": "<b>Week:</b> %{x}<br><b>Offenses:</b> %{y:.2f}",
         "legendgroup": "Vermont",
         "line": {
          "color": "#636efa",
          "dash": "solid"
         },
         "marker": {
          "symbol": "circle"
         },
         "mode": "lines",
         "name": "Vermont",
         "showlegend": true,
         "type": "scattergl",
         "x": [
          1,
          2,
          3,
          4,
          5,
          6,
          7,
          8,
          9,
          10,
          11,
          12,
          13,
          14,
          15,
          16,
          17,
          18,
          19,
          20,
          21,
          22,
          23,
          24,
          25,
          26,
          27,
          28,
          29,
          30,
          31,
          32,
          33,
          34,
          35,
          36,
          37,
          38,
          39,
          40,
          41,
          42,
          43,
          44,
          45,
          46,
          47,
          48,
          49,
          50,
          51,
          52
         ],
         "xaxis": "x",
         "y": [
          40.254883700126676,
          43.44971573981927,
          39.45617569020353,
          40.73410850608057,
          39.775658894172786,
          33.70547801875686,
          40.73410850608057,
          37.21979326241871,
          39.45617569020353,
          39.13669248623427,
          49.83937981920445,
          50.797829431112234,
          45.845839769588714,
          41.37307491401908,
          48.08222219737353,
          48.721188605312044,
          46.964030983481116,
          44.40816535172704,
          42.012041321957604,
          48.08222219737353,
          51.75627904302001,
          48.40170540134279,
          53.03421185889705,
          46.80428938149649,
          50.95757103309686,
          54.31214467477408,
          52.07576224698927,
          49.83937981920445,
          47.28351418745038,
          55.110852684697235,
          58.1459431224052,
          51.916020645004636,
          52.07576224698927,
          57.50697671446668,
          56.868010306528156,
          51.11731263508149,
          52.2355038489739,
          46.16532297355797,
          49.36015501325056,
          38.97695088424964,
          41.53281651600371,
          47.44325578943501,
          49.5198966152352,
          47.76273899340427,
          45.845839769588714,
          45.366614963634824,
          40.73410850608057,
          38.33798447631112,
          46.80428938149649,
          39.13669248623427,
          34.983410834633894,
          36.58082685448019
         ],
         "yaxis": "y"
        },
        {
         "hovertemplate": "<b>Week:</b> %{x}<br><b>Offenses:</b> %{y:.2f}",
         "legendgroup": "South Carolina",
         "line": {
          "color": "#EF553B",
          "dash": "solid"
         },
         "marker": {
          "symbol": "circle"
         },
         "mode": "lines",
         "name": "South Carolina",
         "showlegend": true,
         "type": "scattergl",
         "x": [
          1,
          2,
          3,
          4,
          5,
          6,
          7,
          8,
          9,
          10,
          11,
          12,
          13,
          14,
          15,
          16,
          17,
          18,
          19,
          20,
          21,
          22,
          23,
          24,
          25,
          26,
          27,
          28,
          29,
          30,
          31,
          32,
          33,
          34,
          35,
          36,
          37,
          38,
          39,
          40,
          41,
          42,
          43,
          44,
          45,
          46,
          47,
          48,
          49,
          50,
          51,
          52
         ],
         "xaxis": "x",
         "y": [
          92.08838028817523,
          87.17700000613922,
          81.22830233694906,
          84.8694980632861,
          85.77979699487035,
          73.90357139908501,
          80.84724697023935,
          77.94699223472672,
          89.1669558100676,
          83.6416529927771,
          90.75468650469132,
          90.81819573247627,
          94.86161656811798,
          88.27782662107833,
          90.88170496026122,
          91.89785260482039,
          91.94019209001036,
          106.1874288564338,
          92.51177514007489,
          99.32843225565935,
          100.89499320768809,
          104.59969816181008,
          93.06218844754444,
          96.30115906457681,
          99.6459783945841,
          103.26600437832616,
          97.86772001660555,
          95.96244318305709,
          94.90395605330795,
          94.7134283699531,
          98.50281229445504,
          90.88170496026122,
          92.23656848634012,
          91.07223264361606,
          98.46047280926507,
          90.1619337120318,
          91.30509981216088,
          95.87776421267716,
          89.82321783051208,
          100.42925887059847,
          88.3201661062683,
          89.0611070970927,
          90.71234701950137,
          92.38475668450499,
          85.94915493563022,
          82.96422122973765,
          78.89963065150094,
          88.63771224519304,
          85.22938368740081,
          81.94807358517848,
          80.21215469238987,
          90.90287470285621
         ],
         "yaxis": "y"
        },
        {
         "hovertemplate": "<b>Week:</b> %{x}<br><b>Offenses:</b> %{y:.2f}",
         "legendgroup": "Texas",
         "line": {
          "color": "#00cc96",
          "dash": "solid"
         },
         "marker": {
          "symbol": "circle"
         },
         "mode": "lines",
         "name": "Texas",
         "showlegend": true,
         "type": "scattergl",
         "x": [
          1,
          2,
          3,
          4,
          5,
          6,
          7,
          8,
          9,
          10,
          11,
          12,
          13,
          14,
          15,
          16,
          17,
          18,
          19,
          20,
          21,
          22,
          23,
          24,
          25,
          26,
          27,
          28,
          29,
          30,
          31,
          32,
          33,
          34,
          35,
          36,
          37,
          38,
          39,
          40,
          41,
          42,
          43,
          44,
          45,
          46,
          47,
          48,
          49,
          50,
          51,
          52
         ],
         "xaxis": "x",
         "y": [
          8.983390627871467,
          8.131484297505185,
          8.461502065124556,
          8.269631269997015,
          8.542087799078123,
          7.279577967138903,
          7.697856300516942,
          7.552034496220012,
          7.870540016131729,
          7.928101254669992,
          8.611161285324037,
          8.691747019277605,
          9.136887263973499,
          8.964203548358713,
          9.04862669821483,
          8.676397355667401,
          9.28654648417298,
          9.459230199787768,
          8.975715796066364,
          9.121537600363297,
          9.171424007096457,
          9.65877582672041,
          8.71860893059546,
          8.829893991769433,
          8.921991973430654,
          9.497604358813275,
          9.14072467987605,
          8.780007585036273,
          8.883617814405145,
          9.04095186640973,
          9.336432890906142,
          8.780007585036273,
          8.891292646210246,
          8.998740291481669,
          9.010252539189322,
          8.57662454220108,
          8.515225887760266,
          8.921991973430654,
          9.033277034604627,
          9.351782554516344,
          9.002577707384221,
          9.148399511681152,
          9.133049848070948,
          9.409343793054607,
          9.163749175291356,
          8.142996545212837,
          7.885889679741932,
          9.202123334316862,
          9.18677367070666,
          8.15450879292049,
          8.522900719565367,
          8.34637958804803
         ],
         "yaxis": "y"
        },
        {
         "hovertemplate": "<b>Week:</b> %{x}<br><b>Offenses:</b> %{y:.2f}",
         "legendgroup": "West Virginia",
         "line": {
          "color": "#ab63fa",
          "dash": "solid"
         },
         "marker": {
          "symbol": "circle"
         },
         "mode": "lines",
         "name": "West Virginia",
         "showlegend": true,
         "type": "scattergl",
         "x": [
          1,
          2,
          3,
          4,
          5,
          6,
          7,
          8,
          9,
          10,
          11,
          12,
          13,
          14,
          15,
          16,
          17,
          18,
          19,
          20,
          21,
          22,
          23,
          24,
          25,
          26,
          27,
          28,
          29,
          30,
          31,
          32,
          33,
          34,
          35,
          36,
          37,
          38,
          39,
          40,
          41,
          42,
          43,
          44,
          45,
          46,
          47,
          48,
          49,
          50,
          51,
          52
         ],
         "xaxis": "x",
         "y": [
          49.15347688088851,
          43.76384125798407,
          44.19501210781643,
          43.440463120609806,
          47.374897125330044,
          41.55409065259325,
          45.27293923239731,
          44.62618295764879,
          50.60867849907272,
          46.13528093206203,
          53.303496310524935,
          53.19570359806684,
          54.97428335362531,
          50.55478214284367,
          52.38725825463118,
          52.38725825463118,
          51.47102019873742,
          61.44184610111064,
          56.32169225935142,
          56.86065582164186,
          58.261961083597015,
          58.80092464588747,
          53.087910885608764,
          55.89052140951906,
          53.249599954295896,
          53.41128902298303,
          58.585339220971285,
          53.19570359806684,
          55.67493598460289,
          54.543112503792955,
          54.65090521625105,
          55.67493598460289,
          51.14764206136316,
          54.219734366418685,
          55.35155784722862,
          50.985952992676026,
          47.26710441287196,
          49.90802586809514,
          47.8060679751624,
          49.96192222432418,
          49.63854408694991,
          50.23140400546941,
          50.55478214284367,
          46.997622631726735,
          51.63270926742456,
          46.8359335630396,
          44.518390245190695,
          47.8060679751624,
          50.93205663644698,
          47.644378906475275,
          42.73981048963223,
          48.50672060613998
         ],
         "yaxis": "y"
        },
        {
         "hovertemplate": "<b>Week:</b> %{x}<br><b>Offenses:</b> %{y:.2f}",
         "legendgroup": "Michigan",
         "line": {
          "color": "#FFA15A",
          "dash": "solid"
         },
         "marker": {
          "symbol": "circle"
         },
         "mode": "lines",
         "name": "Michigan",
         "showlegend": true,
         "type": "scattergl",
         "x": [
          1,
          2,
          3,
          4,
          5,
          6,
          7,
          8,
          9,
          10,
          11,
          12,
          13,
          14,
          15,
          16,
          17,
          18,
          19,
          20,
          21,
          22,
          23,
          24,
          25,
          26,
          27,
          28,
          29,
          30,
          31,
          32,
          33,
          34,
          35,
          36,
          37,
          38,
          39,
          40,
          41,
          42,
          43,
          44,
          45,
          46,
          47,
          48,
          49,
          50,
          51,
          52
         ],
         "xaxis": "x",
         "y": [
          62.043677453821374,
          55.46696669958395,
          51.94589694193068,
          53.362419258227966,
          54.283158763821206,
          50.57996470835829,
          54.141506532191485,
          52.128021239740335,
          54.5462271939907,
          55.679445047028544,
          62.893590843599746,
          63.733386216833146,
          61.497304560392415,
          58.603551828527955,
          62.55969629761539,
          62.033559437276395,
          64.13810687863237,
          67.92224506645513,
          65.1701445662204,
          67.65917663628564,
          68.96440077058814,
          68.83286655550339,
          70.48210325233524,
          68.7215683735086,
          68.42814589370417,
          71.93909763481246,
          71.69626523773292,
          70.77552573213967,
          71.95933366790241,
          70.59340143433003,
          72.39440837933658,
          63.98633663045766,
          66.92056142850205,
          68.48885399297404,
          70.43151316961033,
          65.90875977400398,
          66.64737498178756,
          61.41636042803257,
          63.87503844846287,
          61.85143513946674,
          57.2679736445905,
          59.64570753266095,
          61.64907480856712,
          58.714850010522746,
          59.220750837771774,
          57.146557446050736,
          53.74690388693724,
          58.62378786161791,
          55.97286752683298,
          55.70979909666348,
          52.72498421589419,
          52.76545628207411
         ],
         "yaxis": "y"
        },
        {
         "hovertemplate": "<b>Week:</b> %{x}<br><b>Offenses:</b> %{y:.2f}",
         "legendgroup": "Kentucky",
         "line": {
          "color": "#19d3f3",
          "dash": "solid"
         },
         "marker": {
          "symbol": "circle"
         },
         "mode": "lines",
         "name": "Kentucky",
         "showlegend": true,
         "type": "scattergl",
         "x": [
          1,
          2,
          3,
          4,
          5,
          6,
          7,
          8,
          9,
          10,
          11,
          12,
          13,
          14,
          15,
          16,
          17,
          18,
          19,
          20,
          21,
          22,
          23,
          24,
          25,
          26,
          27,
          28,
          29,
          30,
          31,
          32,
          33,
          34,
          35,
          36,
          37,
          38,
          39,
          40,
          41,
          42,
          43,
          44,
          45,
          46,
          47,
          48,
          49,
          50,
          51,
          52
         ],
         "xaxis": "x",
         "y": [
          38.58081939724889,
          34.083528615439405,
          36.27510178830088,
          34.3803041492644,
          37.21108616421047,
          31.754982119274086,
          33.51280643500673,
          34.35747526204709,
          35.77286626952013,
          34.448790810916314,
          36.6631928709951,
          38.58081939724889,
          41.480088073846886,
          36.6631928709951,
          38.923252705508496,
          37.89595278072968,
          39.242857126550795,
          44.21955453992373,
          36.11529957777973,
          40.31581482576423,
          39.12871269046426,
          42.71284798358146,
          38.03292610403352,
          40.31581482576423,
          43.260741276796836,
          42.484559111408394,
          39.81357930698347,
          42.005152479844945,
          40.247328164112304,
          39.44831711150656,
          42.71284798358146,
          38.12424165290275,
          38.71779272055273,
          40.544103697937295,
          42.09646802871418,
          37.59917724690469,
          38.05575499125083,
          38.90042381829119,
          36.25227290108357,
          38.58081939724889,
          35.77286626952013,
          39.06022602881234,
          36.95996840482009,
          37.09694172812393,
          36.36641733717011,
          32.91925536735675,
          33.55846420944135,
          37.89595278072968,
          35.6815507206509,
          36.640363983777796,
          36.82299508151625,
          40.8865370061969
         ],
         "yaxis": "y"
        },
        {
         "hovertemplate": "<b>Week:</b> %{x}<br><b>Offenses:</b> %{y:.2f}",
         "legendgroup": "Wisconsin",
         "line": {
          "color": "#FF6692",
          "dash": "solid"
         },
         "marker": {
          "symbol": "circle"
         },
         "mode": "lines",
         "name": "Wisconsin",
         "showlegend": true,
         "type": "scattergl",
         "x": [
          1,
          2,
          3,
          4,
          5,
          6,
          7,
          8,
          9,
          10,
          11,
          12,
          13,
          14,
          15,
          16,
          17,
          18,
          19,
          20,
          21,
          22,
          23,
          24,
          25,
          26,
          27,
          28,
          29,
          30,
          31,
          32,
          33,
          34,
          35,
          36,
          37,
          38,
          39,
          40,
          41,
          42,
          43,
          44,
          45,
          46,
          47,
          48,
          49,
          50,
          51,
          52
         ],
         "xaxis": "x",
         "y": [
          23.260695466853683,
          19.78556153449341,
          17.44552160014026,
          19.261671996951662,
          19.54107975030726,
          18.56315261356266,
          20.34437704120461,
          19.401375873629462,
          19.052116181934963,
          21.00797045542416,
          23.609955158548182,
          23.592492173963457,
          23.348010389777308,
          22.841583836820284,
          24.168770665259384,
          24.29101155735246,
          24.954604971572007,
          26.85807029130703,
          24.39578946486081,
          26.142087923333307,
          25.199086755758156,
          25.02445690991091,
          26.334180753765278,
          24.308474541937183,
          26.665977460875055,
          25.635661370376283,
          25.56580943203738,
          26.386569707519456,
          25.58327241662211,
          25.61819838579156,
          25.32132764785123,
          23.80204798898016,
          24.483104387784433,
          25.443568539944305,
          26.613588507120877,
          24.063992757751034,
          24.13384469608993,
          22.701879960142485,
          25.58327241662211,
          21.584248946720084,
          21.409619100872835,
          23.120991590175883,
          24.518030356953883,
          22.26530534552436,
          22.49232414512578,
          22.82412085223556,
          21.374693131703385,
          22.30023131469381,
          21.60171193130481,
          20.536469871636587,
          17.42805861555554,
          20.79841464040746
         ],
         "yaxis": "y"
        },
        {
         "hovertemplate": "<b>Week:</b> %{x}<br><b>Offenses:</b> %{y:.2f}",
         "legendgroup": "Montana",
         "line": {
          "color": "#B6E880",
          "dash": "solid"
         },
         "marker": {
          "symbol": "circle"
         },
         "mode": "lines",
         "name": "Montana",
         "showlegend": true,
         "type": "scattergl",
         "x": [
          1,
          2,
          3,
          4,
          5,
          6,
          7,
          8,
          9,
          10,
          11,
          12,
          13,
          14,
          15,
          16,
          17,
          18,
          19,
          20,
          21,
          22,
          23,
          24,
          25,
          26,
          27,
          28,
          29,
          30,
          31,
          32,
          33,
          34,
          35,
          36,
          37,
          38,
          39,
          40,
          41,
          42,
          43,
          44,
          45,
          46,
          47,
          48,
          49,
          50,
          51,
          52
         ],
         "xaxis": "x",
         "y": [
          57.40488150418698,
          51.83352385386727,
          49.147333558177415,
          53.027386207507206,
          55.912553562137056,
          46.262166203547565,
          49.3463106171174,
          46.759608850897536,
          53.723805913797165,
          53.62431738432718,
          55.51459944425708,
          55.51459944425708,
          63.57317033132665,
          54.22124856114714,
          61.88186533033674,
          59.09618650517688,
          64.6675441554966,
          64.56805562602659,
          61.48391121245676,
          64.3690785670866,
          65.46345239125655,
          70.2389018058163,
          59.89209474093685,
          66.2593606270165,
          65.86140650913653,
          66.2593606270165,
          64.76703268496658,
          67.75168856906643,
          64.46856709655661,
          68.3486197458864,
          64.26959003761661,
          67.35373445118645,
          68.2491312164164,
          64.76703268496658,
          68.14964268694641,
          59.39465209358687,
          66.55782621542649,
          60.58851444722681,
          64.96600974390658,
          57.205904445246986,
          59.29516356411688,
          56.80795032736701,
          59.991583270406835,
          67.35373445118645,
          55.71357650319707,
          53.823294443267166,
          53.92278297273715,
          62.5782850366267,
          52.52994356015723,
          55.51459944425708,
          52.72892061909722,
          58.10130121047693
         ],
         "yaxis": "y"
        },
        {
         "hovertemplate": "<b>Week:</b> %{x}<br><b>Offenses:</b> %{y:.2f}",
         "legendgroup": "Louisiana",
         "line": {
          "color": "#FF97FF",
          "dash": "solid"
         },
         "marker": {
          "symbol": "circle"
         },
         "mode": "lines",
         "name": "Louisiana",
         "showlegend": true,
         "type": "scattergl",
         "x": [
          1,
          2,
          3,
          4,
          5,
          6,
          7,
          8,
          9,
          10,
          11,
          12,
          13,
          14,
          15,
          16,
          17,
          18,
          19,
          20,
          21,
          22,
          23,
          24,
          25,
          26,
          27,
          28,
          29,
          30,
          31,
          32,
          33,
          34,
          35,
          36,
          37,
          38,
          39,
          40,
          41,
          42,
          43,
          44,
          45,
          46,
          47,
          48,
          49,
          50,
          51,
          52
         ],
         "xaxis": "x",
         "y": [
          10.669522303104396,
          10.53914117516422,
          10.756443055064514,
          9.800314783503223,
          10.343569483253956,
          8.95283745189208,
          8.713805384001757,
          9.126678955812315,
          9.517822339632843,
          9.626473279582989,
          11.603920386675657,
          11.038935498934896,
          10.647792115114367,
          9.626473279582989,
          11.929873206526096,
          10.169727979333722,
          10.53914117516422,
          11.430078882755422,
          10.495680799184163,
          11.49526944672551,
          12.14717508642639,
          10.908554370994718,
          11.1910468148651,
          9.995886475413487,
          10.712982679084455,
          11.082395874914953,
          11.430078882755422,
          9.995886475413487,
          11.560460010695598,
          11.430078882755422,
          10.21318835531378,
          9.018028015862168,
          8.083629932290906,
          8.474773316111435,
          8.214011060231083,
          8.409582752141347,
          10.039346851393546,
          9.018028015862168,
          8.822456323951904,
          9.25706008375249,
          8.95283745189208,
          8.97456763988211,
          8.6703450080217,
          8.539963880081523,
          8.518233692091494,
          7.757677112440468,
          7.649026172490321,
          9.496092151642813,
          8.387852564151316,
          7.757677112440468,
          8.148820496260996,
          8.496503504101465
         ],
         "yaxis": "y"
        },
        {
         "hovertemplate": "<b>Week:</b> %{x}<br><b>Offenses:</b> %{y:.2f}",
         "legendgroup": "Connecticut",
         "line": {
          "color": "#FECB52",
          "dash": "solid"
         },
         "marker": {
          "symbol": "circle"
         },
         "mode": "lines",
         "name": "Connecticut",
         "showlegend": true,
         "type": "scattergl",
         "x": [
          1,
          2,
          3,
          4,
          5,
          6,
          7,
          8,
          9,
          10,
          11,
          12,
          13,
          14,
          15,
          16,
          17,
          18,
          19,
          20,
          21,
          22,
          23,
          24,
          25,
          26,
          27,
          28,
          29,
          30,
          31,
          32,
          33,
          34,
          35,
          36,
          37,
          38,
          39,
          40,
          41,
          42,
          43,
          44,
          45,
          46,
          47,
          48,
          49,
          50,
          51,
          52
         ],
         "xaxis": "x",
         "y": [
          32.61523189819814,
          32.197444982337366,
          27.04473968672109,
          31.528985916960114,
          29.49575625977099,
          27.37896921940971,
          28.54877258381989,
          28.04742828478696,
          28.883002116508514,
          29.941395636689155,
          33.060871275116305,
          33.64577295732139,
          32.1138875991652,
          30.971936695812413,
          32.83805158665722,
          31.111199001099337,
          30.27562516937778,
          34.73201893855942,
          33.95215002895264,
          35.121953393362816,
          33.868592645780474,
          33.255838502518,
          33.422953268862315,
          34.31423202269864,
          34.25852710058387,
          33.33939588569016,
          32.83805158665722,
          35.511887848166204,
          33.64577295732139,
          34.87128124384635,
          34.17496971741172,
          34.2028221784691,
          36.765248595748545,
          36.653838751519004,
          36.37531414094515,
          35.121953393362816,
          35.70685507556791,
          34.73201893855942,
          34.81557632173158,
          34.2028221784691,
          31.3618711506158,
          34.14711725635433,
          34.2028221784691,
          29.69072348717269,
          27.04473968672109,
          31.166903923214107,
          27.85246105738526,
          30.916231773697643,
          32.86590404771461,
          32.42026467079644,
          31.696100683304426,
          29.300789032369295
         ],
         "yaxis": "y"
        },
        {
         "hovertemplate": "<b>Week:</b> %{x}<br><b>Offenses:</b> %{y:.2f}",
         "legendgroup": "Washington",
         "line": {
          "color": "#636efa",
          "dash": "solid"
         },
         "marker": {
          "symbol": "circle"
         },
         "mode": "lines",
         "name": "Washington",
         "showlegend": true,
         "type": "scattergl",
         "x": [
          1,
          2,
          3,
          4,
          5,
          6,
          7,
          8,
          9,
          10,
          11,
          12,
          13,
          14,
          15,
          16,
          17,
          18,
          19,
          20,
          21,
          22,
          23,
          24,
          25,
          26,
          27,
          28,
          29,
          30,
          31,
          32,
          33,
          34,
          35,
          36,
          37,
          38,
          39,
          40,
          41,
          42,
          43,
          44,
          45,
          46,
          47,
          48,
          49,
          50,
          51,
          52
         ],
         "xaxis": "x",
         "y": [
          45.845940241948256,
          40.30730989013793,
          33.27527920786567,
          42.525661837328975,
          42.2646792553065,
          41.32224215355867,
          41.380238282897,
          41.58322473558115,
          41.873205382272786,
          43.43910087440764,
          41.9457005439457,
          43.68558442409554,
          44.135054426467576,
          42.23568119063734,
          45.541460562922026,
          48.04979315680471,
          49.32570800224793,
          48.165785415481366,
          46.22291508264738,
          49.47069832559375,
          48.84723993520672,
          51.38457059375857,
          45.1644857222229,
          49.86217219862747,
          49.746179939950814,
          52.95046608589343,
          48.02079509213555,
          50.45663252434533,
          50.920601559051946,
          52.471998018852226,
          51.15258607640526,
          49.1952167112367,
          51.0365938177286,
          51.23958027041276,
          51.57305801410814,
          48.51376219151134,
          48.93423412921422,
          50.06515865131161,
          50.54362671835282,
          50.64511994469488,
          47.20884928139896,
          48.87623799987589,
          47.52782799275976,
          52.399502857179314,
          47.658319283771,
          49.00672929088713,
          44.947000237204165,
          50.74661317103696,
          47.179851216729794,
          48.07879122147388,
          45.90393637128658,
          49.122721549563785
         ],
         "yaxis": "y"
        },
        {
         "hovertemplate": "<b>Week:</b> %{x}<br><b>Offenses:</b> %{y:.2f}",
         "legendgroup": "Tennessee",
         "line": {
          "color": "#EF553B",
          "dash": "solid"
         },
         "marker": {
          "symbol": "circle"
         },
         "mode": "lines",
         "name": "Tennessee",
         "showlegend": true,
         "type": "scattergl",
         "x": [
          1,
          2,
          3,
          4,
          5,
          6,
          7,
          8,
          9,
          10,
          11,
          12,
          13,
          14,
          15,
          16,
          17,
          18,
          19,
          20,
          21,
          22,
          23,
          24,
          25,
          26,
          27,
          28,
          29,
          30,
          31,
          32,
          33,
          34,
          35,
          36,
          37,
          38,
          39,
          40,
          41,
          42,
          43,
          44,
          45,
          46,
          47,
          48,
          49,
          50,
          51,
          52
         ],
         "xaxis": "x",
         "y": [
          91.41539437099874,
          82.63319704664153,
          80.80550871458834,
          81.84326395397447,
          84.4608853786947,
          74.12979963734327,
          78.48217608909701,
          80.57317545203921,
          88.37957307369007,
          80.40279772616985,
          91.77163870690741,
          92.54608291540451,
          99.20630310847964,
          93.15014939803227,
          93.61481592313052,
          91.61674986520799,
          94.65257116251665,
          105.20050128224729,
          88.84423959878833,
          97.75034799650508,
          96.58868168375942,
          99.11336980345999,
          91.64772763354786,
          93.98654914320915,
          97.95170349071434,
          96.09303739032129,
          92.31374965285538,
          90.22275028991318,
          93.10368274552243,
          93.38248266058139,
          92.26728300034556,
          86.84617354086579,
          91.75614982273746,
          90.37763913161261,
          94.68354893085653,
          89.86650595400452,
          89.09206174550741,
          87.83746212774209,
          89.44830608141608,
          86.90812907754557,
          83.33019683428893,
          85.57608503893053,
          86.89264019337563,
          88.10077315863111,
          84.15110769529585,
          78.99330926670511,
          78.17239840569817,
          84.70870752541377,
          87.45024002349354,
          81.99815279567389,
          79.07075368755483,
          88.51897303121955
         ],
         "yaxis": "y"
        },
        {
         "hovertemplate": "<b>Week:</b> %{x}<br><b>Offenses:</b> %{y:.2f}",
         "legendgroup": "Rhode Island",
         "line": {
          "color": "#00cc96",
          "dash": "solid"
         },
         "marker": {
          "symbol": "circle"
         },
         "mode": "lines",
         "name": "Rhode Island",
         "showlegend": true,
         "type": "scattergl",
         "x": [
          1,
          2,
          3,
          4,
          5,
          6,
          7,
          8,
          9,
          10,
          11,
          12,
          13,
          14,
          15,
          16,
          17,
          18,
          19,
          20,
          21,
          22,
          23,
          24,
          25,
          26,
          27,
          28,
          29,
          30,
          31,
          32,
          33,
          34,
          35,
          36,
          37,
          38,
          39,
          40,
          41,
          42,
          43,
          44,
          45,
          46,
          47,
          48,
          49,
          50,
          51,
          52
         ],
         "xaxis": "x",
         "y": [
          49.224406165142646,
          46.653692496943705,
          44.84467176747038,
          49.03398293046124,
          50.462157190571766,
          45.891999558218096,
          50.462157190571766,
          42.178746481930744,
          48.17707837439493,
          50.55736880791247,
          58.74556789921279,
          55.41316129228824,
          51.509484981319474,
          53.60414056281491,
          57.41260525644297,
          61.221069950071026,
          59.79289568996051,
          57.50781687378367,
          61.221069950071026,
          60.93543509804893,
          62.64924421018155,
          61.50670480209314,
          50.74779204259387,
          58.07908657782788,
          59.50726083793841,
          59.602472455279106,
          65.3151694957212,
          57.12697040442087,
          61.88755127145593,
          61.316281567411735,
          57.31739363910227,
          63.88699523561066,
          63.315725531566464,
          65.5055927304026,
          64.64868817433629,
          56.555700700376654,
          63.12530229688506,
          59.888107307301205,
          57.983874960487185,
          54.651468353562635,
          49.890887486527554,
          57.41260525644297,
          58.07908657782788,
          55.41316129228824,
          49.224406165142646,
          48.653136461098434,
          48.748348078439136,
          52.5568127720672,
          55.50837290962894,
          48.93877131312054,
          48.84355969577984,
          51.69990821600088
         ],
         "yaxis": "y"
        },
        {
         "hovertemplate": "<b>Week:</b> %{x}<br><b>Offenses:</b> %{y:.2f}",
         "legendgroup": "Massachusetts",
         "line": {
          "color": "#ab63fa",
          "dash": "solid"
         },
         "marker": {
          "symbol": "circle"
         },
         "mode": "lines",
         "name": "Massachusetts",
         "showlegend": true,
         "type": "scattergl",
         "x": [
          1,
          2,
          3,
          4,
          5,
          6,
          7,
          8,
          9,
          10,
          11,
          12,
          13,
          14,
          15,
          16,
          17,
          18,
          19,
          20,
          21,
          22,
          23,
          24,
          25,
          26,
          27,
          28,
          29,
          30,
          31,
          32,
          33,
          34,
          35,
          36,
          37,
          38,
          39,
          40,
          41,
          42,
          43,
          44,
          45,
          46,
          47,
          48,
          49,
          50,
          51,
          52
         ],
         "xaxis": "x",
         "y": [
          47.26048668220249,
          41.633163530612634,
          38.47343662731352,
          42.400525778556705,
          41.76858039789688,
          37.66093542360803,
          40.143577990485916,
          36.682924715444024,
          36.95375845001252,
          39.39126206112898,
          44.567195655104676,
          44.70261252238892,
          41.738487760722606,
          39.94797584885311,
          42.0845530882268,
          45.0035388941317,
          43.679462858463495,
          43.6042312655278,
          43.81487972574774,
          47.561413053945266,
          49.09613754983341,
          47.00469926622113,
          45.30446526587447,
          47.35076459372532,
          48.05794156732084,
          48.53942376210928,
          50.23965776245594,
          51.90979912562834,
          50.23965776245594,
          49.54752710744757,
          48.17831211601795,
          47.96766365579801,
          49.1713691427691,
          49.54752710744757,
          47.21534772644108,
          46.387800204148455,
          47.36581091231246,
          47.200301407853935,
          47.26048668220249,
          46.658633938716946,
          41.347283477457005,
          45.63548427479152,
          47.064884540569686,
          40.61001386668721,
          39.34612310536757,
          43.032471159216534,
          39.49658629123895,
          42.355386822795296,
          42.912100610519424,
          42.897054291932285,
          42.520896327253816,
          37.36000905186526
         ],
         "yaxis": "y"
        },
        {
         "hovertemplate": "<b>Week:</b> %{x}<br><b>Offenses:</b> %{y:.2f}",
         "legendgroup": "Arizona",
         "line": {
          "color": "#FFA15A",
          "dash": "solid"
         },
         "marker": {
          "symbol": "circle"
         },
         "mode": "lines",
         "name": "Arizona",
         "showlegend": true,
         "type": "scattergl",
         "x": [
          1,
          2,
          3,
          4,
          5,
          6,
          7,
          8,
          9,
          10,
          11,
          12,
          13,
          14,
          15,
          16,
          17,
          18,
          19,
          20,
          21,
          22,
          23,
          24,
          25,
          26,
          27,
          28,
          29,
          30,
          31,
          32,
          33,
          34,
          35,
          36,
          37,
          38,
          39,
          40,
          41,
          42,
          43,
          44,
          45,
          46,
          47,
          48,
          49,
          50,
          51,
          52
         ],
         "xaxis": "x",
         "y": [
          1.968487415795662,
          2.105823747130243,
          1.7090743454970085,
          1.9990066005366798,
          1.9074490463136258,
          1.9990066005366798,
          1.739593530238027,
          2.136342931871261,
          1.8006318997200628,
          2.136342931871261,
          1.7090743454970085,
          1.8158914920905718,
          2.029525785277698,
          1.8006318997200628,
          1.831151084461081,
          1.7701127149790448,
          1.831151084461081,
          2.365236817428896,
          1.8464106768315898,
          2.060044970018716,
          2.319458040317369,
          1.8921894539431168,
          1.6480359760149728,
          1.9990066005366798,
          1.6632955683854815,
          1.7090743454970085,
          1.8158914920905718,
          1.6175167912739545,
          1.7090743454970085,
          1.9990066005366798,
          1.6938147531265,
          1.9532278234251528,
          2.15160252424177,
          2.105823747130243,
          2.563611518245513,
          1.9990066005366798,
          1.6480359760149728,
          1.739593530238027,
          1.6632955683854815,
          1.6938147531265,
          1.8921894539431168,
          2.15160252424177,
          1.8464106768315898,
          1.9379682310546438,
          2.014266192907189,
          1.5412188294214098,
          1.8921894539431168,
          1.785372307349554,
          1.9532278234251528,
          1.7701127149790448,
          1.8006318997200628,
          2.014266192907189
         ],
         "yaxis": "y"
        },
        {
         "hovertemplate": "<b>Week:</b> %{x}<br><b>Offenses:</b> %{y:.2f}",
         "legendgroup": "Alabama",
         "line": {
          "color": "#19d3f3",
          "dash": "solid"
         },
         "marker": {
          "symbol": "circle"
         },
         "mode": "lines",
         "name": "Alabama",
         "showlegend": true,
         "type": "scattergl",
         "x": [
          1,
          2,
          3,
          4,
          5,
          6,
          7,
          8,
          9,
          10,
          11,
          12,
          13,
          14,
          15,
          16,
          17,
          18,
          19,
          20,
          21,
          22,
          23,
          24,
          25,
          26,
          27,
          28,
          29,
          30,
          31,
          32,
          33,
          34,
          35,
          36,
          37,
          38,
          39,
          40,
          41,
          42,
          43,
          44,
          45,
          46,
          47,
          48,
          49,
          50,
          51,
          52
         ],
         "xaxis": "x",
         "y": [
          0.9539564618418452,
          1.016171013701096,
          1.0576473816072631,
          0.8295273581233437,
          0.6221455185925078,
          1.119861933466514,
          1.0576473816072631,
          1.0369091976541795,
          0.8710037260295109,
          0.6428837025455914,
          0.6014073346394242,
          1.0369091976541795,
          0.8917419099825944,
          0.9954328297480125,
          0.8502655420764273,
          1.3894583248566008,
          1.2857674050911827,
          0.9539564618418452,
          1.1820764853257646,
          1.0576473816072631,
          0.8502655420764273,
          1.0369091976541795,
          1.2857674050911827,
          0.912480093935678,
          1.016171013701096,
          1.016171013701096,
          1.2442910371850155,
          1.2028146692788484,
          1.4101965088096842,
          1.2650292211380991,
          0.9954328297480125,
          1.1820764853257646,
          1.3065055890442663,
          1.0576473816072631,
          1.016171013701096,
          0.8917419099825944,
          0.7880509902171765,
          0.8087891741702601,
          1.3065055890442663,
          1.119861933466514,
          1.223552853231932,
          1.0369091976541795,
          1.0783855655603467,
          0.7465746223110094,
          1.2442910371850155,
          0.9954328297480125,
          1.1820764853257646,
          1.0991237495134303,
          1.0369091976541795,
          1.0991237495134303,
          1.4101965088096842,
          1.016171013701096
         ],
         "yaxis": "y"
        },
        {
         "hovertemplate": "<b>Week:</b> %{x}<br><b>Offenses:</b> %{y:.2f}",
         "legendgroup": "Pennsylvania",
         "line": {
          "color": "#FF6692",
          "dash": "solid"
         },
         "marker": {
          "symbol": "circle"
         },
         "mode": "lines",
         "name": "Pennsylvania",
         "showlegend": true,
         "type": "scattergl",
         "x": [
          11
         ],
         "xaxis": "x",
         "y": [
          0.00783481944188507
         ],
         "yaxis": "y"
        },
        {
         "hovertemplate": "<b>Week:</b> %{x}<br><b>Offenses:</b> %{y:.2f}",
         "legendgroup": "South Dakota",
         "line": {
          "color": "#B6E880",
          "dash": "solid"
         },
         "marker": {
          "symbol": "circle"
         },
         "mode": "lines",
         "name": "South Dakota",
         "showlegend": true,
         "type": "scattergl",
         "x": [
          1,
          2,
          3,
          4,
          5,
          6,
          7,
          8,
          9,
          10,
          11,
          12,
          13,
          14,
          15,
          16,
          17,
          18,
          19,
          20,
          21,
          22,
          23,
          24,
          25,
          26,
          27,
          28,
          29,
          30,
          31,
          32,
          33,
          34,
          35,
          36,
          37,
          38,
          39,
          40,
          41,
          42,
          43,
          44,
          45,
          46,
          47,
          48,
          49,
          50,
          51,
          52
         ],
         "xaxis": "x",
         "y": [
          46.438848316561746,
          42.71894057027386,
          41.27897628138822,
          40.3190000887978,
          47.75881558137358,
          38.39904770361695,
          42.118955449904846,
          45.23887807582372,
          44.518895931380904,
          44.518895931380904,
          49.198779870259216,
          47.63881855729978,
          53.99866083321133,
          49.678767966554425,
          45.59886914804513,
          48.3588007017426,
          53.15868166469471,
          55.198631073949365,
          50.75874118321865,
          53.63866976098992,
          50.99873523136627,
          56.518598338761194,
          58.67854477208965,
          54.11865785728514,
          55.31862809802317,
          62.27845549430374,
          59.15853286838486,
          61.558473349860925,
          57.23858048320401,
          56.39860131468739,
          63.23843168689416,
          59.99851203690148,
          54.718642977654156,
          50.63874415914485,
          56.15860726653979,
          51.59872035173528,
          48.83878879803781,
          47.518821533225974,
          55.91861321839218,
          51.23872927951387,
          45.118881051749916,
          49.31877689433302,
          45.59886914804513,
          53.758666785063724,
          42.598943546200054,
          44.758889979528504,
          45.358875099897524,
          50.03875903877584,
          41.15897925731442,
          39.23902687213357,
          37.439071511026526,
          51.23872927951387
         ],
         "yaxis": "y"
        },
        {
         "hovertemplate": "<b>Week:</b> %{x}<br><b>Offenses:</b> %{y:.2f}",
         "legendgroup": "Utah",
         "line": {
          "color": "#FF97FF",
          "dash": "solid"
         },
         "marker": {
          "symbol": "circle"
         },
         "mode": "lines",
         "name": "Utah",
         "showlegend": true,
         "type": "scattergl",
         "x": [
          1,
          2,
          3,
          4,
          5,
          6,
          7,
          8,
          9,
          10,
          11,
          12,
          13,
          14,
          15,
          16,
          17,
          18,
          19,
          20,
          21,
          22,
          23,
          24,
          25,
          26,
          27,
          28,
          29,
          30,
          31,
          32,
          33,
          34,
          35,
          36,
          37,
          38,
          39,
          40,
          41,
          42,
          43,
          44,
          45,
          46,
          47,
          48,
          49,
          50,
          51,
          52
         ],
         "xaxis": "x",
         "y": [
          57.29721740756708,
          51.58850931622636,
          50.57284959445408,
          53.09448752437145,
          54.285260991276886,
          55.61612545428883,
          51.34335007303994,
          49.27700788046876,
          51.72860031233288,
          52.884351030211675,
          52.429055292865485,
          55.160829716942644,
          57.47233115270024,
          54.180192744196994,
          58.10274063517958,
          60.69442406315022,
          61.85017478102902,
          64.68701745218607,
          58.803195615712184,
          65.73769992298497,
          62.41053876545511,
          66.54322315059747,
          58.34789987836599,
          59.048354858898605,
          58.66310461960566,
          65.14231318953226,
          65.98285916617138,
          61.184742549523044,
          66.19299566033116,
          69.1349065785681,
          72.42704498707135,
          67.34874637820997,
          66.61326864865073,
          64.40683545997302,
          63.986562471653464,
          63.63633498138716,
          60.09903732969751,
          63.39117573820075,
          59.57369609429805,
          62.83081175377466,
          59.81885533748446,
          59.853878086511095,
          57.57739939978013,
          60.51931031801706,
          55.37096621110242,
          58.10274063517958,
          53.65485150879754,
          64.72204020121269,
          55.02073872083612,
          56.491694179954585,
          52.11385055162581,
          55.86128469747525
         ],
         "yaxis": "y"
        },
        {
         "hovertemplate": "<b>Week:</b> %{x}<br><b>Offenses:</b> %{y:.2f}",
         "legendgroup": "New Hampshire",
         "line": {
          "color": "#FECB52",
          "dash": "solid"
         },
         "marker": {
          "symbol": "circle"
         },
         "mode": "lines",
         "name": "New Hampshire",
         "showlegend": true,
         "type": "scattergl",
         "x": [
          1,
          2,
          3,
          4,
          5,
          6,
          7,
          8,
          9,
          10,
          11,
          12,
          13,
          14,
          15,
          16,
          17,
          18,
          19,
          20,
          21,
          22,
          23,
          24,
          25,
          26,
          27,
          28,
          29,
          30,
          31,
          32,
          33,
          34,
          35,
          36,
          37,
          38,
          39,
          40,
          41,
          42,
          43,
          44,
          45,
          46,
          47,
          48,
          49,
          50,
          51,
          52
         ],
         "xaxis": "x",
         "y": [
          58.22590439442788,
          51.94144397214242,
          48.231340831275105,
          50.42711615954352,
          56.25727823804931,
          56.71157658182897,
          53.228622612851495,
          50.35139976891357,
          46.641296628046256,
          50.35139976891357,
          62.08744031655508,
          63.14746978537431,
          57.468740488128425,
          57.01444214434876,
          60.49739611332624,
          59.89166498828667,
          59.36165025387706,
          56.25727823804931,
          59.664515816396836,
          67.69045322317103,
          68.44761712947049,
          61.63314197277542,
          58.377337175687764,
          60.95169445710591,
          57.998755222538044,
          63.22318617600427,
          68.90191547325016,
          65.57039428553257,
          64.05606647293367,
          67.00900570750152,
          67.69045322317103,
          62.920320613484485,
          62.01172392592514,
          59.588799425766894,
          60.57311250395618,
          59.588799425766894,
          63.526051738524046,
          59.51308303513695,
          61.63314197277542,
          54.51580125356056,
          54.288652081670726,
          59.43736664450701,
          59.81594859765673,
          53.228622612851495,
          50.42711615954352,
          54.51580125356056,
          46.41414745615643,
          52.92575705033171,
          58.60448634757761,
          52.3957423159221,
          52.92575705033171,
          44.67267047166768
         ],
         "yaxis": "y"
        },
        {
         "hovertemplate": "<b>Week:</b> %{x}<br><b>Offenses:</b> %{y:.2f}",
         "legendgroup": "Maine",
         "line": {
          "color": "#636efa",
          "dash": "solid"
         },
         "marker": {
          "symbol": "circle"
         },
         "mode": "lines",
         "name": "Maine",
         "showlegend": true,
         "type": "scattergl",
         "x": [
          1,
          2,
          3,
          4,
          5,
          6,
          7,
          8,
          9,
          10,
          11,
          12,
          13,
          14,
          15,
          16,
          17,
          18,
          19,
          20,
          21,
          22,
          23,
          24,
          25,
          26,
          27,
          28,
          29,
          30,
          31,
          32,
          33,
          34,
          35,
          36,
          37,
          38,
          39,
          40,
          41,
          42,
          43,
          44,
          45,
          46,
          47,
          48,
          49,
          50,
          51,
          52
         ],
         "xaxis": "x",
         "y": [
          18.43225057027126,
          11.661219748538961,
          10.758415638974656,
          12.639257533900293,
          12.714491209697318,
          14.143931049840806,
          15.046735159405113,
          11.285051369553834,
          10.607948287380605,
          13.015425912885423,
          16.476174999548597,
          16.852343378533725,
          15.648604565781318,
          16.25047397215752,
          16.476174999548597,
          18.056082191286137,
          15.723838241578342,
          16.476174999548597,
          13.39159429187055,
          17.15327808172183,
          16.476174999548597,
          16.325707647954548,
          15.121968835202138,
          17.83038116389506,
          16.551408675345623,
          15.949539268969419,
          19.560755707226644,
          17.604680136503983,
          18.80841894925639,
          17.755147488098032,
          18.281783218677212,
          17.228511757518852,
          15.874305593172394,
          19.034119976647467,
          17.604680136503983,
          16.551408675345623,
          15.121968835202138,
          14.971501483608087,
          13.015425912885423,
          14.745800456217012,
          15.723838241578342,
          15.723838241578342,
          19.410288355632595,
          18.056082191286137,
          13.2411269402765,
          15.949539268969419,
          13.316360616073524,
          16.25047397215752,
          14.294398401434858,
          14.59533310462296,
          12.86495856129137,
          11.962154451727065
         ],
         "yaxis": "y"
        },
        {
         "hovertemplate": "<b>Week:</b> %{x}<br><b>Offenses:</b> %{y:.2f}",
         "legendgroup": "DC",
         "line": {
          "color": "#EF553B",
          "dash": "solid"
         },
         "marker": {
          "symbol": "circle"
         },
         "mode": "lines",
         "name": "DC",
         "showlegend": true,
         "type": "scattergl",
         "x": [
          1,
          2,
          3,
          4,
          5,
          6,
          7,
          8,
          9,
          10,
          11,
          12,
          13,
          14,
          15,
          16,
          17,
          18,
          19,
          20,
          21,
          22,
          23,
          24,
          25,
          26,
          27,
          28,
          29,
          30,
          31,
          32,
          33,
          34,
          35,
          36,
          37,
          38,
          39,
          40,
          41,
          42,
          43,
          44,
          45,
          46,
          47,
          48,
          49,
          50,
          51,
          52
         ],
         "xaxis": "x",
         "y": [
          5.693292826609186,
          6.0095868725319175,
          9.805115423604708,
          10.279556492488807,
          8.539939239913778,
          6.958469010300115,
          9.172527331759243,
          7.591057102145581,
          5.693292826609186,
          7.749204125106947,
          6.958469010300115,
          6.4840279414160165,
          7.116616033261482,
          7.749204125106947,
          6.958469010300115,
          7.907351148068313,
          5.851439849570552,
          5.851439849570552,
          7.907351148068313,
          6.4840279414160165,
          7.116616033261482,
          7.116616033261482,
          10.12140946952744,
          9.963262446566075,
          8.698086262875144,
          7.116616033261482,
          5.06070473476372,
          9.33067435472061,
          9.33067435472061,
          8.856233285836511,
          8.698086262875144,
          7.116616033261482,
          6.642174964377383,
          6.800321987338749,
          6.32588091845465,
          7.432910079184214,
          10.753997561372906,
          10.437703515450174,
          9.172527331759243,
          6.32588091845465,
          6.167733895493285,
          6.4840279414160165,
          4.428116642918256,
          7.749204125106947,
          7.432910079184214,
          7.274763056222848,
          4.744410688840988,
          5.851439849570552,
          6.32588091845465,
          5.851439849570552,
          2.6884993903432264,
          3.7955285510727905
         ],
         "yaxis": "y"
        },
        {
         "hovertemplate": "<b>Week:</b> %{x}<br><b>Offenses:</b> %{y:.2f}",
         "legendgroup": "Nebraska",
         "line": {
          "color": "#00cc96",
          "dash": "solid"
         },
         "marker": {
          "symbol": "circle"
         },
         "mode": "lines",
         "name": "Nebraska",
         "showlegend": true,
         "type": "scattergl",
         "x": [
          1,
          2,
          3,
          4,
          5,
          6,
          7,
          8,
          9,
          10,
          11,
          12,
          13,
          14,
          15,
          16,
          17,
          18,
          19,
          20,
          21,
          22,
          23,
          24,
          25,
          26,
          27,
          28,
          29,
          30,
          31,
          32,
          33,
          34,
          35,
          36,
          37,
          38,
          39,
          40,
          41,
          42,
          43,
          44,
          45,
          46,
          47,
          48,
          49,
          50,
          51,
          52
         ],
         "xaxis": "x",
         "y": [
          15.898465393891216,
          14.658924024198004,
          13.58106196359521,
          15.467320569650099,
          14.335565406017166,
          15.251748157529539,
          14.820603333288423,
          16.329610218132334,
          17.19189986661457,
          14.227779199956885,
          16.545182630252892,
          16.49128952722275,
          18.323655030247505,
          17.89251020600639,
          15.521213672680238,
          17.29968607267485,
          17.89251020600639,
          19.940448121151697,
          16.706861939343312,
          18.700906751458483,
          17.946403309036526,
          16.706861939343312,
          17.407472278735128,
          18.215868824187226,
          19.994341224181834,
          19.56319639994072,
          18.862586060548903,
          20.425486048422954,
          21.12609638781477,
          19.832661915091414,
          20.91052397569421,
          18.48533433933792,
          17.569151587825548,
          18.215868824187226,
          20.263806739332534,
          17.51525848479541,
          18.161975721157084,
          18.91647916357904,
          19.670982606000997,
          19.18594467872974,
          18.64701364842834,
          18.75479985448862,
          15.952358496921358,
          18.539227442368063,
          16.599075733283033,
          17.569151587825548,
          15.575106775710378,
          17.946403309036526,
          16.49128952722275,
          16.706861939343312,
          13.58106196359521,
          14.605030921167865
         ],
         "yaxis": "y"
        },
        {
         "hovertemplate": "<b>Week:</b> %{x}<br><b>Offenses:</b> %{y:.2f}",
         "legendgroup": "North Dakota",
         "line": {
          "color": "#ab63fa",
          "dash": "solid"
         },
         "marker": {
          "symbol": "circle"
         },
         "mode": "lines",
         "name": "North Dakota",
         "showlegend": true,
         "type": "scattergl",
         "x": [
          1,
          2,
          3,
          4,
          5,
          6,
          7,
          8,
          9,
          10,
          11,
          12,
          13,
          14,
          15,
          16,
          17,
          18,
          19,
          20,
          21,
          22,
          23,
          24,
          25,
          26,
          27,
          28,
          29,
          30,
          31,
          32,
          33,
          34,
          35,
          36,
          37,
          38,
          39,
          40,
          41,
          42,
          43,
          44,
          45,
          46,
          47,
          48,
          49,
          50,
          51,
          52
         ],
         "xaxis": "x",
         "y": [
          51.45591657280726,
          43.594595985295044,
          36.59087400732961,
          40.593000851881285,
          46.02445871234428,
          44.3092614932507,
          44.73806079802409,
          39.59246914074337,
          42.451131172565994,
          41.87939876620147,
          47.73965593143785,
          45.45272630597975,
          51.45591657280726,
          46.45325801711767,
          43.16579668052165,
          46.5961911187088,
          50.455384861669344,
          54.171645503038754,
          51.45591657280726,
          53.599913096674236,
          53.74284619826537,
          53.885779299856495,
          56.31564202690573,
          54.31457860462989,
          58.31670544918157,
          61.17536748100419,
          53.74284619826537,
          55.45804341735894,
          58.88843785554609,
          55.45804341735894,
          63.89109641123568,
          55.17217721417668,
          58.030839245999296,
          60.88950127782193,
          67.1785577478317,
          57.88790614440817,
          55.886842722132336,
          52.027648979171786,
          48.74018764257577,
          48.4543214393935,
          47.31085662666445,
          51.45591657280726,
          42.879930477339386,
          51.02711726803388,
          39.59246914074337,
          40.30713464869902,
          37.448472616876394,
          45.02392700120635,
          42.451131172565994,
          37.30553951528527,
          41.307666359836944,
          51.45591657280726
         ],
         "yaxis": "y"
        },
        {
         "hovertemplate": "<b>Week:</b> %{x}<br><b>Offenses:</b> %{y:.2f}",
         "legendgroup": "Delaware",
         "line": {
          "color": "#FFA15A",
          "dash": "solid"
         },
         "marker": {
          "symbol": "circle"
         },
         "mode": "lines",
         "name": "Delaware",
         "showlegend": true,
         "type": "scattergl",
         "x": [
          1,
          2,
          3,
          4,
          5,
          6,
          7,
          8,
          9,
          10,
          11,
          12,
          13,
          14,
          15,
          16,
          17,
          18,
          19,
          20,
          21,
          22,
          23,
          24,
          25,
          26,
          27,
          28,
          29,
          30,
          31,
          32,
          33,
          34,
          35,
          36,
          37,
          38,
          39,
          40,
          41,
          42,
          43,
          44,
          45,
          46,
          47,
          48,
          49,
          50,
          51,
          52
         ],
         "xaxis": "x",
         "y": [
          92.57522691289424,
          78.8361473003799,
          82.21639704631596,
          85.59664679225203,
          83.63392113332141,
          71.42140592219755,
          81.23503421685065,
          74.47453472497853,
          80.36271170177038,
          78.39998604283976,
          90.93962219711872,
          98.46340388968609,
          87.45033213679761,
          80.79887295931051,
          91.15770282588879,
          93.22946879920444,
          93.55658974235955,
          100.75325049177181,
          98.24532326091604,
          95.95547665883029,
          108.93127407064941,
          95.6283557156752,
          97.80916200337589,
          98.35436357530106,
          97.59108137460582,
          93.55658974235955,
          94.21083162866975,
          94.86507351497995,
          97.80916200337589,
          97.4820410602208,
          103.04309709385754,
          103.8063792945528,
          96.93683948829562,
          89.19497716695817,
          93.66563005674459,
          91.811944712199,
          98.89956514722623,
          93.12042848481941,
          100.53516986300176,
          95.08315414375002,
          85.487606477867,
          96.39163791637044,
          91.70290439781395,
          78.72710698599487,
          86.03280804979218,
          79.8175101298452,
          82.325437360701,
          85.92376773540714,
          81.56215516000576,
          89.41305779572824,
          84.83336459155679,
          82.87063893262616
         ],
         "yaxis": "y"
        },
        {
         "hovertemplate": "<b>Week:</b> %{x}<br><b>Offenses:</b> %{y:.2f}",
         "legendgroup": "Iowa",
         "line": {
          "color": "#19d3f3",
          "dash": "solid"
         },
         "marker": {
          "symbol": "circle"
         },
         "mode": "lines",
         "name": "Iowa",
         "showlegend": true,
         "type": "scattergl",
         "x": [
          1,
          2,
          3,
          4,
          5,
          6,
          7,
          8,
          9,
          10,
          11,
          12,
          13,
          14,
          15,
          16,
          17,
          18,
          19,
          20,
          21,
          22,
          23,
          24,
          25,
          26,
          27,
          28,
          29,
          30,
          31,
          32,
          33,
          34,
          35,
          36,
          37,
          38,
          39,
          40,
          41,
          42,
          43,
          44,
          45,
          46,
          47,
          48,
          49,
          50,
          51,
          52
         ],
         "xaxis": "x",
         "y": [
          48.43558587541548,
          39.94553354936884,
          38.61184716864887,
          43.556245458147295,
          45.8657999223209,
          40.92140163282248,
          38.969665465915206,
          39.717830996562995,
          45.28027907224872,
          43.32854290534145,
          49.671685447790075,
          49.15122246994814,
          49.47651183109936,
          46.67902332519893,
          47.75247821699793,
          51.72100842304271,
          52.241471400884656,
          55.39677820405141,
          51.59089267858223,
          50.51743778678323,
          51.6884794869276,
          51.59089267858223,
          54.12814969556169,
          50.745140339589085,
          52.143884592539294,
          56.66540671254114,
          53.24986842045341,
          53.705273526065106,
          52.07882672030905,
          53.67274458994999,
          55.00643097066996,
          49.801801192250565,
          50.97284289239493,
          47.75247821699793,
          52.4691739536905,
          48.53317268376084,
          50.745140339589085,
          47.622362472537446,
          46.4838497085082,
          52.013768848078804,
          45.150163327788235,
          45.83327098620578,
          52.17641352865441,
          48.142825450379384,
          46.51637864462333,
          45.63809736951505,
          44.7923450305219,
          47.427188855846715,
          45.31280800836384,
          44.401997797140446,
          35.03366419598554,
          45.8657999223209
         ],
         "yaxis": "y"
        },
        {
         "hovertemplate": "<b>Week:</b> %{x}<br><b>Offenses:</b> %{y:.2f}",
         "legendgroup": "Oklahoma",
         "line": {
          "color": "#FF6692",
          "dash": "solid"
         },
         "marker": {
          "symbol": "circle"
         },
         "mode": "lines",
         "name": "Oklahoma",
         "showlegend": true,
         "type": "scattergl",
         "x": [
          1,
          2,
          3,
          4,
          5,
          6,
          7,
          8,
          9,
          10,
          11,
          12,
          13,
          14,
          15,
          16,
          17,
          18,
          19,
          20,
          21,
          22,
          23,
          24,
          25,
          26,
          27,
          28,
          29,
          30,
          31,
          32,
          33,
          34,
          35,
          36,
          37,
          38,
          39,
          40,
          41,
          42,
          43,
          44,
          45,
          46,
          47,
          48,
          49,
          50,
          51,
          52
         ],
         "xaxis": "x",
         "y": [
          13.866971442951437,
          11.481537792084554,
          11.691246244908017,
          10.799985320408302,
          11.743673358113881,
          11.586392018496285,
          10.9572666600259,
          11.140761556246428,
          14.522310358024756,
          13.080564744863453,
          14.338815461804227,
          13.185418971275185,
          15.832988188171395,
          14.102893452377831,
          13.866971442951437,
          14.286388348598361,
          14.94172726367168,
          16.907744008891637,
          14.024252782569032,
          15.41357128252447,
          15.125222159892209,
          16.383472876832982,
          14.967940820274613,
          15.439784839127404,
          15.125222159892209,
          17.48444225415616,
          15.88541530137726,
          16.147550867406586,
          17.091238905112167,
          15.177649273098075,
          16.042696640994855,
          14.94172726367168,
          13.762117216539705,
          14.967940820274613,
          15.78056107496553,
          14.46988324481889,
          14.784445924054083,
          14.967940820274613,
          15.465998395730336,
          17.536869367362023,
          14.600951027833554,
          14.050466339171965,
          14.94172726367168,
          15.465998395730336,
          13.159205414672252,
          13.211632527878118,
          12.267944490172537,
          15.570852622142066,
          13.499981650510378,
          13.159205414672252,
          12.84464273543706,
          14.705805254245286
         ],
         "yaxis": "y"
        },
        {
         "hovertemplate": "<b>Week:</b> %{x}<br><b>Offenses:</b> %{y:.2f}",
         "legendgroup": "Ohio",
         "line": {
          "color": "#B6E880",
          "dash": "solid"
         },
         "marker": {
          "symbol": "circle"
         },
         "mode": "lines",
         "name": "Ohio",
         "showlegend": true,
         "type": "scattergl",
         "x": [
          1,
          2,
          3,
          4,
          5,
          6,
          7,
          8,
          9,
          10,
          11,
          12,
          13,
          14,
          15,
          16,
          17,
          18,
          19,
          20,
          21,
          22,
          23,
          24,
          25,
          26,
          27,
          28,
          29,
          30,
          31,
          32,
          33,
          34,
          35,
          36,
          37,
          38,
          39,
          40,
          41,
          42,
          43,
          44,
          45,
          46,
          47,
          48,
          49,
          50,
          51,
          52
         ],
         "xaxis": "x",
         "y": [
          52.1212987446104,
          45.97103746678534,
          44.22124482154497,
          47.24440142148996,
          49.306038300535555,
          41.08547780383698,
          44.10863440378198,
          46.161608942999635,
          48.656362813441355,
          46.30886872007432,
          53.44663673828256,
          54.44280581849366,
          52.85759762998383,
          49.505272116577764,
          51.72283111252596,
          52.23390916237339,
          52.86625996981175,
          58.7826380722829,
          52.90957166895136,
          56.81628693134446,
          58.34085874105884,
          59.96071628888037,
          55.13579300472747,
          58.98187188832512,
          61.56324915704605,
          60.350521581136896,
          58.61805361555237,
          58.62671595538029,
          59.98670330836414,
          60.27256052268559,
          60.393833280276496,
          56.634377794958084,
          57.00685840755875,
          58.713339353659514,
          61.67585957480905,
          55.73349445285414,
          55.430312558876835,
          54.07032520589299,
          54.92789684885732,
          54.321533060902745,
          52.407155958931845,
          53.48994843742218,
          53.33402632051957,
          49.22807724208425,
          48.916233008279036,
          48.04999902548677,
          47.33102481976919,
          50.995194566980466,
          48.05866136531469,
          47.9460509475517,
          45.07015412468139,
          51.49761027699998
         ],
         "yaxis": "y"
        },
        {
         "hovertemplate": "<b>Week:</b> %{x}<br><b>Offenses:</b> %{y:.2f}",
         "legendgroup": "Virginia",
         "line": {
          "color": "#FF97FF",
          "dash": "solid"
         },
         "marker": {
          "symbol": "circle"
         },
         "mode": "lines",
         "name": "Virginia",
         "showlegend": true,
         "type": "scattergl",
         "x": [
          1,
          2,
          3,
          4,
          5,
          6,
          7,
          8,
          9,
          10,
          11,
          12,
          13,
          14,
          15,
          16,
          17,
          18,
          19,
          20,
          21,
          22,
          23,
          24,
          25,
          26,
          27,
          28,
          29,
          30,
          31,
          32,
          33,
          34,
          35,
          36,
          37,
          38,
          39,
          40,
          41,
          42,
          43,
          44,
          45,
          46,
          47,
          48,
          49,
          50,
          51,
          52
         ],
         "xaxis": "x",
         "y": [
          57.00068178483721,
          51.747725683791344,
          52.651722780250395,
          55.0338772911898,
          52.17529187806252,
          48.925788801601584,
          51.662212444937104,
          51.99204922337488,
          54.30090667243922,
          51.90653598452064,
          57.5748421028585,
          56.32879205098251,
          59.61494365838096,
          56.79300677619121,
          56.26771116608663,
          57.012897961816385,
          56.084468511398974,
          62.35136730171648,
          60.091374560568845,
          62.47352907150825,
          62.92552761973778,
          63.57298499963412,
          59.84705102098531,
          60.286833392235664,
          61.703909921820134,
          61.78942316067437,
          60.39677898504825,
          59.480565711610026,
          59.651592189318485,
          61.19083048869473,
          63.817308539217656,
          60.091374560568845,
          59.4927818885892,
          61.068668718902956,
          64.25709091046801,
          58.9186215705679,
          60.091374560568845,
          58.8697568626512,
          61.15418195775719,
          61.96044963838284,
          54.92393169837721,
          59.651592189318485,
          57.281653855358265,
          54.80176992858545,
          54.10544784077239,
          53.15258603639663,
          52.01648157733323,
          60.45785986994414,
          57.709220049629444,
          56.53646705962851,
          53.66566546952204,
          59.61494365838096
         ],
         "yaxis": "y"
        },
        {
         "hovertemplate": "<b>Week:</b> %{x}<br><b>Offenses:</b> %{y:.2f}",
         "legendgroup": "Colorado",
         "line": {
          "color": "#FECB52",
          "dash": "solid"
         },
         "marker": {
          "symbol": "circle"
         },
         "mode": "lines",
         "name": "Colorado",
         "showlegend": true,
         "type": "scattergl",
         "x": [
          1,
          2,
          3,
          4,
          5,
          6,
          7,
          8,
          9,
          10,
          11,
          12,
          13,
          14,
          15,
          16,
          17,
          18,
          19,
          20,
          21,
          22,
          23,
          24,
          25,
          26,
          27,
          28,
          29,
          30,
          31,
          32,
          33,
          34,
          35,
          36,
          37,
          38,
          39,
          40,
          41,
          42,
          43,
          44,
          45,
          46,
          47,
          48,
          49,
          50,
          51,
          52
         ],
         "xaxis": "x",
         "y": [
          58.485822489167404,
          51.54617314964853,
          51.35340511243967,
          52.51001333569282,
          48.48116135802769,
          45.26193513663977,
          47.34382993849543,
          48.654652591515664,
          47.32455313477455,
          49.59921597383906,
          52.60639735429725,
          51.12208346778905,
          54.0136040259219,
          51.27629789755613,
          56.808740565450336,
          56.847294172892106,
          57.17499983614717,
          55.82562357568517,
          53.12687105476116,
          54.167818455688995,
          52.95337982127319,
          54.322032885456075,
          53.57023754034152,
          54.167818455688995,
          56.19188284638199,
          57.387044677076915,
          55.74851636080163,
          58.42799207800474,
          56.17260604266111,
          57.56053591056489,
          58.890635367306,
          56.403927687311736,
          58.83280495614335,
          61.126744598928745,
          59.54604669381611,
          57.07861581754274,
          58.023179199866135,
          56.731633350566796,
          56.46175809847439,
          54.51480092266494,
          53.146147858482045,
          54.91961380080353,
          54.05215763336367,
          58.524376096609174,
          52.47145972825105,
          52.336522102204846,
          50.46667214127893,
          55.478641108709226,
          52.74133498034344,
          54.49552411894405,
          49.86909122593146,
          50.91003862685929
         ],
         "yaxis": "y"
        },
        {
         "hovertemplate": "<b>Week:</b> %{x}<br><b>Offenses:</b> %{y:.2f}",
         "legendgroup": "Oregon",
         "line": {
          "color": "#636efa",
          "dash": "solid"
         },
         "marker": {
          "symbol": "circle"
         },
         "mode": "lines",
         "name": "Oregon",
         "showlegend": true,
         "type": "scattergl",
         "x": [
          1,
          2,
          3,
          4,
          5,
          6,
          7,
          8,
          9,
          10,
          11,
          12,
          13,
          14,
          15,
          16,
          17,
          18,
          19,
          20,
          21,
          22,
          23,
          24,
          25,
          26,
          27,
          28,
          29,
          30,
          31,
          32,
          33,
          34,
          35,
          36,
          37,
          38,
          39,
          40,
          41,
          42,
          43,
          44,
          45,
          46,
          47,
          48,
          49,
          50,
          51,
          52
         ],
         "xaxis": "x",
         "y": [
          20.2084807402664,
          19.157024255049492,
          18.721054492886385,
          20.25977130052088,
          20.003318499248465,
          17.977341369196374,
          18.0542772095781,
          18.567182812122937,
          20.054609059502948,
          18.567182812122937,
          17.438790486524304,
          18.49024697174121,
          18.54153753199569,
          16.43862456156188,
          19.644284577467083,
          20.131544899884673,
          21.106065544719854,
          20.5162241017933,
          19.43912233644915,
          21.67026170751917,
          20.823967463320194,
          23.157687954899185,
          18.772345053140867,
          20.747031622938472,
          21.49074474662848,
          22.978170994008494,
          21.721552267773653,
          21.080420264592615,
          22.824299313245042,
          22.46526539146366,
          24.439951961261265,
          21.465099466501236,
          22.003650349173313,
          21.285582505610545,
          21.84977866840986,
          20.670095782556746,
          20.69574106268399,
          21.259937225483306,
          22.92688043375401,
          22.696072912608834,
          20.798322183192955,
          20.439288261411573,
          21.49074474662848,
          22.56784651197263,
          19.618639297339843,
          19.746865697976048,
          19.746865697976048,
          22.28574843057297,
          21.824133388282622,
          21.20864666522882,
          20.439288261411573,
          23.619302997189536
         ],
         "yaxis": "y"
        },
        {
         "hovertemplate": "<b>Week:</b> %{x}<br><b>Offenses:</b> %{y:.2f}",
         "legendgroup": "Arkansas",
         "line": {
          "color": "#EF553B",
          "dash": "solid"
         },
         "marker": {
          "symbol": "circle"
         },
         "mode": "lines",
         "name": "Arkansas",
         "showlegend": true,
         "type": "scattergl",
         "x": [
          1,
          2,
          3,
          4,
          5,
          6,
          7,
          8,
          9,
          10,
          11,
          12,
          13,
          14,
          15,
          16,
          17,
          18,
          19,
          20,
          21,
          22,
          23,
          24,
          25,
          26,
          27,
          28,
          29,
          30,
          31,
          32,
          33,
          34,
          35,
          36,
          37,
          38,
          39,
          40,
          41,
          42,
          43,
          44,
          45,
          46,
          47,
          48,
          49,
          50,
          51,
          52
         ],
         "xaxis": "x",
         "y": [
          93.75643197945429,
          80.36265598238938,
          81.10863844298541,
          82.09197895922561,
          84.0925682853695,
          72.46202355880428,
          74.46261288494814,
          80.05748133941829,
          85.88970784953263,
          83.61785217408111,
          91.51848459766623,
          82.49887848318708,
          94.87540567034831,
          93.38344074915628,
          93.14608269351208,
          92.33228364558916,
          94.40068955905994,
          104.23409472146201,
          92.46791682024298,
          96.0282876549058,
          97.48634428243439,
          96.60472864718454,
          93.4512573364832,
          94.8075890830214,
          95.21448860698287,
          95.7231130119347,
          92.56964170123335,
          91.34894312934895,
          96.36737059154035,
          91.28112654202205,
          95.31621348797324,
          95.38403007530015,
          89.34835380320509,
          90.87422701806058,
          95.65529642460778,
          93.17999098717554,
          89.92479479548382,
          90.50123578776257,
          90.16215285112801,
          91.9253841216277,
          89.34835380320509,
          91.82365924063733,
          89.82306991449344,
          89.07708745389743,
          86.94086495309975,
          87.48339765171504,
          82.26152042754289,
          87.11040642141701,
          88.16156352498415,
          81.61726284793724,
          82.939686300812,
          77.78562566396678
         ],
         "yaxis": "y"
        },
        {
         "hovertemplate": "<b>Week:</b> %{x}<br><b>Offenses:</b> %{y:.2f}",
         "legendgroup": "Missouri",
         "line": {
          "color": "#00cc96",
          "dash": "solid"
         },
         "marker": {
          "symbol": "circle"
         },
         "mode": "lines",
         "name": "Missouri",
         "showlegend": true,
         "type": "scattergl",
         "x": [
          1,
          2,
          3,
          4,
          5,
          6,
          7,
          8,
          9,
          10,
          11,
          12,
          13,
          14,
          15,
          16,
          17,
          18,
          19,
          20,
          21,
          22,
          23,
          24,
          25,
          26,
          27,
          28,
          29,
          30,
          31,
          32,
          33,
          34,
          35,
          36,
          37,
          38,
          39,
          40,
          41,
          42,
          43,
          44,
          45,
          46,
          47,
          48,
          49,
          50,
          51,
          52
         ],
         "xaxis": "x",
         "y": [
          12.022607816554933,
          10.328815002620397,
          11.458010211910088,
          10.9432300429692,
          10.278997566916441,
          8.933926802909603,
          10.876806795363922,
          10.577902181140182,
          12.902715847324837,
          12.105636876061526,
          12.969139094930112,
          12.321512430778673,
          12.819686787818242,
          11.192317221488983,
          13.33446695675913,
          12.354724054581311,
          11.657279954725913,
          14.563297037456733,
          13.533736699574957,
          12.304906618877354,
          13.268043709153854,
          13.085379778239345,
          13.317861144857812,
          14.065122680417165,
          13.384284392463087,
          13.583554135278915,
          13.400890204364407,
          12.919321659226156,
          12.836292599719561,
          13.052168154436707,
          13.982093620910572,
          13.517130887673638,
          12.67023448070637,
          14.413844730344863,
          13.61676575908155,
          13.002350718732751,
          13.61676575908155,
          12.387935678383947,
          13.16840883774594,
          11.972790380850975,
          12.03921362845625,
          12.720051916410329,
          12.05581944035757,
          12.338118242679991,
          11.939578757048336,
          11.989396192752293,
          11.72370320233119,
          12.603811233101094,
          12.238483371272078,
          11.125893973883707,
          10.91001841916656,
          12.421147302186586
         ],
         "yaxis": "y"
        },
        {
         "hovertemplate": "<b>Week:</b> %{x}<br><b>Offenses:</b> %{y:.2f}",
         "legendgroup": "Illinois",
         "line": {
          "color": "#ab63fa",
          "dash": "solid"
         },
         "marker": {
          "symbol": "circle"
         },
         "mode": "lines",
         "name": "Illinois",
         "showlegend": true,
         "type": "scattergl",
         "x": [
          1,
          2,
          3,
          4,
          5,
          6,
          7,
          8,
          9,
          10,
          11,
          12,
          13,
          14,
          15,
          16,
          17,
          18,
          19,
          20,
          21,
          22,
          23,
          24,
          25,
          26,
          27,
          28,
          29,
          30,
          31,
          32,
          33,
          34,
          35,
          36,
          37,
          38,
          39,
          40,
          41,
          42,
          43,
          44,
          45,
          46,
          47,
          48,
          49,
          50,
          51,
          52
         ],
         "xaxis": "x",
         "y": [
          1.6310356571578584,
          1.1805591423237831,
          1.196092815249096,
          1.6698698394711404,
          1.444631582054103,
          1.3048285257262866,
          1.2271601610997218,
          1.4057973997408206,
          1.4057973997408206,
          1.42909790912879,
          1.677636675933797,
          1.8640407510375523,
          1.9184086062761476,
          1.5999683113072325,
          1.7242376947097358,
          1.8019060593363003,
          1.5999683113072325,
          1.7630718770230183,
          1.7863723864109877,
          1.6155019842325453,
          1.9650096250520863,
          1.6931703488591099,
          1.607735147769889,
          1.7164708582470791,
          1.778605549948331,
          2.2057815553944367,
          1.910641769813491,
          1.8407402416495828,
          1.7320045311723924,
          1.7630718770230183,
          1.8329734051869264,
          1.6232688206952017,
          1.7475382040977052,
          1.576667801919263,
          1.8407402416495828,
          1.5844346383819192,
          1.8640407510375523,
          1.56113412899395,
          1.8174397322616136,
          1.7242376947097358,
          1.7164708582470791,
          1.677636675933797,
          1.4912326008300418,
          1.6543361665458276,
          1.5999683113072325,
          1.5689009654566064,
          1.265994343413004,
          1.778605549948331,
          1.4679320914420724,
          1.576667801919263,
          1.1494917964731572,
          1.56113412899395
         ],
         "yaxis": "y"
        },
        {
         "hovertemplate": "<b>Week:</b> %{x}<br><b>Offenses:</b> %{y:.2f}",
         "legendgroup": "Kansas",
         "line": {
          "color": "#FFA15A",
          "dash": "solid"
         },
         "marker": {
          "symbol": "circle"
         },
         "mode": "lines",
         "name": "Kansas",
         "showlegend": true,
         "type": "scattergl",
         "x": [
          1,
          2,
          3,
          4,
          5,
          6,
          7,
          8,
          9,
          10,
          11,
          12,
          13,
          14,
          15,
          16,
          17,
          18,
          19,
          20,
          21,
          22,
          23,
          24,
          25,
          26,
          27,
          28,
          29,
          30,
          31,
          32,
          33,
          34,
          35,
          36,
          37,
          38,
          39,
          40,
          41,
          42,
          43,
          44,
          45,
          46,
          47,
          48,
          49,
          50,
          51,
          52
         ],
         "xaxis": "x",
         "y": [
          62.92653431072748,
          55.71908985223007,
          53.81327521176199,
          55.06071752188655,
          58.56048622529154,
          47.99187776451408,
          55.06071752188655,
          52.49653055107497,
          58.87234680282268,
          53.743972861199516,
          60.57025439160333,
          53.84792638704324,
          68.88653645910036,
          56.51606688369852,
          60.46630086575961,
          62.094906103977785,
          64.83234895119556,
          71.48537460519317,
          60.53560321632209,
          63.931418393883376,
          67.15397769503848,
          65.73327950850772,
          62.58002255791511,
          63.446301939946046,
          67.6390941489758,
          66.98072181863229,
          64.6937442500706,
          65.4214189309766,
          63.96606956916461,
          64.83234895119556,
          66.94607064335104,
          58.17932329719793,
          61.50583612419675,
          61.99095257813406,
          65.90653538491391,
          60.327696164634666,
          61.57513847475922,
          59.634672659009915,
          60.57025439160333,
          59.66932383429115,
          59.04560267922887,
          59.39211443204125,
          58.248625647760406,
          64.17397662085203,
          57.10513686347957,
          53.43211228366838,
          53.01629818029353,
          62.96118548600872,
          53.6400193353558,
          54.29839166569932,
          48.788854795982544,
          61.33258024779056
         ],
         "yaxis": "y"
        },
        {
         "hovertemplate": "<b>Week:</b> %{x}<br><b>Offenses:</b> %{y:.2f}",
         "legendgroup": "Idaho",
         "line": {
          "color": "#19d3f3",
          "dash": "solid"
         },
         "marker": {
          "symbol": "circle"
         },
         "mode": "lines",
         "name": "Idaho",
         "showlegend": true,
         "type": "scattergl",
         "x": [
          1,
          2,
          3,
          4,
          5,
          6,
          7,
          8,
          9,
          10,
          11,
          12,
          13,
          14,
          15,
          16,
          17,
          18,
          19,
          20,
          21,
          22,
          23,
          24,
          25,
          26,
          27,
          28,
          29,
          30,
          31,
          32,
          33,
          34,
          35,
          36,
          37,
          38,
          39,
          40,
          41,
          42,
          43,
          44,
          45,
          46,
          47,
          48,
          49,
          50,
          51,
          52
         ],
         "xaxis": "x",
         "y": [
          49.63251882526345,
          39.793749310659464,
          43.365786650356455,
          43.553788615603665,
          45.87247952031925,
          41.61110164138249,
          41.42309967613528,
          40.29508788465202,
          44.493798441839715,
          42.30044218062226,
          42.425776824120405,
          43.86712522434901,
          47.37649524229693,
          39.35507805841597,
          47.68983185104228,
          53.26722348670952,
          49.945855434008806,
          51.011199903743,
          49.56985150351438,
          49.945855434008806,
          44.99513701583227,
          52.828552234466024,
          45.5591429115739,
          49.06851292952182,
          51.44987115598648,
          52.765884912716956,
          53.768562060702074,
          52.828552234466024,
          51.76320776473183,
          51.011199903743,
          52.765884912716956,
          53.01655419971324,
          53.32989080845858,
          51.1992018689902,
          53.956564025949284,
          45.37114094632669,
          49.50718418176532,
          49.3191822165181,
          52.264546338724394,
          47.62716452929321,
          42.55111146761854,
          41.73643628488063,
          44.9324696940832,
          48.19117042503484,
          40.29508788465202,
          40.67109181514644,
          41.42309967613528,
          46.185816129064605,
          43.6791232591018,
          43.42845397210552,
          39.16707609316876,
          46.31115077256274
         ],
         "yaxis": "y"
        }
       ],
       "layout": {
        "annotations": [
         {
          "arrowhead": 2,
          "ax": 0,
          "ay": -40,
          "bgcolor": "yellow",
          "bordercolor": "black",
          "font": {
           "color": "black",
           "size": 10
          },
          "showarrow": true,
          "text": "Birthday of Martin Luther King, Jr.",
          "x": 3,
          "y": 119.82440147771436
         },
         {
          "arrowhead": 2,
          "ax": 0,
          "ay": -60,
          "bgcolor": "yellow",
          "bordercolor": "black",
          "font": {
           "color": "black",
           "size": 10
          },
          "showarrow": true,
          "text": "Washington's Birthday/Presidents Day",
          "x": 8,
          "y": 119.82440147771436
         },
         {
          "arrowhead": 2,
          "ax": 0,
          "ay": -80,
          "bgcolor": "yellow",
          "bordercolor": "black",
          "font": {
           "color": "black",
           "size": 10
          },
          "showarrow": true,
          "text": "Memorial Day",
          "x": 21,
          "y": 119.82440147771436
         },
         {
          "arrowhead": 2,
          "ax": 0,
          "ay": -100,
          "bgcolor": "yellow",
          "bordercolor": "black",
          "font": {
           "color": "black",
           "size": 10
          },
          "showarrow": true,
          "text": "Independence Day",
          "x": 27,
          "y": 119.82440147771436
         },
         {
          "arrowhead": 2,
          "ax": 0,
          "ay": -120,
          "bgcolor": "yellow",
          "bordercolor": "black",
          "font": {
           "color": "black",
           "size": 10
          },
          "showarrow": true,
          "text": "Labor Day",
          "x": 36,
          "y": 119.82440147771436
         },
         {
          "arrowhead": 2,
          "ax": 0,
          "ay": -40,
          "bgcolor": "yellow",
          "bordercolor": "black",
          "font": {
           "color": "black",
           "size": 10
          },
          "showarrow": true,
          "text": "Veterans Day",
          "x": 45,
          "y": 119.82440147771436
         },
         {
          "arrowhead": 2,
          "ax": 0,
          "ay": -60,
          "bgcolor": "yellow",
          "bordercolor": "black",
          "font": {
           "color": "black",
           "size": 10
          },
          "showarrow": true,
          "text": "Thanksgiving Day",
          "x": 47,
          "y": 119.82440147771436
         },
         {
          "arrowhead": 2,
          "ax": 0,
          "ay": -80,
          "bgcolor": "yellow",
          "bordercolor": "black",
          "font": {
           "color": "black",
           "size": 10
          },
          "showarrow": true,
          "text": "Inauguration Day",
          "x": 3,
          "y": 119.82440147771436
         },
         {
          "arrowhead": 2,
          "ax": 0,
          "ay": -100,
          "bgcolor": "yellow",
          "bordercolor": "black",
          "font": {
           "color": "black",
           "size": 10
          },
          "showarrow": true,
          "text": "Halloween",
          "x": 44,
          "y": 119.82440147771436
         },
         {
          "arrowhead": 2,
          "ax": 0,
          "ay": -120,
          "bgcolor": "yellow",
          "bordercolor": "black",
          "font": {
           "color": "black",
           "size": 10
          },
          "showarrow": true,
          "text": "Valentine's Day",
          "x": 7,
          "y": 119.82440147771436
         },
         {
          "arrowhead": 2,
          "ax": 0,
          "ay": -40,
          "bgcolor": "yellow",
          "bordercolor": "black",
          "font": {
           "color": "black",
           "size": 10
          },
          "showarrow": true,
          "text": "Pride Month Start",
          "x": 22,
          "y": 119.82440147771436
         },
         {
          "arrowhead": 2,
          "ax": 0,
          "ay": -60,
          "bgcolor": "yellow",
          "bordercolor": "black",
          "font": {
           "color": "black",
           "size": 10
          },
          "showarrow": true,
          "text": "Obama Supports Same-Sex Marriage",
          "x": 18,
          "y": 119.82440147771436
         }
        ],
        "height": 800,
        "hovermode": "closest",
        "legend": {
         "title": {
          "text": "State"
         },
         "tracegroupgap": 0
        },
        "template": {
         "data": {
          "bar": [
           {
            "error_x": {
             "color": "#2a3f5f"
            },
            "error_y": {
             "color": "#2a3f5f"
            },
            "marker": {
             "line": {
              "color": "#E5ECF6",
              "width": 0.5
             },
             "pattern": {
              "fillmode": "overlay",
              "size": 10,
              "solidity": 0.2
             }
            },
            "type": "bar"
           }
          ],
          "barpolar": [
           {
            "marker": {
             "line": {
              "color": "#E5ECF6",
              "width": 0.5
             },
             "pattern": {
              "fillmode": "overlay",
              "size": 10,
              "solidity": 0.2
             }
            },
            "type": "barpolar"
           }
          ],
          "carpet": [
           {
            "aaxis": {
             "endlinecolor": "#2a3f5f",
             "gridcolor": "white",
             "linecolor": "white",
             "minorgridcolor": "white",
             "startlinecolor": "#2a3f5f"
            },
            "baxis": {
             "endlinecolor": "#2a3f5f",
             "gridcolor": "white",
             "linecolor": "white",
             "minorgridcolor": "white",
             "startlinecolor": "#2a3f5f"
            },
            "type": "carpet"
           }
          ],
          "choropleth": [
           {
            "colorbar": {
             "outlinewidth": 0,
             "ticks": ""
            },
            "type": "choropleth"
           }
          ],
          "contour": [
           {
            "colorbar": {
             "outlinewidth": 0,
             "ticks": ""
            },
            "colorscale": [
             [
              0,
              "#0d0887"
             ],
             [
              0.1111111111111111,
              "#46039f"
             ],
             [
              0.2222222222222222,
              "#7201a8"
             ],
             [
              0.3333333333333333,
              "#9c179e"
             ],
             [
              0.4444444444444444,
              "#bd3786"
             ],
             [
              0.5555555555555556,
              "#d8576b"
             ],
             [
              0.6666666666666666,
              "#ed7953"
             ],
             [
              0.7777777777777778,
              "#fb9f3a"
             ],
             [
              0.8888888888888888,
              "#fdca26"
             ],
             [
              1,
              "#f0f921"
             ]
            ],
            "type": "contour"
           }
          ],
          "contourcarpet": [
           {
            "colorbar": {
             "outlinewidth": 0,
             "ticks": ""
            },
            "type": "contourcarpet"
           }
          ],
          "heatmap": [
           {
            "colorbar": {
             "outlinewidth": 0,
             "ticks": ""
            },
            "colorscale": [
             [
              0,
              "#0d0887"
             ],
             [
              0.1111111111111111,
              "#46039f"
             ],
             [
              0.2222222222222222,
              "#7201a8"
             ],
             [
              0.3333333333333333,
              "#9c179e"
             ],
             [
              0.4444444444444444,
              "#bd3786"
             ],
             [
              0.5555555555555556,
              "#d8576b"
             ],
             [
              0.6666666666666666,
              "#ed7953"
             ],
             [
              0.7777777777777778,
              "#fb9f3a"
             ],
             [
              0.8888888888888888,
              "#fdca26"
             ],
             [
              1,
              "#f0f921"
             ]
            ],
            "type": "heatmap"
           }
          ],
          "heatmapgl": [
           {
            "colorbar": {
             "outlinewidth": 0,
             "ticks": ""
            },
            "colorscale": [
             [
              0,
              "#0d0887"
             ],
             [
              0.1111111111111111,
              "#46039f"
             ],
             [
              0.2222222222222222,
              "#7201a8"
             ],
             [
              0.3333333333333333,
              "#9c179e"
             ],
             [
              0.4444444444444444,
              "#bd3786"
             ],
             [
              0.5555555555555556,
              "#d8576b"
             ],
             [
              0.6666666666666666,
              "#ed7953"
             ],
             [
              0.7777777777777778,
              "#fb9f3a"
             ],
             [
              0.8888888888888888,
              "#fdca26"
             ],
             [
              1,
              "#f0f921"
             ]
            ],
            "type": "heatmapgl"
           }
          ],
          "histogram": [
           {
            "marker": {
             "pattern": {
              "fillmode": "overlay",
              "size": 10,
              "solidity": 0.2
             }
            },
            "type": "histogram"
           }
          ],
          "histogram2d": [
           {
            "colorbar": {
             "outlinewidth": 0,
             "ticks": ""
            },
            "colorscale": [
             [
              0,
              "#0d0887"
             ],
             [
              0.1111111111111111,
              "#46039f"
             ],
             [
              0.2222222222222222,
              "#7201a8"
             ],
             [
              0.3333333333333333,
              "#9c179e"
             ],
             [
              0.4444444444444444,
              "#bd3786"
             ],
             [
              0.5555555555555556,
              "#d8576b"
             ],
             [
              0.6666666666666666,
              "#ed7953"
             ],
             [
              0.7777777777777778,
              "#fb9f3a"
             ],
             [
              0.8888888888888888,
              "#fdca26"
             ],
             [
              1,
              "#f0f921"
             ]
            ],
            "type": "histogram2d"
           }
          ],
          "histogram2dcontour": [
           {
            "colorbar": {
             "outlinewidth": 0,
             "ticks": ""
            },
            "colorscale": [
             [
              0,
              "#0d0887"
             ],
             [
              0.1111111111111111,
              "#46039f"
             ],
             [
              0.2222222222222222,
              "#7201a8"
             ],
             [
              0.3333333333333333,
              "#9c179e"
             ],
             [
              0.4444444444444444,
              "#bd3786"
             ],
             [
              0.5555555555555556,
              "#d8576b"
             ],
             [
              0.6666666666666666,
              "#ed7953"
             ],
             [
              0.7777777777777778,
              "#fb9f3a"
             ],
             [
              0.8888888888888888,
              "#fdca26"
             ],
             [
              1,
              "#f0f921"
             ]
            ],
            "type": "histogram2dcontour"
           }
          ],
          "mesh3d": [
           {
            "colorbar": {
             "outlinewidth": 0,
             "ticks": ""
            },
            "type": "mesh3d"
           }
          ],
          "parcoords": [
           {
            "line": {
             "colorbar": {
              "outlinewidth": 0,
              "ticks": ""
             }
            },
            "type": "parcoords"
           }
          ],
          "pie": [
           {
            "automargin": true,
            "type": "pie"
           }
          ],
          "scatter": [
           {
            "fillpattern": {
             "fillmode": "overlay",
             "size": 10,
             "solidity": 0.2
            },
            "type": "scatter"
           }
          ],
          "scatter3d": [
           {
            "line": {
             "colorbar": {
              "outlinewidth": 0,
              "ticks": ""
             }
            },
            "marker": {
             "colorbar": {
              "outlinewidth": 0,
              "ticks": ""
             }
            },
            "type": "scatter3d"
           }
          ],
          "scattercarpet": [
           {
            "marker": {
             "colorbar": {
              "outlinewidth": 0,
              "ticks": ""
             }
            },
            "type": "scattercarpet"
           }
          ],
          "scattergeo": [
           {
            "marker": {
             "colorbar": {
              "outlinewidth": 0,
              "ticks": ""
             }
            },
            "type": "scattergeo"
           }
          ],
          "scattergl": [
           {
            "marker": {
             "colorbar": {
              "outlinewidth": 0,
              "ticks": ""
             }
            },
            "type": "scattergl"
           }
          ],
          "scattermapbox": [
           {
            "marker": {
             "colorbar": {
              "outlinewidth": 0,
              "ticks": ""
             }
            },
            "type": "scattermapbox"
           }
          ],
          "scatterpolar": [
           {
            "marker": {
             "colorbar": {
              "outlinewidth": 0,
              "ticks": ""
             }
            },
            "type": "scatterpolar"
           }
          ],
          "scatterpolargl": [
           {
            "marker": {
             "colorbar": {
              "outlinewidth": 0,
              "ticks": ""
             }
            },
            "type": "scatterpolargl"
           }
          ],
          "scatterternary": [
           {
            "marker": {
             "colorbar": {
              "outlinewidth": 0,
              "ticks": ""
             }
            },
            "type": "scatterternary"
           }
          ],
          "surface": [
           {
            "colorbar": {
             "outlinewidth": 0,
             "ticks": ""
            },
            "colorscale": [
             [
              0,
              "#0d0887"
             ],
             [
              0.1111111111111111,
              "#46039f"
             ],
             [
              0.2222222222222222,
              "#7201a8"
             ],
             [
              0.3333333333333333,
              "#9c179e"
             ],
             [
              0.4444444444444444,
              "#bd3786"
             ],
             [
              0.5555555555555556,
              "#d8576b"
             ],
             [
              0.6666666666666666,
              "#ed7953"
             ],
             [
              0.7777777777777778,
              "#fb9f3a"
             ],
             [
              0.8888888888888888,
              "#fdca26"
             ],
             [
              1,
              "#f0f921"
             ]
            ],
            "type": "surface"
           }
          ],
          "table": [
           {
            "cells": {
             "fill": {
              "color": "#EBF0F8"
             },
             "line": {
              "color": "white"
             }
            },
            "header": {
             "fill": {
              "color": "#C8D4E3"
             },
             "line": {
              "color": "white"
             }
            },
            "type": "table"
           }
          ]
         },
         "layout": {
          "annotationdefaults": {
           "arrowcolor": "#2a3f5f",
           "arrowhead": 0,
           "arrowwidth": 1
          },
          "autotypenumbers": "strict",
          "coloraxis": {
           "colorbar": {
            "outlinewidth": 0,
            "ticks": ""
           }
          },
          "colorscale": {
           "diverging": [
            [
             0,
             "#8e0152"
            ],
            [
             0.1,
             "#c51b7d"
            ],
            [
             0.2,
             "#de77ae"
            ],
            [
             0.3,
             "#f1b6da"
            ],
            [
             0.4,
             "#fde0ef"
            ],
            [
             0.5,
             "#f7f7f7"
            ],
            [
             0.6,
             "#e6f5d0"
            ],
            [
             0.7,
             "#b8e186"
            ],
            [
             0.8,
             "#7fbc41"
            ],
            [
             0.9,
             "#4d9221"
            ],
            [
             1,
             "#276419"
            ]
           ],
           "sequential": [
            [
             0,
             "#0d0887"
            ],
            [
             0.1111111111111111,
             "#46039f"
            ],
            [
             0.2222222222222222,
             "#7201a8"
            ],
            [
             0.3333333333333333,
             "#9c179e"
            ],
            [
             0.4444444444444444,
             "#bd3786"
            ],
            [
             0.5555555555555556,
             "#d8576b"
            ],
            [
             0.6666666666666666,
             "#ed7953"
            ],
            [
             0.7777777777777778,
             "#fb9f3a"
            ],
            [
             0.8888888888888888,
             "#fdca26"
            ],
            [
             1,
             "#f0f921"
            ]
           ],
           "sequentialminus": [
            [
             0,
             "#0d0887"
            ],
            [
             0.1111111111111111,
             "#46039f"
            ],
            [
             0.2222222222222222,
             "#7201a8"
            ],
            [
             0.3333333333333333,
             "#9c179e"
            ],
            [
             0.4444444444444444,
             "#bd3786"
            ],
            [
             0.5555555555555556,
             "#d8576b"
            ],
            [
             0.6666666666666666,
             "#ed7953"
            ],
            [
             0.7777777777777778,
             "#fb9f3a"
            ],
            [
             0.8888888888888888,
             "#fdca26"
            ],
            [
             1,
             "#f0f921"
            ]
           ]
          },
          "colorway": [
           "#636efa",
           "#EF553B",
           "#00cc96",
           "#ab63fa",
           "#FFA15A",
           "#19d3f3",
           "#FF6692",
           "#B6E880",
           "#FF97FF",
           "#FECB52"
          ],
          "font": {
           "color": "#2a3f5f"
          },
          "geo": {
           "bgcolor": "white",
           "lakecolor": "white",
           "landcolor": "#E5ECF6",
           "showlakes": true,
           "showland": true,
           "subunitcolor": "white"
          },
          "hoverlabel": {
           "align": "left"
          },
          "hovermode": "closest",
          "mapbox": {
           "style": "light"
          },
          "paper_bgcolor": "white",
          "plot_bgcolor": "#E5ECF6",
          "polar": {
           "angularaxis": {
            "gridcolor": "white",
            "linecolor": "white",
            "ticks": ""
           },
           "bgcolor": "#E5ECF6",
           "radialaxis": {
            "gridcolor": "white",
            "linecolor": "white",
            "ticks": ""
           }
          },
          "scene": {
           "xaxis": {
            "backgroundcolor": "#E5ECF6",
            "gridcolor": "white",
            "gridwidth": 2,
            "linecolor": "white",
            "showbackground": true,
            "ticks": "",
            "zerolinecolor": "white"
           },
           "yaxis": {
            "backgroundcolor": "#E5ECF6",
            "gridcolor": "white",
            "gridwidth": 2,
            "linecolor": "white",
            "showbackground": true,
            "ticks": "",
            "zerolinecolor": "white"
           },
           "zaxis": {
            "backgroundcolor": "#E5ECF6",
            "gridcolor": "white",
            "gridwidth": 2,
            "linecolor": "white",
            "showbackground": true,
            "ticks": "",
            "zerolinecolor": "white"
           }
          },
          "shapedefaults": {
           "line": {
            "color": "#2a3f5f"
           }
          },
          "ternary": {
           "aaxis": {
            "gridcolor": "white",
            "linecolor": "white",
            "ticks": ""
           },
           "baxis": {
            "gridcolor": "white",
            "linecolor": "white",
            "ticks": ""
           },
           "bgcolor": "#E5ECF6",
           "caxis": {
            "gridcolor": "white",
            "linecolor": "white",
            "ticks": ""
           }
          },
          "title": {
           "x": 0.05
          },
          "xaxis": {
           "automargin": true,
           "gridcolor": "white",
           "linecolor": "white",
           "ticks": "",
           "title": {
            "standoff": 15
           },
           "zerolinecolor": "white",
           "zerolinewidth": 2
          },
          "yaxis": {
           "automargin": true,
           "gridcolor": "white",
           "linecolor": "white",
           "ticks": "",
           "title": {
            "standoff": 15
           },
           "zerolinecolor": "white",
           "zerolinewidth": 2
          }
         }
        },
        "title": {
         "font": {
          "size": 16
         },
         "text": "Normalized Evolution of Violent Offenses Across Weeks in 2012 (Per 100k Capita & by State)"
        },
        "xaxis": {
         "anchor": "y",
         "domain": [
          0,
          1
         ],
         "title": {
          "text": "Week of the Year"
         }
        },
        "yaxis": {
         "anchor": "x",
         "domain": [
          0,
          1
         ],
         "title": {
          "text": "Offenses Per 100k Capita"
         }
        }
       }
      }
     },
     "metadata": {},
     "output_type": "display_data"
    }
   ],
   "source": [
    "# Avoid overlap\n",
    "staggered_positions = [-40, -60, -80, -100, -120]  # Different vertical offsets\n",
    "annotation_index = 0  # Counter to cycle through staggered positions\n",
    "\n",
    "# Create the list of annotations\n",
    "annotations = []\n",
    "for event, week in highlighted_weeks.items():\n",
    "    annotations.append(\n",
    "        dict(\n",
    "            x=week,\n",
    "            y=max(normalized_offenses_by_week['normalized_offenses']) * 1.1,  # Slightly above the max value\n",
    "            text=event,\n",
    "            showarrow=True,\n",
    "            arrowhead=2,\n",
    "            ax=0,  # No horizontal offset\n",
    "            ay=staggered_positions[annotation_index % len(staggered_positions)],  # Cycle through vertical offsets\n",
    "            font=dict(size=10, color=\"black\"),\n",
    "            bgcolor=\"yellow\",\n",
    "            bordercolor=\"black\"\n",
    "        )\n",
    "    )\n",
    "    annotation_index += 1  # Increment to use the next staggered position\n",
    "\n",
    "# Create the line plot\n",
    "fig = px.line(\n",
    "    normalized_offenses_by_week,\n",
    "    x=\"week\",\n",
    "    y=\"normalized_offenses\",\n",
    "    color=\"state\",  # One color for each state\n",
    "    labels={\n",
    "        \"week\": \"Week of the Year\",\n",
    "        \"normalized_offenses\": \"Offenses Per 100k Capita\",\n",
    "        \"state\": \"State\"\n",
    "    },\n",
    "    title=\"Normalized Evolution of Violent Offenses Across Weeks in 2012 (Per 100k Capita & by State)\",\n",
    ")\n",
    "\n",
    "# Add hover template to display state name on hover\n",
    "fig.update_traces(hovertemplate=\"<b>Week:</b> %{x}<br><b>Offenses:</b> %{y:.2f}\")\n",
    "\n",
    "# Add annotations and adjust layout\n",
    "fig.update_layout(\n",
    "    height=800,  # Increase height\n",
    "    title=dict(font=dict(size=16)),\n",
    "    xaxis_title=\"Week of the Year\",\n",
    "    yaxis_title=\"Offenses Per 100k Capita\",\n",
    "    legend_title=\"State\",\n",
    "    hovermode=\"closest\",  # Highlight the closest line on hover\n",
    "    annotations=annotations  # Add the staggered annotations\n",
    ")\n",
    "\n",
    "# Display the figure\n",
    "fig.show()\n"
   ]
  },
  {
   "cell_type": "markdown",
   "metadata": {},
   "source": [
    "## Analysis of Violent Offenses Across States in 2012\n",
    "\n",
    "### Z-Score Evolution\n",
    "\n",
    "The z-score plot shows how weekly violent offense counts deviate from the mean for each state, scaled by the standard deviation. We wanted to standardize the data to highlight anomalies and state-specific crime trends.\n",
    "\n",
    "#### Observations:\n",
    "- States shows significant **variability** in weekly violent offense counts (with z-scores **frequently exceeding ±2**) and highlights weeks with notable crime surges or declines compared to the average.\n",
    "- Pronounced spikes could suggest **potential localized events** or **external factors** that influences weekly crime patterns in specific states.\n",
    "- States with stable weekly crime counts show **less variability** visualize by a flatter z-score trends.\n",
    "- The overlapping lines make it challenging to isolate individual states but overall trends highlight nationwide fluctuations.\n",
    "\n",
    "### Observations based on highlighted dates\n",
    "\n",
    "1. **Birthday of Martin Luther King, Jr. (Week 3)**:\n",
    "   - A subtle rise in violent offense counts in some states may be observed and could potentially be linked to increased activity around public holidays.\n",
    "\n",
    "2. **Washington's Birthday/Presidents Day (Week 8)**:\n",
    "   - No consistent spikes across states in 2012 and could indicate this holiday might not significantly influence violent offenses in the U.S.\n",
    "\n",
    "3. **Obama Supports Same-Sex Marriage (Week 18)**:\n",
    "   - A notable increase in violent offenses is observed in some states which might correlate with public reactions or protests from this announcement.\n",
    "\n",
    "4. **Memorial Day (Week 21)**:\n",
    "   - A slight uptick in z-scores for certain states.\n",
    "\n",
    "5. **Pride Month Start (Week 22)**:\n",
    "   - Certain states show higher crime deviations which could be linked to events during Pride Month.\n",
    "\n",
    "6. **Labor Day (Week 36)**:\n",
    "   - Similar to Memorial Day, a modest rise in offenses is observed.\n",
    "\n",
    "7. **Halloween (Week 44)**:\n",
    "   - Noticeable spikes in violent offenses in several states and could possibly be linked to increased nighttime activity or parties.\n",
    "\n",
    "8. **Veterans Day (Week 45)**:\n",
    "   - Minimal fluctuation observed, suggesting this holiday has little impact on violent offenses.\n",
    "\n",
    "9.  **Thanksgiving Day (Week 47)**:\n",
    "    - A sharp decline in offenses toward this holiday in most states, potentially linked to to family-focused holidays reducing public activity. Also, a sharp increase the week following Thanksgiving is observed.\n",
    "\n",
    "#### Limitations:\n",
    "- Overlapping lines can hide the ability to distinguish individual state trends.\n",
    "- The z-score only reflects **deviations** and not the **magnitude of crimes** which can obscure the real-world impact of high crime rates.\n",
    "\n",
    "### Normalized Evolution (Per 100k Capita)\n",
    "\n",
    "The normalized plot adjusts weekly violent offense counts by state population (per 100,000 inhabitants). We performed this analysis in order to allow **direct comparisons of crime rates across states** and to highlight the proportional impact of violent offenses.\n",
    "\n",
    "#### Observations:\n",
    "- States such as **Delaware**, **Arkansas**, **Tennesse** and **South Carolina** exhibit higher normalized crime rates, with peaks often exceeding 80–100 offenses per 100k capita.\n",
    "- Larger states like **Texas** show steadier trends certainly due to the dilution effect of the large population.\n",
    "- A **mid-year rise in offenses** is visible for certain states that could possibliy linked to seasonal factors, while declines toward the year’s end may correspond to **holiday-related trends.**\n",
    "- Normalization reveals disparities in crime rates and allows us to make comparisons between states of different sizes.\n",
    "\n",
    "#### Possible limitations:\n",
    "- **Population Dependency**\n",
    "  - Small population states with low absolute offenses may appear disproportionately significant after normalization.\n",
    "- **Subtle Trends**\n",
    "  -  States with stable crime patterns might not show significant variability even if underlying dynamics are important.\n",
    "\n",
    "### Comparison of both approaches\n",
    "\n",
    "The **z-score plot** focuses on deviations within states, making it ideal for detecting anomalies and understanding intra-state patterns. In contrast, the **normalized plot** highlights inter-state differences by accounting for population disparities, offering a proportional view of crime rates.\n",
    "\n",
    "Both visualizations allow us to do complementary analysis:\n",
    "- The **z-score plot** is effective for identifying unusual events or weeks within states.\n",
    "- The **normalized plot** can illustrate state-to-state differences and overall trends in crime rate.\n"
   ]
  }
 ],
 "metadata": {
  "kernelspec": {
   "display_name": "ADA",
   "language": "python",
   "name": "python3"
  },
  "language_info": {
   "codemirror_mode": {
    "name": "ipython",
    "version": 3
   },
   "file_extension": ".py",
   "mimetype": "text/x-python",
   "name": "python",
   "nbconvert_exporter": "python",
   "pygments_lexer": "ipython3",
   "version": "3.12.2"
  }
 },
 "nbformat": 4,
 "nbformat_minor": 2
}
