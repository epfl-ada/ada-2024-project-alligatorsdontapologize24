{
 "cells": [
  {
   "cell_type": "markdown",
   "id": "3811e17c-7d75-436e-8659-1352953e08de",
   "metadata": {},
   "source": [
    "# Violent word analysis"
   ]
  },
  {
   "cell_type": "markdown",
   "id": "8f6ce251-30c3-4012-9bc5-13ca4d04636e",
   "metadata": {},
   "source": [
    "In this notebook, we will apply a word counter using various lists of violent terms to analyze the plot data in the clean dataset."
   ]
  },
  {
   "cell_type": "markdown",
   "id": "06272de6-dfd8-4d64-9db9-f4cd7f732abd",
   "metadata": {
    "jp-MarkdownHeadingCollapsed": true
   },
   "source": [
    "### Imports"
   ]
  },
  {
   "cell_type": "code",
   "execution_count": 1,
   "id": "12cf3da3-2b28-4ba0-91b4-dbe17448891b",
   "metadata": {},
   "outputs": [],
   "source": [
    "import sys\n",
    "import os\n",
    "import pandas as pd\n",
    "import matplotlib.pyplot as plt\n",
    "import seaborn as sns\n",
    "%matplotlib inline"
   ]
  },
  {
   "cell_type": "code",
   "execution_count": 2,
   "id": "8c43b4f0-f619-4561-ac44-97298520b9b3",
   "metadata": {},
   "outputs": [],
   "source": [
    "# Add the project root directory (not src) to sys.path\n",
    "sys.path.append(os.path.abspath(\"../data/\"))\n",
    "\n",
    "# Now import the DataLoader class\n",
    "from data_loading import DataLoader\n",
    "\n",
    "raw = '../../data/RAW/'\n",
    "clean = '../../data/CLEAN'"
   ]
  },
  {
   "cell_type": "code",
   "execution_count": 3,
   "id": "2f4e4b0b-953f-4281-bb49-973df027d67f",
   "metadata": {},
   "outputs": [],
   "source": [
    "# Add the directory containing the script to sys.path\n",
    "sys.path.append(os.path.abspath(\"../model\"))\n",
    "\n",
    "# Now you can import the script like a module\n",
    "from Word_counter import WordCounter"
   ]
  },
  {
   "cell_type": "markdown",
   "id": "96dcb2cd-0e8c-476a-b439-36522bbc5df8",
   "metadata": {},
   "source": [
    "## Load the data"
   ]
  },
  {
   "cell_type": "code",
   "execution_count": 4,
   "id": "43bb806e-7aee-42ba-940e-b0d7c8ed2593",
   "metadata": {},
   "outputs": [
    {
     "name": "stdout",
     "output_type": "stream",
     "text": [
      "\n",
      "load plot data\n",
      "\n"
     ]
    }
   ],
   "source": [
    "#load raw data\n",
    "data_loader = DataLoader(raw,clean)\n",
    "\n",
    "Test_set_data = True\n",
    "if Test_set_data :\n",
    "    MovieData = data_loader.plot_data()\n",
    "    ViolentLabel, ViolentData = data_loader.human_labelled_data()\n",
    "    MovieData = MovieData.loc[ViolentData.index.unique()]\n",
    "else :\n",
    "    MovieData = data_loader.clean_movie_data()"
   ]
  },
  {
   "cell_type": "code",
   "execution_count": 5,
   "id": "2e2f8e05-f0b1-49ae-8383-c0d7bbfbe00b",
   "metadata": {
    "scrolled": true
   },
   "outputs": [
    {
     "data": {
      "text/html": [
       "<div>\n",
       "<style scoped>\n",
       "    .dataframe tbody tr th:only-of-type {\n",
       "        vertical-align: middle;\n",
       "    }\n",
       "\n",
       "    .dataframe tbody tr th {\n",
       "        vertical-align: top;\n",
       "    }\n",
       "\n",
       "    .dataframe thead th {\n",
       "        text-align: right;\n",
       "    }\n",
       "</style>\n",
       "<table border=\"1\" class=\"dataframe\">\n",
       "  <thead>\n",
       "    <tr style=\"text-align: right;\">\n",
       "      <th></th>\n",
       "      <th>Plot</th>\n",
       "    </tr>\n",
       "    <tr>\n",
       "      <th>Wikipedia movie ID</th>\n",
       "      <th></th>\n",
       "    </tr>\n",
       "  </thead>\n",
       "  <tbody>\n",
       "    <tr>\n",
       "      <th>113454</th>\n",
       "      <td>The film tells the story of a mob hit man  and...</td>\n",
       "    </tr>\n",
       "    <tr>\n",
       "      <th>909664</th>\n",
       "      <td>The film follows the personal relationship bet...</td>\n",
       "    </tr>\n",
       "    <tr>\n",
       "      <th>1028671</th>\n",
       "      <td>According to Devil's Playground, at the age of...</td>\n",
       "    </tr>\n",
       "    <tr>\n",
       "      <th>1336564</th>\n",
       "      <td>Jim Slater , is in search of stolen money, to ...</td>\n",
       "    </tr>\n",
       "    <tr>\n",
       "      <th>1472852</th>\n",
       "      <td>David \"Dave\" Whiteman  and his wife, Barbara, ...</td>\n",
       "    </tr>\n",
       "    <tr>\n",
       "      <th>...</th>\n",
       "      <td>...</td>\n",
       "    </tr>\n",
       "    <tr>\n",
       "      <th>35004480</th>\n",
       "      <td>Traffic jams, commercial saturation and garbag...</td>\n",
       "    </tr>\n",
       "    <tr>\n",
       "      <th>35784403</th>\n",
       "      <td>News of the death of The Joker during the even...</td>\n",
       "    </tr>\n",
       "    <tr>\n",
       "      <th>36039685</th>\n",
       "      <td>Detective Bobby Corcoran and his partner, Dete...</td>\n",
       "    </tr>\n",
       "    <tr>\n",
       "      <th>36353797</th>\n",
       "      <td>Zerelda King is assigned to look into possible...</td>\n",
       "    </tr>\n",
       "    <tr>\n",
       "      <th>37067980</th>\n",
       "      <td>A defecting Russian diplomat has arranged to m...</td>\n",
       "    </tr>\n",
       "  </tbody>\n",
       "</table>\n",
       "<p>146 rows × 1 columns</p>\n",
       "</div>"
      ],
      "text/plain": [
       "                                                                 Plot\n",
       "Wikipedia movie ID                                                   \n",
       "113454              The film tells the story of a mob hit man  and...\n",
       "909664              The film follows the personal relationship bet...\n",
       "1028671             According to Devil's Playground, at the age of...\n",
       "1336564             Jim Slater , is in search of stolen money, to ...\n",
       "1472852             David \"Dave\" Whiteman  and his wife, Barbara, ...\n",
       "...                                                               ...\n",
       "35004480            Traffic jams, commercial saturation and garbag...\n",
       "35784403            News of the death of The Joker during the even...\n",
       "36039685            Detective Bobby Corcoran and his partner, Dete...\n",
       "36353797            Zerelda King is assigned to look into possible...\n",
       "37067980            A defecting Russian diplomat has arranged to m...\n",
       "\n",
       "[146 rows x 1 columns]"
      ]
     },
     "execution_count": 5,
     "metadata": {},
     "output_type": "execute_result"
    }
   ],
   "source": [
    "MovieData"
   ]
  },
  {
   "cell_type": "markdown",
   "id": "1aa08c55-f9f9-4a58-9ed1-c74514d58da5",
   "metadata": {},
   "source": [
    "## Initialize the word counter"
   ]
  },
  {
   "cell_type": "code",
   "execution_count": 6,
   "id": "0c8a8127-3892-4f1f-92af-ac84a44817b4",
   "metadata": {},
   "outputs": [],
   "source": [
    "Word_Counter = WordCounter(data_loader,MovieData)"
   ]
  },
  {
   "cell_type": "markdown",
   "id": "d82c7386-7567-42b3-8ee9-dd5a08d589ae",
   "metadata": {},
   "source": [
    "## Perform word count and save the data"
   ]
  },
  {
   "cell_type": "code",
   "execution_count": 7,
   "id": "ac3b9f36-a6ef-4f40-bbc4-f0a537995971",
   "metadata": {},
   "outputs": [
    {
     "name": "stdout",
     "output_type": "stream",
     "text": [
      "word count for the list : Physical_violence\n",
      "word count for the list : Psychological_violence\n",
      "total count\n",
      "calculate density\n",
      "done !\n"
     ]
    }
   ],
   "source": [
    "Count = Word_Counter.violent_word_count(\"All\")"
   ]
  },
  {
   "cell_type": "code",
   "execution_count": 8,
   "id": "1880a001-9d67-44ae-b784-5e773df9b0ac",
   "metadata": {},
   "outputs": [
    {
     "data": {
      "text/html": [
       "<div>\n",
       "<style scoped>\n",
       "    .dataframe tbody tr th:only-of-type {\n",
       "        vertical-align: middle;\n",
       "    }\n",
       "\n",
       "    .dataframe tbody tr th {\n",
       "        vertical-align: top;\n",
       "    }\n",
       "\n",
       "    .dataframe thead th {\n",
       "        text-align: right;\n",
       "    }\n",
       "</style>\n",
       "<table border=\"1\" class=\"dataframe\">\n",
       "  <thead>\n",
       "    <tr style=\"text-align: right;\">\n",
       "      <th></th>\n",
       "      <th>word_count_Physical_violence</th>\n",
       "      <th>word_count_Psychological_violence</th>\n",
       "      <th>total_count</th>\n",
       "      <th>density word_count_Physical_violence</th>\n",
       "      <th>density word_count_Psychological_violence</th>\n",
       "    </tr>\n",
       "    <tr>\n",
       "      <th>Wikipedia movie ID</th>\n",
       "      <th></th>\n",
       "      <th></th>\n",
       "      <th></th>\n",
       "      <th></th>\n",
       "      <th></th>\n",
       "    </tr>\n",
       "  </thead>\n",
       "  <tbody>\n",
       "    <tr>\n",
       "      <th>113454</th>\n",
       "      <td>3</td>\n",
       "      <td>0</td>\n",
       "      <td>27</td>\n",
       "      <td>0.111111</td>\n",
       "      <td>0.0</td>\n",
       "    </tr>\n",
       "    <tr>\n",
       "      <th>909664</th>\n",
       "      <td>1</td>\n",
       "      <td>0</td>\n",
       "      <td>26</td>\n",
       "      <td>0.038462</td>\n",
       "      <td>0.0</td>\n",
       "    </tr>\n",
       "    <tr>\n",
       "      <th>1028671</th>\n",
       "      <td>0</td>\n",
       "      <td>0</td>\n",
       "      <td>36</td>\n",
       "      <td>0.000000</td>\n",
       "      <td>0.0</td>\n",
       "    </tr>\n",
       "    <tr>\n",
       "      <th>1336564</th>\n",
       "      <td>0</td>\n",
       "      <td>0</td>\n",
       "      <td>32</td>\n",
       "      <td>0.000000</td>\n",
       "      <td>0.0</td>\n",
       "    </tr>\n",
       "    <tr>\n",
       "      <th>1472852</th>\n",
       "      <td>0</td>\n",
       "      <td>0</td>\n",
       "      <td>49</td>\n",
       "      <td>0.000000</td>\n",
       "      <td>0.0</td>\n",
       "    </tr>\n",
       "  </tbody>\n",
       "</table>\n",
       "</div>"
      ],
      "text/plain": [
       "                    word_count_Physical_violence  \\\n",
       "Wikipedia movie ID                                 \n",
       "113454                                         3   \n",
       "909664                                         1   \n",
       "1028671                                        0   \n",
       "1336564                                        0   \n",
       "1472852                                        0   \n",
       "\n",
       "                    word_count_Psychological_violence  total_count  \\\n",
       "Wikipedia movie ID                                                   \n",
       "113454                                              0           27   \n",
       "909664                                              0           26   \n",
       "1028671                                             0           36   \n",
       "1336564                                             0           32   \n",
       "1472852                                             0           49   \n",
       "\n",
       "                    density word_count_Physical_violence  \\\n",
       "Wikipedia movie ID                                         \n",
       "113454                                          0.111111   \n",
       "909664                                          0.038462   \n",
       "1028671                                         0.000000   \n",
       "1336564                                         0.000000   \n",
       "1472852                                         0.000000   \n",
       "\n",
       "                    density word_count_Psychological_violence  \n",
       "Wikipedia movie ID                                             \n",
       "113454                                                    0.0  \n",
       "909664                                                    0.0  \n",
       "1028671                                                   0.0  \n",
       "1336564                                                   0.0  \n",
       "1472852                                                   0.0  "
      ]
     },
     "execution_count": 8,
     "metadata": {},
     "output_type": "execute_result"
    }
   ],
   "source": [
    "Count.head()"
   ]
  },
  {
   "cell_type": "code",
   "execution_count": 9,
   "id": "dd2e2cd3-7d38-4dcc-aa3f-f473781ef94c",
   "metadata": {},
   "outputs": [],
   "source": [
    "# save the result\n",
    "\n",
    "if Test_set_data :\n",
    "    Count.to_csv(clean + \"/word_count_test.csv\") \n",
    "else :\n",
    "    Count.to_csv(clean + \"/word_count.csv\")    "
   ]
  }
 ],
 "metadata": {
  "kernelspec": {
   "display_name": "Python 3 (ipykernel)",
   "language": "python",
   "name": "python3"
  },
  "language_info": {
   "codemirror_mode": {
    "name": "ipython",
    "version": 3
   },
   "file_extension": ".py",
   "mimetype": "text/x-python",
   "name": "python",
   "nbconvert_exporter": "python",
   "pygments_lexer": "ipython3",
   "version": "3.11.9"
  }
 },
 "nbformat": 4,
 "nbformat_minor": 5
}
