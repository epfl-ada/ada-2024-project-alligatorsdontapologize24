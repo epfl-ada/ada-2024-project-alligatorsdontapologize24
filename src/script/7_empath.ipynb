{
 "cells": [
  {
   "cell_type": "code",
   "execution_count": 1,
   "id": "9c46ac64-d777-4610-87af-a12aff037b2a",
   "metadata": {},
   "outputs": [],
   "source": [
    "# imports \n",
    "from empath import Empath\n",
    "lexicon = Empath()"
   ]
  },
  {
   "cell_type": "markdown",
   "id": "7ba64e92-5eff-4867-b543-d00961be4b75",
   "metadata": {},
   "source": [
    "## Steps for feature analysis aka violence metric\n",
    "\n",
    "\n",
    "1. Take advantage of Empath package to obtain categories representatives of violence\n",
    "    - a. Produce clean data locally thanks to results \n",
    "    - b. Preprocess as did in the paper to train Empath to ensure alignment with features found \n",
    "    - c. Perform Empath.lexicon.analyse with word counts, sorted_list (gives out cosine similarity between the vector of the category and the vector of the text given (need to reread that in paper))\n",
    "\n",
    "2. Identify the most represented categories in the plot per genre, per year\n",
    "3. Identify the most represented categories per movies classified as violent per ChatGPT \n",
    "4. Balance the frequencies of the words per their weight //TFID-matrix \n",
    "5. Our own logistic regression model : stantardise/normalise the train, test data \n",
    "6. Transform our plots in bags of words \n",
    "7. Side quest: Perform clustering on bags of words (idea: does it appear by itself group of violent movies)\n",
    "8. Visualisation of number of words per movies, per genres \n",
    "9. If skewed, try logarithm and see if it becomes gaussian -> fit with logarithm \n",
    "10. Our own model : have p-value\n",
    "Idea : try to replicate chatgpt predictions and explain them "
   ]
  },
  {
   "cell_type": "code",
   "execution_count": 2,
   "id": "a1d9d613-57d0-44d8-8a58-3b33a711f781",
   "metadata": {},
   "outputs": [
    {
     "data": {
      "text/plain": [
       "' for category in categories: \\n    print(\"Category =\" + category, lexicon.cats.get(category)) '"
      ]
     },
     "execution_count": 2,
     "metadata": {},
     "output_type": "execute_result"
    }
   ],
   "source": [
    "# Manual selection of supposedly violent categories\n",
    "\n",
    "violent_categories = [\"hate\", \"aggression\", \"occupation\", \"crime\", \"prison\", \"dispute\", \"nervousness\", \"horror\", \n",
    "              \"swearing_terms\", \"suffering\", \"kill\", \"fear\", \"death\", \"violence\", \"dominant_heirarchical\", \n",
    "              \"neglect\", \"monster\", \"weapon\", \"negative_emotion\", \"pain\", \"terrorism\", \"breaking\", \n",
    "              \"disappointment\", \"anger\", \"torment\", \"shame\", \"emotional\", \"sadness\",\n",
    "              \"rage\", \"injury\", \"fire\", \"disgust\", \"war\", \"dominant_personality\",\n",
    "              \"fight\", \"deception\",]\n",
    "\n",
    "# If we want to manually inspect the categories\n",
    "\"\"\" for category in categories: \n",
    "    print(\"Category =\" + category, lexicon.cats.get(category)) \"\"\""
   ]
  },
  {
   "cell_type": "code",
   "execution_count": 3,
   "id": "6fc09472-0a44-421b-a68f-93efd15fe59f",
   "metadata": {},
   "outputs": [
    {
     "data": {
      "text/html": [
       "<div>\n",
       "<style scoped>\n",
       "    .dataframe tbody tr th:only-of-type {\n",
       "        vertical-align: middle;\n",
       "    }\n",
       "\n",
       "    .dataframe tbody tr th {\n",
       "        vertical-align: top;\n",
       "    }\n",
       "\n",
       "    .dataframe thead th {\n",
       "        text-align: right;\n",
       "    }\n",
       "</style>\n",
       "<table border=\"1\" class=\"dataframe\">\n",
       "  <thead>\n",
       "    <tr style=\"text-align: right;\">\n",
       "      <th></th>\n",
       "      <th>Wikipedia movie ID</th>\n",
       "      <th>Movie name</th>\n",
       "      <th>Release date</th>\n",
       "      <th>Box office revenue</th>\n",
       "      <th>Languages</th>\n",
       "      <th>Countries</th>\n",
       "      <th>Genres</th>\n",
       "      <th>Plot</th>\n",
       "    </tr>\n",
       "  </thead>\n",
       "  <tbody>\n",
       "    <tr>\n",
       "      <th>0</th>\n",
       "      <td>975900</td>\n",
       "      <td>Ghosts of Mars</td>\n",
       "      <td>2001-08-24</td>\n",
       "      <td>14010832.0</td>\n",
       "      <td>English Language</td>\n",
       "      <td>United States of America</td>\n",
       "      <td>Thriller, Science Fiction, Horror, Adventure, ...</td>\n",
       "      <td>set in the second half of the 22nd century, th...</td>\n",
       "    </tr>\n",
       "    <tr>\n",
       "      <th>1</th>\n",
       "      <td>6631279</td>\n",
       "      <td>Little city</td>\n",
       "      <td>1997-04-04</td>\n",
       "      <td>NaN</td>\n",
       "      <td>English Language</td>\n",
       "      <td>United States of America</td>\n",
       "      <td>Romantic comedy, Ensemble Film, Comedy-drama, ...</td>\n",
       "      <td>adam, a san francisco-based artist who works a...</td>\n",
       "    </tr>\n",
       "    <tr>\n",
       "      <th>2</th>\n",
       "      <td>77856</td>\n",
       "      <td>Mary Poppins</td>\n",
       "      <td>1964-08-27</td>\n",
       "      <td>102272727.0</td>\n",
       "      <td>English Language</td>\n",
       "      <td>United States of America</td>\n",
       "      <td>Children's/Family, Musical, Fantasy, Comedy, D...</td>\n",
       "      <td>the film opens with mary poppins  perched in a...</td>\n",
       "    </tr>\n",
       "    <tr>\n",
       "      <th>3</th>\n",
       "      <td>21926710</td>\n",
       "      <td>White on Rice</td>\n",
       "      <td>2009-05-31</td>\n",
       "      <td>NaN</td>\n",
       "      <td>NaN</td>\n",
       "      <td>United States of America</td>\n",
       "      <td>Romantic comedy, Romance Film, Comedy, Indie</td>\n",
       "      <td>jimmy ([[hiroshi watanabe  loves dinosaurs and...</td>\n",
       "    </tr>\n",
       "    <tr>\n",
       "      <th>4</th>\n",
       "      <td>156558</td>\n",
       "      <td>Baby Boy</td>\n",
       "      <td>2001-06-27</td>\n",
       "      <td>29381649.0</td>\n",
       "      <td>English Language</td>\n",
       "      <td>United States of America</td>\n",
       "      <td>Crime Fiction, Drama, Coming of age</td>\n",
       "      <td>a young 20-year-old named jody  lives with his...</td>\n",
       "    </tr>\n",
       "    <tr>\n",
       "      <th>...</th>\n",
       "      <td>...</td>\n",
       "      <td>...</td>\n",
       "      <td>...</td>\n",
       "      <td>...</td>\n",
       "      <td>...</td>\n",
       "      <td>...</td>\n",
       "      <td>...</td>\n",
       "      <td>...</td>\n",
       "    </tr>\n",
       "    <tr>\n",
       "      <th>17059</th>\n",
       "      <td>25011340</td>\n",
       "      <td>Dot.Kill</td>\n",
       "      <td>2005-03-08</td>\n",
       "      <td>NaN</td>\n",
       "      <td>NaN</td>\n",
       "      <td>United States of America</td>\n",
       "      <td>Thriller, Crime Thriller, Action, Psychologica...</td>\n",
       "      <td>charlie daines , is a morphine-addicted detect...</td>\n",
       "    </tr>\n",
       "    <tr>\n",
       "      <th>17060</th>\n",
       "      <td>7761830</td>\n",
       "      <td>Spaced Invaders</td>\n",
       "      <td>1990-04-27</td>\n",
       "      <td>15369573.0</td>\n",
       "      <td>English Language</td>\n",
       "      <td>United States of America</td>\n",
       "      <td>Alien Film, Science Fiction, Family Film, Come...</td>\n",
       "      <td>the space armada from mars, known as the imper...</td>\n",
       "    </tr>\n",
       "    <tr>\n",
       "      <th>17061</th>\n",
       "      <td>1918494</td>\n",
       "      <td>State and Main</td>\n",
       "      <td>2000-08-26</td>\n",
       "      <td>6944471.0</td>\n",
       "      <td>Italian Language, English Language</td>\n",
       "      <td>France, United States of America</td>\n",
       "      <td>Parody, Americana, Comedy</td>\n",
       "      <td>havoc is wrought on the inhabitants of a small...</td>\n",
       "    </tr>\n",
       "    <tr>\n",
       "      <th>17062</th>\n",
       "      <td>664006</td>\n",
       "      <td>Guilty as Sin</td>\n",
       "      <td>1993-06-04</td>\n",
       "      <td>22886222.0</td>\n",
       "      <td>NaN</td>\n",
       "      <td>United States of America</td>\n",
       "      <td>Thriller, Erotic thriller, Psychological thril...</td>\n",
       "      <td>jennifer haines  is an up-and-coming chicago a...</td>\n",
       "    </tr>\n",
       "    <tr>\n",
       "      <th>17063</th>\n",
       "      <td>35228177</td>\n",
       "      <td>Mermaids: The Body Found</td>\n",
       "      <td>2011-03-19</td>\n",
       "      <td>NaN</td>\n",
       "      <td>English Language</td>\n",
       "      <td>United States of America</td>\n",
       "      <td>Drama</td>\n",
       "      <td>two former national oceanic atmospheric admini...</td>\n",
       "    </tr>\n",
       "  </tbody>\n",
       "</table>\n",
       "<p>17064 rows × 8 columns</p>\n",
       "</div>"
      ],
      "text/plain": [
       "       Wikipedia movie ID                Movie name Release date  \\\n",
       "0                  975900            Ghosts of Mars   2001-08-24   \n",
       "1                 6631279               Little city   1997-04-04   \n",
       "2                   77856              Mary Poppins   1964-08-27   \n",
       "3                21926710             White on Rice   2009-05-31   \n",
       "4                  156558                  Baby Boy   2001-06-27   \n",
       "...                   ...                       ...          ...   \n",
       "17059            25011340                  Dot.Kill   2005-03-08   \n",
       "17060             7761830           Spaced Invaders   1990-04-27   \n",
       "17061             1918494            State and Main   2000-08-26   \n",
       "17062              664006             Guilty as Sin   1993-06-04   \n",
       "17063            35228177  Mermaids: The Body Found   2011-03-19   \n",
       "\n",
       "       Box office revenue                           Languages  \\\n",
       "0              14010832.0                    English Language   \n",
       "1                     NaN                    English Language   \n",
       "2             102272727.0                    English Language   \n",
       "3                     NaN                                 NaN   \n",
       "4              29381649.0                    English Language   \n",
       "...                   ...                                 ...   \n",
       "17059                 NaN                                 NaN   \n",
       "17060          15369573.0                    English Language   \n",
       "17061           6944471.0  Italian Language, English Language   \n",
       "17062          22886222.0                                 NaN   \n",
       "17063                 NaN                    English Language   \n",
       "\n",
       "                              Countries  \\\n",
       "0              United States of America   \n",
       "1              United States of America   \n",
       "2              United States of America   \n",
       "3              United States of America   \n",
       "4              United States of America   \n",
       "...                                 ...   \n",
       "17059          United States of America   \n",
       "17060          United States of America   \n",
       "17061  France, United States of America   \n",
       "17062          United States of America   \n",
       "17063          United States of America   \n",
       "\n",
       "                                                  Genres  \\\n",
       "0      Thriller, Science Fiction, Horror, Adventure, ...   \n",
       "1      Romantic comedy, Ensemble Film, Comedy-drama, ...   \n",
       "2      Children's/Family, Musical, Fantasy, Comedy, D...   \n",
       "3           Romantic comedy, Romance Film, Comedy, Indie   \n",
       "4                    Crime Fiction, Drama, Coming of age   \n",
       "...                                                  ...   \n",
       "17059  Thriller, Crime Thriller, Action, Psychologica...   \n",
       "17060  Alien Film, Science Fiction, Family Film, Come...   \n",
       "17061                          Parody, Americana, Comedy   \n",
       "17062  Thriller, Erotic thriller, Psychological thril...   \n",
       "17063                                              Drama   \n",
       "\n",
       "                                                    Plot  \n",
       "0      set in the second half of the 22nd century, th...  \n",
       "1      adam, a san francisco-based artist who works a...  \n",
       "2      the film opens with mary poppins  perched in a...  \n",
       "3      jimmy ([[hiroshi watanabe  loves dinosaurs and...  \n",
       "4      a young 20-year-old named jody  lives with his...  \n",
       "...                                                  ...  \n",
       "17059  charlie daines , is a morphine-addicted detect...  \n",
       "17060  the space armada from mars, known as the imper...  \n",
       "17061  havoc is wrought on the inhabitants of a small...  \n",
       "17062  jennifer haines  is an up-and-coming chicago a...  \n",
       "17063  two former national oceanic atmospheric admini...  \n",
       "\n",
       "[17064 rows x 8 columns]"
      ]
     },
     "execution_count": 3,
     "metadata": {},
     "output_type": "execute_result"
    }
   ],
   "source": [
    "# We import the clean dataset (& have a look at it again, just because it's beautiful)\n",
    "import pandas as pd\n",
    "Movie_Data = pd.read_csv('../data/CLEAN/Movie_Data_clean.tsv', sep=\"\\t\")\n",
    "\n",
    "Movie_Data"
   ]
  },
  {
   "cell_type": "code",
   "execution_count": 4,
   "id": "fca0b435-a867-481e-be02-07926bdbcdcc",
   "metadata": {},
   "outputs": [
    {
     "name": "stdout",
     "output_type": "stream",
     "text": [
      "set in the second half of the 22nd century, the film depicts mars as a planet that has been 84% terraformed, allowing humans to walk on the surface without wearing pressure suits. the martian society has become largely matriarchal, with women in most positions of authority. the story concerns a police officer, melanie ballard , second in command of a small team alongside sergeant jericho  sent to pick up and transport a prisoner named desolation williams . arriving at the remote mining town where williams is being held, ballard finds virtually all of the people missing. she learns that the miners had discovered an underground doorway created by an ancient martian civilization. when the door was opened it released \"ghosts,\" disembodied spirits which possessed the miners. violence ensues, as the possessed miners commit horrific acts of death and destruction, as well as self-mutilation. with their team leader helena bradock  murdered, ballard must fight off the attacking miners, escape the town, and destroy the ghosts, if possible. unfortunately, her intentions are complicated by the fact that killing a possessed human merely releases the martian spirit to possess another human. the team eventually decides to blow up a nuclear reactor to try and vaporize all of the ghosts. at several points in the film sergeant jericho shows a romantic interest in ballard, mostly unreciprocated. ballard's crew along with survivors who manage to gather in the jail are eventually wiped out by the miners after many fierce battles and events , leaving only her and williams after sergeant jericho and the other remaining officers and the two operators of the train are killed upon returning from a brief retreat to finish the fight. not wanting the authorities to blame the massacre on him, he handcuffs ballard to her cot and escapes from the train, leaving her to return home and deliver her report, which is received with skepticism by her superiors. while ballard recuperates at a hospital, the released spirits, who weren't destroyed after all, attack the city. the end scene sets the movie up for a sequel as williams returns to team up with ballard to fight the possessed. \n",
      "\n",
      "['set', 'in', 'the', 'second', 'half', 'of', 'the', '22nd', 'century', ',', 'the', 'film', 'depicts', 'mars', 'as', 'a', 'planet', 'that', 'has', 'been', '84', '%', 'terraformed', ',', 'allowing', 'humans', 'to', 'walk', 'on', 'the', 'surface', 'without', 'wearing', 'pressure', 'suits', '.', 'the', 'martian', 'society', 'has', 'become', 'largely', 'matriarchal', ',', 'with', 'women', 'in', 'most', 'positions', 'of', 'authority', '.', 'the', 'story', 'concerns', 'a', 'police', 'officer', ',', 'melanie', 'ballard', ',', 'second', 'in', 'command', 'of', 'a', 'small', 'team', 'alongside', 'sergeant', 'jericho', ' ', 'sent', 'to', 'pick', 'up', 'and', 'transport', 'a', 'prisoner', 'named', 'desolation', 'williams', '.', 'arriving', 'at', 'the', 'remote', 'mining', 'town', 'where', 'williams', 'is', 'being', 'held', ',', 'ballard', 'finds', 'virtually', 'all', 'of', 'the', 'people', 'missing', '.', 'she', 'learns', 'that', 'the', 'miners', 'had', 'discovered', 'an', 'underground', 'doorway', 'created', 'by', 'an', 'ancient', 'martian', 'civilization', '.', 'when', 'the', 'door', 'was', 'opened', 'it', 'released', '\"', 'ghosts', ',', '\"', 'disembodied', 'spirits', 'which', 'possessed', 'the', 'miners', '.', 'violence', 'ensues', ',', 'as', 'the', 'possessed', 'miners', 'commit', 'horrific', 'acts', 'of', 'death', 'and', 'destruction', ',', 'as', 'well', 'as', 'self', '-', 'mutilation', '.', 'with', 'their', 'team', 'leader', 'helena', 'bradock', ' ', 'murdered', ',', 'ballard', 'must', 'fight', 'off', 'the', 'attacking', 'miners', ',', 'escape', 'the', 'town', ',', 'and', 'destroy', 'the', 'ghosts', ',', 'if', 'possible', '.', 'unfortunately', ',', 'her', 'intentions', 'are', 'complicated', 'by', 'the', 'fact', 'that', 'killing', 'a', 'possessed', 'human', 'merely', 'releases', 'the', 'martian', 'spirit', 'to', 'possess', 'another', 'human', '.', 'the', 'team', 'eventually', 'decides', 'to', 'blow', 'up', 'a', 'nuclear', 'reactor', 'to', 'try', 'and', 'vaporize', 'all', 'of', 'the', 'ghosts', '.', 'at', 'several', 'points', 'in', 'the', 'film', 'sergeant', 'jericho', 'shows', 'a', 'romantic', 'interest', 'in', 'ballard', ',', 'mostly', 'unreciprocated', '.', 'ballard', \"'s\", 'crew', 'along', 'with', 'survivors', 'who', 'manage', 'to', 'gather', 'in', 'the', 'jail', 'are', 'eventually', 'wiped', 'out', 'by', 'the', 'miners', 'after', 'many', 'fierce', 'battles', 'and', 'events', ',', 'leaving', 'only', 'her', 'and', 'williams', 'after', 'sergeant', 'jericho', 'and', 'the', 'other', 'remaining', 'officers', 'and', 'the', 'two', 'operators', 'of', 'the', 'train', 'are', 'killed', 'upon', 'returning', 'from', 'a', 'brief', 'retreat', 'to', 'finish', 'the', 'fight', '.', 'not', 'wanting', 'the', 'authorities', 'to', 'blame', 'the', 'massacre', 'on', 'him', ',', 'he', 'handcuffs', 'ballard', 'to', 'her', 'cot', 'and', 'escapes', 'from', 'the', 'train', ',', 'leaving', 'her', 'to', 'return', 'home', 'and', 'deliver', 'her', 'report', ',', 'which', 'is', 'received', 'with', 'skepticism', 'by', 'her', 'superiors', '.', 'while', 'ballard', 'recuperates', 'at', 'a', 'hospital', ',', 'the', 'released', 'spirits', ',', 'who', 'were', \"n't\", 'destroyed', 'after', 'all', ',', 'attack', 'the', 'city', '.', 'the', 'end', 'scene', 'sets', 'the', 'movie', 'up', 'for', 'a', 'sequel', 'as', 'williams', 'returns', 'to', 'team', 'up', 'with', 'ballard', 'to', 'fight', 'the', 'possessed', '.']\n"
     ]
    }
   ],
   "source": [
    "# Let's try this all with the first summary\n",
    "\n",
    "Plot_test = Movie_Data.loc[0][\"Plot\"]\n",
    "\n",
    "# Now, let's use spacy, to tokenize\n",
    "import spacy\n",
    "\n",
    "nlp = spacy.load('en_core_web_sm') # requires python spacy download en !\n",
    "doc = nlp(Plot_test)\n",
    "Plot_tokens = [token.text for token in doc]\n",
    "\n",
    "print(Plot_test,'\\n')\n",
    "print(Plot_tokens)"
   ]
  },
  {
   "cell_type": "code",
   "execution_count": 5,
   "id": "e736fa83-66ab-499a-9da8-7a008defaff1",
   "metadata": {},
   "outputs": [
    {
     "name": "stdout",
     "output_type": "stream",
     "text": [
      "Number of stop words: 326\n",
      "First ten stop words: ['hereafter', 'anyhow', 'whereas', 'someone', 'such', 'could', 'from', 'may', 'yourself', \"'re\"]\n"
     ]
    }
   ],
   "source": [
    "# Now let's detect the stopwords\n",
    "\n",
    "spacy_stopwords = spacy.lang.en.stop_words.STOP_WORDS\n",
    "print('Number of stop words: %d' % len(spacy_stopwords))\n",
    "print('First ten stop words:',list(spacy_stopwords)[:10])"
   ]
  },
  {
   "cell_type": "code",
   "execution_count": 6,
   "id": "fdfe179a-4440-4da0-8ea2-a2897591a6a9",
   "metadata": {},
   "outputs": [
    {
     "name": "stdout",
     "output_type": "stream",
     "text": [
      "set in the second half of the 22nd century, the film depicts mars as a planet that has been 84% terraformed, allowing humans to walk on the surface without wearing pressure suits. the martian society has become largely matriarchal, with women in most positions of authority. the story concerns a police officer, melanie ballard , second in command of a small team alongside sergeant jericho  sent to pick up and transport a prisoner named desolation williams . arriving at the remote mining town where williams is being held, ballard finds virtually all of the people missing. she learns that the miners had discovered an underground doorway created by an ancient martian civilization. when the door was opened it released \"ghosts,\" disembodied spirits which possessed the miners. violence ensues, as the possessed miners commit horrific acts of death and destruction, as well as self-mutilation. with their team leader helena bradock  murdered, ballard must fight off the attacking miners, escape the town, and destroy the ghosts, if possible. unfortunately, her intentions are complicated by the fact that killing a possessed human merely releases the martian spirit to possess another human. the team eventually decides to blow up a nuclear reactor to try and vaporize all of the ghosts. at several points in the film sergeant jericho shows a romantic interest in ballard, mostly unreciprocated. ballard's crew along with survivors who manage to gather in the jail are eventually wiped out by the miners after many fierce battles and events , leaving only her and williams after sergeant jericho and the other remaining officers and the two operators of the train are killed upon returning from a brief retreat to finish the fight. not wanting the authorities to blame the massacre on him, he handcuffs ballard to her cot and escapes from the train, leaving her to return home and deliver her report, which is received with skepticism by her superiors. while ballard recuperates at a hospital, the released spirits, who weren't destroyed after all, attack the city. the end scene sets the movie up for a sequel as williams returns to team up with ballard to fight the possessed. \n",
      "\n",
      "['in', 'the', 'of', 'the', 'the', 'as', 'a', 'that', 'has', 'been', 'to', 'on', 'the', 'without', 'the', 'has', 'become', 'with', 'in', 'most', 'of', 'the', 'a', 'in', 'of', 'a', 'to', 'up', 'and', 'a', 'at', 'the', 'where', 'is', 'being', 'all', 'of', 'the', 'she', 'that', 'the', 'had', 'an', 'by', 'an', 'when', 'the', 'was', 'it', 'which', 'the', 'as', 'the', 'of', 'and', 'as', 'well', 'as', 'with', 'their', 'must', 'off', 'the', 'the', 'and', 'the', 'if', 'her', 'are', 'by', 'the', 'that', 'a', 'the', 'to', 'another', 'the', 'to', 'up', 'a', 'to', 'and', 'all', 'of', 'the', 'at', 'several', 'in', 'the', 'a', 'in', 'mostly', \"'s\", 'along', 'with', 'who', 'to', 'in', 'the', 'are', 'out', 'by', 'the', 'after', 'many', 'and', 'only', 'her', 'and', 'after', 'and', 'the', 'other', 'and', 'the', 'two', 'of', 'the', 'are', 'upon', 'from', 'a', 'to', 'the', 'not', 'the', 'to', 'the', 'on', 'him', 'he', 'to', 'her', 'and', 'from', 'the', 'her', 'to', 'and', 'her', 'which', 'is', 'with', 'by', 'her', 'while', 'at', 'a', 'the', 'who', 'were', \"n't\", 'after', 'all', 'the', 'the', 'the', 'up', 'for', 'a', 'as', 'to', 'up', 'with', 'to', 'the']\n"
     ]
    }
   ],
   "source": [
    "print(Plot_test,'\\n')\n",
    "stop_words = [token.text for token in doc if token.is_stop]\n",
    "print(stop_words)"
   ]
  },
  {
   "cell_type": "code",
   "execution_count": 7,
   "id": "5f9b152c-fc8f-4b2d-8828-f9ed1a74139b",
   "metadata": {},
   "outputs": [
    {
     "name": "stdout",
     "output_type": "stream",
     "text": [
      "set in the second half of the 22nd century, the film depicts mars as a planet that has been 84% terraformed, allowing humans to walk on the surface without wearing pressure suits. the martian society has become largely matriarchal, with women in most positions of authority. the story concerns a police officer, melanie ballard , second in command of a small team alongside sergeant jericho  sent to pick up and transport a prisoner named desolation williams . arriving at the remote mining town where williams is being held, ballard finds virtually all of the people missing. she learns that the miners had discovered an underground doorway created by an ancient martian civilization. when the door was opened it released \"ghosts,\" disembodied spirits which possessed the miners. violence ensues, as the possessed miners commit horrific acts of death and destruction, as well as self-mutilation. with their team leader helena bradock  murdered, ballard must fight off the attacking miners, escape the town, and destroy the ghosts, if possible. unfortunately, her intentions are complicated by the fact that killing a possessed human merely releases the martian spirit to possess another human. the team eventually decides to blow up a nuclear reactor to try and vaporize all of the ghosts. at several points in the film sergeant jericho shows a romantic interest in ballard, mostly unreciprocated. ballard's crew along with survivors who manage to gather in the jail are eventually wiped out by the miners after many fierce battles and events , leaving only her and williams after sergeant jericho and the other remaining officers and the two operators of the train are killed upon returning from a brief retreat to finish the fight. not wanting the authorities to blame the massacre on him, he handcuffs ballard to her cot and escapes from the train, leaving her to return home and deliver her report, which is received with skepticism by her superiors. while ballard recuperates at a hospital, the released spirits, who weren't destroyed after all, attack the city. the end scene sets the movie up for a sequel as williams returns to team up with ballard to fight the possessed. \n",
      "\n",
      "depicts ---> depict\n",
      "mars ---> mar\n",
      "has ---> have\n",
      "been ---> be\n",
      "terraformed ---> terraforme\n",
      "allowing ---> allow\n",
      "humans ---> human\n",
      "wearing ---> wear\n",
      "suits ---> suit\n",
      "has ---> have\n",
      "women ---> woman\n",
      "positions ---> position\n",
      "concerns ---> concern\n",
      "sent ---> send\n",
      "named ---> name\n",
      "arriving ---> arrive\n",
      "is ---> be\n",
      "being ---> be\n",
      "held ---> hold\n",
      "finds ---> find\n",
      "missing ---> miss\n",
      "learns ---> learn\n",
      "miners ---> miner\n",
      "had ---> have\n",
      "discovered ---> discover\n",
      "created ---> create\n",
      "was ---> be\n",
      "opened ---> open\n",
      "released ---> release\n",
      "ghosts ---> ghost\n",
      "spirits ---> spirit\n",
      "possessed ---> possess\n",
      "miners ---> miner\n",
      "ensues ---> ensue\n",
      "possessed ---> possess\n",
      "miners ---> miner\n",
      "acts ---> act\n",
      "murdered ---> murder\n",
      "attacking ---> attack\n",
      "miners ---> miner\n",
      "ghosts ---> ghost\n",
      "intentions ---> intention\n",
      "are ---> be\n",
      "complicated ---> complicate\n",
      "killing ---> kill\n",
      "possessed ---> possess\n",
      "releases ---> release\n",
      "decides ---> decide\n",
      "ghosts ---> ghost\n",
      "points ---> point\n",
      "shows ---> show\n",
      "survivors ---> survivor\n",
      "are ---> be\n",
      "wiped ---> wipe\n",
      "miners ---> miner\n",
      "battles ---> battle\n",
      "events ---> event\n",
      "leaving ---> leave\n",
      "her ---> she\n",
      "remaining ---> remain\n",
      "officers ---> officer\n",
      "operators ---> operator\n",
      "are ---> be\n",
      "killed ---> kill\n",
      "returning ---> return\n",
      "wanting ---> want\n",
      "authorities ---> authority\n",
      "him ---> he\n",
      "handcuffs ---> handcuff\n",
      "escapes ---> escape\n",
      "leaving ---> leave\n",
      "her ---> she\n",
      "is ---> be\n",
      "received ---> receive\n",
      "superiors ---> superior\n",
      "recuperates ---> recuperate\n",
      "released ---> release\n",
      "spirits ---> spirit\n",
      "were ---> be\n",
      "n't ---> not\n",
      "destroyed ---> destroy\n",
      "sets ---> set\n",
      "returns ---> return\n"
     ]
    }
   ],
   "source": [
    "# Lemmatization \n",
    "\n",
    "print(Plot_test,'\\n')\n",
    "for token in doc:\n",
    "    if token.text != token.lemma_:\n",
    "        print(token.text,'--->',token.lemma_)"
   ]
  },
  {
   "cell_type": "code",
   "execution_count": 8,
   "id": "d76dca90-3017-4e47-af66-08a7dc92ff98",
   "metadata": {},
   "outputs": [
    {
     "name": "stdout",
     "output_type": "stream",
     "text": [
      "set in the second half of the 22nd century, the film depicts mars as a planet that has been 84% terraformed, allowing humans to walk on the surface without wearing pressure suits. the martian society has become largely matriarchal, with women in most positions of authority. the story concerns a police officer, melanie ballard , second in command of a small team alongside sergeant jericho  sent to pick up and transport a prisoner named desolation williams . arriving at the remote mining town where williams is being held, ballard finds virtually all of the people missing. she learns that the miners had discovered an underground doorway created by an ancient martian civilization. when the door was opened it released \"ghosts,\" disembodied spirits which possessed the miners. violence ensues, as the possessed miners commit horrific acts of death and destruction, as well as self-mutilation. with their team leader helena bradock  murdered, ballard must fight off the attacking miners, escape the town, and destroy the ghosts, if possible. unfortunately, her intentions are complicated by the fact that killing a possessed human merely releases the martian spirit to possess another human. the team eventually decides to blow up a nuclear reactor to try and vaporize all of the ghosts. at several points in the film sergeant jericho shows a romantic interest in ballard, mostly unreciprocated. ballard's crew along with survivors who manage to gather in the jail are eventually wiped out by the miners after many fierce battles and events , leaving only her and williams after sergeant jericho and the other remaining officers and the two operators of the train are killed upon returning from a brief retreat to finish the fight. not wanting the authorities to blame the massacre on him, he handcuffs ballard to her cot and escapes from the train, leaving her to return home and deliver her report, which is received with skepticism by her superiors. while ballard recuperates at a hospital, the released spirits, who weren't destroyed after all, attack the city. the end scene sets the movie up for a sequel as williams returns to team up with ballard to fight the possessed. \n",
      "\n",
      "[('the', 34), (',', 22), ('.', 15), ('to', 12), ('a', 10), ('and', 10), ('ballard', 8), ('of', 7), ('in', 6), ('her', 6), ('as', 5), ('with', 5), ('miners', 5), ('team', 4), ('up', 4), ('williams', 4), ('by', 4), ('possessed', 4), ('that', 3), ('martian', 3), ('sergeant', 3), ('jericho', 3), ('at', 3), ('all', 3), ('ghosts', 3), ('fight', 3), ('are', 3), ('after', 3), ('second', 2), ('film', 2), ('has', 2), ('on', 2), (' ', 2), ('town', 2), ('is', 2), ('an', 2), ('released', 2), ('\"', 2), ('spirits', 2), ('which', 2), ('human', 2), ('eventually', 2), ('who', 2), ('leaving', 2), ('train', 2), ('from', 2), ('set', 1), ('half', 1), ('22nd', 1), ('century', 1), ('depicts', 1), ('mars', 1), ('planet', 1), ('been', 1), ('84', 1), ('%', 1), ('terraformed', 1), ('allowing', 1), ('humans', 1), ('walk', 1), ('surface', 1), ('without', 1), ('wearing', 1), ('pressure', 1), ('suits', 1), ('society', 1), ('become', 1), ('largely', 1), ('matriarchal', 1), ('women', 1), ('most', 1), ('positions', 1), ('authority', 1), ('story', 1), ('concerns', 1), ('police', 1), ('officer', 1), ('melanie', 1), ('command', 1), ('small', 1), ('alongside', 1), ('sent', 1), ('pick', 1), ('transport', 1), ('prisoner', 1), ('named', 1), ('desolation', 1), ('arriving', 1), ('remote', 1), ('mining', 1), ('where', 1), ('being', 1), ('held', 1), ('finds', 1), ('virtually', 1), ('people', 1), ('missing', 1), ('she', 1), ('learns', 1), ('had', 1), ('discovered', 1), ('underground', 1), ('doorway', 1), ('created', 1), ('ancient', 1), ('civilization', 1), ('when', 1), ('door', 1), ('was', 1), ('opened', 1), ('it', 1), ('disembodied', 1), ('violence', 1), ('ensues', 1), ('commit', 1), ('horrific', 1), ('acts', 1), ('death', 1), ('destruction', 1), ('well', 1), ('self', 1), ('-', 1), ('mutilation', 1), ('their', 1), ('leader', 1), ('helena', 1), ('bradock', 1), ('murdered', 1), ('must', 1), ('off', 1), ('attacking', 1), ('escape', 1), ('destroy', 1), ('if', 1), ('possible', 1), ('unfortunately', 1), ('intentions', 1), ('complicated', 1), ('fact', 1), ('killing', 1), ('merely', 1), ('releases', 1), ('spirit', 1), ('possess', 1), ('another', 1), ('decides', 1), ('blow', 1), ('nuclear', 1), ('reactor', 1), ('try', 1), ('vaporize', 1), ('several', 1), ('points', 1), ('shows', 1), ('romantic', 1), ('interest', 1), ('mostly', 1), ('unreciprocated', 1), (\"'s\", 1), ('crew', 1), ('along', 1), ('survivors', 1), ('manage', 1), ('gather', 1), ('jail', 1), ('wiped', 1), ('out', 1), ('many', 1), ('fierce', 1), ('battles', 1), ('events', 1), ('only', 1), ('other', 1), ('remaining', 1), ('officers', 1), ('two', 1), ('operators', 1), ('killed', 1), ('upon', 1), ('returning', 1), ('brief', 1), ('retreat', 1), ('finish', 1), ('not', 1), ('wanting', 1), ('authorities', 1), ('blame', 1), ('massacre', 1), ('him', 1), ('he', 1), ('handcuffs', 1), ('cot', 1), ('escapes', 1), ('return', 1), ('home', 1), ('deliver', 1), ('report', 1), ('received', 1), ('skepticism', 1), ('superiors', 1), ('while', 1), ('recuperates', 1), ('hospital', 1), ('were', 1), (\"n't\", 1), ('destroyed', 1), ('attack', 1), ('city', 1), ('end', 1), ('scene', 1), ('sets', 1), ('movie', 1), ('for', 1), ('sequel', 1), ('returns', 1)]\n"
     ]
    }
   ],
   "source": [
    "# Let's now count the occurences\n",
    "from collections import Counter\n",
    "\n",
    "print(Plot_test,'\\n')\n",
    "words = [token.text for token in doc]\n",
    "\n",
    "# five most common tokens\n",
    "word_freq = Counter(words)\n",
    "common_words = word_freq.most_common()\n",
    "\n",
    "print(common_words)"
   ]
  },
  {
   "cell_type": "code",
   "execution_count": 9,
   "id": "b721192e-fce3-4a78-ae1b-93b213be6da9",
   "metadata": {},
   "outputs": [
    {
     "name": "stdout",
     "output_type": "stream",
     "text": [
      "[('ballard', 8), ('miners', 5), ('team', 4), ('williams', 4), ('possessed', 4), ('martian', 3), ('sergeant', 3), ('jericho', 3), ('ghosts', 3), ('fight', 3), ('second', 2), ('film', 2), (' ', 2), ('town', 2), ('released', 2), ('spirits', 2), ('human', 2), ('eventually', 2), ('leaving', 2), ('train', 2), ('set', 1), ('half', 1), ('22nd', 1), ('century', 1), ('depicts', 1), ('mars', 1), ('planet', 1), ('84', 1), ('terraformed', 1), ('allowing', 1), ('humans', 1), ('walk', 1), ('surface', 1), ('wearing', 1), ('pressure', 1), ('suits', 1), ('society', 1), ('largely', 1), ('matriarchal', 1), ('women', 1), ('positions', 1), ('authority', 1), ('story', 1), ('concerns', 1), ('police', 1), ('officer', 1), ('melanie', 1), ('command', 1), ('small', 1), ('alongside', 1), ('sent', 1), ('pick', 1), ('transport', 1), ('prisoner', 1), ('named', 1), ('desolation', 1), ('arriving', 1), ('remote', 1), ('mining', 1), ('held', 1), ('finds', 1), ('virtually', 1), ('people', 1), ('missing', 1), ('learns', 1), ('discovered', 1), ('underground', 1), ('doorway', 1), ('created', 1), ('ancient', 1), ('civilization', 1), ('door', 1), ('opened', 1), ('disembodied', 1), ('violence', 1), ('ensues', 1), ('commit', 1), ('horrific', 1), ('acts', 1), ('death', 1), ('destruction', 1), ('self', 1), ('mutilation', 1), ('leader', 1), ('helena', 1), ('bradock', 1), ('murdered', 1), ('attacking', 1), ('escape', 1), ('destroy', 1), ('possible', 1), ('unfortunately', 1), ('intentions', 1), ('complicated', 1), ('fact', 1), ('killing', 1), ('merely', 1), ('releases', 1), ('spirit', 1), ('possess', 1), ('decides', 1), ('blow', 1), ('nuclear', 1), ('reactor', 1), ('try', 1), ('vaporize', 1), ('points', 1), ('shows', 1), ('romantic', 1), ('interest', 1), ('unreciprocated', 1), ('crew', 1), ('survivors', 1), ('manage', 1), ('gather', 1), ('jail', 1), ('wiped', 1), ('fierce', 1), ('battles', 1), ('events', 1), ('remaining', 1), ('officers', 1), ('operators', 1), ('killed', 1), ('returning', 1), ('brief', 1), ('retreat', 1), ('finish', 1), ('wanting', 1), ('authorities', 1), ('blame', 1), ('massacre', 1), ('handcuffs', 1), ('cot', 1), ('escapes', 1), ('return', 1), ('home', 1), ('deliver', 1), ('report', 1), ('received', 1), ('skepticism', 1), ('superiors', 1), ('recuperates', 1), ('hospital', 1), ('destroyed', 1), ('attack', 1), ('city', 1), ('end', 1), ('scene', 1), ('sets', 1), ('movie', 1), ('sequel', 1), ('returns', 1)]\n"
     ]
    }
   ],
   "source": [
    "# Yes that above is cute, but let's do it without counting the stopwords\n",
    "\n",
    "words = [token.text for token in doc if token.is_stop != True and token.is_punct != True]\n",
    "\n",
    "# five most common tokens\n",
    "word_freq = Counter(words)\n",
    "common_words = word_freq.most_common()\n",
    "\n",
    "print(common_words)"
   ]
  },
  {
   "cell_type": "code",
   "execution_count": 10,
   "id": "ed19a9d0-ca72-41ef-9619-9dbd1f52c374",
   "metadata": {},
   "outputs": [
    {
     "name": "stdout",
     "output_type": "stream",
     "text": [
      "aggression : 6.0\n",
      "crime : 9.0\n",
      "prison : 6.0\n",
      "dispute : 5.0\n",
      "kill : 10.0\n",
      "stealing : 4.0\n",
      "leader : 7.0\n",
      "violence : 5.0\n",
      "fight : 10.0\n",
      "war : 8.0\n",
      "breaking : 4.0\n",
      "power : 7.0\n",
      "negative_emotion : 7.0\n"
     ]
    }
   ],
   "source": [
    "# And now let's go to Empath\n",
    "\n",
    "empath_features = lexicon.analyze(words) # on le fait avec toutes les categories \n",
    "\n",
    "for category, count in empath_features.items():\n",
    "    if count > 3.0: # threshold to be adapted\n",
    "        print(category, \":\", count)"
   ]
  },
  {
   "cell_type": "code",
   "execution_count": 11,
   "id": "425d2914-c58c-4438-a1bf-9928cac04f6e",
   "metadata": {},
   "outputs": [
    {
     "name": "stdout",
     "output_type": "stream",
     "text": [
      "kill: 10.0\n",
      "fight: 10.0\n",
      "crime: 9.0\n",
      "war: 8.0\n",
      "leader: 7.0\n",
      "power: 7.0\n",
      "negative_emotion: 7.0\n",
      "aggression: 6.0\n",
      "prison: 6.0\n",
      "dispute: 5.0\n"
     ]
    }
   ],
   "source": [
    "# Or we can even filter them and only plot let's say the 10 most for each summary (here still only for the example)\n",
    "\n",
    "sorted_features = sorted(empath_features.items(), key=lambda x: x[1], reverse=True)\n",
    "\n",
    "for category, count in sorted_features[:10]:\n",
    "    print(f\"{category}: {count}\")"
   ]
  },
  {
   "cell_type": "code",
   "execution_count": 12,
   "id": "68280c56-88a2-4f98-811b-aa784a7ae7be",
   "metadata": {},
   "outputs": [
    {
     "name": "stdout",
     "output_type": "stream",
     "text": [
      "kill: 0.022408963585434174\n",
      "crime: 0.0196078431372549\n",
      "fight: 0.0196078431372549\n",
      "leader: 0.01680672268907563\n",
      "war: 0.01680672268907563\n",
      "negative_emotion: 0.01680672268907563\n",
      "aggression: 0.014005602240896359\n",
      "prison: 0.014005602240896359\n",
      "power: 0.014005602240896359\n",
      "dispute: 0.011204481792717087\n"
     ]
    }
   ],
   "source": [
    "# If we want to do it with the normalized distribution\n",
    "\n",
    "empath_features_normalized = lexicon.analyze(doc.text, normalize=True) # on le fait avec toutes les categories + normalized\n",
    "\n",
    "sorted_features_normalized = sorted(empath_features_normalized.items(), key=lambda x: x[1], reverse=True)\n",
    "\n",
    "for category, count in sorted_features_normalized[:10]:\n",
    "    print(f\"{category}: {count}\")"
   ]
  },
  {
   "cell_type": "code",
   "execution_count": 13,
   "id": "bb55b999-678a-4e81-a69d-f11a3c041861",
   "metadata": {},
   "outputs": [
    {
     "name": "stdout",
     "output_type": "stream",
     "text": [
      "set second half 22nd century film depict mar planet 84 terraforme allow human walk surface wear pressure suit martian society largely matriarchal woman position authority story concern police officer melanie ballard second command small team alongside sergeant jericho   send pick transport prisoner name desolation williams arrive remote mining town williams hold ballard find virtually people miss learn miner discover underground doorway create ancient martian civilization door open release ghost disembodied spirit possess miner violence ensue possess miner commit horrific act death destruction self mutilation team leader helena bradock   murder ballard fight attack miner escape town destroy ghost possible unfortunately intention complicate fact kill possess human merely release martian spirit possess human team eventually decide blow nuclear reactor try vaporize ghost point film sergeant jericho show romantic interest ballard unreciprocated ballard crew survivor manage gather jail eventually wipe miner fierce battle event leave williams sergeant jericho remain officer operator train kill return brief retreat finish fight want authority blame massacre handcuff ballard cot escape train leave return home deliver report receive skepticism superior ballard recuperate hospital release spirit destroy attack city end scene set movie sequel williams return team ballard fight possessed \n",
      "\n",
      "fight: 0.07853403141361257\n",
      "kill: 0.07329842931937172\n",
      "war: 0.07329842931937172\n",
      "crime: 0.05759162303664921\n",
      "power: 0.05235602094240838\n",
      "aggression: 0.04712041884816754\n",
      "prison: 0.04712041884816754\n",
      "leader: 0.04712041884816754\n",
      "violence: 0.03664921465968586\n",
      "negative_emotion: 0.03664921465968586\n"
     ]
    }
   ],
   "source": [
    "# Test: lemmatized\n",
    "lemmatized_text = \" \".join([token.lemma_ for token in doc if not token.is_stop and not token.is_punct])\n",
    "print(lemmatized_text, \"\\n\")\n",
    "\n",
    "empath_features_normalized = lexicon.analyze(lemmatized_text, normalize=True) # on le fait avec toutes les categories + normalized\n",
    "\n",
    "sorted_features_normalized = sorted(empath_features_normalized.items(), key=lambda x: x[1], reverse=True)\n",
    "\n",
    "for category, count in sorted_features_normalized[:10]:\n",
    "    print(f\"{category}: {count}\")"
   ]
  },
  {
   "cell_type": "code",
   "execution_count": 14,
   "id": "5b2bd55e-fc27-4c25-97be-6a063875dd59",
   "metadata": {},
   "outputs": [],
   "source": [
    "# Now we must generalize this all, to all summaries, so that then we can then somehow classify them (aka throw the ones with bad categories on top into the violent movies? what do we define as violent categories??)"
   ]
  },
  {
   "cell_type": "code",
   "execution_count": 1,
   "id": "72d6e25f-c12c-42f5-9021-0a5bc681a97d",
   "metadata": {},
   "outputs": [
    {
     "ename": "NameError",
     "evalue": "name 'Movie_Data' is not defined",
     "output_type": "error",
     "traceback": [
      "\u001b[0;31m---------------------------------------------------------------------------\u001b[0m",
      "\u001b[0;31mNameError\u001b[0m                                 Traceback (most recent call last)",
      "Cell \u001b[0;32mIn[1], line 5\u001b[0m\n\u001b[1;32m      1\u001b[0m \u001b[38;5;66;03m# Let's generalize to all summaries first\u001b[39;00m\n\u001b[1;32m      3\u001b[0m results_matrix \u001b[38;5;241m=\u001b[39m []\n\u001b[0;32m----> 5\u001b[0m \u001b[38;5;28;01mfor\u001b[39;00m idx, summary \u001b[38;5;129;01min\u001b[39;00m \u001b[38;5;28menumerate\u001b[39m(Movie_Data[\u001b[38;5;124m\"\u001b[39m\u001b[38;5;124mPlot\u001b[39m\u001b[38;5;124m\"\u001b[39m]):\n\u001b[1;32m      6\u001b[0m     \u001b[38;5;66;03m#print(\"Movie {}: {}\\n\".format(idx, summary))\u001b[39;00m\n\u001b[1;32m      7\u001b[0m     \n\u001b[1;32m      8\u001b[0m     \u001b[38;5;66;03m# Preprocessing\u001b[39;00m\n\u001b[1;32m      9\u001b[0m     doc \u001b[38;5;241m=\u001b[39m nlp(summary)\n\u001b[1;32m     10\u001b[0m     lemmatized_text \u001b[38;5;241m=\u001b[39m \u001b[38;5;124m\"\u001b[39m\u001b[38;5;124m \u001b[39m\u001b[38;5;124m\"\u001b[39m\u001b[38;5;241m.\u001b[39mjoin([token\u001b[38;5;241m.\u001b[39mlemma_ \u001b[38;5;28;01mfor\u001b[39;00m token \u001b[38;5;129;01min\u001b[39;00m doc \u001b[38;5;28;01mif\u001b[39;00m \u001b[38;5;129;01mnot\u001b[39;00m token\u001b[38;5;241m.\u001b[39mis_stop \u001b[38;5;129;01mand\u001b[39;00m \u001b[38;5;129;01mnot\u001b[39;00m token\u001b[38;5;241m.\u001b[39mis_punct])\n",
      "\u001b[0;31mNameError\u001b[0m: name 'Movie_Data' is not defined"
     ]
    }
   ],
   "source": [
    "# Let's generalize to all summaries first\n",
    " \n",
    "results_matrix = []\n",
    "\n",
    "for idx, summary in enumerate(Movie_Data[\"Plot\"]):\n",
    "    #print(\"Movie {}: {}\\n\".format(idx, summary))\n",
    "    \n",
    "    # Preprocessing\n",
    "    doc = nlp(summary)\n",
    "    lemmatized_text = \" \".join([token.lemma_ for token in doc if not token.is_stop and not token.is_punct])\n",
    "    \n",
    "    # Empath Analysis\n",
    "    empath_features = lexicon.analyze(lemmatized_text, normalize=True)\n",
    "    sorted_features = sorted(empath_features.items(), key=lambda x: x[1], reverse=True)\n",
    "    \n",
    "    # Append results to the matrix as a row\n",
    "    results_matrix.append(empath_features)\n",
    "\n",
    "# Create a DataFrame from the matrix\n",
    "empath_df = pd.DataFrame(results_matrix, index=[f\"Movie {i+1}\" for i in range(len(Movie_Data[\"Plot\"]))])\n",
    "display(empath_df)"
   ]
  },
  {
   "cell_type": "code",
   "execution_count": null,
   "id": "41b6b38a-10d4-4560-968b-41a56e7312d9",
   "metadata": {},
   "outputs": [],
   "source": [
    "# Remane the index with something more sensible\n",
    "empath_df.index = Movie_Data[\"Wikipedia movie ID\"]\n",
    "empath_df"
   ]
  },
  {
   "cell_type": "code",
   "execution_count": null,
   "id": "f7f4b7a7-a5ba-4728-9df1-8dd1aa5afacd",
   "metadata": {},
   "outputs": [],
   "source": [
    "# Save the DataFrame to a CSV file for further analysis\n",
    "empath_df.to_csv('../data/CLEAN/empath_features_matrix.tsv', sep=\"\\t\")"
   ]
  }
 ],
 "metadata": {
  "kernelspec": {
   "display_name": "Python 3 (ipykernel)",
   "language": "python",
   "name": "python3"
  },
  "language_info": {
   "codemirror_mode": {
    "name": "ipython",
    "version": 3
   },
   "file_extension": ".py",
   "mimetype": "text/x-python",
   "name": "python",
   "nbconvert_exporter": "python",
   "pygments_lexer": "ipython3",
   "version": "3.11.0"
  }
 },
 "nbformat": 4,
 "nbformat_minor": 5
}
