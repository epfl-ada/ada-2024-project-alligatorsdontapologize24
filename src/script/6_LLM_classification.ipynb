{
 "cells": [
  {
   "cell_type": "markdown",
   "id": "0baccbf6-32d7-4970-9835-bc5130288c78",
   "metadata": {},
   "source": [
    "# Classification with LLM"
   ]
  },
  {
   "cell_type": "markdown",
   "id": "51382b80-7515-49f0-9885-b10c699df18b",
   "metadata": {
    "jp-MarkdownHeadingCollapsed": true,
    "tags": []
   },
   "source": [
    "So far, we have cleaned the data and performed sentiment analysis as well as a violent word count analysis. Our objective is to categorize the movies on a scale from non-violent to violent.\n",
    "\n",
    "Our approach will be to build a model that labels the dataset.\n",
    "In this Notebook, we will try to label the data using a LLM, namely GPT4mini from OpenIA.\n",
    "\n",
    "## Labeling the Data\n",
    "Since labeled data is required for analysis, we manually labeled a subset of the dataset. We divided part of the data among team members and labeled each movie plot based on a categorical scale:\n",
    "<ul>\n",
    "    <li><b>-1</b> : Peaceful</li>\n",
    "    <li><b>0</b> : Ambiguous (Uncertain level of violence)</li>\n",
    "    <li><b>1</b> : Violent</li>\n",
    "</ul>\n",
    "To assess the subjectivity of the labeling process, we had some plots labeled multiple times by external participants.\n",
    "\n",
    "## Dataset\n",
    "<ul>\n",
    "    <li><b>Training and Testing Data</b> <br/> Given the limited number of labeled plots available, we will use most of the labeled items for the training set. We will keep five plots as the testing set to evaluate the model (alternatively, we may use the entire dataset and assess labeling quality across the final labeled set) </li>\n",
    "    <li><b>Final Dataset</b>  <br/> We will apply the model to label the entire dataset and review the quality of the labels.</li>\n",
    "</ul>\n",
    "\n",
    "## Model\n",
    "\n",
    "We will use the GPT-4o-mini model \\\n",
    "https://platform.openai.com/docs/overview \\\n",
    "https://platform.openai.com/docs/models#gpt-4o-mini\n",
    "\n",
    "### reference\n",
    "\n",
    "\n",
    "https://platform.openai.com/docs/guides/prompt-engineering \\\n",
    "https://medium.com/discovery-at-nesta/how-to-use-gpt-4-and-openais-functions-for-text-classification-ad0957be9b25 \\\n",
    "\n"
   ]
  },
  {
   "cell_type": "markdown",
   "id": "baf91d5c-5c11-4011-9ab9-f3ec93a21322",
   "metadata": {},
   "source": [
    "### Imports"
   ]
  },
  {
   "cell_type": "code",
   "execution_count": 39,
   "id": "fd68589e-581f-425d-ae77-f499569e7d6b",
   "metadata": {},
   "outputs": [],
   "source": [
    "import sys\n",
    "import os\n",
    "import pandas as pd\n",
    "import matplotlib.pyplot as plt\n",
    "import seaborn as sns\n",
    "import numpy as np\n",
    "import math\n",
    "from sklearn.model_selection import train_test_split\n",
    "from sklearn import metrics\n",
    "\n",
    "%matplotlib inline"
   ]
  },
  {
   "cell_type": "code",
   "execution_count": 40,
   "id": "933d6ef4-39e2-4421-a5ed-a5071a63eb08",
   "metadata": {},
   "outputs": [],
   "source": [
    "# Add the project root directory (not src) to sys.path\n",
    "sys.path.append(os.path.abspath(\"../data/\"))\n",
    "\n",
    "# Now import the DataLoader class\n",
    "from data_loading import DataLoader\n",
    "\n",
    "raw = '../../data/RAW/'\n",
    "clean = '../../data/CLEAN'"
   ]
  },
  {
   "cell_type": "markdown",
   "id": "981aed4f-5397-4b14-abec-711e8318f8ad",
   "metadata": {},
   "source": [
    "## Load and prepare the data"
   ]
  },
  {
   "cell_type": "code",
   "execution_count": 41,
   "id": "2952f26a-97ec-474e-8c5a-f99f942b23b6",
   "metadata": {
    "scrolled": true
   },
   "outputs": [
    {
     "name": "stdout",
     "output_type": "stream",
     "text": [
      "\n",
      "load plot data\n",
      "\n"
     ]
    }
   ],
   "source": [
    "#load the data\n",
    "data_loader = DataLoader(raw,clean)\n",
    "CleanData = data_loader.clean_movie_data()\n",
    "PlotData = data_loader.plot_data()"
   ]
  },
  {
   "cell_type": "code",
   "execution_count": 42,
   "id": "dbe60af0-6e8a-46fd-aac6-e34ba9f2c740",
   "metadata": {},
   "outputs": [
    {
     "data": {
      "text/html": [
       "<div>\n",
       "<style scoped>\n",
       "    .dataframe tbody tr th:only-of-type {\n",
       "        vertical-align: middle;\n",
       "    }\n",
       "\n",
       "    .dataframe tbody tr th {\n",
       "        vertical-align: top;\n",
       "    }\n",
       "\n",
       "    .dataframe thead th {\n",
       "        text-align: right;\n",
       "    }\n",
       "</style>\n",
       "<table border=\"1\" class=\"dataframe\">\n",
       "  <thead>\n",
       "    <tr style=\"text-align: right;\">\n",
       "      <th></th>\n",
       "      <th>Violence level</th>\n",
       "      <th>Label</th>\n",
       "    </tr>\n",
       "  </thead>\n",
       "  <tbody>\n",
       "    <tr>\n",
       "      <th>0</th>\n",
       "      <td>Peaceful</td>\n",
       "      <td>-1</td>\n",
       "    </tr>\n",
       "    <tr>\n",
       "      <th>1</th>\n",
       "      <td>Mild</td>\n",
       "      <td>0</td>\n",
       "    </tr>\n",
       "    <tr>\n",
       "      <th>2</th>\n",
       "      <td>Violent</td>\n",
       "      <td>1</td>\n",
       "    </tr>\n",
       "  </tbody>\n",
       "</table>\n",
       "</div>"
      ],
      "text/plain": [
       "  Violence level  Label\n",
       "0       Peaceful     -1\n",
       "1           Mild      0\n",
       "2        Violent      1"
      ]
     },
     "metadata": {},
     "output_type": "display_data"
    },
    {
     "data": {
      "text/html": [
       "<div>\n",
       "<style scoped>\n",
       "    .dataframe tbody tr th:only-of-type {\n",
       "        vertical-align: middle;\n",
       "    }\n",
       "\n",
       "    .dataframe tbody tr th {\n",
       "        vertical-align: top;\n",
       "    }\n",
       "\n",
       "    .dataframe thead th {\n",
       "        text-align: right;\n",
       "    }\n",
       "</style>\n",
       "<table border=\"1\" class=\"dataframe\">\n",
       "  <thead>\n",
       "    <tr style=\"text-align: right;\">\n",
       "      <th></th>\n",
       "      <th>Answer</th>\n",
       "    </tr>\n",
       "    <tr>\n",
       "      <th>Wikipedia movie ID</th>\n",
       "      <th></th>\n",
       "    </tr>\n",
       "  </thead>\n",
       "  <tbody>\n",
       "    <tr>\n",
       "      <th>113454</th>\n",
       "      <td>0</td>\n",
       "    </tr>\n",
       "    <tr>\n",
       "      <th>909664</th>\n",
       "      <td>1</td>\n",
       "    </tr>\n",
       "    <tr>\n",
       "      <th>1028671</th>\n",
       "      <td>0</td>\n",
       "    </tr>\n",
       "    <tr>\n",
       "      <th>1336564</th>\n",
       "      <td>0</td>\n",
       "    </tr>\n",
       "    <tr>\n",
       "      <th>1472852</th>\n",
       "      <td>-1</td>\n",
       "    </tr>\n",
       "  </tbody>\n",
       "</table>\n",
       "</div>"
      ],
      "text/plain": [
       "                    Answer\n",
       "Wikipedia movie ID        \n",
       "113454                   0\n",
       "909664                   1\n",
       "1028671                  0\n",
       "1336564                  0\n",
       "1472852                 -1"
      ]
     },
     "metadata": {},
     "output_type": "display_data"
    }
   ],
   "source": [
    "#load the labelled data\n",
    "ViolentLabel,ViolentData = data_loader.human_labelled_data()\n",
    "display(ViolentLabel.drop([\"Unnamed: 0\"],axis = 1))\n",
    "display(ViolentData.head())"
   ]
  },
  {
   "cell_type": "code",
   "execution_count": 43,
   "id": "0838f0fa-9ed2-4105-aa28-7c476af5de52",
   "metadata": {},
   "outputs": [
    {
     "name": "stdout",
     "output_type": "stream",
     "text": [
      "Number of test point : 146\n"
     ]
    },
    {
     "data": {
      "text/html": [
       "<div>\n",
       "<style scoped>\n",
       "    .dataframe tbody tr th:only-of-type {\n",
       "        vertical-align: middle;\n",
       "    }\n",
       "\n",
       "    .dataframe tbody tr th {\n",
       "        vertical-align: top;\n",
       "    }\n",
       "\n",
       "    .dataframe thead th {\n",
       "        text-align: right;\n",
       "    }\n",
       "</style>\n",
       "<table border=\"1\" class=\"dataframe\">\n",
       "  <thead>\n",
       "    <tr style=\"text-align: right;\">\n",
       "      <th></th>\n",
       "      <th>Answer</th>\n",
       "      <th>Plot</th>\n",
       "    </tr>\n",
       "    <tr>\n",
       "      <th>Wikipedia movie ID</th>\n",
       "      <th></th>\n",
       "      <th></th>\n",
       "    </tr>\n",
       "  </thead>\n",
       "  <tbody>\n",
       "    <tr>\n",
       "      <th>113454</th>\n",
       "      <td>0</td>\n",
       "      <td>The film tells the story of a mob hit man  and...</td>\n",
       "    </tr>\n",
       "    <tr>\n",
       "      <th>909664</th>\n",
       "      <td>1</td>\n",
       "      <td>The film follows the personal relationship bet...</td>\n",
       "    </tr>\n",
       "    <tr>\n",
       "      <th>1028671</th>\n",
       "      <td>0</td>\n",
       "      <td>According to Devil's Playground, at the age of...</td>\n",
       "    </tr>\n",
       "    <tr>\n",
       "      <th>1336564</th>\n",
       "      <td>0</td>\n",
       "      <td>Jim Slater , is in search of stolen money, to ...</td>\n",
       "    </tr>\n",
       "    <tr>\n",
       "      <th>1472852</th>\n",
       "      <td>-1</td>\n",
       "      <td>David \"Dave\" Whiteman  and his wife, Barbara, ...</td>\n",
       "    </tr>\n",
       "  </tbody>\n",
       "</table>\n",
       "</div>"
      ],
      "text/plain": [
       "                    Answer                                               Plot\n",
       "Wikipedia movie ID                                                           \n",
       "113454                   0  The film tells the story of a mob hit man  and...\n",
       "909664                   1  The film follows the personal relationship bet...\n",
       "1028671                  0  According to Devil's Playground, at the age of...\n",
       "1336564                  0  Jim Slater , is in search of stolen money, to ...\n",
       "1472852                 -1  David \"Dave\" Whiteman  and his wife, Barbara, ..."
      ]
     },
     "execution_count": 43,
     "metadata": {},
     "output_type": "execute_result"
    }
   ],
   "source": [
    "TestSet = pd.merge(ViolentData,PlotData, left_index=True,right_index=True, how = \"inner\")\n",
    "print(\"Number of test point :\",TestSet.shape[0])\n",
    "TestSet.head()"
   ]
  },
  {
   "cell_type": "code",
   "execution_count": 44,
   "id": "568c7b94-b1d7-4367-b10b-c095824ab06f",
   "metadata": {},
   "outputs": [
    {
     "data": {
      "text/plain": [
       "'The film tells the story of a mob hit man  and hit woman  who fall in love, even though they have been hired to kill each other.'"
      ]
     },
     "execution_count": 44,
     "metadata": {},
     "output_type": "execute_result"
    }
   ],
   "source": [
    "TestSet.iloc[0][\"Plot\"]"
   ]
  },
  {
   "cell_type": "code",
   "execution_count": 45,
   "id": "8386a2de-5664-46e4-86a1-e419fcc24f6a",
   "metadata": {},
   "outputs": [
    {
     "name": "stdout",
     "output_type": "stream",
     "text": [
      "116\n",
      "30\n"
     ]
    }
   ],
   "source": [
    "fraction = 0.2\n",
    "\n",
    "# Split the data between train and validation\n",
    "TrainingSet,ValidationSet = train_test_split(TestSet, test_size=fraction, random_state=21)\n",
    "\n",
    "print(TrainingSet.shape[0])\n",
    "print(ValidationSet.shape[0])"
   ]
  },
  {
   "cell_type": "code",
   "execution_count": 46,
   "id": "68e6d798-b426-46e0-b9bc-56206de96684",
   "metadata": {},
   "outputs": [
    {
     "data": {
      "text/html": [
       "<div>\n",
       "<style scoped>\n",
       "    .dataframe tbody tr th:only-of-type {\n",
       "        vertical-align: middle;\n",
       "    }\n",
       "\n",
       "    .dataframe tbody tr th {\n",
       "        vertical-align: top;\n",
       "    }\n",
       "\n",
       "    .dataframe thead th {\n",
       "        text-align: right;\n",
       "    }\n",
       "</style>\n",
       "<table border=\"1\" class=\"dataframe\">\n",
       "  <thead>\n",
       "    <tr style=\"text-align: right;\">\n",
       "      <th></th>\n",
       "      <th>Answer</th>\n",
       "      <th>Plot</th>\n",
       "    </tr>\n",
       "    <tr>\n",
       "      <th>Wikipedia movie ID</th>\n",
       "      <th></th>\n",
       "      <th></th>\n",
       "    </tr>\n",
       "  </thead>\n",
       "  <tbody>\n",
       "    <tr>\n",
       "      <th>14168925</th>\n",
       "      <td>1</td>\n",
       "      <td>Cops take sexual advantage of the men they pul...</td>\n",
       "    </tr>\n",
       "    <tr>\n",
       "      <th>26057620</th>\n",
       "      <td>0</td>\n",
       "      <td>Yugoslav partisans grimly crop the hair of a v...</td>\n",
       "    </tr>\n",
       "    <tr>\n",
       "      <th>26015405</th>\n",
       "      <td>0</td>\n",
       "      <td>Tharadas is a ruthless smuggler whose uncle wa...</td>\n",
       "    </tr>\n",
       "    <tr>\n",
       "      <th>34954266</th>\n",
       "      <td>-1</td>\n",
       "      <td>The genesis and metamorphoses of a film, from ...</td>\n",
       "    </tr>\n",
       "    <tr>\n",
       "      <th>15217227</th>\n",
       "      <td>-1</td>\n",
       "      <td>An erotic drama about a writer involved in a p...</td>\n",
       "    </tr>\n",
       "  </tbody>\n",
       "</table>\n",
       "</div>"
      ],
      "text/plain": [
       "                    Answer                                               Plot\n",
       "Wikipedia movie ID                                                           \n",
       "14168925                 1  Cops take sexual advantage of the men they pul...\n",
       "26057620                 0  Yugoslav partisans grimly crop the hair of a v...\n",
       "26015405                 0  Tharadas is a ruthless smuggler whose uncle wa...\n",
       "34954266                -1  The genesis and metamorphoses of a film, from ...\n",
       "15217227                -1  An erotic drama about a writer involved in a p..."
      ]
     },
     "execution_count": 46,
     "metadata": {},
     "output_type": "execute_result"
    }
   ],
   "source": [
    "TrainingSet.head()"
   ]
  },
  {
   "cell_type": "markdown",
   "id": "82756d24-f692-43cb-86e2-be03c7cc65f9",
   "metadata": {},
   "source": [
    "## LLM - GPT-4-mini"
   ]
  },
  {
   "cell_type": "code",
   "execution_count": 47,
   "id": "75e6e858-0467-44e1-9319-e97ed89bd630",
   "metadata": {},
   "outputs": [],
   "source": [
    "# Now import the Classifier class\n",
    "sys.path.append(os.path.abspath(\"../model/\"))\n",
    "\n",
    "#import the custom classifier from src/model !\n",
    "from OpenIA_utility import GPT4mini_ViolenceClassifier"
   ]
  },
  {
   "cell_type": "markdown",
   "id": "06776b7a-ae88-4f82-ad28-df645495be45",
   "metadata": {
    "jp-MarkdownHeadingCollapsed": true
   },
   "source": [
    "### Prompt Ingenieurring\n",
    "\n",
    "We developed a prompt for the classification task. \\\n",
    "The prompt contains a clear violence scale, where each label (Peaceful,Mild,Violent) in explained, and a clear instruction.\n",
    "\n",
    "To help the model to perform, we add examples."
   ]
  },
  {
   "cell_type": "code",
   "execution_count": 48,
   "id": "a6adc7d6-a671-423b-9e55-6c914b80eac9",
   "metadata": {},
   "outputs": [],
   "source": [
    "#init our classifier\n",
    "Classifier = GPT4mini_ViolenceClassifier()"
   ]
  },
  {
   "cell_type": "code",
   "execution_count": 49,
   "id": "41f67d0c-5e42-46db-a26f-134a5f63ee53",
   "metadata": {
    "scrolled": true
   },
   "outputs": [
    {
     "name": "stdout",
     "output_type": "stream",
     "text": [
      "### Violence scale : ###\n",
      "        - **Peaceful**: The text describes no physical or psychological violence. There are no aggression, conflict, or harm to people or animals. Suitable for all audiences.\n",
      "        - **Mild**: The level of violence is medium or uncertain. There might be moments of tension or mild conflict, such as arguments. Mild action or suspense is allowed.\n",
      "        - **Violent**: The text describe extreme physical or psychological violence, such as physical aggression, conflict, or harm. Scenes may include fighting, injury, rape. It a prominent feature of the film.\n",
      "\n",
      "### Instructions ###\n",
      "Assign a level of violence to each plot movie plot below. Respond with a dictionary where the keys are the plot numbers (e.g., 'plot1', 'plot2') and the values are the levels of violence ('Peaceful', 'Mild', 'Violent')\n"
     ]
    }
   ],
   "source": [
    "print(Classifier.Content)"
   ]
  },
  {
   "cell_type": "code",
   "execution_count": 50,
   "id": "19cbe931-3def-42ef-bf32-5cf556edb339",
   "metadata": {
    "scrolled": true
   },
   "outputs": [
    {
     "name": "stdout",
     "output_type": "stream",
     "text": [
      "Here are some examples for each label :\n",
      "        - **Peaceful**: plot1 :'norma and malcolm miochaels are a middle-aged married couple who are in the midst of a midlife crisis. both decide to separate and begin their lives anew away from each other. however, problems ensue once they discover that they are no longer as young as they used to be.'\n",
      "        plot2:'in the 1840s, two sisters fall in love with the same man. while drunk, the man writes a letter proposing marriage to the wrong one.'\n",
      "        - **Mild**: plot1:'set in the 19th century, the plot centered around a man  who is falsely accused murder. the other side of the door was shot in monterrey, mexico.{{cite web}}'\n",
      "        plot2:'in a desperate, but not-too-courageous, attempt to end his life, a man hires a murderer to do the job for him. soon, though, things are looking better and the he must now avoid the hit.'\n",
      "        - **Violent**: plot1:'Richard Beck  is a police detective who believed that rape victims are to blame for the crime. He is later raped by two of the suspects he had been chasing. Ultimately, he changes his beliefs about rape victims. This made for TV movie was groundbreaking in that it portrayed the rape of a man by two other men, and because of this it has become a cult classic.'\n",
      "        plot2:'newlywed carl  goes to war where he endures major suffering. back home, wife pauli  starves, becomes a prostitute to survive, and their baby dies.'\n",
      "        \n"
     ]
    }
   ],
   "source": [
    "print(Classifier.Example)"
   ]
  },
  {
   "cell_type": "markdown",
   "id": "9d40eab7-e059-4d42-a8ff-4e2d81caec36",
   "metadata": {},
   "source": [
    "To ensure the model return the result in the good format, we developed a function.\n",
    "\n",
    "The final function is :\n",
    "\n",
    "```ruby\n",
    "        self.function = {\n",
    "           \"name\": \"Assign_violence_level\",\n",
    "           \"description\": \"Predict the level of violence of a list of movie plots\",\n",
    "           \"parameters\": {\n",
    "               \"type\": \"object\",\n",
    "               \"properties\": {\n",
    "                   \"prediction\": {\n",
    "                       \"type\": \"array\",\n",
    "                       \"items\": {\n",
    "                           \"type\": \"string\",\n",
    "                           \"enum\": [\n",
    "                               \"Peaceful\",\n",
    "                               \"Mild\",\n",
    "                               \"Violent\"\n",
    "                           ]\n",
    "                       },\n",
    "                       \"description\": \"The list of violence levels for each movie plot, in the same order as the plots were provided.\"\n",
    "                   }\n",
    "               },\n",
    "               \"required\": [\n",
    "                   \"prediction\"\n",
    "               ]\n",
    "           }\n",
    "        }\n",
    "\n",
    "```\n",
    "\n",
    "The model have to return a array of prediction, one for each plot."
   ]
  },
  {
   "cell_type": "markdown",
   "id": "dc631abc-2b79-44a5-97e7-4c4e46f01737",
   "metadata": {
    "jp-MarkdownHeadingCollapsed": true
   },
   "source": [
    "### Verify the number of tokens\n",
    "\n",
    "The model have a maximum number of input tokens ! For our model, the limit is 128000 tokens. For cod efficiency (and money), we would like to avoid having to loop on each plot and recalling the prompt every time. We will look at the number of token to see how many plots we can put at the time. \n",
    "\n",
    "We implemented a function that tokenize a text in the same way as the model and return the number of token and the pricing."
   ]
  },
  {
   "cell_type": "code",
   "execution_count": 51,
   "id": "63ebec5f-5b59-4bbc-9178-6c79b4feb627",
   "metadata": {
    "scrolled": true
   },
   "outputs": [
    {
     "name": "stdout",
     "output_type": "stream",
     "text": [
      "For the prompt we have 519 tokens, pricing : 7.785e-05\n",
      "For the test dataset we have 9775 tokens, pricing : 0.0013884 batch 1\n",
      "For the whole dataset we have 8419540 tokens, pricing : 1.26814695 batch 67\n"
     ]
    }
   ],
   "source": [
    "# Count for the prompt (and example)\n",
    "TotalPromt = Classifier.Prompt_size\n",
    "print(\"For the prompt we have\",TotalPromt,\"tokens, pricing :\",TotalPromt*Classifier.pricing)\n",
    "\n",
    "# Count for the test set\n",
    "TotalTest = TestSet[\"Plot\"].apply(Classifier.count_tokens).sum()\n",
    "print(\"For the test dataset we have\",TotalTest+TotalPromt,\"tokens, pricing :\",TotalTest*Classifier.pricing,\"batch\",int(TotalTest/(Classifier.max_input-TotalPromt)+1))\n",
    "\n",
    "# Count for the whole dataset\n",
    "TotalData = CleanData[\"Plot\"].apply(Classifier.count_tokens).sum()\n",
    "batch = int(TotalData/(Classifier.max_input-TotalPromt))+1\n",
    "print(\"For the whole dataset we have\",TotalData,\"tokens, pricing :\",(TotalData+batch*TotalPromt)*Classifier.pricing,\"batch\",batch)"
   ]
  },
  {
   "cell_type": "markdown",
   "id": "741bc6a5-f2f0-4ba2-8ff9-306bec27ddd0",
   "metadata": {},
   "source": [
    "Will need to split the data into batchs."
   ]
  },
  {
   "cell_type": "markdown",
   "id": "6470580c-7749-4acd-993a-c3201127fbb8",
   "metadata": {},
   "source": [
    "### Create Batch"
   ]
  },
  {
   "cell_type": "markdown",
   "id": "6279af76-5aa7-4e7d-9ac6-f30b84ddd409",
   "metadata": {},
   "source": [
    "As we send multiple plot at the time, we need to format them together in a way the model can understand. Here an example :"
   ]
  },
  {
   "cell_type": "code",
   "execution_count": 52,
   "id": "e1e9b480-bb1f-46f7-99a1-01f1e98d8b49",
   "metadata": {},
   "outputs": [
    {
     "data": {
      "text/plain": [
       "'Cops take sexual advantage of the men they pull over on the beat. A newbie cop is forced to choose between his emotions and his ambition.'"
      ]
     },
     "execution_count": 52,
     "metadata": {},
     "output_type": "execute_result"
    }
   ],
   "source": [
    "TrainingSet.iloc[0][\"Plot\"]"
   ]
  },
  {
   "cell_type": "code",
   "execution_count": 53,
   "id": "d2361ebc-5fad-4ae6-99ae-0de46e01ed62",
   "metadata": {},
   "outputs": [
    {
     "data": {
      "text/plain": [
       "'plot0:Cops take sexual advantage of the men they pull over on the beat. A newbie cop is forced to choose between his emotions and his ambition.\\n\\n'"
      ]
     },
     "execution_count": 53,
     "metadata": {},
     "output_type": "execute_result"
    }
   ],
   "source": [
    "#first parameter is the number of the plot, second is the text\n",
    "Classifier.format_plot(0,TrainingSet.iloc[0][\"Plot\"])"
   ]
  },
  {
   "cell_type": "markdown",
   "id": "da7be3d3-21f3-402a-87c7-4f5c192e6530",
   "metadata": {},
   "source": [
    "Batch yes but how to create them ? We need each batch size to be smaller than the model's limit. We implemented a function that combine the prompt and the formatted plot, and add them until it reach the limit. The function return the ID of the first plot of each batch."
   ]
  },
  {
   "cell_type": "code",
   "execution_count": 54,
   "id": "e811137d-95c7-425a-ab79-74c6ed4251ce",
   "metadata": {},
   "outputs": [
    {
     "name": "stdout",
     "output_type": "stream",
     "text": [
      "size 519\n",
      "Final number of batchs 1\n"
     ]
    },
    {
     "data": {
      "text/plain": [
       "[0]"
      ]
     },
     "execution_count": 54,
     "metadata": {},
     "output_type": "execute_result"
    }
   ],
   "source": [
    "#for the test set (no batch needed)\n",
    "Classifier.batch_plots(TestSet)\n",
    "\n",
    "#for the dataset !\n",
    "#clean_batch = Classifier.batch_plots(CleanData)"
   ]
  },
  {
   "cell_type": "markdown",
   "id": "6569cab9-c3fb-4aef-899c-cb2d6709deb8",
   "metadata": {},
   "source": [
    "### Assess the model on the training set\n",
    "Here we go ! Now we will call the model on the test set and compare the result with the human labelled data. Note that we don't have to train the data, but we still split the test data between train and validation. This is because we went to have a set of labelled data to compare the result with during the prompt fine-tuning and all the test of the model. We still want to have a dataset the model have never seen to test at the end with the final model. If the result is good enough, we will label all the dataset."
   ]
  },
  {
   "cell_type": "code",
   "execution_count": 55,
   "id": "9d0f0901-b8a5-46cb-a412-fb5f18a18528",
   "metadata": {},
   "outputs": [],
   "source": [
    "#just a firewall boolean to avoid running the model by accident\n",
    "Run_test = False"
   ]
  },
  {
   "cell_type": "markdown",
   "id": "51b6b2fe-e490-411d-a368-906d0efe08f0",
   "metadata": {},
   "source": [
    "Here is the format of the final call of the model\n",
    "\n",
    "```ruby\n",
    "    completion = self.client.chat.completions.create(\n",
    "        model=\"gpt-4o-mini\",\n",
    "        messages=[\n",
    "            {\"role\": \"system\", \"content\": self.Content},\n",
    "            {\"role\": \"user\",\"content\": Text},\n",
    "            {\"role\": \"assistant\", \"content\": self.Example}\n",
    "        ],\n",
    "        functions=[self.function],\n",
    "        function_call={\"name\": \"Assign_violence_level\"},\n",
    "    )\n",
    "```"
   ]
  },
  {
   "cell_type": "markdown",
   "id": "a5f30c5a-b62e-4c05-a4d0-79ed2e371ead",
   "metadata": {},
   "source": [
    "We format the batch"
   ]
  },
  {
   "cell_type": "code",
   "execution_count": 56,
   "id": "5e5825e1-8e6d-4fed-8c89-14f1880c4847",
   "metadata": {},
   "outputs": [
    {
     "data": {
      "text/plain": [
       "\"plot1:Cops take sexual advantage of the men they pull over on the beat. A newbie cop is forced to choose between his emotions and his ambition.\\n\\nplot2:Yugoslav partisans grimly crop the hair of a village quintet of women believed to have consorted with the occupational Nazis. Four, for various reasons, have indeed - and their seducer is a lone, swaggering sergeant whom the partisans briskly emasculate. Escorted out of town by the sheepish Nazis, the forlorn ladies link up, patriotically and romantically, with a band of tough mountain guerrillas.\\n\\nplot3:Tharadas is a ruthless smuggler whose uncle was murdered by Rajesh. Rajesh is married to Thulasi who has dark past with Tharadas. Tharadas's cousin kills Rajesh and accuses Tharadas of the murder. Rajesh's partner Prasad and Thulasi get revenge on Tharadas, and Tharadas kills Chandu in turn. This film broke several Box Office Records and was the 3rd highest grosser in 1984. {{citation needed}}\\n\\n\""
      ]
     },
     "execution_count": 56,
     "metadata": {},
     "output_type": "execute_result"
    }
   ],
   "source": [
    "Classifier.format_batch(TrainingSet[0:3])"
   ]
  },
  {
   "cell_type": "markdown",
   "id": "5f011640-e640-4917-9edf-721ae2b09968",
   "metadata": {},
   "source": [
    "We will also make smaller batch to improve the predictions."
   ]
  },
  {
   "cell_type": "code",
   "execution_count": 57,
   "id": "fe1bab2f-2b5b-487f-9d8c-f195bdfe69ff",
   "metadata": {},
   "outputs": [
    {
     "name": "stdout",
     "output_type": "stream",
     "text": [
      "finish!\n"
     ]
    }
   ],
   "source": [
    "prediction = []\n",
    "BatchSize = 10\n",
    "\n",
    "if Run_test :\n",
    "    for i in range(0,int(TrainingSet.shape[0]/BatchSize)+1) :\n",
    "        thisBatch = Classifier.format_batch(TrainingSet[i*BatchSize:min((i+1)*BatchSize,TrainingSet.shape[0])])\n",
    "        pred = Classifier.Call_API(thisBatch)\n",
    "        #print(\"pred\",len(pred))\n",
    "        prediction = prediction + pred\n",
    "print(\"finish!\")"
   ]
  },
  {
   "cell_type": "code",
   "execution_count": 58,
   "id": "414dc2f1-d945-4574-82e0-8b17b6a25f5b",
   "metadata": {},
   "outputs": [
    {
     "name": "stdout",
     "output_type": "stream",
     "text": [
      "[]\n"
     ]
    }
   ],
   "source": [
    "print(prediction)"
   ]
  },
  {
   "cell_type": "code",
   "execution_count": 59,
   "id": "90257519-8ee7-4111-8107-4d453a8c77d5",
   "metadata": {},
   "outputs": [],
   "source": [
    "if Run_test :\n",
    "    Compare = pd.DataFrame(prediction,index=TrainingSet.index, columns=[\"Result\"])\n",
    "    \n",
    "    def to_level(data) :\n",
    "        match data:\n",
    "            case 'Peaceful':\n",
    "                return -1.0\n",
    "            case 'Mild':\n",
    "                return 0.0\n",
    "            case 'Violent':\n",
    "                return 1.0\n",
    "            case _:\n",
    "                raise Exception(\"wait is that ?\",data)\n",
    "    \n",
    "    Compare[\"Prediction\"] = Compare[\"Result\"].apply(to_level)\n",
    "    \n",
    "    Compare[\"Label\"] = TrainingSet[\"Answer\"]\n",
    "    Compare.head()"
   ]
  },
  {
   "cell_type": "code",
   "execution_count": 60,
   "id": "23920262-3c75-42bb-829c-9ade876df787",
   "metadata": {},
   "outputs": [],
   "source": [
    "if Run_test:\n",
    "    name = \"model_1_training\"\n",
    "    Compare.to_csv(clean+\"/classification_result/\"+name+\".csv\")"
   ]
  },
  {
   "cell_type": "code",
   "execution_count": 61,
   "id": "76f14c3c-d4d3-4f93-aa1b-7ba1626b7b1c",
   "metadata": {},
   "outputs": [],
   "source": [
    "Compare = pd.read_csv(clean+\"/classification_result/model_1_training.csv\")\n",
    "Run_test = False"
   ]
  },
  {
   "cell_type": "code",
   "execution_count": 62,
   "id": "f89558a4-8667-4c2e-845a-ef8249e2615a",
   "metadata": {},
   "outputs": [
    {
     "name": "stdout",
     "output_type": "stream",
     "text": [
      "accuracy 66.37931034482759\n",
      "abs distance 0.35344827586206895\n",
      "pow distance 0.3879310344827586\n",
      "Correct label 77\n",
      "incorrect but close 37\n",
      "opposite 2\n"
     ]
    }
   ],
   "source": [
    "accuracy = metrics.accuracy_score(Compare[\"Label\"],Compare[\"Prediction\"])\n",
    "print(\"accuracy\",accuracy*100)\n",
    "    \n",
    "m1 = abs(Compare[\"Label\"]-Compare[\"Prediction\"]).mean()\n",
    "print(\"abs distance\",m1)\n",
    "    \n",
    "    #penalize more if opposite result \n",
    "m2 = np.power(Compare[\"Label\"]-Compare[\"Prediction\"], 2).mean()\n",
    "print(\"pow distance\",m2)\n",
    "    \n",
    "print(\"Correct label\",(Compare[\"Label\"]==Compare[\"Prediction\"]).sum())\n",
    "print(\"incorrect but close\",(abs(Compare[\"Label\"]-Compare[\"Prediction\"])==1).sum())\n",
    "print(\"opposite\",(abs(Compare[\"Label\"]-Compare[\"Prediction\"])==2).sum())"
   ]
  },
  {
   "cell_type": "code",
   "execution_count": 63,
   "id": "953a423a-f089-4b35-8240-ef32222302c5",
   "metadata": {},
   "outputs": [
    {
     "data": {
      "text/html": [
       "<div>\n",
       "<style scoped>\n",
       "    .dataframe tbody tr th:only-of-type {\n",
       "        vertical-align: middle;\n",
       "    }\n",
       "\n",
       "    .dataframe tbody tr th {\n",
       "        vertical-align: top;\n",
       "    }\n",
       "\n",
       "    .dataframe thead th {\n",
       "        text-align: right;\n",
       "    }\n",
       "</style>\n",
       "<table border=\"1\" class=\"dataframe\">\n",
       "  <thead>\n",
       "    <tr style=\"text-align: right;\">\n",
       "      <th></th>\n",
       "      <th>Wikipedia movie ID</th>\n",
       "      <th>Result</th>\n",
       "      <th>Prediction</th>\n",
       "      <th>Label</th>\n",
       "    </tr>\n",
       "  </thead>\n",
       "  <tbody>\n",
       "    <tr>\n",
       "      <th>1</th>\n",
       "      <td>26057620</td>\n",
       "      <td>Violent</td>\n",
       "      <td>1.0</td>\n",
       "      <td>0</td>\n",
       "    </tr>\n",
       "    <tr>\n",
       "      <th>2</th>\n",
       "      <td>26015405</td>\n",
       "      <td>Violent</td>\n",
       "      <td>1.0</td>\n",
       "      <td>0</td>\n",
       "    </tr>\n",
       "    <tr>\n",
       "      <th>7</th>\n",
       "      <td>34319106</td>\n",
       "      <td>Peaceful</td>\n",
       "      <td>-1.0</td>\n",
       "      <td>0</td>\n",
       "    </tr>\n",
       "    <tr>\n",
       "      <th>10</th>\n",
       "      <td>34573784</td>\n",
       "      <td>Mild</td>\n",
       "      <td>0.0</td>\n",
       "      <td>1</td>\n",
       "    </tr>\n",
       "    <tr>\n",
       "      <th>12</th>\n",
       "      <td>33440196</td>\n",
       "      <td>Peaceful</td>\n",
       "      <td>-1.0</td>\n",
       "      <td>0</td>\n",
       "    </tr>\n",
       "  </tbody>\n",
       "</table>\n",
       "</div>"
      ],
      "text/plain": [
       "    Wikipedia movie ID    Result  Prediction  Label\n",
       "1             26057620   Violent         1.0      0\n",
       "2             26015405   Violent         1.0      0\n",
       "7             34319106  Peaceful        -1.0      0\n",
       "10            34573784      Mild         0.0      1\n",
       "12            33440196  Peaceful        -1.0      0"
      ]
     },
     "metadata": {},
     "output_type": "display_data"
    }
   ],
   "source": [
    "display(Compare[(abs(Compare[\"Label\"]-Compare[\"Prediction\"])==1)].head())"
   ]
  },
  {
   "cell_type": "code",
   "execution_count": 89,
   "id": "9b15a794-0d38-4d14-baf8-dc750fd8f2a7",
   "metadata": {},
   "outputs": [
    {
     "data": {
      "text/html": [
       "<div>\n",
       "<style scoped>\n",
       "    .dataframe tbody tr th:only-of-type {\n",
       "        vertical-align: middle;\n",
       "    }\n",
       "\n",
       "    .dataframe tbody tr th {\n",
       "        vertical-align: top;\n",
       "    }\n",
       "\n",
       "    .dataframe thead th {\n",
       "        text-align: right;\n",
       "    }\n",
       "</style>\n",
       "<table border=\"1\" class=\"dataframe\">\n",
       "  <thead>\n",
       "    <tr style=\"text-align: right;\">\n",
       "      <th></th>\n",
       "      <th>Result</th>\n",
       "      <th>Prediction</th>\n",
       "      <th>Label</th>\n",
       "      <th>distance</th>\n",
       "    </tr>\n",
       "    <tr>\n",
       "      <th>Wikipedia movie ID</th>\n",
       "      <th></th>\n",
       "      <th></th>\n",
       "      <th></th>\n",
       "      <th></th>\n",
       "    </tr>\n",
       "  </thead>\n",
       "  <tbody>\n",
       "    <tr>\n",
       "      <th>27573594</th>\n",
       "      <td>Peaceful</td>\n",
       "      <td>-1.0</td>\n",
       "      <td>1</td>\n",
       "      <td>2.0</td>\n",
       "    </tr>\n",
       "    <tr>\n",
       "      <th>2967223</th>\n",
       "      <td>Peaceful</td>\n",
       "      <td>-1.0</td>\n",
       "      <td>1</td>\n",
       "      <td>2.0</td>\n",
       "    </tr>\n",
       "  </tbody>\n",
       "</table>\n",
       "</div>"
      ],
      "text/plain": [
       "                      Result  Prediction  Label  distance\n",
       "Wikipedia movie ID                                       \n",
       "27573594            Peaceful        -1.0      1       2.0\n",
       "2967223             Peaceful        -1.0      1       2.0"
      ]
     },
     "metadata": {},
     "output_type": "display_data"
    }
   ],
   "source": [
    "display(Compare[(abs(Compare[\"Label\"]-Compare[\"Prediction\"])==2)])"
   ]
  },
  {
   "cell_type": "code",
   "execution_count": 91,
   "id": "42c5732f-05a3-4ec7-8893-7c24520e19bc",
   "metadata": {},
   "outputs": [
    {
     "data": {
      "text/html": [
       "<div>\n",
       "<style scoped>\n",
       "    .dataframe tbody tr th:only-of-type {\n",
       "        vertical-align: middle;\n",
       "    }\n",
       "\n",
       "    .dataframe tbody tr th {\n",
       "        vertical-align: top;\n",
       "    }\n",
       "\n",
       "    .dataframe thead th {\n",
       "        text-align: right;\n",
       "    }\n",
       "</style>\n",
       "<table border=\"1\" class=\"dataframe\">\n",
       "  <thead>\n",
       "    <tr style=\"text-align: right;\">\n",
       "      <th></th>\n",
       "      <th>Result</th>\n",
       "      <th>Prediction</th>\n",
       "      <th>Label</th>\n",
       "      <th>distance</th>\n",
       "    </tr>\n",
       "    <tr>\n",
       "      <th>Wikipedia movie ID</th>\n",
       "      <th></th>\n",
       "      <th></th>\n",
       "      <th></th>\n",
       "      <th></th>\n",
       "    </tr>\n",
       "  </thead>\n",
       "  <tbody>\n",
       "    <tr>\n",
       "      <th>14168925</th>\n",
       "      <td>Violent</td>\n",
       "      <td>1.0</td>\n",
       "      <td>1</td>\n",
       "      <td>0.0</td>\n",
       "    </tr>\n",
       "    <tr>\n",
       "      <th>26057620</th>\n",
       "      <td>Violent</td>\n",
       "      <td>1.0</td>\n",
       "      <td>0</td>\n",
       "      <td>1.0</td>\n",
       "    </tr>\n",
       "    <tr>\n",
       "      <th>26015405</th>\n",
       "      <td>Violent</td>\n",
       "      <td>1.0</td>\n",
       "      <td>0</td>\n",
       "      <td>1.0</td>\n",
       "    </tr>\n",
       "    <tr>\n",
       "      <th>34954266</th>\n",
       "      <td>Peaceful</td>\n",
       "      <td>-1.0</td>\n",
       "      <td>-1</td>\n",
       "      <td>0.0</td>\n",
       "    </tr>\n",
       "    <tr>\n",
       "      <th>15217227</th>\n",
       "      <td>Peaceful</td>\n",
       "      <td>-1.0</td>\n",
       "      <td>-1</td>\n",
       "      <td>0.0</td>\n",
       "    </tr>\n",
       "  </tbody>\n",
       "</table>\n",
       "</div>"
      ],
      "text/plain": [
       "                      Result  Prediction  Label  distance\n",
       "Wikipedia movie ID                                       \n",
       "14168925             Violent         1.0      1       0.0\n",
       "26057620             Violent         1.0      0       1.0\n",
       "26015405             Violent         1.0      0       1.0\n",
       "34954266            Peaceful        -1.0     -1       0.0\n",
       "15217227            Peaceful        -1.0     -1       0.0"
      ]
     },
     "execution_count": 91,
     "metadata": {},
     "output_type": "execute_result"
    }
   ],
   "source": [
    "Compare[\"distance\"] = abs(Compare[\"Label\"]-Compare[\"Prediction\"])\n",
    "Compare.head()"
   ]
  },
  {
   "cell_type": "code",
   "execution_count": 96,
   "id": "36ead1c3-bb22-4c9b-9a05-2bcde4f8f26f",
   "metadata": {},
   "outputs": [
    {
     "data": {
      "text/plain": [
       "distance\n",
       "0.0    77\n",
       "1.0    37\n",
       "2.0     2\n",
       "Name: count, dtype: int64"
      ]
     },
     "execution_count": 96,
     "metadata": {},
     "output_type": "execute_result"
    }
   ],
   "source": [
    "Compare[\"distance\"].value_counts()"
   ]
  },
  {
   "cell_type": "code",
   "execution_count": 93,
   "id": "48e2c2d6-5114-48c2-b6bd-d8d734300b87",
   "metadata": {},
   "outputs": [
    {
     "data": {
      "text/plain": [
       "Label  Result    Prediction  distance\n",
       "-1     Peaceful  -1.0        0.0         36\n",
       "       Mild       0.0        1.0          7\n",
       " 0     Mild       0.0        0.0         16\n",
       "       Peaceful  -1.0        1.0          9\n",
       "       Violent    1.0        1.0          9\n",
       " 1     Violent    1.0        0.0         25\n",
       "       Mild       0.0        1.0         12\n",
       "       Peaceful  -1.0        2.0          2\n",
       "Name: count, dtype: int64"
      ]
     },
     "execution_count": 93,
     "metadata": {},
     "output_type": "execute_result"
    }
   ],
   "source": [
    "Flourish = Compare.groupby(\"Label\").value_counts()\n",
    "Flourish"
   ]
  },
  {
   "cell_type": "code",
   "execution_count": 94,
   "id": "80d4cf95-4844-4921-a98a-07498f29b2b7",
   "metadata": {},
   "outputs": [],
   "source": [
    "Flourish.to_csv(clean+\"/classification_result/flourish.csv\")"
   ]
  },
  {
   "cell_type": "markdown",
   "id": "044499e1-c50f-43b7-a4a8-cd98066af992",
   "metadata": {},
   "source": [
    "<b>Testing history :</b>\n",
    "- <ins>first model</ins> 0.5% accuracy. It is not totally wrong but is usually close but not perfect. This could also be due to error during labelling. As we discussed, the notion of violence is complex. We should take this into account while labelling. We will try to improve the model accuracy by giving him typical *example*. Another problem is that with too much movie, the model forget some labels. we will return a *dictionary* instead of a list to associate the plot number to the returning class and ultimately reduce the *batch size*.\n",
    "- <ins>Add example to the prompt</ins> the result get a little better. however still a lot of incorrect but close response. Tend to consider more violent than expected. Adapt the class label.\n",
    "- <ins>Clearer definitions and smaller batch</ins> accuracy arroud 65%, likely to overestimate violence."
   ]
  },
  {
   "cell_type": "markdown",
   "id": "36371fba-e13a-4cd1-809a-d944b3397ee9",
   "metadata": {
    "jp-MarkdownHeadingCollapsed": true
   },
   "source": [
    "### Apply to the whole dataset"
   ]
  },
  {
   "cell_type": "code",
   "execution_count": 26,
   "id": "0157b9bb-abbe-436b-9cdb-b33779d1409f",
   "metadata": {},
   "outputs": [],
   "source": [
    "Run_final = False"
   ]
  },
  {
   "cell_type": "code",
   "execution_count": 27,
   "id": "69c8126c-89da-421d-b1f9-cc73f1041d37",
   "metadata": {
    "scrolled": true
   },
   "outputs": [
    {
     "data": {
      "text/plain": [
       "Wikipedia movie ID\n",
       "43307       2583\n",
       "3112996     1772\n",
       "2267722     1464\n",
       "12576808    1181\n",
       "6961461     1147\n",
       "            ... \n",
       "113454        31\n",
       "4278437       30\n",
       "14168925      29\n",
       "25105934      26\n",
       "19046062      24\n",
       "Name: Plot, Length: 100, dtype: int64"
      ]
     },
     "execution_count": 27,
     "metadata": {},
     "output_type": "execute_result"
    }
   ],
   "source": [
    "D = CleanData.iloc[400:500][\"Plot\"].apply(lambda x: Classifier.count_tokens(x))\n",
    "D.sort_values(ascending=False) #problem"
   ]
  },
  {
   "cell_type": "code",
   "execution_count": 28,
   "id": "84732713-b685-4f8e-ae80-7402b35b19ae",
   "metadata": {},
   "outputs": [
    {
     "data": {
      "text/plain": [
       "17064"
      ]
     },
     "execution_count": 28,
     "metadata": {},
     "output_type": "execute_result"
    }
   ],
   "source": [
    "CleanData.shape[0]"
   ]
  },
  {
   "cell_type": "code",
   "execution_count": 29,
   "id": "28d93854-eb89-4144-a950-19c01dace22a",
   "metadata": {},
   "outputs": [
    {
     "data": {
      "text/plain": [
       "1707"
      ]
     },
     "execution_count": 29,
     "metadata": {},
     "output_type": "execute_result"
    }
   ],
   "source": [
    "int(np.ceil(CleanData.shape[0]/BatchSize))"
   ]
  },
  {
   "cell_type": "code",
   "execution_count": 30,
   "id": "e5b52cf6-065d-42a4-98b5-27acfbafda73",
   "metadata": {},
   "outputs": [
    {
     "name": "stdout",
     "output_type": "stream",
     "text": [
      "finish!\n"
     ]
    }
   ],
   "source": [
    "prediction = []\n",
    "BatchSize = 10\n",
    "\n",
    "if Run_final :\n",
    "    for i in range(0,int(np.ceil(CleanData.shape[0]/BatchSize))) :\n",
    "        if i%10 == 0 :\n",
    "            print(\"Batch {}\".format(i))\n",
    "        thisBatch = Classifier.format_batch(CleanData[i*BatchSize:min((i+1)*BatchSize,CleanData.shape[0])])\n",
    "        pred = Classifier.Call_API(thisBatch)\n",
    "        #print(len(pred))\n",
    "        prediction = prediction + pred\n",
    "print(\"finish!\")"
   ]
  },
  {
   "cell_type": "code",
   "execution_count": 31,
   "id": "5046a91a-3d15-4c09-9736-c6d61b53d05a",
   "metadata": {},
   "outputs": [
    {
     "data": {
      "text/plain": [
       "0"
      ]
     },
     "execution_count": 31,
     "metadata": {},
     "output_type": "execute_result"
    }
   ],
   "source": [
    "len(prediction)"
   ]
  },
  {
   "cell_type": "code",
   "execution_count": 32,
   "id": "3d095723-1b33-40c8-b2a7-2ec7d8c16783",
   "metadata": {},
   "outputs": [],
   "source": [
    "if Run_final :\n",
    "    Result = pd.DataFrame(prediction,index=CleanData.index, columns=[\"Result\"])\n",
    "    \n",
    "    def to_level(data) :\n",
    "        match data:\n",
    "            case 'Peaceful':\n",
    "                return -1.0\n",
    "            case 'Mild':\n",
    "                return 0.0\n",
    "            case 'Violent':\n",
    "                return 1.0\n",
    "            case _:\n",
    "                raise Exception(\"wait is that ?\",data)\n",
    "    \n",
    "    Result[\"Prediction\"] = Result[\"Result\"].apply(to_level)\n",
    "    Result.head()"
   ]
  },
  {
   "cell_type": "code",
   "execution_count": 33,
   "id": "fcbfcd4e-a3f9-4e9d-a317-5f69cff06bf8",
   "metadata": {},
   "outputs": [],
   "source": [
    "if Run_final :\n",
    "    name = \"LLM_result\"\n",
    "    Result.to_csv(clean+\"/classification_result/\"+name+\".csv\")"
   ]
  },
  {
   "cell_type": "code",
   "execution_count": 34,
   "id": "b39c6c1f-cc2b-4404-b846-029fd9d4ba2d",
   "metadata": {},
   "outputs": [],
   "source": [
    "if Run_final :\n",
    "    Result[\"Prediction\"].value_counts()"
   ]
  },
  {
   "cell_type": "markdown",
   "id": "98ead01d-4323-467b-b5bc-dd1d0fdfc8b8",
   "metadata": {
    "jp-MarkdownHeadingCollapsed": true
   },
   "source": [
    "## Second LLM - Binary classification"
   ]
  },
  {
   "cell_type": "markdown",
   "id": "ad5a14a7-ea4f-41fc-a642-c951807045b6",
   "metadata": {},
   "source": [
    "Looking to the result, we decided to go for a binary classification. We adjusted the prompt to classify between violent and non-violent and pushed the description of violence more to a extreme. "
   ]
  },
  {
   "cell_type": "code",
   "execution_count": 35,
   "id": "53ffba84-27a4-4a99-b09a-f00f159b34f0",
   "metadata": {},
   "outputs": [],
   "source": [
    "# Now import the Classifier class\n",
    "sys.path.append(os.path.abspath(\"../model/\"))\n",
    "\n",
    "#import the custom classifier from src/model !\n",
    "from OpenIA_utility_binary import GPT4mini_ViolenceClassifier_extreme"
   ]
  },
  {
   "cell_type": "code",
   "execution_count": 36,
   "id": "dc2172e0-2637-4d70-aafa-8b18a8e2cb3a",
   "metadata": {},
   "outputs": [
    {
     "name": "stdout",
     "output_type": "stream",
     "text": [
      "### Violence scale : ###\n",
      "        - **Non-violent**: The text describes no extreme physical or psychological violence. There are no recurrent aggression, conflict, or harm to people or animals.\n",
      "        - **Violent**: The text describe extreme physical or psychological violence, such as physical aggression, conflict, or harm. Scenes may include fighting, injury, rape. It is a prominent feature of the film.\n",
      "\n",
      "### Instructions ###\n",
      "Classify each plot between violent and non-violent. Respond with a dictionary where the keys are the plot numbers (e.g., 'plot1', 'plot2') and the values are the levels of violence ('Non-violent', 'Violent')\n"
     ]
    }
   ],
   "source": [
    "Classifier = GPT4mini_ViolenceClassifier_extreme()\n",
    "\n",
    "print(Classifier.Content)"
   ]
  },
  {
   "cell_type": "code",
   "execution_count": 73,
   "id": "3f2a8c35-8c3b-473f-b8c4-06aa406ffba8",
   "metadata": {},
   "outputs": [],
   "source": [
    "Run_final = False"
   ]
  },
  {
   "cell_type": "code",
   "execution_count": 62,
   "id": "d3d5bc1b-48a6-454b-be1e-c692b09fdefb",
   "metadata": {},
   "outputs": [
    {
     "name": "stdout",
     "output_type": "stream",
     "text": [
      "Batch 0\n",
      "Batch 10\n",
      "Batch 20\n",
      "Batch 30\n",
      "Batch 40\n",
      "Batch 50\n",
      "Batch 60\n",
      "Batch 70\n",
      "Batch 80\n",
      "Batch 90\n",
      "Batch 100\n",
      "Batch 110\n",
      "Batch 120\n",
      "Batch 130\n",
      "Batch 140\n",
      "Batch 150\n",
      "Batch 160\n",
      "Batch 170\n",
      "Batch 180\n",
      "Batch 190\n",
      "Batch 200\n",
      "Batch 210\n",
      "Batch 220\n",
      "Batch 230\n",
      "Batch 240\n",
      "Batch 250\n",
      "Batch 260\n",
      "Batch 270\n",
      "Batch 280\n",
      "Batch 290\n",
      "Batch 300\n",
      "Batch 310\n",
      "Batch 320\n",
      "Batch 330\n",
      "Batch 340\n",
      "Batch 350\n",
      "Batch 360\n",
      "Batch 370\n",
      "Batch 380\n",
      "Batch 390\n",
      "Batch 400\n",
      "Batch 410\n",
      "Batch 420\n",
      "Batch 430\n",
      "Batch 440\n",
      "Batch 450\n",
      "Batch 460\n",
      "Batch 470\n",
      "Batch 480\n",
      "Batch 490\n",
      "Batch 500\n",
      "Batch 510\n",
      "Batch 520\n",
      "Batch 530\n",
      "Batch 540\n",
      "Batch 550\n",
      "Batch 560\n",
      "Batch 570\n",
      "Batch 580\n",
      "Batch 590\n",
      "Batch 600\n",
      "Batch 610\n",
      "Batch 620\n",
      "Batch 630\n",
      "Batch 640\n",
      "Batch 650\n",
      "Batch 660\n",
      "Batch 670\n",
      "Batch 680\n",
      "Batch 690\n",
      "Batch 700\n",
      "Batch 710\n",
      "Batch 720\n",
      "Batch 730\n",
      "Batch 740\n",
      "Batch 750\n",
      "Batch 760\n",
      "Batch 770\n",
      "Batch 780\n",
      "Batch 790\n",
      "Batch 800\n",
      "Batch 810\n",
      "Batch 820\n",
      "Batch 830\n",
      "Batch 840\n",
      "Batch 850\n",
      "Batch 860\n",
      "Batch 870\n",
      "Batch 880\n",
      "Batch 890\n",
      "Batch 900\n",
      "Batch 910\n",
      "Batch 920\n",
      "Batch 930\n",
      "Batch 940\n",
      "Batch 950\n",
      "Batch 960\n",
      "Batch 970\n",
      "Batch 980\n",
      "Batch 990\n",
      "Batch 1000\n",
      "Batch 1010\n",
      "Batch 1020\n",
      "Batch 1030\n",
      "Batch 1040\n",
      "Batch 1050\n",
      "Batch 1060\n",
      "Batch 1070\n",
      "Batch 1080\n",
      "Batch 1090\n",
      "Batch 1100\n",
      "Batch 1110\n",
      "Batch 1120\n",
      "Batch 1130\n",
      "Batch 1140\n",
      "Batch 1150\n",
      "Batch 1160\n",
      "Batch 1170\n",
      "Batch 1180\n",
      "Batch 1190\n",
      "Batch 1200\n",
      "Batch 1210\n",
      "Batch 1220\n",
      "Batch 1230\n",
      "Batch 1240\n",
      "Batch 1250\n",
      "Batch 1260\n",
      "Batch 1270\n",
      "Batch 1280\n",
      "Batch 1290\n",
      "Batch 1300\n",
      "Batch 1310\n",
      "Batch 1320\n",
      "Batch 1330\n",
      "Batch 1340\n",
      "Batch 1350\n",
      "Batch 1360\n",
      "Batch 1370\n",
      "Batch 1380\n",
      "Batch 1390\n",
      "Batch 1400\n",
      "Batch 1410\n",
      "Batch 1420\n",
      "Batch 1430\n",
      "Batch 1440\n",
      "Batch 1450\n",
      "Batch 1460\n",
      "Batch 1470\n",
      "Batch 1480\n",
      "Batch 1490\n",
      "Batch 1500\n",
      "Batch 1510\n",
      "Batch 1520\n",
      "Batch 1530\n",
      "Batch 1540\n",
      "Batch 1550\n",
      "Batch 1560\n",
      "Batch 1570\n",
      "Batch 1580\n",
      "Batch 1590\n",
      "Batch 1600\n",
      "Batch 1610\n",
      "Batch 1620\n",
      "Batch 1630\n",
      "Batch 1640\n",
      "Batch 1650\n",
      "Batch 1660\n",
      "Batch 1670\n",
      "Batch 1680\n",
      "Batch 1690\n",
      "Batch 1700\n",
      "finish!\n"
     ]
    }
   ],
   "source": [
    "prediction = []\n",
    "BatchSize = 10\n",
    "\n",
    "if Run_final :\n",
    "    for i in range(0,int(np.ceil(CleanData.shape[0]/BatchSize))) :\n",
    "        if i%10 == 0 :\n",
    "            print(\"Batch {}\".format(i))\n",
    "        thisBatch = Classifier.format_batch(CleanData[i*BatchSize:min((i+1)*BatchSize,CleanData.shape[0])])\n",
    "        pred = Classifier.Call_API(thisBatch)\n",
    "        #print(len(pred))\n",
    "        prediction = prediction + pred\n",
    "print(\"finish!\")"
   ]
  },
  {
   "cell_type": "code",
   "execution_count": 68,
   "id": "47593a0d-5c0b-4606-9631-4edff6fc8249",
   "metadata": {},
   "outputs": [
    {
     "data": {
      "text/plain": [
       "17064"
      ]
     },
     "execution_count": 68,
     "metadata": {},
     "output_type": "execute_result"
    }
   ],
   "source": [
    "len(prediction)"
   ]
  },
  {
   "cell_type": "code",
   "execution_count": 69,
   "id": "3bc44868-e512-4136-aaf6-f0a711891e72",
   "metadata": {},
   "outputs": [],
   "source": [
    "if Run_final :\n",
    "    Result = pd.DataFrame(prediction,index=CleanData.index, columns=[\"Result\"])\n",
    "    \n",
    "    def to_level(data) :\n",
    "        match data:\n",
    "            case 'Non-violent':\n",
    "                return -1.0\n",
    "            case 'Violent':\n",
    "                return 1.0\n",
    "            case _:\n",
    "                raise Exception(\"wait is that ?\",data)\n",
    "    \n",
    "    Result[\"Prediction\"] = Result[\"Result\"].apply(to_level)\n",
    "    Result.head()"
   ]
  },
  {
   "cell_type": "code",
   "execution_count": 70,
   "id": "5bf8a8ef-f76c-4ffd-b8cb-3687a6fe0acf",
   "metadata": {},
   "outputs": [
    {
     "data": {
      "text/html": [
       "<div>\n",
       "<style scoped>\n",
       "    .dataframe tbody tr th:only-of-type {\n",
       "        vertical-align: middle;\n",
       "    }\n",
       "\n",
       "    .dataframe tbody tr th {\n",
       "        vertical-align: top;\n",
       "    }\n",
       "\n",
       "    .dataframe thead th {\n",
       "        text-align: right;\n",
       "    }\n",
       "</style>\n",
       "<table border=\"1\" class=\"dataframe\">\n",
       "  <thead>\n",
       "    <tr style=\"text-align: right;\">\n",
       "      <th></th>\n",
       "      <th>Result</th>\n",
       "      <th>Prediction</th>\n",
       "    </tr>\n",
       "    <tr>\n",
       "      <th>Wikipedia movie ID</th>\n",
       "      <th></th>\n",
       "      <th></th>\n",
       "    </tr>\n",
       "  </thead>\n",
       "  <tbody>\n",
       "    <tr>\n",
       "      <th>975900</th>\n",
       "      <td>Violent</td>\n",
       "      <td>1.0</td>\n",
       "    </tr>\n",
       "    <tr>\n",
       "      <th>6631279</th>\n",
       "      <td>Non-violent</td>\n",
       "      <td>-1.0</td>\n",
       "    </tr>\n",
       "    <tr>\n",
       "      <th>77856</th>\n",
       "      <td>Non-violent</td>\n",
       "      <td>-1.0</td>\n",
       "    </tr>\n",
       "    <tr>\n",
       "      <th>21926710</th>\n",
       "      <td>Non-violent</td>\n",
       "      <td>-1.0</td>\n",
       "    </tr>\n",
       "    <tr>\n",
       "      <th>156558</th>\n",
       "      <td>Violent</td>\n",
       "      <td>1.0</td>\n",
       "    </tr>\n",
       "    <tr>\n",
       "      <th>...</th>\n",
       "      <td>...</td>\n",
       "      <td>...</td>\n",
       "    </tr>\n",
       "    <tr>\n",
       "      <th>25011340</th>\n",
       "      <td>Violent</td>\n",
       "      <td>1.0</td>\n",
       "    </tr>\n",
       "    <tr>\n",
       "      <th>7761830</th>\n",
       "      <td>Violent</td>\n",
       "      <td>1.0</td>\n",
       "    </tr>\n",
       "    <tr>\n",
       "      <th>1918494</th>\n",
       "      <td>Non-violent</td>\n",
       "      <td>-1.0</td>\n",
       "    </tr>\n",
       "    <tr>\n",
       "      <th>664006</th>\n",
       "      <td>Violent</td>\n",
       "      <td>1.0</td>\n",
       "    </tr>\n",
       "    <tr>\n",
       "      <th>35228177</th>\n",
       "      <td>Non-violent</td>\n",
       "      <td>-1.0</td>\n",
       "    </tr>\n",
       "  </tbody>\n",
       "</table>\n",
       "<p>17064 rows × 2 columns</p>\n",
       "</div>"
      ],
      "text/plain": [
       "                         Result  Prediction\n",
       "Wikipedia movie ID                         \n",
       "975900                  Violent         1.0\n",
       "6631279             Non-violent        -1.0\n",
       "77856               Non-violent        -1.0\n",
       "21926710            Non-violent        -1.0\n",
       "156558                  Violent         1.0\n",
       "...                         ...         ...\n",
       "25011340                Violent         1.0\n",
       "7761830                 Violent         1.0\n",
       "1918494             Non-violent        -1.0\n",
       "664006                  Violent         1.0\n",
       "35228177            Non-violent        -1.0\n",
       "\n",
       "[17064 rows x 2 columns]"
      ]
     },
     "execution_count": 70,
     "metadata": {},
     "output_type": "execute_result"
    }
   ],
   "source": [
    "Result"
   ]
  },
  {
   "cell_type": "code",
   "execution_count": 71,
   "id": "4c94ab0c-2a1c-4e1e-b361-14c7d0ab59b6",
   "metadata": {},
   "outputs": [],
   "source": [
    "if Run_final :\n",
    "    name = \"LLM_result_binary\"\n",
    "    Result.to_csv(clean+\"/classification_result/\"+name+\".csv\")"
   ]
  },
  {
   "cell_type": "code",
   "execution_count": 72,
   "id": "4cf94acf-0bf5-4254-95ad-881aadb2d95b",
   "metadata": {},
   "outputs": [],
   "source": [
    "if Run_final :\n",
    "    Result[\"Prediction\"].value_counts()"
   ]
  },
  {
   "cell_type": "code",
   "execution_count": null,
   "id": "53dfeec7-5a8a-4e3f-94cb-8ea66fe1df28",
   "metadata": {},
   "outputs": [],
   "source": []
  }
 ],
 "metadata": {
  "kernelspec": {
   "display_name": "Python 3 (ipykernel)",
   "language": "python",
   "name": "python3"
  },
  "language_info": {
   "codemirror_mode": {
    "name": "ipython",
    "version": 3
   },
   "file_extension": ".py",
   "mimetype": "text/x-python",
   "name": "python",
   "nbconvert_exporter": "python",
   "pygments_lexer": "ipython3",
   "version": "3.11.0"
  }
 },
 "nbformat": 4,
 "nbformat_minor": 5
}
