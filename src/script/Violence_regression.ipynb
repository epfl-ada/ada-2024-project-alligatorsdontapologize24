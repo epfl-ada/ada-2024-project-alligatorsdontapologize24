{
 "cells": [
  {
   "cell_type": "markdown",
   "id": "0baccbf6-32d7-4970-9835-bc5130288c78",
   "metadata": {},
   "source": [
    "# Violent movie finder model "
   ]
  },
  {
   "cell_type": "markdown",
   "id": "51382b80-7515-49f0-9885-b10c699df18b",
   "metadata": {},
   "source": [
    "So far, we have cleaned the data and performed sentiment analysis as well as a violent word count analysis. Our objective is to categorize the movies on a scale from non-violent to violent.\n",
    "\n",
    "Our approach will be to build a model that labels the dataset using various features.\n",
    "\n",
    "\n",
    "## Labeling the Data\n",
    "Since labeled data is required for analysis, we manually labeled a subset of the dataset. We divided part of the data among team members and labeled each movie plot based on a categorical scale:\n",
    "<ul>\n",
    "    <li><b>-1</b> : non-violent movies</li>\n",
    "    <li><b>0</b> : possibly slightly violent or uncertain</li>\n",
    "    <li><b>1</b> : definitely violent movies</li>\n",
    "</ul>\n",
    "To assess the subjectivity of the labeling process, we had some plots labeled multiple times by external participants.\n",
    "\n",
    "## Model\n",
    "For simplicity, we chose to perform a logistic regression using several selected features.\n",
    "\n",
    "## Features\n",
    "The selected feature set includes:\n",
    "<ul>\n",
    "    <li><b>Word Count Features</b>\n",
    "        <ul> \n",
    "            <li>Count of physically violent words</li> \n",
    "            <li>Count of psychologically violent words</li> \n",
    "            <li>Density of physically violent words</li> \n",
    "            <li>Density of psychologically violent words</li>\n",
    "        </ul>\n",
    "    </li>\n",
    "    <li><b>Sentimental Analysis Features</b>\n",
    "       <ul>\n",
    "           <li>Sadness</li>\n",
    "           <li>Joy</li>\n",
    "           <li>Love</li>\n",
    "           <li>Anger</li>\n",
    "           <li>Surprise</li>\n",
    "       </ul>\n",
    "    </li>\n",
    "</ul>\n",
    "\n",
    "\n",
    "## Dataset\n",
    "<ul>\n",
    "    <li><b>Training and Testing Data</b> <br/> Given the limited number of labeled plots available, we will use most of the labeled items for the training set. We will keep five plots as the testing set to evaluate the model (alternatively, we may use the entire dataset and assess labeling quality across the final labeled set) </li>\n",
    "    <li><b>Final Dataset</b>  <br/> We will apply the model to label the entire dataset and review the quality of the labels.</li>\n",
    "</ul>\n"
   ]
  },
  {
   "cell_type": "markdown",
   "id": "baf91d5c-5c11-4011-9ab9-f3ec93a21322",
   "metadata": {},
   "source": [
    "### Imports"
   ]
  },
  {
   "cell_type": "code",
   "execution_count": 1,
   "id": "fd68589e-581f-425d-ae77-f499569e7d6b",
   "metadata": {},
   "outputs": [],
   "source": [
    "import sys\n",
    "import os\n",
    "import pandas as pd\n",
    "import matplotlib.pyplot as plt\n",
    "import seaborn as sns\n",
    "import math\n",
    "%matplotlib inline"
   ]
  },
  {
   "cell_type": "code",
   "execution_count": 2,
   "id": "933d6ef4-39e2-4421-a5ed-a5071a63eb08",
   "metadata": {},
   "outputs": [],
   "source": [
    "# Add the project root directory (not src) to sys.path\n",
    "sys.path.append(os.path.abspath(\"../data/\"))\n",
    "\n",
    "# Now import the DataLoader class\n",
    "from data_loading import DataLoader\n",
    "\n",
    "raw = '../../data/RAW/'\n",
    "clean = '../../data/CLEAN'"
   ]
  },
  {
   "cell_type": "markdown",
   "id": "981aed4f-5397-4b14-abec-711e8318f8ad",
   "metadata": {},
   "source": [
    "## Load and prepare the data"
   ]
  },
  {
   "cell_type": "code",
   "execution_count": 3,
   "id": "2952f26a-97ec-474e-8c5a-f99f942b23b6",
   "metadata": {
    "scrolled": true
   },
   "outputs": [
    {
     "data": {
      "text/html": [
       "<div>\n",
       "<style scoped>\n",
       "    .dataframe tbody tr th:only-of-type {\n",
       "        vertical-align: middle;\n",
       "    }\n",
       "\n",
       "    .dataframe tbody tr th {\n",
       "        vertical-align: top;\n",
       "    }\n",
       "\n",
       "    .dataframe thead th {\n",
       "        text-align: right;\n",
       "    }\n",
       "</style>\n",
       "<table border=\"1\" class=\"dataframe\">\n",
       "  <thead>\n",
       "    <tr style=\"text-align: right;\">\n",
       "      <th></th>\n",
       "      <th>name</th>\n",
       "      <th>sadness</th>\n",
       "      <th>joy</th>\n",
       "      <th>love</th>\n",
       "      <th>anger</th>\n",
       "      <th>fear</th>\n",
       "      <th>surprise</th>\n",
       "      <th>word_count_Physical_violence</th>\n",
       "      <th>word_count_Psychological_violence</th>\n",
       "      <th>total_count</th>\n",
       "      <th>density word_count_Physical_violence</th>\n",
       "      <th>density word_count_Psychological_violence</th>\n",
       "    </tr>\n",
       "    <tr>\n",
       "      <th>Wikipedia movie ID</th>\n",
       "      <th></th>\n",
       "      <th></th>\n",
       "      <th></th>\n",
       "      <th></th>\n",
       "      <th></th>\n",
       "      <th></th>\n",
       "      <th></th>\n",
       "      <th></th>\n",
       "      <th></th>\n",
       "      <th></th>\n",
       "      <th></th>\n",
       "      <th></th>\n",
       "    </tr>\n",
       "  </thead>\n",
       "  <tbody>\n",
       "    <tr>\n",
       "      <th>3217</th>\n",
       "      <td>Army of Darkness</td>\n",
       "      <td>0.011153</td>\n",
       "      <td>0.038138</td>\n",
       "      <td>0.003922</td>\n",
       "      <td>0.548492</td>\n",
       "      <td>0.393865</td>\n",
       "      <td>0.004429</td>\n",
       "      <td>3</td>\n",
       "      <td>3</td>\n",
       "      <td>479</td>\n",
       "      <td>0.006263</td>\n",
       "      <td>0.006263</td>\n",
       "    </tr>\n",
       "    <tr>\n",
       "      <th>3333</th>\n",
       "      <td>The Birth of a Nation</td>\n",
       "      <td>0.031440</td>\n",
       "      <td>0.064514</td>\n",
       "      <td>0.068203</td>\n",
       "      <td>0.648962</td>\n",
       "      <td>0.183545</td>\n",
       "      <td>0.003336</td>\n",
       "      <td>1</td>\n",
       "      <td>5</td>\n",
       "      <td>858</td>\n",
       "      <td>0.001166</td>\n",
       "      <td>0.005828</td>\n",
       "    </tr>\n",
       "    <tr>\n",
       "      <th>3746</th>\n",
       "      <td>Blade Runner</td>\n",
       "      <td>0.067504</td>\n",
       "      <td>0.087820</td>\n",
       "      <td>0.014147</td>\n",
       "      <td>0.505497</td>\n",
       "      <td>0.320859</td>\n",
       "      <td>0.004172</td>\n",
       "      <td>3</td>\n",
       "      <td>3</td>\n",
       "      <td>669</td>\n",
       "      <td>0.004484</td>\n",
       "      <td>0.004484</td>\n",
       "    </tr>\n",
       "    <tr>\n",
       "      <th>3837</th>\n",
       "      <td>Blazing Saddles</td>\n",
       "      <td>0.005160</td>\n",
       "      <td>0.013628</td>\n",
       "      <td>0.001236</td>\n",
       "      <td>0.947847</td>\n",
       "      <td>0.030865</td>\n",
       "      <td>0.001264</td>\n",
       "      <td>7</td>\n",
       "      <td>3</td>\n",
       "      <td>631</td>\n",
       "      <td>0.011094</td>\n",
       "      <td>0.004754</td>\n",
       "    </tr>\n",
       "    <tr>\n",
       "      <th>3947</th>\n",
       "      <td>Blue Velvet</td>\n",
       "      <td>0.007605</td>\n",
       "      <td>0.025192</td>\n",
       "      <td>0.002353</td>\n",
       "      <td>0.135140</td>\n",
       "      <td>0.825802</td>\n",
       "      <td>0.003908</td>\n",
       "      <td>7</td>\n",
       "      <td>7</td>\n",
       "      <td>930</td>\n",
       "      <td>0.007527</td>\n",
       "      <td>0.007527</td>\n",
       "    </tr>\n",
       "  </tbody>\n",
       "</table>\n",
       "</div>"
      ],
      "text/plain": [
       "                                     name   sadness       joy      love  \\\n",
       "Wikipedia movie ID                                                        \n",
       "3217                     Army of Darkness  0.011153  0.038138  0.003922   \n",
       "3333                The Birth of a Nation  0.031440  0.064514  0.068203   \n",
       "3746                         Blade Runner  0.067504  0.087820  0.014147   \n",
       "3837                      Blazing Saddles  0.005160  0.013628  0.001236   \n",
       "3947                          Blue Velvet  0.007605  0.025192  0.002353   \n",
       "\n",
       "                       anger      fear  surprise  \\\n",
       "Wikipedia movie ID                                 \n",
       "3217                0.548492  0.393865  0.004429   \n",
       "3333                0.648962  0.183545  0.003336   \n",
       "3746                0.505497  0.320859  0.004172   \n",
       "3837                0.947847  0.030865  0.001264   \n",
       "3947                0.135140  0.825802  0.003908   \n",
       "\n",
       "                    word_count_Physical_violence  \\\n",
       "Wikipedia movie ID                                 \n",
       "3217                                           3   \n",
       "3333                                           1   \n",
       "3746                                           3   \n",
       "3837                                           7   \n",
       "3947                                           7   \n",
       "\n",
       "                    word_count_Psychological_violence  total_count  \\\n",
       "Wikipedia movie ID                                                   \n",
       "3217                                                3          479   \n",
       "3333                                                5          858   \n",
       "3746                                                3          669   \n",
       "3837                                                3          631   \n",
       "3947                                                7          930   \n",
       "\n",
       "                    density word_count_Physical_violence  \\\n",
       "Wikipedia movie ID                                         \n",
       "3217                                            0.006263   \n",
       "3333                                            0.001166   \n",
       "3746                                            0.004484   \n",
       "3837                                            0.011094   \n",
       "3947                                            0.007527   \n",
       "\n",
       "                    density word_count_Psychological_violence  \n",
       "Wikipedia movie ID                                             \n",
       "3217                                                 0.006263  \n",
       "3333                                                 0.005828  \n",
       "3746                                                 0.004484  \n",
       "3837                                                 0.004754  \n",
       "3947                                                 0.007527  "
      ]
     },
     "execution_count": 3,
     "metadata": {},
     "output_type": "execute_result"
    }
   ],
   "source": [
    "#load the data\n",
    "data_loader = DataLoader(raw,clean)\n",
    "MovieData = data_loader.data_for_violent_model()\n",
    "MovieData.head()"
   ]
  },
  {
   "cell_type": "markdown",
   "id": "7e8cb06c-d2e3-405b-9509-0fb49a80e22d",
   "metadata": {},
   "source": [
    "### Labelling subjectivity \n",
    "\n",
    "what is violent ? It is subjective !!! Take a look at the human labelled data."
   ]
  },
  {
   "cell_type": "code",
   "execution_count": 4,
   "id": "dbe60af0-6e8a-46fd-aac6-e34ba9f2c740",
   "metadata": {},
   "outputs": [
    {
     "name": "stderr",
     "output_type": "stream",
     "text": [
      "/Users/djay/miniforge3/envs/ada/lib/python3.11/site-packages/openpyxl/worksheet/_reader.py:329: UserWarning: Data Validation extension is not supported and will be removed\n",
      "  warn(msg)\n"
     ]
    },
    {
     "data": {
      "text/html": [
       "<div>\n",
       "<style scoped>\n",
       "    .dataframe tbody tr th:only-of-type {\n",
       "        vertical-align: middle;\n",
       "    }\n",
       "\n",
       "    .dataframe tbody tr th {\n",
       "        vertical-align: top;\n",
       "    }\n",
       "\n",
       "    .dataframe thead th {\n",
       "        text-align: right;\n",
       "    }\n",
       "</style>\n",
       "<table border=\"1\" class=\"dataframe\">\n",
       "  <thead>\n",
       "    <tr style=\"text-align: right;\">\n",
       "      <th></th>\n",
       "      <th>Violence level</th>\n",
       "      <th>Label</th>\n",
       "    </tr>\n",
       "  </thead>\n",
       "  <tbody>\n",
       "    <tr>\n",
       "      <th>0</th>\n",
       "      <td>Low</td>\n",
       "      <td>-1</td>\n",
       "    </tr>\n",
       "    <tr>\n",
       "      <th>1</th>\n",
       "      <td>Medium/not sure</td>\n",
       "      <td>0</td>\n",
       "    </tr>\n",
       "    <tr>\n",
       "      <th>2</th>\n",
       "      <td>Violent</td>\n",
       "      <td>1</td>\n",
       "    </tr>\n",
       "  </tbody>\n",
       "</table>\n",
       "</div>"
      ],
      "text/plain": [
       "    Violence level  Label\n",
       "0              Low     -1\n",
       "1  Medium/not sure      0\n",
       "2          Violent      1"
      ]
     },
     "metadata": {},
     "output_type": "display_data"
    },
    {
     "data": {
      "text/html": [
       "<div>\n",
       "<style scoped>\n",
       "    .dataframe tbody tr th:only-of-type {\n",
       "        vertical-align: middle;\n",
       "    }\n",
       "\n",
       "    .dataframe tbody tr th {\n",
       "        vertical-align: top;\n",
       "    }\n",
       "\n",
       "    .dataframe thead th {\n",
       "        text-align: right;\n",
       "    }\n",
       "</style>\n",
       "<table border=\"1\" class=\"dataframe\">\n",
       "  <thead>\n",
       "    <tr style=\"text-align: right;\">\n",
       "      <th></th>\n",
       "      <th>Answer</th>\n",
       "      <th>Date</th>\n",
       "    </tr>\n",
       "    <tr>\n",
       "      <th>Wikipedia ID</th>\n",
       "      <th></th>\n",
       "      <th></th>\n",
       "    </tr>\n",
       "  </thead>\n",
       "  <tbody>\n",
       "    <tr>\n",
       "      <th>36592</th>\n",
       "      <td>0</td>\n",
       "      <td>11.11</td>\n",
       "    </tr>\n",
       "    <tr>\n",
       "      <th>29970</th>\n",
       "      <td>1</td>\n",
       "      <td>11.11</td>\n",
       "    </tr>\n",
       "    <tr>\n",
       "      <th>29048</th>\n",
       "      <td>1</td>\n",
       "      <td>11.11</td>\n",
       "    </tr>\n",
       "    <tr>\n",
       "      <th>1650</th>\n",
       "      <td>0</td>\n",
       "      <td>11.11</td>\n",
       "    </tr>\n",
       "    <tr>\n",
       "      <th>4630</th>\n",
       "      <td>-1</td>\n",
       "      <td>11.11</td>\n",
       "    </tr>\n",
       "  </tbody>\n",
       "</table>\n",
       "</div>"
      ],
      "text/plain": [
       "              Answer  Date \n",
       "Wikipedia ID               \n",
       "36592              0  11.11\n",
       "29970              1  11.11\n",
       "29048              1  11.11\n",
       "1650               0  11.11\n",
       "4630              -1  11.11"
      ]
     },
     "metadata": {},
     "output_type": "display_data"
    }
   ],
   "source": [
    "#load the labelled data\n",
    "ViolentLabel,ViolentData = data_loader.human_labelled_data()\n",
    "display(ViolentLabel)\n",
    "display(ViolentData.head())"
   ]
  },
  {
   "cell_type": "code",
   "execution_count": 6,
   "id": "23b83d5e-8afe-45e5-96f8-980664f60c38",
   "metadata": {},
   "outputs": [
    {
     "data": {
      "image/png": "[encoded data removed]",
      "text/plain": [
       "<Figure size 1200x600 with 1 Axes>"
      ]
     },
     "metadata": {},
     "output_type": "display_data"
    }
   ],
   "source": [
    "duplicated_data = ViolentData[ViolentData.index.duplicated(keep=False)]\n",
    "\n",
    "# Plot all duplicates in one figure with side-by-side boxplots\n",
    "plt.figure(figsize=(12, 6))\n",
    "sns.boxplot(data=duplicated_data, x=\"Wikipedia ID\", y=\"Answer\")\n",
    "\n",
    "# Add labels and title\n",
    "plt.title(\"Box Plot of 'Answer' by Duplicated Wikipedia IDs\")\n",
    "plt.xlabel(\"Wikipedia ID\")\n",
    "plt.ylabel(\"Answer Value\")\n",
    "\n",
    "plt.show()"
   ]
  },
  {
   "cell_type": "code",
   "execution_count": 7,
   "id": "e8ebf4fb-a564-42a1-84df-294f293fed2e",
   "metadata": {},
   "outputs": [
    {
     "name": "stdout",
     "output_type": "stream",
     "text": [
      "We have 50 labelled plots\n",
      "We have 20 duplicated labelling\n",
      "We have 4 datapoint with different labels\n"
     ]
    }
   ],
   "source": [
    "print(\"We have\",len(ViolentData.index.unique()),\"labelled plots\")\n",
    "print(\"We have\",len(duplicated_data.index.unique()),\"duplicated labelling\")\n",
    "print(\"We have\",(duplicated_data.groupby(\"Wikipedia ID\")[\"Answer\"].nunique() > 1).sum(),\"datapoint with different labels\")"
   ]
  },
  {
   "cell_type": "code",
   "execution_count": 13,
   "id": "ab93e68c-bd92-451f-9ac5-7802833ccb86",
   "metadata": {},
   "outputs": [
    {
     "data": {
      "text/plain": [
       "Index([], dtype='int64')"
      ]
     },
     "execution_count": 13,
     "metadata": {},
     "output_type": "execute_result"
    }
   ],
   "source": [
    "ViolentData.index.intersection(MovieData.index)"
   ]
  },
  {
   "cell_type": "code",
   "execution_count": null,
   "id": "811a64c9-68d9-46bd-97d0-5faa8e623177",
   "metadata": {},
   "outputs": [],
   "source": []
  }
 ],
 "metadata": {
  "kernelspec": {
   "display_name": "Python 3 (ipykernel)",
   "language": "python",
   "name": "python3"
  },
  "language_info": {
   "codemirror_mode": {
    "name": "ipython",
    "version": 3
   },
   "file_extension": ".py",
   "mimetype": "text/x-python",
   "name": "python",
   "nbconvert_exporter": "python",
   "pygments_lexer": "ipython3",
   "version": "3.11.9"
  }
 },
 "nbformat": 4,
 "nbformat_minor": 5
}
