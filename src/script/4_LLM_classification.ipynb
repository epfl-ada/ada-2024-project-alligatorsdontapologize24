{
 "cells": [
  {
   "cell_type": "markdown",
   "id": "0baccbf6-32d7-4970-9835-bc5130288c78",
   "metadata": {},
   "source": [
    "# Classification with LLM"
   ]
  },
  {
   "cell_type": "markdown",
   "id": "51382b80-7515-49f0-9885-b10c699df18b",
   "metadata": {
    "tags": []
   },
   "source": [
    "So far, we have cleaned the data and performed sentiment analysis as well as a violent word count analysis. Our objective is to categorize the movies on a scale from non-violent to violent.\n",
    "\n",
    "Our approach will be to build a model that labels the dataset.\n",
    "In this Notebook, we will try to label the data using a LLM, namely GPT4mini from OpenIA.\n",
    "\n",
    "## Labeling the Data\n",
    "Since labeled data is required for analysis, we manually labeled a subset of the dataset. We divided part of the data among team members and labeled each movie plot based on a categorical scale:\n",
    "<ul>\n",
    "    <li><b>-1</b> : Peaceful</li>\n",
    "    <li><b>0</b> : Ambiguous (Uncertain level of violence)</li>\n",
    "    <li><b>1</b> : Violent</li>\n",
    "</ul>\n",
    "To assess the subjectivity of the labeling process, we had some plots labeled multiple times by external participants.\n",
    "\n",
    "## Dataset\n",
    "<ul>\n",
    "    <li><b>Training and Testing Data</b> <br/> Given the limited number of labeled plots available, we will use most of the labeled items for the training set. We will keep five plots as the testing set to evaluate the model (alternatively, we may use the entire dataset and assess labeling quality across the final labeled set) </li>\n",
    "    <li><b>Final Dataset</b>  <br/> We will apply the model to label the entire dataset and review the quality of the labels.</li>\n",
    "</ul>\n",
    "\n",
    "## Model\n",
    "\n",
    "We will use the GPT-4o-mini model \\\n",
    "https://platform.openai.com/docs/overview \\\n",
    "https://platform.openai.com/docs/models#gpt-4o-mini\n",
    "\n",
    "### reference\n",
    "\n",
    "\n",
    "https://platform.openai.com/docs/guides/prompt-engineering \\\n",
    "https://medium.com/discovery-at-nesta/how-to-use-gpt-4-and-openais-functions-for-text-classification-ad0957be9b25 \\\n",
    "\n"
   ]
  },
  {
   "cell_type": "markdown",
   "id": "baf91d5c-5c11-4011-9ab9-f3ec93a21322",
   "metadata": {
    "jp-MarkdownHeadingCollapsed": true
   },
   "source": [
    "### Imports"
   ]
  },
  {
   "cell_type": "code",
   "execution_count": 62,
   "id": "fd68589e-581f-425d-ae77-f499569e7d6b",
   "metadata": {},
   "outputs": [],
   "source": [
    "import sys\n",
    "import os\n",
    "import pandas as pd\n",
    "import matplotlib.pyplot as plt\n",
    "import seaborn as sns\n",
    "import numpy as np\n",
    "import math\n",
    "from sklearn.model_selection import train_test_split\n",
    "from sklearn import metrics\n",
    "\n",
    "%matplotlib inline"
   ]
  },
  {
   "cell_type": "code",
   "execution_count": 2,
   "id": "933d6ef4-39e2-4421-a5ed-a5071a63eb08",
   "metadata": {},
   "outputs": [],
   "source": [
    "# Add the project root directory (not src) to sys.path\n",
    "sys.path.append(os.path.abspath(\"../data/\"))\n",
    "\n",
    "# Now import the DataLoader class\n",
    "from data_loading import DataLoader\n",
    "\n",
    "raw = '../../data/RAW/'\n",
    "clean = '../../data/CLEAN'"
   ]
  },
  {
   "cell_type": "markdown",
   "id": "981aed4f-5397-4b14-abec-711e8318f8ad",
   "metadata": {},
   "source": [
    "## Load and prepare the data"
   ]
  },
  {
   "cell_type": "code",
   "execution_count": 3,
   "id": "2952f26a-97ec-474e-8c5a-f99f942b23b6",
   "metadata": {
    "scrolled": true
   },
   "outputs": [
    {
     "name": "stdout",
     "output_type": "stream",
     "text": [
      "\n",
      "load plot data\n",
      "\n"
     ]
    }
   ],
   "source": [
    "#load the data\n",
    "data_loader = DataLoader(raw,clean)\n",
    "CleanData = data_loader.clean_movie_data()\n",
    "PlotData = data_loader.plot_data()"
   ]
  },
  {
   "cell_type": "code",
   "execution_count": 6,
   "id": "dbe60af0-6e8a-46fd-aac6-e34ba9f2c740",
   "metadata": {},
   "outputs": [
    {
     "data": {
      "text/html": [
       "<div>\n",
       "<style scoped>\n",
       "    .dataframe tbody tr th:only-of-type {\n",
       "        vertical-align: middle;\n",
       "    }\n",
       "\n",
       "    .dataframe tbody tr th {\n",
       "        vertical-align: top;\n",
       "    }\n",
       "\n",
       "    .dataframe thead th {\n",
       "        text-align: right;\n",
       "    }\n",
       "</style>\n",
       "<table border=\"1\" class=\"dataframe\">\n",
       "  <thead>\n",
       "    <tr style=\"text-align: right;\">\n",
       "      <th></th>\n",
       "      <th>Violence level</th>\n",
       "      <th>Label</th>\n",
       "    </tr>\n",
       "  </thead>\n",
       "  <tbody>\n",
       "    <tr>\n",
       "      <th>0</th>\n",
       "      <td>Peaceful</td>\n",
       "      <td>-1</td>\n",
       "    </tr>\n",
       "    <tr>\n",
       "      <th>1</th>\n",
       "      <td>Mild</td>\n",
       "      <td>0</td>\n",
       "    </tr>\n",
       "    <tr>\n",
       "      <th>2</th>\n",
       "      <td>Violent</td>\n",
       "      <td>1</td>\n",
       "    </tr>\n",
       "  </tbody>\n",
       "</table>\n",
       "</div>"
      ],
      "text/plain": [
       "  Violence level  Label\n",
       "0       Peaceful     -1\n",
       "1           Mild      0\n",
       "2        Violent      1"
      ]
     },
     "metadata": {},
     "output_type": "display_data"
    },
    {
     "data": {
      "text/html": [
       "<div>\n",
       "<style scoped>\n",
       "    .dataframe tbody tr th:only-of-type {\n",
       "        vertical-align: middle;\n",
       "    }\n",
       "\n",
       "    .dataframe tbody tr th {\n",
       "        vertical-align: top;\n",
       "    }\n",
       "\n",
       "    .dataframe thead th {\n",
       "        text-align: right;\n",
       "    }\n",
       "</style>\n",
       "<table border=\"1\" class=\"dataframe\">\n",
       "  <thead>\n",
       "    <tr style=\"text-align: right;\">\n",
       "      <th></th>\n",
       "      <th>Answer</th>\n",
       "    </tr>\n",
       "    <tr>\n",
       "      <th>Wikipedia movie ID</th>\n",
       "      <th></th>\n",
       "    </tr>\n",
       "  </thead>\n",
       "  <tbody>\n",
       "    <tr>\n",
       "      <th>113454</th>\n",
       "      <td>0</td>\n",
       "    </tr>\n",
       "    <tr>\n",
       "      <th>909664</th>\n",
       "      <td>1</td>\n",
       "    </tr>\n",
       "    <tr>\n",
       "      <th>1028671</th>\n",
       "      <td>0</td>\n",
       "    </tr>\n",
       "    <tr>\n",
       "      <th>1336564</th>\n",
       "      <td>0</td>\n",
       "    </tr>\n",
       "    <tr>\n",
       "      <th>1472852</th>\n",
       "      <td>-1</td>\n",
       "    </tr>\n",
       "  </tbody>\n",
       "</table>\n",
       "</div>"
      ],
      "text/plain": [
       "                    Answer\n",
       "Wikipedia movie ID        \n",
       "113454                   0\n",
       "909664                   1\n",
       "1028671                  0\n",
       "1336564                  0\n",
       "1472852                 -1"
      ]
     },
     "metadata": {},
     "output_type": "display_data"
    }
   ],
   "source": [
    "#load the labelled data\n",
    "ViolentLabel,ViolentData = data_loader.human_labelled_data()\n",
    "display(ViolentLabel.drop([\"Unnamed: 0\"],axis = 1))\n",
    "display(ViolentData.head())"
   ]
  },
  {
   "cell_type": "code",
   "execution_count": 9,
   "id": "0838f0fa-9ed2-4105-aa28-7c476af5de52",
   "metadata": {},
   "outputs": [
    {
     "name": "stdout",
     "output_type": "stream",
     "text": [
      "Number of test point : 146\n"
     ]
    },
    {
     "data": {
      "text/html": [
       "<div>\n",
       "<style scoped>\n",
       "    .dataframe tbody tr th:only-of-type {\n",
       "        vertical-align: middle;\n",
       "    }\n",
       "\n",
       "    .dataframe tbody tr th {\n",
       "        vertical-align: top;\n",
       "    }\n",
       "\n",
       "    .dataframe thead th {\n",
       "        text-align: right;\n",
       "    }\n",
       "</style>\n",
       "<table border=\"1\" class=\"dataframe\">\n",
       "  <thead>\n",
       "    <tr style=\"text-align: right;\">\n",
       "      <th></th>\n",
       "      <th>Answer</th>\n",
       "      <th>Plot</th>\n",
       "    </tr>\n",
       "    <tr>\n",
       "      <th>Wikipedia movie ID</th>\n",
       "      <th></th>\n",
       "      <th></th>\n",
       "    </tr>\n",
       "  </thead>\n",
       "  <tbody>\n",
       "    <tr>\n",
       "      <th>113454</th>\n",
       "      <td>0</td>\n",
       "      <td>The film tells the story of a mob hit man  and...</td>\n",
       "    </tr>\n",
       "    <tr>\n",
       "      <th>909664</th>\n",
       "      <td>1</td>\n",
       "      <td>The film follows the personal relationship bet...</td>\n",
       "    </tr>\n",
       "    <tr>\n",
       "      <th>1028671</th>\n",
       "      <td>0</td>\n",
       "      <td>According to Devil's Playground, at the age of...</td>\n",
       "    </tr>\n",
       "    <tr>\n",
       "      <th>1336564</th>\n",
       "      <td>0</td>\n",
       "      <td>Jim Slater , is in search of stolen money, to ...</td>\n",
       "    </tr>\n",
       "    <tr>\n",
       "      <th>1472852</th>\n",
       "      <td>-1</td>\n",
       "      <td>David \"Dave\" Whiteman  and his wife, Barbara, ...</td>\n",
       "    </tr>\n",
       "  </tbody>\n",
       "</table>\n",
       "</div>"
      ],
      "text/plain": [
       "                    Answer                                               Plot\n",
       "Wikipedia movie ID                                                           \n",
       "113454                   0  The film tells the story of a mob hit man  and...\n",
       "909664                   1  The film follows the personal relationship bet...\n",
       "1028671                  0  According to Devil's Playground, at the age of...\n",
       "1336564                  0  Jim Slater , is in search of stolen money, to ...\n",
       "1472852                 -1  David \"Dave\" Whiteman  and his wife, Barbara, ..."
      ]
     },
     "execution_count": 9,
     "metadata": {},
     "output_type": "execute_result"
    }
   ],
   "source": [
    "TestSet = pd.merge(ViolentData,PlotData, left_index=True,right_index=True, how = \"inner\")\n",
    "print(\"Number of test point :\",TestSet.shape[0])\n",
    "TestSet.head()"
   ]
  },
  {
   "cell_type": "code",
   "execution_count": 10,
   "id": "568c7b94-b1d7-4367-b10b-c095824ab06f",
   "metadata": {},
   "outputs": [
    {
     "data": {
      "text/plain": [
       "'The film tells the story of a mob hit man  and hit woman  who fall in love, even though they have been hired to kill each other.'"
      ]
     },
     "execution_count": 10,
     "metadata": {},
     "output_type": "execute_result"
    }
   ],
   "source": [
    "TestSet.iloc[0][\"Plot\"]"
   ]
  },
  {
   "cell_type": "code",
   "execution_count": 19,
   "id": "8386a2de-5664-46e4-86a1-e419fcc24f6a",
   "metadata": {},
   "outputs": [
    {
     "name": "stdout",
     "output_type": "stream",
     "text": [
      "116\n",
      "30\n"
     ]
    }
   ],
   "source": [
    "fraction = 0.2\n",
    "\n",
    "# Split the data between train and validation\n",
    "TrainingSet,ValidationSet = train_test_split(TestSet, test_size=fraction, random_state=21)\n",
    "\n",
    "print(TrainingSet.shape[0])\n",
    "print(ValidationSet.shape[0])"
   ]
  },
  {
   "cell_type": "code",
   "execution_count": 20,
   "id": "68e6d798-b426-46e0-b9bc-56206de96684",
   "metadata": {},
   "outputs": [
    {
     "data": {
      "text/html": [
       "<div>\n",
       "<style scoped>\n",
       "    .dataframe tbody tr th:only-of-type {\n",
       "        vertical-align: middle;\n",
       "    }\n",
       "\n",
       "    .dataframe tbody tr th {\n",
       "        vertical-align: top;\n",
       "    }\n",
       "\n",
       "    .dataframe thead th {\n",
       "        text-align: right;\n",
       "    }\n",
       "</style>\n",
       "<table border=\"1\" class=\"dataframe\">\n",
       "  <thead>\n",
       "    <tr style=\"text-align: right;\">\n",
       "      <th></th>\n",
       "      <th>Answer</th>\n",
       "      <th>Plot</th>\n",
       "    </tr>\n",
       "    <tr>\n",
       "      <th>Wikipedia movie ID</th>\n",
       "      <th></th>\n",
       "      <th></th>\n",
       "    </tr>\n",
       "  </thead>\n",
       "  <tbody>\n",
       "    <tr>\n",
       "      <th>14168925</th>\n",
       "      <td>1</td>\n",
       "      <td>Cops take sexual advantage of the men they pul...</td>\n",
       "    </tr>\n",
       "    <tr>\n",
       "      <th>26057620</th>\n",
       "      <td>0</td>\n",
       "      <td>Yugoslav partisans grimly crop the hair of a v...</td>\n",
       "    </tr>\n",
       "    <tr>\n",
       "      <th>26015405</th>\n",
       "      <td>0</td>\n",
       "      <td>Tharadas is a ruthless smuggler whose uncle wa...</td>\n",
       "    </tr>\n",
       "    <tr>\n",
       "      <th>34954266</th>\n",
       "      <td>-1</td>\n",
       "      <td>The genesis and metamorphoses of a film, from ...</td>\n",
       "    </tr>\n",
       "    <tr>\n",
       "      <th>15217227</th>\n",
       "      <td>-1</td>\n",
       "      <td>An erotic drama about a writer involved in a p...</td>\n",
       "    </tr>\n",
       "  </tbody>\n",
       "</table>\n",
       "</div>"
      ],
      "text/plain": [
       "                    Answer                                               Plot\n",
       "Wikipedia movie ID                                                           \n",
       "14168925                 1  Cops take sexual advantage of the men they pul...\n",
       "26057620                 0  Yugoslav partisans grimly crop the hair of a v...\n",
       "26015405                 0  Tharadas is a ruthless smuggler whose uncle wa...\n",
       "34954266                -1  The genesis and metamorphoses of a film, from ...\n",
       "15217227                -1  An erotic drama about a writer involved in a p..."
      ]
     },
     "execution_count": 20,
     "metadata": {},
     "output_type": "execute_result"
    }
   ],
   "source": [
    "TrainingSet.head()"
   ]
  },
  {
   "cell_type": "markdown",
   "id": "82756d24-f692-43cb-86e2-be03c7cc65f9",
   "metadata": {},
   "source": [
    "## LLM - GPT-4-mini"
   ]
  },
  {
   "cell_type": "code",
   "execution_count": 22,
   "id": "75e6e858-0467-44e1-9319-e97ed89bd630",
   "metadata": {},
   "outputs": [],
   "source": [
    "# Now import the Classifier class\n",
    "sys.path.append(os.path.abspath(\"../model/\"))\n",
    "\n",
    "#import the custom classifier from src/model !\n",
    "from OpenIA_utility import GPT4mini_ViolenceClassifier"
   ]
  },
  {
   "cell_type": "markdown",
   "id": "06776b7a-ae88-4f82-ad28-df645495be45",
   "metadata": {},
   "source": [
    "### Prompt Ingenieurring\n",
    "\n",
    "We developed a prompt for the classification task. \\\n",
    "The prompt contains a clear violence scale, where each label (Peaceful,Mild,Violent) in explained, and a clear instruction.\n",
    "\n",
    "If the performance of the model aren't good enough, we will add examples."
   ]
  },
  {
   "cell_type": "code",
   "execution_count": 23,
   "id": "a6adc7d6-a671-423b-9e55-6c914b80eac9",
   "metadata": {},
   "outputs": [],
   "source": [
    "#init our classifier\n",
    "Classifier = GPT4mini_ViolenceClassifier()"
   ]
  },
  {
   "cell_type": "code",
   "execution_count": 24,
   "id": "41f67d0c-5e42-46db-a26f-134a5f63ee53",
   "metadata": {
    "scrolled": true
   },
   "outputs": [
    {
     "name": "stdout",
     "output_type": "stream",
     "text": [
      "### Violence scale : ###\n",
      "        - **Peaceful**: The text describes no violence. There are no aggression, conflict, or harm to people or animals. Suitable for all audiences, including children and sensitive viewers.\n",
      "        - **Mild**: The level of violence of the text is minimal or uncertain. There might be moments of tension or mild conflict, such as arguments. ÒÒMild action or suspense is allowed without explicit harm.\n",
      "        - **Violent**: The text describe violence, such as physical aggression, conflict, or harm. Scenes may include fighting, injury, or other intense confrontations. It a prominent feature of the film.\n",
      "\n",
      "### Instructions ###\n",
      "Assign a violence level from the scale above to each movie plot provided below.\n"
     ]
    }
   ],
   "source": [
    "print(Classifier.Content)"
   ]
  },
  {
   "cell_type": "markdown",
   "id": "9d40eab7-e059-4d42-a8ff-4e2d81caec36",
   "metadata": {},
   "source": [
    "To ensure the model return the result in the good format, we developed a function.\n",
    "\n",
    "The final function is :\n",
    "\n",
    "```ruby\n",
    "function = {\n",
    "   \"name\": \"Assign_violence_level\",\n",
    "   \"description\": \"Predict the level of violence of a list of movie plots\",\n",
    "   \"parameters\": {\n",
    "       \"type\": \"object\",\n",
    "       \"properties\": {\n",
    "           \"prediction\": {\n",
    "               \"type\": \"array\",\n",
    "               \"items\": {\n",
    "                   \"type\": \"string\",\n",
    "                   \"enum\": [\n",
    "                       \"Peaceful\",\n",
    "                       \"Mild\",\n",
    "                       \"Violent\"\n",
    "                   ]\n",
    "               },\n",
    "               \"description\": \"The list of violence levels for each movie plot, in the same order as the plots were provided.\"\n",
    "           }\n",
    "       },\n",
    "       \"required\": [\n",
    "           \"prediction\"\n",
    "       ]\n",
    "   }\n",
    "}\n",
    "\n",
    "```\n",
    "\n",
    "The model have to return a array of prediction, one for each plot."
   ]
  },
  {
   "cell_type": "markdown",
   "id": "dc631abc-2b79-44a5-97e7-4c4e46f01737",
   "metadata": {},
   "source": [
    "### Verify the number of tokens\n",
    "\n",
    "The model have a maximum number of input tokens ! For our model, the limit is 128000 tokens. For cod efficiency (and money), we would like to avoid having to loop on each plot and recalling the prompt every time. We will look at the number of token to see how many plots we can put at the time. \n",
    "\n",
    "We implemented a function that tokenize a text in the same way as the model and return the number of token and the pricing."
   ]
  },
  {
   "cell_type": "code",
   "execution_count": 25,
   "id": "63ebec5f-5b59-4bbc-9178-6c79b4feb627",
   "metadata": {
    "scrolled": true
   },
   "outputs": [
    {
     "name": "stdout",
     "output_type": "stream",
     "text": [
      "For the prompt we have 150 tokens, pricing : 2.2499999999999998e-05\n",
      "For the test dataset we have 9406 tokens, pricing : 0.0013884 batch 1\n",
      "For the whole dataset we have 8423387 tokens, pricing : 1.26499305 batch 66\n"
     ]
    }
   ],
   "source": [
    "# Count for the prompt\n",
    "TotalPromt = Classifier.Prompt_size\n",
    "print(\"For the prompt we have\",TotalPromt,\"tokens, pricing :\",TotalPromt*Classifier.pricing)\n",
    "\n",
    "# Count for the test set\n",
    "TotalTest = TestSet[\"Plot\"].apply(Classifier.count_tokens).sum()\n",
    "print(\"For the test dataset we have\",TotalTest+TotalPromt,\"tokens, pricing :\",TotalTest*Classifier.pricing,\"batch\",int(TotalTest/(Classifier.max_input-TotalPromt)+1))\n",
    "\n",
    "# Count for the whole dataset\n",
    "TotalData = CleanData[\"Plot\"].apply(Classifier.count_tokens).sum()\n",
    "batch = int(TotalData/(Classifier.max_input-TotalPromt))+1\n",
    "print(\"For the whole dataset we have\",TotalData,\"tokens, pricing :\",(TotalData+batch*TotalPromt)*Classifier.pricing,\"batch\",batch)"
   ]
  },
  {
   "cell_type": "markdown",
   "id": "741bc6a5-f2f0-4ba2-8ff9-306bec27ddd0",
   "metadata": {},
   "source": [
    "No need of batching for the test data ! but will need for the whole dataset"
   ]
  },
  {
   "cell_type": "markdown",
   "id": "6470580c-7749-4acd-993a-c3201127fbb8",
   "metadata": {},
   "source": [
    "### Create Batch"
   ]
  },
  {
   "cell_type": "markdown",
   "id": "6279af76-5aa7-4e7d-9ac6-f30b84ddd409",
   "metadata": {},
   "source": [
    "As we send multiple plot at the time, we need to format them together in a way the model can understand. Here an example :"
   ]
  },
  {
   "cell_type": "code",
   "execution_count": 26,
   "id": "e1e9b480-bb1f-46f7-99a1-01f1e98d8b49",
   "metadata": {},
   "outputs": [
    {
     "data": {
      "text/plain": [
       "'Cops take sexual advantage of the men they pull over on the beat. A newbie cop is forced to choose between his emotions and his ambition.'"
      ]
     },
     "execution_count": 26,
     "metadata": {},
     "output_type": "execute_result"
    }
   ],
   "source": [
    "TrainingSet.iloc[0][\"Plot\"]"
   ]
  },
  {
   "cell_type": "code",
   "execution_count": 27,
   "id": "d2361ebc-5fad-4ae6-99ae-0de46e01ed62",
   "metadata": {},
   "outputs": [
    {
     "data": {
      "text/plain": [
       "'plot0:Cops take sexual advantage of the men they pull over on the beat. A newbie cop is forced to choose between his emotions and his ambition.\\n\\n'"
      ]
     },
     "execution_count": 27,
     "metadata": {},
     "output_type": "execute_result"
    }
   ],
   "source": [
    "#first parameter is the number of the plot, second is the text\n",
    "Classifier.format_plot(0,TrainingSet.iloc[0][\"Plot\"])"
   ]
  },
  {
   "cell_type": "markdown",
   "id": "da7be3d3-21f3-402a-87c7-4f5c192e6530",
   "metadata": {},
   "source": [
    "Batch yes but how to create them ? We need each batch size to be smaller than the model's limit. We implemented a function that combine the prompt and the formatted plot, and add them until it reach the limit. The function return the ID of the first plot of each batch."
   ]
  },
  {
   "cell_type": "code",
   "execution_count": 28,
   "id": "e811137d-95c7-425a-ab79-74c6ed4251ce",
   "metadata": {},
   "outputs": [
    {
     "name": "stdout",
     "output_type": "stream",
     "text": [
      "prompt size 150\n",
      "Final number of batchs 1\n",
      "prompt size 150\n",
      "batch margin: 476\n",
      "batch margin: 281\n",
      "batch margin: 74\n",
      "batch margin: 681\n",
      "batch margin: 1045\n",
      "batch margin: 794\n",
      "batch margin: 347\n",
      "batch margin: 342\n",
      "batch margin: 398\n",
      "batch margin: 489\n",
      "batch margin: 481\n",
      "batch margin: 885\n",
      "batch margin: 524\n",
      "batch margin: 873\n",
      "batch margin: 286\n",
      "batch margin: 42\n",
      "batch margin: 723\n",
      "batch margin: 325\n",
      "batch margin: 183\n",
      "batch margin: 332\n",
      "batch margin: 152\n",
      "batch margin: 204\n",
      "batch margin: 793\n",
      "batch margin: 737\n",
      "batch margin: 264\n",
      "batch margin: 321\n",
      "batch margin: 780\n",
      "batch margin: 185\n",
      "batch margin: 1411\n",
      "batch margin: 196\n",
      "batch margin: 522\n",
      "batch margin: 384\n",
      "batch margin: 240\n",
      "batch margin: 297\n",
      "batch margin: 734\n",
      "batch margin: 22\n",
      "batch margin: 525\n",
      "batch margin: 297\n",
      "batch margin: 64\n",
      "batch margin: 80\n",
      "batch margin: 170\n",
      "batch margin: 143\n",
      "batch margin: 1088\n",
      "batch margin: 229\n",
      "batch margin: 11\n",
      "batch margin: 387\n",
      "batch margin: 316\n",
      "batch margin: 502\n",
      "batch margin: 275\n",
      "batch margin: 283\n",
      "batch margin: 69\n",
      "batch margin: 13\n",
      "batch margin: 79\n",
      "batch margin: 284\n",
      "batch margin: 551\n",
      "batch margin: 602\n",
      "batch margin: 437\n",
      "batch margin: 17\n",
      "batch margin: 553\n",
      "batch margin: 516\n",
      "batch margin: 477\n",
      "batch margin: 78\n",
      "batch margin: 432\n",
      "batch margin: 540\n",
      "batch margin: 141\n",
      "batch margin: 89\n",
      "Final number of batchs 67\n"
     ]
    }
   ],
   "source": [
    "#for the test set (no batch needed)\n",
    "Classifier.batch_plots(TestSet)\n",
    "\n",
    "#for the dataset !\n",
    "clean_batch = Classifier.batch_plots(CleanData)"
   ]
  },
  {
   "cell_type": "markdown",
   "id": "6569cab9-c3fb-4aef-899c-cb2d6709deb8",
   "metadata": {},
   "source": [
    "### Assess the model on the training set\n",
    "Here we go ! Now we will call the model on the test set and compare the result with the human labelled data. Note that we don't have to train the data, but we still split the test data between train and validation. This is because we went to have a set of labelled data to compare the result with during the prompt fine-tuning and all the test of the model. We still want to have a dataset the model have never seen to test at the end with the final model. If the result is good enough, we will label all the dataset."
   ]
  },
  {
   "cell_type": "code",
   "execution_count": 29,
   "id": "9d0f0901-b8a5-46cb-a412-fb5f18a18528",
   "metadata": {},
   "outputs": [],
   "source": [
    "#just a firewall boolean to avoid running the model by accident\n",
    "Run_test = True"
   ]
  },
  {
   "cell_type": "markdown",
   "id": "51b6b2fe-e490-411d-a368-906d0efe08f0",
   "metadata": {},
   "source": [
    "Here is the format of the final call of the model\n",
    "\n",
    "```ruby\n",
    "completion = client.chat.completions.create(\n",
    "        model=\"gpt-4o-mini\",\n",
    "        messages=[\n",
    "            {\"role\": \"system\", \"content\": Content},\n",
    "            {\"role\": \"user\",\"content\": Text}\n",
    "        ],\n",
    "        functions=[function],\n",
    "        function_call={\"name\": \"Assign_violence_level\"},\n",
    "    )\n",
    "```"
   ]
  },
  {
   "cell_type": "markdown",
   "id": "a5f30c5a-b62e-4c05-a4d0-79ed2e371ead",
   "metadata": {},
   "source": [
    "We format the batch"
   ]
  },
  {
   "cell_type": "code",
   "execution_count": 42,
   "id": "de679c8c-0f70-4ed9-a248-d1661287cfed",
   "metadata": {
    "scrolled": true
   },
   "outputs": [
    {
     "data": {
      "text/plain": [
       "'plot1:Cops take sexual advantage of the men they pull over on the beat. A newbie cop is forced to choose between his emotions and his ambition.\\n\\nplot2:Yugoslav partisans grimly crop the hair of a village quintet of women believed to have consorted with the occupational Nazis. Four, for various reasons, have indeed - and their seducer is a lone, swaggering sergeant whom the partisans briskly emasculate. Escorted out of town by the sheepish Nazis, the forlorn ladies link up, patriotically and romantically, with a band of tough mountain guerrillas.\\n\\nplot3:Tharadas is a ruthless smuggler whose uncle was murdered by Rajesh. Rajesh is married to Thulasi who has dark past with Tharadas. Tharadas\\'s cousin kills Rajesh and accuses Tharadas of the murder. Rajesh\\'s partner Prasad and Thulasi get revenge on Tharadas, and Tharadas kills Chandu in turn. This film broke several Box Office Records and was the 3rd highest grosser in 1984. {{citation needed}}\\n\\nplot4:The genesis and metamorphoses of a film, from the first intuition to the first clapboard. From Tom Waits to Cheikh Lô… and from Venice to Paris to Saint Louis in Senegal, this documentary travels the rivers’ stream in search of the Unshod Man.\\n\\nplot5:An erotic drama about a writer involved in a plagiarism suit who becomes romantically involved with a woman with whom he is connected through dreams.Synopsis from {{cite web}}\\n\\nplot6:Dr. Lawrence Baxter runs a medical-themed radio show and requently denounces the phony radium-based \"medicine\" being sold by Ronald Kennedy. After one of his patients his kidnapped by Kennedy\\'s thugs, Baxter teams up with the police, and pretents to join Kennedy\\'s business to gain evidence of criminal activity.\\n\\nplot7:Natsuki is a blind girl on whose testimony Takechi investigates the murder of her friend Yōko.{{cite web}}\\n\\nplot8:A story centered around a contract worker who is tasked with infiltrating an anarchist group, only to find herself falling for its leader.\\n\\nplot9:A dark slacker comedy about a college student obsessed with Woody Allen\\'s film Annie Hall. His world is then turned upside down by a young woman who might be the modern day equivalent of Annie Hall herself.\\n\\nplot10:Norma and Malcolm Miochaels are a middle-aged married couple who are in the midst of a midlife crisis. Both decide to separate and begin their lives anew away from each other. However, problems ensue once they discover that they are no longer as young as they used to be.\\n\\nplot11:In August 1914 a consignment of Vickers machine guns are stolen off a Royal Navy ship, HMS Marlin. An RN Lieutenant aboard the ship goes undercover as a white hunter through British East Africa to find the weapons before they get into the hands of the Germans and alter the balance of power in Africa.\\n\\nplot12:The gang play baseball until they are run off from the lot. They then get quarantined in a neighbor’s house for a week and wreak the usual havoc.\\n\\nplot13:An elderly watchmaker sees a beautiful young blonde on a bridge and prevents her from committing suicide. They marry and live happily until a man from her past attempts to blackmail her.\\n\\nplot14:A young Lakota Sioux  is adopted by a wealthy Jewish couple. When he ages he gets in touch with his cultural roots.\\n\\nplot15:Five British politicians  travel to West Virginia searching for a legend called The Tony Blair Witch. They begin by interviewing the locals and then bumble around a ghost town breaking windows and doors before a gang of local bumpkins kills them off. The film is presented as a mockumentary much like the film it spoofs.The Tony Blair Witch Project\\n\\nplot16:Zach  is a soul collector, an angel who collects souls and takes them up to heaven. He is sent to earth to live as a human being for thirty days on a Texas cattle ranch. There, he falls in love with the ranch owner, Rebecca , a widowed single mother, and he influences the lives of her son and the ranch workers.\\n\\nplot17:It is the final weekend of summer and a group of Californian teenagers are looking forward to an upcoming surf contest. Rival gangs the \\'Vals\\' and the \\'Lowks\\' are confident that they will take home the trophy, but things become complicated when Reef Yorpin  - leader of the Lawks - discovers his sister Allie  has fallen in love with \\'Val\\' surfer Nick  after meeting at a beach party.\\n\\nplot18:A lewd old lady claiming to be Mother Goose has been put on trial for obscenity, and the evidence being presented is a collection of pornographic animated shorts. Little Red Riding Hood, Jack of Jack and the Beanstalk fame, Cinderella and Snow White are among the most notable participants in what becomes an all out fairy tale orgy.\\n\\nplot19:Martha & Ethel tells the stories of two women in their 80s: a German-Catholic woman named Martha and an African-American woman named Ethel, the former nannies of director/producer Jyll Johnstone and co-producer Barbara Ettinger. It examines each woman’s background and hiring into affluent New York families. The Johnstone and Ettinger children, now grown, reflect on how Martha and Ethel played formative—and often confusing—roles in their lives.\\n\\nplot20:Newlywed Carl  goes to war where he endures major suffering. Back home, wife Pauli  starves, becomes a prostitute to survive, and their baby dies.\\n\\n'"
      ]
     },
     "execution_count": 42,
     "metadata": {},
     "output_type": "execute_result"
    }
   ],
   "source": [
    "Text = Classifier.format_batch(TrainingSet[0:20])\n",
    "Text"
   ]
  },
  {
   "cell_type": "code",
   "execution_count": 43,
   "id": "fe1bab2f-2b5b-487f-9d8c-f195bdfe69ff",
   "metadata": {},
   "outputs": [],
   "source": [
    "prediction = None\n",
    "\n",
    "if Run_test :\n",
    "    prediction = Classifier.Call_API(Text)"
   ]
  },
  {
   "cell_type": "code",
   "execution_count": 44,
   "id": "414dc2f1-d945-4574-82e0-8b17b6a25f5b",
   "metadata": {},
   "outputs": [
    {
     "name": "stdout",
     "output_type": "stream",
     "text": [
      "['Mild', 'Violent', 'Violent', 'Peaceful', 'Peaceful', 'Violent', 'Mild', 'Peaceful', 'Peaceful', 'Mild', 'Mild', 'Mild', 'Mild', 'Peaceful', 'Mild', 'Mild', 'Violent', 'Mild', 'Peaceful', 'Violent']\n"
     ]
    }
   ],
   "source": [
    "print(prediction)"
   ]
  },
  {
   "cell_type": "code",
   "execution_count": 45,
   "id": "2394f198-0964-46d9-bcbb-201df10301d7",
   "metadata": {},
   "outputs": [
    {
     "data": {
      "text/plain": [
       "20"
      ]
     },
     "execution_count": 45,
     "metadata": {},
     "output_type": "execute_result"
    }
   ],
   "source": [
    "len(prediction)"
   ]
  },
  {
   "cell_type": "code",
   "execution_count": 46,
   "id": "90257519-8ee7-4111-8107-4d453a8c77d5",
   "metadata": {},
   "outputs": [
    {
     "data": {
      "text/html": [
       "<div>\n",
       "<style scoped>\n",
       "    .dataframe tbody tr th:only-of-type {\n",
       "        vertical-align: middle;\n",
       "    }\n",
       "\n",
       "    .dataframe tbody tr th {\n",
       "        vertical-align: top;\n",
       "    }\n",
       "\n",
       "    .dataframe thead th {\n",
       "        text-align: right;\n",
       "    }\n",
       "</style>\n",
       "<table border=\"1\" class=\"dataframe\">\n",
       "  <thead>\n",
       "    <tr style=\"text-align: right;\">\n",
       "      <th></th>\n",
       "      <th>Prediction</th>\n",
       "      <th>Result</th>\n",
       "    </tr>\n",
       "    <tr>\n",
       "      <th>Wikipedia movie ID</th>\n",
       "      <th></th>\n",
       "      <th></th>\n",
       "    </tr>\n",
       "  </thead>\n",
       "  <tbody>\n",
       "    <tr>\n",
       "      <th>14168925</th>\n",
       "      <td>Mild</td>\n",
       "      <td>0.0</td>\n",
       "    </tr>\n",
       "    <tr>\n",
       "      <th>26057620</th>\n",
       "      <td>Violent</td>\n",
       "      <td>1.0</td>\n",
       "    </tr>\n",
       "    <tr>\n",
       "      <th>26015405</th>\n",
       "      <td>Violent</td>\n",
       "      <td>1.0</td>\n",
       "    </tr>\n",
       "    <tr>\n",
       "      <th>34954266</th>\n",
       "      <td>Peaceful</td>\n",
       "      <td>-1.0</td>\n",
       "    </tr>\n",
       "    <tr>\n",
       "      <th>15217227</th>\n",
       "      <td>Peaceful</td>\n",
       "      <td>-1.0</td>\n",
       "    </tr>\n",
       "    <tr>\n",
       "      <th>28074095</th>\n",
       "      <td>Violent</td>\n",
       "      <td>1.0</td>\n",
       "    </tr>\n",
       "    <tr>\n",
       "      <th>27573594</th>\n",
       "      <td>Mild</td>\n",
       "      <td>0.0</td>\n",
       "    </tr>\n",
       "    <tr>\n",
       "      <th>34319106</th>\n",
       "      <td>Peaceful</td>\n",
       "      <td>-1.0</td>\n",
       "    </tr>\n",
       "    <tr>\n",
       "      <th>24631652</th>\n",
       "      <td>Peaceful</td>\n",
       "      <td>-1.0</td>\n",
       "    </tr>\n",
       "    <tr>\n",
       "      <th>19278375</th>\n",
       "      <td>Mild</td>\n",
       "      <td>0.0</td>\n",
       "    </tr>\n",
       "    <tr>\n",
       "      <th>34573784</th>\n",
       "      <td>Mild</td>\n",
       "      <td>0.0</td>\n",
       "    </tr>\n",
       "    <tr>\n",
       "      <th>15397835</th>\n",
       "      <td>Mild</td>\n",
       "      <td>0.0</td>\n",
       "    </tr>\n",
       "    <tr>\n",
       "      <th>33440196</th>\n",
       "      <td>Mild</td>\n",
       "      <td>0.0</td>\n",
       "    </tr>\n",
       "    <tr>\n",
       "      <th>11686007</th>\n",
       "      <td>Peaceful</td>\n",
       "      <td>-1.0</td>\n",
       "    </tr>\n",
       "    <tr>\n",
       "      <th>12048544</th>\n",
       "      <td>Mild</td>\n",
       "      <td>0.0</td>\n",
       "    </tr>\n",
       "    <tr>\n",
       "      <th>3868321</th>\n",
       "      <td>Mild</td>\n",
       "      <td>0.0</td>\n",
       "    </tr>\n",
       "    <tr>\n",
       "      <th>24328926</th>\n",
       "      <td>Violent</td>\n",
       "      <td>1.0</td>\n",
       "    </tr>\n",
       "    <tr>\n",
       "      <th>3477618</th>\n",
       "      <td>Mild</td>\n",
       "      <td>0.0</td>\n",
       "    </tr>\n",
       "    <tr>\n",
       "      <th>24214688</th>\n",
       "      <td>Peaceful</td>\n",
       "      <td>-1.0</td>\n",
       "    </tr>\n",
       "    <tr>\n",
       "      <th>14881706</th>\n",
       "      <td>Violent</td>\n",
       "      <td>1.0</td>\n",
       "    </tr>\n",
       "  </tbody>\n",
       "</table>\n",
       "</div>"
      ],
      "text/plain": [
       "                   Prediction  Result\n",
       "Wikipedia movie ID                   \n",
       "14168925                 Mild     0.0\n",
       "26057620              Violent     1.0\n",
       "26015405              Violent     1.0\n",
       "34954266             Peaceful    -1.0\n",
       "15217227             Peaceful    -1.0\n",
       "28074095              Violent     1.0\n",
       "27573594                 Mild     0.0\n",
       "34319106             Peaceful    -1.0\n",
       "24631652             Peaceful    -1.0\n",
       "19278375                 Mild     0.0\n",
       "34573784                 Mild     0.0\n",
       "15397835                 Mild     0.0\n",
       "33440196                 Mild     0.0\n",
       "11686007             Peaceful    -1.0\n",
       "12048544                 Mild     0.0\n",
       "3868321                  Mild     0.0\n",
       "24328926              Violent     1.0\n",
       "3477618                  Mild     0.0\n",
       "24214688             Peaceful    -1.0\n",
       "14881706              Violent     1.0"
      ]
     },
     "execution_count": 46,
     "metadata": {},
     "output_type": "execute_result"
    }
   ],
   "source": [
    "Pred = pd.DataFrame(prediction,index=TrainingSet[0:20].index, columns=[\"Prediction\"])\n",
    "\n",
    "def to_level(data) :\n",
    "    match data:\n",
    "        case 'Peaceful':\n",
    "            return -1.0\n",
    "        case 'Mild':\n",
    "            return 0.0\n",
    "        case 'Violent':\n",
    "            return 1.0\n",
    "        case _:\n",
    "            raise Exception(\"wait is that ?\",data)\n",
    "\n",
    "Pred[\"Result\"] = Pred[\"Prediction\"].apply(to_level)\n",
    "Pred"
   ]
  },
  {
   "cell_type": "code",
   "execution_count": 68,
   "id": "3b8f058b-60d0-42eb-9f5b-ef889916875e",
   "metadata": {},
   "outputs": [
    {
     "data": {
      "text/html": [
       "<div>\n",
       "<style scoped>\n",
       "    .dataframe tbody tr th:only-of-type {\n",
       "        vertical-align: middle;\n",
       "    }\n",
       "\n",
       "    .dataframe tbody tr th {\n",
       "        vertical-align: top;\n",
       "    }\n",
       "\n",
       "    .dataframe thead th {\n",
       "        text-align: right;\n",
       "    }\n",
       "</style>\n",
       "<table border=\"1\" class=\"dataframe\">\n",
       "  <thead>\n",
       "    <tr style=\"text-align: right;\">\n",
       "      <th></th>\n",
       "      <th>Label</th>\n",
       "      <th>Prediction</th>\n",
       "    </tr>\n",
       "    <tr>\n",
       "      <th>Wikipedia movie ID</th>\n",
       "      <th></th>\n",
       "      <th></th>\n",
       "    </tr>\n",
       "  </thead>\n",
       "  <tbody>\n",
       "    <tr>\n",
       "      <th>14168925</th>\n",
       "      <td>1</td>\n",
       "      <td>0.0</td>\n",
       "    </tr>\n",
       "    <tr>\n",
       "      <th>26057620</th>\n",
       "      <td>0</td>\n",
       "      <td>1.0</td>\n",
       "    </tr>\n",
       "    <tr>\n",
       "      <th>26015405</th>\n",
       "      <td>0</td>\n",
       "      <td>1.0</td>\n",
       "    </tr>\n",
       "    <tr>\n",
       "      <th>34954266</th>\n",
       "      <td>-1</td>\n",
       "      <td>-1.0</td>\n",
       "    </tr>\n",
       "    <tr>\n",
       "      <th>15217227</th>\n",
       "      <td>-1</td>\n",
       "      <td>-1.0</td>\n",
       "    </tr>\n",
       "    <tr>\n",
       "      <th>28074095</th>\n",
       "      <td>0</td>\n",
       "      <td>1.0</td>\n",
       "    </tr>\n",
       "    <tr>\n",
       "      <th>27573594</th>\n",
       "      <td>1</td>\n",
       "      <td>0.0</td>\n",
       "    </tr>\n",
       "    <tr>\n",
       "      <th>34319106</th>\n",
       "      <td>0</td>\n",
       "      <td>-1.0</td>\n",
       "    </tr>\n",
       "    <tr>\n",
       "      <th>24631652</th>\n",
       "      <td>-1</td>\n",
       "      <td>-1.0</td>\n",
       "    </tr>\n",
       "    <tr>\n",
       "      <th>19278375</th>\n",
       "      <td>-1</td>\n",
       "      <td>0.0</td>\n",
       "    </tr>\n",
       "    <tr>\n",
       "      <th>34573784</th>\n",
       "      <td>1</td>\n",
       "      <td>0.0</td>\n",
       "    </tr>\n",
       "    <tr>\n",
       "      <th>15397835</th>\n",
       "      <td>0</td>\n",
       "      <td>0.0</td>\n",
       "    </tr>\n",
       "    <tr>\n",
       "      <th>33440196</th>\n",
       "      <td>0</td>\n",
       "      <td>0.0</td>\n",
       "    </tr>\n",
       "    <tr>\n",
       "      <th>11686007</th>\n",
       "      <td>-1</td>\n",
       "      <td>-1.0</td>\n",
       "    </tr>\n",
       "    <tr>\n",
       "      <th>12048544</th>\n",
       "      <td>1</td>\n",
       "      <td>0.0</td>\n",
       "    </tr>\n",
       "    <tr>\n",
       "      <th>3868321</th>\n",
       "      <td>-1</td>\n",
       "      <td>0.0</td>\n",
       "    </tr>\n",
       "    <tr>\n",
       "      <th>24328926</th>\n",
       "      <td>-1</td>\n",
       "      <td>1.0</td>\n",
       "    </tr>\n",
       "    <tr>\n",
       "      <th>3477618</th>\n",
       "      <td>0</td>\n",
       "      <td>0.0</td>\n",
       "    </tr>\n",
       "    <tr>\n",
       "      <th>24214688</th>\n",
       "      <td>-1</td>\n",
       "      <td>-1.0</td>\n",
       "    </tr>\n",
       "    <tr>\n",
       "      <th>14881706</th>\n",
       "      <td>1</td>\n",
       "      <td>1.0</td>\n",
       "    </tr>\n",
       "  </tbody>\n",
       "</table>\n",
       "</div>"
      ],
      "text/plain": [
       "                    Label  Prediction\n",
       "Wikipedia movie ID                   \n",
       "14168925                1         0.0\n",
       "26057620                0         1.0\n",
       "26015405                0         1.0\n",
       "34954266               -1        -1.0\n",
       "15217227               -1        -1.0\n",
       "28074095                0         1.0\n",
       "27573594                1         0.0\n",
       "34319106                0        -1.0\n",
       "24631652               -1        -1.0\n",
       "19278375               -1         0.0\n",
       "34573784                1         0.0\n",
       "15397835                0         0.0\n",
       "33440196                0         0.0\n",
       "11686007               -1        -1.0\n",
       "12048544                1         0.0\n",
       "3868321                -1         0.0\n",
       "24328926               -1         1.0\n",
       "3477618                 0         0.0\n",
       "24214688               -1        -1.0\n",
       "14881706                1         1.0"
      ]
     },
     "execution_count": 68,
     "metadata": {},
     "output_type": "execute_result"
    }
   ],
   "source": [
    "Compare = pd.DataFrame(index=TrainingSet[0:20].index)\n",
    "Compare[\"Label\"] = TrainingSet[0:20][\"Answer\"]\n",
    "Compare[\"Prediction\"] = Pred[\"Result\"]\n",
    "Compare"
   ]
  },
  {
   "cell_type": "code",
   "execution_count": 77,
   "id": "f89558a4-8667-4c2e-845a-ef8249e2615a",
   "metadata": {},
   "outputs": [
    {
     "name": "stdout",
     "output_type": "stream",
     "text": [
      "accuracy 45.0\n",
      "abs distance 0.6\n",
      "pow distance 0.7\n",
      "Correct label 9\n",
      "incorrect but close 10\n",
      "opposite 1\n"
     ]
    }
   ],
   "source": [
    "accuracy = metrics.accuracy_score(Compare[\"Label\"],Compare[\"Prediction\"])\n",
    "print(\"accuracy\",accuracy*100)\n",
    "\n",
    "m1 = abs(Compare[\"Label\"]-Compare[\"Prediction\"]).mean()\n",
    "print(\"abs distance\",m1)\n",
    "\n",
    "#penalize more if opposite result \n",
    "m2 = np.power(Compare[\"Label\"]-Compare[\"Prediction\"], 2).mean()\n",
    "print(\"pow distance\",m2)\n",
    "\n",
    "print(\"Correct label\",(Compare[\"Label\"]==Compare[\"Prediction\"]).sum())\n",
    "print(\"incorrect but close\",(abs(Compare[\"Label\"]-Compare[\"Prediction\"])==1).sum())\n",
    "print(\"opposite\",(abs(Compare[\"Label\"]-Compare[\"Prediction\"])==2).sum())"
   ]
  },
  {
   "cell_type": "code",
   "execution_count": 78,
   "id": "9b15a794-0d38-4d14-baf8-dc750fd8f2a7",
   "metadata": {},
   "outputs": [
    {
     "data": {
      "text/html": [
       "<div>\n",
       "<style scoped>\n",
       "    .dataframe tbody tr th:only-of-type {\n",
       "        vertical-align: middle;\n",
       "    }\n",
       "\n",
       "    .dataframe tbody tr th {\n",
       "        vertical-align: top;\n",
       "    }\n",
       "\n",
       "    .dataframe thead th {\n",
       "        text-align: right;\n",
       "    }\n",
       "</style>\n",
       "<table border=\"1\" class=\"dataframe\">\n",
       "  <thead>\n",
       "    <tr style=\"text-align: right;\">\n",
       "      <th></th>\n",
       "      <th>Label</th>\n",
       "      <th>Prediction</th>\n",
       "    </tr>\n",
       "    <tr>\n",
       "      <th>Wikipedia movie ID</th>\n",
       "      <th></th>\n",
       "      <th></th>\n",
       "    </tr>\n",
       "  </thead>\n",
       "  <tbody>\n",
       "    <tr>\n",
       "      <th>14168925</th>\n",
       "      <td>1</td>\n",
       "      <td>0.0</td>\n",
       "    </tr>\n",
       "    <tr>\n",
       "      <th>26057620</th>\n",
       "      <td>0</td>\n",
       "      <td>1.0</td>\n",
       "    </tr>\n",
       "    <tr>\n",
       "      <th>26015405</th>\n",
       "      <td>0</td>\n",
       "      <td>1.0</td>\n",
       "    </tr>\n",
       "    <tr>\n",
       "      <th>28074095</th>\n",
       "      <td>0</td>\n",
       "      <td>1.0</td>\n",
       "    </tr>\n",
       "    <tr>\n",
       "      <th>27573594</th>\n",
       "      <td>1</td>\n",
       "      <td>0.0</td>\n",
       "    </tr>\n",
       "    <tr>\n",
       "      <th>34319106</th>\n",
       "      <td>0</td>\n",
       "      <td>-1.0</td>\n",
       "    </tr>\n",
       "    <tr>\n",
       "      <th>19278375</th>\n",
       "      <td>-1</td>\n",
       "      <td>0.0</td>\n",
       "    </tr>\n",
       "    <tr>\n",
       "      <th>34573784</th>\n",
       "      <td>1</td>\n",
       "      <td>0.0</td>\n",
       "    </tr>\n",
       "    <tr>\n",
       "      <th>12048544</th>\n",
       "      <td>1</td>\n",
       "      <td>0.0</td>\n",
       "    </tr>\n",
       "    <tr>\n",
       "      <th>3868321</th>\n",
       "      <td>-1</td>\n",
       "      <td>0.0</td>\n",
       "    </tr>\n",
       "  </tbody>\n",
       "</table>\n",
       "</div>"
      ],
      "text/plain": [
       "                    Label  Prediction\n",
       "Wikipedia movie ID                   \n",
       "14168925                1         0.0\n",
       "26057620                0         1.0\n",
       "26015405                0         1.0\n",
       "28074095                0         1.0\n",
       "27573594                1         0.0\n",
       "34319106                0        -1.0\n",
       "19278375               -1         0.0\n",
       "34573784                1         0.0\n",
       "12048544                1         0.0\n",
       "3868321                -1         0.0"
      ]
     },
     "execution_count": 78,
     "metadata": {},
     "output_type": "execute_result"
    }
   ],
   "source": [
    "Compare[(abs(TrainingSet[0:20][\"Answer\"]-Pred[0:20][\"Result\"])==1)]"
   ]
  },
  {
   "cell_type": "markdown",
   "id": "044499e1-c50f-43b7-a4a8-cd98066af992",
   "metadata": {},
   "source": [
    "<b>Testing history :</b>\n",
    "- first model is bad. It is not totally wrong but is usually close but not perfect. This could also be due to error during labelling. As we discussed, the notion of violence is complex. We should take this into account while labelling. We will try to improve the model accuracy by giving him typical example. Another problem is that with too much movie, the model forget some labels."
   ]
  },
  {
   "cell_type": "markdown",
   "id": "36371fba-e13a-4cd1-809a-d944b3397ee9",
   "metadata": {},
   "source": [
    "### Apply to the whole dataset"
   ]
  }
 ],
 "metadata": {
  "kernelspec": {
   "display_name": "Python 3 (ipykernel)",
   "language": "python",
   "name": "python3"
  },
  "language_info": {
   "codemirror_mode": {
    "name": "ipython",
    "version": 3
   },
   "file_extension": ".py",
   "mimetype": "text/x-python",
   "name": "python",
   "nbconvert_exporter": "python",
   "pygments_lexer": "ipython3",
   "version": "3.11.9"
  }
 },
 "nbformat": 4,
 "nbformat_minor": 5
}
