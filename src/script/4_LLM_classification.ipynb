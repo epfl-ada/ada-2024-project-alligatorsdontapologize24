{
 "cells": [
  {
   "cell_type": "markdown",
   "id": "0baccbf6-32d7-4970-9835-bc5130288c78",
   "metadata": {},
   "source": [
    "# Classification with LLM"
   ]
  },
  {
   "cell_type": "markdown",
   "id": "51382b80-7515-49f0-9885-b10c699df18b",
   "metadata": {
    "tags": []
   },
   "source": [
    "So far, we have cleaned the data and performed sentiment analysis as well as a violent word count analysis. Our objective is to categorize the movies on a scale from non-violent to violent.\n",
    "\n",
    "Our approach will be to build a model that labels the dataset.\n",
    "In this Notebook, we will try to label the data using a LLM, namely GPT4mini from OpenIA.\n",
    "\n",
    "## Labeling the Data\n",
    "Since labeled data is required for analysis, we manually labeled a subset of the dataset. We divided part of the data among team members and labeled each movie plot based on a categorical scale:\n",
    "<ul>\n",
    "    <li><b>-1</b> : Peaceful</li>\n",
    "    <li><b>0</b> : Ambiguous (Uncertain level of violence)</li>\n",
    "    <li><b>1</b> : Violent</li>\n",
    "</ul>\n",
    "To assess the subjectivity of the labeling process, we had some plots labeled multiple times by external participants.\n",
    "\n",
    "## Dataset\n",
    "<ul>\n",
    "    <li><b>Training and Testing Data</b> <br/> Given the limited number of labeled plots available, we will use most of the labeled items for the training set. We will keep five plots as the testing set to evaluate the model (alternatively, we may use the entire dataset and assess labeling quality across the final labeled set) </li>\n",
    "    <li><b>Final Dataset</b>  <br/> We will apply the model to label the entire dataset and review the quality of the labels.</li>\n",
    "</ul>\n",
    "\n",
    "## Model\n",
    "\n",
    "We will use the GPT-4o-mini model \\\n",
    "https://platform.openai.com/docs/overview \\\n",
    "https://platform.openai.com/docs/models#gpt-4o-mini\n",
    "\n",
    "### reference\n",
    "\n",
    "\n",
    "https://platform.openai.com/docs/guides/prompt-engineering \\\n",
    "https://medium.com/discovery-at-nesta/how-to-use-gpt-4-and-openais-functions-for-text-classification-ad0957be9b25 \\\n",
    "\n"
   ]
  },
  {
   "cell_type": "markdown",
   "id": "baf91d5c-5c11-4011-9ab9-f3ec93a21322",
   "metadata": {
    "jp-MarkdownHeadingCollapsed": true
   },
   "source": [
    "### Imports"
   ]
  },
  {
   "cell_type": "code",
   "execution_count": 1,
   "id": "fd68589e-581f-425d-ae77-f499569e7d6b",
   "metadata": {},
   "outputs": [],
   "source": [
    "import sys\n",
    "import os\n",
    "import pandas as pd\n",
    "import matplotlib.pyplot as plt\n",
    "import seaborn as sns\n",
    "import numpy as np\n",
    "import math\n",
    "\n",
    "%matplotlib inline"
   ]
  },
  {
   "cell_type": "code",
   "execution_count": 2,
   "id": "933d6ef4-39e2-4421-a5ed-a5071a63eb08",
   "metadata": {},
   "outputs": [],
   "source": [
    "# Add the project root directory (not src) to sys.path\n",
    "sys.path.append(os.path.abspath(\"../data/\"))\n",
    "\n",
    "# Now import the DataLoader class\n",
    "from data_loading import DataLoader\n",
    "\n",
    "raw = '../../data/RAW/'\n",
    "clean = '../../data/CLEAN'"
   ]
  },
  {
   "cell_type": "markdown",
   "id": "981aed4f-5397-4b14-abec-711e8318f8ad",
   "metadata": {
    "jp-MarkdownHeadingCollapsed": true
   },
   "source": [
    "## Load and prepare the data"
   ]
  },
  {
   "cell_type": "code",
   "execution_count": 3,
   "id": "2952f26a-97ec-474e-8c5a-f99f942b23b6",
   "metadata": {
    "scrolled": true
   },
   "outputs": [
    {
     "name": "stdout",
     "output_type": "stream",
     "text": [
      "\n",
      "load plot data\n",
      "\n"
     ]
    }
   ],
   "source": [
    "#load the data\n",
    "data_loader = DataLoader(raw,clean)\n",
    "CleanData = data_loader.clean_movie_data()\n",
    "PlotData = data_loader.plot_data()"
   ]
  },
  {
   "cell_type": "code",
   "execution_count": 4,
   "id": "dbe60af0-6e8a-46fd-aac6-e34ba9f2c740",
   "metadata": {},
   "outputs": [
    {
     "data": {
      "text/html": [
       "<div>\n",
       "<style scoped>\n",
       "    .dataframe tbody tr th:only-of-type {\n",
       "        vertical-align: middle;\n",
       "    }\n",
       "\n",
       "    .dataframe tbody tr th {\n",
       "        vertical-align: top;\n",
       "    }\n",
       "\n",
       "    .dataframe thead th {\n",
       "        text-align: right;\n",
       "    }\n",
       "</style>\n",
       "<table border=\"1\" class=\"dataframe\">\n",
       "  <thead>\n",
       "    <tr style=\"text-align: right;\">\n",
       "      <th></th>\n",
       "      <th>Unnamed: 0</th>\n",
       "      <th>Violence level</th>\n",
       "      <th>Label</th>\n",
       "    </tr>\n",
       "  </thead>\n",
       "  <tbody>\n",
       "    <tr>\n",
       "      <th>0</th>\n",
       "      <td>0</td>\n",
       "      <td>Low</td>\n",
       "      <td>-1</td>\n",
       "    </tr>\n",
       "    <tr>\n",
       "      <th>1</th>\n",
       "      <td>1</td>\n",
       "      <td>Medium/not sure</td>\n",
       "      <td>0</td>\n",
       "    </tr>\n",
       "    <tr>\n",
       "      <th>2</th>\n",
       "      <td>2</td>\n",
       "      <td>Violent</td>\n",
       "      <td>1</td>\n",
       "    </tr>\n",
       "  </tbody>\n",
       "</table>\n",
       "</div>"
      ],
      "text/plain": [
       "   Unnamed: 0   Violence level  Label\n",
       "0           0              Low     -1\n",
       "1           1  Medium/not sure      0\n",
       "2           2          Violent      1"
      ]
     },
     "metadata": {},
     "output_type": "display_data"
    },
    {
     "data": {
      "text/html": [
       "<div>\n",
       "<style scoped>\n",
       "    .dataframe tbody tr th:only-of-type {\n",
       "        vertical-align: middle;\n",
       "    }\n",
       "\n",
       "    .dataframe tbody tr th {\n",
       "        vertical-align: top;\n",
       "    }\n",
       "\n",
       "    .dataframe thead th {\n",
       "        text-align: right;\n",
       "    }\n",
       "</style>\n",
       "<table border=\"1\" class=\"dataframe\">\n",
       "  <thead>\n",
       "    <tr style=\"text-align: right;\">\n",
       "      <th></th>\n",
       "      <th>Answer</th>\n",
       "      <th>Date</th>\n",
       "    </tr>\n",
       "    <tr>\n",
       "      <th>Wikipedia movie ID</th>\n",
       "      <th></th>\n",
       "      <th></th>\n",
       "    </tr>\n",
       "  </thead>\n",
       "  <tbody>\n",
       "    <tr>\n",
       "      <th>113454</th>\n",
       "      <td>0.0</td>\n",
       "      <td>12.11</td>\n",
       "    </tr>\n",
       "    <tr>\n",
       "      <th>2295249</th>\n",
       "      <td>0.0</td>\n",
       "      <td>12.11</td>\n",
       "    </tr>\n",
       "    <tr>\n",
       "      <th>2967223</th>\n",
       "      <td>1.0</td>\n",
       "      <td>11.11</td>\n",
       "    </tr>\n",
       "    <tr>\n",
       "      <th>3868321</th>\n",
       "      <td>-1.0</td>\n",
       "      <td>12.11</td>\n",
       "    </tr>\n",
       "    <tr>\n",
       "      <th>4481850</th>\n",
       "      <td>0.0</td>\n",
       "      <td>11.11</td>\n",
       "    </tr>\n",
       "  </tbody>\n",
       "</table>\n",
       "</div>"
      ],
      "text/plain": [
       "                    Answer  Date \n",
       "Wikipedia movie ID               \n",
       "113454                 0.0  12.11\n",
       "2295249                0.0  12.11\n",
       "2967223                1.0  11.11\n",
       "3868321               -1.0  12.11\n",
       "4481850                0.0  11.11"
      ]
     },
     "metadata": {},
     "output_type": "display_data"
    }
   ],
   "source": [
    "#load the labelled data\n",
    "ViolentLabel,ViolentData = data_loader.human_labelled_data()\n",
    "display(ViolentLabel)\n",
    "display(ViolentData.head())"
   ]
  },
  {
   "cell_type": "code",
   "execution_count": 5,
   "id": "0838f0fa-9ed2-4105-aa28-7c476af5de52",
   "metadata": {},
   "outputs": [
    {
     "data": {
      "text/html": [
       "<div>\n",
       "<style scoped>\n",
       "    .dataframe tbody tr th:only-of-type {\n",
       "        vertical-align: middle;\n",
       "    }\n",
       "\n",
       "    .dataframe tbody tr th {\n",
       "        vertical-align: top;\n",
       "    }\n",
       "\n",
       "    .dataframe thead th {\n",
       "        text-align: right;\n",
       "    }\n",
       "</style>\n",
       "<table border=\"1\" class=\"dataframe\">\n",
       "  <thead>\n",
       "    <tr style=\"text-align: right;\">\n",
       "      <th></th>\n",
       "      <th>Plot</th>\n",
       "    </tr>\n",
       "    <tr>\n",
       "      <th>Wikipedia movie ID</th>\n",
       "      <th></th>\n",
       "    </tr>\n",
       "  </thead>\n",
       "  <tbody>\n",
       "    <tr>\n",
       "      <th>113454</th>\n",
       "      <td>The film tells the story of a mob hit man  and...</td>\n",
       "    </tr>\n",
       "    <tr>\n",
       "      <th>2295249</th>\n",
       "      <td>Theresa is one of the twelve jurors who have t...</td>\n",
       "    </tr>\n",
       "    <tr>\n",
       "      <th>2967223</th>\n",
       "      <td>Robert Crain is a German pacifist living in In...</td>\n",
       "    </tr>\n",
       "    <tr>\n",
       "      <th>3868321</th>\n",
       "      <td>Zach  is a soul collector, an angel who collec...</td>\n",
       "    </tr>\n",
       "    <tr>\n",
       "      <th>4481850</th>\n",
       "      <td>Adam, a 23-year-old self-employed security tec...</td>\n",
       "    </tr>\n",
       "  </tbody>\n",
       "</table>\n",
       "</div>"
      ],
      "text/plain": [
       "                                                                 Plot\n",
       "Wikipedia movie ID                                                   \n",
       "113454              The film tells the story of a mob hit man  and...\n",
       "2295249             Theresa is one of the twelve jurors who have t...\n",
       "2967223             Robert Crain is a German pacifist living in In...\n",
       "3868321             Zach  is a soul collector, an angel who collec...\n",
       "4481850             Adam, a 23-year-old self-employed security tec..."
      ]
     },
     "execution_count": 5,
     "metadata": {},
     "output_type": "execute_result"
    }
   ],
   "source": [
    "TestSet = PlotData.loc[ViolentData.index]\n",
    "TestSet.head()"
   ]
  },
  {
   "cell_type": "code",
   "execution_count": 6,
   "id": "568c7b94-b1d7-4367-b10b-c095824ab06f",
   "metadata": {},
   "outputs": [
    {
     "data": {
      "text/plain": [
       "'The film tells the story of a mob hit man  and hit woman  who fall in love, even though they have been hired to kill each other.'"
      ]
     },
     "execution_count": 6,
     "metadata": {},
     "output_type": "execute_result"
    }
   ],
   "source": [
    "TestSet.iloc[0][\"Plot\"]"
   ]
  },
  {
   "cell_type": "code",
   "execution_count": 7,
   "id": "8386a2de-5664-46e4-86a1-e419fcc24f6a",
   "metadata": {},
   "outputs": [],
   "source": [
    "cut = 10\n",
    "ValidationSet = TestSet[:cut]\n",
    "TrainingSet = TestSet[cut+1:]"
   ]
  },
  {
   "cell_type": "code",
   "execution_count": 8,
   "id": "68e6d798-b426-46e0-b9bc-56206de96684",
   "metadata": {},
   "outputs": [
    {
     "data": {
      "text/html": [
       "<div>\n",
       "<style scoped>\n",
       "    .dataframe tbody tr th:only-of-type {\n",
       "        vertical-align: middle;\n",
       "    }\n",
       "\n",
       "    .dataframe tbody tr th {\n",
       "        vertical-align: top;\n",
       "    }\n",
       "\n",
       "    .dataframe thead th {\n",
       "        text-align: right;\n",
       "    }\n",
       "</style>\n",
       "<table border=\"1\" class=\"dataframe\">\n",
       "  <thead>\n",
       "    <tr style=\"text-align: right;\">\n",
       "      <th></th>\n",
       "      <th>Plot</th>\n",
       "    </tr>\n",
       "    <tr>\n",
       "      <th>Wikipedia movie ID</th>\n",
       "      <th></th>\n",
       "    </tr>\n",
       "  </thead>\n",
       "  <tbody>\n",
       "    <tr>\n",
       "      <th>14144257</th>\n",
       "      <td>NW Mounted Police Sgt. Ward is assigned to tra...</td>\n",
       "    </tr>\n",
       "    <tr>\n",
       "      <th>15124157</th>\n",
       "      <td>The film is an examination of libidinous baske...</td>\n",
       "    </tr>\n",
       "    <tr>\n",
       "      <th>15217227</th>\n",
       "      <td>An erotic drama about a writer involved in a p...</td>\n",
       "    </tr>\n",
       "    <tr>\n",
       "      <th>15323823</th>\n",
       "      <td>{{expand section}} The film is set in Hanky Pa...</td>\n",
       "    </tr>\n",
       "    <tr>\n",
       "      <th>16494542</th>\n",
       "      <td>Richard Beck  is a police detective who believ...</td>\n",
       "    </tr>\n",
       "  </tbody>\n",
       "</table>\n",
       "</div>"
      ],
      "text/plain": [
       "                                                                 Plot\n",
       "Wikipedia movie ID                                                   \n",
       "14144257            NW Mounted Police Sgt. Ward is assigned to tra...\n",
       "15124157            The film is an examination of libidinous baske...\n",
       "15217227            An erotic drama about a writer involved in a p...\n",
       "15323823            {{expand section}} The film is set in Hanky Pa...\n",
       "16494542            Richard Beck  is a police detective who believ..."
      ]
     },
     "execution_count": 8,
     "metadata": {},
     "output_type": "execute_result"
    }
   ],
   "source": [
    "TrainingSet.head()"
   ]
  },
  {
   "cell_type": "markdown",
   "id": "82756d24-f692-43cb-86e2-be03c7cc65f9",
   "metadata": {},
   "source": [
    "## LLM - GPT-4-mini"
   ]
  },
  {
   "cell_type": "code",
   "execution_count": 9,
   "id": "75e6e858-0467-44e1-9319-e97ed89bd630",
   "metadata": {},
   "outputs": [],
   "source": [
    "# Now import the Classifier class\n",
    "sys.path.append(os.path.abspath(\"../model/\"))\n",
    "\n",
    "from OpenIA_utility import GPT4mini_ViolenceClassifier"
   ]
  },
  {
   "cell_type": "markdown",
   "id": "06776b7a-ae88-4f82-ad28-df645495be45",
   "metadata": {},
   "source": [
    "### Prompt Ingenieurring\n",
    "\n",
    "We developed a prompt for the classification task. \\\n",
    "The prompt contains a clear violence scale, where each label (Peaceful,Mild,Violent) in explained, and a clear instruction.\n",
    "\n",
    "If the performance of the model aren't good enough, we will add examples."
   ]
  },
  {
   "cell_type": "code",
   "execution_count": 10,
   "id": "a6adc7d6-a671-423b-9e55-6c914b80eac9",
   "metadata": {},
   "outputs": [],
   "source": [
    "#init our classifier\n",
    "Classifier = GPT4mini_ViolenceClassifier()"
   ]
  },
  {
   "cell_type": "code",
   "execution_count": 11,
   "id": "41f67d0c-5e42-46db-a26f-134a5f63ee53",
   "metadata": {
    "scrolled": true
   },
   "outputs": [
    {
     "name": "stdout",
     "output_type": "stream",
     "text": [
      "### Violence scale : ###\n",
      "        - **Peaceful**: The text describes no violence. There are no aggression, conflict, or harm to people or animals. Suitable for all audiences, including children and sensitive viewers.\n",
      "        - **Mild**: The level of violence of the text is minimal or uncertain. There might be moments of tension or mild conflict, such as arguments. TMild action or suspense is allowed without explicit harm.\n",
      "        - **Violent**: The text describe violence, such as physical aggression, conflict, or harm. Scenes may include fighting, injury, or other intense confrontations. It a prominent feature of the film.\n",
      "\n",
      "### Instructions ###\n",
      "Assign a violence level from the scale above to each movie plot provided below.\n"
     ]
    }
   ],
   "source": [
    "print(Classifier.Content)"
   ]
  },
  {
   "cell_type": "markdown",
   "id": "9d40eab7-e059-4d42-a8ff-4e2d81caec36",
   "metadata": {},
   "source": [
    "To ensure the model return the result in the good format, we developed a function.\n",
    "\n",
    "The final function is :\n",
    "\n",
    "```ruby\n",
    "function = {\n",
    "   \"name\": \"Assign_violence_level\",\n",
    "   \"description\": \"Predict the level of violence of a list of movie plots\",\n",
    "   \"parameters\": {\n",
    "       \"type\": \"object\",\n",
    "       \"properties\": {\n",
    "           \"prediction\": {\n",
    "               \"type\": \"array\",\n",
    "               \"items\": {\n",
    "                   \"type\": \"string\",\n",
    "                   \"enum\": [\n",
    "                       \"Peaceful\",\n",
    "                       \"Mild\",\n",
    "                       \"Violent\"\n",
    "                   ]\n",
    "               },\n",
    "               \"description\": \"The list of violence levels for each movie plot, in the same order as the plots were provided.\"\n",
    "           }\n",
    "       },\n",
    "       \"required\": [\n",
    "           \"prediction\"\n",
    "       ]\n",
    "   }\n",
    "}\n",
    "\n",
    "```\n",
    "\n",
    "The model have to return a array of prediction, one for each plot."
   ]
  },
  {
   "cell_type": "markdown",
   "id": "dc631abc-2b79-44a5-97e7-4c4e46f01737",
   "metadata": {},
   "source": [
    "### Verify the number of tokens\n",
    "\n",
    "The model have a maximum number of input tokens ! For our model, the limit is 128000 tokens. For cod efficiency (and money), we would like to avoid having to loop on each plot and recalling the prompt every time. We will look at the number of token to see how many plots we can put at the time. \n",
    "\n",
    "We implemented a function that tokenize a text in the same way as the model and return the number of token and the pricing."
   ]
  },
  {
   "cell_type": "code",
   "execution_count": 12,
   "id": "63ebec5f-5b59-4bbc-9178-6c79b4feb627",
   "metadata": {
    "scrolled": true
   },
   "outputs": [
    {
     "name": "stdout",
     "output_type": "stream",
     "text": [
      "For the prompt we have 148 tokens, pricing : 2.2199999999999998e-05\n",
      "For the test dataset we have 4123 tokens, pricing : 0.00059625 batch 1\n",
      "For the whole dataset we have 8423387 tokens, pricing : 1.26497325 batch 66\n"
     ]
    }
   ],
   "source": [
    "# Count for the prompt\n",
    "TotalPromt = Classifier.Prompt_size\n",
    "print(\"For the prompt we have\",TotalPromt,\"tokens, pricing :\",TotalPromt*Classifier.pricing)\n",
    "\n",
    "# Count for the test set\n",
    "TotalTest = TestSet[\"Plot\"].apply(Classifier.count_tokens).sum()\n",
    "print(\"For the test dataset we have\",TotalTest+TotalPromt,\"tokens, pricing :\",TotalTest*Classifier.pricing,\"batch\",int(TotalTest/(Classifier.max_input-TotalPromt)+1))\n",
    "\n",
    "# Count for the whole dataset\n",
    "TotalData = CleanData[\"Plot\"].apply(Classifier.count_tokens).sum()\n",
    "batch = int(TotalData/(Classifier.max_input-TotalPromt))+1\n",
    "print(\"For the whole dataset we have\",TotalData,\"tokens, pricing :\",(TotalData+batch*TotalPromt)*Classifier.pricing,\"batch\",batch)"
   ]
  },
  {
   "cell_type": "markdown",
   "id": "741bc6a5-f2f0-4ba2-8ff9-306bec27ddd0",
   "metadata": {},
   "source": [
    "No need of batching for the test data ! but will need for the whole dataset"
   ]
  },
  {
   "cell_type": "markdown",
   "id": "6470580c-7749-4acd-993a-c3201127fbb8",
   "metadata": {},
   "source": [
    "### Create Batch"
   ]
  },
  {
   "cell_type": "markdown",
   "id": "6279af76-5aa7-4e7d-9ac6-f30b84ddd409",
   "metadata": {},
   "source": [
    "As we send multiple plot at the time, we need to format them together in a way the model can understand. Here an example :"
   ]
  },
  {
   "cell_type": "code",
   "execution_count": 13,
   "id": "e1e9b480-bb1f-46f7-99a1-01f1e98d8b49",
   "metadata": {},
   "outputs": [
    {
     "data": {
      "text/plain": [
       "'NW Mounted Police Sgt. Ward is assigned to track down a lethal and mysterious villain known only as The Leader, who is trying to locate a secret gold mine in the Indian territory. At the time The Leader made the decision to stop Ward, he pits the Indians against the Mounties, whom he blames for creating trouble in the area.'"
      ]
     },
     "execution_count": 13,
     "metadata": {},
     "output_type": "execute_result"
    }
   ],
   "source": [
    "TrainingSet.iloc[0][\"Plot\"]"
   ]
  },
  {
   "cell_type": "code",
   "execution_count": 14,
   "id": "d2361ebc-5fad-4ae6-99ae-0de46e01ed62",
   "metadata": {},
   "outputs": [
    {
     "data": {
      "text/plain": [
       "'plot0:NW Mounted Police Sgt. Ward is assigned to track down a lethal and mysterious villain known only as The Leader, who is trying to locate a secret gold mine in the Indian territory. At the time The Leader made the decision to stop Ward, he pits the Indians against the Mounties, whom he blames for creating trouble in the area.\\n\\n'"
      ]
     },
     "execution_count": 14,
     "metadata": {},
     "output_type": "execute_result"
    }
   ],
   "source": [
    "#first parameter is the number of the plot, second is the text\n",
    "Classifier.format_plot(0,TrainingSet.iloc[0][\"Plot\"])"
   ]
  },
  {
   "cell_type": "markdown",
   "id": "da7be3d3-21f3-402a-87c7-4f5c192e6530",
   "metadata": {},
   "source": [
    "Batch yes but how to create them ? We need each batch size to be smaller than the model's limit. We implemented a function that combine the prompt and the formatted plot, and add them until it reach the limit. The function return the ID of the first plot of each batch."
   ]
  },
  {
   "cell_type": "code",
   "execution_count": 15,
   "id": "e811137d-95c7-425a-ab79-74c6ed4251ce",
   "metadata": {},
   "outputs": [
    {
     "name": "stdout",
     "output_type": "stream",
     "text": [
      "prompt size 148\n",
      "Final number of batchs 1\n",
      "prompt size 148\n",
      "batch margin: 478\n",
      "batch margin: 283\n",
      "batch margin: 76\n",
      "batch margin: 684\n",
      "batch margin: 1047\n",
      "batch margin: 796\n",
      "batch margin: 349\n",
      "batch margin: 344\n",
      "batch margin: 400\n",
      "batch margin: 491\n",
      "batch margin: 483\n",
      "batch margin: 887\n",
      "batch margin: 526\n",
      "batch margin: 875\n",
      "batch margin: 288\n",
      "batch margin: 44\n",
      "batch margin: 725\n",
      "batch margin: 327\n",
      "batch margin: 185\n",
      "batch margin: 334\n",
      "batch margin: 154\n",
      "batch margin: 206\n",
      "batch margin: 795\n",
      "batch margin: 739\n",
      "batch margin: 266\n",
      "batch margin: 323\n",
      "batch margin: 782\n",
      "batch margin: 187\n",
      "batch margin: 1413\n",
      "batch margin: 198\n",
      "batch margin: 524\n",
      "batch margin: 386\n",
      "batch margin: 242\n",
      "batch margin: 299\n",
      "batch margin: 736\n",
      "batch margin: 24\n",
      "batch margin: 527\n",
      "batch margin: 299\n",
      "batch margin: 66\n",
      "batch margin: 82\n",
      "batch margin: 172\n",
      "batch margin: 145\n",
      "batch margin: 1090\n",
      "batch margin: 231\n",
      "batch margin: 13\n",
      "batch margin: 389\n",
      "batch margin: 318\n",
      "batch margin: 504\n",
      "batch margin: 277\n",
      "batch margin: 285\n",
      "batch margin: 71\n",
      "batch margin: 15\n",
      "batch margin: 81\n",
      "batch margin: 286\n",
      "batch margin: 553\n",
      "batch margin: 604\n",
      "batch margin: 439\n",
      "batch margin: 19\n",
      "batch margin: 555\n",
      "batch margin: 518\n",
      "batch margin: 479\n",
      "batch margin: 80\n",
      "batch margin: 434\n",
      "batch margin: 542\n",
      "batch margin: 143\n",
      "batch margin: 91\n",
      "Final number of batchs 67\n"
     ]
    }
   ],
   "source": [
    "#for the test set (no batch needed)\n",
    "Classifier.batch_plots(TestSet)\n",
    "\n",
    "#for the dataset !\n",
    "clean_batch = Classifier.batch_plots(CleanData)"
   ]
  },
  {
   "cell_type": "code",
   "execution_count": 16,
   "id": "df2cf16e-6cb8-489b-94b0-8b3707188668",
   "metadata": {},
   "outputs": [],
   "source": [
    "T = TrainingSet[0:10]"
   ]
  },
  {
   "cell_type": "markdown",
   "id": "6569cab9-c3fb-4aef-899c-cb2d6709deb8",
   "metadata": {},
   "source": [
    "### Assess the model on the training set\n",
    "Here we go ! Now we will call the model on the test set and compare the result with the human labelled data. Note that we don't have to train the data, but we still split the test data between train and validation. This is because we went to have a set of labelled data to compare the result with during the prompt fine-tuning and all the test of the model. We still want to have a dataset the model have never seen to test at the end with the final model. If the result is good enough, we will label all the dataset."
   ]
  },
  {
   "cell_type": "code",
   "execution_count": 17,
   "id": "9d0f0901-b8a5-46cb-a412-fb5f18a18528",
   "metadata": {},
   "outputs": [],
   "source": [
    "#just a firewall boolean to avoid running the model by accident\n",
    "Run = True"
   ]
  },
  {
   "cell_type": "markdown",
   "id": "51b6b2fe-e490-411d-a368-906d0efe08f0",
   "metadata": {},
   "source": [
    "Here is the format of the final call of the model\n",
    "\n",
    "```ruby\n",
    "completion = client.chat.completions.create(\n",
    "        model=\"gpt-4o-mini\",\n",
    "        messages=[\n",
    "            {\"role\": \"system\", \"content\": Content},\n",
    "            {\"role\": \"user\",\"content\": Text}\n",
    "        ],\n",
    "        functions=[function],\n",
    "        function_call={\"name\": \"Assign_violence_level\"},\n",
    "    )\n",
    "```"
   ]
  },
  {
   "cell_type": "markdown",
   "id": "a5f30c5a-b62e-4c05-a4d0-79ed2e371ead",
   "metadata": {},
   "source": [
    "We format the batch"
   ]
  },
  {
   "cell_type": "code",
   "execution_count": 21,
   "id": "de679c8c-0f70-4ed9-a248-d1661287cfed",
   "metadata": {
    "scrolled": true
   },
   "outputs": [],
   "source": [
    "Text = Classifier.format_batch(T)"
   ]
  },
  {
   "cell_type": "code",
   "execution_count": 22,
   "id": "fe1bab2f-2b5b-487f-9d8c-f195bdfe69ff",
   "metadata": {},
   "outputs": [],
   "source": [
    "prediction = None\n",
    "\n",
    "if Run :\n",
    "    prediction = Classifier.Call_API(Text)"
   ]
  },
  {
   "cell_type": "code",
   "execution_count": 27,
   "id": "414dc2f1-d945-4574-82e0-8b17b6a25f5b",
   "metadata": {},
   "outputs": [
    {
     "name": "stdout",
     "output_type": "stream",
     "text": [
      "['Violent', 'Peaceful', 'Peaceful', 'Peaceful', 'Violent', 'Peaceful', 'Peaceful', 'Peaceful', 'Peaceful']\n"
     ]
    }
   ],
   "source": [
    "print(prediction)"
   ]
  },
  {
   "cell_type": "markdown",
   "id": "36371fba-e13a-4cd1-809a-d944b3397ee9",
   "metadata": {},
   "source": [
    "### Apply to the whole dataset"
   ]
  }
 ],
 "metadata": {
  "kernelspec": {
   "display_name": "Python 3 (ipykernel)",
   "language": "python",
   "name": "python3"
  },
  "language_info": {
   "codemirror_mode": {
    "name": "ipython",
    "version": 3
   },
   "file_extension": ".py",
   "mimetype": "text/x-python",
   "name": "python",
   "nbconvert_exporter": "python",
   "pygments_lexer": "ipython3",
   "version": "3.11.9"
  }
 },
 "nbformat": 4,
 "nbformat_minor": 5
}
