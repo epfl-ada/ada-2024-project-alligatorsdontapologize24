{
 "cells": [
  {
   "cell_type": "markdown",
   "id": "0baccbf6-32d7-4970-9835-bc5130288c78",
   "metadata": {},
   "source": [
    "# Classification with LLM"
   ]
  },
  {
   "cell_type": "markdown",
   "id": "51382b80-7515-49f0-9885-b10c699df18b",
   "metadata": {},
   "source": [
    "So far, we have cleaned the data and performed sentiment analysis as well as a violent word count analysis. Our objective is to categorize the movies on a scale from non-violent to violent.\n",
    "\n",
    "Our approach will be to build a model that labels the dataset.\n",
    "In this Notebook, we will try to label the data using a LLM, namely GPT4mini from OpenIA.\n",
    "\n",
    "## Labeling the Data\n",
    "Since labeled data is required for analysis, we manually labeled a subset of the dataset. We divided part of the data among team members and labeled each movie plot based on a categorical scale:\n",
    "<ul>\n",
    "    <li><b>-1</b> : Peaceful</li>\n",
    "    <li><b>0</b> : Ambiguous (Uncertain level of violence)</li>\n",
    "    <li><b>1</b> : Violent</li>\n",
    "</ul>\n",
    "To assess the subjectivity of the labeling process, we had some plots labeled multiple times by external participants.\n",
    "\n",
    "## Dataset\n",
    "<ul>\n",
    "    <li><b>Training and Testing Data</b> <br/> Given the limited number of labeled plots available, we will use most of the labeled items for the training set. We will keep five plots as the testing set to evaluate the model (alternatively, we may use the entire dataset and assess labeling quality across the final labeled set) </li>\n",
    "    <li><b>Final Dataset</b>  <br/> We will apply the model to label the entire dataset and review the quality of the labels.</li>\n",
    "</ul>\n",
    "\n",
    "## Model\n",
    "\n",
    "We will use the GPT-4o-mini model \\\n",
    "https://platform.openai.com/docs/overview \\\n",
    "https://platform.openai.com/docs/models#gpt-4o-mini\n",
    "\n",
    "### reference\n",
    "\n",
    "\n",
    "https://platform.openai.com/docs/guides/prompt-engineering \\\n",
    "https://medium.com/discovery-at-nesta/how-to-use-gpt-4-and-openais-functions-for-text-classification-ad0957be9b25 \\\n",
    "\n"
   ]
  },
  {
   "cell_type": "markdown",
   "id": "baf91d5c-5c11-4011-9ab9-f3ec93a21322",
   "metadata": {},
   "source": [
    "### Imports"
   ]
  },
  {
   "cell_type": "code",
   "execution_count": 17,
   "id": "fd68589e-581f-425d-ae77-f499569e7d6b",
   "metadata": {},
   "outputs": [],
   "source": [
    "import sys\n",
    "import os\n",
    "import pandas as pd\n",
    "import matplotlib.pyplot as plt\n",
    "import seaborn as sns\n",
    "import numpy as np\n",
    "import math\n",
    "\n",
    "import tiktoken\n",
    "import os\n",
    "import openai\n",
    "from openai import OpenAI\n",
    "import json\n",
    "\n",
    "%matplotlib inline"
   ]
  },
  {
   "cell_type": "code",
   "execution_count": 2,
   "id": "933d6ef4-39e2-4421-a5ed-a5071a63eb08",
   "metadata": {},
   "outputs": [],
   "source": [
    "# Add the project root directory (not src) to sys.path\n",
    "sys.path.append(os.path.abspath(\"../data/\"))\n",
    "\n",
    "# Now import the DataLoader class\n",
    "from data_loading import DataLoader\n",
    "\n",
    "raw = '../../data/RAW/'\n",
    "clean = '../../data/CLEAN'"
   ]
  },
  {
   "cell_type": "markdown",
   "id": "981aed4f-5397-4b14-abec-711e8318f8ad",
   "metadata": {
    "jp-MarkdownHeadingCollapsed": true
   },
   "source": [
    "## Load and prepare the data"
   ]
  },
  {
   "cell_type": "code",
   "execution_count": 3,
   "id": "2952f26a-97ec-474e-8c5a-f99f942b23b6",
   "metadata": {
    "scrolled": true
   },
   "outputs": [
    {
     "name": "stdout",
     "output_type": "stream",
     "text": [
      "\n",
      "load plot data\n",
      "\n"
     ]
    },
    {
     "data": {
      "text/html": [
       "<div>\n",
       "<style scoped>\n",
       "    .dataframe tbody tr th:only-of-type {\n",
       "        vertical-align: middle;\n",
       "    }\n",
       "\n",
       "    .dataframe tbody tr th {\n",
       "        vertical-align: top;\n",
       "    }\n",
       "\n",
       "    .dataframe thead th {\n",
       "        text-align: right;\n",
       "    }\n",
       "</style>\n",
       "<table border=\"1\" class=\"dataframe\">\n",
       "  <thead>\n",
       "    <tr style=\"text-align: right;\">\n",
       "      <th></th>\n",
       "      <th>Plot</th>\n",
       "    </tr>\n",
       "    <tr>\n",
       "      <th>Wikipedia movie ID</th>\n",
       "      <th></th>\n",
       "    </tr>\n",
       "  </thead>\n",
       "  <tbody>\n",
       "    <tr>\n",
       "      <th>23890098</th>\n",
       "      <td>Shlykov, a hard-working taxi driver and Lyosha...</td>\n",
       "    </tr>\n",
       "    <tr>\n",
       "      <th>31186339</th>\n",
       "      <td>The nation of Panem consists of a wealthy Capi...</td>\n",
       "    </tr>\n",
       "    <tr>\n",
       "      <th>20663735</th>\n",
       "      <td>Poovalli Induchoodan  is sentenced for six yea...</td>\n",
       "    </tr>\n",
       "    <tr>\n",
       "      <th>2231378</th>\n",
       "      <td>The Lemon Drop Kid , a New York City swindler,...</td>\n",
       "    </tr>\n",
       "    <tr>\n",
       "      <th>595909</th>\n",
       "      <td>Seventh-day Adventist Church pastor Michael Ch...</td>\n",
       "    </tr>\n",
       "    <tr>\n",
       "      <th>...</th>\n",
       "      <td>...</td>\n",
       "    </tr>\n",
       "    <tr>\n",
       "      <th>34808485</th>\n",
       "      <td>The story is about Reema , a young Muslim scho...</td>\n",
       "    </tr>\n",
       "    <tr>\n",
       "      <th>1096473</th>\n",
       "      <td>In 1928 Hollywood, director Leo Andreyev  look...</td>\n",
       "    </tr>\n",
       "    <tr>\n",
       "      <th>35102018</th>\n",
       "      <td>American Luthier focuses on Randy Parsons’ tra...</td>\n",
       "    </tr>\n",
       "    <tr>\n",
       "      <th>8628195</th>\n",
       "      <td>Abdur Rehman Khan , a middle-aged dry fruit se...</td>\n",
       "    </tr>\n",
       "    <tr>\n",
       "      <th>6040782</th>\n",
       "      <td>1940 - Operation Dynamo has just taken place. ...</td>\n",
       "    </tr>\n",
       "  </tbody>\n",
       "</table>\n",
       "<p>42303 rows × 1 columns</p>\n",
       "</div>"
      ],
      "text/plain": [
       "                                                                 Plot\n",
       "Wikipedia movie ID                                                   \n",
       "23890098            Shlykov, a hard-working taxi driver and Lyosha...\n",
       "31186339            The nation of Panem consists of a wealthy Capi...\n",
       "20663735            Poovalli Induchoodan  is sentenced for six yea...\n",
       "2231378             The Lemon Drop Kid , a New York City swindler,...\n",
       "595909              Seventh-day Adventist Church pastor Michael Ch...\n",
       "...                                                               ...\n",
       "34808485            The story is about Reema , a young Muslim scho...\n",
       "1096473             In 1928 Hollywood, director Leo Andreyev  look...\n",
       "35102018            American Luthier focuses on Randy Parsons’ tra...\n",
       "8628195             Abdur Rehman Khan , a middle-aged dry fruit se...\n",
       "6040782             1940 - Operation Dynamo has just taken place. ...\n",
       "\n",
       "[42303 rows x 1 columns]"
      ]
     },
     "execution_count": 3,
     "metadata": {},
     "output_type": "execute_result"
    }
   ],
   "source": [
    "#load the data\n",
    "data_loader = DataLoader(raw,clean)\n",
    "CleanData = data_loader.clean_movie_data()\n",
    "PlotData = data_loader.plot_data()\n",
    "PlotData"
   ]
  },
  {
   "cell_type": "code",
   "execution_count": 4,
   "id": "dbe60af0-6e8a-46fd-aac6-e34ba9f2c740",
   "metadata": {},
   "outputs": [
    {
     "data": {
      "text/html": [
       "<div>\n",
       "<style scoped>\n",
       "    .dataframe tbody tr th:only-of-type {\n",
       "        vertical-align: middle;\n",
       "    }\n",
       "\n",
       "    .dataframe tbody tr th {\n",
       "        vertical-align: top;\n",
       "    }\n",
       "\n",
       "    .dataframe thead th {\n",
       "        text-align: right;\n",
       "    }\n",
       "</style>\n",
       "<table border=\"1\" class=\"dataframe\">\n",
       "  <thead>\n",
       "    <tr style=\"text-align: right;\">\n",
       "      <th></th>\n",
       "      <th>Unnamed: 0</th>\n",
       "      <th>Violence level</th>\n",
       "      <th>Label</th>\n",
       "    </tr>\n",
       "  </thead>\n",
       "  <tbody>\n",
       "    <tr>\n",
       "      <th>0</th>\n",
       "      <td>0</td>\n",
       "      <td>Low</td>\n",
       "      <td>-1</td>\n",
       "    </tr>\n",
       "    <tr>\n",
       "      <th>1</th>\n",
       "      <td>1</td>\n",
       "      <td>Medium/not sure</td>\n",
       "      <td>0</td>\n",
       "    </tr>\n",
       "    <tr>\n",
       "      <th>2</th>\n",
       "      <td>2</td>\n",
       "      <td>Violent</td>\n",
       "      <td>1</td>\n",
       "    </tr>\n",
       "  </tbody>\n",
       "</table>\n",
       "</div>"
      ],
      "text/plain": [
       "   Unnamed: 0   Violence level  Label\n",
       "0           0              Low     -1\n",
       "1           1  Medium/not sure      0\n",
       "2           2          Violent      1"
      ]
     },
     "metadata": {},
     "output_type": "display_data"
    },
    {
     "data": {
      "text/html": [
       "<div>\n",
       "<style scoped>\n",
       "    .dataframe tbody tr th:only-of-type {\n",
       "        vertical-align: middle;\n",
       "    }\n",
       "\n",
       "    .dataframe tbody tr th {\n",
       "        vertical-align: top;\n",
       "    }\n",
       "\n",
       "    .dataframe thead th {\n",
       "        text-align: right;\n",
       "    }\n",
       "</style>\n",
       "<table border=\"1\" class=\"dataframe\">\n",
       "  <thead>\n",
       "    <tr style=\"text-align: right;\">\n",
       "      <th></th>\n",
       "      <th>Answer</th>\n",
       "      <th>Date</th>\n",
       "    </tr>\n",
       "    <tr>\n",
       "      <th>Wikipedia movie ID</th>\n",
       "      <th></th>\n",
       "      <th></th>\n",
       "    </tr>\n",
       "  </thead>\n",
       "  <tbody>\n",
       "    <tr>\n",
       "      <th>113454</th>\n",
       "      <td>0.0</td>\n",
       "      <td>12.11</td>\n",
       "    </tr>\n",
       "    <tr>\n",
       "      <th>2295249</th>\n",
       "      <td>0.0</td>\n",
       "      <td>12.11</td>\n",
       "    </tr>\n",
       "    <tr>\n",
       "      <th>2967223</th>\n",
       "      <td>1.0</td>\n",
       "      <td>11.11</td>\n",
       "    </tr>\n",
       "    <tr>\n",
       "      <th>3868321</th>\n",
       "      <td>-1.0</td>\n",
       "      <td>12.11</td>\n",
       "    </tr>\n",
       "    <tr>\n",
       "      <th>4481850</th>\n",
       "      <td>0.0</td>\n",
       "      <td>11.11</td>\n",
       "    </tr>\n",
       "  </tbody>\n",
       "</table>\n",
       "</div>"
      ],
      "text/plain": [
       "                    Answer  Date \n",
       "Wikipedia movie ID               \n",
       "113454                 0.0  12.11\n",
       "2295249                0.0  12.11\n",
       "2967223                1.0  11.11\n",
       "3868321               -1.0  12.11\n",
       "4481850                0.0  11.11"
      ]
     },
     "metadata": {},
     "output_type": "display_data"
    }
   ],
   "source": [
    "#load the labelled data\n",
    "ViolentLabel,ViolentData = data_loader.human_labelled_data()\n",
    "display(ViolentLabel)\n",
    "display(ViolentData.head())"
   ]
  },
  {
   "cell_type": "code",
   "execution_count": 5,
   "id": "0838f0fa-9ed2-4105-aa28-7c476af5de52",
   "metadata": {},
   "outputs": [
    {
     "data": {
      "text/html": [
       "<div>\n",
       "<style scoped>\n",
       "    .dataframe tbody tr th:only-of-type {\n",
       "        vertical-align: middle;\n",
       "    }\n",
       "\n",
       "    .dataframe tbody tr th {\n",
       "        vertical-align: top;\n",
       "    }\n",
       "\n",
       "    .dataframe thead th {\n",
       "        text-align: right;\n",
       "    }\n",
       "</style>\n",
       "<table border=\"1\" class=\"dataframe\">\n",
       "  <thead>\n",
       "    <tr style=\"text-align: right;\">\n",
       "      <th></th>\n",
       "      <th>Plot</th>\n",
       "    </tr>\n",
       "    <tr>\n",
       "      <th>Wikipedia movie ID</th>\n",
       "      <th></th>\n",
       "    </tr>\n",
       "  </thead>\n",
       "  <tbody>\n",
       "    <tr>\n",
       "      <th>113454</th>\n",
       "      <td>The film tells the story of a mob hit man  and...</td>\n",
       "    </tr>\n",
       "    <tr>\n",
       "      <th>2295249</th>\n",
       "      <td>Theresa is one of the twelve jurors who have t...</td>\n",
       "    </tr>\n",
       "    <tr>\n",
       "      <th>2967223</th>\n",
       "      <td>Robert Crain is a German pacifist living in In...</td>\n",
       "    </tr>\n",
       "    <tr>\n",
       "      <th>3868321</th>\n",
       "      <td>Zach  is a soul collector, an angel who collec...</td>\n",
       "    </tr>\n",
       "    <tr>\n",
       "      <th>4481850</th>\n",
       "      <td>Adam, a 23-year-old self-employed security tec...</td>\n",
       "    </tr>\n",
       "  </tbody>\n",
       "</table>\n",
       "</div>"
      ],
      "text/plain": [
       "                                                                 Plot\n",
       "Wikipedia movie ID                                                   \n",
       "113454              The film tells the story of a mob hit man  and...\n",
       "2295249             Theresa is one of the twelve jurors who have t...\n",
       "2967223             Robert Crain is a German pacifist living in In...\n",
       "3868321             Zach  is a soul collector, an angel who collec...\n",
       "4481850             Adam, a 23-year-old self-employed security tec..."
      ]
     },
     "execution_count": 5,
     "metadata": {},
     "output_type": "execute_result"
    }
   ],
   "source": [
    "TestSet = PlotData.loc[ViolentData.index]\n",
    "TestSet.head()"
   ]
  },
  {
   "cell_type": "code",
   "execution_count": 6,
   "id": "568c7b94-b1d7-4367-b10b-c095824ab06f",
   "metadata": {},
   "outputs": [
    {
     "data": {
      "text/plain": [
       "'The film tells the story of a mob hit man  and hit woman  who fall in love, even though they have been hired to kill each other.'"
      ]
     },
     "execution_count": 6,
     "metadata": {},
     "output_type": "execute_result"
    }
   ],
   "source": [
    "TestSet.iloc[0][\"Plot\"]"
   ]
  },
  {
   "cell_type": "code",
   "execution_count": 7,
   "id": "8386a2de-5664-46e4-86a1-e419fcc24f6a",
   "metadata": {},
   "outputs": [],
   "source": [
    "cut = 10\n",
    "ValidationSet = TestSet[:cut]\n",
    "TrainingSet = TestSet[cut+1:]"
   ]
  },
  {
   "cell_type": "code",
   "execution_count": 68,
   "id": "68e6d798-b426-46e0-b9bc-56206de96684",
   "metadata": {},
   "outputs": [
    {
     "data": {
      "text/html": [
       "<div>\n",
       "<style scoped>\n",
       "    .dataframe tbody tr th:only-of-type {\n",
       "        vertical-align: middle;\n",
       "    }\n",
       "\n",
       "    .dataframe tbody tr th {\n",
       "        vertical-align: top;\n",
       "    }\n",
       "\n",
       "    .dataframe thead th {\n",
       "        text-align: right;\n",
       "    }\n",
       "</style>\n",
       "<table border=\"1\" class=\"dataframe\">\n",
       "  <thead>\n",
       "    <tr style=\"text-align: right;\">\n",
       "      <th></th>\n",
       "      <th>Plot</th>\n",
       "    </tr>\n",
       "    <tr>\n",
       "      <th>Wikipedia movie ID</th>\n",
       "      <th></th>\n",
       "    </tr>\n",
       "  </thead>\n",
       "  <tbody>\n",
       "    <tr>\n",
       "      <th>14144257</th>\n",
       "      <td>NW Mounted Police Sgt. Ward is assigned to tra...</td>\n",
       "    </tr>\n",
       "    <tr>\n",
       "      <th>15124157</th>\n",
       "      <td>The film is an examination of libidinous baske...</td>\n",
       "    </tr>\n",
       "    <tr>\n",
       "      <th>15217227</th>\n",
       "      <td>An erotic drama about a writer involved in a p...</td>\n",
       "    </tr>\n",
       "    <tr>\n",
       "      <th>15323823</th>\n",
       "      <td>{{expand section}} The film is set in Hanky Pa...</td>\n",
       "    </tr>\n",
       "    <tr>\n",
       "      <th>16494542</th>\n",
       "      <td>Richard Beck  is a police detective who believ...</td>\n",
       "    </tr>\n",
       "  </tbody>\n",
       "</table>\n",
       "</div>"
      ],
      "text/plain": [
       "                                                                 Plot\n",
       "Wikipedia movie ID                                                   \n",
       "14144257            NW Mounted Police Sgt. Ward is assigned to tra...\n",
       "15124157            The film is an examination of libidinous baske...\n",
       "15217227            An erotic drama about a writer involved in a p...\n",
       "15323823            {{expand section}} The film is set in Hanky Pa...\n",
       "16494542            Richard Beck  is a police detective who believ..."
      ]
     },
     "execution_count": 68,
     "metadata": {},
     "output_type": "execute_result"
    }
   ],
   "source": [
    "TrainingSet.head()"
   ]
  },
  {
   "cell_type": "markdown",
   "id": "82756d24-f692-43cb-86e2-be03c7cc65f9",
   "metadata": {},
   "source": [
    "## LLM - GPT-4-mini"
   ]
  },
  {
   "cell_type": "markdown",
   "id": "06776b7a-ae88-4f82-ad28-df645495be45",
   "metadata": {},
   "source": [
    "### Prompt Ingenieurring"
   ]
  },
  {
   "cell_type": "code",
   "execution_count": 107,
   "id": "41f67d0c-5e42-46db-a26f-134a5f63ee53",
   "metadata": {},
   "outputs": [],
   "source": [
    "Label = \"\"\"\n",
    "- **Peaceful**: The text describes no violence. There are no aggression, conflict, or harm to people or animals. Suitable for all audiences, including children and sensitive viewers. \n",
    "- **Mild**: The level of violence of the text is minimal or uncertain. There might be moments of tension or mild conflict, such as arguments. TMild action or suspense is allowed without explicit harm.\n",
    "- **Violent**: The text describe violence, such as physical aggression, conflict, or harm. Scenes may include fighting, injury, or other intense confrontations. It a prominent feature of the film.\"\n",
    "\"\"\"\n",
    "\n",
    "Instruction = \"The following texts are plot of movies, separated by \\\\ For each plot, assign a level on the violence scale.\"\n",
    "\n",
    "Example = \"**:**  \"\n",
    "\n",
    "Content = f\"{Label}\\n\\n### Instructions ###\\n{Instruction}\"\n"
   ]
  },
  {
   "cell_type": "code",
   "execution_count": 108,
   "id": "62842792-916a-4eba-98fa-7b483def40b8",
   "metadata": {
    "scrolled": true
   },
   "outputs": [
    {
     "name": "stdout",
     "output_type": "stream",
     "text": [
      "\n",
      "- **Peaceful**: The text describes no violence. There are no aggression, conflict, or harm to people or animals. Suitable for all audiences, including children and sensitive viewers. \n",
      "- **Mild**: The level of violence of the text is minimal or uncertain. There might be moments of tension or mild conflict, such as arguments. TMild action or suspense is allowed without explicit harm.\n",
      "- **Violent**: The text describe violence, such as physical aggression, conflict, or harm. Scenes may include fighting, injury, or other intense confrontations. It a prominent feature of the film.\"\n",
      "\n",
      "\n",
      "### Instructions ###\n",
      "The following texts are plot of movies, separated by \\ For each plot, assign a level on the violence scale.\n"
     ]
    }
   ],
   "source": [
    "print(Content)"
   ]
  },
  {
   "cell_type": "markdown",
   "id": "dc631abc-2b79-44a5-97e7-4c4e46f01737",
   "metadata": {},
   "source": [
    "### Verify the number of tokens\n",
    "\n",
    "The model have a maximum number of tokens ! For code fficiency (and money), we would like to avoid having to loop on each plot and recalling the prompt every time. We will look at the number of token to see how many plot we can put at the time. "
   ]
  },
  {
   "cell_type": "code",
   "execution_count": 72,
   "id": "63ebec5f-5b59-4bbc-9178-6c79b4feb627",
   "metadata": {
    "scrolled": true
   },
   "outputs": [
    {
     "name": "stdout",
     "output_type": "stream",
     "text": [
      "For the prompt we have 147 tokens, pricing : 2.205e-05\n",
      "For the test dataset we have 4122 tokens, pricing : 0.00059625 batch 1\n",
      "For the whole dataset we have 8423387 tokens, pricing : 1.26496335 batch 66\n"
     ]
    }
   ],
   "source": [
    "#parameters \n",
    "\n",
    "Model_max = 128000 #maximum imput tokens for the model\n",
    "pricing = 1/1000000*0.150 #price per token\n",
    "encoding = tiktoken.encoding_for_model(\"gpt-4o-mini\") #for gpt-4o-mini\n",
    "\n",
    "def count_tokens(text):\n",
    "    return len(encoding.encode(text))\n",
    "\n",
    "# Count for the prompt\n",
    "TotalPromt = count_tokens(Content)\n",
    "print(\"For the prompt we have\",TotalPromt,\"tokens, pricing :\",TotalPromt*pricing)\n",
    "\n",
    "# Count for the test set\n",
    "TotalTest = TestSet[\"Plot\"].apply(count_tokens).sum()\n",
    "print(\"For the test dataset we have\",TotalTest+TotalPromt,\"tokens, pricing :\",TotalTest*pricing,\"batch\",int(TotalTest/(Model_max-TotalPromt)+1))\n",
    "\n",
    "# Count for the whole dataset\n",
    "TotalData = CleanData[\"Plot\"].apply(count_tokens).sum()\n",
    "batch = int(TotalData/(Model_max-TotalPromt))+1\n",
    "print(\"For the whole dataset we have\",TotalData,\"tokens, pricing :\",(TotalData+batch*TotalPromt)*pricing,\"batch\",batch)"
   ]
  },
  {
   "cell_type": "markdown",
   "id": "6470580c-7749-4acd-993a-c3201127fbb8",
   "metadata": {},
   "source": [
    "### Create Batch"
   ]
  },
  {
   "cell_type": "code",
   "execution_count": 92,
   "id": "e811137d-95c7-425a-ab79-74c6ed4251ce",
   "metadata": {},
   "outputs": [
    {
     "data": {
      "text/plain": [
       "66"
      ]
     },
     "execution_count": 92,
     "metadata": {},
     "output_type": "execute_result"
    }
   ],
   "source": [
    "def batch_plots(Data):\n",
    "    batch = [0]\n",
    "    currentBatch = TotalPromt\n",
    "    for i in range(0,Data.shape[0]):\n",
    "        plot_tokens = count_tokens(Data.iloc[i][\"Plot\"])\n",
    "        if currentBatch + plot_tokens > Model_max:\n",
    "            batch.append(i)\n",
    "            currentBatch = TotalPromt\n",
    "        else:\n",
    "            currentBatch += plot_tokens\n",
    "    return batch\n",
    "\n",
    "clean_batch = batch_plots(CleanData)\n",
    "print(len(clean_batch))"
   ]
  },
  {
   "cell_type": "code",
   "execution_count": 97,
   "id": "df2cf16e-6cb8-489b-94b0-8b3707188668",
   "metadata": {},
   "outputs": [],
   "source": [
    "T = TrainingSet[0:10]"
   ]
  },
  {
   "cell_type": "markdown",
   "id": "6569cab9-c3fb-4aef-899c-cb2d6709deb8",
   "metadata": {},
   "source": [
    "### Assess the model on the training set"
   ]
  },
  {
   "cell_type": "code",
   "execution_count": 109,
   "id": "9d0f0901-b8a5-46cb-a412-fb5f18a18528",
   "metadata": {},
   "outputs": [],
   "source": [
    "Run = True"
   ]
  },
  {
   "cell_type": "code",
   "execution_count": 110,
   "id": "23fe1041-ac33-45a1-865e-f8e08d7dd042",
   "metadata": {},
   "outputs": [],
   "source": [
    "#OpenIA key\n",
    "openai.api_key = os.environ[\"OPENAI_API_KEY\"]\n",
    "client = OpenAI()"
   ]
  },
  {
   "cell_type": "markdown",
   "id": "51b6b2fe-e490-411d-a368-906d0efe08f0",
   "metadata": {},
   "source": [
    "Example of use :\n",
    "\n",
    "```ruby\n",
    "completion = client.chat.completions.create(\n",
    "    model=\"gpt-4o-mini\",\n",
    "    messages=[\n",
    "        {\"role\": \"system\", \"content\": \"You are a helpful assistant.\"},\n",
    "        {\n",
    "            \"role\": \"user\",\n",
    "            \"content\": \"Write a haiku about recursion in programming.\"\n",
    "        }\n",
    "    ]\n",
    ")\n",
    "\n",
    "\n",
    "print(completion.choices[0].message)\n",
    "\n",
    "```"
   ]
  },
  {
   "cell_type": "code",
   "execution_count": 113,
   "id": "de679c8c-0f70-4ed9-a248-d1661287cfed",
   "metadata": {},
   "outputs": [
    {
     "data": {
      "text/plain": [
       "\"\\\\NW Mounted Police Sgt. Ward is assigned to track down a lethal and mysterious villain known only as The Leader, who is trying to locate a secret gold mine in the Indian territory. At the time The Leader made the decision to stop Ward, he pits the Indians against the Mounties, whom he blames for creating trouble in the area.\\\\The film is an examination of libidinous basketball star Hector Bloom , and contrasts his sporting prowess on the court to his bedroom antics. Most notably, Hector has an affair with his favorite professor's wife Olive  that goes nowhere. This, and many other events, occur within a heated early 1970s backdrop of university politics, sporting hijinx, and anti-war sentiments.\\\\An erotic drama about a writer involved in a plagiarism suit who becomes romantically involved with a woman with whom he is connected through dreams.Synopsis from {{cite web}}\\\\{{expand section}} The film is set in Hanky Park, a fictional settlement based on Salford, at the height of the Great Depression.\\\\Richard Beck  is a police detective who believed that rape victims are to blame for the crime. He is later raped by two of the suspects he had been chasing. Ultimately, he changes his beliefs about rape victims. This made for TV movie was groundbreaking in that it portrayed the rape of a man by two other men, and because of this it has become a cult classic.\\\\A mother discovers her daughter Susan is marrying an insufferable social-climber. Already horrified by the idea, she also finds out her son Martin has gone into a life of crime. She decides to head to Paris to forget about her domestic troubles. She marries Richard Elliot, the executor of her late husband's estate.Unsung Divas, The Nest, g.degroat.\\\\Four actors go to a cabin in the woods to write, direct, and act in a film that will jump-start their careers. Their idea is a horror film about a man with a bag over his head, but what happens when that man mysteriously shows up?\\\\Councillor Henry Parker, Secretary of Brightsea Bay Entertainments Committee has to seek out talent for the summer show. He bumps into old British Army comrade Mike Sago and the two reignite their double act.\\\\Panakkara Kudumbam is a movie about how human beings disregard everything, including love and relations for money and power.\\\\A concert pianist, upon discovering she is dying of heart failure, decides to see out her days in Cornwall. While there, she meets an ex-RAF pilot who is going blind and romantic tensions form.\""
      ]
     },
     "execution_count": 113,
     "metadata": {},
     "output_type": "execute_result"
    }
   ],
   "source": [
    "Text = \"\"\n",
    "for plot in T[\"Plot\"] : \n",
    "    Text += \"\\\\\" + plot\n",
    "\n",
    "Text"
   ]
  },
  {
   "cell_type": "code",
   "execution_count": 125,
   "id": "c001425b-08ad-4c54-acc1-213765434beb",
   "metadata": {},
   "outputs": [],
   "source": [
    "function = {\n",
    "   \"name\": \"Assign_violence_level\",\n",
    "   \"description\": \"Predict the level of violence of a movie given its plot\",\n",
    "   \"parameters\": {\n",
    "       \"type\": \"object\",\n",
    "       \"properties\": {\n",
    "           \"prediction\": {\n",
    "               \"type\": \"array\",\n",
    "               \"enum\": [\n",
    "                   \"Peaceful\",\n",
    "                   \"Mild\",\n",
    "                   \"Violent\"\n",
    "               ],\n",
    "               \"description\": \"The level of violence of the movie.\"\n",
    "           }\n",
    "       },\n",
    "       \"required\": [\n",
    "           \"prediction\"\n",
    "       ]\n",
    "   }\n",
    "}"
   ]
  },
  {
   "cell_type": "code",
   "execution_count": 119,
   "id": "fe1bab2f-2b5b-487f-9d8c-f195bdfe69ff",
   "metadata": {},
   "outputs": [],
   "source": [
    "prediction = None\n",
    "\n",
    "if Run :\n",
    "    completion = client.chat.completions.create(\n",
    "        model=\"gpt-4o-mini\",\n",
    "        messages=[\n",
    "            {\"role\": \"system\", \"content\": Content},\n",
    "            {\"role\": \"user\",\"content\": Text}\n",
    "        ],\n",
    "        functions=[function],\n",
    "        function_call={\"name\": \"Assign_violence_level\"},\n",
    "    )"
   ]
  },
  {
   "cell_type": "code",
   "execution_count": 131,
   "id": "3852a0ba-959b-49bc-99f6-e3d30771adf0",
   "metadata": {},
   "outputs": [],
   "source": [
    "#extract the answer\n",
    "try:\n",
    "    #prediction = json.loads(completion.choices[0].message.function_call.arguments)[\"prediction\"]\n",
    "    prediction = completion.choices[0].message\n",
    "except (KeyError, json.JSONDecodeError) as e:\n",
    "    print(f\"Error extracting prediction: {e}\")"
   ]
  },
  {
   "cell_type": "code",
   "execution_count": 132,
   "id": "414dc2f1-d945-4574-82e0-8b17b6a25f5b",
   "metadata": {},
   "outputs": [
    {
     "name": "stdout",
     "output_type": "stream",
     "text": [
      "ChatCompletionMessage(content=None, refusal=None, role='assistant', audio=None, function_call=FunctionCall(arguments='{\"prediction\":\"Mild\"}', name='Assign_violence_level'), tool_calls=None)\n"
     ]
    }
   ],
   "source": [
    "print(prediction)"
   ]
  },
  {
   "cell_type": "markdown",
   "id": "36371fba-e13a-4cd1-809a-d944b3397ee9",
   "metadata": {},
   "source": [
    "### Apply to the whole dataset"
   ]
  },
  {
   "cell_type": "code",
   "execution_count": null,
   "id": "0d80cf0b-382d-4a2c-8d84-f8d4deb2e1d3",
   "metadata": {},
   "outputs": [],
   "source": []
  }
 ],
 "metadata": {
  "kernelspec": {
   "display_name": "Python 3 (ipykernel)",
   "language": "python",
   "name": "python3"
  },
  "language_info": {
   "codemirror_mode": {
    "name": "ipython",
    "version": 3
   },
   "file_extension": ".py",
   "mimetype": "text/x-python",
   "name": "python",
   "nbconvert_exporter": "python",
   "pygments_lexer": "ipython3",
   "version": "3.11.9"
  }
 },
 "nbformat": 4,
 "nbformat_minor": 5
}
