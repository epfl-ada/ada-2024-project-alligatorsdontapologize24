{
 "cells": [
  {
   "cell_type": "markdown",
   "id": "0baccbf6-32d7-4970-9835-bc5130288c78",
   "metadata": {},
   "source": [
    "# Classification with LLM"
   ]
  },
  {
   "cell_type": "markdown",
   "id": "51382b80-7515-49f0-9885-b10c699df18b",
   "metadata": {},
   "source": [
    "So far, we have cleaned the data and performed sentiment analysis as well as a violent word count analysis. Our objective is to categorize the movies on a scale from non-violent to violent.\n",
    "\n",
    "Our approach will be to build a model that labels the dataset.\n",
    "In this Notebook, we will try to label the data using a LLM, namely GPT4mini from OpenIA.\n",
    "\n",
    "## Labeling the Data\n",
    "Since labeled data is required for analysis, we manually labeled a subset of the dataset. We divided part of the data among team members and labeled each movie plot based on a categorical scale:\n",
    "<ul>\n",
    "    <li><b>-1</b> : Peaceful</li>\n",
    "    <li><b>0</b> : Ambiguous (Uncertain level of violence)</li>\n",
    "    <li><b>1</b> : Violent</li>\n",
    "</ul>\n",
    "To assess the subjectivity of the labeling process, we had some plots labeled multiple times by external participants.\n",
    "\n",
    "## Dataset\n",
    "<ul>\n",
    "    <li><b>Training and Testing Data</b> <br/> Given the limited number of labeled plots available, we will use most of the labeled items for the training set. We will keep five plots as the testing set to evaluate the model (alternatively, we may use the entire dataset and assess labeling quality across the final labeled set) </li>\n",
    "    <li><b>Final Dataset</b>  <br/> We will apply the model to label the entire dataset and review the quality of the labels.</li>\n",
    "</ul>\n",
    "\n",
    "## Model\n",
    "\n",
    "https://platform.openai.com/docs/overview\n",
    "\n",
    "### reference\n",
    "\n",
    "https://medium.com/discovery-at-nesta/how-to-use-gpt-4-and-openais-functions-for-text-classification-ad0957be9b25 \\\n",
    "https://platform.openai.com/docs/guides/prompt-engineering\n",
    "\n"
   ]
  },
  {
   "cell_type": "markdown",
   "id": "baf91d5c-5c11-4011-9ab9-f3ec93a21322",
   "metadata": {},
   "source": [
    "### Imports"
   ]
  },
  {
   "cell_type": "code",
   "execution_count": 17,
   "id": "fd68589e-581f-425d-ae77-f499569e7d6b",
   "metadata": {},
   "outputs": [],
   "source": [
    "import sys\n",
    "import os\n",
    "import pandas as pd\n",
    "import matplotlib.pyplot as plt\n",
    "import seaborn as sns\n",
    "import numpy as np\n",
    "import math\n",
    "\n",
    "import tiktoken\n",
    "import os\n",
    "import openai\n",
    "from openai import OpenAI\n",
    "import json\n",
    "\n",
    "%matplotlib inline"
   ]
  },
  {
   "cell_type": "code",
   "execution_count": 2,
   "id": "933d6ef4-39e2-4421-a5ed-a5071a63eb08",
   "metadata": {},
   "outputs": [],
   "source": [
    "# Add the project root directory (not src) to sys.path\n",
    "sys.path.append(os.path.abspath(\"../data/\"))\n",
    "\n",
    "# Now import the DataLoader class\n",
    "from data_loading import DataLoader\n",
    "\n",
    "raw = '../../data/RAW/'\n",
    "clean = '../../data/CLEAN'"
   ]
  },
  {
   "cell_type": "markdown",
   "id": "981aed4f-5397-4b14-abec-711e8318f8ad",
   "metadata": {},
   "source": [
    "## Load and prepare the data"
   ]
  },
  {
   "cell_type": "code",
   "execution_count": 3,
   "id": "2952f26a-97ec-474e-8c5a-f99f942b23b6",
   "metadata": {
    "scrolled": true
   },
   "outputs": [
    {
     "name": "stdout",
     "output_type": "stream",
     "text": [
      "\n",
      "load plot data\n",
      "\n"
     ]
    },
    {
     "data": {
      "text/html": [
       "<div>\n",
       "<style scoped>\n",
       "    .dataframe tbody tr th:only-of-type {\n",
       "        vertical-align: middle;\n",
       "    }\n",
       "\n",
       "    .dataframe tbody tr th {\n",
       "        vertical-align: top;\n",
       "    }\n",
       "\n",
       "    .dataframe thead th {\n",
       "        text-align: right;\n",
       "    }\n",
       "</style>\n",
       "<table border=\"1\" class=\"dataframe\">\n",
       "  <thead>\n",
       "    <tr style=\"text-align: right;\">\n",
       "      <th></th>\n",
       "      <th>Plot</th>\n",
       "    </tr>\n",
       "    <tr>\n",
       "      <th>Wikipedia movie ID</th>\n",
       "      <th></th>\n",
       "    </tr>\n",
       "  </thead>\n",
       "  <tbody>\n",
       "    <tr>\n",
       "      <th>23890098</th>\n",
       "      <td>Shlykov, a hard-working taxi driver and Lyosha...</td>\n",
       "    </tr>\n",
       "    <tr>\n",
       "      <th>31186339</th>\n",
       "      <td>The nation of Panem consists of a wealthy Capi...</td>\n",
       "    </tr>\n",
       "    <tr>\n",
       "      <th>20663735</th>\n",
       "      <td>Poovalli Induchoodan  is sentenced for six yea...</td>\n",
       "    </tr>\n",
       "    <tr>\n",
       "      <th>2231378</th>\n",
       "      <td>The Lemon Drop Kid , a New York City swindler,...</td>\n",
       "    </tr>\n",
       "    <tr>\n",
       "      <th>595909</th>\n",
       "      <td>Seventh-day Adventist Church pastor Michael Ch...</td>\n",
       "    </tr>\n",
       "    <tr>\n",
       "      <th>...</th>\n",
       "      <td>...</td>\n",
       "    </tr>\n",
       "    <tr>\n",
       "      <th>34808485</th>\n",
       "      <td>The story is about Reema , a young Muslim scho...</td>\n",
       "    </tr>\n",
       "    <tr>\n",
       "      <th>1096473</th>\n",
       "      <td>In 1928 Hollywood, director Leo Andreyev  look...</td>\n",
       "    </tr>\n",
       "    <tr>\n",
       "      <th>35102018</th>\n",
       "      <td>American Luthier focuses on Randy Parsons’ tra...</td>\n",
       "    </tr>\n",
       "    <tr>\n",
       "      <th>8628195</th>\n",
       "      <td>Abdur Rehman Khan , a middle-aged dry fruit se...</td>\n",
       "    </tr>\n",
       "    <tr>\n",
       "      <th>6040782</th>\n",
       "      <td>1940 - Operation Dynamo has just taken place. ...</td>\n",
       "    </tr>\n",
       "  </tbody>\n",
       "</table>\n",
       "<p>42303 rows × 1 columns</p>\n",
       "</div>"
      ],
      "text/plain": [
       "                                                                 Plot\n",
       "Wikipedia movie ID                                                   \n",
       "23890098            Shlykov, a hard-working taxi driver and Lyosha...\n",
       "31186339            The nation of Panem consists of a wealthy Capi...\n",
       "20663735            Poovalli Induchoodan  is sentenced for six yea...\n",
       "2231378             The Lemon Drop Kid , a New York City swindler,...\n",
       "595909              Seventh-day Adventist Church pastor Michael Ch...\n",
       "...                                                               ...\n",
       "34808485            The story is about Reema , a young Muslim scho...\n",
       "1096473             In 1928 Hollywood, director Leo Andreyev  look...\n",
       "35102018            American Luthier focuses on Randy Parsons’ tra...\n",
       "8628195             Abdur Rehman Khan , a middle-aged dry fruit se...\n",
       "6040782             1940 - Operation Dynamo has just taken place. ...\n",
       "\n",
       "[42303 rows x 1 columns]"
      ]
     },
     "execution_count": 3,
     "metadata": {},
     "output_type": "execute_result"
    }
   ],
   "source": [
    "#load the data\n",
    "data_loader = DataLoader(raw,clean)\n",
    "CleanData = data_loader.clean_movie_data()\n",
    "PlotData = data_loader.plot_data()\n",
    "PlotData"
   ]
  },
  {
   "cell_type": "code",
   "execution_count": 4,
   "id": "dbe60af0-6e8a-46fd-aac6-e34ba9f2c740",
   "metadata": {},
   "outputs": [
    {
     "data": {
      "text/html": [
       "<div>\n",
       "<style scoped>\n",
       "    .dataframe tbody tr th:only-of-type {\n",
       "        vertical-align: middle;\n",
       "    }\n",
       "\n",
       "    .dataframe tbody tr th {\n",
       "        vertical-align: top;\n",
       "    }\n",
       "\n",
       "    .dataframe thead th {\n",
       "        text-align: right;\n",
       "    }\n",
       "</style>\n",
       "<table border=\"1\" class=\"dataframe\">\n",
       "  <thead>\n",
       "    <tr style=\"text-align: right;\">\n",
       "      <th></th>\n",
       "      <th>Unnamed: 0</th>\n",
       "      <th>Violence level</th>\n",
       "      <th>Label</th>\n",
       "    </tr>\n",
       "  </thead>\n",
       "  <tbody>\n",
       "    <tr>\n",
       "      <th>0</th>\n",
       "      <td>0</td>\n",
       "      <td>Low</td>\n",
       "      <td>-1</td>\n",
       "    </tr>\n",
       "    <tr>\n",
       "      <th>1</th>\n",
       "      <td>1</td>\n",
       "      <td>Medium/not sure</td>\n",
       "      <td>0</td>\n",
       "    </tr>\n",
       "    <tr>\n",
       "      <th>2</th>\n",
       "      <td>2</td>\n",
       "      <td>Violent</td>\n",
       "      <td>1</td>\n",
       "    </tr>\n",
       "  </tbody>\n",
       "</table>\n",
       "</div>"
      ],
      "text/plain": [
       "   Unnamed: 0   Violence level  Label\n",
       "0           0              Low     -1\n",
       "1           1  Medium/not sure      0\n",
       "2           2          Violent      1"
      ]
     },
     "metadata": {},
     "output_type": "display_data"
    },
    {
     "data": {
      "text/html": [
       "<div>\n",
       "<style scoped>\n",
       "    .dataframe tbody tr th:only-of-type {\n",
       "        vertical-align: middle;\n",
       "    }\n",
       "\n",
       "    .dataframe tbody tr th {\n",
       "        vertical-align: top;\n",
       "    }\n",
       "\n",
       "    .dataframe thead th {\n",
       "        text-align: right;\n",
       "    }\n",
       "</style>\n",
       "<table border=\"1\" class=\"dataframe\">\n",
       "  <thead>\n",
       "    <tr style=\"text-align: right;\">\n",
       "      <th></th>\n",
       "      <th>Answer</th>\n",
       "      <th>Date</th>\n",
       "    </tr>\n",
       "    <tr>\n",
       "      <th>Wikipedia movie ID</th>\n",
       "      <th></th>\n",
       "      <th></th>\n",
       "    </tr>\n",
       "  </thead>\n",
       "  <tbody>\n",
       "    <tr>\n",
       "      <th>113454</th>\n",
       "      <td>0.0</td>\n",
       "      <td>12.11</td>\n",
       "    </tr>\n",
       "    <tr>\n",
       "      <th>2295249</th>\n",
       "      <td>0.0</td>\n",
       "      <td>12.11</td>\n",
       "    </tr>\n",
       "    <tr>\n",
       "      <th>2967223</th>\n",
       "      <td>1.0</td>\n",
       "      <td>11.11</td>\n",
       "    </tr>\n",
       "    <tr>\n",
       "      <th>3868321</th>\n",
       "      <td>-1.0</td>\n",
       "      <td>12.11</td>\n",
       "    </tr>\n",
       "    <tr>\n",
       "      <th>4481850</th>\n",
       "      <td>0.0</td>\n",
       "      <td>11.11</td>\n",
       "    </tr>\n",
       "  </tbody>\n",
       "</table>\n",
       "</div>"
      ],
      "text/plain": [
       "                    Answer  Date \n",
       "Wikipedia movie ID               \n",
       "113454                 0.0  12.11\n",
       "2295249                0.0  12.11\n",
       "2967223                1.0  11.11\n",
       "3868321               -1.0  12.11\n",
       "4481850                0.0  11.11"
      ]
     },
     "metadata": {},
     "output_type": "display_data"
    }
   ],
   "source": [
    "#load the labelled data\n",
    "ViolentLabel,ViolentData = data_loader.human_labelled_data()\n",
    "display(ViolentLabel)\n",
    "display(ViolentData.head())"
   ]
  },
  {
   "cell_type": "code",
   "execution_count": 5,
   "id": "0838f0fa-9ed2-4105-aa28-7c476af5de52",
   "metadata": {},
   "outputs": [
    {
     "data": {
      "text/html": [
       "<div>\n",
       "<style scoped>\n",
       "    .dataframe tbody tr th:only-of-type {\n",
       "        vertical-align: middle;\n",
       "    }\n",
       "\n",
       "    .dataframe tbody tr th {\n",
       "        vertical-align: top;\n",
       "    }\n",
       "\n",
       "    .dataframe thead th {\n",
       "        text-align: right;\n",
       "    }\n",
       "</style>\n",
       "<table border=\"1\" class=\"dataframe\">\n",
       "  <thead>\n",
       "    <tr style=\"text-align: right;\">\n",
       "      <th></th>\n",
       "      <th>Plot</th>\n",
       "    </tr>\n",
       "    <tr>\n",
       "      <th>Wikipedia movie ID</th>\n",
       "      <th></th>\n",
       "    </tr>\n",
       "  </thead>\n",
       "  <tbody>\n",
       "    <tr>\n",
       "      <th>113454</th>\n",
       "      <td>The film tells the story of a mob hit man  and...</td>\n",
       "    </tr>\n",
       "    <tr>\n",
       "      <th>2295249</th>\n",
       "      <td>Theresa is one of the twelve jurors who have t...</td>\n",
       "    </tr>\n",
       "    <tr>\n",
       "      <th>2967223</th>\n",
       "      <td>Robert Crain is a German pacifist living in In...</td>\n",
       "    </tr>\n",
       "    <tr>\n",
       "      <th>3868321</th>\n",
       "      <td>Zach  is a soul collector, an angel who collec...</td>\n",
       "    </tr>\n",
       "    <tr>\n",
       "      <th>4481850</th>\n",
       "      <td>Adam, a 23-year-old self-employed security tec...</td>\n",
       "    </tr>\n",
       "  </tbody>\n",
       "</table>\n",
       "</div>"
      ],
      "text/plain": [
       "                                                                 Plot\n",
       "Wikipedia movie ID                                                   \n",
       "113454              The film tells the story of a mob hit man  and...\n",
       "2295249             Theresa is one of the twelve jurors who have t...\n",
       "2967223             Robert Crain is a German pacifist living in In...\n",
       "3868321             Zach  is a soul collector, an angel who collec...\n",
       "4481850             Adam, a 23-year-old self-employed security tec..."
      ]
     },
     "execution_count": 5,
     "metadata": {},
     "output_type": "execute_result"
    }
   ],
   "source": [
    "TestSet = PlotData.loc[ViolentData.index]\n",
    "TestSet.head()"
   ]
  },
  {
   "cell_type": "code",
   "execution_count": 6,
   "id": "568c7b94-b1d7-4367-b10b-c095824ab06f",
   "metadata": {},
   "outputs": [
    {
     "data": {
      "text/plain": [
       "'The film tells the story of a mob hit man  and hit woman  who fall in love, even though they have been hired to kill each other.'"
      ]
     },
     "execution_count": 6,
     "metadata": {},
     "output_type": "execute_result"
    }
   ],
   "source": [
    "TestSet.iloc[0][\"Plot\"]"
   ]
  },
  {
   "cell_type": "code",
   "execution_count": 7,
   "id": "8386a2de-5664-46e4-86a1-e419fcc24f6a",
   "metadata": {},
   "outputs": [],
   "source": [
    "cut = 10\n",
    "ValidationSet = TestSet[:cut]\n",
    "TrainingSet = TestSet[cut+1:]"
   ]
  },
  {
   "cell_type": "markdown",
   "id": "82756d24-f692-43cb-86e2-be03c7cc65f9",
   "metadata": {},
   "source": [
    "## LLM - GPT-4-mini"
   ]
  },
  {
   "cell_type": "code",
   "execution_count": 8,
   "id": "63ebec5f-5b59-4bbc-9178-6c79b4feb627",
   "metadata": {},
   "outputs": [
    {
     "name": "stdout",
     "output_type": "stream",
     "text": [
      "For the whole dataset we have 8533080 tokens, pricing : 1.279962\n",
      "For the test dataset we have 3995 tokens, pricing : 0.00059925\n"
     ]
    }
   ],
   "source": [
    "#access the max number of token we will have to process\n",
    "\n",
    "# Initialize the tokenizer for the GPT-4-based model.\n",
    "tokenizer = tiktoken.get_encoding(\"cl100k_base\")  \n",
    "\n",
    "# Define the tokenize function.\n",
    "def tokenize(text):\n",
    "    tokens = tokenizer.encode(text)\n",
    "    return len(tokens)\n",
    "\n",
    "pricing = 1/1000000*0.150\n",
    "# Apply this tokenizer to your dataset\n",
    "Total = CleanData[\"Plot\"].apply(tokenize).sum()\n",
    "print(\"For the whole dataset we have\",Total,\"tokens, pricing :\",Total*pricing)\n",
    "Total = TestSet[\"Plot\"].apply(tokenize).sum()\n",
    "print(\"For the test dataset we have\",Total,\"tokens, pricing :\",Total*pricing)\n",
    "#careful, will also take into account the prompt and the return"
   ]
  },
  {
   "cell_type": "code",
   "execution_count": 9,
   "id": "23fe1041-ac33-45a1-865e-f8e08d7dd042",
   "metadata": {},
   "outputs": [],
   "source": [
    "#OpenIA key\n",
    "openai.api_key = os.environ[\"OPENAI_API_KEY\"]\n",
    "client = OpenAI()"
   ]
  },
  {
   "cell_type": "markdown",
   "id": "51b6b2fe-e490-411d-a368-906d0efe08f0",
   "metadata": {},
   "source": [
    "Example of use :\n",
    "\n",
    "```ruby\n",
    "completion = client.chat.completions.create(\n",
    "    model=\"gpt-4o-mini\",\n",
    "    messages=[\n",
    "        {\"role\": \"system\", \"content\": \"You are a helpful assistant.\"},\n",
    "        {\n",
    "            \"role\": \"user\",\n",
    "            \"content\": \"Write a haiku about recursion in programming.\"\n",
    "        }\n",
    "    ]\n",
    ")\n",
    "\n",
    "\n",
    "print(completion.choices[0].message)\n",
    "\n",
    "```"
   ]
  },
  {
   "cell_type": "code",
   "execution_count": 33,
   "id": "9d0f0901-b8a5-46cb-a412-fb5f18a18528",
   "metadata": {},
   "outputs": [],
   "source": [
    "Run = True"
   ]
  },
  {
   "cell_type": "code",
   "execution_count": 34,
   "id": "41f67d0c-5e42-46db-a26f-134a5f63ee53",
   "metadata": {},
   "outputs": [],
   "source": [
    "Label = \"\"\"\n",
    "- **Peaceful**: The text describes no violence. There are no aggression, conflict, or harm to people or animals. Suitable for all audiences, including children and sensitive viewers. \n",
    "- **Mild**: The level of violence of the text is minimal or uncertain. There might be moments of tension or mild conflict, such as arguments. TMild action or suspense is allowed without explicit harm.\n",
    "- **Violent**: The text describe violence, such as physical aggression, conflict, or harm. Scenes may include fighting, injury, or other intense confrontations. It a prominent feature of the film.\"\n",
    "\"\"\"\n",
    "\n",
    "Instruction = \"The following text is the plot of a movie, assign it to a level on the violence scale.\"\n",
    "\n",
    "Content = f\"{Label}\\n\\n### Instructions ###\\n{Instruction}\"\n"
   ]
  },
  {
   "cell_type": "code",
   "execution_count": 35,
   "id": "62842792-916a-4eba-98fa-7b483def40b8",
   "metadata": {
    "scrolled": true
   },
   "outputs": [
    {
     "name": "stdout",
     "output_type": "stream",
     "text": [
      "\n",
      "- **Peaceful**: The text describes no violence. There are no aggression, conflict, or harm to people or animals. Suitable for all audiences, including children and sensitive viewers. \n",
      "- **Mild**: The level of violence of the text is minimal or uncertain. There might be moments of tension or mild conflict, such as arguments. TMild action or suspense is allowed without explicit harm.\n",
      "- **Violent**: The text describe violence, such as physical aggression, conflict, or harm. Scenes may include fighting, injury, or other intense confrontations. It a prominent feature of the film.\"\n",
      "\n",
      "\n",
      "### Instructions ###\n",
      "The following text is the plot of a movie, assign it to a level on the violence scale.\n"
     ]
    }
   ],
   "source": [
    "print(Content)"
   ]
  },
  {
   "cell_type": "code",
   "execution_count": 36,
   "id": "de679c8c-0f70-4ed9-a248-d1661287cfed",
   "metadata": {},
   "outputs": [],
   "source": [
    "Text = \"news of the death of the joker during the events of city of scars results in a riot at arkham asylum. batman races to rescue nightwing, who has been abducted by poison ivy and killer croc.\""
   ]
  },
  {
   "cell_type": "code",
   "execution_count": 37,
   "id": "d172d79b-ca0a-4256-b08e-db0d5c7eee57",
   "metadata": {},
   "outputs": [
    {
     "name": "stdout",
     "output_type": "stream",
     "text": [
      "news of the death of the joker during the events of city of scars results in a riot at arkham asylum. batman races to rescue nightwing, who has been abducted by poison ivy and killer croc.\n"
     ]
    }
   ],
   "source": [
    "print(Text)"
   ]
  },
  {
   "cell_type": "code",
   "execution_count": 38,
   "id": "c001425b-08ad-4c54-acc1-213765434beb",
   "metadata": {},
   "outputs": [],
   "source": [
    "function = {\n",
    "   \"name\": \"Assign_violence_level\",\n",
    "   \"description\": \"Predict the level of violence of a movie given its plot\",\n",
    "   \"parameters\": {\n",
    "       \"type\": \"object\",\n",
    "       \"properties\": {\n",
    "           \"prediction\": {\n",
    "               \"type\": \"string\",\n",
    "               \"enum\": [\n",
    "                   \"Peaceful\",\n",
    "                   \"Mild\",\n",
    "                   \"Violent\"\n",
    "               ],\n",
    "               \"description\": \"The level of violence of the movie.\"\n",
    "           }\n",
    "       },\n",
    "       \"required\": [\n",
    "           \"prediction\"\n",
    "       ]\n",
    "   }\n",
    "}"
   ]
  },
  {
   "cell_type": "code",
   "execution_count": 39,
   "id": "fe1bab2f-2b5b-487f-9d8c-f195bdfe69ff",
   "metadata": {},
   "outputs": [
    {
     "ename": "TypeError",
     "evalue": "'ChatCompletionMessage' object is not subscriptable",
     "output_type": "error",
     "traceback": [
      "\u001b[0;31m---------------------------------------------------------------------------\u001b[0m",
      "\u001b[0;31mTypeError\u001b[0m                                 Traceback (most recent call last)",
      "Cell \u001b[0;32mIn[39], line 16\u001b[0m\n\u001b[1;32m     14\u001b[0m \u001b[38;5;66;03m#extract the answer\u001b[39;00m\n\u001b[1;32m     15\u001b[0m \u001b[38;5;28;01mtry\u001b[39;00m:\n\u001b[0;32m---> 16\u001b[0m     prediction \u001b[38;5;241m=\u001b[39m json\u001b[38;5;241m.\u001b[39mloads(completion\u001b[38;5;241m.\u001b[39mchoices[\u001b[38;5;241m0\u001b[39m]\u001b[38;5;241m.\u001b[39mmessage[\u001b[38;5;124m\"\u001b[39m\u001b[38;5;124mfunction_call\u001b[39m\u001b[38;5;124m\"\u001b[39m][\u001b[38;5;124m\"\u001b[39m\u001b[38;5;124marguments\u001b[39m\u001b[38;5;124m\"\u001b[39m])[\u001b[38;5;124m\"\u001b[39m\u001b[38;5;124mprediction\u001b[39m\u001b[38;5;124m\"\u001b[39m]\n\u001b[1;32m     17\u001b[0m \u001b[38;5;28;01mexcept\u001b[39;00m (\u001b[38;5;167;01mKeyError\u001b[39;00m, json\u001b[38;5;241m.\u001b[39mJSONDecodeError) \u001b[38;5;28;01mas\u001b[39;00m e:\n\u001b[1;32m     18\u001b[0m     \u001b[38;5;28mprint\u001b[39m(\u001b[38;5;124mf\u001b[39m\u001b[38;5;124m\"\u001b[39m\u001b[38;5;124mError extracting prediction: \u001b[39m\u001b[38;5;132;01m{\u001b[39;00me\u001b[38;5;132;01m}\u001b[39;00m\u001b[38;5;124m\"\u001b[39m)\n",
      "\u001b[0;31mTypeError\u001b[0m: 'ChatCompletionMessage' object is not subscriptable"
     ]
    }
   ],
   "source": [
    "prediction = None\n",
    "\n",
    "if Run :\n",
    "    completion = client.chat.completions.create(\n",
    "        model=\"gpt-4o-mini\",\n",
    "        messages=[\n",
    "            {\"role\": \"system\", \"content\": Content},\n",
    "            {\"role\": \"user\",\"content\": Text}\n",
    "        ],\n",
    "        functions=[function],\n",
    "        function_call={\"name\": \"Assign_violence_level\"},\n",
    "    )"
   ]
  },
  {
   "cell_type": "code",
   "execution_count": 49,
   "id": "3852a0ba-959b-49bc-99f6-e3d30771adf0",
   "metadata": {},
   "outputs": [],
   "source": [
    "#extract the answer\n",
    "try:\n",
    "    prediction = json.loads(completion.choices[0].message.function_call.arguments)[\"prediction\"]\n",
    "except (KeyError, json.JSONDecodeError) as e:\n",
    "    print(f\"Error extracting prediction: {e}\")"
   ]
  },
  {
   "cell_type": "code",
   "execution_count": 50,
   "id": "414dc2f1-d945-4574-82e0-8b17b6a25f5b",
   "metadata": {},
   "outputs": [
    {
     "name": "stdout",
     "output_type": "stream",
     "text": [
      "Mild\n"
     ]
    }
   ],
   "source": [
    "print(prediction)"
   ]
  },
  {
   "cell_type": "code",
   "execution_count": null,
   "id": "5eda45c4-d8aa-4db5-a7aa-bd8ba28aea3a",
   "metadata": {},
   "outputs": [],
   "source": []
  }
 ],
 "metadata": {
  "kernelspec": {
   "display_name": "Python 3 (ipykernel)",
   "language": "python",
   "name": "python3"
  },
  "language_info": {
   "codemirror_mode": {
    "name": "ipython",
    "version": 3
   },
   "file_extension": ".py",
   "mimetype": "text/x-python",
   "name": "python",
   "nbconvert_exporter": "python",
   "pygments_lexer": "ipython3",
   "version": "3.11.9"
  }
 },
 "nbformat": 4,
 "nbformat_minor": 5
}
