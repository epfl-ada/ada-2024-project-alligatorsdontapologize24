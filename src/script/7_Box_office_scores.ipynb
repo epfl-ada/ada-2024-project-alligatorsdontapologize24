{
 "cells": [
  {
   "cell_type": "code",
   "execution_count": 1,
   "metadata": {},
   "outputs": [],
   "source": [
    "import pandas as pd\n",
    "import seaborn as sns \n",
    "import matplotlib.pyplot as plt\n",
    "import numpy as np\n",
    "\n",
    "import sys\n",
    "import os\n",
    "# Add the project root directory (not src) to sys.path\n",
    "sys.path.append(os.path.abspath(\"../src/data/\"))\n",
    "\n",
    "\n",
    "clean = '../data/CLEAN'\n"
   ]
  },
  {
   "cell_type": "markdown",
   "metadata": {},
   "source": [
    "Cofounder : \"Box office\" refers to total ticket sale revenues, and doesn't include revenues from streaming/VoD/etc. (which could be any amount and are usually unknown). "
   ]
  },
  {
   "cell_type": "markdown",
   "metadata": {},
   "source": [
    "0. 1991-2020 pour FBI data, ... pour GVD data\n",
    "1. stantardiser les box-office \n",
    "2. plot les films au cours des années qui ont un box office au-dessus de la médianne\n",
    "3. plot le genre qui ont le plus de box office \n",
    "4. plot le genre qui est le plus représenté dans les violent data (piechart)\n",
    "5. plot les categories qui le plus représenté dans les violent data (piechart)\n",
    "6. extract the words the most said in the summaries of the violent data \n",
    "7. plot the occurences of the words in the violent data \n",
    "8. Trouver unemployment data\n",
    "9. Visualiser throughout the years real data (GVD, FBI)"
   ]
  },
  {
   "cell_type": "markdown",
   "metadata": {},
   "source": [
    "# Preprocessing "
   ]
  },
  {
   "cell_type": "code",
   "execution_count": null,
   "metadata": {},
   "outputs": [],
   "source": [
    "# Save the DataFrame to a CSV file for the autoregressive model\n",
    "Violent_Movies_autoregressive = pd.readcsv('../../data/CLEAN/Violent_Movies_final.tsv', sep=\"\\t\")\n",
    "Kaggle_movies_metadata = pd.readcsv('../../data/CLEAN/Kaggle_movies_metadata_final.tsv', sep=\"\\t\")\n"
   ]
  },
  {
   "cell_type": "markdown",
   "metadata": {},
   "source": [
    "TODO The loaded data must have no nan (fill with 0), corrspond to the years of the FBI"
   ]
  },
  {
   "cell_type": "markdown",
   "metadata": {},
   "source": [
    "TODO Ensure that all have the same ylim !"
   ]
  },
  {
   "cell_type": "code",
   "execution_count": null,
   "metadata": {},
   "outputs": [],
   "source": [
    "# Sort by year and week to ease further analysis \n",
    "Violent_Movies_autoregressive.sort_values(by=['Year', 'Week'], inplace=True)\n",
    "# We are interested at non-zero box office revenue for visualisation purposes\n",
    "Non_zero_Violent_Movies =Violent_Movies_autoregressive[Violent_Movies_autoregressive[\"Box office revenue\"] != 0]"
   ]
  },
  {
   "cell_type": "code",
   "execution_count": null,
   "metadata": {},
   "outputs": [],
   "source": [
    "Years_violent_movies = Violent_Movies_autoregressive.Year.unique()\n",
    "Years_w_box_office = Non_zero_Violent_Movies.Year.unique()\n",
    "print(\"The range of years for the violent movies that have a box office value is from {} to {}.\".format(Years_w_box_office[0], Years_w_box_office[-1]))\n",
    "print(\"The range of years that we have violent movies is from {} to {}.\".format(Years_violent_movies[0], Years_violent_movies[-1]))"
   ]
  },
  {
   "cell_type": "markdown",
   "metadata": {},
   "source": [
    "We decided to handle this difference of range with two approaches: \n",
    "\n",
    "- Considering only the movies that we have the box office value (First tests)\n",
    "- Inputing the median of all box offices over the full period to the nan value (Jade)\n",
    "- Inputing the rolling median over the number of weeks considered by our ARLD model as maximum (TODO)\n",
    "\n",
    "Note that we tried to fill the missing values with the Kaggle Dataset as we did for the dates but disparities between the two datasets could be observed and thus the decision was made to stick only to CMU data to avoid creating inconsistencies and errors. "
   ]
  },
  {
   "cell_type": "markdown",
   "metadata": {},
   "source": [
    "Here is the attempt of filling with Kaggle dataset : "
   ]
  },
  {
   "cell_type": "code",
   "execution_count": null,
   "metadata": {},
   "outputs": [],
   "source": [
    "#iter on all dataset whethever having the value of box-office or not \n",
    "\n",
    "movie_w_box_office = Violent_Movies_autoregressive.copy()\n",
    "\n",
    "counter_same = 0\n",
    "counter_multiple = 0\n",
    "counter_stay_same = 0\n",
    "counter_diff = 0 \n",
    "counter_less_than_1 = 0\n",
    "counter_save = 0\n",
    "counter_nothing = 0\n",
    "diff_revenue = pd.DataFrame(columns=[\"Title\",\"CMU_revenue\", \"Kaggle_revenue\", \"Diff\",\"Percentage\"])\n",
    "\n",
    "\n",
    "for index, row in Violent_Movies_autoregressive.iterrows() :\n",
    "    # is it in the kaggle dataset ?\n",
    "    kaggle_data = Kaggle_movies_metadata[Kaggle_movies_metadata[\"title\"] == row[\"Movie name\"]]\n",
    "    \n",
    "    if kaggle_data.empty :\n",
    "        if Violent_Movies_autoregressive.loc[index, \"Box office revenue\"]!= 0:\n",
    "            counter_stay_same += 1\n",
    "        else: \n",
    "            counter_nothing += 1\n",
    "            movie_w_box_office.drop([index], inplace=True)\n",
    "\n",
    "    #if yes and only ones \n",
    "    elif kaggle_data.shape[0] == 1 :\n",
    "\n",
    "        if (kaggle_data.iloc[0][\"revenue\"] != 0) and (Violent_Movies_autoregressive.loc[index, \"Box office revenue\"] != 0):\n",
    "            if  kaggle_data.iloc[0][\"revenue\"] == Violent_Movies_autoregressive.loc[index, \"Box office revenue\"]: \n",
    "                counter_same += 1\n",
    "                #print(\"Revenue matched :) \")\n",
    "        \n",
    "\n",
    "            else: \n",
    "                Percentage_diff = np.abs(kaggle_data.iloc[0][\"revenue\"]-Violent_Movies_autoregressive.loc[index, \"Box office revenue\"])/(kaggle_data.iloc[0][\"revenue\"]+Violent_Movies_autoregressive.loc[index, \"Box office revenue\"])\n",
    "                new_row = pd.DataFrame({\"Title\": [row[\"Movie name\"]], \"CMU_revenue\": [Violent_Movies_autoregressive.loc[index, \"Box office revenue\"]],\"Kaggle_revenue\":[kaggle_data.iloc[0][\"revenue\"]], \"Diff\": np.abs(kaggle_data.iloc[0][\"revenue\"]-Violent_Movies_autoregressive.loc[index, \"Box office revenue\"]), \"Percentage\": Percentage_diff})\n",
    "                diff_revenue = pd.concat([diff_revenue, new_row], ignore_index=True)\n",
    "                counter_diff += 1\n",
    "                if Percentage_diff < 0.2:\n",
    "                    counter_less_than_1 += 1\n",
    "                    print(\"Catch up in extremis\")\n",
    "                    Violent_Movies_autoregressive.loc[index, \"Box office revenue\"] = kaggle_data.iloc[0][\"revenue\"]\n",
    "                else: \n",
    "                    movie_w_box_office.drop([index], inplace=True)\n",
    "\n",
    "        elif (kaggle_data.iloc[0][\"revenue\"] != 0) and (Violent_Movies_autoregressive.loc[index, \"Box office revenue\"] == 0):\n",
    "            counter_save += 1\n",
    "            print(\"Save by kaggle\")\n",
    "            Violent_Movies_autoregressive.loc[index, \"Box office revenue\"] = kaggle_data.iloc[0][\"revenue\"]\n",
    "        elif(kaggle_data.iloc[0][\"revenue\"] == 0) and (Violent_Movies_autoregressive.loc[index, \"Box office revenue\"] == 0):\n",
    "            counter_nothing += 1\n",
    "            movie_w_box_office.drop([index], inplace=True)\n",
    "        \n",
    "        elif(kaggle_data.iloc[0][\"revenue\"] == 0) and (Violent_Movies_autoregressive.loc[index, \"Box office revenue\"] != 0):\n",
    "             counter_stay_same += 1\n",
    "\n",
    "            \n",
    "\n",
    "\n",
    "    else: #if multiple movies have this name in the kaggle dataset, compare with the incomplete date of the CMU dataset\n",
    "        counter_multiple += 1\n",
    "        date = Violent_Movies_autoregressive.loc[index, \"Release date\"]\n",
    "        #if not the same year and not the year in the CMU, drop\n",
    "        if pd.isna(date) or len(date) < 4 :\n",
    "            movie_w_box_office.drop([index], inplace=True).drop([index],inplace=True)\n",
    "\n",
    "        #  else, compare\n",
    "        else :\n",
    "            kaggle_data = kaggle_data[kaggle_data['release_date'].str[:4] == date[0:4]]\n",
    "        #found only 1 movie this year ? extract the date !\n",
    "            if kaggle_data.shape[0] == 1 :\n",
    "                if ( kaggle_data.iloc[0][\"revenue\"] == Violent_Movies_autoregressive.loc[index, \"Box office revenue\"]) and (kaggle_data.iloc[0][\"revenue\"] != 0): \n",
    "                    counter_same += 1\n",
    "                elif ( kaggle_data.iloc[0][\"revenue\"] != Violent_Movies_autoregressive.loc[index, \"Box office revenue\"]): \n",
    "                    if (kaggle_data.iloc[0][\"revenue\"] != 0) and (Violent_Movies_autoregressive.loc[index, \"Box office revenue\"] != 0):\n",
    "                        counter_diff += 1\n",
    "                        Percentage_diff = np.abs(kaggle_data.iloc[0][\"revenue\"]-Violent_Movies_autoregressive.loc[index, \"Box office revenue\"])/(kaggle_data.iloc[0][\"revenue\"]+Violent_Movies_autoregressive.loc[index, \"Box office revenue\"])\n",
    "                        new_row = pd.DataFrame({\"Title\": [row[\"Movie name\"]], \"CMU_revenue\": [Violent_Movies_autoregressive.loc[index, \"Box office revenue\"]],\"Kaggle_revenue\":[kaggle_data.iloc[0][\"revenue\"]], \"Diff\": np.abs(kaggle_data.iloc[0][\"revenue\"]-Violent_Movies_autoregressive.loc[index, \"Box office revenue\"]), \"Percentage\": Percentage_diff})\n",
    "                        diff_revenue = pd.concat([diff_revenue, new_row], ignore_index=True)\n",
    "                        if Percentage_diff < 0.2:\n",
    "                            counter_less_than_1 += 1\n",
    "                            print(\"Catch up in extremis\")\n",
    "                            Violent_Movies_autoregressive.loc[index, \"Box office revenue\"] = kaggle_data.iloc[0][\"revenue\"]\n",
    "                        else: \n",
    "                            movie_w_box_office.drop([index], inplace=True)\n",
    "                    elif (kaggle_data.iloc[0][\"revenue\"] != 0) and (Violent_Movies_autoregressive.loc[index, \"Box office revenue\"] == 0):\n",
    "                        counter_save += 1\n",
    "                        print(\"Save by kaggle\")\n",
    "                        Violent_Movies_autoregressive.loc[index, \"Box office revenue\"] = kaggle_data.iloc[0][\"revenue\"]\n",
    "                    \n",
    "                    elif(kaggle_data.iloc[0][\"revenue\"] == 0) and (Violent_Movies_autoregressive.loc[index, \"Box office revenue\"] != 0):\n",
    "                        counter_stay_same += 1\n",
    "                else:\n",
    "                    counter_nothing += 1\n",
    "                    movie_w_box_office.drop([index], inplace=True)\n",
    "            else: \n",
    "                counter_nothing += 1\n",
    "                movie_w_box_office.drop([index], inplace=True)\n",
    "                \n"
   ]
  },
  {
   "cell_type": "code",
   "execution_count": null,
   "metadata": {},
   "outputs": [],
   "source": [
    "print(\"There are {} movies that have less than 1 percents difference\".format(counter_less_than_1))\n",
    "print(\"There are {} matching revenues\".format(counter_same))   \n",
    "print(\"There are {} mismatched revenues, there is a difference between kaggle and cmu\".format(counter_diff))\n",
    "print(\"There are {} unmatch revenues because multiple countries have same title\".format(counter_multiple))\n",
    "print(\"There are {} movies that stay the same \".format(counter_stay_same))\n",
    "print(\"There are {} movies that we have the information\".format(counter_same+counter_stay_same))\n",
    "print(\"There are {} movies that we have the information taking into account 1 percents difference\".format(counter_same+counter_stay_same+counter_less_than_1))\n",
    "print(\"There are {} violent movies in total\".format(len(Violent_Movies_autoregressive)))\n",
    "print(\"We can save {} movies\".format(counter_save))\n",
    "print(\"There are {} movies that we can save\".format(counter_save+counter_same+counter_stay_same+counter_less_than_1))\n",
    "print(\"It correspond to {:%} percentage of violent movies\".format((counter_save+counter_same+counter_stay_same+counter_less_than_1)/len(Violent_Movies_autoregressive)))\n",
    "print(\"All the counters {}\".format(counter_save+counter_same+counter_stay_same+counter_diff+counter_nothing))\n",
    "print(\"If we don't consider Kaggle dataset and only stick to the CMU one we have {:%} movies retained from the original dataset\".format(len(Non_zero_Violent_Movies)/ len(Violent_Movies_autoregressive)*100))"
   ]
  },
  {
   "cell_type": "markdown",
   "metadata": {},
   "source": [
    "Here is the different stantardisation and filling tested: "
   ]
  },
  {
   "cell_type": "code",
   "execution_count": null,
   "metadata": {},
   "outputs": [],
   "source": [
    "def normalise_box_office(extracted_data,window_size=6):\n",
    "\n",
    "    rolling_mean = extracted_data[\"Box office revenue\"].rolling(window=window_size, min_periods=1).mean()\n",
    "    rolling_std = extracted_data[\"Box office revenue\"].rolling(window=window_size, min_periods=1).std().fillna(1) # avoid division by 0 and enable to have 0 as z-score since z-score not applicable in that case\n",
    "    extracted_data.loc[:, 'z_score'] = (extracted_data.count_of_offenses - rolling_mean ) / rolling_std\n",
    "\n",
    "    return extracted_data"
   ]
  },
  {
   "cell_type": "code",
   "execution_count": null,
   "metadata": {},
   "outputs": [],
   "source": [
    "def box_office_extracted(data,year,start_week,stop_week,ratio=False, normalised=False, window_size =6): \n",
    "    extracted_data = data[(data.year==year) & (data.week >=start_week) & (data.week <=stop_week)]\n",
    "    if ratio:\n",
    "        extracted_data = extracted_data[\"Box office revenue\"]/extracted_data[\"Box office revenue\"].max() # ratio on the max value TODO is it really the right way ?\n",
    "    elif normalised:\n",
    "        extracted_data = normalise_box_office(extracted_data,window_size)\n",
    "    else:\n",
    "        extracted_data = extracted_data[\"Box office revenue\"]\n",
    "\n",
    "    return extracted_data"
   ]
  },
  {
   "cell_type": "code",
   "execution_count": null,
   "metadata": {},
   "outputs": [],
   "source": [
    "def aggregated_box_office(data,year, start_week, stop_week, ratio=False, normalised=False, window_size =6):\n",
    "    extracted_data = box_office_extracted(data,year, start_week, stop_week, ratio, normalised, window_size)\n",
    "    Violent_movie_metric = extracted_data.groupby(['Year', 'Week'])[\"Metric\"].sum()\n",
    "    return Violent_movie_metric"
   ]
  },
  {
   "cell_type": "code",
   "execution_count": null,
   "metadata": {},
   "outputs": [],
   "source": [
    "# Example of use  \n",
    "#aggregated_box_office(Non_zero_Violent_Movies,2008,8,10).to_csv(clean+\"/movie_violence_metric.csv\")"
   ]
  },
  {
   "cell_type": "markdown",
   "metadata": {},
   "source": [
    "# Plots "
   ]
  },
  {
   "cell_type": "code",
   "execution_count": null,
   "metadata": {},
   "outputs": [],
   "source": [
    "# Plot on all the years and movies to obtain a first glimpse of the data\n",
    "plt.figure(figsize=(20,10))\n",
    "sns.boxplot(data=Non_zero_Violent_Movies[\"Box office revenue\"])\n",
    "plt.xlabel('Box office revenue')\n",
    "plt.ylabel('Frequency')\n",
    "plt.title('Box office revenue distribution of violent movies from 1991 to 2012')\n",
    "plt.yscale('log')"
   ]
  },
  {
   "cell_type": "code",
   "execution_count": null,
   "metadata": {},
   "outputs": [],
   "source": [
    "# Plot the distribution of box office revenue for violent movies from 1991 to 2012\n",
    "\n",
    "# With Violin plot\n",
    "plt.figure(figsize=(10, 6))\n",
    "sns.catplot(\n",
    "    data=Non_zero_Violent_Movies, x=\"Box office revenue\", y=\"Release date\", kind=\"violin\",\n",
    ")\n",
    "plt.xscale('log')\n",
    "plt.title('Box office revenue distribution of violent movies from 1991 to 2012')\n",
    "plt.show()"
   ]
  },
  {
   "cell_type": "code",
   "execution_count": null,
   "metadata": {},
   "outputs": [],
   "source": [
    "# With Box plot\n",
    "sns.catplot(data=Non_zero_Violent_Movies, y=\"Box office revenue\", x=\"Release date\", kind=\"box\")\n",
    "plt.yscale('log')\n",
    "# Rotating X-axis labels\n",
    "plt.xticks(rotation = 90)\n",
    "plt.show()\n"
   ]
  },
  {
   "cell_type": "code",
   "execution_count": null,
   "metadata": {},
   "outputs": [],
   "source": [
    "# With Line plot\n",
    "sns.relplot(data=Non_zero_Violent_Movies, x=\"Release date\", y=\"Box office revenue\", kind=\"line\")\n",
    "plt.xticks(rotation = 90)\n",
    "plt.yscale('log')\n",
    "plt.show()"
   ]
  }
 ],
 "metadata": {
  "kernelspec": {
   "display_name": "Python 3",
   "language": "python",
   "name": "python3"
  },
  "language_info": {
   "codemirror_mode": {
    "name": "ipython",
    "version": 3
   },
   "file_extension": ".py",
   "mimetype": "text/x-python",
   "name": "python",
   "nbconvert_exporter": "python",
   "pygments_lexer": "ipython3",
   "version": "3.12.7"
  }
 },
 "nbformat": 4,
 "nbformat_minor": 2
}
